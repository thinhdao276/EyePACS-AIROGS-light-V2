{
 "cells": [
  {
   "cell_type": "code",
   "execution_count": 1,
   "id": "042da01d",
   "metadata": {
    "_cell_guid": "b1076dfc-b9ad-4769-8c92-a6c4dae69d19",
    "_uuid": "8f2839f25d086af736a60e9eeb907d3b93b6e0e5",
    "execution": {
     "iopub.execute_input": "2024-06-21T04:25:31.575780Z",
     "iopub.status.busy": "2024-06-21T04:25:31.575011Z",
     "iopub.status.idle": "2024-06-21T04:25:38.752504Z",
     "shell.execute_reply": "2024-06-21T04:25:38.751715Z"
    },
    "papermill": {
     "duration": 7.196148,
     "end_time": "2024-06-21T04:25:38.754832",
     "exception": false,
     "start_time": "2024-06-21T04:25:31.558684",
     "status": "completed"
    },
    "tags": []
   },
   "outputs": [],
   "source": [
    "import albumentations\n",
    "from albumentations.pytorch import ToTensorV2\n",
    "from torchvision import transforms\n",
    "from sklearn.model_selection import train_test_split\n",
    "import torch\n",
    "import numpy as np\n",
    "import os"
   ]
  },
  {
   "cell_type": "code",
   "execution_count": 2,
   "id": "317d132c",
   "metadata": {
    "execution": {
     "iopub.execute_input": "2024-06-21T04:25:38.785282Z",
     "iopub.status.busy": "2024-06-21T04:25:38.784079Z",
     "iopub.status.idle": "2024-06-21T04:25:40.965986Z",
     "shell.execute_reply": "2024-06-21T04:25:40.965178Z"
    },
    "papermill": {
     "duration": 2.199148,
     "end_time": "2024-06-21T04:25:40.968278",
     "exception": false,
     "start_time": "2024-06-21T04:25:38.769130",
     "status": "completed"
    },
    "tags": []
   },
   "outputs": [],
   "source": [
    "import pandas as pd\n",
    "import matplotlib.pyplot as plt\n",
    "import os\n",
    "import seaborn as sns\n",
    "from pathlib import Path\n",
    "from sklearn.model_selection import train_test_split, StratifiedKFold\n",
    "from sklearn.preprocessing import LabelEncoder\n",
    "from sklearn.metrics import classification_report, f1_score, recall_score, precision_score\n",
    "import torch\n",
    "from torch.utils.data import DataLoader, Dataset\n",
    "from torch.utils.data import RandomSampler\n",
    "from PIL import Image\n",
    "import cv2\n",
    "\n",
    "import torch\n",
    "import torch.nn as nn\n",
    "import torchvision.transforms as transforms\n",
    "import torchvision.models as models\n",
    "from torchvision.utils import make_grid\n",
    "from torchvision.datasets import ImageFolder\n",
    "import torch.nn.functional as F\n",
    "import timm\n",
    "\n",
    "from tqdm import tqdm\n",
    "from sklearn.metrics import confusion_matrix\n",
    "\n",
    "from IPython.display import display, HTML\n",
    "import warnings\n",
    "warnings.filterwarnings(\"ignore\")"
   ]
  },
  {
   "cell_type": "markdown",
   "id": "28ee4ad6",
   "metadata": {
    "papermill": {
     "duration": 0.013844,
     "end_time": "2024-06-21T04:25:40.996603",
     "exception": false,
     "start_time": "2024-06-21T04:25:40.982759",
     "status": "completed"
    },
    "tags": []
   },
   "source": [
    "### Pick cropped dataset"
   ]
  },
  {
   "cell_type": "code",
   "execution_count": 3,
   "id": "0cf2b988",
   "metadata": {
    "execution": {
     "iopub.execute_input": "2024-06-21T04:25:41.026824Z",
     "iopub.status.busy": "2024-06-21T04:25:41.026496Z",
     "iopub.status.idle": "2024-06-21T04:25:41.034589Z",
     "shell.execute_reply": "2024-06-21T04:25:41.033755Z"
    },
    "papermill": {
     "duration": 0.02489,
     "end_time": "2024-06-21T04:25:41.036378",
     "exception": false,
     "start_time": "2024-06-21T04:25:41.011488",
     "status": "completed"
    },
    "tags": []
   },
   "outputs": [
    {
     "data": {
      "text/plain": [
       "'/kaggle/input/glaucoma-dataset-eyepacs-airogs-light-v2/eyepac-light-v2-512-jpg'"
      ]
     },
     "execution_count": 3,
     "metadata": {},
     "output_type": "execute_result"
    }
   ],
   "source": [
    "class config:\n",
    "    root_path = '/kaggle/input/glaucoma-dataset-eyepacs-airogs-light-v2/eyepac-light-v2-512-jpg'\n",
    "    train_path = root_path + '/train'\n",
    "    test_path = root_path + '/test'\n",
    "    valid_path = root_path + '/validation'\n",
    "    output_path = \"/kaggle/working/\"\n",
    "    batch_size = 16\n",
    "    lr = 1e-3\n",
    "    seed = 1\n",
    "    num_epochs = 40\n",
    "    model_names = 'swin_base_patch4_window7_224.ms_in1k'\n",
    "    \n",
    "config.root_path"
   ]
  },
  {
   "cell_type": "code",
   "execution_count": 4,
   "id": "890255d2",
   "metadata": {
    "execution": {
     "iopub.execute_input": "2024-06-21T04:25:41.065571Z",
     "iopub.status.busy": "2024-06-21T04:25:41.065306Z",
     "iopub.status.idle": "2024-06-21T04:25:41.070749Z",
     "shell.execute_reply": "2024-06-21T04:25:41.069906Z"
    },
    "papermill": {
     "duration": 0.022225,
     "end_time": "2024-06-21T04:25:41.072640",
     "exception": false,
     "start_time": "2024-06-21T04:25:41.050415",
     "status": "completed"
    },
    "tags": []
   },
   "outputs": [
    {
     "data": {
      "text/plain": [
       "'/kaggle/input/glaucoma-dataset-eyepacs-airogs-light-v2/eyepac-light-v2-512-jpg/train'"
      ]
     },
     "execution_count": 4,
     "metadata": {},
     "output_type": "execute_result"
    }
   ],
   "source": [
    "config.train_path"
   ]
  },
  {
   "cell_type": "code",
   "execution_count": 5,
   "id": "0ed99372",
   "metadata": {
    "execution": {
     "iopub.execute_input": "2024-06-21T04:25:41.102213Z",
     "iopub.status.busy": "2024-06-21T04:25:41.101945Z",
     "iopub.status.idle": "2024-06-21T04:26:00.386372Z",
     "shell.execute_reply": "2024-06-21T04:26:00.385315Z"
    },
    "papermill": {
     "duration": 19.301937,
     "end_time": "2024-06-21T04:26:00.388773",
     "exception": false,
     "start_time": "2024-06-21T04:25:41.086836",
     "status": "completed"
    },
    "tags": []
   },
   "outputs": [],
   "source": [
    "def get_df(path): \n",
    "    paths = Path(path).rglob(\"*.jpg\")\n",
    "    files = [str(path) for path in paths]\n",
    "    labels = [file.split('/')[-2] for file in files]\n",
    "    \n",
    "    df = pd.DataFrame()\n",
    "    df['path'] = files\n",
    "    df['label'] = labels\n",
    "    df['label'] = df['label'].map({'RG':1, 'NRG': 0})\n",
    "    return df\n",
    "\n",
    "# Assuming CFG.path_to_data is set to the correct data path, the following lines will create your dataframes:\n",
    "train_df = get_df(config.train_path)\n",
    "valid_df = get_df(config.valid_path)\n",
    "test_df = get_df(config.test_path)"
   ]
  },
  {
   "cell_type": "code",
   "execution_count": 6,
   "id": "7f70ea97",
   "metadata": {
    "execution": {
     "iopub.execute_input": "2024-06-21T04:26:00.419661Z",
     "iopub.status.busy": "2024-06-21T04:26:00.419364Z",
     "iopub.status.idle": "2024-06-21T04:26:00.433713Z",
     "shell.execute_reply": "2024-06-21T04:26:00.432840Z"
    },
    "papermill": {
     "duration": 0.031352,
     "end_time": "2024-06-21T04:26:00.435626",
     "exception": false,
     "start_time": "2024-06-21T04:26:00.404274",
     "status": "completed"
    },
    "tags": []
   },
   "outputs": [
    {
     "data": {
      "text/html": [
       "<div>\n",
       "<style scoped>\n",
       "    .dataframe tbody tr th:only-of-type {\n",
       "        vertical-align: middle;\n",
       "    }\n",
       "\n",
       "    .dataframe tbody tr th {\n",
       "        vertical-align: top;\n",
       "    }\n",
       "\n",
       "    .dataframe thead th {\n",
       "        text-align: right;\n",
       "    }\n",
       "</style>\n",
       "<table border=\"1\" class=\"dataframe\">\n",
       "  <thead>\n",
       "    <tr style=\"text-align: right;\">\n",
       "      <th></th>\n",
       "      <th>path</th>\n",
       "      <th>label</th>\n",
       "    </tr>\n",
       "  </thead>\n",
       "  <tbody>\n",
       "    <tr>\n",
       "      <th>0</th>\n",
       "      <td>/kaggle/input/glaucoma-dataset-eyepacs-airogs-...</td>\n",
       "      <td>1</td>\n",
       "    </tr>\n",
       "    <tr>\n",
       "      <th>1</th>\n",
       "      <td>/kaggle/input/glaucoma-dataset-eyepacs-airogs-...</td>\n",
       "      <td>1</td>\n",
       "    </tr>\n",
       "    <tr>\n",
       "      <th>2</th>\n",
       "      <td>/kaggle/input/glaucoma-dataset-eyepacs-airogs-...</td>\n",
       "      <td>1</td>\n",
       "    </tr>\n",
       "    <tr>\n",
       "      <th>3</th>\n",
       "      <td>/kaggle/input/glaucoma-dataset-eyepacs-airogs-...</td>\n",
       "      <td>1</td>\n",
       "    </tr>\n",
       "    <tr>\n",
       "      <th>4</th>\n",
       "      <td>/kaggle/input/glaucoma-dataset-eyepacs-airogs-...</td>\n",
       "      <td>1</td>\n",
       "    </tr>\n",
       "    <tr>\n",
       "      <th>...</th>\n",
       "      <td>...</td>\n",
       "      <td>...</td>\n",
       "    </tr>\n",
       "    <tr>\n",
       "      <th>7995</th>\n",
       "      <td>/kaggle/input/glaucoma-dataset-eyepacs-airogs-...</td>\n",
       "      <td>0</td>\n",
       "    </tr>\n",
       "    <tr>\n",
       "      <th>7996</th>\n",
       "      <td>/kaggle/input/glaucoma-dataset-eyepacs-airogs-...</td>\n",
       "      <td>0</td>\n",
       "    </tr>\n",
       "    <tr>\n",
       "      <th>7997</th>\n",
       "      <td>/kaggle/input/glaucoma-dataset-eyepacs-airogs-...</td>\n",
       "      <td>0</td>\n",
       "    </tr>\n",
       "    <tr>\n",
       "      <th>7998</th>\n",
       "      <td>/kaggle/input/glaucoma-dataset-eyepacs-airogs-...</td>\n",
       "      <td>0</td>\n",
       "    </tr>\n",
       "    <tr>\n",
       "      <th>7999</th>\n",
       "      <td>/kaggle/input/glaucoma-dataset-eyepacs-airogs-...</td>\n",
       "      <td>0</td>\n",
       "    </tr>\n",
       "  </tbody>\n",
       "</table>\n",
       "<p>8000 rows × 2 columns</p>\n",
       "</div>"
      ],
      "text/plain": [
       "                                                   path  label\n",
       "0     /kaggle/input/glaucoma-dataset-eyepacs-airogs-...      1\n",
       "1     /kaggle/input/glaucoma-dataset-eyepacs-airogs-...      1\n",
       "2     /kaggle/input/glaucoma-dataset-eyepacs-airogs-...      1\n",
       "3     /kaggle/input/glaucoma-dataset-eyepacs-airogs-...      1\n",
       "4     /kaggle/input/glaucoma-dataset-eyepacs-airogs-...      1\n",
       "...                                                 ...    ...\n",
       "7995  /kaggle/input/glaucoma-dataset-eyepacs-airogs-...      0\n",
       "7996  /kaggle/input/glaucoma-dataset-eyepacs-airogs-...      0\n",
       "7997  /kaggle/input/glaucoma-dataset-eyepacs-airogs-...      0\n",
       "7998  /kaggle/input/glaucoma-dataset-eyepacs-airogs-...      0\n",
       "7999  /kaggle/input/glaucoma-dataset-eyepacs-airogs-...      0\n",
       "\n",
       "[8000 rows x 2 columns]"
      ]
     },
     "execution_count": 6,
     "metadata": {},
     "output_type": "execute_result"
    }
   ],
   "source": [
    "train_df"
   ]
  },
  {
   "cell_type": "code",
   "execution_count": 7,
   "id": "5dbfe85b",
   "metadata": {
    "execution": {
     "iopub.execute_input": "2024-06-21T04:26:00.465898Z",
     "iopub.status.busy": "2024-06-21T04:26:00.465613Z",
     "iopub.status.idle": "2024-06-21T04:26:00.477973Z",
     "shell.execute_reply": "2024-06-21T04:26:00.477159Z"
    },
    "papermill": {
     "duration": 0.029799,
     "end_time": "2024-06-21T04:26:00.479784",
     "exception": false,
     "start_time": "2024-06-21T04:26:00.449985",
     "status": "completed"
    },
    "tags": []
   },
   "outputs": [],
   "source": [
    "from PIL import Image\n",
    "import os\n",
    "import torch\n",
    "from sklearn.model_selection import train_test_split\n",
    "\n",
    "    \n",
    "# define a data class\n",
    "class ClassificationDataset:\n",
    "    def __init__(self, data, data_path, transform, training=True):\n",
    "        \"\"\"Define the dataset for classification problems\n",
    "\n",
    "        Args:\n",
    "            data ([dataframe]): [a dataframe that contain 2 columns: image name and label]\n",
    "            data_path ([str]): [path/to/folder that contains image file]\n",
    "            transform : [augmentation methods and transformation of images]\n",
    "            training (bool, optional): []. Defaults to True.\n",
    "        \"\"\"\n",
    "        self.data = data\n",
    "        self.imgs = data[\"path\"].unique().tolist()\n",
    "        self.data_path = data_path\n",
    "        self.training = training\n",
    "        self.transform = transform\n",
    "\n",
    "    def __getitem__(self, idx):\n",
    "        img = Image.open(os.path.join(self.data_path, self.data.iloc[idx, 0]))\n",
    "        if(self.training):\n",
    "            label = self.data.iloc[idx, 1]\n",
    "        if self.transform is not None:\n",
    "            img = self.transform(img)\n",
    "        if(self.training):\n",
    "            return img, label\n",
    "        else:\n",
    "            return img\n",
    "\n",
    "    def __len__(self):\n",
    "        return len(self.imgs)\n",
    "\n",
    "\n",
    "def make_loader(dataset, train_batch_size, validation_split=0.2):\n",
    "    \"\"\"make dataloader for pytorch training\n",
    "\n",
    "    Args:\n",
    "        dataset ([object]): [the dataset object]\n",
    "        train_batch_size ([int]): [training batch size]\n",
    "        validation_split (float, optional): [validation ratio]. Defaults to 0.2.\n",
    "\n",
    "    Returns:\n",
    "        [type]: [description]\n",
    "    \"\"\"\n",
    "    # number of samples in train and test set\n",
    "    train_len = int(len(dataset) * (1 - validation_split))\n",
    "    test_len = len(dataset) - train_len\n",
    "    train_set, test_set = torch.utils.data.random_split(dataset, [train_len, test_len])\n",
    "    # create train_loader\n",
    "    print(len(train_set))\n",
    "    train_loader = torch.utils.data.DataLoader(\n",
    "        train_set, batch_size=train_batch_size, shuffle=True,\n",
    "    )\n",
    "    # create test_loader\n",
    "    test_loader = torch.utils.data.DataLoader(test_set, batch_size=1, shuffle=False,)\n",
    "    return train_loader, test_loader\n",
    "\n",
    "\n",
    "def data_split(data, test_size):\n",
    "    x_train, x_test, y_train, y_test = train_test_split(\n",
    "        data, data[\"label\"], test_size=test_size, stratify = data.iloc[:,1]\n",
    "    )\n",
    "    return x_train, x_test, y_train, y_test"
   ]
  },
  {
   "cell_type": "markdown",
   "id": "4702ef5b",
   "metadata": {
    "papermill": {
     "duration": 0.014059,
     "end_time": "2024-06-21T04:26:00.508110",
     "exception": false,
     "start_time": "2024-06-21T04:26:00.494051",
     "status": "completed"
    },
    "tags": []
   },
   "source": [
    "# 1. Define DataLoader"
   ]
  },
  {
   "cell_type": "code",
   "execution_count": 8,
   "id": "d4aee610",
   "metadata": {
    "execution": {
     "iopub.execute_input": "2024-06-21T04:26:00.538177Z",
     "iopub.status.busy": "2024-06-21T04:26:00.537590Z",
     "iopub.status.idle": "2024-06-21T04:26:00.541670Z",
     "shell.execute_reply": "2024-06-21T04:26:00.540834Z"
    },
    "papermill": {
     "duration": 0.021048,
     "end_time": "2024-06-21T04:26:00.543558",
     "exception": false,
     "start_time": "2024-06-21T04:26:00.522510",
     "status": "completed"
    },
    "tags": []
   },
   "outputs": [],
   "source": [
    "mean = (0.5, 0.5, 0.5)\n",
    "std = (0.5, 0.5, 0.5)"
   ]
  },
  {
   "cell_type": "code",
   "execution_count": 9,
   "id": "5d1c8dbe",
   "metadata": {
    "execution": {
     "iopub.execute_input": "2024-06-21T04:26:00.574376Z",
     "iopub.status.busy": "2024-06-21T04:26:00.574087Z",
     "iopub.status.idle": "2024-06-21T04:26:00.578923Z",
     "shell.execute_reply": "2024-06-21T04:26:00.578054Z"
    },
    "papermill": {
     "duration": 0.021793,
     "end_time": "2024-06-21T04:26:00.580763",
     "exception": false,
     "start_time": "2024-06-21T04:26:00.558970",
     "status": "completed"
    },
    "tags": []
   },
   "outputs": [],
   "source": [
    "import torchvision\n",
    "transform = torchvision.transforms.Compose([torchvision.transforms.Resize((224, 224)),\n",
    "                                               torchvision.transforms.ToTensor(),\n",
    "                                               torchvision.transforms.Normalize(mean, std)])"
   ]
  },
  {
   "cell_type": "code",
   "execution_count": 10,
   "id": "09275ae2",
   "metadata": {
    "execution": {
     "iopub.execute_input": "2024-06-21T04:26:00.610719Z",
     "iopub.status.busy": "2024-06-21T04:26:00.610176Z",
     "iopub.status.idle": "2024-06-21T04:26:00.614892Z",
     "shell.execute_reply": "2024-06-21T04:26:00.614027Z"
    },
    "papermill": {
     "duration": 0.021321,
     "end_time": "2024-06-21T04:26:00.616642",
     "exception": false,
     "start_time": "2024-06-21T04:26:00.595321",
     "status": "completed"
    },
    "tags": []
   },
   "outputs": [],
   "source": [
    "test_transform = torchvision.transforms.Compose([torchvision.transforms.Resize((224, 224)),\n",
    "                                               torchvision.transforms.ToTensor(),\n",
    "                                               torchvision.transforms.Normalize(mean, std)])"
   ]
  },
  {
   "cell_type": "code",
   "execution_count": 11,
   "id": "d50712fc",
   "metadata": {
    "execution": {
     "iopub.execute_input": "2024-06-21T04:26:00.646602Z",
     "iopub.status.busy": "2024-06-21T04:26:00.646064Z",
     "iopub.status.idle": "2024-06-21T04:26:00.675202Z",
     "shell.execute_reply": "2024-06-21T04:26:00.673937Z"
    },
    "papermill": {
     "duration": 0.04611,
     "end_time": "2024-06-21T04:26:00.677097",
     "exception": false,
     "start_time": "2024-06-21T04:26:00.630987",
     "status": "completed"
    },
    "tags": []
   },
   "outputs": [
    {
     "name": "stdout",
     "output_type": "stream",
     "text": [
      "6400\n"
     ]
    }
   ],
   "source": [
    "dataset = ClassificationDataset(train_df,data_path = \"\",transform=transform,training=True)\n",
    "train_loader,val_loader = make_loader(dataset, train_batch_size=config.batch_size, validation_split=0.2)"
   ]
  },
  {
   "cell_type": "code",
   "execution_count": 12,
   "id": "f9484cce",
   "metadata": {
    "execution": {
     "iopub.execute_input": "2024-06-21T04:26:00.707251Z",
     "iopub.status.busy": "2024-06-21T04:26:00.706933Z",
     "iopub.status.idle": "2024-06-21T04:26:00.712078Z",
     "shell.execute_reply": "2024-06-21T04:26:00.711028Z"
    },
    "papermill": {
     "duration": 0.022187,
     "end_time": "2024-06-21T04:26:00.713980",
     "exception": false,
     "start_time": "2024-06-21T04:26:00.691793",
     "status": "completed"
    },
    "tags": []
   },
   "outputs": [
    {
     "name": "stdout",
     "output_type": "stream",
     "text": [
      "Random seed:  57\n"
     ]
    }
   ],
   "source": [
    "import random\n",
    "\n",
    "# Generate a random integer between 0 and 2^32 - 1\n",
    "random_seed = random.randint(0, 128)\n",
    "print(\"Random seed: \",random_seed)"
   ]
  },
  {
   "cell_type": "code",
   "execution_count": 13,
   "id": "6a15d120",
   "metadata": {
    "execution": {
     "iopub.execute_input": "2024-06-21T04:26:00.744471Z",
     "iopub.status.busy": "2024-06-21T04:26:00.744154Z",
     "iopub.status.idle": "2024-06-21T04:26:00.756115Z",
     "shell.execute_reply": "2024-06-21T04:26:00.755457Z"
    },
    "papermill": {
     "duration": 0.029482,
     "end_time": "2024-06-21T04:26:00.757951",
     "exception": false,
     "start_time": "2024-06-21T04:26:00.728469",
     "status": "completed"
    },
    "tags": []
   },
   "outputs": [],
   "source": [
    " X_train, X_test, y_train, y_test = train_test_split(train_df, train_df['label'],stratify=train_df['label'], test_size=0.2, random_state=random_seed)"
   ]
  },
  {
   "cell_type": "code",
   "execution_count": 14,
   "id": "1a3b0330",
   "metadata": {
    "execution": {
     "iopub.execute_input": "2024-06-21T04:26:00.788233Z",
     "iopub.status.busy": "2024-06-21T04:26:00.787938Z",
     "iopub.status.idle": "2024-06-21T04:26:00.795976Z",
     "shell.execute_reply": "2024-06-21T04:26:00.795271Z"
    },
    "papermill": {
     "duration": 0.025378,
     "end_time": "2024-06-21T04:26:00.797947",
     "exception": false,
     "start_time": "2024-06-21T04:26:00.772569",
     "status": "completed"
    },
    "tags": []
   },
   "outputs": [],
   "source": [
    "train_dataset = ClassificationDataset(X_train,data_path = \"\",transform=transform,training=True)\n",
    "val_dataset = ClassificationDataset(X_test,data_path = \"\",transform=test_transform,training=True)"
   ]
  },
  {
   "cell_type": "code",
   "execution_count": 15,
   "id": "4d85c744",
   "metadata": {
    "execution": {
     "iopub.execute_input": "2024-06-21T04:26:00.828817Z",
     "iopub.status.busy": "2024-06-21T04:26:00.828301Z",
     "iopub.status.idle": "2024-06-21T04:26:00.833252Z",
     "shell.execute_reply": "2024-06-21T04:26:00.832394Z"
    },
    "papermill": {
     "duration": 0.0225,
     "end_time": "2024-06-21T04:26:00.835059",
     "exception": false,
     "start_time": "2024-06-21T04:26:00.812559",
     "status": "completed"
    },
    "tags": []
   },
   "outputs": [],
   "source": [
    "train_loader = torch.utils.data.DataLoader(\n",
    "        train_dataset, batch_size=config.batch_size, shuffle=True,\n",
    "    )\n",
    "    # create test_loader\n",
    "val_loader = torch.utils.data.DataLoader(val_dataset, batch_size=1, shuffle=False)"
   ]
  },
  {
   "cell_type": "code",
   "execution_count": 16,
   "id": "74c8e02c",
   "metadata": {
    "execution": {
     "iopub.execute_input": "2024-06-21T04:26:00.866113Z",
     "iopub.status.busy": "2024-06-21T04:26:00.865814Z",
     "iopub.status.idle": "2024-06-21T04:26:00.871041Z",
     "shell.execute_reply": "2024-06-21T04:26:00.870144Z"
    },
    "papermill": {
     "duration": 0.022913,
     "end_time": "2024-06-21T04:26:00.872878",
     "exception": false,
     "start_time": "2024-06-21T04:26:00.849965",
     "status": "completed"
    },
    "tags": []
   },
   "outputs": [],
   "source": [
    "testset = ClassificationDataset(test_df,data_path = \"\",transform=test_transform,training=False)\n",
    "test_loader = torch.utils.data.DataLoader(\n",
    "        testset, batch_size=1, shuffle=False,\n",
    "    )"
   ]
  },
  {
   "cell_type": "code",
   "execution_count": 17,
   "id": "1d64296f",
   "metadata": {
    "execution": {
     "iopub.execute_input": "2024-06-21T04:26:00.902801Z",
     "iopub.status.busy": "2024-06-21T04:26:00.902534Z",
     "iopub.status.idle": "2024-06-21T04:26:09.751288Z",
     "shell.execute_reply": "2024-06-21T04:26:09.750450Z"
    },
    "papermill": {
     "duration": 8.866325,
     "end_time": "2024-06-21T04:26:09.753518",
     "exception": false,
     "start_time": "2024-06-21T04:26:00.887193",
     "status": "completed"
    },
    "tags": []
   },
   "outputs": [
    {
     "name": "stderr",
     "output_type": "stream",
     "text": [
      "100%|██████████| 770/770 [00:08<00:00, 87.53it/s]\n"
     ]
    }
   ],
   "source": [
    "from tqdm import tqdm\n",
    "psum    = torch.tensor([0.0, 0.0, 0.0])\n",
    "psum_sq = torch.tensor([0.0, 0.0, 0.0])\n",
    "\n",
    "# loop through images\n",
    "for inputs in tqdm(test_loader):\n",
    "    psum    += inputs.sum(axis        = [0, 2, 3])\n",
    "    psum_sq += (inputs ** 2).sum(axis = [0, 2, 3])\n",
    "\n",
    "count = len(test_df) * 224 * 224\n",
    "\n",
    "# mean and std\n",
    "test_mean = psum / count\n",
    "test_var  = (psum_sq / count) - (test_mean ** 2)\n",
    "test_std  = torch.sqrt(test_var)"
   ]
  },
  {
   "cell_type": "code",
   "execution_count": 18,
   "id": "5e98a822",
   "metadata": {
    "execution": {
     "iopub.execute_input": "2024-06-21T04:26:09.797054Z",
     "iopub.status.busy": "2024-06-21T04:26:09.796737Z",
     "iopub.status.idle": "2024-06-21T04:27:24.712066Z",
     "shell.execute_reply": "2024-06-21T04:27:24.710252Z"
    },
    "papermill": {
     "duration": 74.939309,
     "end_time": "2024-06-21T04:27:24.714213",
     "exception": false,
     "start_time": "2024-06-21T04:26:09.774904",
     "status": "completed"
    },
    "tags": []
   },
   "outputs": [
    {
     "name": "stderr",
     "output_type": "stream",
     "text": [
      "100%|██████████| 400/400 [01:14<00:00,  5.34it/s]\n"
     ]
    }
   ],
   "source": [
    "psum    = torch.tensor([0.0, 0.0, 0.0])\n",
    "psum_sq = torch.tensor([0.0, 0.0, 0.0])\n",
    "\n",
    "# loop through images\n",
    "for inputs,_ in tqdm(train_loader):\n",
    "    psum    += inputs.sum(axis        = [0, 2, 3])\n",
    "    psum_sq += (inputs ** 2).sum(axis = [0, 2, 3])\n",
    "\n",
    "count = len(train_loader) * 224 * 224\n",
    "\n",
    "# mean and std\n",
    "train_mean = psum / count\n",
    "train_var  = (psum_sq / count) - (train_mean ** 2)\n",
    "train_std  = torch.sqrt(train_var)"
   ]
  },
  {
   "cell_type": "code",
   "execution_count": 19,
   "id": "1f2acc76",
   "metadata": {
    "execution": {
     "iopub.execute_input": "2024-06-21T04:27:24.821876Z",
     "iopub.status.busy": "2024-06-21T04:27:24.821554Z",
     "iopub.status.idle": "2024-06-21T04:27:24.828304Z",
     "shell.execute_reply": "2024-06-21T04:27:24.827365Z"
    },
    "papermill": {
     "duration": 0.061618,
     "end_time": "2024-06-21T04:27:24.830336",
     "exception": false,
     "start_time": "2024-06-21T04:27:24.768718",
     "status": "completed"
    },
    "tags": []
   },
   "outputs": [],
   "source": [
    "def imshow(inp, title=None):\n",
    "    \"\"\"Imshow for Tensor.\"\"\"\n",
    "    inp = inp.numpy().transpose((1, 2, 0))\n",
    "    mean = np.array([0.485, 0.456, 0.406])\n",
    "    std = np.array([0.229, 0.224, 0.225])\n",
    "    inp = std * inp + mean\n",
    "    inp = np.clip(inp, 0, 1)\n",
    "    plt.figure(figsize = (12, 12))\n",
    "    plt.imshow(inp)\n",
    "    if title is not None:\n",
    "        plt.title(title)\n",
    "    plt.axis(\"off\")\n",
    "    plt.pause(0.001)"
   ]
  },
  {
   "cell_type": "code",
   "execution_count": 20,
   "id": "f3ca6852",
   "metadata": {
    "execution": {
     "iopub.execute_input": "2024-06-21T04:27:24.936923Z",
     "iopub.status.busy": "2024-06-21T04:27:24.936284Z",
     "iopub.status.idle": "2024-06-21T04:27:25.683193Z",
     "shell.execute_reply": "2024-06-21T04:27:25.682471Z"
    },
    "papermill": {
     "duration": 0.801631,
     "end_time": "2024-06-21T04:27:25.685218",
     "exception": false,
     "start_time": "2024-06-21T04:27:24.883587",
     "status": "completed"
    },
    "tags": []
   },
   "outputs": [
    {
     "data": {
      "image/png": "[encoded data removed]",
      "text/plain": [
       "<Figure size 1200x1200 with 1 Axes>"
      ]
     },
     "metadata": {},
     "output_type": "display_data"
    }
   ],
   "source": [
    "import matplotlib.pyplot as plt\n",
    "\n",
    "%matplotlib inline\n",
    "# Visualization\n",
    "images, classes = next(iter(train_loader))\n",
    "# Make a grid from batch\n",
    "out = torchvision.utils.make_grid(images, nrow=8)\n",
    "imshow(out, title=classes)"
   ]
  },
  {
   "cell_type": "markdown",
   "id": "1e3321b5",
   "metadata": {
    "papermill": {
     "duration": 0.056589,
     "end_time": "2024-06-21T04:27:25.799143",
     "exception": false,
     "start_time": "2024-06-21T04:27:25.742554",
     "status": "completed"
    },
    "tags": []
   },
   "source": [
    "# 2. Define Metrics and Optimizers and Loss function\n"
   ]
  },
  {
   "cell_type": "code",
   "execution_count": 21,
   "id": "737a48ec",
   "metadata": {
    "execution": {
     "iopub.execute_input": "2024-06-21T04:27:25.913589Z",
     "iopub.status.busy": "2024-06-21T04:27:25.913215Z",
     "iopub.status.idle": "2024-06-21T04:27:25.922885Z",
     "shell.execute_reply": "2024-06-21T04:27:25.922021Z"
    },
    "papermill": {
     "duration": 0.068765,
     "end_time": "2024-06-21T04:27:25.924910",
     "exception": false,
     "start_time": "2024-06-21T04:27:25.856145",
     "status": "completed"
    },
    "tags": []
   },
   "outputs": [],
   "source": [
    "from sklearn import metrics as skmetrics\n",
    "import numpy\n",
    "class Metrics:\n",
    "    def __init__(self, metric_names):\n",
    "        self.metric_names = metric_names\n",
    "        # initialize a metric dictionary\n",
    "        self.metric_dict = {metric_name: [0] for metric_name in self.metric_names}\n",
    "\n",
    "    def step(self, labels, preds):\n",
    "        for metric in self.metric_names:\n",
    "            # get the metric function\n",
    "            do_metric = getattr(\n",
    "                skmetrics, metric, \"The metric {} is not implemented\".format(metric)\n",
    "            )\n",
    "            # check if metric require average method, if yes set to 'micro' or 'macro' or 'None'\n",
    "            try:\n",
    "                self.metric_dict[metric].append(\n",
    "                    do_metric(labels, preds, average=\"macro\")\n",
    "                )\n",
    "            except:\n",
    "                self.metric_dict[metric].append(do_metric(labels, preds))\n",
    "\n",
    "    def epoch(self):\n",
    "        # calculate metrics for an entire epoch\n",
    "        avg = [sum(metric) / (len(metric) - 1) for metric in self.metric_dict.values()]\n",
    "        metric_as_dict = dict(zip(self.metric_names, avg))\n",
    "        return metric_as_dict\n",
    "\n",
    "    def last_step_metrics(self):\n",
    "        # return metrics of last steps\n",
    "        values = [self.metric_dict[metric][-1] for metric in self.metric_names]\n",
    "        metric_as_dict = dict(zip(self.metric_names, values))\n",
    "        return metric_as_dict"
   ]
  },
  {
   "cell_type": "code",
   "execution_count": 22,
   "id": "ed1cbfb8",
   "metadata": {
    "execution": {
     "iopub.execute_input": "2024-06-21T04:27:26.039091Z",
     "iopub.status.busy": "2024-06-21T04:27:26.038755Z",
     "iopub.status.idle": "2024-06-21T04:27:26.043423Z",
     "shell.execute_reply": "2024-06-21T04:27:26.042453Z"
    },
    "papermill": {
     "duration": 0.06448,
     "end_time": "2024-06-21T04:27:26.045315",
     "exception": false,
     "start_time": "2024-06-21T04:27:25.980835",
     "status": "completed"
    },
    "tags": []
   },
   "outputs": [],
   "source": [
    "train_metrics = Metrics([\"accuracy_score\",\"f1_score\"])\n",
    "val_metrics = Metrics([\"accuracy_score\",\"f1_score\"])"
   ]
  },
  {
   "cell_type": "code",
   "execution_count": 23,
   "id": "8835e03e",
   "metadata": {
    "execution": {
     "iopub.execute_input": "2024-06-21T04:27:26.158612Z",
     "iopub.status.busy": "2024-06-21T04:27:26.157682Z",
     "iopub.status.idle": "2024-06-21T04:27:26.215078Z",
     "shell.execute_reply": "2024-06-21T04:27:26.214273Z"
    },
    "papermill": {
     "duration": 0.116064,
     "end_time": "2024-06-21T04:27:26.217154",
     "exception": false,
     "start_time": "2024-06-21T04:27:26.101090",
     "status": "completed"
    },
    "tags": []
   },
   "outputs": [],
   "source": [
    "device = torch.device(\"cuda:0\" if torch.cuda.is_available() else \"cpu\")\n",
    "from torch import nn\n",
    "# criterion = nn.CrossEntropyLoss()"
   ]
  },
  {
   "cell_type": "code",
   "execution_count": 24,
   "id": "e09d468a",
   "metadata": {
    "execution": {
     "iopub.execute_input": "2024-06-21T04:27:26.332922Z",
     "iopub.status.busy": "2024-06-21T04:27:26.332028Z",
     "iopub.status.idle": "2024-06-21T04:27:26.336594Z",
     "shell.execute_reply": "2024-06-21T04:27:26.335686Z"
    },
    "papermill": {
     "duration": 0.065093,
     "end_time": "2024-06-21T04:27:26.338633",
     "exception": false,
     "start_time": "2024-06-21T04:27:26.273540",
     "status": "completed"
    },
    "tags": []
   },
   "outputs": [],
   "source": [
    "criterion = nn.CrossEntropyLoss()"
   ]
  },
  {
   "cell_type": "code",
   "execution_count": 25,
   "id": "8830d403",
   "metadata": {
    "execution": {
     "iopub.execute_input": "2024-06-21T04:27:26.454483Z",
     "iopub.status.busy": "2024-06-21T04:27:26.453667Z",
     "iopub.status.idle": "2024-06-21T04:27:43.065304Z",
     "shell.execute_reply": "2024-06-21T04:27:43.063972Z"
    },
    "papermill": {
     "duration": 16.671502,
     "end_time": "2024-06-21T04:27:43.067945",
     "exception": false,
     "start_time": "2024-06-21T04:27:26.396443",
     "status": "completed"
    },
    "tags": []
   },
   "outputs": [
    {
     "name": "stdout",
     "output_type": "stream",
     "text": [
      "Found existing installation: timm 1.0.3\r\n",
      "Uninstalling timm-1.0.3:\r\n",
      "  Successfully uninstalled timm-1.0.3\r\n",
      "Collecting timm==0.4.12\r\n",
      "  Downloading timm-0.4.12-py3-none-any.whl.metadata (30 kB)\r\n",
      "Requirement already satisfied: torch>=1.4 in /opt/conda/lib/python3.10/site-packages (from timm==0.4.12) (2.1.2)\r\n",
      "Requirement already satisfied: torchvision in /opt/conda/lib/python3.10/site-packages (from timm==0.4.12) (0.16.2)\r\n",
      "Requirement already satisfied: filelock in /opt/conda/lib/python3.10/site-packages (from torch>=1.4->timm==0.4.12) (3.13.1)\r\n",
      "Requirement already satisfied: typing-extensions in /opt/conda/lib/python3.10/site-packages (from torch>=1.4->timm==0.4.12) (4.9.0)\r\n",
      "Requirement already satisfied: sympy in /opt/conda/lib/python3.10/site-packages (from torch>=1.4->timm==0.4.12) (1.12.1)\r\n",
      "Requirement already satisfied: networkx in /opt/conda/lib/python3.10/site-packages (from torch>=1.4->timm==0.4.12) (3.2.1)\r\n",
      "Requirement already satisfied: jinja2 in /opt/conda/lib/python3.10/site-packages (from torch>=1.4->timm==0.4.12) (3.1.2)\r\n",
      "Requirement already satisfied: fsspec in /opt/conda/lib/python3.10/site-packages (from torch>=1.4->timm==0.4.12) (2024.3.1)\r\n",
      "Requirement already satisfied: numpy in /opt/conda/lib/python3.10/site-packages (from torchvision->timm==0.4.12) (1.26.4)\r\n",
      "Requirement already satisfied: requests in /opt/conda/lib/python3.10/site-packages (from torchvision->timm==0.4.12) (2.32.3)\r\n",
      "Requirement already satisfied: pillow!=8.3.*,>=5.3.0 in /opt/conda/lib/python3.10/site-packages (from torchvision->timm==0.4.12) (9.5.0)\r\n",
      "Requirement already satisfied: MarkupSafe>=2.0 in /opt/conda/lib/python3.10/site-packages (from jinja2->torch>=1.4->timm==0.4.12) (2.1.3)\r\n",
      "Requirement already satisfied: charset-normalizer<4,>=2 in /opt/conda/lib/python3.10/site-packages (from requests->torchvision->timm==0.4.12) (3.3.2)\r\n",
      "Requirement already satisfied: idna<4,>=2.5 in /opt/conda/lib/python3.10/site-packages (from requests->torchvision->timm==0.4.12) (3.6)\r\n",
      "Requirement already satisfied: urllib3<3,>=1.21.1 in /opt/conda/lib/python3.10/site-packages (from requests->torchvision->timm==0.4.12) (1.26.18)\r\n",
      "Requirement already satisfied: certifi>=2017.4.17 in /opt/conda/lib/python3.10/site-packages (from requests->torchvision->timm==0.4.12) (2024.2.2)\r\n",
      "Requirement already satisfied: mpmath<1.4.0,>=1.1.0 in /opt/conda/lib/python3.10/site-packages (from sympy->torch>=1.4->timm==0.4.12) (1.3.0)\r\n",
      "Downloading timm-0.4.12-py3-none-any.whl (376 kB)\r\n",
      "\u001b[2K   \u001b[90m━━━━━━━━━━━━━━━━━━━━━━━━━━━━━━━━━━━━━━━━\u001b[0m \u001b[32m377.0/377.0 kB\u001b[0m \u001b[31m7.3 MB/s\u001b[0m eta \u001b[36m0:00:00\u001b[0m\r\n",
      "\u001b[?25hInstalling collected packages: timm\r\n",
      "Successfully installed timm-0.4.12\r\n"
     ]
    }
   ],
   "source": [
    "!pip uninstall timm -y\n",
    "!pip install timm==0.4.12"
   ]
  },
  {
   "cell_type": "markdown",
   "id": "12974c27",
   "metadata": {
    "papermill": {
     "duration": 0.065387,
     "end_time": "2024-06-21T04:27:43.199365",
     "exception": false,
     "start_time": "2024-06-21T04:27:43.133978",
     "status": "completed"
    },
    "tags": []
   },
   "source": [
    "4. Define the Model: Transfer Learning\n"
   ]
  },
  {
   "cell_type": "code",
   "execution_count": 26,
   "id": "0beb79c2",
   "metadata": {
    "execution": {
     "iopub.execute_input": "2024-06-21T04:27:43.318063Z",
     "iopub.status.busy": "2024-06-21T04:27:43.317345Z",
     "iopub.status.idle": "2024-06-21T04:27:43.322114Z",
     "shell.execute_reply": "2024-06-21T04:27:43.321261Z"
    },
    "papermill": {
     "duration": 0.065046,
     "end_time": "2024-06-21T04:27:43.324106",
     "exception": false,
     "start_time": "2024-06-21T04:27:43.259060",
     "status": "completed"
    },
    "tags": []
   },
   "outputs": [],
   "source": [
    "from torchvision import models\n",
    "from torch import nn\n",
    "import timm"
   ]
  },
  {
   "cell_type": "code",
   "execution_count": 27,
   "id": "5b778c3f",
   "metadata": {
    "execution": {
     "iopub.execute_input": "2024-06-21T04:27:43.438922Z",
     "iopub.status.busy": "2024-06-21T04:27:43.438077Z",
     "iopub.status.idle": "2024-06-21T04:27:47.522962Z",
     "shell.execute_reply": "2024-06-21T04:27:47.521988Z"
    },
    "papermill": {
     "duration": 4.144649,
     "end_time": "2024-06-21T04:27:47.525466",
     "exception": false,
     "start_time": "2024-06-21T04:27:43.380817",
     "status": "completed"
    },
    "tags": []
   },
   "outputs": [
    {
     "data": {
      "application/vnd.jupyter.widget-view+json": {
       "model_id": "3fe254f4c0164ff2bcf688acd75af5fb",
       "version_major": 2,
       "version_minor": 0
      },
      "text/plain": [
       "model.safetensors:   0%|          | 0.00/353M [00:00<?, ?B/s]"
      ]
     },
     "metadata": {},
     "output_type": "display_data"
    }
   ],
   "source": [
    "# Tải mô hình Swin Transformer đã được pretrain\n",
    "model = timm.create_model('swin_base_patch4_window7_224', pretrained=True)\n",
    "# Đặt requires_grad = False cho tất cả các tham số của mô hình\n",
    "for param in model.parameters():\n",
    "    param.requires_grad = True\n",
    "# Tạo một bộ phân loại mới\n",
    "classifier = nn.Sequential(\n",
    "    nn.Linear(in_features=model.head.fc.in_features, out_features=256, bias=True),\n",
    "    nn.Linear(in_features=256, out_features=2, bias=True)\n",
    ")\n",
    "# Thay thế bộ phân loại hiện tại của mô hình bằng bộ phân loại mới\n",
    "model.head.fc = classifier"
   ]
  },
  {
   "cell_type": "code",
   "execution_count": 28,
   "id": "b0c9646a",
   "metadata": {
    "execution": {
     "iopub.execute_input": "2024-06-21T04:27:47.640421Z",
     "iopub.status.busy": "2024-06-21T04:27:47.639611Z",
     "iopub.status.idle": "2024-06-21T04:27:47.647740Z",
     "shell.execute_reply": "2024-06-21T04:27:47.646845Z"
    },
    "papermill": {
     "duration": 0.067544,
     "end_time": "2024-06-21T04:27:47.649655",
     "exception": false,
     "start_time": "2024-06-21T04:27:47.582111",
     "status": "completed"
    },
    "tags": []
   },
   "outputs": [],
   "source": [
    "optimizer = torch.optim.Adam(model.parameters(), lr=0.01)\n",
    "scheduler = torch.optim.lr_scheduler.ReduceLROnPlateau(\n",
    "        optimizer, \"min\", patience=2, factor=0.5\n",
    "    )"
   ]
  },
  {
   "cell_type": "markdown",
   "id": "3d482dab",
   "metadata": {
    "papermill": {
     "duration": 0.056296,
     "end_time": "2024-06-21T04:27:47.762939",
     "exception": false,
     "start_time": "2024-06-21T04:27:47.706643",
     "status": "completed"
    },
    "tags": []
   },
   "source": [
    "# 3. Define a training epoch\n"
   ]
  },
  {
   "cell_type": "code",
   "execution_count": 29,
   "id": "35367c42",
   "metadata": {
    "execution": {
     "iopub.execute_input": "2024-06-21T04:27:47.878147Z",
     "iopub.status.busy": "2024-06-21T04:27:47.877825Z",
     "iopub.status.idle": "2024-06-21T04:27:48.157971Z",
     "shell.execute_reply": "2024-06-21T04:27:48.157005Z"
    },
    "papermill": {
     "duration": 0.341669,
     "end_time": "2024-06-21T04:27:48.160787",
     "exception": false,
     "start_time": "2024-06-21T04:27:47.819118",
     "status": "completed"
    },
    "tags": []
   },
   "outputs": [],
   "source": [
    "model = model.to(device)"
   ]
  },
  {
   "cell_type": "code",
   "execution_count": 30,
   "id": "ff46b93b",
   "metadata": {
    "execution": {
     "iopub.execute_input": "2024-06-21T04:27:48.295822Z",
     "iopub.status.busy": "2024-06-21T04:27:48.295368Z",
     "iopub.status.idle": "2024-06-21T04:27:48.316127Z",
     "shell.execute_reply": "2024-06-21T04:27:48.314772Z"
    },
    "papermill": {
     "duration": 0.091624,
     "end_time": "2024-06-21T04:27:48.318985",
     "exception": false,
     "start_time": "2024-06-21T04:27:48.227361",
     "status": "completed"
    },
    "tags": []
   },
   "outputs": [],
   "source": [
    "def train_one_epoch(\n",
    "    model,\n",
    "    train_loader,\n",
    "    test_loader,\n",
    "    device,\n",
    "    optimizer,\n",
    "    criterion,\n",
    "    train_metrics,\n",
    "    val_metrics,\n",
    "):\n",
    "\n",
    "    # training-the-model\n",
    "    train_loss = 0\n",
    "    valid_loss = 0\n",
    "    all_labels = []\n",
    "    all_preds = []\n",
    "    model.train()\n",
    "    for data, target in train_loader:\n",
    "        # move-tensors-to-GPU\n",
    "        data = data.type(torch.FloatTensor).to(device)\n",
    "        # target=torch.Tensor(target)\n",
    "        target = target.float().to(device)\n",
    "        # clear-the-gradients-of-all-optimized-variables\n",
    "        optimizer.zero_grad()\n",
    "        # forward-pass: compute-predicted-outputs-by-passing-inputs-to-the-model\n",
    "        output = model(data)\n",
    "        # get the prediction label and target label\n",
    "        output = model(data)\n",
    "        preds = torch.argmax(output, axis=1).cpu().detach().numpy()\n",
    "        labels = target.cpu().numpy()\n",
    "        # calculate-the-batch-loss\n",
    "        loss = criterion(output.type(torch.FloatTensor).to(device), target.type(torch.LongTensor).to(device))\n",
    "        # backward-pass: compute-gradient-of-the-loss-wrt-model-parameters\n",
    "        loss.backward()\n",
    "        # perform-a-ingle-optimization-step (parameter-update)\n",
    "        optimizer.step()\n",
    "        # update-training-loss\n",
    "        train_loss += loss.item() * data.size(0)\n",
    "        # calculate training metrics\n",
    "        all_labels.extend(labels)\n",
    "        all_preds.extend(preds)\n",
    "    \n",
    "    train_metrics.step(all_labels, all_preds)\n",
    "\n",
    "    # validate-the-model\n",
    "    model.eval()\n",
    "    all_labels = []\n",
    "    all_preds = []\n",
    "    for data, target in test_loader:\n",
    "        data = data.type(torch.FloatTensor).to(device)\n",
    "        target = target.to(device)\n",
    "        output = model(data)\n",
    "        preds = torch.argmax(output, axis=1).tolist()\n",
    "        labels = target.tolist()\n",
    "        all_labels.extend(labels)\n",
    "        all_preds.extend(preds)\n",
    "        loss = criterion(output, target)\n",
    "\n",
    "        # update-average-validation-loss\n",
    "        valid_loss += loss.item() * data.size(0)\n",
    "\n",
    "    val_metrics.step(all_labels, all_preds)\n",
    "    train_loss = train_loss / len(train_loader.sampler)\n",
    "    valid_loss = valid_loss / len(test_loader.sampler)\n",
    "\n",
    "    return (\n",
    "        train_loss,\n",
    "        valid_loss,\n",
    "        train_metrics.last_step_metrics(),\n",
    "        val_metrics.last_step_metrics(),\n",
    "    )"
   ]
  },
  {
   "cell_type": "markdown",
   "id": "3c3e0ded",
   "metadata": {
    "papermill": {
     "duration": 0.057903,
     "end_time": "2024-06-21T04:27:48.443830",
     "exception": false,
     "start_time": "2024-06-21T04:27:48.385927",
     "status": "completed"
    },
    "tags": []
   },
   "source": [
    "# Training"
   ]
  },
  {
   "cell_type": "code",
   "execution_count": 31,
   "id": "87030a29",
   "metadata": {
    "execution": {
     "iopub.execute_input": "2024-06-21T04:27:48.560571Z",
     "iopub.status.busy": "2024-06-21T04:27:48.560104Z",
     "iopub.status.idle": "2024-06-21T04:27:48.565491Z",
     "shell.execute_reply": "2024-06-21T04:27:48.564557Z"
    },
    "papermill": {
     "duration": 0.066596,
     "end_time": "2024-06-21T04:27:48.567535",
     "exception": false,
     "start_time": "2024-06-21T04:27:48.500939",
     "status": "completed"
    },
    "tags": []
   },
   "outputs": [],
   "source": [
    "from tqdm import tqdm\n",
    "from datetime import datetime\n",
    "time_str = str(datetime.now().strftime(\"%Y%m%d-%H%M\"))"
   ]
  },
  {
   "cell_type": "code",
   "execution_count": 32,
   "id": "0b46f738",
   "metadata": {
    "execution": {
     "iopub.execute_input": "2024-06-21T04:27:48.686698Z",
     "iopub.status.busy": "2024-06-21T04:27:48.686347Z",
     "iopub.status.idle": "2024-06-21T07:26:22.161998Z",
     "shell.execute_reply": "2024-06-21T07:26:22.161080Z"
    },
    "papermill": {
     "duration": 10713.602254,
     "end_time": "2024-06-21T07:26:22.228912",
     "exception": false,
     "start_time": "2024-06-21T04:27:48.626658",
     "status": "completed"
    },
    "tags": []
   },
   "outputs": [
    {
     "name": "stdout",
     "output_type": "stream",
     "text": [
      "begin training process\n"
     ]
    },
    {
     "name": "stderr",
     "output_type": "stream",
     "text": [
      "  0%|          | 0/40 [00:00<?, ?it/s]"
     ]
    },
    {
     "name": "stdout",
     "output_type": "stream",
     "text": [
      "Epoch 1 / 40 \n",
      " Training loss: 0.3781540497252718 - Other training metrics: \n",
      "{'accuracy_score': 0.83390625, 'f1_score': 0.8338796407305379}\n",
      " \n",
      " Validation loss : 0.2971037387169054 - Other validation metrics:\n",
      "{'accuracy_score': 0.875625, 'f1_score': 0.8747332080927699}\n",
      "\n",
      "\n",
      "Validation accuracy= 0.875625===> Save best epoch\n"
     ]
    },
    {
     "name": "stderr",
     "output_type": "stream",
     "text": [
      "  2%|▎         | 1/40 [04:41<3:02:53, 281.36s/it]"
     ]
    },
    {
     "name": "stdout",
     "output_type": "stream",
     "text": [
      "Epoch 2 / 40 \n",
      " Training loss: 0.20900417825265322 - Other training metrics: \n",
      "{'accuracy_score': 0.923125, 'f1_score': 0.9231245195282471}\n",
      " \n",
      " Validation loss : 0.20380173625944736 - Other validation metrics:\n",
      "{'accuracy_score': 0.91125, 'f1_score': 0.9112187878551052}\n",
      "\n",
      "\n",
      "Validation accuracy= 0.91125===> Save best epoch\n"
     ]
    },
    {
     "name": "stderr",
     "output_type": "stream",
     "text": [
      "  5%|▌         | 2/40 [09:10<2:53:37, 274.14s/it]"
     ]
    },
    {
     "name": "stdout",
     "output_type": "stream",
     "text": [
      "Epoch 3 / 40 \n",
      " Training loss: 0.1090803429816151 - Other training metrics: \n",
      "{'accuracy_score': 0.9621875, 'f1_score': 0.9621874409178764}\n",
      " \n",
      " Validation loss : 0.30261630838436415 - Other validation metrics:\n",
      "{'accuracy_score': 0.914375, 'f1_score': 0.9143629238341813}\n",
      "\n",
      "\n",
      "Validation accuracy= 0.914375===> Save best epoch\n"
     ]
    },
    {
     "name": "stderr",
     "output_type": "stream",
     "text": [
      "  8%|▊         | 3/40 [13:39<2:47:36, 271.79s/it]"
     ]
    },
    {
     "name": "stdout",
     "output_type": "stream",
     "text": [
      "Epoch 4 / 40 \n",
      " Training loss: 0.07368240197436535 - Other training metrics: \n",
      "{'accuracy_score': 0.97515625, 'f1_score': 0.975156244541167}\n",
      " \n",
      " Validation loss : 0.2959697382630384 - Other validation metrics:\n",
      "{'accuracy_score': 0.915625, 'f1_score': 0.9156247033680978}\n",
      "\n",
      "\n",
      "Validation accuracy= 0.915625===> Save best epoch\n"
     ]
    },
    {
     "name": "stderr",
     "output_type": "stream",
     "text": [
      " 12%|█▎        | 5/40 [22:36<2:37:19, 269.71s/it]"
     ]
    },
    {
     "name": "stdout",
     "output_type": "stream",
     "text": [
      "Epoch 5 / 40 \n",
      " Training loss: 0.046173661144330254 - Other training metrics: \n",
      "{'accuracy_score': 0.984375, 'f1_score': 0.9843749755858993}\n",
      " \n",
      " Validation loss : 0.3252049992415715 - Other validation metrics:\n",
      "{'accuracy_score': 0.91375, 'f1_score': 0.9136117788461537}\n",
      "\n",
      "\n",
      "Validation accuracy= 0.91375===> No saving\n",
      "Epoch 6 / 40 \n",
      " Training loss: 0.04550856446114267 - Other training metrics: \n",
      "{'accuracy_score': 0.98546875, 'f1_score': 0.9854687326164038}\n",
      " \n",
      " Validation loss : 0.35799894106497504 - Other validation metrics:\n",
      "{'accuracy_score': 0.918125, 'f1_score': 0.9180811926377818}\n",
      "\n",
      "\n",
      "Validation accuracy= 0.918125===> Save best epoch\n"
     ]
    },
    {
     "name": "stderr",
     "output_type": "stream",
     "text": [
      " 15%|█▌        | 6/40 [27:05<2:32:48, 269.67s/it]"
     ]
    },
    {
     "name": "stdout",
     "output_type": "stream",
     "text": [
      "Epoch 7 / 40 \n",
      " Training loss: 0.04515228734975608 - Other training metrics: \n",
      "{'accuracy_score': 0.985625, 'f1_score': 0.9856249775390273}\n",
      " \n",
      " Validation loss : 0.3448735195272265 - Other validation metrics:\n",
      "{'accuracy_score': 0.9225, 'f1_score': 0.9224562604844295}\n",
      "\n",
      "\n",
      "Validation accuracy= 0.9225===> Save best epoch\n"
     ]
    },
    {
     "name": "stderr",
     "output_type": "stream",
     "text": [
      " 20%|██        | 8/40 [36:03<2:23:26, 268.96s/it]"
     ]
    },
    {
     "name": "stdout",
     "output_type": "stream",
     "text": [
      "Epoch 8 / 40 \n",
      " Training loss: 0.03852599633827822 - Other training metrics: \n",
      "{'accuracy_score': 0.9878125, 'f1_score': 0.9878124988098143}\n",
      " \n",
      " Validation loss : 0.2823416069652262 - Other validation metrics:\n",
      "{'accuracy_score': 0.920625, 'f1_score': 0.9205825302671624}\n",
      "\n",
      "\n"
     ]
    },
    {
     "name": "stderr",
     "output_type": "stream",
     "text": [
      " 22%|██▎       | 9/40 [40:30<2:18:42, 268.45s/it]"
     ]
    },
    {
     "name": "stdout",
     "output_type": "stream",
     "text": [
      "Epoch 9 / 40 \n",
      " Training loss: 0.027031312941575153 - Other training metrics: \n",
      "{'accuracy_score': 0.99078125, 'f1_score': 0.9907812497749329}\n",
      " \n",
      " Validation loss : 0.34447592269236393 - Other validation metrics:\n",
      "{'accuracy_score': 0.91125, 'f1_score': 0.91123002675602}\n",
      "\n",
      "\n"
     ]
    },
    {
     "name": "stderr",
     "output_type": "stream",
     "text": [
      " 25%|██▌       | 10/40 [44:57<2:14:02, 268.07s/it]"
     ]
    },
    {
     "name": "stdout",
     "output_type": "stream",
     "text": [
      "Epoch 10 / 40 \n",
      " Training loss: 0.0357676807231843 - Other training metrics: \n",
      "{'accuracy_score': 0.98921875, 'f1_score': 0.9892187434196431}\n",
      " \n",
      " Validation loss : 0.3763132571334728 - Other validation metrics:\n",
      "{'accuracy_score': 0.905, 'f1_score': 0.9046567643516661}\n",
      "\n",
      "\n"
     ]
    },
    {
     "name": "stderr",
     "output_type": "stream",
     "text": [
      " 28%|██▊       | 11/40 [49:24<2:09:24, 267.74s/it]"
     ]
    },
    {
     "name": "stdout",
     "output_type": "stream",
     "text": [
      "Epoch 11 / 40 \n",
      " Training loss: 0.03823515519910416 - Other training metrics: \n",
      "{'accuracy_score': 0.98828125, 'f1_score': 0.9882812016485125}\n",
      " \n",
      " Validation loss : 0.4290079022858603 - Other validation metrics:\n",
      "{'accuracy_score': 0.928125, 'f1_score': 0.9280905902238374}\n",
      "\n",
      "\n"
     ]
    },
    {
     "name": "stderr",
     "output_type": "stream",
     "text": [
      " 30%|███       | 12/40 [53:51<2:04:50, 267.53s/it]"
     ]
    },
    {
     "name": "stdout",
     "output_type": "stream",
     "text": [
      "Epoch 12 / 40 \n",
      " Training loss: 0.029698519954856693 - Other training metrics: \n",
      "{'accuracy_score': 0.99140625, 'f1_score': 0.9914062481117244}\n",
      " \n",
      " Validation loss : 0.4623762693956435 - Other validation metrics:\n",
      "{'accuracy_score': 0.92, 'f1_score': 0.9199338202983403}\n",
      "\n",
      "\n"
     ]
    },
    {
     "name": "stderr",
     "output_type": "stream",
     "text": [
      " 32%|███▎      | 13/40 [58:18<2:00:19, 267.40s/it]"
     ]
    },
    {
     "name": "stdout",
     "output_type": "stream",
     "text": [
      "Epoch 13 / 40 \n",
      " Training loss: 0.017169695505055246 - Other training metrics: \n",
      "{'accuracy_score': 0.99453125, 'f1_score': 0.99453124879837}\n",
      " \n",
      " Validation loss : 0.47652964520398067 - Other validation metrics:\n",
      "{'accuracy_score': 0.91375, 'f1_score': 0.9137235778457152}\n",
      "\n",
      "\n"
     ]
    },
    {
     "name": "stderr",
     "output_type": "stream",
     "text": [
      " 35%|███▌      | 14/40 [1:02:47<1:55:58, 267.63s/it]"
     ]
    },
    {
     "name": "stdout",
     "output_type": "stream",
     "text": [
      "Epoch 14 / 40 \n",
      " Training loss: 0.03927864944855173 - Other training metrics: \n",
      "{'accuracy_score': 0.9878125, 'f1_score': 0.9878124988098143}\n",
      " \n",
      " Validation loss : 0.4177317631753017 - Other validation metrics:\n",
      "{'accuracy_score': 0.92875, 'f1_score': 0.92870087044354}\n",
      "\n",
      "\n"
     ]
    },
    {
     "name": "stderr",
     "output_type": "stream",
     "text": [
      " 38%|███▊      | 15/40 [1:07:14<1:51:31, 267.67s/it]"
     ]
    },
    {
     "name": "stdout",
     "output_type": "stream",
     "text": [
      "Epoch 15 / 40 \n",
      " Training loss: 0.016116900352658378 - Other training metrics: \n",
      "{'accuracy_score': 0.99515625, 'f1_score': 0.9951562489356992}\n",
      " \n",
      " Validation loss : 0.514592685870883 - Other validation metrics:\n",
      "{'accuracy_score': 0.911875, 'f1_score': 0.9117781972484653}\n",
      "\n",
      "\n"
     ]
    },
    {
     "name": "stderr",
     "output_type": "stream",
     "text": [
      " 40%|████      | 16/40 [1:11:41<1:46:59, 267.49s/it]"
     ]
    },
    {
     "name": "stdout",
     "output_type": "stream",
     "text": [
      "Epoch 16 / 40 \n",
      " Training loss: 0.02618435993936714 - Other training metrics: \n",
      "{'accuracy_score': 0.99078125, 'f1_score': 0.9907812497749329}\n",
      " \n",
      " Validation loss : 0.22773148899419537 - Other validation metrics:\n",
      "{'accuracy_score': 0.920625, 'f1_score': 0.9206234806838101}\n",
      "\n",
      "\n"
     ]
    },
    {
     "name": "stderr",
     "output_type": "stream",
     "text": [
      " 42%|████▎     | 17/40 [1:16:10<1:42:37, 267.71s/it]"
     ]
    },
    {
     "name": "stdout",
     "output_type": "stream",
     "text": [
      "Epoch 17 / 40 \n",
      " Training loss: 0.024781813715984525 - Other training metrics: \n",
      "{'accuracy_score': 0.993125, 'f1_score': 0.993124997314452}\n",
      " \n",
      " Validation loss : 0.24058028456727729 - Other validation metrics:\n",
      "{'accuracy_score': 0.915, 'f1_score': 0.9149569469543957}\n",
      "\n",
      "\n"
     ]
    },
    {
     "name": "stderr",
     "output_type": "stream",
     "text": [
      " 45%|████▌     | 18/40 [1:20:38<1:38:11, 267.81s/it]"
     ]
    },
    {
     "name": "stdout",
     "output_type": "stream",
     "text": [
      "Epoch 18 / 40 \n",
      " Training loss: 0.016446314954065427 - Other training metrics: \n",
      "{'accuracy_score': 0.99484375, 'f1_score': 0.9948437498741151}\n",
      " \n",
      " Validation loss : 0.5019134893065907 - Other validation metrics:\n",
      "{'accuracy_score': 0.925, 'f1_score': 0.9249482846774106}\n",
      "\n",
      "\n"
     ]
    },
    {
     "name": "stderr",
     "output_type": "stream",
     "text": [
      " 48%|████▊     | 19/40 [1:25:04<1:33:34, 267.36s/it]"
     ]
    },
    {
     "name": "stdout",
     "output_type": "stream",
     "text": [
      "Epoch 19 / 40 \n",
      " Training loss: 0.04789753295732794 - Other training metrics: \n",
      "{'accuracy_score': 0.98453125, 'f1_score': 0.9845307873587528}\n",
      " \n",
      " Validation loss : 0.41109824020436975 - Other validation metrics:\n",
      "{'accuracy_score': 0.906875, 'f1_score': 0.9067648295348996}\n",
      "\n",
      "\n",
      "Validation accuracy= 0.906875===> No saving\n"
     ]
    },
    {
     "name": "stderr",
     "output_type": "stream",
     "text": [
      " 50%|█████     | 20/40 [1:29:31<1:29:07, 267.38s/it]"
     ]
    },
    {
     "name": "stdout",
     "output_type": "stream",
     "text": [
      "Epoch 20 / 40 \n",
      " Training loss: 0.02893464322658019 - Other training metrics: \n",
      "{'accuracy_score': 0.9909375, 'f1_score': 0.9909374991149901}\n",
      " \n",
      " Validation loss : 0.29909289582516974 - Other validation metrics:\n",
      "{'accuracy_score': 0.916875, 'f1_score': 0.9168747077626445}\n",
      "\n",
      "\n"
     ]
    },
    {
     "name": "stderr",
     "output_type": "stream",
     "text": [
      " 52%|█████▎    | 21/40 [1:34:01<1:24:52, 268.01s/it]"
     ]
    },
    {
     "name": "stdout",
     "output_type": "stream",
     "text": [
      "Epoch 21 / 40 \n",
      " Training loss: 0.020499954625734063 - Other training metrics: \n",
      "{'accuracy_score': 0.9946875, 'f1_score': 0.9946874994812012}\n",
      " \n",
      " Validation loss : 0.6422942241820812 - Other validation metrics:\n",
      "{'accuracy_score': 0.915, 'f1_score': 0.9149101238182831}\n",
      "\n",
      "\n"
     ]
    },
    {
     "name": "stderr",
     "output_type": "stream",
     "text": [
      " 55%|█████▌    | 22/40 [1:38:28<1:20:18, 267.69s/it]"
     ]
    },
    {
     "name": "stdout",
     "output_type": "stream",
     "text": [
      "Epoch 22 / 40 \n",
      " Training loss: 0.0166833895950532 - Other training metrics: \n",
      "{'accuracy_score': 0.9928125, 'f1_score': 0.9928124971923817}\n",
      " \n",
      " Validation loss : 0.3270772783153612 - Other validation metrics:\n",
      "{'accuracy_score': 0.916875, 'f1_score': 0.9168710708592087}\n",
      "\n",
      "\n"
     ]
    },
    {
     "name": "stderr",
     "output_type": "stream",
     "text": [
      " 57%|█████▊    | 23/40 [1:42:55<1:15:46, 267.42s/it]"
     ]
    },
    {
     "name": "stdout",
     "output_type": "stream",
     "text": [
      "Epoch 23 / 40 \n",
      " Training loss: 0.014876668621850513 - Other training metrics: \n",
      "{'accuracy_score': 0.99671875, 'f1_score': 0.9967187499198913}\n",
      " \n",
      " Validation loss : 0.3466302012103027 - Other validation metrics:\n",
      "{'accuracy_score': 0.920625, 'f1_score': 0.9205728449032353}\n",
      "\n",
      "\n"
     ]
    },
    {
     "name": "stderr",
     "output_type": "stream",
     "text": [
      " 60%|██████    | 24/40 [1:47:22<1:11:17, 267.37s/it]"
     ]
    },
    {
     "name": "stdout",
     "output_type": "stream",
     "text": [
      "Epoch 24 / 40 \n",
      " Training loss: 0.01736767397082758 - Other training metrics: \n",
      "{'accuracy_score': 0.9940625, 'f1_score': 0.9940624976806631}\n",
      " \n",
      " Validation loss : 0.3908412791241792 - Other validation metrics:\n",
      "{'accuracy_score': 0.919375, 'f1_score': 0.9193220235631288}\n",
      "\n",
      "\n"
     ]
    },
    {
     "name": "stderr",
     "output_type": "stream",
     "text": [
      " 62%|██████▎   | 25/40 [1:51:49<1:06:51, 267.45s/it]"
     ]
    },
    {
     "name": "stdout",
     "output_type": "stream",
     "text": [
      "Epoch 25 / 40 \n",
      " Training loss: 0.020775991184782187 - Other training metrics: \n",
      "{'accuracy_score': 0.99421875, 'f1_score': 0.9942187385673297}\n",
      " \n",
      " Validation loss : 0.5859781185324651 - Other validation metrics:\n",
      "{'accuracy_score': 0.914375, 'f1_score': 0.9142737023240352}\n",
      "\n",
      "\n"
     ]
    },
    {
     "name": "stderr",
     "output_type": "stream",
     "text": [
      " 65%|██████▌   | 26/40 [1:56:17<1:02:24, 267.43s/it]"
     ]
    },
    {
     "name": "stdout",
     "output_type": "stream",
     "text": [
      "Epoch 26 / 40 \n",
      " Training loss: 0.011051531708171183 - Other training metrics: \n",
      "{'accuracy_score': 0.996875, 'f1_score': 0.9968749996948242}\n",
      " \n",
      " Validation loss : 0.502274861890071 - Other validation metrics:\n",
      "{'accuracy_score': 0.92125, 'f1_score': 0.9212291995855157}\n",
      "\n",
      "\n"
     ]
    },
    {
     "name": "stderr",
     "output_type": "stream",
     "text": [
      " 68%|██████▊   | 27/40 [2:00:44<57:53, 267.21s/it]  "
     ]
    },
    {
     "name": "stdout",
     "output_type": "stream",
     "text": [
      "Epoch 27 / 40 \n",
      " Training loss: 0.0015115923828191314 - Other training metrics: \n",
      "{'accuracy_score': 0.9996875, 'f1_score': 0.9996875}\n",
      " \n",
      " Validation loss : 0.6466720335606755 - Other validation metrics:\n",
      "{'accuracy_score': 0.92125, 'f1_score': 0.9212495078094238}\n",
      "\n",
      "\n"
     ]
    },
    {
     "name": "stderr",
     "output_type": "stream",
     "text": [
      " 70%|███████   | 28/40 [2:05:11<53:26, 267.21s/it]"
     ]
    },
    {
     "name": "stdout",
     "output_type": "stream",
     "text": [
      "Epoch 28 / 40 \n",
      " Training loss: 0.04248170519699968 - Other training metrics: \n",
      "{'accuracy_score': 0.9884375, 'f1_score': 0.9884374954833967}\n",
      " \n",
      " Validation loss : 0.3375724717758807 - Other validation metrics:\n",
      "{'accuracy_score': 0.91375, 'f1_score': 0.9137487870923185}\n",
      "\n",
      "\n",
      "Validation accuracy= 0.91375===> No saving\n"
     ]
    },
    {
     "name": "stderr",
     "output_type": "stream",
     "text": [
      " 72%|███████▎  | 29/40 [2:09:39<49:02, 267.47s/it]"
     ]
    },
    {
     "name": "stdout",
     "output_type": "stream",
     "text": [
      "Epoch 29 / 40 \n",
      " Training loss: 0.019216658775162612 - Other training metrics: \n",
      "{'accuracy_score': 0.99515625, 'f1_score': 0.9951562498817444}\n",
      " \n",
      " Validation loss : 0.5107574291819639 - Other validation metrics:\n",
      "{'accuracy_score': 0.9225, 'f1_score': 0.9224825585756795}\n",
      "\n",
      "\n"
     ]
    },
    {
     "name": "stderr",
     "output_type": "stream",
     "text": [
      " 75%|███████▌  | 30/40 [2:14:06<44:33, 267.30s/it]"
     ]
    },
    {
     "name": "stdout",
     "output_type": "stream",
     "text": [
      "Epoch 30 / 40 \n",
      " Training loss: 0.012473970679927789 - Other training metrics: \n",
      "{'accuracy_score': 0.99640625, 'f1_score': 0.9964062478065476}\n",
      " \n",
      " Validation loss : 0.5029098523350287 - Other validation metrics:\n",
      "{'accuracy_score': 0.92625, 'f1_score': 0.9262384747616815}\n",
      "\n",
      "\n"
     ]
    },
    {
     "name": "stderr",
     "output_type": "stream",
     "text": [
      " 78%|███████▊  | 31/40 [2:18:32<40:02, 266.98s/it]"
     ]
    },
    {
     "name": "stdout",
     "output_type": "stream",
     "text": [
      "Epoch 31 / 40 \n",
      " Training loss: 0.015161094178277495 - Other training metrics: \n",
      "{'accuracy_score': 0.99453125, 'f1_score': 0.9945312466621379}\n",
      " \n",
      " Validation loss : 0.36972504383750987 - Other validation metrics:\n",
      "{'accuracy_score': 0.899375, 'f1_score': 0.8992285270895704}\n",
      "\n",
      "\n"
     ]
    },
    {
     "name": "stderr",
     "output_type": "stream",
     "text": [
      " 80%|████████  | 32/40 [2:22:58<35:34, 266.79s/it]"
     ]
    },
    {
     "name": "stdout",
     "output_type": "stream",
     "text": [
      "Epoch 32 / 40 \n",
      " Training loss: 0.017765632022960744 - Other training metrics: \n",
      "{'accuracy_score': 0.994375, 'f1_score': 0.994375}\n",
      " \n",
      " Validation loss : 0.4745180310212687 - Other validation metrics:\n",
      "{'accuracy_score': 0.903125, 'f1_score': 0.9028636044417966}\n",
      "\n",
      "\n"
     ]
    },
    {
     "name": "stderr",
     "output_type": "stream",
     "text": [
      " 82%|████████▎ | 33/40 [2:27:25<31:06, 266.71s/it]"
     ]
    },
    {
     "name": "stdout",
     "output_type": "stream",
     "text": [
      "Epoch 33 / 40 \n",
      " Training loss: 0.012671831240604661 - Other training metrics: \n",
      "{'accuracy_score': 0.99640625, 'f1_score': 0.9964062492103576}\n",
      " \n",
      " Validation loss : 0.4126910195682231 - Other validation metrics:\n",
      "{'accuracy_score': 0.909375, 'f1_score': 0.9090937231958729}\n",
      "\n",
      "\n"
     ]
    },
    {
     "name": "stderr",
     "output_type": "stream",
     "text": [
      " 85%|████████▌ | 34/40 [2:31:52<26:41, 266.96s/it]"
     ]
    },
    {
     "name": "stdout",
     "output_type": "stream",
     "text": [
      "Epoch 34 / 40 \n",
      " Training loss: 0.006126466881585202 - Other training metrics: \n",
      "{'accuracy_score': 0.9978125, 'f1_score': 0.9978125}\n",
      " \n",
      " Validation loss : 0.6007761176233658 - Other validation metrics:\n",
      "{'accuracy_score': 0.924375, 'f1_score': 0.924350147841537}\n",
      "\n",
      "\n"
     ]
    },
    {
     "name": "stderr",
     "output_type": "stream",
     "text": [
      " 88%|████████▊ | 35/40 [2:36:19<22:14, 266.85s/it]"
     ]
    },
    {
     "name": "stdout",
     "output_type": "stream",
     "text": [
      "Epoch 35 / 40 \n",
      " Training loss: 0.04360410863935158 - Other training metrics: \n",
      "{'accuracy_score': 0.986875, 'f1_score': 0.9868749794921555}\n",
      " \n",
      " Validation loss : 0.4257869375246966 - Other validation metrics:\n",
      "{'accuracy_score': 0.91, 'f1_score': 0.9098557692307693}\n",
      "\n",
      "\n",
      "Validation accuracy= 0.91===> No saving\n"
     ]
    },
    {
     "name": "stderr",
     "output_type": "stream",
     "text": [
      " 90%|█████████ | 36/40 [2:40:46<17:47, 266.80s/it]"
     ]
    },
    {
     "name": "stdout",
     "output_type": "stream",
     "text": [
      "Epoch 36 / 40 \n",
      " Training loss: 0.025939947462275084 - Other training metrics: \n",
      "{'accuracy_score': 0.9921875, 'f1_score': 0.9921874992370605}\n",
      " \n",
      " Validation loss : 0.38357013651155514 - Other validation metrics:\n",
      "{'accuracy_score': 0.91625, 'f1_score': 0.9161398024591689}\n",
      "\n",
      "\n"
     ]
    },
    {
     "name": "stderr",
     "output_type": "stream",
     "text": [
      " 92%|█████████▎| 37/40 [2:45:13<13:20, 266.96s/it]"
     ]
    },
    {
     "name": "stdout",
     "output_type": "stream",
     "text": [
      "Epoch 37 / 40 \n",
      " Training loss: 0.017662592430863242 - Other training metrics: \n",
      "{'accuracy_score': 0.9946875, 'f1_score': 0.9946874979248039}\n",
      " \n",
      " Validation loss : 0.3193509057620304 - Other validation metrics:\n",
      "{'accuracy_score': 0.891875, 'f1_score': 0.8913520894900809}\n",
      "\n",
      "\n"
     ]
    },
    {
     "name": "stderr",
     "output_type": "stream",
     "text": [
      " 95%|█████████▌| 38/40 [2:49:40<08:53, 266.94s/it]"
     ]
    },
    {
     "name": "stdout",
     "output_type": "stream",
     "text": [
      "Epoch 38 / 40 \n",
      " Training loss: 0.02154074067909505 - Other training metrics: \n",
      "{'accuracy_score': 0.99421875, 'f1_score': 0.9942187464714028}\n",
      " \n",
      " Validation loss : 0.4318734107544219 - Other validation metrics:\n",
      "{'accuracy_score': 0.92125, 'f1_score': 0.9212223047165019}\n",
      "\n",
      "\n"
     ]
    },
    {
     "name": "stderr",
     "output_type": "stream",
     "text": [
      " 98%|█████████▊| 39/40 [2:54:06<04:26, 266.83s/it]"
     ]
    },
    {
     "name": "stdout",
     "output_type": "stream",
     "text": [
      "Epoch 39 / 40 \n",
      " Training loss: 0.007523002397563232 - Other training metrics: \n",
      "{'accuracy_score': 0.9971875, 'f1_score': 0.9971874975280741}\n",
      " \n",
      " Validation loss : 0.4671340068653903 - Other validation metrics:\n",
      "{'accuracy_score': 0.91625, 'f1_score': 0.9162121645555571}\n",
      "\n",
      "\n"
     ]
    },
    {
     "name": "stderr",
     "output_type": "stream",
     "text": [
      "100%|██████████| 40/40 [2:58:33<00:00, 267.84s/it]"
     ]
    },
    {
     "name": "stdout",
     "output_type": "stream",
     "text": [
      "Epoch 40 / 40 \n",
      " Training loss: 0.000566312387180119 - Other training metrics: \n",
      "{'accuracy_score': 1.0, 'f1_score': 1.0}\n",
      " \n",
      " Validation loss : 0.7366268141460546 - Other validation metrics:\n",
      "{'accuracy_score': 0.920625, 'f1_score': 0.9206085945103499}\n",
      "\n",
      "\n"
     ]
    },
    {
     "name": "stderr",
     "output_type": "stream",
     "text": [
      "\n"
     ]
    }
   ],
   "source": [
    "for param in model.parameters():\n",
    "    param.requires_grad = True\n",
    "optimizer = torch.optim.Adam(model.parameters(), lr=0.0001, betas=(0.9, 0.999), eps=1e-08, weight_decay=0)\n",
    "\n",
    "model = model.to(device)\n",
    "num_epoch = config.num_epochs\n",
    "best_val_acc = 0.0\n",
    "import logging\n",
    "import numpy as np\n",
    "print(\"begin training process\")\n",
    "for i in tqdm(range(0, num_epoch)):\n",
    "    loss, val_loss, train_result, val_result = train_one_epoch(\n",
    "        model,\n",
    "        train_loader,\n",
    "        val_loader,\n",
    "        device,\n",
    "        optimizer,\n",
    "        criterion,\n",
    "        train_metrics,\n",
    "        val_metrics,\n",
    "    )\n",
    "\n",
    "    scheduler.step(val_loss)\n",
    "    print(\n",
    "        \"Epoch {} / {} \\n Training loss: {} - Other training metrics: \".format(\n",
    "            i + 1, num_epoch, loss\n",
    "        )\n",
    "    )\n",
    "    print(train_result)\n",
    "    print(\n",
    "        \" \\n Validation loss : {} - Other validation metrics:\".format(val_loss)\n",
    "    )\n",
    "    print(val_result)\n",
    "    print(\"\\n\")\n",
    "    # saving epoch with best validation accuracy\n",
    "    if (loss<0.04):\n",
    "        # no saving\n",
    "        continue\n",
    "    if best_val_acc < float(val_result[\"accuracy_score\"]):\n",
    "        print(\n",
    "            \"Validation accuracy= \"+\n",
    "            str(val_result[\"accuracy_score\"])+\n",
    "            \"===> Save best epoch\"\n",
    "        )\n",
    "        best_val_acc = val_result[\"accuracy_score\"]\n",
    "        torch.save(\n",
    "            model,\n",
    "            \"./\" +  \"best.pt\"\n",
    "        )\n",
    "    else:\n",
    "        print(\n",
    "            \"Validation accuracy= \"+ str(val_result[\"accuracy_score\"])+ \"===> No saving\"\n",
    "        )\n",
    "        continue"
   ]
  },
  {
   "cell_type": "code",
   "execution_count": 33,
   "id": "e3e4f72f",
   "metadata": {
    "execution": {
     "iopub.execute_input": "2024-06-21T07:26:22.355090Z",
     "iopub.status.busy": "2024-06-21T07:26:22.354732Z",
     "iopub.status.idle": "2024-06-21T07:26:34.738910Z",
     "shell.execute_reply": "2024-06-21T07:26:34.737755Z"
    },
    "papermill": {
     "duration": 12.450599,
     "end_time": "2024-06-21T07:26:34.741727",
     "exception": false,
     "start_time": "2024-06-21T07:26:22.291128",
     "status": "completed"
    },
    "tags": []
   },
   "outputs": [
    {
     "name": "stdout",
     "output_type": "stream",
     "text": [
      "Collecting lion-pytorch\r\n",
      "  Downloading lion_pytorch-0.2.2-py3-none-any.whl.metadata (618 bytes)\r\n",
      "Requirement already satisfied: torch>=1.6 in /opt/conda/lib/python3.10/site-packages (from lion-pytorch) (2.1.2)\r\n",
      "Requirement already satisfied: filelock in /opt/conda/lib/python3.10/site-packages (from torch>=1.6->lion-pytorch) (3.13.1)\r\n",
      "Requirement already satisfied: typing-extensions in /opt/conda/lib/python3.10/site-packages (from torch>=1.6->lion-pytorch) (4.9.0)\r\n",
      "Requirement already satisfied: sympy in /opt/conda/lib/python3.10/site-packages (from torch>=1.6->lion-pytorch) (1.12.1)\r\n",
      "Requirement already satisfied: networkx in /opt/conda/lib/python3.10/site-packages (from torch>=1.6->lion-pytorch) (3.2.1)\r\n",
      "Requirement already satisfied: jinja2 in /opt/conda/lib/python3.10/site-packages (from torch>=1.6->lion-pytorch) (3.1.2)\r\n",
      "Requirement already satisfied: fsspec in /opt/conda/lib/python3.10/site-packages (from torch>=1.6->lion-pytorch) (2024.3.1)\r\n",
      "Requirement already satisfied: MarkupSafe>=2.0 in /opt/conda/lib/python3.10/site-packages (from jinja2->torch>=1.6->lion-pytorch) (2.1.3)\r\n",
      "Requirement already satisfied: mpmath<1.4.0,>=1.1.0 in /opt/conda/lib/python3.10/site-packages (from sympy->torch>=1.6->lion-pytorch) (1.3.0)\r\n",
      "Downloading lion_pytorch-0.2.2-py3-none-any.whl (5.4 kB)\r\n",
      "Installing collected packages: lion-pytorch\r\n",
      "Successfully installed lion-pytorch-0.2.2\r\n"
     ]
    }
   ],
   "source": [
    "!pip install lion-pytorch\n",
    "from lion_pytorch import Lion\n",
    "optimizer = Lion(model.parameters(), lr=1e-4, weight_decay=1e-2)"
   ]
  },
  {
   "cell_type": "code",
   "execution_count": 34,
   "id": "bd066db7",
   "metadata": {
    "execution": {
     "iopub.execute_input": "2024-06-21T07:26:34.869879Z",
     "iopub.status.busy": "2024-06-21T07:26:34.869028Z",
     "iopub.status.idle": "2024-06-21T07:26:35.171906Z",
     "shell.execute_reply": "2024-06-21T07:26:35.170779Z"
    },
    "papermill": {
     "duration": 0.369359,
     "end_time": "2024-06-21T07:26:35.174322",
     "exception": false,
     "start_time": "2024-06-21T07:26:34.804963",
     "status": "completed"
    },
    "tags": []
   },
   "outputs": [],
   "source": [
    "import copy\n",
    "val_model = torch.load(\"/kaggle/working/best.pt\")\n",
    "val_model = val_model.to(device)"
   ]
  },
  {
   "cell_type": "code",
   "execution_count": 35,
   "id": "83f99536",
   "metadata": {
    "execution": {
     "iopub.execute_input": "2024-06-21T07:26:35.302390Z",
     "iopub.status.busy": "2024-06-21T07:26:35.302009Z",
     "iopub.status.idle": "2024-06-21T07:26:35.308779Z",
     "shell.execute_reply": "2024-06-21T07:26:35.307926Z"
    },
    "papermill": {
     "duration": 0.072827,
     "end_time": "2024-06-21T07:26:35.310729",
     "exception": false,
     "start_time": "2024-06-21T07:26:35.237902",
     "status": "completed"
    },
    "tags": []
   },
   "outputs": [],
   "source": [
    "def val_result(model, val_loader, device):\n",
    "    # testing the model by turning model \"Eval\" mode\n",
    "    model.eval()\n",
    "    preds = []\n",
    "    labels = []\n",
    "    with torch.no_grad():\n",
    "        for data, target in val_loader:\n",
    "            # move-tensors-to-GPU\n",
    "            data = data.to(device)\n",
    "            target = target.to(device)\n",
    "            # forward-pass: compute-predicted-outputs-by-passing-inputs-to-the-model\n",
    "            output = model(data)\n",
    "            # applying Softmax to results\n",
    "            prob = nn.Softmax(dim=1)\n",
    "            probs = prob(output)\n",
    "            labels.extend(target.tolist())\n",
    "            preds.extend(torch.argmax(probs, axis=1).tolist())\n",
    "    return preds, labels"
   ]
  },
  {
   "cell_type": "code",
   "execution_count": 36,
   "id": "75e51526",
   "metadata": {
    "execution": {
     "iopub.execute_input": "2024-06-21T07:26:35.440933Z",
     "iopub.status.busy": "2024-06-21T07:26:35.440589Z",
     "iopub.status.idle": "2024-06-21T07:27:23.525201Z",
     "shell.execute_reply": "2024-06-21T07:27:23.524275Z"
    },
    "papermill": {
     "duration": 48.154244,
     "end_time": "2024-06-21T07:27:23.527599",
     "exception": false,
     "start_time": "2024-06-21T07:26:35.373355",
     "status": "completed"
    },
    "tags": []
   },
   "outputs": [],
   "source": [
    "preds, grd_truth = val_result(val_model, val_loader, device)"
   ]
  },
  {
   "cell_type": "code",
   "execution_count": 37,
   "id": "e8389d0c",
   "metadata": {
    "execution": {
     "iopub.execute_input": "2024-06-21T07:27:23.656312Z",
     "iopub.status.busy": "2024-06-21T07:27:23.655938Z",
     "iopub.status.idle": "2024-06-21T07:27:23.660297Z",
     "shell.execute_reply": "2024-06-21T07:27:23.659489Z"
    },
    "papermill": {
     "duration": 0.070412,
     "end_time": "2024-06-21T07:27:23.662072",
     "exception": false,
     "start_time": "2024-06-21T07:27:23.591660",
     "status": "completed"
    },
    "tags": []
   },
   "outputs": [],
   "source": [
    "from sklearn.metrics import classification_report\n",
    "from sklearn.metrics import confusion_matrix, ConfusionMatrixDisplay"
   ]
  },
  {
   "cell_type": "code",
   "execution_count": 38,
   "id": "5e6c820b",
   "metadata": {
    "execution": {
     "iopub.execute_input": "2024-06-21T07:27:23.790270Z",
     "iopub.status.busy": "2024-06-21T07:27:23.789901Z",
     "iopub.status.idle": "2024-06-21T07:27:23.805377Z",
     "shell.execute_reply": "2024-06-21T07:27:23.804361Z"
    },
    "papermill": {
     "duration": 0.082701,
     "end_time": "2024-06-21T07:27:23.807442",
     "exception": false,
     "start_time": "2024-06-21T07:27:23.724741",
     "status": "completed"
    },
    "tags": []
   },
   "outputs": [
    {
     "name": "stdout",
     "output_type": "stream",
     "text": [
      "              precision    recall  f1-score   support\n",
      "\n",
      "           0   0.903341  0.946250  0.924298       800\n",
      "           1   0.943570  0.898750  0.920615       800\n",
      "\n",
      "    accuracy                       0.922500      1600\n",
      "   macro avg   0.923455  0.922500  0.922456      1600\n",
      "weighted avg   0.923455  0.922500  0.922456      1600\n",
      "\n"
     ]
    }
   ],
   "source": [
    "report = classification_report(grd_truth, preds, digits=6)\n",
    "print(report)"
   ]
  },
  {
   "cell_type": "code",
   "execution_count": 39,
   "id": "fd09eeae",
   "metadata": {
    "execution": {
     "iopub.execute_input": "2024-06-21T07:27:23.937344Z",
     "iopub.status.busy": "2024-06-21T07:27:23.936581Z",
     "iopub.status.idle": "2024-06-21T07:27:24.221071Z",
     "shell.execute_reply": "2024-06-21T07:27:24.220180Z"
    },
    "papermill": {
     "duration": 0.351278,
     "end_time": "2024-06-21T07:27:24.223082",
     "exception": false,
     "start_time": "2024-06-21T07:27:23.871804",
     "status": "completed"
    },
    "tags": []
   },
   "outputs": [
    {
     "data": {
      "text/plain": [
       "<sklearn.metrics._plot.confusion_matrix.ConfusionMatrixDisplay at 0x7e5108d9c490>"
      ]
     },
     "execution_count": 39,
     "metadata": {},
     "output_type": "execute_result"
    },
    {
     "data": {
      "image/png": "[encoded data removed]",
      "text/plain": [
       "<Figure size 640x480 with 2 Axes>"
      ]
     },
     "metadata": {},
     "output_type": "display_data"
    }
   ],
   "source": [
    "cm = confusion_matrix(grd_truth, preds)\n",
    "disp = ConfusionMatrixDisplay(confusion_matrix=cm)\n",
    "disp.plot()"
   ]
  },
  {
   "cell_type": "code",
   "execution_count": 40,
   "id": "b5e5dfd4",
   "metadata": {
    "execution": {
     "iopub.execute_input": "2024-06-21T07:27:24.353090Z",
     "iopub.status.busy": "2024-06-21T07:27:24.352453Z",
     "iopub.status.idle": "2024-06-21T07:27:24.670112Z",
     "shell.execute_reply": "2024-06-21T07:27:24.669246Z"
    },
    "papermill": {
     "duration": 0.384979,
     "end_time": "2024-06-21T07:27:24.672345",
     "exception": false,
     "start_time": "2024-06-21T07:27:24.287366",
     "status": "completed"
    },
    "tags": []
   },
   "outputs": [],
   "source": [
    "import copy\n",
    "test_model = torch.load(\"/kaggle/working/best.pt\")\n",
    "test_model = test_model.to(device)"
   ]
  },
  {
   "cell_type": "code",
   "execution_count": 41,
   "id": "4832d25b",
   "metadata": {
    "execution": {
     "iopub.execute_input": "2024-06-21T07:27:24.803734Z",
     "iopub.status.busy": "2024-06-21T07:27:24.802869Z",
     "iopub.status.idle": "2024-06-21T07:27:24.810156Z",
     "shell.execute_reply": "2024-06-21T07:27:24.809333Z"
    },
    "papermill": {
     "duration": 0.075483,
     "end_time": "2024-06-21T07:27:24.811956",
     "exception": false,
     "start_time": "2024-06-21T07:27:24.736473",
     "status": "completed"
    },
    "tags": []
   },
   "outputs": [],
   "source": [
    "def test_result(model, test_loader, device,name='no_tta_prob.npy'):\n",
    "    # testing the model by turning model \"Eval\" mode\n",
    "    model.eval()\n",
    "    preds = []\n",
    "    aprobs = []\n",
    "    with torch.no_grad():\n",
    "        for data in test_loader:\n",
    "            # move-tensors-to-GPU\n",
    "            data = data.to(device)\n",
    "            # forward-pass: compute-predicted-outputs-by-passing-inputs-to-the-model\n",
    "            output = model(data)\n",
    "            prob = nn.Softmax(dim=1)\n",
    "            # applying Softmax to results\n",
    "            probs = prob(output)\n",
    "            #aprobs.append(probs.cpu())\n",
    "            aprobs.append(probs.detach().cpu().numpy())\n",
    "            preds.extend(torch.argmax(probs, axis=1).tolist())\n",
    "#             binary_predictions = (probs[:, 1] >= threshold).int()\n",
    "#             preds.extend(binary_predictions.tolist())\n",
    "    aprobs = np.array(aprobs)\n",
    "    np.save(name,aprobs)\n",
    "    return preds"
   ]
  }
 ],
 "metadata": {
  "kaggle": {
   "accelerator": "gpu",
   "dataSources": [
    {
     "datasetId": 4154884,
     "sourceId": 7802508,
     "sourceType": "datasetVersion"
    }
   ],
   "dockerImageVersionId": 30733,
   "isGpuEnabled": true,
   "isInternetEnabled": true,
   "language": "python",
   "sourceType": "notebook"
  },
  "kernelspec": {
   "display_name": "Python 3",
   "language": "python",
   "name": "python3"
  },
  "language_info": {
   "codemirror_mode": {
    "name": "ipython",
    "version": 3
   },
   "file_extension": ".py",
   "mimetype": "text/x-python",
   "name": "python",
   "nbconvert_exporter": "python",
   "pygments_lexer": "ipython3",
   "version": "3.10.13"
  },
  "papermill": {
   "default_parameters": {},
   "duration": 10918.918549,
   "end_time": "2024-06-21T07:27:27.573528",
   "environment_variables": {},
   "exception": null,
   "input_path": "__notebook__.ipynb",
   "output_path": "__notebook__.ipynb",
   "parameters": {},
   "start_time": "2024-06-21T04:25:28.654979",
   "version": "2.4.0"
  },
  "widgets": {
   "application/vnd.jupyter.widget-state+json": {
    "state": {
     "0a5cac9178284ddba717a480a7931798": {
      "model_module": "@jupyter-widgets/controls",
      "model_module_version": "1.5.0",
      "model_name": "FloatProgressModel",
      "state": {
       "_dom_classes": [],
       "_model_module": "@jupyter-widgets/controls",
       "_model_module_version": "1.5.0",
       "_model_name": "FloatProgressModel",
       "_view_count": null,
       "_view_module": "@jupyter-widgets/controls",
       "_view_module_version": "1.5.0",
       "_view_name": "ProgressView",
       "bar_style": "success",
       "description": "",
       "description_tooltip": null,
       "layout": "IPY_MODEL_ae74f088f7174583b50e695b65d3b225",
       "max": 352685652.0,
       "min": 0.0,
       "orientation": "horizontal",
       "style": "IPY_MODEL_822a1e3c8afe4aeb8658879a1bb6d71f",
       "value": 352685652.0
      }
     },
     "1080aacfaac04c459336abfc1e9bd8ea": {
      "model_module": "@jupyter-widgets/base",
      "model_module_version": "1.2.0",
      "model_name": "LayoutModel",
      "state": {
       "_model_module": "@jupyter-widgets/base",
       "_model_module_version": "1.2.0",
       "_model_name": "LayoutModel",
       "_view_count": null,
       "_view_module": "@jupyter-widgets/base",
       "_view_module_version": "1.2.0",
       "_view_name": "LayoutView",
       "align_content": null,
       "align_items": null,
       "align_self": null,
       "border": null,
       "bottom": null,
       "display": null,
       "flex": null,
       "flex_flow": null,
       "grid_area": null,
       "grid_auto_columns": null,
       "grid_auto_flow": null,
       "grid_auto_rows": null,
       "grid_column": null,
       "grid_gap": null,
       "grid_row": null,
       "grid_template_areas": null,
       "grid_template_columns": null,
       "grid_template_rows": null,
       "height": null,
       "justify_content": null,
       "justify_items": null,
       "left": null,
       "margin": null,
       "max_height": null,
       "max_width": null,
       "min_height": null,
       "min_width": null,
       "object_fit": null,
       "object_position": null,
       "order": null,
       "overflow": null,
       "overflow_x": null,
       "overflow_y": null,
       "padding": null,
       "right": null,
       "top": null,
       "visibility": null,
       "width": null
      }
     },
     "3d8db914732d4889b3b0d301fc556e4f": {
      "model_module": "@jupyter-widgets/controls",
      "model_module_version": "1.5.0",
      "model_name": "DescriptionStyleModel",
      "state": {
       "_model_module": "@jupyter-widgets/controls",
       "_model_module_version": "1.5.0",
       "_model_name": "DescriptionStyleModel",
       "_view_count": null,
       "_view_module": "@jupyter-widgets/base",
       "_view_module_version": "1.2.0",
       "_view_name": "StyleView",
       "description_width": ""
      }
     },
     "3fe254f4c0164ff2bcf688acd75af5fb": {
      "model_module": "@jupyter-widgets/controls",
      "model_module_version": "1.5.0",
      "model_name": "HBoxModel",
      "state": {
       "_dom_classes": [],
       "_model_module": "@jupyter-widgets/controls",
       "_model_module_version": "1.5.0",
       "_model_name": "HBoxModel",
       "_view_count": null,
       "_view_module": "@jupyter-widgets/controls",
       "_view_module_version": "1.5.0",
       "_view_name": "HBoxView",
       "box_style": "",
       "children": [
        "IPY_MODEL_517303ceb0274157b4f0728207b55c63",
        "IPY_MODEL_0a5cac9178284ddba717a480a7931798",
        "IPY_MODEL_bf48a2a95ae54db78e9da9c6024ea04c"
       ],
       "layout": "IPY_MODEL_af40bdc1cba34b8fad947193d2515691"
      }
     },
     "4dfb819fb1194bfa88b72122466caa6b": {
      "model_module": "@jupyter-widgets/base",
      "model_module_version": "1.2.0",
      "model_name": "LayoutModel",
      "state": {
       "_model_module": "@jupyter-widgets/base",
       "_model_module_version": "1.2.0",
       "_model_name": "LayoutModel",
       "_view_count": null,
       "_view_module": "@jupyter-widgets/base",
       "_view_module_version": "1.2.0",
       "_view_name": "LayoutView",
       "align_content": null,
       "align_items": null,
       "align_self": null,
       "border": null,
       "bottom": null,
       "display": null,
       "flex": null,
       "flex_flow": null,
       "grid_area": null,
       "grid_auto_columns": null,
       "grid_auto_flow": null,
       "grid_auto_rows": null,
       "grid_column": null,
       "grid_gap": null,
       "grid_row": null,
       "grid_template_areas": null,
       "grid_template_columns": null,
       "grid_template_rows": null,
       "height": null,
       "justify_content": null,
       "justify_items": null,
       "left": null,
       "margin": null,
       "max_height": null,
       "max_width": null,
       "min_height": null,
       "min_width": null,
       "object_fit": null,
       "object_position": null,
       "order": null,
       "overflow": null,
       "overflow_x": null,
       "overflow_y": null,
       "padding": null,
       "right": null,
       "top": null,
       "visibility": null,
       "width": null
      }
     },
     "517303ceb0274157b4f0728207b55c63": {
      "model_module": "@jupyter-widgets/controls",
      "model_module_version": "1.5.0",
      "model_name": "HTMLModel",
      "state": {
       "_dom_classes": [],
       "_model_module": "@jupyter-widgets/controls",
       "_model_module_version": "1.5.0",
       "_model_name": "HTMLModel",
       "_view_count": null,
       "_view_module": "@jupyter-widgets/controls",
       "_view_module_version": "1.5.0",
       "_view_name": "HTMLView",
       "description": "",
       "description_tooltip": null,
       "layout": "IPY_MODEL_4dfb819fb1194bfa88b72122466caa6b",
       "placeholder": "​",
       "style": "IPY_MODEL_d0a579b8f08e4a7482c5358a16052796",
       "value": "model.safetensors: 100%"
      }
     },
     "822a1e3c8afe4aeb8658879a1bb6d71f": {
      "model_module": "@jupyter-widgets/controls",
      "model_module_version": "1.5.0",
      "model_name": "ProgressStyleModel",
      "state": {
       "_model_module": "@jupyter-widgets/controls",
       "_model_module_version": "1.5.0",
       "_model_name": "ProgressStyleModel",
       "_view_count": null,
       "_view_module": "@jupyter-widgets/base",
       "_view_module_version": "1.2.0",
       "_view_name": "StyleView",
       "bar_color": null,
       "description_width": ""
      }
     },
     "ae74f088f7174583b50e695b65d3b225": {
      "model_module": "@jupyter-widgets/base",
      "model_module_version": "1.2.0",
      "model_name": "LayoutModel",
      "state": {
       "_model_module": "@jupyter-widgets/base",
       "_model_module_version": "1.2.0",
       "_model_name": "LayoutModel",
       "_view_count": null,
       "_view_module": "@jupyter-widgets/base",
       "_view_module_version": "1.2.0",
       "_view_name": "LayoutView",
       "align_content": null,
       "align_items": null,
       "align_self": null,
       "border": null,
       "bottom": null,
       "display": null,
       "flex": null,
       "flex_flow": null,
       "grid_area": null,
       "grid_auto_columns": null,
       "grid_auto_flow": null,
       "grid_auto_rows": null,
       "grid_column": null,
       "grid_gap": null,
       "grid_row": null,
       "grid_template_areas": null,
       "grid_template_columns": null,
       "grid_template_rows": null,
       "height": null,
       "justify_content": null,
       "justify_items": null,
       "left": null,
       "margin": null,
       "max_height": null,
       "max_width": null,
       "min_height": null,
       "min_width": null,
       "object_fit": null,
       "object_position": null,
       "order": null,
       "overflow": null,
       "overflow_x": null,
       "overflow_y": null,
       "padding": null,
       "right": null,
       "top": null,
       "visibility": null,
       "width": null
      }
     },
     "af40bdc1cba34b8fad947193d2515691": {
      "model_module": "@jupyter-widgets/base",
      "model_module_version": "1.2.0",
      "model_name": "LayoutModel",
      "state": {
       "_model_module": "@jupyter-widgets/base",
       "_model_module_version": "1.2.0",
       "_model_name": "LayoutModel",
       "_view_count": null,
       "_view_module": "@jupyter-widgets/base",
       "_view_module_version": "1.2.0",
       "_view_name": "LayoutView",
       "align_content": null,
       "align_items": null,
       "align_self": null,
       "border": null,
       "bottom": null,
       "display": null,
       "flex": null,
       "flex_flow": null,
       "grid_area": null,
       "grid_auto_columns": null,
       "grid_auto_flow": null,
       "grid_auto_rows": null,
       "grid_column": null,
       "grid_gap": null,
       "grid_row": null,
       "grid_template_areas": null,
       "grid_template_columns": null,
       "grid_template_rows": null,
       "height": null,
       "justify_content": null,
       "justify_items": null,
       "left": null,
       "margin": null,
       "max_height": null,
       "max_width": null,
       "min_height": null,
       "min_width": null,
       "object_fit": null,
       "object_position": null,
       "order": null,
       "overflow": null,
       "overflow_x": null,
       "overflow_y": null,
       "padding": null,
       "right": null,
       "top": null,
       "visibility": null,
       "width": null
      }
     },
     "bf48a2a95ae54db78e9da9c6024ea04c": {
      "model_module": "@jupyter-widgets/controls",
      "model_module_version": "1.5.0",
      "model_name": "HTMLModel",
      "state": {
       "_dom_classes": [],
       "_model_module": "@jupyter-widgets/controls",
       "_model_module_version": "1.5.0",
       "_model_name": "HTMLModel",
       "_view_count": null,
       "_view_module": "@jupyter-widgets/controls",
       "_view_module_version": "1.5.0",
       "_view_name": "HTMLView",
       "description": "",
       "description_tooltip": null,
       "layout": "IPY_MODEL_1080aacfaac04c459336abfc1e9bd8ea",
       "placeholder": "​",
       "style": "IPY_MODEL_3d8db914732d4889b3b0d301fc556e4f",
       "value": " 353M/353M [00:02&lt;00:00, 212MB/s]"
      }
     },
     "d0a579b8f08e4a7482c5358a16052796": {
      "model_module": "@jupyter-widgets/controls",
      "model_module_version": "1.5.0",
      "model_name": "DescriptionStyleModel",
      "state": {
       "_model_module": "@jupyter-widgets/controls",
       "_model_module_version": "1.5.0",
       "_model_name": "DescriptionStyleModel",
       "_view_count": null,
       "_view_module": "@jupyter-widgets/base",
       "_view_module_version": "1.2.0",
       "_view_name": "StyleView",
       "description_width": ""
      }
     }
    },
    "version_major": 2,
    "version_minor": 0
   }
  }
 },
 "nbformat": 4,
 "nbformat_minor": 5
}
