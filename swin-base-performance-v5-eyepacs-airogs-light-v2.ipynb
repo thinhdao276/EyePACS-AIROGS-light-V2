{
 "cells": [
  {
   "cell_type": "code",
   "execution_count": 1,
   "id": "bd1682ff",
   "metadata": {
    "_cell_guid": "b1076dfc-b9ad-4769-8c92-a6c4dae69d19",
    "_uuid": "8f2839f25d086af736a60e9eeb907d3b93b6e0e5",
    "execution": {
     "iopub.execute_input": "2024-06-24T06:16:09.598488Z",
     "iopub.status.busy": "2024-06-24T06:16:09.598110Z",
     "iopub.status.idle": "2024-06-24T06:16:16.054508Z",
     "shell.execute_reply": "2024-06-24T06:16:16.053688Z"
    },
    "papermill": {
     "duration": 6.473985,
     "end_time": "2024-06-24T06:16:16.056793",
     "exception": false,
     "start_time": "2024-06-24T06:16:09.582808",
     "status": "completed"
    },
    "tags": []
   },
   "outputs": [],
   "source": [
    "import albumentations\n",
    "from albumentations.pytorch import ToTensorV2\n",
    "from torchvision import transforms\n",
    "from sklearn.model_selection import train_test_split\n",
    "import torch\n",
    "import numpy as np\n",
    "import os"
   ]
  },
  {
   "cell_type": "code",
   "execution_count": 2,
   "id": "dd83ab7c",
   "metadata": {
    "execution": {
     "iopub.execute_input": "2024-06-24T06:16:16.086080Z",
     "iopub.status.busy": "2024-06-24T06:16:16.085479Z",
     "iopub.status.idle": "2024-06-24T06:16:18.085237Z",
     "shell.execute_reply": "2024-06-24T06:16:18.084440Z"
    },
    "papermill": {
     "duration": 2.017096,
     "end_time": "2024-06-24T06:16:18.087661",
     "exception": false,
     "start_time": "2024-06-24T06:16:16.070565",
     "status": "completed"
    },
    "tags": []
   },
   "outputs": [],
   "source": [
    "import pandas as pd\n",
    "import matplotlib.pyplot as plt\n",
    "import os\n",
    "import seaborn as sns\n",
    "from pathlib import Path\n",
    "from sklearn.model_selection import train_test_split, StratifiedKFold\n",
    "from sklearn.preprocessing import LabelEncoder\n",
    "from sklearn.metrics import classification_report, f1_score, recall_score, precision_score\n",
    "import torch\n",
    "from torch.utils.data import DataLoader, Dataset\n",
    "from torch.utils.data import RandomSampler\n",
    "from PIL import Image\n",
    "import cv2\n",
    "\n",
    "import torch\n",
    "import torch.nn as nn\n",
    "import torchvision.transforms as transforms\n",
    "import torchvision.models as models\n",
    "from torchvision.utils import make_grid\n",
    "from torchvision.datasets import ImageFolder\n",
    "import torch.nn.functional as F\n",
    "import timm\n",
    "\n",
    "from tqdm import tqdm\n",
    "from sklearn.metrics import confusion_matrix\n",
    "\n",
    "from IPython.display import display, HTML\n",
    "import warnings\n",
    "warnings.filterwarnings(\"ignore\")"
   ]
  },
  {
   "cell_type": "code",
   "execution_count": 3,
   "id": "fa343d5d",
   "metadata": {
    "execution": {
     "iopub.execute_input": "2024-06-24T06:16:18.115605Z",
     "iopub.status.busy": "2024-06-24T06:16:18.115287Z",
     "iopub.status.idle": "2024-06-24T06:16:19.810840Z",
     "shell.execute_reply": "2024-06-24T06:16:19.809984Z"
    },
    "papermill": {
     "duration": 1.711559,
     "end_time": "2024-06-24T06:16:19.812885",
     "exception": false,
     "start_time": "2024-06-24T06:16:18.101326",
     "status": "completed"
    },
    "tags": []
   },
   "outputs": [
    {
     "name": "stderr",
     "output_type": "stream",
     "text": [
      "\u001b[34m\u001b[1mwandb\u001b[0m: W&B API key is configured. Use \u001b[1m`wandb login --relogin`\u001b[0m to force relogin\n",
      "\u001b[34m\u001b[1mwandb\u001b[0m: \u001b[33mWARNING\u001b[0m If you're specifying your api key in code, ensure this code is not shared publicly.\n",
      "\u001b[34m\u001b[1mwandb\u001b[0m: \u001b[33mWARNING\u001b[0m Consider setting the WANDB_API_KEY environment variable, or running `wandb login` from the command line.\n",
      "\u001b[34m\u001b[1mwandb\u001b[0m: Appending key for api.wandb.ai to your netrc file: /root/.netrc\n"
     ]
    },
    {
     "data": {
      "text/plain": [
       "True"
      ]
     },
     "execution_count": 3,
     "metadata": {},
     "output_type": "execute_result"
    }
   ],
   "source": [
    "import wandb\n",
    "from kaggle_secrets import UserSecretsClient\n",
    "user_secrets = UserSecretsClient()\n",
    "secret_value_0 = user_secrets.get_secret(\"wandb\")\n",
    "\n",
    "wandb.login(key = secret_value_0)"
   ]
  },
  {
   "cell_type": "code",
   "execution_count": 4,
   "id": "cd3c121b",
   "metadata": {
    "execution": {
     "iopub.execute_input": "2024-06-24T06:16:19.842614Z",
     "iopub.status.busy": "2024-06-24T06:16:19.842086Z",
     "iopub.status.idle": "2024-06-24T06:16:19.848905Z",
     "shell.execute_reply": "2024-06-24T06:16:19.848081Z"
    },
    "papermill": {
     "duration": 0.024061,
     "end_time": "2024-06-24T06:16:19.850729",
     "exception": false,
     "start_time": "2024-06-24T06:16:19.826668",
     "status": "completed"
    },
    "tags": []
   },
   "outputs": [
    {
     "data": {
      "text/plain": [
       "'/kaggle/input/glaucoma-dataset-eyepacs-airogs-light-v2/eyepac-light-v2-512-jpg'"
      ]
     },
     "execution_count": 4,
     "metadata": {},
     "output_type": "execute_result"
    }
   ],
   "source": [
    "class config:\n",
    "    root_path = '/kaggle/input/glaucoma-dataset-eyepacs-airogs-light-v2/eyepac-light-v2-512-jpg'\n",
    "    train_path = root_path + '/train'\n",
    "    test_path = root_path + '/test'\n",
    "    valid_path = root_path + '/validation'\n",
    "    output_path = \"/kaggle/working/\"\n",
    "    batch_size = 16\n",
    "    lr = 1e-3\n",
    "    seed = 1\n",
    "    num_epochs = 40\n",
    "    model_names = ''\n",
    "    \n",
    "config.root_path"
   ]
  },
  {
   "cell_type": "code",
   "execution_count": 5,
   "id": "0e7eab58",
   "metadata": {
    "execution": {
     "iopub.execute_input": "2024-06-24T06:16:19.879544Z",
     "iopub.status.busy": "2024-06-24T06:16:19.878912Z",
     "iopub.status.idle": "2024-06-24T06:16:39.927858Z",
     "shell.execute_reply": "2024-06-24T06:16:39.927025Z"
    },
    "papermill": {
     "duration": 20.065687,
     "end_time": "2024-06-24T06:16:39.930105",
     "exception": false,
     "start_time": "2024-06-24T06:16:19.864418",
     "status": "completed"
    },
    "tags": []
   },
   "outputs": [],
   "source": [
    "def get_df(path): \n",
    "    paths = Path(path).rglob(\"*.jpg\")\n",
    "    files = [str(path) for path in paths]\n",
    "    labels = [file.split('/')[-2] for file in files]\n",
    "    \n",
    "    df = pd.DataFrame()\n",
    "    df['path'] = files\n",
    "    df['label'] = labels\n",
    "    df['label'] = df['label'].map({'RG':1, 'NRG': 0})\n",
    "    return df\n",
    "\n",
    "# Assuming CFG.path_to_data is set to the correct data path, the following lines will create your dataframes:\n",
    "train_df = get_df(config.train_path)\n",
    "valid_df = get_df(config.valid_path)\n",
    "test_df = get_df(config.test_path)"
   ]
  },
  {
   "cell_type": "code",
   "execution_count": 6,
   "id": "6106449d",
   "metadata": {
    "execution": {
     "iopub.execute_input": "2024-06-24T06:16:39.959209Z",
     "iopub.status.busy": "2024-06-24T06:16:39.958905Z",
     "iopub.status.idle": "2024-06-24T06:16:39.972909Z",
     "shell.execute_reply": "2024-06-24T06:16:39.972008Z"
    },
    "papermill": {
     "duration": 0.030553,
     "end_time": "2024-06-24T06:16:39.974720",
     "exception": false,
     "start_time": "2024-06-24T06:16:39.944167",
     "status": "completed"
    },
    "tags": []
   },
   "outputs": [
    {
     "data": {
      "text/html": [
       "<div>\n",
       "<style scoped>\n",
       "    .dataframe tbody tr th:only-of-type {\n",
       "        vertical-align: middle;\n",
       "    }\n",
       "\n",
       "    .dataframe tbody tr th {\n",
       "        vertical-align: top;\n",
       "    }\n",
       "\n",
       "    .dataframe thead th {\n",
       "        text-align: right;\n",
       "    }\n",
       "</style>\n",
       "<table border=\"1\" class=\"dataframe\">\n",
       "  <thead>\n",
       "    <tr style=\"text-align: right;\">\n",
       "      <th></th>\n",
       "      <th>path</th>\n",
       "      <th>label</th>\n",
       "    </tr>\n",
       "  </thead>\n",
       "  <tbody>\n",
       "    <tr>\n",
       "      <th>0</th>\n",
       "      <td>/kaggle/input/glaucoma-dataset-eyepacs-airogs-...</td>\n",
       "      <td>1</td>\n",
       "    </tr>\n",
       "    <tr>\n",
       "      <th>1</th>\n",
       "      <td>/kaggle/input/glaucoma-dataset-eyepacs-airogs-...</td>\n",
       "      <td>1</td>\n",
       "    </tr>\n",
       "    <tr>\n",
       "      <th>2</th>\n",
       "      <td>/kaggle/input/glaucoma-dataset-eyepacs-airogs-...</td>\n",
       "      <td>1</td>\n",
       "    </tr>\n",
       "    <tr>\n",
       "      <th>3</th>\n",
       "      <td>/kaggle/input/glaucoma-dataset-eyepacs-airogs-...</td>\n",
       "      <td>1</td>\n",
       "    </tr>\n",
       "    <tr>\n",
       "      <th>4</th>\n",
       "      <td>/kaggle/input/glaucoma-dataset-eyepacs-airogs-...</td>\n",
       "      <td>1</td>\n",
       "    </tr>\n",
       "    <tr>\n",
       "      <th>...</th>\n",
       "      <td>...</td>\n",
       "      <td>...</td>\n",
       "    </tr>\n",
       "    <tr>\n",
       "      <th>7995</th>\n",
       "      <td>/kaggle/input/glaucoma-dataset-eyepacs-airogs-...</td>\n",
       "      <td>0</td>\n",
       "    </tr>\n",
       "    <tr>\n",
       "      <th>7996</th>\n",
       "      <td>/kaggle/input/glaucoma-dataset-eyepacs-airogs-...</td>\n",
       "      <td>0</td>\n",
       "    </tr>\n",
       "    <tr>\n",
       "      <th>7997</th>\n",
       "      <td>/kaggle/input/glaucoma-dataset-eyepacs-airogs-...</td>\n",
       "      <td>0</td>\n",
       "    </tr>\n",
       "    <tr>\n",
       "      <th>7998</th>\n",
       "      <td>/kaggle/input/glaucoma-dataset-eyepacs-airogs-...</td>\n",
       "      <td>0</td>\n",
       "    </tr>\n",
       "    <tr>\n",
       "      <th>7999</th>\n",
       "      <td>/kaggle/input/glaucoma-dataset-eyepacs-airogs-...</td>\n",
       "      <td>0</td>\n",
       "    </tr>\n",
       "  </tbody>\n",
       "</table>\n",
       "<p>8000 rows × 2 columns</p>\n",
       "</div>"
      ],
      "text/plain": [
       "                                                   path  label\n",
       "0     /kaggle/input/glaucoma-dataset-eyepacs-airogs-...      1\n",
       "1     /kaggle/input/glaucoma-dataset-eyepacs-airogs-...      1\n",
       "2     /kaggle/input/glaucoma-dataset-eyepacs-airogs-...      1\n",
       "3     /kaggle/input/glaucoma-dataset-eyepacs-airogs-...      1\n",
       "4     /kaggle/input/glaucoma-dataset-eyepacs-airogs-...      1\n",
       "...                                                 ...    ...\n",
       "7995  /kaggle/input/glaucoma-dataset-eyepacs-airogs-...      0\n",
       "7996  /kaggle/input/glaucoma-dataset-eyepacs-airogs-...      0\n",
       "7997  /kaggle/input/glaucoma-dataset-eyepacs-airogs-...      0\n",
       "7998  /kaggle/input/glaucoma-dataset-eyepacs-airogs-...      0\n",
       "7999  /kaggle/input/glaucoma-dataset-eyepacs-airogs-...      0\n",
       "\n",
       "[8000 rows x 2 columns]"
      ]
     },
     "execution_count": 6,
     "metadata": {},
     "output_type": "execute_result"
    }
   ],
   "source": [
    "train_df"
   ]
  },
  {
   "cell_type": "code",
   "execution_count": 7,
   "id": "4e2d0b9f",
   "metadata": {
    "execution": {
     "iopub.execute_input": "2024-06-24T06:16:40.003999Z",
     "iopub.status.busy": "2024-06-24T06:16:40.003707Z",
     "iopub.status.idle": "2024-06-24T06:16:40.016030Z",
     "shell.execute_reply": "2024-06-24T06:16:40.015288Z"
    },
    "papermill": {
     "duration": 0.029224,
     "end_time": "2024-06-24T06:16:40.017780",
     "exception": false,
     "start_time": "2024-06-24T06:16:39.988556",
     "status": "completed"
    },
    "tags": []
   },
   "outputs": [],
   "source": [
    "from PIL import Image\n",
    "import os\n",
    "import torch\n",
    "from sklearn.model_selection import train_test_split\n",
    "\n",
    "    \n",
    "# define a data class\n",
    "class ClassificationDataset:\n",
    "    def __init__(self, data, data_path, transform, training=True):\n",
    "        \"\"\"Define the dataset for classification problems\n",
    "\n",
    "        Args:\n",
    "            data ([dataframe]): [a dataframe that contain 2 columns: image name and label]\n",
    "            data_path ([str]): [path/to/folder that contains image file]\n",
    "            transform : [augmentation methods and transformation of images]\n",
    "            training (bool, optional): []. Defaults to True.\n",
    "        \"\"\"\n",
    "        self.data = data\n",
    "        self.imgs = data[\"path\"].unique().tolist()\n",
    "        self.data_path = data_path\n",
    "        self.training = training\n",
    "        self.transform = transform\n",
    "\n",
    "    def __getitem__(self, idx):\n",
    "        img = Image.open(os.path.join(self.data_path, self.data.iloc[idx, 0]))\n",
    "        if(self.training):\n",
    "            label = self.data.iloc[idx, 1]\n",
    "        if self.transform is not None:\n",
    "            img = self.transform(img)\n",
    "        if(self.training):\n",
    "            return img, label\n",
    "        else:\n",
    "            return img\n",
    "\n",
    "    def __len__(self):\n",
    "        return len(self.imgs)\n",
    "\n",
    "\n",
    "def make_loader(dataset, train_batch_size, validation_split=0.2):\n",
    "    \"\"\"make dataloader for pytorch training\n",
    "\n",
    "    Args:\n",
    "        dataset ([object]): [the dataset object]\n",
    "        train_batch_size ([int]): [training batch size]\n",
    "        validation_split (float, optional): [validation ratio]. Defaults to 0.2.\n",
    "\n",
    "    Returns:\n",
    "        [type]: [description]\n",
    "    \"\"\"\n",
    "    # number of samples in train and test set\n",
    "    train_len = int(len(dataset) * (1 - validation_split))\n",
    "    test_len = len(dataset) - train_len\n",
    "    train_set, test_set = torch.utils.data.random_split(dataset, [train_len, test_len])\n",
    "    # create train_loader\n",
    "    print(len(train_set))\n",
    "    train_loader = torch.utils.data.DataLoader(\n",
    "        train_set, batch_size=train_batch_size, shuffle=True,\n",
    "    )\n",
    "    # create test_loader\n",
    "    test_loader = torch.utils.data.DataLoader(test_set, batch_size=1, shuffle=False,)\n",
    "    return train_loader, test_loader\n",
    "\n",
    "\n",
    "def data_split(data, test_size):\n",
    "    x_train, x_test, y_train, y_test = train_test_split(\n",
    "        data, data[\"label\"], test_size=test_size, stratify = data.iloc[:,1]\n",
    "    )\n",
    "    return x_train, x_test, y_train, y_test"
   ]
  },
  {
   "cell_type": "markdown",
   "id": "b492593f",
   "metadata": {
    "papermill": {
     "duration": 0.013715,
     "end_time": "2024-06-24T06:16:40.045463",
     "exception": false,
     "start_time": "2024-06-24T06:16:40.031748",
     "status": "completed"
    },
    "tags": []
   },
   "source": [
    "# 1. Define DataLoader"
   ]
  },
  {
   "cell_type": "code",
   "execution_count": 8,
   "id": "47279691",
   "metadata": {
    "execution": {
     "iopub.execute_input": "2024-06-24T06:16:40.075326Z",
     "iopub.status.busy": "2024-06-24T06:16:40.074976Z",
     "iopub.status.idle": "2024-06-24T06:16:40.079383Z",
     "shell.execute_reply": "2024-06-24T06:16:40.078618Z"
    },
    "papermill": {
     "duration": 0.021316,
     "end_time": "2024-06-24T06:16:40.081243",
     "exception": false,
     "start_time": "2024-06-24T06:16:40.059927",
     "status": "completed"
    },
    "tags": []
   },
   "outputs": [],
   "source": [
    "mean = (0.5, 0.5, 0.5)\n",
    "std = (0.5, 0.5, 0.5)"
   ]
  },
  {
   "cell_type": "code",
   "execution_count": 9,
   "id": "e2569c70",
   "metadata": {
    "execution": {
     "iopub.execute_input": "2024-06-24T06:16:40.111099Z",
     "iopub.status.busy": "2024-06-24T06:16:40.110240Z",
     "iopub.status.idle": "2024-06-24T06:16:40.116230Z",
     "shell.execute_reply": "2024-06-24T06:16:40.115409Z"
    },
    "papermill": {
     "duration": 0.022969,
     "end_time": "2024-06-24T06:16:40.118219",
     "exception": false,
     "start_time": "2024-06-24T06:16:40.095250",
     "status": "completed"
    },
    "tags": []
   },
   "outputs": [],
   "source": [
    "import torchvision\n",
    "transform = torchvision.transforms.Compose([torchvision.transforms.Resize((224, 224)),\n",
    "                                               torchvision.transforms.ToTensor(),\n",
    "                                               torchvision.transforms.Normalize(mean, std)])"
   ]
  },
  {
   "cell_type": "code",
   "execution_count": 10,
   "id": "1416bfd3",
   "metadata": {
    "execution": {
     "iopub.execute_input": "2024-06-24T06:16:40.147182Z",
     "iopub.status.busy": "2024-06-24T06:16:40.146929Z",
     "iopub.status.idle": "2024-06-24T06:16:40.151362Z",
     "shell.execute_reply": "2024-06-24T06:16:40.150572Z"
    },
    "papermill": {
     "duration": 0.021094,
     "end_time": "2024-06-24T06:16:40.153161",
     "exception": false,
     "start_time": "2024-06-24T06:16:40.132067",
     "status": "completed"
    },
    "tags": []
   },
   "outputs": [],
   "source": [
    "test_transform = torchvision.transforms.Compose([torchvision.transforms.Resize((224, 224)),\n",
    "                                               torchvision.transforms.ToTensor(),\n",
    "                                               torchvision.transforms.Normalize(mean, std)])"
   ]
  },
  {
   "cell_type": "code",
   "execution_count": 11,
   "id": "6f5e0040",
   "metadata": {
    "execution": {
     "iopub.execute_input": "2024-06-24T06:16:40.181903Z",
     "iopub.status.busy": "2024-06-24T06:16:40.181612Z",
     "iopub.status.idle": "2024-06-24T06:16:40.207986Z",
     "shell.execute_reply": "2024-06-24T06:16:40.207124Z"
    },
    "papermill": {
     "duration": 0.042598,
     "end_time": "2024-06-24T06:16:40.209686",
     "exception": false,
     "start_time": "2024-06-24T06:16:40.167088",
     "status": "completed"
    },
    "tags": []
   },
   "outputs": [
    {
     "name": "stdout",
     "output_type": "stream",
     "text": [
      "6400\n"
     ]
    }
   ],
   "source": [
    "dataset = ClassificationDataset(train_df,data_path = \"\",transform=transform,training=True)\n",
    "train_loader,val_loader = make_loader(dataset, train_batch_size=config.batch_size, validation_split=0.2)"
   ]
  },
  {
   "cell_type": "code",
   "execution_count": 12,
   "id": "48283f1f",
   "metadata": {
    "execution": {
     "iopub.execute_input": "2024-06-24T06:16:40.238956Z",
     "iopub.status.busy": "2024-06-24T06:16:40.238432Z",
     "iopub.status.idle": "2024-06-24T06:16:40.243025Z",
     "shell.execute_reply": "2024-06-24T06:16:40.242143Z"
    },
    "papermill": {
     "duration": 0.021042,
     "end_time": "2024-06-24T06:16:40.244811",
     "exception": false,
     "start_time": "2024-06-24T06:16:40.223769",
     "status": "completed"
    },
    "tags": []
   },
   "outputs": [
    {
     "name": "stdout",
     "output_type": "stream",
     "text": [
      "Random seed:  61\n"
     ]
    }
   ],
   "source": [
    "import random\n",
    "\n",
    "random_seed = random.randint(0, 128)\n",
    "print(\"Random seed: \",random_seed)"
   ]
  },
  {
   "cell_type": "code",
   "execution_count": 13,
   "id": "b15b89a0",
   "metadata": {
    "execution": {
     "iopub.execute_input": "2024-06-24T06:16:40.273732Z",
     "iopub.status.busy": "2024-06-24T06:16:40.273493Z",
     "iopub.status.idle": "2024-06-24T06:16:40.285050Z",
     "shell.execute_reply": "2024-06-24T06:16:40.284191Z"
    },
    "papermill": {
     "duration": 0.028231,
     "end_time": "2024-06-24T06:16:40.286972",
     "exception": false,
     "start_time": "2024-06-24T06:16:40.258741",
     "status": "completed"
    },
    "tags": []
   },
   "outputs": [],
   "source": [
    " X_train, X_test, y_train, y_test = train_test_split(train_df, train_df['label'],stratify=train_df['label'], test_size=0.2, random_state=random_seed)"
   ]
  },
  {
   "cell_type": "code",
   "execution_count": 14,
   "id": "6dfc9a29",
   "metadata": {
    "execution": {
     "iopub.execute_input": "2024-06-24T06:16:40.316584Z",
     "iopub.status.busy": "2024-06-24T06:16:40.316261Z",
     "iopub.status.idle": "2024-06-24T06:16:40.324352Z",
     "shell.execute_reply": "2024-06-24T06:16:40.323483Z"
    },
    "papermill": {
     "duration": 0.025147,
     "end_time": "2024-06-24T06:16:40.326233",
     "exception": false,
     "start_time": "2024-06-24T06:16:40.301086",
     "status": "completed"
    },
    "tags": []
   },
   "outputs": [],
   "source": [
    "train_dataset = ClassificationDataset(X_train,data_path = \"\",transform=transform,training=True)\n",
    "val_dataset = ClassificationDataset(X_test,data_path = \"\",transform=test_transform,training=True)"
   ]
  },
  {
   "cell_type": "code",
   "execution_count": 15,
   "id": "c705f017",
   "metadata": {
    "execution": {
     "iopub.execute_input": "2024-06-24T06:16:40.355896Z",
     "iopub.status.busy": "2024-06-24T06:16:40.355634Z",
     "iopub.status.idle": "2024-06-24T06:16:40.360274Z",
     "shell.execute_reply": "2024-06-24T06:16:40.359429Z"
    },
    "papermill": {
     "duration": 0.02146,
     "end_time": "2024-06-24T06:16:40.362181",
     "exception": false,
     "start_time": "2024-06-24T06:16:40.340721",
     "status": "completed"
    },
    "tags": []
   },
   "outputs": [],
   "source": [
    "train_loader = torch.utils.data.DataLoader(\n",
    "        train_dataset, batch_size=config.batch_size, shuffle=True,\n",
    "    )\n",
    "    # create test_loader\n",
    "val_loader = torch.utils.data.DataLoader(val_dataset, batch_size=1, shuffle=False)"
   ]
  },
  {
   "cell_type": "code",
   "execution_count": 16,
   "id": "4a665baf",
   "metadata": {
    "execution": {
     "iopub.execute_input": "2024-06-24T06:16:40.391407Z",
     "iopub.status.busy": "2024-06-24T06:16:40.391139Z",
     "iopub.status.idle": "2024-06-24T06:16:40.396048Z",
     "shell.execute_reply": "2024-06-24T06:16:40.395202Z"
    },
    "papermill": {
     "duration": 0.021725,
     "end_time": "2024-06-24T06:16:40.397953",
     "exception": false,
     "start_time": "2024-06-24T06:16:40.376228",
     "status": "completed"
    },
    "tags": []
   },
   "outputs": [],
   "source": [
    "testset = ClassificationDataset(test_df,data_path = \"\",transform=test_transform,training=False)\n",
    "test_loader = torch.utils.data.DataLoader(\n",
    "        testset, batch_size=1, shuffle=False,\n",
    "    )"
   ]
  },
  {
   "cell_type": "code",
   "execution_count": 17,
   "id": "1c0b07a0",
   "metadata": {
    "execution": {
     "iopub.execute_input": "2024-06-24T06:16:40.427376Z",
     "iopub.status.busy": "2024-06-24T06:16:40.426713Z",
     "iopub.status.idle": "2024-06-24T06:16:49.322468Z",
     "shell.execute_reply": "2024-06-24T06:16:49.321513Z"
    },
    "papermill": {
     "duration": 8.913178,
     "end_time": "2024-06-24T06:16:49.325109",
     "exception": false,
     "start_time": "2024-06-24T06:16:40.411931",
     "status": "completed"
    },
    "tags": []
   },
   "outputs": [
    {
     "name": "stderr",
     "output_type": "stream",
     "text": [
      "100%|██████████| 770/770 [00:08<00:00, 87.01it/s]\n"
     ]
    }
   ],
   "source": [
    "from tqdm import tqdm\n",
    "psum    = torch.tensor([0.0, 0.0, 0.0])\n",
    "psum_sq = torch.tensor([0.0, 0.0, 0.0])\n",
    "\n",
    "# loop through images\n",
    "for inputs in tqdm(test_loader):\n",
    "    psum    += inputs.sum(axis        = [0, 2, 3])\n",
    "    psum_sq += (inputs ** 2).sum(axis = [0, 2, 3])\n",
    "\n",
    "count = len(test_df) * 224 * 224\n",
    "\n",
    "# mean and std\n",
    "test_mean = psum / count\n",
    "test_var  = (psum_sq / count) - (test_mean ** 2)\n",
    "test_std  = torch.sqrt(test_var)"
   ]
  },
  {
   "cell_type": "code",
   "execution_count": 18,
   "id": "091638ee",
   "metadata": {
    "execution": {
     "iopub.execute_input": "2024-06-24T06:16:49.367565Z",
     "iopub.status.busy": "2024-06-24T06:16:49.367265Z",
     "iopub.status.idle": "2024-06-24T06:18:06.692072Z",
     "shell.execute_reply": "2024-06-24T06:18:06.690366Z"
    },
    "papermill": {
     "duration": 77.348363,
     "end_time": "2024-06-24T06:18:06.694181",
     "exception": false,
     "start_time": "2024-06-24T06:16:49.345818",
     "status": "completed"
    },
    "tags": []
   },
   "outputs": [
    {
     "name": "stderr",
     "output_type": "stream",
     "text": [
      "100%|██████████| 400/400 [01:17<00:00,  5.17it/s]\n"
     ]
    }
   ],
   "source": [
    "psum    = torch.tensor([0.0, 0.0, 0.0])\n",
    "psum_sq = torch.tensor([0.0, 0.0, 0.0])\n",
    "\n",
    "# loop through images\n",
    "for inputs,_ in tqdm(train_loader):\n",
    "    psum    += inputs.sum(axis        = [0, 2, 3])\n",
    "    psum_sq += (inputs ** 2).sum(axis = [0, 2, 3])\n",
    "\n",
    "count = len(train_loader) * 224 * 224\n",
    "\n",
    "# mean and std\n",
    "train_mean = psum / count\n",
    "train_var  = (psum_sq / count) - (train_mean ** 2)\n",
    "train_std  = torch.sqrt(train_var)"
   ]
  },
  {
   "cell_type": "code",
   "execution_count": 19,
   "id": "8fcaf139",
   "metadata": {
    "execution": {
     "iopub.execute_input": "2024-06-24T06:18:06.839605Z",
     "iopub.status.busy": "2024-06-24T06:18:06.839252Z",
     "iopub.status.idle": "2024-06-24T06:18:06.846060Z",
     "shell.execute_reply": "2024-06-24T06:18:06.845181Z"
    },
    "papermill": {
     "duration": 0.060465,
     "end_time": "2024-06-24T06:18:06.847883",
     "exception": false,
     "start_time": "2024-06-24T06:18:06.787418",
     "status": "completed"
    },
    "tags": []
   },
   "outputs": [],
   "source": [
    "def imshow(inp, title=None):\n",
    "    \"\"\"Imshow for Tensor.\"\"\"\n",
    "    inp = inp.numpy().transpose((1, 2, 0))\n",
    "    mean = np.array([0.485, 0.456, 0.406])\n",
    "    std = np.array([0.229, 0.224, 0.225])\n",
    "    inp = std * inp + mean\n",
    "    inp = np.clip(inp, 0, 1)\n",
    "    plt.figure(figsize = (12, 12))\n",
    "    plt.imshow(inp)\n",
    "    if title is not None:\n",
    "        plt.title(title)\n",
    "    plt.axis(\"off\")\n",
    "    plt.pause(0.001)"
   ]
  },
  {
   "cell_type": "code",
   "execution_count": 20,
   "id": "47d2081e",
   "metadata": {
    "execution": {
     "iopub.execute_input": "2024-06-24T06:18:06.952672Z",
     "iopub.status.busy": "2024-06-24T06:18:06.952374Z",
     "iopub.status.idle": "2024-06-24T06:18:07.653770Z",
     "shell.execute_reply": "2024-06-24T06:18:07.652899Z"
    },
    "papermill": {
     "duration": 0.75812,
     "end_time": "2024-06-24T06:18:07.658137",
     "exception": false,
     "start_time": "2024-06-24T06:18:06.900017",
     "status": "completed"
    },
    "tags": []
   },
   "outputs": [
    {
     "data": {
      "image/png": "[encoded data removed]",
      "text/plain": [
       "<Figure size 1200x1200 with 1 Axes>"
      ]
     },
     "metadata": {},
     "output_type": "display_data"
    }
   ],
   "source": [
    "import matplotlib.pyplot as plt\n",
    "\n",
    "%matplotlib inline\n",
    "# Visualization\n",
    "images, classes = next(iter(train_loader))\n",
    "# Make a grid from batch\n",
    "out = torchvision.utils.make_grid(images, nrow=8)\n",
    "imshow(out, title=classes)"
   ]
  },
  {
   "cell_type": "markdown",
   "id": "fc4ec107",
   "metadata": {
    "papermill": {
     "duration": 0.05347,
     "end_time": "2024-06-24T06:18:07.765929",
     "exception": false,
     "start_time": "2024-06-24T06:18:07.712459",
     "status": "completed"
    },
    "tags": []
   },
   "source": [
    "# 2. Define Metrics and Optimizers and Loss function\n"
   ]
  },
  {
   "cell_type": "code",
   "execution_count": 21,
   "id": "768dbc34",
   "metadata": {
    "execution": {
     "iopub.execute_input": "2024-06-24T06:18:07.875440Z",
     "iopub.status.busy": "2024-06-24T06:18:07.874777Z",
     "iopub.status.idle": "2024-06-24T06:18:07.884423Z",
     "shell.execute_reply": "2024-06-24T06:18:07.883558Z"
    },
    "papermill": {
     "duration": 0.066499,
     "end_time": "2024-06-24T06:18:07.886243",
     "exception": false,
     "start_time": "2024-06-24T06:18:07.819744",
     "status": "completed"
    },
    "tags": []
   },
   "outputs": [],
   "source": [
    "from sklearn import metrics as skmetrics\n",
    "import numpy\n",
    "class Metrics:\n",
    "    def __init__(self, metric_names):\n",
    "        self.metric_names = metric_names\n",
    "        # initialize a metric dictionary\n",
    "        self.metric_dict = {metric_name: [0] for metric_name in self.metric_names}\n",
    "\n",
    "    def step(self, labels, preds):\n",
    "        for metric in self.metric_names:\n",
    "            # get the metric function\n",
    "            do_metric = getattr(\n",
    "                skmetrics, metric, \"The metric {} is not implemented\".format(metric)\n",
    "            )\n",
    "            # check if metric require average method, if yes set to 'micro' or 'macro' or 'None'\n",
    "            try:\n",
    "                self.metric_dict[metric].append(\n",
    "                    do_metric(labels, preds, average=\"macro\")\n",
    "                )\n",
    "            except:\n",
    "                self.metric_dict[metric].append(do_metric(labels, preds))\n",
    "\n",
    "    def epoch(self):\n",
    "        # calculate metrics for an entire epoch\n",
    "        avg = [sum(metric) / (len(metric) - 1) for metric in self.metric_dict.values()]\n",
    "        metric_as_dict = dict(zip(self.metric_names, avg))\n",
    "        return metric_as_dict\n",
    "\n",
    "    def last_step_metrics(self):\n",
    "        # return metrics of last steps\n",
    "        values = [self.metric_dict[metric][-1] for metric in self.metric_names]\n",
    "        metric_as_dict = dict(zip(self.metric_names, values))\n",
    "        return metric_as_dict"
   ]
  },
  {
   "cell_type": "code",
   "execution_count": 22,
   "id": "eeef5ee9",
   "metadata": {
    "execution": {
     "iopub.execute_input": "2024-06-24T06:18:07.996515Z",
     "iopub.status.busy": "2024-06-24T06:18:07.995843Z",
     "iopub.status.idle": "2024-06-24T06:18:08.000135Z",
     "shell.execute_reply": "2024-06-24T06:18:07.999229Z"
    },
    "papermill": {
     "duration": 0.061719,
     "end_time": "2024-06-24T06:18:08.001942",
     "exception": false,
     "start_time": "2024-06-24T06:18:07.940223",
     "status": "completed"
    },
    "tags": []
   },
   "outputs": [],
   "source": [
    "train_metrics = Metrics([\"accuracy_score\",\"f1_score\"])\n",
    "val_metrics = Metrics([\"accuracy_score\",\"f1_score\"])"
   ]
  },
  {
   "cell_type": "code",
   "execution_count": 23,
   "id": "9aef0c0e",
   "metadata": {
    "execution": {
     "iopub.execute_input": "2024-06-24T06:18:08.112757Z",
     "iopub.status.busy": "2024-06-24T06:18:08.112139Z",
     "iopub.status.idle": "2024-06-24T06:18:08.165416Z",
     "shell.execute_reply": "2024-06-24T06:18:08.164469Z"
    },
    "papermill": {
     "duration": 0.110967,
     "end_time": "2024-06-24T06:18:08.167393",
     "exception": false,
     "start_time": "2024-06-24T06:18:08.056426",
     "status": "completed"
    },
    "tags": []
   },
   "outputs": [],
   "source": [
    "device = torch.device(\"cuda:0\" if torch.cuda.is_available() else \"cpu\")\n",
    "from torch import nn\n",
    "criterion = nn.CrossEntropyLoss()"
   ]
  },
  {
   "cell_type": "code",
   "execution_count": 24,
   "id": "ede8d2fa",
   "metadata": {
    "execution": {
     "iopub.execute_input": "2024-06-24T06:18:08.278049Z",
     "iopub.status.busy": "2024-06-24T06:18:08.277482Z",
     "iopub.status.idle": "2024-06-24T06:18:24.118978Z",
     "shell.execute_reply": "2024-06-24T06:18:24.117993Z"
    },
    "papermill": {
     "duration": 15.899174,
     "end_time": "2024-06-24T06:18:24.121250",
     "exception": false,
     "start_time": "2024-06-24T06:18:08.222076",
     "status": "completed"
    },
    "tags": []
   },
   "outputs": [
    {
     "name": "stdout",
     "output_type": "stream",
     "text": [
      "Found existing installation: timm 1.0.3\r\n",
      "Uninstalling timm-1.0.3:\r\n",
      "  Successfully uninstalled timm-1.0.3\r\n",
      "Collecting timm==0.4.12\r\n",
      "  Downloading timm-0.4.12-py3-none-any.whl.metadata (30 kB)\r\n",
      "Requirement already satisfied: torch>=1.4 in /opt/conda/lib/python3.10/site-packages (from timm==0.4.12) (2.1.2)\r\n",
      "Requirement already satisfied: torchvision in /opt/conda/lib/python3.10/site-packages (from timm==0.4.12) (0.16.2)\r\n",
      "Requirement already satisfied: filelock in /opt/conda/lib/python3.10/site-packages (from torch>=1.4->timm==0.4.12) (3.13.1)\r\n",
      "Requirement already satisfied: typing-extensions in /opt/conda/lib/python3.10/site-packages (from torch>=1.4->timm==0.4.12) (4.9.0)\r\n",
      "Requirement already satisfied: sympy in /opt/conda/lib/python3.10/site-packages (from torch>=1.4->timm==0.4.12) (1.12.1)\r\n",
      "Requirement already satisfied: networkx in /opt/conda/lib/python3.10/site-packages (from torch>=1.4->timm==0.4.12) (3.2.1)\r\n",
      "Requirement already satisfied: jinja2 in /opt/conda/lib/python3.10/site-packages (from torch>=1.4->timm==0.4.12) (3.1.2)\r\n",
      "Requirement already satisfied: fsspec in /opt/conda/lib/python3.10/site-packages (from torch>=1.4->timm==0.4.12) (2024.3.1)\r\n",
      "Requirement already satisfied: numpy in /opt/conda/lib/python3.10/site-packages (from torchvision->timm==0.4.12) (1.26.4)\r\n",
      "Requirement already satisfied: requests in /opt/conda/lib/python3.10/site-packages (from torchvision->timm==0.4.12) (2.32.3)\r\n",
      "Requirement already satisfied: pillow!=8.3.*,>=5.3.0 in /opt/conda/lib/python3.10/site-packages (from torchvision->timm==0.4.12) (9.5.0)\r\n",
      "Requirement already satisfied: MarkupSafe>=2.0 in /opt/conda/lib/python3.10/site-packages (from jinja2->torch>=1.4->timm==0.4.12) (2.1.3)\r\n",
      "Requirement already satisfied: charset-normalizer<4,>=2 in /opt/conda/lib/python3.10/site-packages (from requests->torchvision->timm==0.4.12) (3.3.2)\r\n",
      "Requirement already satisfied: idna<4,>=2.5 in /opt/conda/lib/python3.10/site-packages (from requests->torchvision->timm==0.4.12) (3.6)\r\n",
      "Requirement already satisfied: urllib3<3,>=1.21.1 in /opt/conda/lib/python3.10/site-packages (from requests->torchvision->timm==0.4.12) (1.26.18)\r\n",
      "Requirement already satisfied: certifi>=2017.4.17 in /opt/conda/lib/python3.10/site-packages (from requests->torchvision->timm==0.4.12) (2024.2.2)\r\n",
      "Requirement already satisfied: mpmath<1.4.0,>=1.1.0 in /opt/conda/lib/python3.10/site-packages (from sympy->torch>=1.4->timm==0.4.12) (1.3.0)\r\n",
      "Downloading timm-0.4.12-py3-none-any.whl (376 kB)\r\n",
      "\u001b[2K   \u001b[90m━━━━━━━━━━━━━━━━━━━━━━━━━━━━━━━━━━━━━━━━\u001b[0m \u001b[32m377.0/377.0 kB\u001b[0m \u001b[31m14.5 MB/s\u001b[0m eta \u001b[36m0:00:00\u001b[0m\r\n",
      "\u001b[?25hInstalling collected packages: timm\r\n",
      "Successfully installed timm-0.4.12\r\n"
     ]
    }
   ],
   "source": [
    "!pip uninstall timm -y\n",
    "!pip install timm==0.4.12"
   ]
  },
  {
   "cell_type": "markdown",
   "id": "557a5ff1",
   "metadata": {
    "papermill": {
     "duration": 0.054789,
     "end_time": "2024-06-24T06:18:24.231662",
     "exception": false,
     "start_time": "2024-06-24T06:18:24.176873",
     "status": "completed"
    },
    "tags": []
   },
   "source": [
    "4. Define the Model: Transfer Learning\n"
   ]
  },
  {
   "cell_type": "code",
   "execution_count": 25,
   "id": "1df339e2",
   "metadata": {
    "execution": {
     "iopub.execute_input": "2024-06-24T06:18:24.342720Z",
     "iopub.status.busy": "2024-06-24T06:18:24.342370Z",
     "iopub.status.idle": "2024-06-24T06:18:27.473461Z",
     "shell.execute_reply": "2024-06-24T06:18:27.472662Z"
    },
    "papermill": {
     "duration": 3.189391,
     "end_time": "2024-06-24T06:18:27.475680",
     "exception": false,
     "start_time": "2024-06-24T06:18:24.286289",
     "status": "completed"
    },
    "tags": []
   },
   "outputs": [
    {
     "data": {
      "application/vnd.jupyter.widget-view+json": {
       "model_id": "b179385466bb4015aa44a4aaf8988db8",
       "version_major": 2,
       "version_minor": 0
      },
      "text/plain": [
       "model.safetensors:   0%|          | 0.00/353M [00:00<?, ?B/s]"
      ]
     },
     "metadata": {},
     "output_type": "display_data"
    }
   ],
   "source": [
    "from torchvision import models\n",
    "from torch import nn\n",
    "import timm\n",
    "# Tải mô hình Swin Transformer đã được pretrain\n",
    "model = timm.create_model('swin_base_patch4_window7_224', pretrained=True)\n",
    "# Đặt requires_grad = False cho tất cả các tham số của mô hình\n",
    "for param in model.parameters():\n",
    "    param.requires_grad = True\n",
    "# Tạo một bộ phân loại mới\n",
    "classifier = nn.Sequential(\n",
    "    nn.Linear(in_features=model.head.fc.in_features, out_features=256, bias=True),\n",
    "    nn.Linear(in_features=256, out_features=2, bias=True)\n",
    ")\n",
    "# Thay thế bộ phân loại hiện tại của mô hình bằng bộ phân loại mới\n",
    "model.head.fc = classifier"
   ]
  },
  {
   "cell_type": "code",
   "execution_count": 26,
   "id": "53a9ea0a",
   "metadata": {
    "execution": {
     "iopub.execute_input": "2024-06-24T06:18:27.588810Z",
     "iopub.status.busy": "2024-06-24T06:18:27.588486Z",
     "iopub.status.idle": "2024-06-24T06:18:27.596174Z",
     "shell.execute_reply": "2024-06-24T06:18:27.595269Z"
    },
    "papermill": {
     "duration": 0.065823,
     "end_time": "2024-06-24T06:18:27.598073",
     "exception": false,
     "start_time": "2024-06-24T06:18:27.532250",
     "status": "completed"
    },
    "tags": []
   },
   "outputs": [],
   "source": [
    "optimizer = torch.optim.Adam(model.parameters(), lr=0.01)\n",
    "scheduler = torch.optim.lr_scheduler.ReduceLROnPlateau(\n",
    "        optimizer, \"min\", patience=2, factor=0.5\n",
    "    )"
   ]
  },
  {
   "cell_type": "markdown",
   "id": "3a31d9ad",
   "metadata": {
    "papermill": {
     "duration": 0.054971,
     "end_time": "2024-06-24T06:18:27.707689",
     "exception": false,
     "start_time": "2024-06-24T06:18:27.652718",
     "status": "completed"
    },
    "tags": []
   },
   "source": [
    "# 3. Define a training epoch\n"
   ]
  },
  {
   "cell_type": "code",
   "execution_count": 27,
   "id": "9d9ad21a",
   "metadata": {
    "execution": {
     "iopub.execute_input": "2024-06-24T06:18:27.818513Z",
     "iopub.status.busy": "2024-06-24T06:18:27.818215Z",
     "iopub.status.idle": "2024-06-24T06:18:28.061311Z",
     "shell.execute_reply": "2024-06-24T06:18:28.060476Z"
    },
    "papermill": {
     "duration": 0.301345,
     "end_time": "2024-06-24T06:18:28.063541",
     "exception": false,
     "start_time": "2024-06-24T06:18:27.762196",
     "status": "completed"
    },
    "tags": []
   },
   "outputs": [],
   "source": [
    "model = model.to(device)"
   ]
  },
  {
   "cell_type": "code",
   "execution_count": 28,
   "id": "ac5bae56",
   "metadata": {
    "execution": {
     "iopub.execute_input": "2024-06-24T06:18:28.206043Z",
     "iopub.status.busy": "2024-06-24T06:18:28.205701Z",
     "iopub.status.idle": "2024-06-24T06:18:28.217696Z",
     "shell.execute_reply": "2024-06-24T06:18:28.216806Z"
    },
    "papermill": {
     "duration": 0.078823,
     "end_time": "2024-06-24T06:18:28.219597",
     "exception": false,
     "start_time": "2024-06-24T06:18:28.140774",
     "status": "completed"
    },
    "tags": []
   },
   "outputs": [],
   "source": [
    "def train_one_epoch(\n",
    "    model,\n",
    "    train_loader,\n",
    "    test_loader,\n",
    "    device,\n",
    "    optimizer,\n",
    "    criterion,\n",
    "    train_metrics,\n",
    "    val_metrics,\n",
    "):\n",
    "\n",
    "    # training-the-model\n",
    "    train_loss = 0\n",
    "    valid_loss = 0\n",
    "    all_labels = []\n",
    "    all_preds = []\n",
    "    model.train()\n",
    "    for data, target in train_loader:\n",
    "        # move-tensors-to-GPU\n",
    "        data = data.type(torch.FloatTensor).to(device)\n",
    "        # target=torch.Tensor(target)\n",
    "        target = target.float().to(device)\n",
    "        # clear-the-gradients-of-all-optimized-variables\n",
    "        optimizer.zero_grad()\n",
    "        # forward-pass: compute-predicted-outputs-by-passing-inputs-to-the-model\n",
    "        output = model(data)\n",
    "        # get the prediction label and target label\n",
    "        output = model(data)\n",
    "        preds = torch.argmax(output, axis=1).cpu().detach().numpy()\n",
    "        labels = target.cpu().numpy()\n",
    "        # calculate-the-batch-loss\n",
    "        loss = criterion(output.type(torch.FloatTensor).to(device), target.type(torch.LongTensor).to(device))\n",
    "        # backward-pass: compute-gradient-of-the-loss-wrt-model-parameters\n",
    "        loss.backward()\n",
    "        # perform-a-ingle-optimization-step (parameter-update)\n",
    "        optimizer.step()\n",
    "        # update-training-loss\n",
    "        train_loss += loss.item() * data.size(0)\n",
    "        # calculate training metrics\n",
    "        all_labels.extend(labels)\n",
    "        all_preds.extend(preds)\n",
    "    \n",
    "    train_metrics.step(all_labels, all_preds)\n",
    "\n",
    "    # validate-the-model\n",
    "    model.eval()\n",
    "    all_labels = []\n",
    "    all_preds = []\n",
    "    for data, target in test_loader:\n",
    "        data = data.type(torch.FloatTensor).to(device)\n",
    "        target = target.to(device)\n",
    "        output = model(data)\n",
    "        preds = torch.argmax(output, axis=1).tolist()\n",
    "        labels = target.tolist()\n",
    "        all_labels.extend(labels)\n",
    "        all_preds.extend(preds)\n",
    "        loss = criterion(output, target)\n",
    "\n",
    "        # update-average-validation-loss\n",
    "        valid_loss += loss.item() * data.size(0)\n",
    "\n",
    "    val_metrics.step(all_labels, all_preds)\n",
    "    train_loss = train_loss / len(train_loader.sampler)\n",
    "    valid_loss = valid_loss / len(test_loader.sampler)\n",
    "\n",
    "    return (\n",
    "        train_loss,\n",
    "        valid_loss,\n",
    "        train_metrics.last_step_metrics(),\n",
    "        val_metrics.last_step_metrics(),\n",
    "    )"
   ]
  },
  {
   "cell_type": "markdown",
   "id": "275bbb16",
   "metadata": {
    "papermill": {
     "duration": 0.054602,
     "end_time": "2024-06-24T06:18:28.329206",
     "exception": false,
     "start_time": "2024-06-24T06:18:28.274604",
     "status": "completed"
    },
    "tags": []
   },
   "source": [
    "# Training"
   ]
  },
  {
   "cell_type": "code",
   "execution_count": 29,
   "id": "e6212f10",
   "metadata": {
    "execution": {
     "iopub.execute_input": "2024-06-24T06:18:28.440369Z",
     "iopub.status.busy": "2024-06-24T06:18:28.439681Z",
     "iopub.status.idle": "2024-06-24T06:18:28.443978Z",
     "shell.execute_reply": "2024-06-24T06:18:28.443174Z"
    },
    "papermill": {
     "duration": 0.062002,
     "end_time": "2024-06-24T06:18:28.445944",
     "exception": false,
     "start_time": "2024-06-24T06:18:28.383942",
     "status": "completed"
    },
    "tags": []
   },
   "outputs": [],
   "source": [
    "from tqdm import tqdm\n",
    "from datetime import datetime\n",
    "time_str = str(datetime.now().strftime(\"%Y%m%d-%H%M\"))"
   ]
  },
  {
   "cell_type": "code",
   "execution_count": 30,
   "id": "da35b271",
   "metadata": {
    "execution": {
     "iopub.execute_input": "2024-06-24T06:18:28.558522Z",
     "iopub.status.busy": "2024-06-24T06:18:28.558246Z",
     "iopub.status.idle": "2024-06-24T06:18:45.132575Z",
     "shell.execute_reply": "2024-06-24T06:18:45.131382Z"
    },
    "papermill": {
     "duration": 16.634379,
     "end_time": "2024-06-24T06:18:45.135278",
     "exception": false,
     "start_time": "2024-06-24T06:18:28.500899",
     "status": "completed"
    },
    "tags": []
   },
   "outputs": [
    {
     "name": "stderr",
     "output_type": "stream",
     "text": [
      "\u001b[34m\u001b[1mwandb\u001b[0m: Currently logged in as: \u001b[33mthinh_dao_tuan\u001b[0m. Use \u001b[1m`wandb login --relogin`\u001b[0m to force relogin\n",
      "\u001b[34m\u001b[1mwandb\u001b[0m: wandb version 0.17.2 is available!  To upgrade, please run:\n",
      "\u001b[34m\u001b[1mwandb\u001b[0m:  $ pip install wandb --upgrade\n",
      "\u001b[34m\u001b[1mwandb\u001b[0m: Tracking run with wandb version 0.17.0\n",
      "\u001b[34m\u001b[1mwandb\u001b[0m: Run data is saved locally in \u001b[35m\u001b[1m/kaggle/working/wandb/run-20240624_061828-bapd84ez\u001b[0m\n",
      "\u001b[34m\u001b[1mwandb\u001b[0m: Run \u001b[1m`wandb offline`\u001b[0m to turn off syncing.\n",
      "\u001b[34m\u001b[1mwandb\u001b[0m: Syncing run \u001b[33mswin_base_seed_61\u001b[0m\n",
      "\u001b[34m\u001b[1mwandb\u001b[0m: ⭐️ View project at \u001b[34m\u001b[4mhttps://wandb.ai/thinh_dao_tuan/eyepacs-airogs-light-v2\u001b[0m\n",
      "\u001b[34m\u001b[1mwandb\u001b[0m: 🚀 View run at \u001b[34m\u001b[4mhttps://wandb.ai/thinh_dao_tuan/eyepacs-airogs-light-v2/runs/bapd84ez\u001b[0m\n"
     ]
    }
   ],
   "source": [
    "for param in model.parameters():\n",
    "    param.requires_grad = True\n",
    "optimizer = torch.optim.Adam(model.parameters(), lr=0.0001, betas=(0.9, 0.999), eps=1e-08, weight_decay=0)\n",
    "# Initialize a new run\n",
    "\n",
    "run = wandb.init(project=\"eyepacs-airogs-light-v2\", name = \"swin_base_seed_\" + str(random_seed), reinit=True)\n",
    "\n",
    "model = model.to(device)\n",
    "num_epoch = config.num_epochs\n",
    "best_val_acc = 0.0\n",
    "import logging\n",
    "import numpy as np"
   ]
  },
  {
   "cell_type": "code",
   "execution_count": 31,
   "id": "7f0f801a",
   "metadata": {
    "execution": {
     "iopub.execute_input": "2024-06-24T06:18:45.253993Z",
     "iopub.status.busy": "2024-06-24T06:18:45.253627Z",
     "iopub.status.idle": "2024-06-24T09:14:55.882652Z",
     "shell.execute_reply": "2024-06-24T09:14:55.881673Z"
    },
    "papermill": {
     "duration": 10570.753938,
     "end_time": "2024-06-24T09:14:55.949936",
     "exception": false,
     "start_time": "2024-06-24T06:18:45.195998",
     "status": "completed"
    },
    "tags": []
   },
   "outputs": [
    {
     "name": "stdout",
     "output_type": "stream",
     "text": [
      "begin training process\n"
     ]
    },
    {
     "name": "stderr",
     "output_type": "stream",
     "text": [
      "  0%|          | 0/40 [00:00<?, ?it/s]"
     ]
    },
    {
     "name": "stdout",
     "output_type": "stream",
     "text": [
      "Epoch 1 / 40 \n",
      " Training loss: 0.41660163099877534 - Other training metrics: \n",
      "{'accuracy_score': 0.803125, 'f1_score': 0.803121231617324}\n",
      " \n",
      " Validation loss : 0.31919511063955724 - Other validation metrics:\n",
      "{'accuracy_score': 0.87, 'f1_score': 0.8688160649865031}\n",
      "\n",
      "\n",
      "Validation accuracy= 0.87===> Save best epoch\n"
     ]
    },
    {
     "name": "stderr",
     "output_type": "stream",
     "text": [
      "  2%|▎         | 1/40 [04:36<2:59:25, 276.05s/it]"
     ]
    },
    {
     "name": "stdout",
     "output_type": "stream",
     "text": [
      "Epoch 2 / 40 \n",
      " Training loss: 0.20899132738588377 - Other training metrics: \n",
      "{'accuracy_score': 0.9228125, 'f1_score': 0.9228108039483289}\n",
      " \n",
      " Validation loss : 0.21400029607164697 - Other validation metrics:\n",
      "{'accuracy_score': 0.9225, 'f1_score': 0.9224825585756795}\n",
      "\n",
      "\n",
      "Validation accuracy= 0.9225===> Save best epoch\n"
     ]
    },
    {
     "name": "stderr",
     "output_type": "stream",
     "text": [
      "  5%|▌         | 2/40 [08:59<2:50:12, 268.75s/it]"
     ]
    },
    {
     "name": "stdout",
     "output_type": "stream",
     "text": [
      "Epoch 3 / 40 \n",
      " Training loss: 0.12295660878124182 - Other training metrics: \n",
      "{'accuracy_score': 0.95734375, 'f1_score': 0.9573437406272868}\n",
      " \n",
      " Validation loss : 0.21935519152480992 - Other validation metrics:\n",
      "{'accuracy_score': 0.930625, 'f1_score': 0.9306080586080586}\n",
      "\n",
      "\n",
      "Validation accuracy= 0.930625===> Save best epoch\n"
     ]
    },
    {
     "name": "stderr",
     "output_type": "stream",
     "text": [
      " 10%|█         | 4/40 [17:49<2:39:41, 266.14s/it]"
     ]
    },
    {
     "name": "stdout",
     "output_type": "stream",
     "text": [
      "Epoch 4 / 40 \n",
      " Training loss: 0.08169266732547839 - Other training metrics: \n",
      "{'accuracy_score': 0.97140625, 'f1_score': 0.9714059979874334}\n",
      " \n",
      " Validation loss : 0.22618170764005982 - Other validation metrics:\n",
      "{'accuracy_score': 0.92125, 'f1_score': 0.921232277262384}\n",
      "\n",
      "\n",
      "Validation accuracy= 0.92125===> No saving\n"
     ]
    },
    {
     "name": "stderr",
     "output_type": "stream",
     "text": [
      " 12%|█▎        | 5/40 [22:14<2:34:56, 265.63s/it]"
     ]
    },
    {
     "name": "stdout",
     "output_type": "stream",
     "text": [
      "Epoch 5 / 40 \n",
      " Training loss: 0.05723150214645102 - Other training metrics: \n",
      "{'accuracy_score': 0.979375, 'f1_score': 0.9793749274899795}\n",
      " \n",
      " Validation loss : 0.2767640037960791 - Other validation metrics:\n",
      "{'accuracy_score': 0.915625, 'f1_score': 0.9154855180913812}\n",
      "\n",
      "\n",
      "Validation accuracy= 0.915625===> No saving\n"
     ]
    },
    {
     "name": "stderr",
     "output_type": "stream",
     "text": [
      " 15%|█▌        | 6/40 [26:40<2:30:38, 265.84s/it]"
     ]
    },
    {
     "name": "stdout",
     "output_type": "stream",
     "text": [
      "Epoch 6 / 40 \n",
      " Training loss: 0.05084839927972553 - Other training metrics: \n",
      "{'accuracy_score': 0.98328125, 'f1_score': 0.9832812495918273}\n",
      " \n",
      " Validation loss : 0.2655641371360252 - Other validation metrics:\n",
      "{'accuracy_score': 0.910625, 'f1_score': 0.910526824159791}\n",
      "\n",
      "\n",
      "Validation accuracy= 0.910625===> No saving\n"
     ]
    },
    {
     "name": "stderr",
     "output_type": "stream",
     "text": [
      " 18%|█▊        | 7/40 [31:05<2:26:02, 265.54s/it]"
     ]
    },
    {
     "name": "stdout",
     "output_type": "stream",
     "text": [
      "Epoch 7 / 40 \n",
      " Training loss: 0.04285297896242355 - Other training metrics: \n",
      "{'accuracy_score': 0.9859375, 'f1_score': 0.9859374986267089}\n",
      " \n",
      " Validation loss : 0.24014879458128235 - Other validation metrics:\n",
      "{'accuracy_score': 0.92375, 'f1_score': 0.923732839888975}\n",
      "\n",
      "\n",
      "Validation accuracy= 0.92375===> No saving\n"
     ]
    },
    {
     "name": "stderr",
     "output_type": "stream",
     "text": [
      " 20%|██        | 8/40 [35:31<2:21:38, 265.58s/it]"
     ]
    },
    {
     "name": "stdout",
     "output_type": "stream",
     "text": [
      "Epoch 8 / 40 \n",
      " Training loss: 0.028124845750280656 - Other training metrics: \n",
      "{'accuracy_score': 0.99078125, 'f1_score': 0.990781238971697}\n",
      " \n",
      " Validation loss : 0.43170726664308906 - Other validation metrics:\n",
      "{'accuracy_score': 0.919375, 'f1_score': 0.9193364012076091}\n",
      "\n",
      "\n"
     ]
    },
    {
     "name": "stderr",
     "output_type": "stream",
     "text": [
      " 22%|██▎       | 9/40 [39:57<2:17:20, 265.81s/it]"
     ]
    },
    {
     "name": "stdout",
     "output_type": "stream",
     "text": [
      "Epoch 9 / 40 \n",
      " Training loss: 0.02698924944267219 - Other training metrics: \n",
      "{'accuracy_score': 0.99078125, 'f1_score': 0.9907812479743954}\n",
      " \n",
      " Validation loss : 0.2931566912591239 - Other validation metrics:\n",
      "{'accuracy_score': 0.921875, 'f1_score': 0.9217757223914258}\n",
      "\n",
      "\n"
     ]
    },
    {
     "name": "stderr",
     "output_type": "stream",
     "text": [
      " 25%|██▌       | 10/40 [44:22<2:12:50, 265.67s/it]"
     ]
    },
    {
     "name": "stdout",
     "output_type": "stream",
     "text": [
      "Epoch 10 / 40 \n",
      " Training loss: 0.04361475610932757 - Other training metrics: \n",
      "{'accuracy_score': 0.98546875, 'f1_score': 0.9854687326164038}\n",
      " \n",
      " Validation loss : 0.2275370007750797 - Other validation metrics:\n",
      "{'accuracy_score': 0.925625, 'f1_score': 0.9256226466540544}\n",
      "\n",
      "\n",
      "Validation accuracy= 0.925625===> No saving\n"
     ]
    },
    {
     "name": "stderr",
     "output_type": "stream",
     "text": [
      " 28%|██▊       | 11/40 [48:48<2:08:27, 265.77s/it]"
     ]
    },
    {
     "name": "stdout",
     "output_type": "stream",
     "text": [
      "Epoch 11 / 40 \n",
      " Training loss: 0.03239681250540343 - Other training metrics: \n",
      "{'accuracy_score': 0.99046875, 'f1_score': 0.9904687497673034}\n",
      " \n",
      " Validation loss : 0.2765084985343959 - Other validation metrics:\n",
      "{'accuracy_score': 0.929375, 'f1_score': 0.929360402989524}\n",
      "\n",
      "\n"
     ]
    },
    {
     "name": "stderr",
     "output_type": "stream",
     "text": [
      " 30%|███       | 12/40 [53:14<2:04:02, 265.80s/it]"
     ]
    },
    {
     "name": "stdout",
     "output_type": "stream",
     "text": [
      "Epoch 12 / 40 \n",
      " Training loss: 0.0312485622856002 - Other training metrics: \n",
      "{'accuracy_score': 0.9915625, 'f1_score': 0.9915624868163857}\n",
      " \n",
      " Validation loss : 0.3698255153695569 - Other validation metrics:\n",
      "{'accuracy_score': 0.934375, 'f1_score': 0.9343675907162957}\n",
      "\n",
      "\n"
     ]
    },
    {
     "name": "stderr",
     "output_type": "stream",
     "text": [
      " 32%|███▎      | 13/40 [57:40<1:59:35, 265.76s/it]"
     ]
    },
    {
     "name": "stdout",
     "output_type": "stream",
     "text": [
      "Epoch 13 / 40 \n",
      " Training loss: 0.023530303230859317 - Other training metrics: \n",
      "{'accuracy_score': 0.9925, 'f1_score': 0.9924999970703113}\n",
      " \n",
      " Validation loss : 0.4003559917971099 - Other validation metrics:\n",
      "{'accuracy_score': 0.938125, 'f1_score': 0.9381230421743814}\n",
      "\n",
      "\n"
     ]
    },
    {
     "name": "stderr",
     "output_type": "stream",
     "text": [
      " 35%|███▌      | 14/40 [1:02:04<1:54:59, 265.36s/it]"
     ]
    },
    {
     "name": "stdout",
     "output_type": "stream",
     "text": [
      "Epoch 14 / 40 \n",
      " Training loss: 0.0263442743759137 - Other training metrics: \n",
      "{'accuracy_score': 0.99015625, 'f1_score': 0.9901561959263692}\n",
      " \n",
      " Validation loss : 0.2584292445178448 - Other validation metrics:\n",
      "{'accuracy_score': 0.924375, 'f1_score': 0.9242980856722005}\n",
      "\n",
      "\n"
     ]
    },
    {
     "name": "stderr",
     "output_type": "stream",
     "text": [
      " 38%|███▊      | 15/40 [1:06:30<1:50:34, 265.37s/it]"
     ]
    },
    {
     "name": "stdout",
     "output_type": "stream",
     "text": [
      "Epoch 15 / 40 \n",
      " Training loss: 0.02373067159326524 - Other training metrics: \n",
      "{'accuracy_score': 0.99140625, 'f1_score': 0.99140623300549}\n",
      " \n",
      " Validation loss : 0.3868434046616048 - Other validation metrics:\n",
      "{'accuracy_score': 0.919375, 'f1_score': 0.9193583361561823}\n",
      "\n",
      "\n"
     ]
    },
    {
     "name": "stderr",
     "output_type": "stream",
     "text": [
      " 40%|████      | 16/40 [1:10:54<1:46:03, 265.15s/it]"
     ]
    },
    {
     "name": "stdout",
     "output_type": "stream",
     "text": [
      "Epoch 16 / 40 \n",
      " Training loss: 0.03140763469120344 - Other training metrics: \n",
      "{'accuracy_score': 0.9896875, 'f1_score': 0.9896874989929199}\n",
      " \n",
      " Validation loss : 0.4228801344651923 - Other validation metrics:\n",
      "{'accuracy_score': 0.929375, 'f1_score': 0.9293650393668795}\n",
      "\n",
      "\n"
     ]
    },
    {
     "name": "stderr",
     "output_type": "stream",
     "text": [
      " 42%|████▎     | 17/40 [1:15:17<1:41:23, 264.50s/it]"
     ]
    },
    {
     "name": "stdout",
     "output_type": "stream",
     "text": [
      "Epoch 17 / 40 \n",
      " Training loss: 0.017515166521893093 - Other training metrics: \n",
      "{'accuracy_score': 0.99453125, 'f1_score': 0.9945312498664857}\n",
      " \n",
      " Validation loss : 0.4028609326049572 - Other validation metrics:\n",
      "{'accuracy_score': 0.93125, 'f1_score': 0.9312495703098145}\n",
      "\n",
      "\n"
     ]
    },
    {
     "name": "stderr",
     "output_type": "stream",
     "text": [
      " 45%|████▌     | 18/40 [1:19:40<1:36:45, 263.87s/it]"
     ]
    },
    {
     "name": "stdout",
     "output_type": "stream",
     "text": [
      "Epoch 18 / 40 \n",
      " Training loss: 0.013853697347971945 - Other training metrics: \n",
      "{'accuracy_score': 0.99640625, 'f1_score': 0.996406249912262}\n",
      " \n",
      " Validation loss : 0.35905722025052383 - Other validation metrics:\n",
      "{'accuracy_score': 0.931875, 'f1_score': 0.9318460079307174}\n",
      "\n",
      "\n"
     ]
    },
    {
     "name": "stderr",
     "output_type": "stream",
     "text": [
      " 48%|████▊     | 19/40 [1:24:03<1:32:18, 263.72s/it]"
     ]
    },
    {
     "name": "stdout",
     "output_type": "stream",
     "text": [
      "Epoch 19 / 40 \n",
      " Training loss: 0.018044552400157274 - Other training metrics: \n",
      "{'accuracy_score': 0.994375, 'f1_score': 0.994374995056148}\n",
      " \n",
      " Validation loss : 0.40859088448429254 - Other validation metrics:\n",
      "{'accuracy_score': 0.918125, 'f1_score': 0.9181247121571912}\n",
      "\n",
      "\n"
     ]
    },
    {
     "name": "stderr",
     "output_type": "stream",
     "text": [
      " 50%|█████     | 20/40 [1:28:26<1:27:48, 263.42s/it]"
     ]
    },
    {
     "name": "stdout",
     "output_type": "stream",
     "text": [
      "Epoch 20 / 40 \n",
      " Training loss: 0.018384810878413732 - Other training metrics: \n",
      "{'accuracy_score': 0.99328125, 'f1_score': 0.993281249835968}\n",
      " \n",
      " Validation loss : 0.46941357862196703 - Other validation metrics:\n",
      "{'accuracy_score': 0.92625, 'f1_score': 0.9262166822205653}\n",
      "\n",
      "\n"
     ]
    },
    {
     "name": "stderr",
     "output_type": "stream",
     "text": [
      " 52%|█████▎    | 21/40 [1:32:49<1:23:21, 263.23s/it]"
     ]
    },
    {
     "name": "stdout",
     "output_type": "stream",
     "text": [
      "Epoch 21 / 40 \n",
      " Training loss: 0.021035931371887955 - Other training metrics: \n",
      "{'accuracy_score': 0.9925, 'f1_score': 0.9924999934081973}\n",
      " \n",
      " Validation loss : 0.48134810256075594 - Other validation metrics:\n",
      "{'accuracy_score': 0.920625, 'f1_score': 0.9205017466533074}\n",
      "\n",
      "\n"
     ]
    },
    {
     "name": "stderr",
     "output_type": "stream",
     "text": [
      " 55%|█████▌    | 22/40 [1:37:12<1:18:58, 263.25s/it]"
     ]
    },
    {
     "name": "stdout",
     "output_type": "stream",
     "text": [
      "Epoch 22 / 40 \n",
      " Training loss: 0.01124469340171629 - Other training metrics: \n",
      "{'accuracy_score': 0.99609375, 'f1_score': 0.9960937499046325}\n",
      " \n",
      " Validation loss : 0.7911162399578526 - Other validation metrics:\n",
      "{'accuracy_score': 0.88, 'f1_score': 0.8792511685751168}\n",
      "\n",
      "\n"
     ]
    },
    {
     "name": "stderr",
     "output_type": "stream",
     "text": [
      " 57%|█████▊    | 23/40 [1:41:38<1:14:49, 264.11s/it]"
     ]
    },
    {
     "name": "stdout",
     "output_type": "stream",
     "text": [
      "Epoch 23 / 40 \n",
      " Training loss: 0.03173495597130383 - Other training metrics: \n",
      "{'accuracy_score': 0.9925, 'f1_score': 0.9924999736327198}\n",
      " \n",
      " Validation loss : 0.38722997785678515 - Other validation metrics:\n",
      "{'accuracy_score': 0.920625, 'f1_score': 0.9206023902900475}\n",
      "\n",
      "\n"
     ]
    },
    {
     "name": "stderr",
     "output_type": "stream",
     "text": [
      " 60%|██████    | 24/40 [1:46:02<1:10:25, 264.07s/it]"
     ]
    },
    {
     "name": "stdout",
     "output_type": "stream",
     "text": [
      "Epoch 24 / 40 \n",
      " Training loss: 0.009167529198435886 - Other training metrics: \n",
      "{'accuracy_score': 0.99734375, 'f1_score': 0.9973437483787526}\n",
      " \n",
      " Validation loss : 0.4409501500077657 - Other validation metrics:\n",
      "{'accuracy_score': 0.931875, 'f1_score': 0.9318749733886615}\n",
      "\n",
      "\n"
     ]
    },
    {
     "name": "stderr",
     "output_type": "stream",
     "text": [
      " 62%|██████▎   | 25/40 [1:50:24<1:05:54, 263.61s/it]"
     ]
    },
    {
     "name": "stdout",
     "output_type": "stream",
     "text": [
      "Epoch 25 / 40 \n",
      " Training loss: 0.02650774386421972 - Other training metrics: \n",
      "{'accuracy_score': 0.99203125, 'f1_score': 0.9920312482490535}\n",
      " \n",
      " Validation loss : 0.2123189706505218 - Other validation metrics:\n",
      "{'accuracy_score': 0.916875, 'f1_score': 0.9166397351901362}\n",
      "\n",
      "\n"
     ]
    },
    {
     "name": "stderr",
     "output_type": "stream",
     "text": [
      " 65%|██████▌   | 26/40 [1:54:48<1:01:31, 263.67s/it]"
     ]
    },
    {
     "name": "stdout",
     "output_type": "stream",
     "text": [
      "Epoch 26 / 40 \n",
      " Training loss: 0.02773625480518149 - Other training metrics: \n",
      "{'accuracy_score': 0.99171875, 'f1_score': 0.991718749797821}\n",
      " \n",
      " Validation loss : 0.3616535275009881 - Other validation metrics:\n",
      "{'accuracy_score': 0.913125, 'f1_score': 0.9131070443853437}\n",
      "\n",
      "\n"
     ]
    },
    {
     "name": "stderr",
     "output_type": "stream",
     "text": [
      " 68%|██████▊   | 27/40 [1:59:13<57:10, 263.88s/it]  "
     ]
    },
    {
     "name": "stdout",
     "output_type": "stream",
     "text": [
      "Epoch 27 / 40 \n",
      " Training loss: 0.011463967902604963 - Other training metrics: \n",
      "{'accuracy_score': 0.9965625, 'f1_score': 0.9965625}\n",
      " \n",
      " Validation loss : 0.4278988195969483 - Other validation metrics:\n",
      "{'accuracy_score': 0.919375, 'f1_score': 0.9193553113553115}\n",
      "\n",
      "\n"
     ]
    },
    {
     "name": "stderr",
     "output_type": "stream",
     "text": [
      " 70%|███████   | 28/40 [2:03:36<52:44, 263.69s/it]"
     ]
    },
    {
     "name": "stdout",
     "output_type": "stream",
     "text": [
      "Epoch 28 / 40 \n",
      " Training loss: 0.014935189066208068 - Other training metrics: \n",
      "{'accuracy_score': 0.9953125, 'f1_score': 0.9953124995422362}\n",
      " \n",
      " Validation loss : 0.3895585184579092 - Other validation metrics:\n",
      "{'accuracy_score': 0.92625, 'f1_score': 0.926212645151608}\n",
      "\n",
      "\n"
     ]
    },
    {
     "name": "stderr",
     "output_type": "stream",
     "text": [
      " 72%|███████▎  | 29/40 [2:07:58<48:15, 263.23s/it]"
     ]
    },
    {
     "name": "stdout",
     "output_type": "stream",
     "text": [
      "Epoch 29 / 40 \n",
      " Training loss: 0.01581092400685293 - Other training metrics: \n",
      "{'accuracy_score': 0.99578125, 'f1_score': 0.9957812474250778}\n",
      " \n",
      " Validation loss : 0.27466263488747245 - Other validation metrics:\n",
      "{'accuracy_score': 0.920625, 'f1_score': 0.9205310963149815}\n",
      "\n",
      "\n"
     ]
    },
    {
     "name": "stderr",
     "output_type": "stream",
     "text": [
      " 75%|███████▌  | 30/40 [2:12:19<43:46, 262.60s/it]"
     ]
    },
    {
     "name": "stdout",
     "output_type": "stream",
     "text": [
      "Epoch 30 / 40 \n",
      " Training loss: 0.01570137480342737 - Other training metrics: \n",
      "{'accuracy_score': 0.99625, 'f1_score': 0.9962499967040986}\n",
      " \n",
      " Validation loss : 0.31636018386394027 - Other validation metrics:\n",
      "{'accuracy_score': 0.9275, 'f1_score': 0.9274995468721678}\n",
      "\n",
      "\n"
     ]
    },
    {
     "name": "stderr",
     "output_type": "stream",
     "text": [
      " 78%|███████▊  | 31/40 [2:16:40<39:19, 262.14s/it]"
     ]
    },
    {
     "name": "stdout",
     "output_type": "stream",
     "text": [
      "Epoch 31 / 40 \n",
      " Training loss: 0.02230501532042581 - Other training metrics: \n",
      "{'accuracy_score': 0.993125, 'f1_score': 0.9931249892577958}\n",
      " \n",
      " Validation loss : 0.434078120031593 - Other validation metrics:\n",
      "{'accuracy_score': 0.926875, 'f1_score': 0.9268646867780965}\n",
      "\n",
      "\n"
     ]
    },
    {
     "name": "stderr",
     "output_type": "stream",
     "text": [
      " 80%|████████  | 32/40 [2:21:05<35:02, 262.78s/it]"
     ]
    },
    {
     "name": "stdout",
     "output_type": "stream",
     "text": [
      "Epoch 32 / 40 \n",
      " Training loss: 0.014334517443395499 - Other training metrics: \n",
      "{'accuracy_score': 0.995625, 'f1_score': 0.995624999572754}\n",
      " \n",
      " Validation loss : 0.4793181276626073 - Other validation metrics:\n",
      "{'accuracy_score': 0.92625, 'f1_score': 0.9262495390596192}\n",
      "\n",
      "\n"
     ]
    },
    {
     "name": "stderr",
     "output_type": "stream",
     "text": [
      " 82%|████████▎ | 33/40 [2:25:27<30:39, 262.80s/it]"
     ]
    },
    {
     "name": "stdout",
     "output_type": "stream",
     "text": [
      "Epoch 33 / 40 \n",
      " Training loss: 0.040393860892233985 - Other training metrics: \n",
      "{'accuracy_score': 0.986875, 'f1_score': 0.9868749948730449}\n",
      " \n",
      " Validation loss : 0.3521609457505588 - Other validation metrics:\n",
      "{'accuracy_score': 0.92, 'f1_score': 0.9199154106525018}\n",
      "\n",
      "\n",
      "Validation accuracy= 0.92===> No saving\n"
     ]
    },
    {
     "name": "stderr",
     "output_type": "stream",
     "text": [
      " 85%|████████▌ | 34/40 [2:29:51<26:17, 262.96s/it]"
     ]
    },
    {
     "name": "stdout",
     "output_type": "stream",
     "text": [
      "Epoch 34 / 40 \n",
      " Training loss: 0.01760184277653025 - Other training metrics: \n",
      "{'accuracy_score': 0.995, 'f1_score': 0.9949999995117187}\n",
      " \n",
      " Validation loss : 0.3940270393736432 - Other validation metrics:\n",
      "{'accuracy_score': 0.923125, 'f1_score': 0.9231031024068963}\n",
      "\n",
      "\n"
     ]
    },
    {
     "name": "stderr",
     "output_type": "stream",
     "text": [
      " 88%|████████▊ | 35/40 [2:34:13<21:53, 262.77s/it]"
     ]
    },
    {
     "name": "stdout",
     "output_type": "stream",
     "text": [
      "Epoch 35 / 40 \n",
      " Training loss: 0.007305720962631312 - Other training metrics: \n",
      "{'accuracy_score': 0.99765625, 'f1_score': 0.9976562494850159}\n",
      " \n",
      " Validation loss : 0.46831651377873273 - Other validation metrics:\n",
      "{'accuracy_score': 0.925625, 'f1_score': 0.925571242667067}\n",
      "\n",
      "\n"
     ]
    },
    {
     "name": "stderr",
     "output_type": "stream",
     "text": [
      " 90%|█████████ | 36/40 [2:38:35<17:29, 262.49s/it]"
     ]
    },
    {
     "name": "stdout",
     "output_type": "stream",
     "text": [
      "Epoch 36 / 40 \n",
      " Training loss: 0.012850433394301036 - Other training metrics: \n",
      "{'accuracy_score': 0.99609375, 'f1_score': 0.9960937499046325}\n",
      " \n",
      " Validation loss : 0.3674005471732925 - Other validation metrics:\n",
      "{'accuracy_score': 0.928125, 'f1_score': 0.928112616274913}\n",
      "\n",
      "\n"
     ]
    },
    {
     "name": "stderr",
     "output_type": "stream",
     "text": [
      " 92%|█████████▎| 37/40 [2:42:58<13:08, 262.68s/it]"
     ]
    },
    {
     "name": "stdout",
     "output_type": "stream",
     "text": [
      "Epoch 37 / 40 \n",
      " Training loss: 0.006477084541866134 - Other training metrics: \n",
      "{'accuracy_score': 0.9984375, 'f1_score': 0.9984375}\n",
      " \n",
      " Validation loss : 0.4094732502460101 - Other validation metrics:\n",
      "{'accuracy_score': 0.925, 'f1_score': 0.924992499249925}\n",
      "\n",
      "\n"
     ]
    },
    {
     "name": "stderr",
     "output_type": "stream",
     "text": [
      " 95%|█████████▌| 38/40 [2:47:21<08:45, 262.69s/it]"
     ]
    },
    {
     "name": "stdout",
     "output_type": "stream",
     "text": [
      "Epoch 38 / 40 \n",
      " Training loss: 0.015528466722407756 - Other training metrics: \n",
      "{'accuracy_score': 0.99515625, 'f1_score': 0.9951562442054679}\n",
      " \n",
      " Validation loss : 0.5941723791505573 - Other validation metrics:\n",
      "{'accuracy_score': 0.92, 'f1_score': 0.9199338202983403}\n",
      "\n",
      "\n"
     ]
    },
    {
     "name": "stderr",
     "output_type": "stream",
     "text": [
      " 98%|█████████▊| 39/40 [2:51:45<04:23, 263.21s/it]"
     ]
    },
    {
     "name": "stdout",
     "output_type": "stream",
     "text": [
      "Epoch 39 / 40 \n",
      " Training loss: 0.0190900541253194 - Other training metrics: \n",
      "{'accuracy_score': 0.99421875, 'f1_score': 0.9942187329215499}\n",
      " \n",
      " Validation loss : 0.3005764654716673 - Other validation metrics:\n",
      "{'accuracy_score': 0.925, 'f1_score': 0.9249981249531238}\n",
      "\n",
      "\n"
     ]
    },
    {
     "name": "stderr",
     "output_type": "stream",
     "text": [
      "100%|██████████| 40/40 [2:56:10<00:00, 264.27s/it]"
     ]
    },
    {
     "name": "stdout",
     "output_type": "stream",
     "text": [
      "Epoch 40 / 40 \n",
      " Training loss: 0.006200115515182461 - Other training metrics: \n",
      "{'accuracy_score': 0.99828125, 'f1_score': 0.9982812499580385}\n",
      " \n",
      " Validation loss : 0.48888445653421636 - Other validation metrics:\n",
      "{'accuracy_score': 0.929375, 'f1_score': 0.9293548826990186}\n",
      "\n",
      "\n"
     ]
    },
    {
     "name": "stderr",
     "output_type": "stream",
     "text": [
      "\n"
     ]
    }
   ],
   "source": [
    "print(\"begin training process\")\n",
    "for i in tqdm(range(0, num_epoch)):\n",
    "    loss, val_loss, train_result, val_result = train_one_epoch(\n",
    "        model,\n",
    "        train_loader,\n",
    "        val_loader,\n",
    "        device,\n",
    "        optimizer,\n",
    "        criterion,\n",
    "        train_metrics,\n",
    "        val_metrics,\n",
    "    )\n",
    "    wandb.log({\n",
    "        \"Epoch\": i + 1,\n",
    "        \"Training Loss\": loss,\n",
    "        \"Validation Loss\": val_loss,\n",
    "        \"Training Accuracy\": train_result[\"accuracy_score\"],\n",
    "        \"Validation Accuracy\": val_result[\"accuracy_score\"],\n",
    "        \"Training F1 Score\": train_result[\"f1_score\"],\n",
    "        \"Validation F1 Score\": val_result[\"f1_score\"]\n",
    "    })\n",
    "    scheduler.step(val_loss)\n",
    "    print(\n",
    "        \"Epoch {} / {} \\n Training loss: {} - Other training metrics: \".format(\n",
    "            i + 1, num_epoch, loss\n",
    "        )\n",
    "    )\n",
    "    print(train_result)\n",
    "    print(\n",
    "        \" \\n Validation loss : {} - Other validation metrics:\".format(val_loss)\n",
    "    )\n",
    "    print(val_result)\n",
    "    print(\"\\n\")\n",
    "    # saving epoch with best validation accuracy\n",
    "    if (loss<0.04):\n",
    "        # no saving\n",
    "        continue\n",
    "    if best_val_acc < float(val_result[\"accuracy_score\"]):\n",
    "        print(\n",
    "            \"Validation accuracy= \"+\n",
    "            str(val_result[\"accuracy_score\"])+\n",
    "            \"===> Save best epoch\"\n",
    "        )\n",
    "        best_val_acc = val_result[\"accuracy_score\"]\n",
    "        torch.save(\n",
    "            model,\n",
    "            \"./\" +  \"best.pt\"\n",
    "        )\n",
    "    else:\n",
    "        print(\n",
    "            \"Validation accuracy= \"+ str(val_result[\"accuracy_score\"])+ \"===> No saving\"\n",
    "        )\n",
    "        continue"
   ]
  },
  {
   "cell_type": "code",
   "execution_count": 32,
   "id": "94369d35",
   "metadata": {
    "execution": {
     "iopub.execute_input": "2024-06-24T09:14:56.077387Z",
     "iopub.status.busy": "2024-06-24T09:14:56.077063Z",
     "iopub.status.idle": "2024-06-24T09:15:08.773425Z",
     "shell.execute_reply": "2024-06-24T09:15:08.772432Z"
    },
    "papermill": {
     "duration": 12.762765,
     "end_time": "2024-06-24T09:15:08.775733",
     "exception": false,
     "start_time": "2024-06-24T09:14:56.012968",
     "status": "completed"
    },
    "tags": []
   },
   "outputs": [
    {
     "name": "stdout",
     "output_type": "stream",
     "text": [
      "Collecting lion-pytorch\r\n",
      "  Downloading lion_pytorch-0.2.2-py3-none-any.whl.metadata (618 bytes)\r\n",
      "Requirement already satisfied: torch>=1.6 in /opt/conda/lib/python3.10/site-packages (from lion-pytorch) (2.1.2)\r\n",
      "Requirement already satisfied: filelock in /opt/conda/lib/python3.10/site-packages (from torch>=1.6->lion-pytorch) (3.13.1)\r\n",
      "Requirement already satisfied: typing-extensions in /opt/conda/lib/python3.10/site-packages (from torch>=1.6->lion-pytorch) (4.9.0)\r\n",
      "Requirement already satisfied: sympy in /opt/conda/lib/python3.10/site-packages (from torch>=1.6->lion-pytorch) (1.12.1)\r\n",
      "Requirement already satisfied: networkx in /opt/conda/lib/python3.10/site-packages (from torch>=1.6->lion-pytorch) (3.2.1)\r\n",
      "Requirement already satisfied: jinja2 in /opt/conda/lib/python3.10/site-packages (from torch>=1.6->lion-pytorch) (3.1.2)\r\n",
      "Requirement already satisfied: fsspec in /opt/conda/lib/python3.10/site-packages (from torch>=1.6->lion-pytorch) (2024.3.1)\r\n",
      "Requirement already satisfied: MarkupSafe>=2.0 in /opt/conda/lib/python3.10/site-packages (from jinja2->torch>=1.6->lion-pytorch) (2.1.3)\r\n",
      "Requirement already satisfied: mpmath<1.4.0,>=1.1.0 in /opt/conda/lib/python3.10/site-packages (from sympy->torch>=1.6->lion-pytorch) (1.3.0)\r\n",
      "Downloading lion_pytorch-0.2.2-py3-none-any.whl (5.4 kB)\r\n",
      "Installing collected packages: lion-pytorch\r\n",
      "Successfully installed lion-pytorch-0.2.2\r\n"
     ]
    }
   ],
   "source": [
    "!pip install lion-pytorch\n",
    "from lion_pytorch import Lion\n",
    "optimizer = Lion(model.parameters(), lr=1e-4, weight_decay=1e-2)"
   ]
  },
  {
   "cell_type": "code",
   "execution_count": 33,
   "id": "a546de5d",
   "metadata": {
    "execution": {
     "iopub.execute_input": "2024-06-24T09:15:08.909288Z",
     "iopub.status.busy": "2024-06-24T09:15:08.908880Z",
     "iopub.status.idle": "2024-06-24T09:15:09.211379Z",
     "shell.execute_reply": "2024-06-24T09:15:09.210368Z"
    },
    "papermill": {
     "duration": 0.372324,
     "end_time": "2024-06-24T09:15:09.213817",
     "exception": false,
     "start_time": "2024-06-24T09:15:08.841493",
     "status": "completed"
    },
    "tags": []
   },
   "outputs": [],
   "source": [
    "import copy\n",
    "val_model = torch.load(\"/kaggle/working/best.pt\")\n",
    "val_model = val_model.to(device)"
   ]
  },
  {
   "cell_type": "code",
   "execution_count": 34,
   "id": "6cdac8e0",
   "metadata": {
    "execution": {
     "iopub.execute_input": "2024-06-24T09:15:09.346292Z",
     "iopub.status.busy": "2024-06-24T09:15:09.345938Z",
     "iopub.status.idle": "2024-06-24T09:15:09.353086Z",
     "shell.execute_reply": "2024-06-24T09:15:09.352169Z"
    },
    "papermill": {
     "duration": 0.075624,
     "end_time": "2024-06-24T09:15:09.355060",
     "exception": false,
     "start_time": "2024-06-24T09:15:09.279436",
     "status": "completed"
    },
    "tags": []
   },
   "outputs": [],
   "source": [
    "def val_result(model, val_loader, device):\n",
    "    # testing the model by turning model \"Eval\" mode\n",
    "    model.eval()\n",
    "    preds = []\n",
    "    labels = []\n",
    "    with torch.no_grad():\n",
    "        for data, target in val_loader:\n",
    "            # move-tensors-to-GPU\n",
    "            data = data.to(device)\n",
    "            target = target.to(device)\n",
    "            # forward-pass: compute-predicted-outputs-by-passing-inputs-to-the-model\n",
    "            output = model(data)\n",
    "            # applying Softmax to results\n",
    "            prob = nn.Softmax(dim=1)\n",
    "            probs = prob(output)\n",
    "            labels.extend(target.tolist())\n",
    "            preds.extend(torch.argmax(probs, axis=1).tolist())\n",
    "    return preds, labels"
   ]
  },
  {
   "cell_type": "code",
   "execution_count": 35,
   "id": "f20c9bf4",
   "metadata": {
    "execution": {
     "iopub.execute_input": "2024-06-24T09:15:09.488043Z",
     "iopub.status.busy": "2024-06-24T09:15:09.487320Z",
     "iopub.status.idle": "2024-06-24T09:15:57.992894Z",
     "shell.execute_reply": "2024-06-24T09:15:57.991771Z"
    },
    "papermill": {
     "duration": 48.574214,
     "end_time": "2024-06-24T09:15:57.995267",
     "exception": false,
     "start_time": "2024-06-24T09:15:09.421053",
     "status": "completed"
    },
    "tags": []
   },
   "outputs": [],
   "source": [
    "preds, grd_truth = val_result(val_model, val_loader, device)"
   ]
  },
  {
   "cell_type": "code",
   "execution_count": 36,
   "id": "d49fec32",
   "metadata": {
    "execution": {
     "iopub.execute_input": "2024-06-24T09:15:58.129812Z",
     "iopub.status.busy": "2024-06-24T09:15:58.129057Z",
     "iopub.status.idle": "2024-06-24T09:15:58.133690Z",
     "shell.execute_reply": "2024-06-24T09:15:58.132767Z"
    },
    "papermill": {
     "duration": 0.073638,
     "end_time": "2024-06-24T09:15:58.135689",
     "exception": false,
     "start_time": "2024-06-24T09:15:58.062051",
     "status": "completed"
    },
    "tags": []
   },
   "outputs": [],
   "source": [
    "from sklearn.metrics import classification_report\n",
    "from sklearn.metrics import confusion_matrix, ConfusionMatrixDisplay"
   ]
  },
  {
   "cell_type": "code",
   "execution_count": 37,
   "id": "da213615",
   "metadata": {
    "execution": {
     "iopub.execute_input": "2024-06-24T09:15:58.269574Z",
     "iopub.status.busy": "2024-06-24T09:15:58.269224Z",
     "iopub.status.idle": "2024-06-24T09:15:58.286140Z",
     "shell.execute_reply": "2024-06-24T09:15:58.285097Z"
    },
    "papermill": {
     "duration": 0.085628,
     "end_time": "2024-06-24T09:15:58.288170",
     "exception": false,
     "start_time": "2024-06-24T09:15:58.202542",
     "status": "completed"
    },
    "tags": []
   },
   "outputs": [
    {
     "name": "stdout",
     "output_type": "stream",
     "text": [
      "              precision    recall  f1-score   support\n",
      "\n",
      "           0   0.944516  0.915000  0.929524       800\n",
      "           1   0.917576  0.946250  0.931692       800\n",
      "\n",
      "    accuracy                       0.930625      1600\n",
      "   macro avg   0.931046  0.930625  0.930608      1600\n",
      "weighted avg   0.931046  0.930625  0.930608      1600\n",
      "\n"
     ]
    }
   ],
   "source": [
    "report = classification_report(grd_truth, preds, digits=6)\n",
    "print(report)"
   ]
  },
  {
   "cell_type": "code",
   "execution_count": 38,
   "id": "febfaef3",
   "metadata": {
    "execution": {
     "iopub.execute_input": "2024-06-24T09:15:58.421619Z",
     "iopub.status.busy": "2024-06-24T09:15:58.421253Z",
     "iopub.status.idle": "2024-06-24T09:15:59.084754Z",
     "shell.execute_reply": "2024-06-24T09:15:59.083685Z"
    },
    "papermill": {
     "duration": 0.73245,
     "end_time": "2024-06-24T09:15:59.086897",
     "exception": false,
     "start_time": "2024-06-24T09:15:58.354447",
     "status": "completed"
    },
    "tags": []
   },
   "outputs": [
    {
     "data": {
      "image/png": "[encoded data removed]",
      "text/plain": [
       "<Figure size 640x480 with 2 Axes>"
      ]
     },
     "metadata": {},
     "output_type": "display_data"
    }
   ],
   "source": [
    "cm = confusion_matrix(grd_truth, preds)\n",
    "disp = ConfusionMatrixDisplay(confusion_matrix=cm)\n",
    "disp.plot()\n",
    "\n",
    "# save confusion matrix plot to wandb\n",
    "\n",
    "wandb.log({\"confusion_matrix\": disp.figure_})"
   ]
  },
  {
   "cell_type": "code",
   "execution_count": 39,
   "id": "5a0c2dd5",
   "metadata": {
    "execution": {
     "iopub.execute_input": "2024-06-24T09:15:59.220965Z",
     "iopub.status.busy": "2024-06-24T09:15:59.220586Z",
     "iopub.status.idle": "2024-06-24T09:15:59.551628Z",
     "shell.execute_reply": "2024-06-24T09:15:59.550777Z"
    },
    "papermill": {
     "duration": 0.400874,
     "end_time": "2024-06-24T09:15:59.554008",
     "exception": false,
     "start_time": "2024-06-24T09:15:59.153134",
     "status": "completed"
    },
    "tags": []
   },
   "outputs": [
    {
     "name": "stderr",
     "output_type": "stream",
     "text": [
      "\u001b[34m\u001b[1mwandb\u001b[0m: \u001b[33mWARNING\u001b[0m Saving files without folders. If you want to preserve subdirectories pass base_path to wandb.save, i.e. wandb.save(\"/mnt/folder/file.h5\", base_path=\"/mnt\")\n"
     ]
    }
   ],
   "source": [
    "import copy\n",
    "\n",
    "# save model to wandb\n",
    "wandb.save(\"/kaggle/working/best.pt\")\n",
    "test_model = torch.load(\"/kaggle/working/best.pt\")\n",
    "test_model = test_model.to(device)"
   ]
  },
  {
   "cell_type": "code",
   "execution_count": 40,
   "id": "0ae3d16e",
   "metadata": {
    "execution": {
     "iopub.execute_input": "2024-06-24T09:15:59.691305Z",
     "iopub.status.busy": "2024-06-24T09:15:59.690951Z",
     "iopub.status.idle": "2024-06-24T09:15:59.698365Z",
     "shell.execute_reply": "2024-06-24T09:15:59.697435Z"
    },
    "papermill": {
     "duration": 0.079528,
     "end_time": "2024-06-24T09:15:59.700204",
     "exception": false,
     "start_time": "2024-06-24T09:15:59.620676",
     "status": "completed"
    },
    "tags": []
   },
   "outputs": [],
   "source": [
    "def test_result(model, test_loader, device,name='no_tta_prob.npy'):\n",
    "    # testing the model by turning model \"Eval\" mode\n",
    "    model.eval()\n",
    "    preds = []\n",
    "    aprobs = []\n",
    "    with torch.no_grad():\n",
    "        for data in test_loader:\n",
    "            # move-tensors-to-GPU\n",
    "            data = data.to(device)\n",
    "            # forward-pass: compute-predicted-outputs-by-passing-inputs-to-the-model\n",
    "            output = model(data)\n",
    "            prob = nn.Softmax(dim=1)\n",
    "            # applying Softmax to results\n",
    "            probs = prob(output)\n",
    "            #aprobs.append(probs.cpu())\n",
    "            aprobs.append(probs.detach().cpu().numpy())\n",
    "            preds.extend(torch.argmax(probs, axis=1).tolist())\n",
    "#             binary_predictions = (probs[:, 1] >= threshold).int()\n",
    "#             preds.extend(binary_predictions.tolist())\n",
    "    aprobs = np.array(aprobs)\n",
    "    np.save(name,aprobs)\n",
    "    return preds"
   ]
  }
 ],
 "metadata": {
  "kaggle": {
   "accelerator": "gpu",
   "dataSources": [
    {
     "datasetId": 4154884,
     "sourceId": 7802508,
     "sourceType": "datasetVersion"
    }
   ],
   "isGpuEnabled": true,
   "isInternetEnabled": true,
   "language": "python",
   "sourceType": "notebook"
  },
  "kernelspec": {
   "display_name": "Python 3",
   "language": "python",
   "name": "python3"
  },
  "language_info": {
   "codemirror_mode": {
    "name": "ipython",
    "version": 3
   },
   "file_extension": ".py",
   "mimetype": "text/x-python",
   "name": "python",
   "nbconvert_exporter": "python",
   "pygments_lexer": "ipython3",
   "version": "3.10.13"
  },
  "papermill": {
   "default_parameters": {},
   "duration": 10795.619044,
   "end_time": "2024-06-24T09:16:02.514367",
   "environment_variables": {},
   "exception": null,
   "input_path": "__notebook__.ipynb",
   "output_path": "__notebook__.ipynb",
   "parameters": {},
   "start_time": "2024-06-24T06:16:06.895323",
   "version": "2.4.0"
  },
  "widgets": {
   "application/vnd.jupyter.widget-state+json": {
    "state": {
     "11d8f699828245ceb874925a17b77009": {
      "model_module": "@jupyter-widgets/controls",
      "model_module_version": "1.5.0",
      "model_name": "HTMLModel",
      "state": {
       "_dom_classes": [],
       "_model_module": "@jupyter-widgets/controls",
       "_model_module_version": "1.5.0",
       "_model_name": "HTMLModel",
       "_view_count": null,
       "_view_module": "@jupyter-widgets/controls",
       "_view_module_version": "1.5.0",
       "_view_name": "HTMLView",
       "description": "",
       "description_tooltip": null,
       "layout": "IPY_MODEL_91e1937e7fd54c7fbeb97d67dfa1a97b",
       "placeholder": "​",
       "style": "IPY_MODEL_2c68a51e994f49a8a96125e926a1b983",
       "value": "model.safetensors: 100%"
      }
     },
     "2c68a51e994f49a8a96125e926a1b983": {
      "model_module": "@jupyter-widgets/controls",
      "model_module_version": "1.5.0",
      "model_name": "DescriptionStyleModel",
      "state": {
       "_model_module": "@jupyter-widgets/controls",
       "_model_module_version": "1.5.0",
       "_model_name": "DescriptionStyleModel",
       "_view_count": null,
       "_view_module": "@jupyter-widgets/base",
       "_view_module_version": "1.2.0",
       "_view_name": "StyleView",
       "description_width": ""
      }
     },
     "2d67429714704b6f9e6d418ea7cbe0fd": {
      "model_module": "@jupyter-widgets/base",
      "model_module_version": "1.2.0",
      "model_name": "LayoutModel",
      "state": {
       "_model_module": "@jupyter-widgets/base",
       "_model_module_version": "1.2.0",
       "_model_name": "LayoutModel",
       "_view_count": null,
       "_view_module": "@jupyter-widgets/base",
       "_view_module_version": "1.2.0",
       "_view_name": "LayoutView",
       "align_content": null,
       "align_items": null,
       "align_self": null,
       "border": null,
       "bottom": null,
       "display": null,
       "flex": null,
       "flex_flow": null,
       "grid_area": null,
       "grid_auto_columns": null,
       "grid_auto_flow": null,
       "grid_auto_rows": null,
       "grid_column": null,
       "grid_gap": null,
       "grid_row": null,
       "grid_template_areas": null,
       "grid_template_columns": null,
       "grid_template_rows": null,
       "height": null,
       "justify_content": null,
       "justify_items": null,
       "left": null,
       "margin": null,
       "max_height": null,
       "max_width": null,
       "min_height": null,
       "min_width": null,
       "object_fit": null,
       "object_position": null,
       "order": null,
       "overflow": null,
       "overflow_x": null,
       "overflow_y": null,
       "padding": null,
       "right": null,
       "top": null,
       "visibility": null,
       "width": null
      }
     },
     "4b36177b5a424c318d34035b1ba438cf": {
      "model_module": "@jupyter-widgets/controls",
      "model_module_version": "1.5.0",
      "model_name": "ProgressStyleModel",
      "state": {
       "_model_module": "@jupyter-widgets/controls",
       "_model_module_version": "1.5.0",
       "_model_name": "ProgressStyleModel",
       "_view_count": null,
       "_view_module": "@jupyter-widgets/base",
       "_view_module_version": "1.2.0",
       "_view_name": "StyleView",
       "bar_color": null,
       "description_width": ""
      }
     },
     "50e9bc43b32742ffa130f7d05c5f2c63": {
      "model_module": "@jupyter-widgets/controls",
      "model_module_version": "1.5.0",
      "model_name": "HTMLModel",
      "state": {
       "_dom_classes": [],
       "_model_module": "@jupyter-widgets/controls",
       "_model_module_version": "1.5.0",
       "_model_name": "HTMLModel",
       "_view_count": null,
       "_view_module": "@jupyter-widgets/controls",
       "_view_module_version": "1.5.0",
       "_view_name": "HTMLView",
       "description": "",
       "description_tooltip": null,
       "layout": "IPY_MODEL_7893d5e1a4994751918435b0e2e19216",
       "placeholder": "​",
       "style": "IPY_MODEL_c76fbfc2b5aa4a469383688c3766949b",
       "value": " 353M/353M [00:01&lt;00:00, 377MB/s]"
      }
     },
     "7893d5e1a4994751918435b0e2e19216": {
      "model_module": "@jupyter-widgets/base",
      "model_module_version": "1.2.0",
      "model_name": "LayoutModel",
      "state": {
       "_model_module": "@jupyter-widgets/base",
       "_model_module_version": "1.2.0",
       "_model_name": "LayoutModel",
       "_view_count": null,
       "_view_module": "@jupyter-widgets/base",
       "_view_module_version": "1.2.0",
       "_view_name": "LayoutView",
       "align_content": null,
       "align_items": null,
       "align_self": null,
       "border": null,
       "bottom": null,
       "display": null,
       "flex": null,
       "flex_flow": null,
       "grid_area": null,
       "grid_auto_columns": null,
       "grid_auto_flow": null,
       "grid_auto_rows": null,
       "grid_column": null,
       "grid_gap": null,
       "grid_row": null,
       "grid_template_areas": null,
       "grid_template_columns": null,
       "grid_template_rows": null,
       "height": null,
       "justify_content": null,
       "justify_items": null,
       "left": null,
       "margin": null,
       "max_height": null,
       "max_width": null,
       "min_height": null,
       "min_width": null,
       "object_fit": null,
       "object_position": null,
       "order": null,
       "overflow": null,
       "overflow_x": null,
       "overflow_y": null,
       "padding": null,
       "right": null,
       "top": null,
       "visibility": null,
       "width": null
      }
     },
     "896b939799d7430b92ecb6495a468a67": {
      "model_module": "@jupyter-widgets/controls",
      "model_module_version": "1.5.0",
      "model_name": "FloatProgressModel",
      "state": {
       "_dom_classes": [],
       "_model_module": "@jupyter-widgets/controls",
       "_model_module_version": "1.5.0",
       "_model_name": "FloatProgressModel",
       "_view_count": null,
       "_view_module": "@jupyter-widgets/controls",
       "_view_module_version": "1.5.0",
       "_view_name": "ProgressView",
       "bar_style": "success",
       "description": "",
       "description_tooltip": null,
       "layout": "IPY_MODEL_2d67429714704b6f9e6d418ea7cbe0fd",
       "max": 352685652.0,
       "min": 0.0,
       "orientation": "horizontal",
       "style": "IPY_MODEL_4b36177b5a424c318d34035b1ba438cf",
       "value": 352685652.0
      }
     },
     "91e1937e7fd54c7fbeb97d67dfa1a97b": {
      "model_module": "@jupyter-widgets/base",
      "model_module_version": "1.2.0",
      "model_name": "LayoutModel",
      "state": {
       "_model_module": "@jupyter-widgets/base",
       "_model_module_version": "1.2.0",
       "_model_name": "LayoutModel",
       "_view_count": null,
       "_view_module": "@jupyter-widgets/base",
       "_view_module_version": "1.2.0",
       "_view_name": "LayoutView",
       "align_content": null,
       "align_items": null,
       "align_self": null,
       "border": null,
       "bottom": null,
       "display": null,
       "flex": null,
       "flex_flow": null,
       "grid_area": null,
       "grid_auto_columns": null,
       "grid_auto_flow": null,
       "grid_auto_rows": null,
       "grid_column": null,
       "grid_gap": null,
       "grid_row": null,
       "grid_template_areas": null,
       "grid_template_columns": null,
       "grid_template_rows": null,
       "height": null,
       "justify_content": null,
       "justify_items": null,
       "left": null,
       "margin": null,
       "max_height": null,
       "max_width": null,
       "min_height": null,
       "min_width": null,
       "object_fit": null,
       "object_position": null,
       "order": null,
       "overflow": null,
       "overflow_x": null,
       "overflow_y": null,
       "padding": null,
       "right": null,
       "top": null,
       "visibility": null,
       "width": null
      }
     },
     "b179385466bb4015aa44a4aaf8988db8": {
      "model_module": "@jupyter-widgets/controls",
      "model_module_version": "1.5.0",
      "model_name": "HBoxModel",
      "state": {
       "_dom_classes": [],
       "_model_module": "@jupyter-widgets/controls",
       "_model_module_version": "1.5.0",
       "_model_name": "HBoxModel",
       "_view_count": null,
       "_view_module": "@jupyter-widgets/controls",
       "_view_module_version": "1.5.0",
       "_view_name": "HBoxView",
       "box_style": "",
       "children": [
        "IPY_MODEL_11d8f699828245ceb874925a17b77009",
        "IPY_MODEL_896b939799d7430b92ecb6495a468a67",
        "IPY_MODEL_50e9bc43b32742ffa130f7d05c5f2c63"
       ],
       "layout": "IPY_MODEL_bea69a06239e4fb6bb70df9714e75511"
      }
     },
     "bea69a06239e4fb6bb70df9714e75511": {
      "model_module": "@jupyter-widgets/base",
      "model_module_version": "1.2.0",
      "model_name": "LayoutModel",
      "state": {
       "_model_module": "@jupyter-widgets/base",
       "_model_module_version": "1.2.0",
       "_model_name": "LayoutModel",
       "_view_count": null,
       "_view_module": "@jupyter-widgets/base",
       "_view_module_version": "1.2.0",
       "_view_name": "LayoutView",
       "align_content": null,
       "align_items": null,
       "align_self": null,
       "border": null,
       "bottom": null,
       "display": null,
       "flex": null,
       "flex_flow": null,
       "grid_area": null,
       "grid_auto_columns": null,
       "grid_auto_flow": null,
       "grid_auto_rows": null,
       "grid_column": null,
       "grid_gap": null,
       "grid_row": null,
       "grid_template_areas": null,
       "grid_template_columns": null,
       "grid_template_rows": null,
       "height": null,
       "justify_content": null,
       "justify_items": null,
       "left": null,
       "margin": null,
       "max_height": null,
       "max_width": null,
       "min_height": null,
       "min_width": null,
       "object_fit": null,
       "object_position": null,
       "order": null,
       "overflow": null,
       "overflow_x": null,
       "overflow_y": null,
       "padding": null,
       "right": null,
       "top": null,
       "visibility": null,
       "width": null
      }
     },
     "c76fbfc2b5aa4a469383688c3766949b": {
      "model_module": "@jupyter-widgets/controls",
      "model_module_version": "1.5.0",
      "model_name": "DescriptionStyleModel",
      "state": {
       "_model_module": "@jupyter-widgets/controls",
       "_model_module_version": "1.5.0",
       "_model_name": "DescriptionStyleModel",
       "_view_count": null,
       "_view_module": "@jupyter-widgets/base",
       "_view_module_version": "1.2.0",
       "_view_name": "StyleView",
       "description_width": ""
      }
     }
    },
    "version_major": 2,
    "version_minor": 0
   }
  }
 },
 "nbformat": 4,
 "nbformat_minor": 5
}
