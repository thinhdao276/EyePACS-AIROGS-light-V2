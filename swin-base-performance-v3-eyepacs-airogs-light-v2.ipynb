{
 "cells": [
  {
   "cell_type": "code",
   "execution_count": 1,
   "id": "ab24d450",
   "metadata": {
    "_cell_guid": "b1076dfc-b9ad-4769-8c92-a6c4dae69d19",
    "_uuid": "8f2839f25d086af736a60e9eeb907d3b93b6e0e5",
    "execution": {
     "iopub.execute_input": "2024-06-21T04:25:19.843244Z",
     "iopub.status.busy": "2024-06-21T04:25:19.842977Z",
     "iopub.status.idle": "2024-06-21T04:25:26.317869Z",
     "shell.execute_reply": "2024-06-21T04:25:26.316915Z"
    },
    "papermill": {
     "duration": 6.492775,
     "end_time": "2024-06-21T04:25:26.320155",
     "exception": false,
     "start_time": "2024-06-21T04:25:19.827380",
     "status": "completed"
    },
    "tags": []
   },
   "outputs": [],
   "source": [
    "import albumentations\n",
    "from albumentations.pytorch import ToTensorV2\n",
    "from torchvision import transforms\n",
    "from sklearn.model_selection import train_test_split\n",
    "import torch\n",
    "import numpy as np\n",
    "import os"
   ]
  },
  {
   "cell_type": "code",
   "execution_count": 2,
   "id": "d366b8ac",
   "metadata": {
    "execution": {
     "iopub.execute_input": "2024-06-21T04:25:26.350265Z",
     "iopub.status.busy": "2024-06-21T04:25:26.349648Z",
     "iopub.status.idle": "2024-06-21T04:25:28.269214Z",
     "shell.execute_reply": "2024-06-21T04:25:28.268386Z"
    },
    "papermill": {
     "duration": 1.936774,
     "end_time": "2024-06-21T04:25:28.271372",
     "exception": false,
     "start_time": "2024-06-21T04:25:26.334598",
     "status": "completed"
    },
    "tags": []
   },
   "outputs": [],
   "source": [
    "import pandas as pd\n",
    "import matplotlib.pyplot as plt\n",
    "import os\n",
    "import seaborn as sns\n",
    "from pathlib import Path\n",
    "from sklearn.model_selection import train_test_split, StratifiedKFold\n",
    "from sklearn.preprocessing import LabelEncoder\n",
    "from sklearn.metrics import classification_report, f1_score, recall_score, precision_score\n",
    "import torch\n",
    "from torch.utils.data import DataLoader, Dataset\n",
    "from torch.utils.data import RandomSampler\n",
    "from PIL import Image\n",
    "import cv2\n",
    "\n",
    "import torch\n",
    "import torch.nn as nn\n",
    "import torchvision.transforms as transforms\n",
    "import torchvision.models as models\n",
    "from torchvision.utils import make_grid\n",
    "from torchvision.datasets import ImageFolder\n",
    "import torch.nn.functional as F\n",
    "import timm\n",
    "\n",
    "from tqdm import tqdm\n",
    "from sklearn.metrics import confusion_matrix\n",
    "\n",
    "from IPython.display import display, HTML\n",
    "import warnings\n",
    "warnings.filterwarnings(\"ignore\")"
   ]
  },
  {
   "cell_type": "markdown",
   "id": "1910c3d1",
   "metadata": {
    "papermill": {
     "duration": 0.013449,
     "end_time": "2024-06-21T04:25:28.298946",
     "exception": false,
     "start_time": "2024-06-21T04:25:28.285497",
     "status": "completed"
    },
    "tags": []
   },
   "source": [
    "### Pick cropped dataset"
   ]
  },
  {
   "cell_type": "code",
   "execution_count": 3,
   "id": "ee4f2269",
   "metadata": {
    "execution": {
     "iopub.execute_input": "2024-06-21T04:25:28.328412Z",
     "iopub.status.busy": "2024-06-21T04:25:28.328128Z",
     "iopub.status.idle": "2024-06-21T04:25:28.335918Z",
     "shell.execute_reply": "2024-06-21T04:25:28.335014Z"
    },
    "papermill": {
     "duration": 0.024269,
     "end_time": "2024-06-21T04:25:28.337742",
     "exception": false,
     "start_time": "2024-06-21T04:25:28.313473",
     "status": "completed"
    },
    "tags": []
   },
   "outputs": [
    {
     "data": {
      "text/plain": [
       "'/kaggle/input/glaucoma-dataset-eyepacs-airogs-light-v2/eyepac-light-v2-512-jpg'"
      ]
     },
     "execution_count": 3,
     "metadata": {},
     "output_type": "execute_result"
    }
   ],
   "source": [
    "class config:\n",
    "    root_path = '/kaggle/input/glaucoma-dataset-eyepacs-airogs-light-v2/eyepac-light-v2-512-jpg'\n",
    "    train_path = root_path + '/train'\n",
    "    test_path = root_path + '/test'\n",
    "    valid_path = root_path + '/validation'\n",
    "    output_path = \"/kaggle/working/\"\n",
    "    batch_size = 16\n",
    "    lr = 1e-3\n",
    "    seed = 1\n",
    "    num_epochs = 40\n",
    "    model_names = 'swin_base_patch4_window7_224.ms_in1k'\n",
    "    \n",
    "config.root_path"
   ]
  },
  {
   "cell_type": "code",
   "execution_count": 4,
   "id": "7b1ad973",
   "metadata": {
    "execution": {
     "iopub.execute_input": "2024-06-21T04:25:28.366350Z",
     "iopub.status.busy": "2024-06-21T04:25:28.366088Z",
     "iopub.status.idle": "2024-06-21T04:25:28.371333Z",
     "shell.execute_reply": "2024-06-21T04:25:28.370378Z"
    },
    "papermill": {
     "duration": 0.021972,
     "end_time": "2024-06-21T04:25:28.373409",
     "exception": false,
     "start_time": "2024-06-21T04:25:28.351437",
     "status": "completed"
    },
    "tags": []
   },
   "outputs": [
    {
     "data": {
      "text/plain": [
       "'/kaggle/input/glaucoma-dataset-eyepacs-airogs-light-v2/eyepac-light-v2-512-jpg/train'"
      ]
     },
     "execution_count": 4,
     "metadata": {},
     "output_type": "execute_result"
    }
   ],
   "source": [
    "config.train_path"
   ]
  },
  {
   "cell_type": "code",
   "execution_count": 5,
   "id": "c734c161",
   "metadata": {
    "execution": {
     "iopub.execute_input": "2024-06-21T04:25:28.402191Z",
     "iopub.status.busy": "2024-06-21T04:25:28.401934Z",
     "iopub.status.idle": "2024-06-21T04:25:44.157043Z",
     "shell.execute_reply": "2024-06-21T04:25:44.156245Z"
    },
    "papermill": {
     "duration": 15.771983,
     "end_time": "2024-06-21T04:25:44.159221",
     "exception": false,
     "start_time": "2024-06-21T04:25:28.387238",
     "status": "completed"
    },
    "tags": []
   },
   "outputs": [],
   "source": [
    "def get_df(path): \n",
    "    paths = Path(path).rglob(\"*.jpg\")\n",
    "    files = [str(path) for path in paths]\n",
    "    labels = [file.split('/')[-2] for file in files]\n",
    "    \n",
    "    df = pd.DataFrame()\n",
    "    df['path'] = files\n",
    "    df['label'] = labels\n",
    "    df['label'] = df['label'].map({'RG':1, 'NRG': 0})\n",
    "    return df\n",
    "\n",
    "# Assuming CFG.path_to_data is set to the correct data path, the following lines will create your dataframes:\n",
    "train_df = get_df(config.train_path)\n",
    "valid_df = get_df(config.valid_path)\n",
    "test_df = get_df(config.test_path)"
   ]
  },
  {
   "cell_type": "code",
   "execution_count": 6,
   "id": "f6cbc0ae",
   "metadata": {
    "execution": {
     "iopub.execute_input": "2024-06-21T04:25:44.188926Z",
     "iopub.status.busy": "2024-06-21T04:25:44.188219Z",
     "iopub.status.idle": "2024-06-21T04:25:44.201808Z",
     "shell.execute_reply": "2024-06-21T04:25:44.200990Z"
    },
    "papermill": {
     "duration": 0.030164,
     "end_time": "2024-06-21T04:25:44.203654",
     "exception": false,
     "start_time": "2024-06-21T04:25:44.173490",
     "status": "completed"
    },
    "tags": []
   },
   "outputs": [
    {
     "data": {
      "text/html": [
       "<div>\n",
       "<style scoped>\n",
       "    .dataframe tbody tr th:only-of-type {\n",
       "        vertical-align: middle;\n",
       "    }\n",
       "\n",
       "    .dataframe tbody tr th {\n",
       "        vertical-align: top;\n",
       "    }\n",
       "\n",
       "    .dataframe thead th {\n",
       "        text-align: right;\n",
       "    }\n",
       "</style>\n",
       "<table border=\"1\" class=\"dataframe\">\n",
       "  <thead>\n",
       "    <tr style=\"text-align: right;\">\n",
       "      <th></th>\n",
       "      <th>path</th>\n",
       "      <th>label</th>\n",
       "    </tr>\n",
       "  </thead>\n",
       "  <tbody>\n",
       "    <tr>\n",
       "      <th>0</th>\n",
       "      <td>/kaggle/input/glaucoma-dataset-eyepacs-airogs-...</td>\n",
       "      <td>1</td>\n",
       "    </tr>\n",
       "    <tr>\n",
       "      <th>1</th>\n",
       "      <td>/kaggle/input/glaucoma-dataset-eyepacs-airogs-...</td>\n",
       "      <td>1</td>\n",
       "    </tr>\n",
       "    <tr>\n",
       "      <th>2</th>\n",
       "      <td>/kaggle/input/glaucoma-dataset-eyepacs-airogs-...</td>\n",
       "      <td>1</td>\n",
       "    </tr>\n",
       "    <tr>\n",
       "      <th>3</th>\n",
       "      <td>/kaggle/input/glaucoma-dataset-eyepacs-airogs-...</td>\n",
       "      <td>1</td>\n",
       "    </tr>\n",
       "    <tr>\n",
       "      <th>4</th>\n",
       "      <td>/kaggle/input/glaucoma-dataset-eyepacs-airogs-...</td>\n",
       "      <td>1</td>\n",
       "    </tr>\n",
       "    <tr>\n",
       "      <th>...</th>\n",
       "      <td>...</td>\n",
       "      <td>...</td>\n",
       "    </tr>\n",
       "    <tr>\n",
       "      <th>7995</th>\n",
       "      <td>/kaggle/input/glaucoma-dataset-eyepacs-airogs-...</td>\n",
       "      <td>0</td>\n",
       "    </tr>\n",
       "    <tr>\n",
       "      <th>7996</th>\n",
       "      <td>/kaggle/input/glaucoma-dataset-eyepacs-airogs-...</td>\n",
       "      <td>0</td>\n",
       "    </tr>\n",
       "    <tr>\n",
       "      <th>7997</th>\n",
       "      <td>/kaggle/input/glaucoma-dataset-eyepacs-airogs-...</td>\n",
       "      <td>0</td>\n",
       "    </tr>\n",
       "    <tr>\n",
       "      <th>7998</th>\n",
       "      <td>/kaggle/input/glaucoma-dataset-eyepacs-airogs-...</td>\n",
       "      <td>0</td>\n",
       "    </tr>\n",
       "    <tr>\n",
       "      <th>7999</th>\n",
       "      <td>/kaggle/input/glaucoma-dataset-eyepacs-airogs-...</td>\n",
       "      <td>0</td>\n",
       "    </tr>\n",
       "  </tbody>\n",
       "</table>\n",
       "<p>8000 rows × 2 columns</p>\n",
       "</div>"
      ],
      "text/plain": [
       "                                                   path  label\n",
       "0     /kaggle/input/glaucoma-dataset-eyepacs-airogs-...      1\n",
       "1     /kaggle/input/glaucoma-dataset-eyepacs-airogs-...      1\n",
       "2     /kaggle/input/glaucoma-dataset-eyepacs-airogs-...      1\n",
       "3     /kaggle/input/glaucoma-dataset-eyepacs-airogs-...      1\n",
       "4     /kaggle/input/glaucoma-dataset-eyepacs-airogs-...      1\n",
       "...                                                 ...    ...\n",
       "7995  /kaggle/input/glaucoma-dataset-eyepacs-airogs-...      0\n",
       "7996  /kaggle/input/glaucoma-dataset-eyepacs-airogs-...      0\n",
       "7997  /kaggle/input/glaucoma-dataset-eyepacs-airogs-...      0\n",
       "7998  /kaggle/input/glaucoma-dataset-eyepacs-airogs-...      0\n",
       "7999  /kaggle/input/glaucoma-dataset-eyepacs-airogs-...      0\n",
       "\n",
       "[8000 rows x 2 columns]"
      ]
     },
     "execution_count": 6,
     "metadata": {},
     "output_type": "execute_result"
    }
   ],
   "source": [
    "train_df"
   ]
  },
  {
   "cell_type": "code",
   "execution_count": 7,
   "id": "448254f9",
   "metadata": {
    "execution": {
     "iopub.execute_input": "2024-06-21T04:25:44.233209Z",
     "iopub.status.busy": "2024-06-21T04:25:44.232950Z",
     "iopub.status.idle": "2024-06-21T04:25:44.244605Z",
     "shell.execute_reply": "2024-06-21T04:25:44.243893Z"
    },
    "papermill": {
     "duration": 0.028553,
     "end_time": "2024-06-21T04:25:44.246380",
     "exception": false,
     "start_time": "2024-06-21T04:25:44.217827",
     "status": "completed"
    },
    "tags": []
   },
   "outputs": [],
   "source": [
    "from PIL import Image\n",
    "import os\n",
    "import torch\n",
    "from sklearn.model_selection import train_test_split\n",
    "\n",
    "    \n",
    "# define a data class\n",
    "class ClassificationDataset:\n",
    "    def __init__(self, data, data_path, transform, training=True):\n",
    "        \"\"\"Define the dataset for classification problems\n",
    "\n",
    "        Args:\n",
    "            data ([dataframe]): [a dataframe that contain 2 columns: image name and label]\n",
    "            data_path ([str]): [path/to/folder that contains image file]\n",
    "            transform : [augmentation methods and transformation of images]\n",
    "            training (bool, optional): []. Defaults to True.\n",
    "        \"\"\"\n",
    "        self.data = data\n",
    "        self.imgs = data[\"path\"].unique().tolist()\n",
    "        self.data_path = data_path\n",
    "        self.training = training\n",
    "        self.transform = transform\n",
    "\n",
    "    def __getitem__(self, idx):\n",
    "        img = Image.open(os.path.join(self.data_path, self.data.iloc[idx, 0]))\n",
    "        if(self.training):\n",
    "            label = self.data.iloc[idx, 1]\n",
    "        if self.transform is not None:\n",
    "            img = self.transform(img)\n",
    "        if(self.training):\n",
    "            return img, label\n",
    "        else:\n",
    "            return img\n",
    "\n",
    "    def __len__(self):\n",
    "        return len(self.imgs)\n",
    "\n",
    "\n",
    "def make_loader(dataset, train_batch_size, validation_split=0.2):\n",
    "    \"\"\"make dataloader for pytorch training\n",
    "\n",
    "    Args:\n",
    "        dataset ([object]): [the dataset object]\n",
    "        train_batch_size ([int]): [training batch size]\n",
    "        validation_split (float, optional): [validation ratio]. Defaults to 0.2.\n",
    "\n",
    "    Returns:\n",
    "        [type]: [description]\n",
    "    \"\"\"\n",
    "    # number of samples in train and test set\n",
    "    train_len = int(len(dataset) * (1 - validation_split))\n",
    "    test_len = len(dataset) - train_len\n",
    "    train_set, test_set = torch.utils.data.random_split(dataset, [train_len, test_len])\n",
    "    # create train_loader\n",
    "    print(len(train_set))\n",
    "    train_loader = torch.utils.data.DataLoader(\n",
    "        train_set, batch_size=train_batch_size, shuffle=True,\n",
    "    )\n",
    "    # create test_loader\n",
    "    test_loader = torch.utils.data.DataLoader(test_set, batch_size=1, shuffle=False,)\n",
    "    return train_loader, test_loader\n",
    "\n",
    "\n",
    "def data_split(data, test_size):\n",
    "    x_train, x_test, y_train, y_test = train_test_split(\n",
    "        data, data[\"label\"], test_size=test_size, stratify = data.iloc[:,1]\n",
    "    )\n",
    "    return x_train, x_test, y_train, y_test"
   ]
  },
  {
   "cell_type": "markdown",
   "id": "e405acee",
   "metadata": {
    "papermill": {
     "duration": 0.014047,
     "end_time": "2024-06-21T04:25:44.274614",
     "exception": false,
     "start_time": "2024-06-21T04:25:44.260567",
     "status": "completed"
    },
    "tags": []
   },
   "source": [
    "# 1. Define DataLoader"
   ]
  },
  {
   "cell_type": "code",
   "execution_count": 8,
   "id": "f125cadc",
   "metadata": {
    "execution": {
     "iopub.execute_input": "2024-06-21T04:25:44.303948Z",
     "iopub.status.busy": "2024-06-21T04:25:44.303654Z",
     "iopub.status.idle": "2024-06-21T04:25:44.307608Z",
     "shell.execute_reply": "2024-06-21T04:25:44.306779Z"
    },
    "papermill": {
     "duration": 0.020713,
     "end_time": "2024-06-21T04:25:44.309527",
     "exception": false,
     "start_time": "2024-06-21T04:25:44.288814",
     "status": "completed"
    },
    "tags": []
   },
   "outputs": [],
   "source": [
    "mean = (0.5, 0.5, 0.5)\n",
    "std = (0.5, 0.5, 0.5)"
   ]
  },
  {
   "cell_type": "code",
   "execution_count": 9,
   "id": "808c3e73",
   "metadata": {
    "execution": {
     "iopub.execute_input": "2024-06-21T04:25:44.338937Z",
     "iopub.status.busy": "2024-06-21T04:25:44.338403Z",
     "iopub.status.idle": "2024-06-21T04:25:44.343127Z",
     "shell.execute_reply": "2024-06-21T04:25:44.342229Z"
    },
    "papermill": {
     "duration": 0.021507,
     "end_time": "2024-06-21T04:25:44.345067",
     "exception": false,
     "start_time": "2024-06-21T04:25:44.323560",
     "status": "completed"
    },
    "tags": []
   },
   "outputs": [],
   "source": [
    "import torchvision\n",
    "transform = torchvision.transforms.Compose([torchvision.transforms.Resize((224, 224)),\n",
    "                                               torchvision.transforms.ToTensor(),\n",
    "                                               torchvision.transforms.Normalize(mean, std)])"
   ]
  },
  {
   "cell_type": "code",
   "execution_count": 10,
   "id": "8ff9add0",
   "metadata": {
    "execution": {
     "iopub.execute_input": "2024-06-21T04:25:44.374488Z",
     "iopub.status.busy": "2024-06-21T04:25:44.374226Z",
     "iopub.status.idle": "2024-06-21T04:25:44.378495Z",
     "shell.execute_reply": "2024-06-21T04:25:44.377807Z"
    },
    "papermill": {
     "duration": 0.021018,
     "end_time": "2024-06-21T04:25:44.380302",
     "exception": false,
     "start_time": "2024-06-21T04:25:44.359284",
     "status": "completed"
    },
    "tags": []
   },
   "outputs": [],
   "source": [
    "test_transform = torchvision.transforms.Compose([torchvision.transforms.Resize((224, 224)),\n",
    "                                               torchvision.transforms.ToTensor(),\n",
    "                                               torchvision.transforms.Normalize(mean, std)])"
   ]
  },
  {
   "cell_type": "code",
   "execution_count": 11,
   "id": "cf2977ae",
   "metadata": {
    "execution": {
     "iopub.execute_input": "2024-06-21T04:25:44.409595Z",
     "iopub.status.busy": "2024-06-21T04:25:44.409363Z",
     "iopub.status.idle": "2024-06-21T04:25:44.433874Z",
     "shell.execute_reply": "2024-06-21T04:25:44.432906Z"
    },
    "papermill": {
     "duration": 0.041367,
     "end_time": "2024-06-21T04:25:44.435710",
     "exception": false,
     "start_time": "2024-06-21T04:25:44.394343",
     "status": "completed"
    },
    "tags": []
   },
   "outputs": [
    {
     "name": "stdout",
     "output_type": "stream",
     "text": [
      "6400\n"
     ]
    }
   ],
   "source": [
    "dataset = ClassificationDataset(train_df,data_path = \"\",transform=transform,training=True)\n",
    "train_loader,val_loader = make_loader(dataset, train_batch_size=config.batch_size, validation_split=0.2)"
   ]
  },
  {
   "cell_type": "code",
   "execution_count": 12,
   "id": "28e9c25f",
   "metadata": {
    "execution": {
     "iopub.execute_input": "2024-06-21T04:25:44.465338Z",
     "iopub.status.busy": "2024-06-21T04:25:44.465099Z",
     "iopub.status.idle": "2024-06-21T04:25:44.469302Z",
     "shell.execute_reply": "2024-06-21T04:25:44.468527Z"
    },
    "papermill": {
     "duration": 0.021656,
     "end_time": "2024-06-21T04:25:44.471678",
     "exception": false,
     "start_time": "2024-06-21T04:25:44.450022",
     "status": "completed"
    },
    "tags": []
   },
   "outputs": [
    {
     "name": "stdout",
     "output_type": "stream",
     "text": [
      "Random seed:  100\n"
     ]
    }
   ],
   "source": [
    "import random\n",
    "\n",
    "# Generate a random integer between 0 and 2^32 - 1\n",
    "random_seed = random.randint(0, 128)\n",
    "print(\"Random seed: \",random_seed)"
   ]
  },
  {
   "cell_type": "code",
   "execution_count": 13,
   "id": "bd2d4be5",
   "metadata": {
    "execution": {
     "iopub.execute_input": "2024-06-21T04:25:44.501065Z",
     "iopub.status.busy": "2024-06-21T04:25:44.500820Z",
     "iopub.status.idle": "2024-06-21T04:25:44.511365Z",
     "shell.execute_reply": "2024-06-21T04:25:44.510682Z"
    },
    "papermill": {
     "duration": 0.027421,
     "end_time": "2024-06-21T04:25:44.513281",
     "exception": false,
     "start_time": "2024-06-21T04:25:44.485860",
     "status": "completed"
    },
    "tags": []
   },
   "outputs": [],
   "source": [
    " X_train, X_test, y_train, y_test = train_test_split(train_df, train_df['label'],stratify=train_df['label'], test_size=0.2, random_state=random_seed)"
   ]
  },
  {
   "cell_type": "code",
   "execution_count": 14,
   "id": "5b63dfda",
   "metadata": {
    "execution": {
     "iopub.execute_input": "2024-06-21T04:25:44.542895Z",
     "iopub.status.busy": "2024-06-21T04:25:44.542614Z",
     "iopub.status.idle": "2024-06-21T04:25:44.549977Z",
     "shell.execute_reply": "2024-06-21T04:25:44.549133Z"
    },
    "papermill": {
     "duration": 0.024288,
     "end_time": "2024-06-21T04:25:44.551924",
     "exception": false,
     "start_time": "2024-06-21T04:25:44.527636",
     "status": "completed"
    },
    "tags": []
   },
   "outputs": [],
   "source": [
    "train_dataset = ClassificationDataset(X_train,data_path = \"\",transform=transform,training=True)\n",
    "val_dataset = ClassificationDataset(X_test,data_path = \"\",transform=test_transform,training=True)"
   ]
  },
  {
   "cell_type": "code",
   "execution_count": 15,
   "id": "fe2325c3",
   "metadata": {
    "execution": {
     "iopub.execute_input": "2024-06-21T04:25:44.581409Z",
     "iopub.status.busy": "2024-06-21T04:25:44.581144Z",
     "iopub.status.idle": "2024-06-21T04:25:44.586392Z",
     "shell.execute_reply": "2024-06-21T04:25:44.585706Z"
    },
    "papermill": {
     "duration": 0.022014,
     "end_time": "2024-06-21T04:25:44.588164",
     "exception": false,
     "start_time": "2024-06-21T04:25:44.566150",
     "status": "completed"
    },
    "tags": []
   },
   "outputs": [],
   "source": [
    "train_loader = torch.utils.data.DataLoader(\n",
    "        train_dataset, batch_size=config.batch_size, shuffle=True,\n",
    "    )\n",
    "    # create test_loader\n",
    "val_loader = torch.utils.data.DataLoader(val_dataset, batch_size=1, shuffle=False)"
   ]
  },
  {
   "cell_type": "code",
   "execution_count": 16,
   "id": "bcb22913",
   "metadata": {
    "execution": {
     "iopub.execute_input": "2024-06-21T04:25:44.618095Z",
     "iopub.status.busy": "2024-06-21T04:25:44.617829Z",
     "iopub.status.idle": "2024-06-21T04:25:44.622383Z",
     "shell.execute_reply": "2024-06-21T04:25:44.621543Z"
    },
    "papermill": {
     "duration": 0.02182,
     "end_time": "2024-06-21T04:25:44.624189",
     "exception": false,
     "start_time": "2024-06-21T04:25:44.602369",
     "status": "completed"
    },
    "tags": []
   },
   "outputs": [],
   "source": [
    "testset = ClassificationDataset(test_df,data_path = \"\",transform=test_transform,training=False)\n",
    "test_loader = torch.utils.data.DataLoader(\n",
    "        testset, batch_size=1, shuffle=False,\n",
    "    )"
   ]
  },
  {
   "cell_type": "code",
   "execution_count": 17,
   "id": "40573c9e",
   "metadata": {
    "execution": {
     "iopub.execute_input": "2024-06-21T04:25:44.653592Z",
     "iopub.status.busy": "2024-06-21T04:25:44.653326Z",
     "iopub.status.idle": "2024-06-21T04:25:54.024031Z",
     "shell.execute_reply": "2024-06-21T04:25:54.022979Z"
    },
    "papermill": {
     "duration": 9.387769,
     "end_time": "2024-06-21T04:25:54.026203",
     "exception": false,
     "start_time": "2024-06-21T04:25:44.638434",
     "status": "completed"
    },
    "tags": []
   },
   "outputs": [
    {
     "name": "stderr",
     "output_type": "stream",
     "text": [
      "100%|██████████| 770/770 [00:09<00:00, 82.56it/s]\n"
     ]
    }
   ],
   "source": [
    "from tqdm import tqdm\n",
    "psum    = torch.tensor([0.0, 0.0, 0.0])\n",
    "psum_sq = torch.tensor([0.0, 0.0, 0.0])\n",
    "\n",
    "# loop through images\n",
    "for inputs in tqdm(test_loader):\n",
    "    psum    += inputs.sum(axis        = [0, 2, 3])\n",
    "    psum_sq += (inputs ** 2).sum(axis = [0, 2, 3])\n",
    "\n",
    "count = len(test_df) * 224 * 224\n",
    "\n",
    "# mean and std\n",
    "test_mean = psum / count\n",
    "test_var  = (psum_sq / count) - (test_mean ** 2)\n",
    "test_std  = torch.sqrt(test_var)"
   ]
  },
  {
   "cell_type": "code",
   "execution_count": 18,
   "id": "eff3c9ee",
   "metadata": {
    "execution": {
     "iopub.execute_input": "2024-06-21T04:25:54.072245Z",
     "iopub.status.busy": "2024-06-21T04:25:54.071669Z",
     "iopub.status.idle": "2024-06-21T04:27:11.441899Z",
     "shell.execute_reply": "2024-06-21T04:27:11.440684Z"
    },
    "papermill": {
     "duration": 77.395843,
     "end_time": "2024-06-21T04:27:11.444235",
     "exception": false,
     "start_time": "2024-06-21T04:25:54.048392",
     "status": "completed"
    },
    "tags": []
   },
   "outputs": [
    {
     "name": "stderr",
     "output_type": "stream",
     "text": [
      "100%|██████████| 400/400 [01:17<00:00,  5.17it/s]\n"
     ]
    }
   ],
   "source": [
    "psum    = torch.tensor([0.0, 0.0, 0.0])\n",
    "psum_sq = torch.tensor([0.0, 0.0, 0.0])\n",
    "\n",
    "# loop through images\n",
    "for inputs,_ in tqdm(train_loader):\n",
    "    psum    += inputs.sum(axis        = [0, 2, 3])\n",
    "    psum_sq += (inputs ** 2).sum(axis = [0, 2, 3])\n",
    "\n",
    "count = len(train_loader) * 224 * 224\n",
    "\n",
    "# mean and std\n",
    "train_mean = psum / count\n",
    "train_var  = (psum_sq / count) - (train_mean ** 2)\n",
    "train_std  = torch.sqrt(train_var)"
   ]
  },
  {
   "cell_type": "code",
   "execution_count": 19,
   "id": "6d8a095f",
   "metadata": {
    "execution": {
     "iopub.execute_input": "2024-06-21T04:27:11.550235Z",
     "iopub.status.busy": "2024-06-21T04:27:11.549695Z",
     "iopub.status.idle": "2024-06-21T04:27:11.556058Z",
     "shell.execute_reply": "2024-06-21T04:27:11.555251Z"
    },
    "papermill": {
     "duration": 0.060457,
     "end_time": "2024-06-21T04:27:11.557879",
     "exception": false,
     "start_time": "2024-06-21T04:27:11.497422",
     "status": "completed"
    },
    "tags": []
   },
   "outputs": [],
   "source": [
    "def imshow(inp, title=None):\n",
    "    \"\"\"Imshow for Tensor.\"\"\"\n",
    "    inp = inp.numpy().transpose((1, 2, 0))\n",
    "    mean = np.array([0.485, 0.456, 0.406])\n",
    "    std = np.array([0.229, 0.224, 0.225])\n",
    "    inp = std * inp + mean\n",
    "    inp = np.clip(inp, 0, 1)\n",
    "    plt.figure(figsize = (12, 12))\n",
    "    plt.imshow(inp)\n",
    "    if title is not None:\n",
    "        plt.title(title)\n",
    "    plt.axis(\"off\")\n",
    "    plt.pause(0.001)"
   ]
  },
  {
   "cell_type": "code",
   "execution_count": 20,
   "id": "a4acf025",
   "metadata": {
    "execution": {
     "iopub.execute_input": "2024-06-21T04:27:11.661622Z",
     "iopub.status.busy": "2024-06-21T04:27:11.661161Z",
     "iopub.status.idle": "2024-06-21T04:27:12.292224Z",
     "shell.execute_reply": "2024-06-21T04:27:12.291202Z"
    },
    "papermill": {
     "duration": 0.685078,
     "end_time": "2024-06-21T04:27:12.294288",
     "exception": false,
     "start_time": "2024-06-21T04:27:11.609210",
     "status": "completed"
    },
    "tags": []
   },
   "outputs": [
    {
     "data": {
      "image/png": "[encoded data removed]",
      "text/plain": [
       "<Figure size 1200x1200 with 1 Axes>"
      ]
     },
     "metadata": {},
     "output_type": "display_data"
    }
   ],
   "source": [
    "import matplotlib.pyplot as plt\n",
    "\n",
    "%matplotlib inline\n",
    "# Visualization\n",
    "images, classes = next(iter(train_loader))\n",
    "# Make a grid from batch\n",
    "out = torchvision.utils.make_grid(images, nrow=8)\n",
    "imshow(out, title=classes)"
   ]
  },
  {
   "cell_type": "markdown",
   "id": "76464350",
   "metadata": {
    "papermill": {
     "duration": 0.054197,
     "end_time": "2024-06-21T04:27:12.405065",
     "exception": false,
     "start_time": "2024-06-21T04:27:12.350868",
     "status": "completed"
    },
    "tags": []
   },
   "source": [
    "# 2. Define Metrics and Optimizers and Loss function\n"
   ]
  },
  {
   "cell_type": "code",
   "execution_count": 21,
   "id": "fef86139",
   "metadata": {
    "execution": {
     "iopub.execute_input": "2024-06-21T04:27:12.514839Z",
     "iopub.status.busy": "2024-06-21T04:27:12.514498Z",
     "iopub.status.idle": "2024-06-21T04:27:12.523817Z",
     "shell.execute_reply": "2024-06-21T04:27:12.522981Z"
    },
    "papermill": {
     "duration": 0.066499,
     "end_time": "2024-06-21T04:27:12.525670",
     "exception": false,
     "start_time": "2024-06-21T04:27:12.459171",
     "status": "completed"
    },
    "tags": []
   },
   "outputs": [],
   "source": [
    "from sklearn import metrics as skmetrics\n",
    "import numpy\n",
    "class Metrics:\n",
    "    def __init__(self, metric_names):\n",
    "        self.metric_names = metric_names\n",
    "        # initialize a metric dictionary\n",
    "        self.metric_dict = {metric_name: [0] for metric_name in self.metric_names}\n",
    "\n",
    "    def step(self, labels, preds):\n",
    "        for metric in self.metric_names:\n",
    "            # get the metric function\n",
    "            do_metric = getattr(\n",
    "                skmetrics, metric, \"The metric {} is not implemented\".format(metric)\n",
    "            )\n",
    "            # check if metric require average method, if yes set to 'micro' or 'macro' or 'None'\n",
    "            try:\n",
    "                self.metric_dict[metric].append(\n",
    "                    do_metric(labels, preds, average=\"macro\")\n",
    "                )\n",
    "            except:\n",
    "                self.metric_dict[metric].append(do_metric(labels, preds))\n",
    "\n",
    "    def epoch(self):\n",
    "        # calculate metrics for an entire epoch\n",
    "        avg = [sum(metric) / (len(metric) - 1) for metric in self.metric_dict.values()]\n",
    "        metric_as_dict = dict(zip(self.metric_names, avg))\n",
    "        return metric_as_dict\n",
    "\n",
    "    def last_step_metrics(self):\n",
    "        # return metrics of last steps\n",
    "        values = [self.metric_dict[metric][-1] for metric in self.metric_names]\n",
    "        metric_as_dict = dict(zip(self.metric_names, values))\n",
    "        return metric_as_dict"
   ]
  },
  {
   "cell_type": "code",
   "execution_count": 22,
   "id": "bf085469",
   "metadata": {
    "execution": {
     "iopub.execute_input": "2024-06-21T04:27:12.636152Z",
     "iopub.status.busy": "2024-06-21T04:27:12.635523Z",
     "iopub.status.idle": "2024-06-21T04:27:12.639512Z",
     "shell.execute_reply": "2024-06-21T04:27:12.638722Z"
    },
    "papermill": {
     "duration": 0.060987,
     "end_time": "2024-06-21T04:27:12.641320",
     "exception": false,
     "start_time": "2024-06-21T04:27:12.580333",
     "status": "completed"
    },
    "tags": []
   },
   "outputs": [],
   "source": [
    "train_metrics = Metrics([\"accuracy_score\",\"f1_score\"])\n",
    "val_metrics = Metrics([\"accuracy_score\",\"f1_score\"])"
   ]
  },
  {
   "cell_type": "code",
   "execution_count": 23,
   "id": "e1d1de35",
   "metadata": {
    "execution": {
     "iopub.execute_input": "2024-06-21T04:27:12.751530Z",
     "iopub.status.busy": "2024-06-21T04:27:12.750994Z",
     "iopub.status.idle": "2024-06-21T04:27:12.809092Z",
     "shell.execute_reply": "2024-06-21T04:27:12.808223Z"
    },
    "papermill": {
     "duration": 0.115514,
     "end_time": "2024-06-21T04:27:12.811012",
     "exception": false,
     "start_time": "2024-06-21T04:27:12.695498",
     "status": "completed"
    },
    "tags": []
   },
   "outputs": [],
   "source": [
    "device = torch.device(\"cuda:0\" if torch.cuda.is_available() else \"cpu\")\n",
    "from torch import nn\n",
    "# criterion = nn.CrossEntropyLoss()"
   ]
  },
  {
   "cell_type": "code",
   "execution_count": 24,
   "id": "adb8f339",
   "metadata": {
    "execution": {
     "iopub.execute_input": "2024-06-21T04:27:12.921439Z",
     "iopub.status.busy": "2024-06-21T04:27:12.920932Z",
     "iopub.status.idle": "2024-06-21T04:27:12.924785Z",
     "shell.execute_reply": "2024-06-21T04:27:12.923959Z"
    },
    "papermill": {
     "duration": 0.061228,
     "end_time": "2024-06-21T04:27:12.926734",
     "exception": false,
     "start_time": "2024-06-21T04:27:12.865506",
     "status": "completed"
    },
    "tags": []
   },
   "outputs": [],
   "source": [
    "criterion = nn.CrossEntropyLoss()"
   ]
  },
  {
   "cell_type": "code",
   "execution_count": 25,
   "id": "e9ed69b6",
   "metadata": {
    "execution": {
     "iopub.execute_input": "2024-06-21T04:27:13.037537Z",
     "iopub.status.busy": "2024-06-21T04:27:13.037262Z",
     "iopub.status.idle": "2024-06-21T04:27:28.738910Z",
     "shell.execute_reply": "2024-06-21T04:27:28.737788Z"
    },
    "papermill": {
     "duration": 15.759857,
     "end_time": "2024-06-21T04:27:28.741259",
     "exception": false,
     "start_time": "2024-06-21T04:27:12.981402",
     "status": "completed"
    },
    "tags": []
   },
   "outputs": [
    {
     "name": "stdout",
     "output_type": "stream",
     "text": [
      "Found existing installation: timm 1.0.3\r\n",
      "Uninstalling timm-1.0.3:\r\n",
      "  Successfully uninstalled timm-1.0.3\r\n",
      "Collecting timm==0.4.12\r\n",
      "  Downloading timm-0.4.12-py3-none-any.whl.metadata (30 kB)\r\n",
      "Requirement already satisfied: torch>=1.4 in /opt/conda/lib/python3.10/site-packages (from timm==0.4.12) (2.1.2)\r\n",
      "Requirement already satisfied: torchvision in /opt/conda/lib/python3.10/site-packages (from timm==0.4.12) (0.16.2)\r\n",
      "Requirement already satisfied: filelock in /opt/conda/lib/python3.10/site-packages (from torch>=1.4->timm==0.4.12) (3.13.1)\r\n",
      "Requirement already satisfied: typing-extensions in /opt/conda/lib/python3.10/site-packages (from torch>=1.4->timm==0.4.12) (4.9.0)\r\n",
      "Requirement already satisfied: sympy in /opt/conda/lib/python3.10/site-packages (from torch>=1.4->timm==0.4.12) (1.12.1)\r\n",
      "Requirement already satisfied: networkx in /opt/conda/lib/python3.10/site-packages (from torch>=1.4->timm==0.4.12) (3.2.1)\r\n",
      "Requirement already satisfied: jinja2 in /opt/conda/lib/python3.10/site-packages (from torch>=1.4->timm==0.4.12) (3.1.2)\r\n",
      "Requirement already satisfied: fsspec in /opt/conda/lib/python3.10/site-packages (from torch>=1.4->timm==0.4.12) (2024.3.1)\r\n",
      "Requirement already satisfied: numpy in /opt/conda/lib/python3.10/site-packages (from torchvision->timm==0.4.12) (1.26.4)\r\n",
      "Requirement already satisfied: requests in /opt/conda/lib/python3.10/site-packages (from torchvision->timm==0.4.12) (2.32.3)\r\n",
      "Requirement already satisfied: pillow!=8.3.*,>=5.3.0 in /opt/conda/lib/python3.10/site-packages (from torchvision->timm==0.4.12) (9.5.0)\r\n",
      "Requirement already satisfied: MarkupSafe>=2.0 in /opt/conda/lib/python3.10/site-packages (from jinja2->torch>=1.4->timm==0.4.12) (2.1.3)\r\n",
      "Requirement already satisfied: charset-normalizer<4,>=2 in /opt/conda/lib/python3.10/site-packages (from requests->torchvision->timm==0.4.12) (3.3.2)\r\n",
      "Requirement already satisfied: idna<4,>=2.5 in /opt/conda/lib/python3.10/site-packages (from requests->torchvision->timm==0.4.12) (3.6)\r\n",
      "Requirement already satisfied: urllib3<3,>=1.21.1 in /opt/conda/lib/python3.10/site-packages (from requests->torchvision->timm==0.4.12) (1.26.18)\r\n",
      "Requirement already satisfied: certifi>=2017.4.17 in /opt/conda/lib/python3.10/site-packages (from requests->torchvision->timm==0.4.12) (2024.2.2)\r\n",
      "Requirement already satisfied: mpmath<1.4.0,>=1.1.0 in /opt/conda/lib/python3.10/site-packages (from sympy->torch>=1.4->timm==0.4.12) (1.3.0)\r\n",
      "Downloading timm-0.4.12-py3-none-any.whl (376 kB)\r\n",
      "\u001b[2K   \u001b[90m━━━━━━━━━━━━━━━━━━━━━━━━━━━━━━━━━━━━━━━━\u001b[0m \u001b[32m377.0/377.0 kB\u001b[0m \u001b[31m15.1 MB/s\u001b[0m eta \u001b[36m0:00:00\u001b[0m\r\n",
      "\u001b[?25hInstalling collected packages: timm\r\n",
      "Successfully installed timm-0.4.12\r\n"
     ]
    }
   ],
   "source": [
    "!pip uninstall timm -y\n",
    "!pip install timm==0.4.12"
   ]
  },
  {
   "cell_type": "markdown",
   "id": "e70f8e45",
   "metadata": {
    "papermill": {
     "duration": 0.054873,
     "end_time": "2024-06-21T04:27:28.852166",
     "exception": false,
     "start_time": "2024-06-21T04:27:28.797293",
     "status": "completed"
    },
    "tags": []
   },
   "source": [
    "4. Define the Model: Transfer Learning\n"
   ]
  },
  {
   "cell_type": "code",
   "execution_count": 26,
   "id": "5b663622",
   "metadata": {
    "execution": {
     "iopub.execute_input": "2024-06-21T04:27:28.964092Z",
     "iopub.status.busy": "2024-06-21T04:27:28.963721Z",
     "iopub.status.idle": "2024-06-21T04:27:28.968399Z",
     "shell.execute_reply": "2024-06-21T04:27:28.967528Z"
    },
    "papermill": {
     "duration": 0.062873,
     "end_time": "2024-06-21T04:27:28.970352",
     "exception": false,
     "start_time": "2024-06-21T04:27:28.907479",
     "status": "completed"
    },
    "tags": []
   },
   "outputs": [],
   "source": [
    "from torchvision import models\n",
    "from torch import nn\n",
    "import timm"
   ]
  },
  {
   "cell_type": "code",
   "execution_count": 27,
   "id": "210e766b",
   "metadata": {
    "execution": {
     "iopub.execute_input": "2024-06-21T04:27:29.081633Z",
     "iopub.status.busy": "2024-06-21T04:27:29.081348Z",
     "iopub.status.idle": "2024-06-21T04:27:32.164224Z",
     "shell.execute_reply": "2024-06-21T04:27:32.163266Z"
    },
    "papermill": {
     "duration": 3.140944,
     "end_time": "2024-06-21T04:27:32.166477",
     "exception": false,
     "start_time": "2024-06-21T04:27:29.025533",
     "status": "completed"
    },
    "tags": []
   },
   "outputs": [
    {
     "data": {
      "application/vnd.jupyter.widget-view+json": {
       "model_id": "6d5e86bb2a91455c87e30f673d077ed5",
       "version_major": 2,
       "version_minor": 0
      },
      "text/plain": [
       "model.safetensors:   0%|          | 0.00/353M [00:00<?, ?B/s]"
      ]
     },
     "metadata": {},
     "output_type": "display_data"
    }
   ],
   "source": [
    "# Tải mô hình Swin Transformer đã được pretrain\n",
    "model = timm.create_model('swin_base_patch4_window7_224', pretrained=True)\n",
    "# Đặt requires_grad = False cho tất cả các tham số của mô hình\n",
    "for param in model.parameters():\n",
    "    param.requires_grad = True\n",
    "# Tạo một bộ phân loại mới\n",
    "classifier = nn.Sequential(\n",
    "    nn.Linear(in_features=model.head.fc.in_features, out_features=256, bias=True),\n",
    "    nn.Linear(in_features=256, out_features=2, bias=True)\n",
    ")\n",
    "# Thay thế bộ phân loại hiện tại của mô hình bằng bộ phân loại mới\n",
    "model.head.fc = classifier"
   ]
  },
  {
   "cell_type": "code",
   "execution_count": 28,
   "id": "0231404c",
   "metadata": {
    "execution": {
     "iopub.execute_input": "2024-06-21T04:27:32.279716Z",
     "iopub.status.busy": "2024-06-21T04:27:32.279414Z",
     "iopub.status.idle": "2024-06-21T04:27:32.286777Z",
     "shell.execute_reply": "2024-06-21T04:27:32.285909Z"
    },
    "papermill": {
     "duration": 0.065358,
     "end_time": "2024-06-21T04:27:32.288645",
     "exception": false,
     "start_time": "2024-06-21T04:27:32.223287",
     "status": "completed"
    },
    "tags": []
   },
   "outputs": [],
   "source": [
    "optimizer = torch.optim.Adam(model.parameters(), lr=0.01)\n",
    "scheduler = torch.optim.lr_scheduler.ReduceLROnPlateau(\n",
    "        optimizer, \"min\", patience=2, factor=0.5\n",
    "    )"
   ]
  },
  {
   "cell_type": "markdown",
   "id": "36a57202",
   "metadata": {
    "papermill": {
     "duration": 0.055507,
     "end_time": "2024-06-21T04:27:32.400125",
     "exception": false,
     "start_time": "2024-06-21T04:27:32.344618",
     "status": "completed"
    },
    "tags": []
   },
   "source": [
    "# 3. Define a training epoch\n"
   ]
  },
  {
   "cell_type": "code",
   "execution_count": 29,
   "id": "6be6ac7a",
   "metadata": {
    "execution": {
     "iopub.execute_input": "2024-06-21T04:27:32.512947Z",
     "iopub.status.busy": "2024-06-21T04:27:32.512625Z",
     "iopub.status.idle": "2024-06-21T04:27:32.753985Z",
     "shell.execute_reply": "2024-06-21T04:27:32.753137Z"
    },
    "papermill": {
     "duration": 0.299961,
     "end_time": "2024-06-21T04:27:32.756251",
     "exception": false,
     "start_time": "2024-06-21T04:27:32.456290",
     "status": "completed"
    },
    "tags": []
   },
   "outputs": [],
   "source": [
    "model = model.to(device)"
   ]
  },
  {
   "cell_type": "code",
   "execution_count": 30,
   "id": "b7ed1c28",
   "metadata": {
    "execution": {
     "iopub.execute_input": "2024-06-21T04:27:32.869653Z",
     "iopub.status.busy": "2024-06-21T04:27:32.869342Z",
     "iopub.status.idle": "2024-06-21T04:27:32.881565Z",
     "shell.execute_reply": "2024-06-21T04:27:32.880727Z"
    },
    "papermill": {
     "duration": 0.070893,
     "end_time": "2024-06-21T04:27:32.883455",
     "exception": false,
     "start_time": "2024-06-21T04:27:32.812562",
     "status": "completed"
    },
    "tags": []
   },
   "outputs": [],
   "source": [
    "def train_one_epoch(\n",
    "    model,\n",
    "    train_loader,\n",
    "    test_loader,\n",
    "    device,\n",
    "    optimizer,\n",
    "    criterion,\n",
    "    train_metrics,\n",
    "    val_metrics,\n",
    "):\n",
    "\n",
    "    # training-the-model\n",
    "    train_loss = 0\n",
    "    valid_loss = 0\n",
    "    all_labels = []\n",
    "    all_preds = []\n",
    "    model.train()\n",
    "    for data, target in train_loader:\n",
    "        # move-tensors-to-GPU\n",
    "        data = data.type(torch.FloatTensor).to(device)\n",
    "        # target=torch.Tensor(target)\n",
    "        target = target.float().to(device)\n",
    "        # clear-the-gradients-of-all-optimized-variables\n",
    "        optimizer.zero_grad()\n",
    "        # forward-pass: compute-predicted-outputs-by-passing-inputs-to-the-model\n",
    "        output = model(data)\n",
    "        # get the prediction label and target label\n",
    "        output = model(data)\n",
    "        preds = torch.argmax(output, axis=1).cpu().detach().numpy()\n",
    "        labels = target.cpu().numpy()\n",
    "        # calculate-the-batch-loss\n",
    "        loss = criterion(output.type(torch.FloatTensor).to(device), target.type(torch.LongTensor).to(device))\n",
    "        # backward-pass: compute-gradient-of-the-loss-wrt-model-parameters\n",
    "        loss.backward()\n",
    "        # perform-a-ingle-optimization-step (parameter-update)\n",
    "        optimizer.step()\n",
    "        # update-training-loss\n",
    "        train_loss += loss.item() * data.size(0)\n",
    "        # calculate training metrics\n",
    "        all_labels.extend(labels)\n",
    "        all_preds.extend(preds)\n",
    "    \n",
    "    train_metrics.step(all_labels, all_preds)\n",
    "\n",
    "    # validate-the-model\n",
    "    model.eval()\n",
    "    all_labels = []\n",
    "    all_preds = []\n",
    "    for data, target in test_loader:\n",
    "        data = data.type(torch.FloatTensor).to(device)\n",
    "        target = target.to(device)\n",
    "        output = model(data)\n",
    "        preds = torch.argmax(output, axis=1).tolist()\n",
    "        labels = target.tolist()\n",
    "        all_labels.extend(labels)\n",
    "        all_preds.extend(preds)\n",
    "        loss = criterion(output, target)\n",
    "\n",
    "        # update-average-validation-loss\n",
    "        valid_loss += loss.item() * data.size(0)\n",
    "\n",
    "    val_metrics.step(all_labels, all_preds)\n",
    "    train_loss = train_loss / len(train_loader.sampler)\n",
    "    valid_loss = valid_loss / len(test_loader.sampler)\n",
    "\n",
    "    return (\n",
    "        train_loss,\n",
    "        valid_loss,\n",
    "        train_metrics.last_step_metrics(),\n",
    "        val_metrics.last_step_metrics(),\n",
    "    )"
   ]
  },
  {
   "cell_type": "markdown",
   "id": "a803703b",
   "metadata": {
    "papermill": {
     "duration": 0.055353,
     "end_time": "2024-06-21T04:27:32.994884",
     "exception": false,
     "start_time": "2024-06-21T04:27:32.939531",
     "status": "completed"
    },
    "tags": []
   },
   "source": [
    "# Training"
   ]
  },
  {
   "cell_type": "code",
   "execution_count": 31,
   "id": "ea567d6f",
   "metadata": {
    "execution": {
     "iopub.execute_input": "2024-06-21T04:27:33.107893Z",
     "iopub.status.busy": "2024-06-21T04:27:33.107040Z",
     "iopub.status.idle": "2024-06-21T04:27:33.111781Z",
     "shell.execute_reply": "2024-06-21T04:27:33.110875Z"
    },
    "papermill": {
     "duration": 0.062848,
     "end_time": "2024-06-21T04:27:33.113725",
     "exception": false,
     "start_time": "2024-06-21T04:27:33.050877",
     "status": "completed"
    },
    "tags": []
   },
   "outputs": [],
   "source": [
    "from tqdm import tqdm\n",
    "from datetime import datetime\n",
    "time_str = str(datetime.now().strftime(\"%Y%m%d-%H%M\"))"
   ]
  },
  {
   "cell_type": "code",
   "execution_count": 32,
   "id": "f69b3221",
   "metadata": {
    "execution": {
     "iopub.execute_input": "2024-06-21T04:27:33.225938Z",
     "iopub.status.busy": "2024-06-21T04:27:33.225048Z",
     "iopub.status.idle": "2024-06-21T07:23:17.800785Z",
     "shell.execute_reply": "2024-06-21T07:23:17.799774Z"
    },
    "papermill": {
     "duration": 10544.702106,
     "end_time": "2024-06-21T07:23:17.871394",
     "exception": false,
     "start_time": "2024-06-21T04:27:33.169288",
     "status": "completed"
    },
    "tags": []
   },
   "outputs": [
    {
     "name": "stdout",
     "output_type": "stream",
     "text": [
      "begin training process\n"
     ]
    },
    {
     "name": "stderr",
     "output_type": "stream",
     "text": [
      "  0%|          | 0/40 [00:00<?, ?it/s]"
     ]
    },
    {
     "name": "stdout",
     "output_type": "stream",
     "text": [
      "Epoch 1 / 40 \n",
      " Training loss: 0.5666053892299533 - Other training metrics: \n",
      "{'accuracy_score': 0.69703125, 'f1_score': 0.6970299999528806}\n",
      " \n",
      " Validation loss : 0.5583238603104838 - Other validation metrics:\n",
      "{'accuracy_score': 0.743125, 'f1_score': 0.7280251924110095}\n",
      "\n",
      "\n",
      "Validation accuracy= 0.743125===> Save best epoch\n"
     ]
    },
    {
     "name": "stderr",
     "output_type": "stream",
     "text": [
      "  2%|▎         | 1/40 [04:33<2:57:50, 273.61s/it]"
     ]
    },
    {
     "name": "stdout",
     "output_type": "stream",
     "text": [
      "Epoch 2 / 40 \n",
      " Training loss: 0.30911390625871715 - Other training metrics: \n",
      "{'accuracy_score': 0.87984375, 'f1_score': 0.879834218295294}\n",
      " \n",
      " Validation loss : 0.2806171055826417 - Other validation metrics:\n",
      "{'accuracy_score': 0.88875, 'f1_score': 0.8882595642436883}\n",
      "\n",
      "\n",
      "Validation accuracy= 0.88875===> Save best epoch\n"
     ]
    },
    {
     "name": "stderr",
     "output_type": "stream",
     "text": [
      "  8%|▊         | 3/40 [13:19<2:43:20, 264.87s/it]"
     ]
    },
    {
     "name": "stdout",
     "output_type": "stream",
     "text": [
      "Epoch 3 / 40 \n",
      " Training loss: 0.19688880813890136 - Other training metrics: \n",
      "{'accuracy_score': 0.9278125, 'f1_score': 0.9278116469930944}\n",
      " \n",
      " Validation loss : 0.2953549009814742 - Other validation metrics:\n",
      "{'accuracy_score': 0.885, 'f1_score': 0.8842357752349495}\n",
      "\n",
      "\n",
      "Validation accuracy= 0.885===> No saving\n",
      "Epoch 4 / 40 \n",
      " Training loss: 0.12322891353716842 - Other training metrics: \n",
      "{'accuracy_score': 0.96109375, 'f1_score': 0.9610937414512615}\n",
      " \n",
      " Validation loss : 0.2568869927225751 - Other validation metrics:\n",
      "{'accuracy_score': 0.916875, 'f1_score': 0.9168149182749572}\n",
      "\n",
      "\n",
      "Validation accuracy= 0.916875===> Save best epoch\n"
     ]
    },
    {
     "name": "stderr",
     "output_type": "stream",
     "text": [
      " 12%|█▎        | 5/40 [22:05<2:33:33, 263.26s/it]"
     ]
    },
    {
     "name": "stdout",
     "output_type": "stream",
     "text": [
      "Epoch 5 / 40 \n",
      " Training loss: 0.07228985479174298 - Other training metrics: \n",
      "{'accuracy_score': 0.97828125, 'f1_score': 0.9782811858404172}\n",
      " \n",
      " Validation loss : 0.32542576661920974 - Other validation metrics:\n",
      "{'accuracy_score': 0.9075, 'f1_score': 0.9072908249237341}\n",
      "\n",
      "\n",
      "Validation accuracy= 0.9075===> No saving\n"
     ]
    },
    {
     "name": "stderr",
     "output_type": "stream",
     "text": [
      " 15%|█▌        | 6/40 [26:25<2:28:41, 262.40s/it]"
     ]
    },
    {
     "name": "stdout",
     "output_type": "stream",
     "text": [
      "Epoch 6 / 40 \n",
      " Training loss: 0.0709013905804386 - Other training metrics: \n",
      "{'accuracy_score': 0.97703125, 'f1_score': 0.9770311821477793}\n",
      " \n",
      " Validation loss : 0.3224267743537246 - Other validation metrics:\n",
      "{'accuracy_score': 0.908125, 'f1_score': 0.9080859006038116}\n",
      "\n",
      "\n",
      "Validation accuracy= 0.908125===> No saving\n",
      "Epoch 7 / 40 \n",
      " Training loss: 0.05118330272758612 - Other training metrics: \n",
      "{'accuracy_score': 0.98375, 'f1_score': 0.9837499222408388}\n",
      " \n",
      " Validation loss : 0.2844451323821477 - Other validation metrics:\n",
      "{'accuracy_score': 0.925625, 'f1_score': 0.9256214844529762}\n",
      "\n",
      "\n",
      "Validation accuracy= 0.925625===> Save best epoch\n"
     ]
    },
    {
     "name": "stderr",
     "output_type": "stream",
     "text": [
      " 20%|██        | 8/40 [35:11<2:19:55, 262.37s/it]"
     ]
    },
    {
     "name": "stdout",
     "output_type": "stream",
     "text": [
      "Epoch 8 / 40 \n",
      " Training loss: 0.03724058177405823 - Other training metrics: \n",
      "{'accuracy_score': 0.98859375, 'f1_score': 0.9885937029378856}\n",
      " \n",
      " Validation loss : 0.2784823097253509 - Other validation metrics:\n",
      "{'accuracy_score': 0.9225, 'f1_score': 0.9224980624515613}\n",
      "\n",
      "\n"
     ]
    },
    {
     "name": "stderr",
     "output_type": "stream",
     "text": [
      " 22%|██▎       | 9/40 [39:30<2:15:02, 261.38s/it]"
     ]
    },
    {
     "name": "stdout",
     "output_type": "stream",
     "text": [
      "Epoch 9 / 40 \n",
      " Training loss: 0.025139607247274397 - Other training metrics: \n",
      "{'accuracy_score': 0.99296875, 'f1_score': 0.9929687484550472}\n",
      " \n",
      " Validation loss : 0.2975679951408392 - Other validation metrics:\n",
      "{'accuracy_score': 0.9225, 'f1_score': 0.9224969725379898}\n",
      "\n",
      "\n"
     ]
    },
    {
     "name": "stderr",
     "output_type": "stream",
     "text": [
      " 25%|██▌       | 10/40 [43:49<2:10:22, 260.74s/it]"
     ]
    },
    {
     "name": "stdout",
     "output_type": "stream",
     "text": [
      "Epoch 10 / 40 \n",
      " Training loss: 0.04413914063552511 - Other training metrics: \n",
      "{'accuracy_score': 0.98703125, 'f1_score': 0.987031082505924}\n",
      " \n",
      " Validation loss : 0.35006408941158584 - Other validation metrics:\n",
      "{'accuracy_score': 0.9125, 'f1_score': 0.912499453121582}\n",
      "\n",
      "\n",
      "Validation accuracy= 0.9125===> No saving\n"
     ]
    },
    {
     "name": "stderr",
     "output_type": "stream",
     "text": [
      " 28%|██▊       | 11/40 [48:13<2:06:28, 261.67s/it]"
     ]
    },
    {
     "name": "stdout",
     "output_type": "stream",
     "text": [
      "Epoch 11 / 40 \n",
      " Training loss: 0.04472274019719407 - Other training metrics: \n",
      "{'accuracy_score': 0.9865625, 'f1_score': 0.9865624947509746}\n",
      " \n",
      " Validation loss : 0.37159158395060105 - Other validation metrics:\n",
      "{'accuracy_score': 0.885625, 'f1_score': 0.885622810749112}\n",
      "\n",
      "\n",
      "Validation accuracy= 0.885625===> No saving\n"
     ]
    },
    {
     "name": "stderr",
     "output_type": "stream",
     "text": [
      " 30%|███       | 12/40 [52:34<2:02:00, 261.45s/it]"
     ]
    },
    {
     "name": "stdout",
     "output_type": "stream",
     "text": [
      "Epoch 12 / 40 \n",
      " Training loss: 0.04424939254320634 - Other training metrics: \n",
      "{'accuracy_score': 0.98578125, 'f1_score': 0.9857812079962444}\n",
      " \n",
      " Validation loss : 0.34523713803854966 - Other validation metrics:\n",
      "{'accuracy_score': 0.919375, 'f1_score': 0.9193724488938908}\n",
      "\n",
      "\n",
      "Validation accuracy= 0.919375===> No saving\n"
     ]
    },
    {
     "name": "stderr",
     "output_type": "stream",
     "text": [
      " 32%|███▎      | 13/40 [56:55<1:57:31, 261.15s/it]"
     ]
    },
    {
     "name": "stdout",
     "output_type": "stream",
     "text": [
      "Epoch 13 / 40 \n",
      " Training loss: 0.02349628533492705 - Other training metrics: \n",
      "{'accuracy_score': 0.99328125, 'f1_score': 0.9932812367133831}\n",
      " \n",
      " Validation loss : 0.4160811769779747 - Other validation metrics:\n",
      "{'accuracy_score': 0.925, 'f1_score': 0.9249989452976681}\n",
      "\n",
      "\n"
     ]
    },
    {
     "name": "stderr",
     "output_type": "stream",
     "text": [
      " 35%|███▌      | 14/40 [1:01:14<1:52:54, 260.54s/it]"
     ]
    },
    {
     "name": "stdout",
     "output_type": "stream",
     "text": [
      "Epoch 14 / 40 \n",
      " Training loss: 0.039332438714586714 - Other training metrics: \n",
      "{'accuracy_score': 0.9865625, 'f1_score': 0.986562452758623}\n",
      " \n",
      " Validation loss : 0.34124076320633323 - Other validation metrics:\n",
      "{'accuracy_score': 0.898125, 'f1_score': 0.8976673411675888}\n",
      "\n",
      "\n"
     ]
    },
    {
     "name": "stderr",
     "output_type": "stream",
     "text": [
      " 38%|███▊      | 15/40 [1:05:38<1:49:03, 261.75s/it]"
     ]
    },
    {
     "name": "stdout",
     "output_type": "stream",
     "text": [
      "Epoch 15 / 40 \n",
      " Training loss: 0.029198147737231464 - Other training metrics: \n",
      "{'accuracy_score': 0.99171875, 'f1_score': 0.991718749797821}\n",
      " \n",
      " Validation loss : 0.8879829435674033 - Other validation metrics:\n",
      "{'accuracy_score': 0.913125, 'f1_score': 0.9129901006677932}\n",
      "\n",
      "\n"
     ]
    },
    {
     "name": "stderr",
     "output_type": "stream",
     "text": [
      " 40%|████      | 16/40 [1:10:03<1:45:06, 262.77s/it]"
     ]
    },
    {
     "name": "stdout",
     "output_type": "stream",
     "text": [
      "Epoch 16 / 40 \n",
      " Training loss: 0.02461497309969957 - Other training metrics: \n",
      "{'accuracy_score': 0.99171875, 'f1_score': 0.9917187481803891}\n",
      " \n",
      " Validation loss : 0.2833531116787731 - Other validation metrics:\n",
      "{'accuracy_score': 0.921875, 'f1_score': 0.9218615394292533}\n",
      "\n",
      "\n"
     ]
    },
    {
     "name": "stderr",
     "output_type": "stream",
     "text": [
      " 42%|████▎     | 17/40 [1:14:23<1:40:21, 261.80s/it]"
     ]
    },
    {
     "name": "stdout",
     "output_type": "stream",
     "text": [
      "Epoch 17 / 40 \n",
      " Training loss: 0.029770156613894868 - Other training metrics: \n",
      "{'accuracy_score': 0.9921875, 'f1_score': 0.9921875}\n",
      " \n",
      " Validation loss : 0.42585464844764104 - Other validation metrics:\n",
      "{'accuracy_score': 0.91125, 'f1_score': 0.9110275689223057}\n",
      "\n",
      "\n"
     ]
    },
    {
     "name": "stderr",
     "output_type": "stream",
     "text": [
      " 45%|████▌     | 18/40 [1:18:42<1:35:42, 261.03s/it]"
     ]
    },
    {
     "name": "stdout",
     "output_type": "stream",
     "text": [
      "Epoch 18 / 40 \n",
      " Training loss: 0.02599041010770634 - Other training metrics: \n",
      "{'accuracy_score': 0.99171875, 'f1_score': 0.991718749797821}\n",
      " \n",
      " Validation loss : 0.41705466816607306 - Other validation metrics:\n",
      "{'accuracy_score': 0.911875, 'f1_score': 0.9118650503904542}\n",
      "\n",
      "\n"
     ]
    },
    {
     "name": "stderr",
     "output_type": "stream",
     "text": [
      " 48%|████▊     | 19/40 [1:23:01<1:31:07, 260.34s/it]"
     ]
    },
    {
     "name": "stdout",
     "output_type": "stream",
     "text": [
      "Epoch 19 / 40 \n",
      " Training loss: 0.04289421084197784 - Other training metrics: \n",
      "{'accuracy_score': 0.9875, 'f1_score': 0.9874999804687195}\n",
      " \n",
      " Validation loss : 0.2928337589570947 - Other validation metrics:\n",
      "{'accuracy_score': 0.915, 'f1_score': 0.9149356701005136}\n",
      "\n",
      "\n",
      "Validation accuracy= 0.915===> No saving\n"
     ]
    },
    {
     "name": "stderr",
     "output_type": "stream",
     "text": [
      " 50%|█████     | 20/40 [1:27:25<1:27:08, 261.44s/it]"
     ]
    },
    {
     "name": "stdout",
     "output_type": "stream",
     "text": [
      "Epoch 20 / 40 \n",
      " Training loss: 0.047550831596654464 - Other training metrics: \n",
      "{'accuracy_score': 0.98328125, 'f1_score': 0.9832812495918273}\n",
      " \n",
      " Validation loss : 0.3143099286892834 - Other validation metrics:\n",
      "{'accuracy_score': 0.921875, 'f1_score': 0.9218527463484718}\n",
      "\n",
      "\n",
      "Validation accuracy= 0.921875===> No saving\n"
     ]
    },
    {
     "name": "stderr",
     "output_type": "stream",
     "text": [
      " 52%|█████▎    | 21/40 [1:31:47<1:22:48, 261.51s/it]"
     ]
    },
    {
     "name": "stdout",
     "output_type": "stream",
     "text": [
      "Epoch 21 / 40 \n",
      " Training loss: 0.041575575135225334 - Other training metrics: \n",
      "{'accuracy_score': 0.9859375, 'f1_score': 0.9859374876403699}\n",
      " \n",
      " Validation loss : 0.3572486563352629 - Other validation metrics:\n",
      "{'accuracy_score': 0.909375, 'f1_score': 0.9093721324776292}\n",
      "\n",
      "\n",
      "Validation accuracy= 0.909375===> No saving\n"
     ]
    },
    {
     "name": "stderr",
     "output_type": "stream",
     "text": [
      " 55%|█████▌    | 22/40 [1:36:06<1:18:17, 260.95s/it]"
     ]
    },
    {
     "name": "stdout",
     "output_type": "stream",
     "text": [
      "Epoch 22 / 40 \n",
      " Training loss: 0.017807552907361242 - Other training metrics: \n",
      "{'accuracy_score': 0.99453125, 'f1_score': 0.99453124879837}\n",
      " \n",
      " Validation loss : 0.5266239452223113 - Other validation metrics:\n",
      "{'accuracy_score': 0.863125, 'f1_score': 0.8615435132306157}\n",
      "\n",
      "\n"
     ]
    },
    {
     "name": "stderr",
     "output_type": "stream",
     "text": [
      " 57%|█████▊    | 23/40 [1:40:32<1:14:18, 262.26s/it]"
     ]
    },
    {
     "name": "stdout",
     "output_type": "stream",
     "text": [
      "Epoch 23 / 40 \n",
      " Training loss: 0.019805217757420904 - Other training metrics: \n",
      "{'accuracy_score': 0.99375, 'f1_score': 0.9937499847411737}\n",
      " \n",
      " Validation loss : 0.4102455006832153 - Other validation metrics:\n",
      "{'accuracy_score': 0.923125, 'f1_score': 0.9230130983355103}\n",
      "\n",
      "\n"
     ]
    },
    {
     "name": "stderr",
     "output_type": "stream",
     "text": [
      " 60%|██████    | 24/40 [1:44:51<1:09:42, 261.39s/it]"
     ]
    },
    {
     "name": "stdout",
     "output_type": "stream",
     "text": [
      "Epoch 24 / 40 \n",
      " Training loss: 0.004786956793332138 - Other training metrics: \n",
      "{'accuracy_score': 0.9990625, 'f1_score': 0.9990625}\n",
      " \n",
      " Validation loss : 0.3384790879482966 - Other validation metrics:\n",
      "{'accuracy_score': 0.89625, 'f1_score': 0.8961134866285227}\n",
      "\n",
      "\n"
     ]
    },
    {
     "name": "stderr",
     "output_type": "stream",
     "text": [
      " 62%|██████▎   | 25/40 [1:49:10<1:05:11, 260.77s/it]"
     ]
    },
    {
     "name": "stdout",
     "output_type": "stream",
     "text": [
      "Epoch 25 / 40 \n",
      " Training loss: 0.022771497680405445 - Other training metrics: \n",
      "{'accuracy_score': 0.99203125, 'f1_score': 0.9920312498054504}\n",
      " \n",
      " Validation loss : 0.6218663074959452 - Other validation metrics:\n",
      "{'accuracy_score': 0.869375, 'f1_score': 0.8680050887511837}\n",
      "\n",
      "\n"
     ]
    },
    {
     "name": "stderr",
     "output_type": "stream",
     "text": [
      " 65%|██████▌   | 26/40 [1:53:30<1:00:47, 260.50s/it]"
     ]
    },
    {
     "name": "stdout",
     "output_type": "stream",
     "text": [
      "Epoch 26 / 40 \n",
      " Training loss: 0.04225303075031661 - Other training metrics: \n",
      "{'accuracy_score': 0.9853125, 'f1_score': 0.9853124942626931}\n",
      " \n",
      " Validation loss : 0.3255076761939404 - Other validation metrics:\n",
      "{'accuracy_score': 0.886875, 'f1_score': 0.886639023185373}\n",
      "\n",
      "\n",
      "Validation accuracy= 0.886875===> No saving\n"
     ]
    },
    {
     "name": "stderr",
     "output_type": "stream",
     "text": [
      " 68%|██████▊   | 27/40 [1:57:56<56:48, 262.21s/it]  "
     ]
    },
    {
     "name": "stdout",
     "output_type": "stream",
     "text": [
      "Epoch 27 / 40 \n",
      " Training loss: 0.06746057928856317 - Other training metrics: \n",
      "{'accuracy_score': 0.98015625, 'f1_score': 0.9801562378883288}\n",
      " \n",
      " Validation loss : 0.36098006139271205 - Other validation metrics:\n",
      "{'accuracy_score': 0.918125, 'f1_score': 0.9181249680175656}\n",
      "\n",
      "\n",
      "Validation accuracy= 0.918125===> No saving\n"
     ]
    },
    {
     "name": "stderr",
     "output_type": "stream",
     "text": [
      " 70%|███████   | 28/40 [2:02:23<52:42, 263.51s/it]"
     ]
    },
    {
     "name": "stdout",
     "output_type": "stream",
     "text": [
      "Epoch 28 / 40 \n",
      " Training loss: 0.03099563924160975 - Other training metrics: \n",
      "{'accuracy_score': 0.98875, 'f1_score': 0.9887499725341127}\n",
      " \n",
      " Validation loss : 0.36217510916407036 - Other validation metrics:\n",
      "{'accuracy_score': 0.91625, 'f1_score': 0.916247906197655}\n",
      "\n",
      "\n"
     ]
    },
    {
     "name": "stderr",
     "output_type": "stream",
     "text": [
      " 72%|███████▎  | 29/40 [2:06:49<48:26, 264.22s/it]"
     ]
    },
    {
     "name": "stdout",
     "output_type": "stream",
     "text": [
      "Epoch 29 / 40 \n",
      " Training loss: 0.012397835993378976 - Other training metrics: \n",
      "{'accuracy_score': 0.99578125, 'f1_score': 0.9957812449531495}\n",
      " \n",
      " Validation loss : 0.4506466875205166 - Other validation metrics:\n",
      "{'accuracy_score': 0.909375, 'f1_score': 0.9093154528422764}\n",
      "\n",
      "\n"
     ]
    },
    {
     "name": "stderr",
     "output_type": "stream",
     "text": [
      " 75%|███████▌  | 30/40 [2:11:15<44:07, 264.77s/it]"
     ]
    },
    {
     "name": "stdout",
     "output_type": "stream",
     "text": [
      "Epoch 30 / 40 \n",
      " Training loss: 0.018037691648141844 - Other training metrics: \n",
      "{'accuracy_score': 0.995625, 'f1_score': 0.995624999572754}\n",
      " \n",
      " Validation loss : 0.395829092197194 - Other validation metrics:\n",
      "{'accuracy_score': 0.919375, 'f1_score': 0.9193611086909893}\n",
      "\n",
      "\n"
     ]
    },
    {
     "name": "stderr",
     "output_type": "stream",
     "text": [
      " 78%|███████▊  | 31/40 [2:15:41<39:46, 265.14s/it]"
     ]
    },
    {
     "name": "stdout",
     "output_type": "stream",
     "text": [
      "Epoch 31 / 40 \n",
      " Training loss: 0.015010625746708684 - Other training metrics: \n",
      "{'accuracy_score': 0.99515625, 'f1_score': 0.9951562498817444}\n",
      " \n",
      " Validation loss : 0.3024251938547837 - Other validation metrics:\n",
      "{'accuracy_score': 0.92125, 'f1_score': 0.9212455700633161}\n",
      "\n",
      "\n"
     ]
    },
    {
     "name": "stderr",
     "output_type": "stream",
     "text": [
      " 80%|████████  | 32/40 [2:20:07<35:24, 265.54s/it]"
     ]
    },
    {
     "name": "stdout",
     "output_type": "stream",
     "text": [
      "Epoch 32 / 40 \n",
      " Training loss: 0.05625095913119367 - Other training metrics: \n",
      "{'accuracy_score': 0.98265625, 'f1_score': 0.982656127627463}\n",
      " \n",
      " Validation loss : 0.2934901531622234 - Other validation metrics:\n",
      "{'accuracy_score': 0.900625, 'f1_score': 0.9006044608436665}\n",
      "\n",
      "\n",
      "Validation accuracy= 0.900625===> No saving\n"
     ]
    },
    {
     "name": "stderr",
     "output_type": "stream",
     "text": [
      " 82%|████████▎ | 33/40 [2:24:33<30:59, 265.60s/it]"
     ]
    },
    {
     "name": "stdout",
     "output_type": "stream",
     "text": [
      "Epoch 33 / 40 \n",
      " Training loss: 0.03539266545425562 - Other training metrics: \n",
      "{'accuracy_score': 0.989375, 'f1_score': 0.9893749833984116}\n",
      " \n",
      " Validation loss : 0.4052948659127503 - Other validation metrics:\n",
      "{'accuracy_score': 0.883125, 'f1_score': 0.8830482047000393}\n",
      "\n",
      "\n"
     ]
    },
    {
     "name": "stderr",
     "output_type": "stream",
     "text": [
      " 85%|████████▌ | 34/40 [2:29:00<26:35, 265.99s/it]"
     ]
    },
    {
     "name": "stdout",
     "output_type": "stream",
     "text": [
      "Epoch 34 / 40 \n",
      " Training loss: 0.028609429273747083 - Other training metrics: \n",
      "{'accuracy_score': 0.9896875, 'f1_score': 0.98968745065284}\n",
      " \n",
      " Validation loss : 0.40165124950581005 - Other validation metrics:\n",
      "{'accuracy_score': 0.90625, 'f1_score': 0.9062406240624064}\n",
      "\n",
      "\n"
     ]
    },
    {
     "name": "stderr",
     "output_type": "stream",
     "text": [
      " 88%|████████▊ | 35/40 [2:33:27<22:11, 266.31s/it]"
     ]
    },
    {
     "name": "stdout",
     "output_type": "stream",
     "text": [
      "Epoch 35 / 40 \n",
      " Training loss: 0.0120326659995726 - Other training metrics: \n",
      "{'accuracy_score': 0.99609375, 'f1_score': 0.9960937453269902}\n",
      " \n",
      " Validation loss : 0.5010338014688394 - Other validation metrics:\n",
      "{'accuracy_score': 0.915, 'f1_score': 0.9149413893010652}\n",
      "\n",
      "\n"
     ]
    },
    {
     "name": "stderr",
     "output_type": "stream",
     "text": [
      " 90%|█████████ | 36/40 [2:37:54<17:46, 266.53s/it]"
     ]
    },
    {
     "name": "stdout",
     "output_type": "stream",
     "text": [
      "Epoch 36 / 40 \n",
      " Training loss: 0.008567094241423092 - Other training metrics: \n",
      "{'accuracy_score': 0.99703125, 'f1_score': 0.9970312493476867}\n",
      " \n",
      " Validation loss : 0.4357625829705818 - Other validation metrics:\n",
      "{'accuracy_score': 0.896875, 'f1_score': 0.8963941636948667}\n",
      "\n",
      "\n"
     ]
    },
    {
     "name": "stderr",
     "output_type": "stream",
     "text": [
      " 92%|█████████▎| 37/40 [2:42:22<13:20, 266.87s/it]"
     ]
    },
    {
     "name": "stdout",
     "output_type": "stream",
     "text": [
      "Epoch 37 / 40 \n",
      " Training loss: 0.020935392579258406 - Other training metrics: \n",
      "{'accuracy_score': 0.99296875, 'f1_score': 0.9929687360954009}\n",
      " \n",
      " Validation loss : 0.5298761984550805 - Other validation metrics:\n",
      "{'accuracy_score': 0.91875, 'f1_score': 0.9187479686992175}\n",
      "\n",
      "\n"
     ]
    },
    {
     "name": "stderr",
     "output_type": "stream",
     "text": [
      " 95%|█████████▌| 38/40 [2:46:49<08:53, 266.87s/it]"
     ]
    },
    {
     "name": "stdout",
     "output_type": "stream",
     "text": [
      "Epoch 38 / 40 \n",
      " Training loss: 0.027420890241751296 - Other training metrics: \n",
      "{'accuracy_score': 0.9921875, 'f1_score': 0.992187496948241}\n",
      " \n",
      " Validation loss : 0.518307676948337 - Other validation metrics:\n",
      "{'accuracy_score': 0.91, 'f1_score': 0.9099886079331916}\n",
      "\n",
      "\n"
     ]
    },
    {
     "name": "stderr",
     "output_type": "stream",
     "text": [
      " 98%|█████████▊| 39/40 [2:51:16<04:27, 267.18s/it]"
     ]
    },
    {
     "name": "stdout",
     "output_type": "stream",
     "text": [
      "Epoch 39 / 40 \n",
      " Training loss: 0.02965845204207653 - Other training metrics: \n",
      "{'accuracy_score': 0.99, 'f1_score': 0.9899999960937484}\n",
      " \n",
      " Validation loss : 0.45188116044058235 - Other validation metrics:\n",
      "{'accuracy_score': 0.914375, 'f1_score': 0.9143653326488811}\n",
      "\n",
      "\n"
     ]
    },
    {
     "name": "stderr",
     "output_type": "stream",
     "text": [
      "100%|██████████| 40/40 [2:55:44<00:00, 263.61s/it]"
     ]
    },
    {
     "name": "stdout",
     "output_type": "stream",
     "text": [
      "Epoch 40 / 40 \n",
      " Training loss: 0.011656842485990637 - Other training metrics: \n",
      "{'accuracy_score': 0.99640625, 'f1_score': 0.9964062492103576}\n",
      " \n",
      " Validation loss : 0.45472307581320254 - Other validation metrics:\n",
      "{'accuracy_score': 0.910625, 'f1_score': 0.9105604008520216}\n",
      "\n",
      "\n"
     ]
    },
    {
     "name": "stderr",
     "output_type": "stream",
     "text": [
      "\n"
     ]
    }
   ],
   "source": [
    "for param in model.parameters():\n",
    "    param.requires_grad = True\n",
    "optimizer = torch.optim.Adam(model.parameters(), lr=0.0001, betas=(0.9, 0.999), eps=1e-08, weight_decay=0)\n",
    "\n",
    "model = model.to(device)\n",
    "num_epoch = config.num_epochs\n",
    "best_val_acc = 0.0\n",
    "import logging\n",
    "import numpy as np\n",
    "print(\"begin training process\")\n",
    "for i in tqdm(range(0, num_epoch)):\n",
    "    loss, val_loss, train_result, val_result = train_one_epoch(\n",
    "        model,\n",
    "        train_loader,\n",
    "        val_loader,\n",
    "        device,\n",
    "        optimizer,\n",
    "        criterion,\n",
    "        train_metrics,\n",
    "        val_metrics,\n",
    "    )\n",
    "\n",
    "    scheduler.step(val_loss)\n",
    "    print(\n",
    "        \"Epoch {} / {} \\n Training loss: {} - Other training metrics: \".format(\n",
    "            i + 1, num_epoch, loss\n",
    "        )\n",
    "    )\n",
    "    print(train_result)\n",
    "    print(\n",
    "        \" \\n Validation loss : {} - Other validation metrics:\".format(val_loss)\n",
    "    )\n",
    "    print(val_result)\n",
    "    print(\"\\n\")\n",
    "    # saving epoch with best validation accuracy\n",
    "    if (loss<0.04):\n",
    "        # no saving\n",
    "        continue\n",
    "    if best_val_acc < float(val_result[\"accuracy_score\"]):\n",
    "        print(\n",
    "            \"Validation accuracy= \"+\n",
    "            str(val_result[\"accuracy_score\"])+\n",
    "            \"===> Save best epoch\"\n",
    "        )\n",
    "        best_val_acc = val_result[\"accuracy_score\"]\n",
    "        torch.save(\n",
    "            model,\n",
    "            \"./\" +  \"best.pt\"\n",
    "        )\n",
    "    else:\n",
    "        print(\n",
    "            \"Validation accuracy= \"+ str(val_result[\"accuracy_score\"])+ \"===> No saving\"\n",
    "        )\n",
    "        continue"
   ]
  },
  {
   "cell_type": "code",
   "execution_count": 33,
   "id": "82be7bca",
   "metadata": {
    "execution": {
     "iopub.execute_input": "2024-06-21T07:23:18.005703Z",
     "iopub.status.busy": "2024-06-21T07:23:18.005012Z",
     "iopub.status.idle": "2024-06-21T07:23:30.896947Z",
     "shell.execute_reply": "2024-06-21T07:23:30.895957Z"
    },
    "papermill": {
     "duration": 12.960891,
     "end_time": "2024-06-21T07:23:30.899212",
     "exception": false,
     "start_time": "2024-06-21T07:23:17.938321",
     "status": "completed"
    },
    "tags": []
   },
   "outputs": [
    {
     "name": "stdout",
     "output_type": "stream",
     "text": [
      "Collecting lion-pytorch\r\n",
      "  Downloading lion_pytorch-0.2.2-py3-none-any.whl.metadata (618 bytes)\r\n",
      "Requirement already satisfied: torch>=1.6 in /opt/conda/lib/python3.10/site-packages (from lion-pytorch) (2.1.2)\r\n",
      "Requirement already satisfied: filelock in /opt/conda/lib/python3.10/site-packages (from torch>=1.6->lion-pytorch) (3.13.1)\r\n",
      "Requirement already satisfied: typing-extensions in /opt/conda/lib/python3.10/site-packages (from torch>=1.6->lion-pytorch) (4.9.0)\r\n",
      "Requirement already satisfied: sympy in /opt/conda/lib/python3.10/site-packages (from torch>=1.6->lion-pytorch) (1.12.1)\r\n",
      "Requirement already satisfied: networkx in /opt/conda/lib/python3.10/site-packages (from torch>=1.6->lion-pytorch) (3.2.1)\r\n",
      "Requirement already satisfied: jinja2 in /opt/conda/lib/python3.10/site-packages (from torch>=1.6->lion-pytorch) (3.1.2)\r\n",
      "Requirement already satisfied: fsspec in /opt/conda/lib/python3.10/site-packages (from torch>=1.6->lion-pytorch) (2024.3.1)\r\n",
      "Requirement already satisfied: MarkupSafe>=2.0 in /opt/conda/lib/python3.10/site-packages (from jinja2->torch>=1.6->lion-pytorch) (2.1.3)\r\n",
      "Requirement already satisfied: mpmath<1.4.0,>=1.1.0 in /opt/conda/lib/python3.10/site-packages (from sympy->torch>=1.6->lion-pytorch) (1.3.0)\r\n",
      "Downloading lion_pytorch-0.2.2-py3-none-any.whl (5.4 kB)\r\n",
      "Installing collected packages: lion-pytorch\r\n",
      "Successfully installed lion-pytorch-0.2.2\r\n"
     ]
    }
   ],
   "source": [
    "!pip install lion-pytorch\n",
    "from lion_pytorch import Lion\n",
    "optimizer = Lion(model.parameters(), lr=1e-4, weight_decay=1e-2)"
   ]
  },
  {
   "cell_type": "code",
   "execution_count": 34,
   "id": "115135d1",
   "metadata": {
    "execution": {
     "iopub.execute_input": "2024-06-21T07:23:31.033010Z",
     "iopub.status.busy": "2024-06-21T07:23:31.032525Z",
     "iopub.status.idle": "2024-06-21T07:23:31.335066Z",
     "shell.execute_reply": "2024-06-21T07:23:31.334201Z"
    },
    "papermill": {
     "duration": 0.371742,
     "end_time": "2024-06-21T07:23:31.337520",
     "exception": false,
     "start_time": "2024-06-21T07:23:30.965778",
     "status": "completed"
    },
    "tags": []
   },
   "outputs": [],
   "source": [
    "import copy\n",
    "val_model = torch.load(\"/kaggle/working/best.pt\")\n",
    "val_model = val_model.to(device)"
   ]
  },
  {
   "cell_type": "code",
   "execution_count": 35,
   "id": "ae92496b",
   "metadata": {
    "execution": {
     "iopub.execute_input": "2024-06-21T07:23:31.470116Z",
     "iopub.status.busy": "2024-06-21T07:23:31.469447Z",
     "iopub.status.idle": "2024-06-21T07:23:31.476958Z",
     "shell.execute_reply": "2024-06-21T07:23:31.476067Z"
    },
    "papermill": {
     "duration": 0.076677,
     "end_time": "2024-06-21T07:23:31.479003",
     "exception": false,
     "start_time": "2024-06-21T07:23:31.402326",
     "status": "completed"
    },
    "tags": []
   },
   "outputs": [],
   "source": [
    "def val_result(model, val_loader, device):\n",
    "    # testing the model by turning model \"Eval\" mode\n",
    "    model.eval()\n",
    "    preds = []\n",
    "    labels = []\n",
    "    with torch.no_grad():\n",
    "        for data, target in val_loader:\n",
    "            # move-tensors-to-GPU\n",
    "            data = data.to(device)\n",
    "            target = target.to(device)\n",
    "            # forward-pass: compute-predicted-outputs-by-passing-inputs-to-the-model\n",
    "            output = model(data)\n",
    "            # applying Softmax to results\n",
    "            prob = nn.Softmax(dim=1)\n",
    "            probs = prob(output)\n",
    "            labels.extend(target.tolist())\n",
    "            preds.extend(torch.argmax(probs, axis=1).tolist())\n",
    "    return preds, labels"
   ]
  },
  {
   "cell_type": "code",
   "execution_count": 36,
   "id": "10e8fc69",
   "metadata": {
    "execution": {
     "iopub.execute_input": "2024-06-21T07:23:31.611614Z",
     "iopub.status.busy": "2024-06-21T07:23:31.611268Z",
     "iopub.status.idle": "2024-06-21T07:24:18.676965Z",
     "shell.execute_reply": "2024-06-21T07:24:18.675940Z"
    },
    "papermill": {
     "duration": 47.134883,
     "end_time": "2024-06-21T07:24:18.679467",
     "exception": false,
     "start_time": "2024-06-21T07:23:31.544584",
     "status": "completed"
    },
    "tags": []
   },
   "outputs": [],
   "source": [
    "preds, grd_truth = val_result(val_model, val_loader, device)"
   ]
  },
  {
   "cell_type": "code",
   "execution_count": 37,
   "id": "e7a096ae",
   "metadata": {
    "execution": {
     "iopub.execute_input": "2024-06-21T07:24:18.811784Z",
     "iopub.status.busy": "2024-06-21T07:24:18.811407Z",
     "iopub.status.idle": "2024-06-21T07:24:18.815968Z",
     "shell.execute_reply": "2024-06-21T07:24:18.815084Z"
    },
    "papermill": {
     "duration": 0.072089,
     "end_time": "2024-06-21T07:24:18.817847",
     "exception": false,
     "start_time": "2024-06-21T07:24:18.745758",
     "status": "completed"
    },
    "tags": []
   },
   "outputs": [],
   "source": [
    "from sklearn.metrics import classification_report\n",
    "from sklearn.metrics import confusion_matrix, ConfusionMatrixDisplay"
   ]
  },
  {
   "cell_type": "code",
   "execution_count": 38,
   "id": "6c80b134",
   "metadata": {
    "execution": {
     "iopub.execute_input": "2024-06-21T07:24:18.947136Z",
     "iopub.status.busy": "2024-06-21T07:24:18.946749Z",
     "iopub.status.idle": "2024-06-21T07:24:18.961532Z",
     "shell.execute_reply": "2024-06-21T07:24:18.960567Z"
    },
    "papermill": {
     "duration": 0.080897,
     "end_time": "2024-06-21T07:24:18.963381",
     "exception": false,
     "start_time": "2024-06-21T07:24:18.882484",
     "status": "completed"
    },
    "tags": []
   },
   "outputs": [
    {
     "name": "stdout",
     "output_type": "stream",
     "text": [
      "              precision    recall  f1-score   support\n",
      "\n",
      "           0   0.919852  0.932500  0.926133       800\n",
      "           1   0.931559  0.918750  0.925110       800\n",
      "\n",
      "    accuracy                       0.925625      1600\n",
      "   macro avg   0.925705  0.925625  0.925621      1600\n",
      "weighted avg   0.925705  0.925625  0.925621      1600\n",
      "\n"
     ]
    }
   ],
   "source": [
    "report = classification_report(grd_truth, preds, digits=6)\n",
    "print(report)"
   ]
  },
  {
   "cell_type": "code",
   "execution_count": 39,
   "id": "2cac2e1c",
   "metadata": {
    "execution": {
     "iopub.execute_input": "2024-06-21T07:24:19.098906Z",
     "iopub.status.busy": "2024-06-21T07:24:19.098529Z",
     "iopub.status.idle": "2024-06-21T07:24:19.392858Z",
     "shell.execute_reply": "2024-06-21T07:24:19.391942Z"
    },
    "papermill": {
     "duration": 0.362476,
     "end_time": "2024-06-21T07:24:19.394860",
     "exception": false,
     "start_time": "2024-06-21T07:24:19.032384",
     "status": "completed"
    },
    "tags": []
   },
   "outputs": [
    {
     "data": {
      "text/plain": [
       "<sklearn.metrics._plot.confusion_matrix.ConfusionMatrixDisplay at 0x7bf162a9a290>"
      ]
     },
     "execution_count": 39,
     "metadata": {},
     "output_type": "execute_result"
    },
    {
     "data": {
      "image/png": "[encoded data removed]",
      "text/plain": [
       "<Figure size 640x480 with 2 Axes>"
      ]
     },
     "metadata": {},
     "output_type": "display_data"
    }
   ],
   "source": [
    "cm = confusion_matrix(grd_truth, preds)\n",
    "disp = ConfusionMatrixDisplay(confusion_matrix=cm)\n",
    "disp.plot()"
   ]
  },
  {
   "cell_type": "code",
   "execution_count": 40,
   "id": "34f17a19",
   "metadata": {
    "execution": {
     "iopub.execute_input": "2024-06-21T07:24:19.526913Z",
     "iopub.status.busy": "2024-06-21T07:24:19.526595Z",
     "iopub.status.idle": "2024-06-21T07:24:19.845376Z",
     "shell.execute_reply": "2024-06-21T07:24:19.844327Z"
    },
    "papermill": {
     "duration": 0.387507,
     "end_time": "2024-06-21T07:24:19.847741",
     "exception": false,
     "start_time": "2024-06-21T07:24:19.460234",
     "status": "completed"
    },
    "tags": []
   },
   "outputs": [],
   "source": [
    "import copy\n",
    "test_model = torch.load(\"/kaggle/working/best.pt\")\n",
    "test_model = test_model.to(device)"
   ]
  },
  {
   "cell_type": "code",
   "execution_count": 41,
   "id": "660fe248",
   "metadata": {
    "execution": {
     "iopub.execute_input": "2024-06-21T07:24:19.981240Z",
     "iopub.status.busy": "2024-06-21T07:24:19.980879Z",
     "iopub.status.idle": "2024-06-21T07:24:19.988183Z",
     "shell.execute_reply": "2024-06-21T07:24:19.987343Z"
    },
    "papermill": {
     "duration": 0.076699,
     "end_time": "2024-06-21T07:24:19.990137",
     "exception": false,
     "start_time": "2024-06-21T07:24:19.913438",
     "status": "completed"
    },
    "tags": []
   },
   "outputs": [],
   "source": [
    "def test_result(model, test_loader, device,name='no_tta_prob.npy'):\n",
    "    # testing the model by turning model \"Eval\" mode\n",
    "    model.eval()\n",
    "    preds = []\n",
    "    aprobs = []\n",
    "    with torch.no_grad():\n",
    "        for data in test_loader:\n",
    "            # move-tensors-to-GPU\n",
    "            data = data.to(device)\n",
    "            # forward-pass: compute-predicted-outputs-by-passing-inputs-to-the-model\n",
    "            output = model(data)\n",
    "            prob = nn.Softmax(dim=1)\n",
    "            # applying Softmax to results\n",
    "            probs = prob(output)\n",
    "            #aprobs.append(probs.cpu())\n",
    "            aprobs.append(probs.detach().cpu().numpy())\n",
    "            preds.extend(torch.argmax(probs, axis=1).tolist())\n",
    "#             binary_predictions = (probs[:, 1] >= threshold).int()\n",
    "#             preds.extend(binary_predictions.tolist())\n",
    "    aprobs = np.array(aprobs)\n",
    "    np.save(name,aprobs)\n",
    "    return preds"
   ]
  }
 ],
 "metadata": {
  "kaggle": {
   "accelerator": "gpu",
   "dataSources": [
    {
     "datasetId": 4154884,
     "sourceId": 7802508,
     "sourceType": "datasetVersion"
    }
   ],
   "dockerImageVersionId": 30733,
   "isGpuEnabled": true,
   "isInternetEnabled": true,
   "language": "python",
   "sourceType": "notebook"
  },
  "kernelspec": {
   "display_name": "Python 3",
   "language": "python",
   "name": "python3"
  },
  "language_info": {
   "codemirror_mode": {
    "name": "ipython",
    "version": 3
   },
   "file_extension": ".py",
   "mimetype": "text/x-python",
   "name": "python",
   "nbconvert_exporter": "python",
   "pygments_lexer": "ipython3",
   "version": "3.10.13"
  },
  "papermill": {
   "default_parameters": {},
   "duration": 10745.891278,
   "end_time": "2024-06-21T07:24:22.990551",
   "environment_variables": {},
   "exception": null,
   "input_path": "__notebook__.ipynb",
   "output_path": "__notebook__.ipynb",
   "parameters": {},
   "start_time": "2024-06-21T04:25:17.099273",
   "version": "2.4.0"
  },
  "widgets": {
   "application/vnd.jupyter.widget-state+json": {
    "state": {
     "27ffcfe6b1a549e1947040aa2a5d4b17": {
      "model_module": "@jupyter-widgets/base",
      "model_module_version": "1.2.0",
      "model_name": "LayoutModel",
      "state": {
       "_model_module": "@jupyter-widgets/base",
       "_model_module_version": "1.2.0",
       "_model_name": "LayoutModel",
       "_view_count": null,
       "_view_module": "@jupyter-widgets/base",
       "_view_module_version": "1.2.0",
       "_view_name": "LayoutView",
       "align_content": null,
       "align_items": null,
       "align_self": null,
       "border": null,
       "bottom": null,
       "display": null,
       "flex": null,
       "flex_flow": null,
       "grid_area": null,
       "grid_auto_columns": null,
       "grid_auto_flow": null,
       "grid_auto_rows": null,
       "grid_column": null,
       "grid_gap": null,
       "grid_row": null,
       "grid_template_areas": null,
       "grid_template_columns": null,
       "grid_template_rows": null,
       "height": null,
       "justify_content": null,
       "justify_items": null,
       "left": null,
       "margin": null,
       "max_height": null,
       "max_width": null,
       "min_height": null,
       "min_width": null,
       "object_fit": null,
       "object_position": null,
       "order": null,
       "overflow": null,
       "overflow_x": null,
       "overflow_y": null,
       "padding": null,
       "right": null,
       "top": null,
       "visibility": null,
       "width": null
      }
     },
     "3164eb0dec104ff0acc539e1392f2f3a": {
      "model_module": "@jupyter-widgets/base",
      "model_module_version": "1.2.0",
      "model_name": "LayoutModel",
      "state": {
       "_model_module": "@jupyter-widgets/base",
       "_model_module_version": "1.2.0",
       "_model_name": "LayoutModel",
       "_view_count": null,
       "_view_module": "@jupyter-widgets/base",
       "_view_module_version": "1.2.0",
       "_view_name": "LayoutView",
       "align_content": null,
       "align_items": null,
       "align_self": null,
       "border": null,
       "bottom": null,
       "display": null,
       "flex": null,
       "flex_flow": null,
       "grid_area": null,
       "grid_auto_columns": null,
       "grid_auto_flow": null,
       "grid_auto_rows": null,
       "grid_column": null,
       "grid_gap": null,
       "grid_row": null,
       "grid_template_areas": null,
       "grid_template_columns": null,
       "grid_template_rows": null,
       "height": null,
       "justify_content": null,
       "justify_items": null,
       "left": null,
       "margin": null,
       "max_height": null,
       "max_width": null,
       "min_height": null,
       "min_width": null,
       "object_fit": null,
       "object_position": null,
       "order": null,
       "overflow": null,
       "overflow_x": null,
       "overflow_y": null,
       "padding": null,
       "right": null,
       "top": null,
       "visibility": null,
       "width": null
      }
     },
     "33b8aee3bb4f489088f4fe3a942b2a5d": {
      "model_module": "@jupyter-widgets/controls",
      "model_module_version": "1.5.0",
      "model_name": "HTMLModel",
      "state": {
       "_dom_classes": [],
       "_model_module": "@jupyter-widgets/controls",
       "_model_module_version": "1.5.0",
       "_model_name": "HTMLModel",
       "_view_count": null,
       "_view_module": "@jupyter-widgets/controls",
       "_view_module_version": "1.5.0",
       "_view_name": "HTMLView",
       "description": "",
       "description_tooltip": null,
       "layout": "IPY_MODEL_3164eb0dec104ff0acc539e1392f2f3a",
       "placeholder": "​",
       "style": "IPY_MODEL_9be780d3908f4bddaebcb13253c31c2d",
       "value": "model.safetensors: 100%"
      }
     },
     "4e70e3e6aac74ef5b6a2e1a56fa652d7": {
      "model_module": "@jupyter-widgets/base",
      "model_module_version": "1.2.0",
      "model_name": "LayoutModel",
      "state": {
       "_model_module": "@jupyter-widgets/base",
       "_model_module_version": "1.2.0",
       "_model_name": "LayoutModel",
       "_view_count": null,
       "_view_module": "@jupyter-widgets/base",
       "_view_module_version": "1.2.0",
       "_view_name": "LayoutView",
       "align_content": null,
       "align_items": null,
       "align_self": null,
       "border": null,
       "bottom": null,
       "display": null,
       "flex": null,
       "flex_flow": null,
       "grid_area": null,
       "grid_auto_columns": null,
       "grid_auto_flow": null,
       "grid_auto_rows": null,
       "grid_column": null,
       "grid_gap": null,
       "grid_row": null,
       "grid_template_areas": null,
       "grid_template_columns": null,
       "grid_template_rows": null,
       "height": null,
       "justify_content": null,
       "justify_items": null,
       "left": null,
       "margin": null,
       "max_height": null,
       "max_width": null,
       "min_height": null,
       "min_width": null,
       "object_fit": null,
       "object_position": null,
       "order": null,
       "overflow": null,
       "overflow_x": null,
       "overflow_y": null,
       "padding": null,
       "right": null,
       "top": null,
       "visibility": null,
       "width": null
      }
     },
     "60410bc4be5b4e9ca9ed4e60958c5708": {
      "model_module": "@jupyter-widgets/controls",
      "model_module_version": "1.5.0",
      "model_name": "HTMLModel",
      "state": {
       "_dom_classes": [],
       "_model_module": "@jupyter-widgets/controls",
       "_model_module_version": "1.5.0",
       "_model_name": "HTMLModel",
       "_view_count": null,
       "_view_module": "@jupyter-widgets/controls",
       "_view_module_version": "1.5.0",
       "_view_name": "HTMLView",
       "description": "",
       "description_tooltip": null,
       "layout": "IPY_MODEL_4e70e3e6aac74ef5b6a2e1a56fa652d7",
       "placeholder": "​",
       "style": "IPY_MODEL_647b171a75bb4ebbaa899b69e802a095",
       "value": " 353M/353M [00:01&lt;00:00, 382MB/s]"
      }
     },
     "617dd57b2008404b883965ac652d6439": {
      "model_module": "@jupyter-widgets/controls",
      "model_module_version": "1.5.0",
      "model_name": "FloatProgressModel",
      "state": {
       "_dom_classes": [],
       "_model_module": "@jupyter-widgets/controls",
       "_model_module_version": "1.5.0",
       "_model_name": "FloatProgressModel",
       "_view_count": null,
       "_view_module": "@jupyter-widgets/controls",
       "_view_module_version": "1.5.0",
       "_view_name": "ProgressView",
       "bar_style": "success",
       "description": "",
       "description_tooltip": null,
       "layout": "IPY_MODEL_27ffcfe6b1a549e1947040aa2a5d4b17",
       "max": 352685652.0,
       "min": 0.0,
       "orientation": "horizontal",
       "style": "IPY_MODEL_a59e7a9efe44445c83830021a5cee1d3",
       "value": 352685652.0
      }
     },
     "647b171a75bb4ebbaa899b69e802a095": {
      "model_module": "@jupyter-widgets/controls",
      "model_module_version": "1.5.0",
      "model_name": "DescriptionStyleModel",
      "state": {
       "_model_module": "@jupyter-widgets/controls",
       "_model_module_version": "1.5.0",
       "_model_name": "DescriptionStyleModel",
       "_view_count": null,
       "_view_module": "@jupyter-widgets/base",
       "_view_module_version": "1.2.0",
       "_view_name": "StyleView",
       "description_width": ""
      }
     },
     "6d5e86bb2a91455c87e30f673d077ed5": {
      "model_module": "@jupyter-widgets/controls",
      "model_module_version": "1.5.0",
      "model_name": "HBoxModel",
      "state": {
       "_dom_classes": [],
       "_model_module": "@jupyter-widgets/controls",
       "_model_module_version": "1.5.0",
       "_model_name": "HBoxModel",
       "_view_count": null,
       "_view_module": "@jupyter-widgets/controls",
       "_view_module_version": "1.5.0",
       "_view_name": "HBoxView",
       "box_style": "",
       "children": [
        "IPY_MODEL_33b8aee3bb4f489088f4fe3a942b2a5d",
        "IPY_MODEL_617dd57b2008404b883965ac652d6439",
        "IPY_MODEL_60410bc4be5b4e9ca9ed4e60958c5708"
       ],
       "layout": "IPY_MODEL_7108338452074fc8bd2b584a25b5c714"
      }
     },
     "7108338452074fc8bd2b584a25b5c714": {
      "model_module": "@jupyter-widgets/base",
      "model_module_version": "1.2.0",
      "model_name": "LayoutModel",
      "state": {
       "_model_module": "@jupyter-widgets/base",
       "_model_module_version": "1.2.0",
       "_model_name": "LayoutModel",
       "_view_count": null,
       "_view_module": "@jupyter-widgets/base",
       "_view_module_version": "1.2.0",
       "_view_name": "LayoutView",
       "align_content": null,
       "align_items": null,
       "align_self": null,
       "border": null,
       "bottom": null,
       "display": null,
       "flex": null,
       "flex_flow": null,
       "grid_area": null,
       "grid_auto_columns": null,
       "grid_auto_flow": null,
       "grid_auto_rows": null,
       "grid_column": null,
       "grid_gap": null,
       "grid_row": null,
       "grid_template_areas": null,
       "grid_template_columns": null,
       "grid_template_rows": null,
       "height": null,
       "justify_content": null,
       "justify_items": null,
       "left": null,
       "margin": null,
       "max_height": null,
       "max_width": null,
       "min_height": null,
       "min_width": null,
       "object_fit": null,
       "object_position": null,
       "order": null,
       "overflow": null,
       "overflow_x": null,
       "overflow_y": null,
       "padding": null,
       "right": null,
       "top": null,
       "visibility": null,
       "width": null
      }
     },
     "9be780d3908f4bddaebcb13253c31c2d": {
      "model_module": "@jupyter-widgets/controls",
      "model_module_version": "1.5.0",
      "model_name": "DescriptionStyleModel",
      "state": {
       "_model_module": "@jupyter-widgets/controls",
       "_model_module_version": "1.5.0",
       "_model_name": "DescriptionStyleModel",
       "_view_count": null,
       "_view_module": "@jupyter-widgets/base",
       "_view_module_version": "1.2.0",
       "_view_name": "StyleView",
       "description_width": ""
      }
     },
     "a59e7a9efe44445c83830021a5cee1d3": {
      "model_module": "@jupyter-widgets/controls",
      "model_module_version": "1.5.0",
      "model_name": "ProgressStyleModel",
      "state": {
       "_model_module": "@jupyter-widgets/controls",
       "_model_module_version": "1.5.0",
       "_model_name": "ProgressStyleModel",
       "_view_count": null,
       "_view_module": "@jupyter-widgets/base",
       "_view_module_version": "1.2.0",
       "_view_name": "StyleView",
       "bar_color": null,
       "description_width": ""
      }
     }
    },
    "version_major": 2,
    "version_minor": 0
   }
  }
 },
 "nbformat": 4,
 "nbformat_minor": 5
}
