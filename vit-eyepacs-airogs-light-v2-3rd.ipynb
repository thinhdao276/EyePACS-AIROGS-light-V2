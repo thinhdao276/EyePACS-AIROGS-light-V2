{
 "cells": [
  {
   "cell_type": "code",
   "execution_count": 1,
   "id": "6dd1422c",
   "metadata": {
    "execution": {
     "iopub.execute_input": "2024-06-22T15:53:17.665153Z",
     "iopub.status.busy": "2024-06-22T15:53:17.664476Z",
     "iopub.status.idle": "2024-06-22T15:53:45.379403Z",
     "shell.execute_reply": "2024-06-22T15:53:45.378139Z"
    },
    "papermill": {
     "duration": 27.731742,
     "end_time": "2024-06-22T15:53:45.382069",
     "exception": false,
     "start_time": "2024-06-22T15:53:17.650327",
     "status": "completed"
    },
    "tags": []
   },
   "outputs": [],
   "source": [
    "!pip install --upgrade -q wandb"
   ]
  },
  {
   "cell_type": "code",
   "execution_count": 2,
   "id": "14a4a9da",
   "metadata": {
    "execution": {
     "iopub.execute_input": "2024-06-22T15:53:45.409048Z",
     "iopub.status.busy": "2024-06-22T15:53:45.408730Z",
     "iopub.status.idle": "2024-06-22T15:53:53.518465Z",
     "shell.execute_reply": "2024-06-22T15:53:53.517715Z"
    },
    "papermill": {
     "duration": 8.125733,
     "end_time": "2024-06-22T15:53:53.520804",
     "exception": false,
     "start_time": "2024-06-22T15:53:45.395071",
     "status": "completed"
    },
    "tags": []
   },
   "outputs": [],
   "source": [
    "import pandas as pd\n",
    "import matplotlib.pyplot as plt\n",
    "import wandb\n",
    "from pathlib import Path\n",
    "from sklearn.model_selection import train_test_split, StratifiedKFold\n",
    "from sklearn.preprocessing import LabelEncoder\n",
    "from sklearn.metrics import classification_report, f1_score, recall_score, precision_score\n",
    "from torch.utils.data import DataLoader, Dataset\n",
    "from torch.utils.data import RandomSampler\n",
    "from PIL import Image\n",
    "import cv2\n",
    "import torch\n",
    "import torch.nn as nn\n",
    "import torchvision.transforms as transforms\n",
    "from torchvision import transforms\n",
    "import torchvision.models as models\n",
    "from torchvision import models\n",
    "from torchvision.utils import make_grid\n",
    "from torchvision.datasets import ImageFolder\n",
    "import torch.nn.functional as F\n",
    "import timm\n",
    "import albumentations\n",
    "from albumentations.pytorch import ToTensorV2\n",
    "import numpy as np\n",
    "from tqdm import tqdm\n",
    "from sklearn.metrics import confusion_matrix\n",
    "\n",
    "from IPython.display import display, HTML\n",
    "import warnings\n",
    "warnings.filterwarnings(\"ignore\")"
   ]
  },
  {
   "cell_type": "code",
   "execution_count": 3,
   "id": "bee6504e",
   "metadata": {
    "execution": {
     "iopub.execute_input": "2024-06-22T15:53:53.547626Z",
     "iopub.status.busy": "2024-06-22T15:53:53.547183Z",
     "iopub.status.idle": "2024-06-22T15:53:54.731146Z",
     "shell.execute_reply": "2024-06-22T15:53:54.730295Z"
    },
    "papermill": {
     "duration": 1.199291,
     "end_time": "2024-06-22T15:53:54.733079",
     "exception": false,
     "start_time": "2024-06-22T15:53:53.533788",
     "status": "completed"
    },
    "tags": []
   },
   "outputs": [
    {
     "name": "stderr",
     "output_type": "stream",
     "text": [
      "\u001b[34m\u001b[1mwandb\u001b[0m: W&B API key is configured. Use \u001b[1m`wandb login --relogin`\u001b[0m to force relogin\n",
      "\u001b[34m\u001b[1mwandb\u001b[0m: \u001b[33mWARNING\u001b[0m If you're specifying your api key in code, ensure this code is not shared publicly.\n",
      "\u001b[34m\u001b[1mwandb\u001b[0m: \u001b[33mWARNING\u001b[0m Consider setting the WANDB_API_KEY environment variable, or running `wandb login` from the command line.\n",
      "\u001b[34m\u001b[1mwandb\u001b[0m: Appending key for api.wandb.ai to your netrc file: /root/.netrc\n"
     ]
    },
    {
     "data": {
      "text/plain": [
       "True"
      ]
     },
     "execution_count": 3,
     "metadata": {},
     "output_type": "execute_result"
    }
   ],
   "source": [
    "import wandb\n",
    "from kaggle_secrets import UserSecretsClient\n",
    "user_secrets = UserSecretsClient()\n",
    "secret_value_0 = user_secrets.get_secret(\"wandb\")\n",
    "\n",
    "wandb.login(key = secret_value_0)"
   ]
  },
  {
   "cell_type": "code",
   "execution_count": 4,
   "id": "04f38a84",
   "metadata": {
    "execution": {
     "iopub.execute_input": "2024-06-22T15:53:54.761243Z",
     "iopub.status.busy": "2024-06-22T15:53:54.760958Z",
     "iopub.status.idle": "2024-06-22T15:53:54.767738Z",
     "shell.execute_reply": "2024-06-22T15:53:54.766905Z"
    },
    "papermill": {
     "duration": 0.023483,
     "end_time": "2024-06-22T15:53:54.769622",
     "exception": false,
     "start_time": "2024-06-22T15:53:54.746139",
     "status": "completed"
    },
    "tags": []
   },
   "outputs": [
    {
     "data": {
      "text/plain": [
       "'/kaggle/input/glaucoma-dataset-eyepacs-airogs-light-v2/eyepac-light-v2-512-jpg'"
      ]
     },
     "execution_count": 4,
     "metadata": {},
     "output_type": "execute_result"
    }
   ],
   "source": [
    "class config:\n",
    "    root_path = '/kaggle/input/glaucoma-dataset-eyepacs-airogs-light-v2/eyepac-light-v2-512-jpg'\n",
    "    train_path = root_path + '/train'\n",
    "    test_path = root_path + '/test'\n",
    "    valid_path = root_path + '/validation'\n",
    "    output_path = \"/kaggle/working/\"\n",
    "    batch_size = 16\n",
    "    lr = 1e-3\n",
    "    seed = 1\n",
    "    num_epochs = 40\n",
    "    model_names = 'vit_base_patch8_224'\n",
    "    \n",
    "config.root_path"
   ]
  },
  {
   "cell_type": "code",
   "execution_count": 5,
   "id": "247c28c3",
   "metadata": {
    "execution": {
     "iopub.execute_input": "2024-06-22T15:53:54.796505Z",
     "iopub.status.busy": "2024-06-22T15:53:54.796233Z",
     "iopub.status.idle": "2024-06-22T15:54:15.291262Z",
     "shell.execute_reply": "2024-06-22T15:54:15.290289Z"
    },
    "papermill": {
     "duration": 20.511006,
     "end_time": "2024-06-22T15:54:15.293537",
     "exception": false,
     "start_time": "2024-06-22T15:53:54.782531",
     "status": "completed"
    },
    "tags": []
   },
   "outputs": [],
   "source": [
    "def get_df(path): \n",
    "    paths = Path(path).rglob(\"*.jpg\")\n",
    "    files = [str(path) for path in paths]\n",
    "    labels = [file.split('/')[-2] for file in files]\n",
    "    \n",
    "    df = pd.DataFrame()\n",
    "    df['path'] = files\n",
    "    df['label'] = labels\n",
    "    df['label'] = df['label'].map({'RG':1, 'NRG': 0})\n",
    "    return df\n",
    "\n",
    "# Assuming CFG.path_to_data is set to the correct data path, the following lines will create your dataframes:\n",
    "train_df = get_df(config.train_path)\n",
    "valid_df = get_df(config.valid_path)\n",
    "test_df = get_df(config.test_path)"
   ]
  },
  {
   "cell_type": "code",
   "execution_count": 6,
   "id": "42b50778",
   "metadata": {
    "execution": {
     "iopub.execute_input": "2024-06-22T15:54:15.321682Z",
     "iopub.status.busy": "2024-06-22T15:54:15.321352Z",
     "iopub.status.idle": "2024-06-22T15:54:15.335604Z",
     "shell.execute_reply": "2024-06-22T15:54:15.334783Z"
    },
    "papermill": {
     "duration": 0.030179,
     "end_time": "2024-06-22T15:54:15.337420",
     "exception": false,
     "start_time": "2024-06-22T15:54:15.307241",
     "status": "completed"
    },
    "tags": []
   },
   "outputs": [
    {
     "data": {
      "text/html": [
       "<div>\n",
       "<style scoped>\n",
       "    .dataframe tbody tr th:only-of-type {\n",
       "        vertical-align: middle;\n",
       "    }\n",
       "\n",
       "    .dataframe tbody tr th {\n",
       "        vertical-align: top;\n",
       "    }\n",
       "\n",
       "    .dataframe thead th {\n",
       "        text-align: right;\n",
       "    }\n",
       "</style>\n",
       "<table border=\"1\" class=\"dataframe\">\n",
       "  <thead>\n",
       "    <tr style=\"text-align: right;\">\n",
       "      <th></th>\n",
       "      <th>path</th>\n",
       "      <th>label</th>\n",
       "    </tr>\n",
       "  </thead>\n",
       "  <tbody>\n",
       "    <tr>\n",
       "      <th>0</th>\n",
       "      <td>/kaggle/input/glaucoma-dataset-eyepacs-airogs-...</td>\n",
       "      <td>1</td>\n",
       "    </tr>\n",
       "    <tr>\n",
       "      <th>1</th>\n",
       "      <td>/kaggle/input/glaucoma-dataset-eyepacs-airogs-...</td>\n",
       "      <td>1</td>\n",
       "    </tr>\n",
       "    <tr>\n",
       "      <th>2</th>\n",
       "      <td>/kaggle/input/glaucoma-dataset-eyepacs-airogs-...</td>\n",
       "      <td>1</td>\n",
       "    </tr>\n",
       "    <tr>\n",
       "      <th>3</th>\n",
       "      <td>/kaggle/input/glaucoma-dataset-eyepacs-airogs-...</td>\n",
       "      <td>1</td>\n",
       "    </tr>\n",
       "    <tr>\n",
       "      <th>4</th>\n",
       "      <td>/kaggle/input/glaucoma-dataset-eyepacs-airogs-...</td>\n",
       "      <td>1</td>\n",
       "    </tr>\n",
       "    <tr>\n",
       "      <th>...</th>\n",
       "      <td>...</td>\n",
       "      <td>...</td>\n",
       "    </tr>\n",
       "    <tr>\n",
       "      <th>7995</th>\n",
       "      <td>/kaggle/input/glaucoma-dataset-eyepacs-airogs-...</td>\n",
       "      <td>0</td>\n",
       "    </tr>\n",
       "    <tr>\n",
       "      <th>7996</th>\n",
       "      <td>/kaggle/input/glaucoma-dataset-eyepacs-airogs-...</td>\n",
       "      <td>0</td>\n",
       "    </tr>\n",
       "    <tr>\n",
       "      <th>7997</th>\n",
       "      <td>/kaggle/input/glaucoma-dataset-eyepacs-airogs-...</td>\n",
       "      <td>0</td>\n",
       "    </tr>\n",
       "    <tr>\n",
       "      <th>7998</th>\n",
       "      <td>/kaggle/input/glaucoma-dataset-eyepacs-airogs-...</td>\n",
       "      <td>0</td>\n",
       "    </tr>\n",
       "    <tr>\n",
       "      <th>7999</th>\n",
       "      <td>/kaggle/input/glaucoma-dataset-eyepacs-airogs-...</td>\n",
       "      <td>0</td>\n",
       "    </tr>\n",
       "  </tbody>\n",
       "</table>\n",
       "<p>8000 rows × 2 columns</p>\n",
       "</div>"
      ],
      "text/plain": [
       "                                                   path  label\n",
       "0     /kaggle/input/glaucoma-dataset-eyepacs-airogs-...      1\n",
       "1     /kaggle/input/glaucoma-dataset-eyepacs-airogs-...      1\n",
       "2     /kaggle/input/glaucoma-dataset-eyepacs-airogs-...      1\n",
       "3     /kaggle/input/glaucoma-dataset-eyepacs-airogs-...      1\n",
       "4     /kaggle/input/glaucoma-dataset-eyepacs-airogs-...      1\n",
       "...                                                 ...    ...\n",
       "7995  /kaggle/input/glaucoma-dataset-eyepacs-airogs-...      0\n",
       "7996  /kaggle/input/glaucoma-dataset-eyepacs-airogs-...      0\n",
       "7997  /kaggle/input/glaucoma-dataset-eyepacs-airogs-...      0\n",
       "7998  /kaggle/input/glaucoma-dataset-eyepacs-airogs-...      0\n",
       "7999  /kaggle/input/glaucoma-dataset-eyepacs-airogs-...      0\n",
       "\n",
       "[8000 rows x 2 columns]"
      ]
     },
     "execution_count": 6,
     "metadata": {},
     "output_type": "execute_result"
    }
   ],
   "source": [
    "train_df"
   ]
  },
  {
   "cell_type": "code",
   "execution_count": 7,
   "id": "8fe7fde0",
   "metadata": {
    "execution": {
     "iopub.execute_input": "2024-06-22T15:54:15.365320Z",
     "iopub.status.busy": "2024-06-22T15:54:15.365052Z",
     "iopub.status.idle": "2024-06-22T15:54:15.377266Z",
     "shell.execute_reply": "2024-06-22T15:54:15.376444Z"
    },
    "papermill": {
     "duration": 0.028353,
     "end_time": "2024-06-22T15:54:15.379142",
     "exception": false,
     "start_time": "2024-06-22T15:54:15.350789",
     "status": "completed"
    },
    "tags": []
   },
   "outputs": [],
   "source": [
    "from PIL import Image\n",
    "import os\n",
    "import torch\n",
    "from sklearn.model_selection import train_test_split\n",
    "\n",
    "    \n",
    "# define a data class\n",
    "class ClassificationDataset:\n",
    "    def __init__(self, data, data_path, transform, training=True):\n",
    "        \"\"\"Define the dataset for classification problems\n",
    "\n",
    "        Args:\n",
    "            data ([dataframe]): [a dataframe that contain 2 columns: image name and label]\n",
    "            data_path ([str]): [path/to/folder that contains image file]\n",
    "            transform : [augmentation methods and transformation of images]\n",
    "            training (bool, optional): []. Defaults to True.\n",
    "        \"\"\"\n",
    "        self.data = data\n",
    "        self.imgs = data[\"path\"].unique().tolist()\n",
    "        self.data_path = data_path\n",
    "        self.training = training\n",
    "        self.transform = transform\n",
    "\n",
    "    def __getitem__(self, idx):\n",
    "        img = Image.open(os.path.join(self.data_path, self.data.iloc[idx, 0]))\n",
    "        if(self.training):\n",
    "            label = self.data.iloc[idx, 1]\n",
    "        if self.transform is not None:\n",
    "            img = self.transform(img)\n",
    "        if(self.training):\n",
    "            return img, label\n",
    "        else:\n",
    "            return img\n",
    "\n",
    "    def __len__(self):\n",
    "        return len(self.imgs)\n",
    "\n",
    "\n",
    "def make_loader(dataset, train_batch_size, validation_split=0.2):\n",
    "    \"\"\"make dataloader for pytorch training\n",
    "\n",
    "    Args:\n",
    "        dataset ([object]): [the dataset object]\n",
    "        train_batch_size ([int]): [training batch size]\n",
    "        validation_split (float, optional): [validation ratio]. Defaults to 0.2.\n",
    "\n",
    "    Returns:\n",
    "        [type]: [description]\n",
    "    \"\"\"\n",
    "    # number of samples in train and test set\n",
    "    train_len = int(len(dataset) * (1 - validation_split))\n",
    "    test_len = len(dataset) - train_len\n",
    "    train_set, test_set = torch.utils.data.random_split(dataset, [train_len, test_len])\n",
    "    # create train_loader\n",
    "    print(len(train_set))\n",
    "    train_loader = torch.utils.data.DataLoader(\n",
    "        train_set, batch_size=train_batch_size, shuffle=True,\n",
    "    )\n",
    "    # create test_loader\n",
    "    test_loader = torch.utils.data.DataLoader(test_set, batch_size=1, shuffle=False,)\n",
    "    return train_loader, test_loader\n",
    "\n",
    "\n",
    "def data_split(data, test_size):\n",
    "    x_train, x_test, y_train, y_test = train_test_split(\n",
    "        data, data[\"label\"], test_size=test_size, stratify = data.iloc[:,1]\n",
    "    )\n",
    "    return x_train, x_test, y_train, y_test"
   ]
  },
  {
   "cell_type": "markdown",
   "id": "a487df96",
   "metadata": {
    "papermill": {
     "duration": 0.013025,
     "end_time": "2024-06-22T15:54:15.405367",
     "exception": false,
     "start_time": "2024-06-22T15:54:15.392342",
     "status": "completed"
    },
    "tags": []
   },
   "source": [
    "# 1. Define DataLoader"
   ]
  },
  {
   "cell_type": "code",
   "execution_count": 8,
   "id": "8b5a1073",
   "metadata": {
    "execution": {
     "iopub.execute_input": "2024-06-22T15:54:15.432960Z",
     "iopub.status.busy": "2024-06-22T15:54:15.432690Z",
     "iopub.status.idle": "2024-06-22T15:54:15.436433Z",
     "shell.execute_reply": "2024-06-22T15:54:15.435657Z"
    },
    "papermill": {
     "duration": 0.019633,
     "end_time": "2024-06-22T15:54:15.438280",
     "exception": false,
     "start_time": "2024-06-22T15:54:15.418647",
     "status": "completed"
    },
    "tags": []
   },
   "outputs": [],
   "source": [
    "mean = (0.5, 0.5, 0.5)\n",
    "std = (0.5, 0.5, 0.5)"
   ]
  },
  {
   "cell_type": "code",
   "execution_count": 9,
   "id": "2af647d0",
   "metadata": {
    "execution": {
     "iopub.execute_input": "2024-06-22T15:54:15.466470Z",
     "iopub.status.busy": "2024-06-22T15:54:15.465780Z",
     "iopub.status.idle": "2024-06-22T15:54:15.470406Z",
     "shell.execute_reply": "2024-06-22T15:54:15.469635Z"
    },
    "papermill": {
     "duration": 0.020859,
     "end_time": "2024-06-22T15:54:15.472322",
     "exception": false,
     "start_time": "2024-06-22T15:54:15.451463",
     "status": "completed"
    },
    "tags": []
   },
   "outputs": [],
   "source": [
    "import torchvision\n",
    "transform = torchvision.transforms.Compose([torchvision.transforms.Resize((224, 224)),\n",
    "                                               torchvision.transforms.ToTensor(),\n",
    "                                               torchvision.transforms.Normalize(mean, std)])"
   ]
  },
  {
   "cell_type": "code",
   "execution_count": 10,
   "id": "81436596",
   "metadata": {
    "execution": {
     "iopub.execute_input": "2024-06-22T15:54:15.500171Z",
     "iopub.status.busy": "2024-06-22T15:54:15.499549Z",
     "iopub.status.idle": "2024-06-22T15:54:15.503886Z",
     "shell.execute_reply": "2024-06-22T15:54:15.503096Z"
    },
    "papermill": {
     "duration": 0.020218,
     "end_time": "2024-06-22T15:54:15.505667",
     "exception": false,
     "start_time": "2024-06-22T15:54:15.485449",
     "status": "completed"
    },
    "tags": []
   },
   "outputs": [],
   "source": [
    "test_transform = torchvision.transforms.Compose([torchvision.transforms.Resize((224, 224)),\n",
    "                                               torchvision.transforms.ToTensor(),\n",
    "                                               torchvision.transforms.Normalize(mean, std)])"
   ]
  },
  {
   "cell_type": "code",
   "execution_count": 11,
   "id": "361b34ad",
   "metadata": {
    "execution": {
     "iopub.execute_input": "2024-06-22T15:54:15.533264Z",
     "iopub.status.busy": "2024-06-22T15:54:15.532829Z",
     "iopub.status.idle": "2024-06-22T15:54:15.561528Z",
     "shell.execute_reply": "2024-06-22T15:54:15.560719Z"
    },
    "papermill": {
     "duration": 0.044558,
     "end_time": "2024-06-22T15:54:15.563386",
     "exception": false,
     "start_time": "2024-06-22T15:54:15.518828",
     "status": "completed"
    },
    "tags": []
   },
   "outputs": [
    {
     "name": "stdout",
     "output_type": "stream",
     "text": [
      "6400\n"
     ]
    }
   ],
   "source": [
    "dataset = ClassificationDataset(train_df,data_path = \"\",transform=transform,training=True)\n",
    "train_loader,val_loader = make_loader(dataset, train_batch_size=config.batch_size, validation_split=0.2)"
   ]
  },
  {
   "cell_type": "code",
   "execution_count": 12,
   "id": "a66d1d81",
   "metadata": {
    "execution": {
     "iopub.execute_input": "2024-06-22T15:54:15.591390Z",
     "iopub.status.busy": "2024-06-22T15:54:15.590772Z",
     "iopub.status.idle": "2024-06-22T15:54:15.594987Z",
     "shell.execute_reply": "2024-06-22T15:54:15.594187Z"
    },
    "papermill": {
     "duration": 0.020341,
     "end_time": "2024-06-22T15:54:15.597126",
     "exception": false,
     "start_time": "2024-06-22T15:54:15.576785",
     "status": "completed"
    },
    "tags": []
   },
   "outputs": [
    {
     "name": "stdout",
     "output_type": "stream",
     "text": [
      "Random seed:  125\n"
     ]
    }
   ],
   "source": [
    "import random\n",
    "\n",
    "random_seed = random.randint(0, 128)\n",
    "print(\"Random seed: \",random_seed)"
   ]
  },
  {
   "cell_type": "code",
   "execution_count": 13,
   "id": "3b4c4886",
   "metadata": {
    "execution": {
     "iopub.execute_input": "2024-06-22T15:54:15.624751Z",
     "iopub.status.busy": "2024-06-22T15:54:15.624487Z",
     "iopub.status.idle": "2024-06-22T15:54:15.635300Z",
     "shell.execute_reply": "2024-06-22T15:54:15.634646Z"
    },
    "papermill": {
     "duration": 0.026653,
     "end_time": "2024-06-22T15:54:15.637076",
     "exception": false,
     "start_time": "2024-06-22T15:54:15.610423",
     "status": "completed"
    },
    "tags": []
   },
   "outputs": [],
   "source": [
    " X_train, X_test, y_train, y_test = train_test_split(train_df, train_df['label'],stratify=train_df['label'], test_size=0.2, random_state=42)"
   ]
  },
  {
   "cell_type": "code",
   "execution_count": 14,
   "id": "86eac814",
   "metadata": {
    "execution": {
     "iopub.execute_input": "2024-06-22T15:54:15.664912Z",
     "iopub.status.busy": "2024-06-22T15:54:15.664652Z",
     "iopub.status.idle": "2024-06-22T15:54:15.671696Z",
     "shell.execute_reply": "2024-06-22T15:54:15.671026Z"
    },
    "papermill": {
     "duration": 0.02301,
     "end_time": "2024-06-22T15:54:15.673516",
     "exception": false,
     "start_time": "2024-06-22T15:54:15.650506",
     "status": "completed"
    },
    "tags": []
   },
   "outputs": [],
   "source": [
    "train_dataset = ClassificationDataset(X_train,data_path = \"\",transform=transform,training=True)\n",
    "val_dataset = ClassificationDataset(X_test,data_path = \"\",transform=test_transform,training=True)"
   ]
  },
  {
   "cell_type": "code",
   "execution_count": 15,
   "id": "9514fff4",
   "metadata": {
    "execution": {
     "iopub.execute_input": "2024-06-22T15:54:15.701528Z",
     "iopub.status.busy": "2024-06-22T15:54:15.700938Z",
     "iopub.status.idle": "2024-06-22T15:54:15.705451Z",
     "shell.execute_reply": "2024-06-22T15:54:15.704712Z"
    },
    "papermill": {
     "duration": 0.020398,
     "end_time": "2024-06-22T15:54:15.707283",
     "exception": false,
     "start_time": "2024-06-22T15:54:15.686885",
     "status": "completed"
    },
    "tags": []
   },
   "outputs": [],
   "source": [
    "train_loader = torch.utils.data.DataLoader(\n",
    "        train_dataset, batch_size=config.batch_size, shuffle=True,\n",
    "    )\n",
    "    # create test_loader\n",
    "val_loader = torch.utils.data.DataLoader(val_dataset, batch_size=1, shuffle=False)"
   ]
  },
  {
   "cell_type": "code",
   "execution_count": 16,
   "id": "8c87af18",
   "metadata": {
    "execution": {
     "iopub.execute_input": "2024-06-22T15:54:15.734971Z",
     "iopub.status.busy": "2024-06-22T15:54:15.734730Z",
     "iopub.status.idle": "2024-06-22T15:54:15.739360Z",
     "shell.execute_reply": "2024-06-22T15:54:15.738574Z"
    },
    "papermill": {
     "duration": 0.020587,
     "end_time": "2024-06-22T15:54:15.741167",
     "exception": false,
     "start_time": "2024-06-22T15:54:15.720580",
     "status": "completed"
    },
    "tags": []
   },
   "outputs": [],
   "source": [
    "testset = ClassificationDataset(test_df,data_path = \"\",transform=test_transform,training=False)\n",
    "test_loader = torch.utils.data.DataLoader(\n",
    "        testset, batch_size=1, shuffle=False,\n",
    "    )"
   ]
  },
  {
   "cell_type": "code",
   "execution_count": 17,
   "id": "b61a0925",
   "metadata": {
    "execution": {
     "iopub.execute_input": "2024-06-22T15:54:15.769033Z",
     "iopub.status.busy": "2024-06-22T15:54:15.768765Z",
     "iopub.status.idle": "2024-06-22T15:54:24.335954Z",
     "shell.execute_reply": "2024-06-22T15:54:24.335157Z"
    },
    "papermill": {
     "duration": 8.583557,
     "end_time": "2024-06-22T15:54:24.338120",
     "exception": false,
     "start_time": "2024-06-22T15:54:15.754563",
     "status": "completed"
    },
    "tags": []
   },
   "outputs": [
    {
     "name": "stderr",
     "output_type": "stream",
     "text": [
      "100%|██████████| 770/770 [00:08<00:00, 90.43it/s]\n"
     ]
    }
   ],
   "source": [
    "from tqdm import tqdm\n",
    "psum    = torch.tensor([0.0, 0.0, 0.0])\n",
    "psum_sq = torch.tensor([0.0, 0.0, 0.0])\n",
    "\n",
    "# loop through images\n",
    "for inputs in tqdm(test_loader):\n",
    "    psum    += inputs.sum(axis        = [0, 2, 3])\n",
    "    psum_sq += (inputs ** 2).sum(axis = [0, 2, 3])\n",
    "\n",
    "count = len(test_df) * 224 * 224\n",
    "\n",
    "# mean and std\n",
    "test_mean = psum / count\n",
    "test_var  = (psum_sq / count) - (test_mean ** 2)\n",
    "test_std  = torch.sqrt(test_var)"
   ]
  },
  {
   "cell_type": "code",
   "execution_count": 18,
   "id": "60a00564",
   "metadata": {
    "execution": {
     "iopub.execute_input": "2024-06-22T15:54:24.379947Z",
     "iopub.status.busy": "2024-06-22T15:54:24.379101Z",
     "iopub.status.idle": "2024-06-22T15:55:37.592851Z",
     "shell.execute_reply": "2024-06-22T15:55:37.591085Z"
    },
    "papermill": {
     "duration": 73.236645,
     "end_time": "2024-06-22T15:55:37.594888",
     "exception": false,
     "start_time": "2024-06-22T15:54:24.358243",
     "status": "completed"
    },
    "tags": []
   },
   "outputs": [
    {
     "name": "stderr",
     "output_type": "stream",
     "text": [
      "100%|██████████| 400/400 [01:13<00:00,  5.46it/s]\n"
     ]
    }
   ],
   "source": [
    "psum    = torch.tensor([0.0, 0.0, 0.0])\n",
    "psum_sq = torch.tensor([0.0, 0.0, 0.0])\n",
    "\n",
    "# loop through images\n",
    "for inputs,_ in tqdm(train_loader):\n",
    "    psum    += inputs.sum(axis        = [0, 2, 3])\n",
    "    psum_sq += (inputs ** 2).sum(axis = [0, 2, 3])\n",
    "\n",
    "count = len(train_loader) * 224 * 224\n",
    "\n",
    "# mean and std\n",
    "train_mean = psum / count\n",
    "train_var  = (psum_sq / count) - (train_mean ** 2)\n",
    "train_std  = torch.sqrt(train_var)"
   ]
  },
  {
   "cell_type": "code",
   "execution_count": 19,
   "id": "12463346",
   "metadata": {
    "execution": {
     "iopub.execute_input": "2024-06-22T15:55:37.742247Z",
     "iopub.status.busy": "2024-06-22T15:55:37.741419Z",
     "iopub.status.idle": "2024-06-22T15:55:37.748182Z",
     "shell.execute_reply": "2024-06-22T15:55:37.747369Z"
    },
    "papermill": {
     "duration": 0.060088,
     "end_time": "2024-06-22T15:55:37.750048",
     "exception": false,
     "start_time": "2024-06-22T15:55:37.689960",
     "status": "completed"
    },
    "tags": []
   },
   "outputs": [],
   "source": [
    "def imshow(inp, title=None):\n",
    "    \"\"\"Imshow for Tensor.\"\"\"\n",
    "    inp = inp.numpy().transpose((1, 2, 0))\n",
    "    mean = np.array([0.485, 0.456, 0.406])\n",
    "    std = np.array([0.229, 0.224, 0.225])\n",
    "    inp = std * inp + mean\n",
    "    inp = np.clip(inp, 0, 1)\n",
    "    plt.figure(figsize = (12, 12))\n",
    "    plt.imshow(inp)\n",
    "    if title is not None:\n",
    "        plt.title(title)\n",
    "    plt.axis(\"off\")\n",
    "    plt.pause(0.001)"
   ]
  },
  {
   "cell_type": "code",
   "execution_count": 20,
   "id": "bb79c5ef",
   "metadata": {
    "execution": {
     "iopub.execute_input": "2024-06-22T15:55:37.851236Z",
     "iopub.status.busy": "2024-06-22T15:55:37.850545Z",
     "iopub.status.idle": "2024-06-22T15:55:38.553240Z",
     "shell.execute_reply": "2024-06-22T15:55:38.552359Z"
    },
    "papermill": {
     "duration": 0.75733,
     "end_time": "2024-06-22T15:55:38.557310",
     "exception": false,
     "start_time": "2024-06-22T15:55:37.799980",
     "status": "completed"
    },
    "tags": []
   },
   "outputs": [
    {
     "data": {
      "image/png": "[encoded data removed]",
      "text/plain": [
       "<Figure size 1200x1200 with 1 Axes>"
      ]
     },
     "metadata": {},
     "output_type": "display_data"
    }
   ],
   "source": [
    "import matplotlib.pyplot as plt\n",
    "\n",
    "%matplotlib inline\n",
    "# Visualization\n",
    "images, classes = next(iter(train_loader))\n",
    "# Make a grid from batch\n",
    "out = torchvision.utils.make_grid(images, nrow=8)\n",
    "imshow(out, title=classes)"
   ]
  },
  {
   "cell_type": "markdown",
   "id": "dce8ab21",
   "metadata": {
    "papermill": {
     "duration": 0.052746,
     "end_time": "2024-06-22T15:55:38.663475",
     "exception": false,
     "start_time": "2024-06-22T15:55:38.610729",
     "status": "completed"
    },
    "tags": []
   },
   "source": [
    "# 2. Define Metrics and Optimizers and Loss function\n"
   ]
  },
  {
   "cell_type": "code",
   "execution_count": 21,
   "id": "aa2beffc",
   "metadata": {
    "execution": {
     "iopub.execute_input": "2024-06-22T15:55:38.770925Z",
     "iopub.status.busy": "2024-06-22T15:55:38.770570Z",
     "iopub.status.idle": "2024-06-22T15:55:38.779891Z",
     "shell.execute_reply": "2024-06-22T15:55:38.779122Z"
    },
    "papermill": {
     "duration": 0.065379,
     "end_time": "2024-06-22T15:55:38.781665",
     "exception": false,
     "start_time": "2024-06-22T15:55:38.716286",
     "status": "completed"
    },
    "tags": []
   },
   "outputs": [],
   "source": [
    "from sklearn import metrics as skmetrics\n",
    "import numpy\n",
    "class Metrics:\n",
    "    def __init__(self, metric_names):\n",
    "        self.metric_names = metric_names\n",
    "        # initialize a metric dictionary\n",
    "        self.metric_dict = {metric_name: [0] for metric_name in self.metric_names}\n",
    "\n",
    "    def step(self, labels, preds):\n",
    "        for metric in self.metric_names:\n",
    "            # get the metric function\n",
    "            do_metric = getattr(\n",
    "                skmetrics, metric, \"The metric {} is not implemented\".format(metric)\n",
    "            )\n",
    "            # check if metric require average method, if yes set to 'micro' or 'macro' or 'None'\n",
    "            try:\n",
    "                self.metric_dict[metric].append(\n",
    "                    do_metric(labels, preds, average=\"macro\")\n",
    "                )\n",
    "            except:\n",
    "                self.metric_dict[metric].append(do_metric(labels, preds))\n",
    "\n",
    "    def epoch(self):\n",
    "        # calculate metrics for an entire epoch\n",
    "        avg = [sum(metric) / (len(metric) - 1) for metric in self.metric_dict.values()]\n",
    "        metric_as_dict = dict(zip(self.metric_names, avg))\n",
    "        return metric_as_dict\n",
    "\n",
    "    def last_step_metrics(self):\n",
    "        # return metrics of last steps\n",
    "        values = [self.metric_dict[metric][-1] for metric in self.metric_names]\n",
    "        metric_as_dict = dict(zip(self.metric_names, values))\n",
    "        return metric_as_dict"
   ]
  },
  {
   "cell_type": "code",
   "execution_count": 22,
   "id": "ab6e5ba9",
   "metadata": {
    "execution": {
     "iopub.execute_input": "2024-06-22T15:55:38.888606Z",
     "iopub.status.busy": "2024-06-22T15:55:38.888316Z",
     "iopub.status.idle": "2024-06-22T15:55:38.892252Z",
     "shell.execute_reply": "2024-06-22T15:55:38.891531Z"
    },
    "papermill": {
     "duration": 0.059564,
     "end_time": "2024-06-22T15:55:38.894107",
     "exception": false,
     "start_time": "2024-06-22T15:55:38.834543",
     "status": "completed"
    },
    "tags": []
   },
   "outputs": [],
   "source": [
    "train_metrics = Metrics([\"accuracy_score\",\"f1_score\"])\n",
    "val_metrics = Metrics([\"accuracy_score\",\"f1_score\"])"
   ]
  },
  {
   "cell_type": "code",
   "execution_count": 23,
   "id": "96b941a1",
   "metadata": {
    "execution": {
     "iopub.execute_input": "2024-06-22T15:55:39.001294Z",
     "iopub.status.busy": "2024-06-22T15:55:39.000709Z",
     "iopub.status.idle": "2024-06-22T15:55:39.052580Z",
     "shell.execute_reply": "2024-06-22T15:55:39.051661Z"
    },
    "papermill": {
     "duration": 0.107779,
     "end_time": "2024-06-22T15:55:39.054796",
     "exception": false,
     "start_time": "2024-06-22T15:55:38.947017",
     "status": "completed"
    },
    "tags": []
   },
   "outputs": [],
   "source": [
    "device = torch.device(\"cuda:0\" if torch.cuda.is_available() else \"cpu\")\n",
    "criterion = nn.CrossEntropyLoss()"
   ]
  },
  {
   "cell_type": "markdown",
   "id": "2d9798f3",
   "metadata": {
    "papermill": {
     "duration": 0.054197,
     "end_time": "2024-06-22T15:55:39.163720",
     "exception": false,
     "start_time": "2024-06-22T15:55:39.109523",
     "status": "completed"
    },
    "tags": []
   },
   "source": [
    "4. Define the Model: Transfer Learning\n"
   ]
  },
  {
   "cell_type": "code",
   "execution_count": 24,
   "id": "26e35c5e",
   "metadata": {
    "execution": {
     "iopub.execute_input": "2024-06-22T15:55:39.271628Z",
     "iopub.status.busy": "2024-06-22T15:55:39.271306Z",
     "iopub.status.idle": "2024-06-22T15:55:46.724834Z",
     "shell.execute_reply": "2024-06-22T15:55:46.723951Z"
    },
    "papermill": {
     "duration": 7.510194,
     "end_time": "2024-06-22T15:55:46.727054",
     "exception": false,
     "start_time": "2024-06-22T15:55:39.216860",
     "status": "completed"
    },
    "tags": []
   },
   "outputs": [
    {
     "data": {
      "application/vnd.jupyter.widget-view+json": {
       "model_id": "cc0ec1930ef6474c882bf3cbfbcb8a21",
       "version_major": 2,
       "version_minor": 0
      },
      "text/plain": [
       "model.safetensors:   0%|          | 0.00/346M [00:00<?, ?B/s]"
      ]
     },
     "metadata": {},
     "output_type": "display_data"
    }
   ],
   "source": [
    "model = timm.create_model(config.model_names, pretrained=True)\n",
    "for param in model.parameters():\n",
    "    param.requires_grad = True\n",
    "classifier = nn.Sequential(\n",
    "    nn.Linear(in_features=model.head.in_features, out_features=256, bias=True),\n",
    "    nn.Linear(in_features=256, out_features=2, bias=True)\n",
    ")\n",
    "model.head = classifier\n",
    "\n",
    "optimizer = torch.optim.Adam(model.parameters(), lr=0.01)\n",
    "scheduler = torch.optim.lr_scheduler.ReduceLROnPlateau(\n",
    "        optimizer, \"min\", patience=2, factor=0.5\n",
    "    )\n",
    "\n",
    "\n",
    "model = model.to(device)"
   ]
  },
  {
   "cell_type": "markdown",
   "id": "8391c539",
   "metadata": {
    "papermill": {
     "duration": 0.056182,
     "end_time": "2024-06-22T15:55:46.837721",
     "exception": false,
     "start_time": "2024-06-22T15:55:46.781539",
     "status": "completed"
    },
    "tags": []
   },
   "source": [
    "# 3. Define a training epoch\n"
   ]
  },
  {
   "cell_type": "code",
   "execution_count": 25,
   "id": "644a7efb",
   "metadata": {
    "execution": {
     "iopub.execute_input": "2024-06-22T15:55:46.953300Z",
     "iopub.status.busy": "2024-06-22T15:55:46.952666Z",
     "iopub.status.idle": "2024-06-22T15:55:46.966169Z",
     "shell.execute_reply": "2024-06-22T15:55:46.965444Z"
    },
    "papermill": {
     "duration": 0.073553,
     "end_time": "2024-06-22T15:55:46.968297",
     "exception": false,
     "start_time": "2024-06-22T15:55:46.894744",
     "status": "completed"
    },
    "tags": []
   },
   "outputs": [],
   "source": [
    "def train_one_epoch(\n",
    "    model,\n",
    "    train_loader,\n",
    "    test_loader,\n",
    "    device,\n",
    "    optimizer,\n",
    "    criterion,\n",
    "    train_metrics,\n",
    "    val_metrics,\n",
    "):\n",
    "\n",
    "    # training-the-model\n",
    "    train_loss = 0\n",
    "    valid_loss = 0\n",
    "    all_labels = []\n",
    "    all_preds = []\n",
    "    model.train()\n",
    "    for data, target in train_loader:\n",
    "        # move-tensors-to-GPU\n",
    "        data = data.type(torch.FloatTensor).to(device)\n",
    "        # target=torch.Tensor(target)\n",
    "        target = target.float().to(device)\n",
    "        # clear-the-gradients-of-all-optimized-variables\n",
    "        optimizer.zero_grad()\n",
    "        # forward-pass: compute-predicted-outputs-by-passing-inputs-to-the-model\n",
    "        output = model(data)\n",
    "        # get the prediction label and target label\n",
    "        output = model(data)\n",
    "        preds = torch.argmax(output, axis=1).cpu().detach().numpy()\n",
    "        labels = target.cpu().numpy()\n",
    "        # calculate-the-batch-loss\n",
    "        loss = criterion(output.type(torch.FloatTensor).to(device), target.type(torch.LongTensor).to(device))\n",
    "        # backward-pass: compute-gradient-of-the-loss-wrt-model-parameters\n",
    "        loss.backward()\n",
    "        # perform-a-ingle-optimization-step (parameter-update)\n",
    "        optimizer.step()\n",
    "        # update-training-loss\n",
    "        train_loss += loss.item() * data.size(0)\n",
    "        # calculate training metrics\n",
    "        all_labels.extend(labels)\n",
    "        all_preds.extend(preds)\n",
    "    \n",
    "    train_metrics.step(all_labels, all_preds)\n",
    "\n",
    "    # validate-the-model\n",
    "    model.eval()\n",
    "    all_labels = []\n",
    "    all_preds = []\n",
    "    for data, target in test_loader:\n",
    "        data = data.type(torch.FloatTensor).to(device)\n",
    "        target = target.to(device)\n",
    "        output = model(data)\n",
    "        preds = torch.argmax(output, axis=1).tolist()\n",
    "        labels = target.tolist()\n",
    "        all_labels.extend(labels)\n",
    "        all_preds.extend(preds)\n",
    "        loss = criterion(output, target)\n",
    "\n",
    "        # update-average-validation-loss\n",
    "        valid_loss += loss.item() * data.size(0)\n",
    "\n",
    "    val_metrics.step(all_labels, all_preds)\n",
    "    train_loss = train_loss / len(train_loader.sampler)\n",
    "    valid_loss = valid_loss / len(test_loader.sampler)\n",
    "\n",
    "    return (\n",
    "        train_loss,\n",
    "        valid_loss,\n",
    "        train_metrics.last_step_metrics(),\n",
    "        val_metrics.last_step_metrics(),\n",
    "    )"
   ]
  },
  {
   "cell_type": "markdown",
   "id": "f35d06b3",
   "metadata": {
    "papermill": {
     "duration": 0.055983,
     "end_time": "2024-06-22T15:55:47.081085",
     "exception": false,
     "start_time": "2024-06-22T15:55:47.025102",
     "status": "completed"
    },
    "tags": []
   },
   "source": [
    "# Training"
   ]
  },
  {
   "cell_type": "code",
   "execution_count": 26,
   "id": "07090e95",
   "metadata": {
    "execution": {
     "iopub.execute_input": "2024-06-22T15:55:47.196125Z",
     "iopub.status.busy": "2024-06-22T15:55:47.195796Z",
     "iopub.status.idle": "2024-06-22T15:55:47.200237Z",
     "shell.execute_reply": "2024-06-22T15:55:47.199395Z"
    },
    "papermill": {
     "duration": 0.064823,
     "end_time": "2024-06-22T15:55:47.202386",
     "exception": false,
     "start_time": "2024-06-22T15:55:47.137563",
     "status": "completed"
    },
    "tags": []
   },
   "outputs": [],
   "source": [
    "from tqdm import tqdm\n",
    "from datetime import datetime\n",
    "time_str = str(datetime.now().strftime(\"%Y%m%d-%H%M\"))"
   ]
  },
  {
   "cell_type": "code",
   "execution_count": 27,
   "id": "d9319556",
   "metadata": {
    "execution": {
     "iopub.execute_input": "2024-06-22T15:55:47.317199Z",
     "iopub.status.busy": "2024-06-22T15:55:47.316906Z",
     "iopub.status.idle": "2024-06-22T15:56:03.744169Z",
     "shell.execute_reply": "2024-06-22T15:56:03.743317Z"
    },
    "papermill": {
     "duration": 16.486294,
     "end_time": "2024-06-22T15:56:03.746806",
     "exception": false,
     "start_time": "2024-06-22T15:55:47.260512",
     "status": "completed"
    },
    "tags": []
   },
   "outputs": [
    {
     "name": "stderr",
     "output_type": "stream",
     "text": [
      "\u001b[34m\u001b[1mwandb\u001b[0m: Currently logged in as: \u001b[33mthinh_dao_tuan\u001b[0m. Use \u001b[1m`wandb login --relogin`\u001b[0m to force relogin\n",
      "\u001b[34m\u001b[1mwandb\u001b[0m: Tracking run with wandb version 0.17.2\n",
      "\u001b[34m\u001b[1mwandb\u001b[0m: Run data is saved locally in \u001b[35m\u001b[1m/kaggle/working/wandb/run-20240622_155547-majxi2c7\u001b[0m\n",
      "\u001b[34m\u001b[1mwandb\u001b[0m: Run \u001b[1m`wandb offline`\u001b[0m to turn off syncing.\n",
      "\u001b[34m\u001b[1mwandb\u001b[0m: Syncing run \u001b[33mvit_base125\u001b[0m\n",
      "\u001b[34m\u001b[1mwandb\u001b[0m: ⭐️ View project at \u001b[34m\u001b[4mhttps://wandb.ai/thinh_dao_tuan/eyepacs-airogs-light-v2\u001b[0m\n",
      "\u001b[34m\u001b[1mwandb\u001b[0m: 🚀 View run at \u001b[34m\u001b[4mhttps://wandb.ai/thinh_dao_tuan/eyepacs-airogs-light-v2/runs/majxi2c7\u001b[0m\n"
     ]
    }
   ],
   "source": [
    "for param in model.parameters():\n",
    "    param.requires_grad = True\n",
    "optimizer = torch.optim.Adam(model.parameters(), lr=0.0001, betas=(0.9, 0.999), eps=1e-08, weight_decay=0)\n",
    "# Initialize a new run\n",
    "\n",
    "run = wandb.init(project=\"eyepacs-airogs-light-v2\", name = \"vit_base\" + str(random_seed), reinit=True)\n",
    "\n",
    "model = model.to(device)\n",
    "num_epoch = config.num_epochs\n",
    "best_val_acc = 0.0\n",
    "import logging\n",
    "import numpy as np"
   ]
  },
  {
   "cell_type": "code",
   "execution_count": 28,
   "id": "2713cacf",
   "metadata": {
    "execution": {
     "iopub.execute_input": "2024-06-22T15:56:03.878607Z",
     "iopub.status.busy": "2024-06-22T15:56:03.878213Z",
     "iopub.status.idle": "2024-06-23T01:05:00.248399Z",
     "shell.execute_reply": "2024-06-23T01:05:00.247612Z"
    },
    "papermill": {
     "duration": 32936.502927,
     "end_time": "2024-06-23T01:05:00.315918",
     "exception": false,
     "start_time": "2024-06-22T15:56:03.812991",
     "status": "completed"
    },
    "tags": []
   },
   "outputs": [
    {
     "name": "stdout",
     "output_type": "stream",
     "text": [
      "begin training process\n"
     ]
    },
    {
     "name": "stderr",
     "output_type": "stream",
     "text": [
      "  0%|          | 0/40 [00:00<?, ?it/s]"
     ]
    },
    {
     "name": "stdout",
     "output_type": "stream",
     "text": [
      "Epoch 1 / 40 \n",
      " Training loss: 0.6351338138431311 - Other training metrics: \n",
      "{'accuracy_score': 0.62375, 'f1_score': 0.6237427982019967}\n",
      " \n",
      " Validation loss : 0.5407634871918708 - Other validation metrics:\n",
      "{'accuracy_score': 0.743125, 'f1_score': 0.7366438672983049}\n",
      "\n",
      "\n",
      "Validation accuracy= 0.743125===> Save best epoch\n"
     ]
    },
    {
     "name": "stderr",
     "output_type": "stream",
     "text": [
      "  2%|▎         | 1/40 [13:51<9:00:45, 831.93s/it]"
     ]
    },
    {
     "name": "stdout",
     "output_type": "stream",
     "text": [
      "Epoch 2 / 40 \n",
      " Training loss: 0.47288708405569196 - Other training metrics: \n",
      "{'accuracy_score': 0.776875, 'f1_score': 0.7768634727321362}\n",
      " \n",
      " Validation loss : 0.47819387550058307 - Other validation metrics:\n",
      "{'accuracy_score': 0.78, 'f1_score': 0.7764366091403765}\n",
      "\n",
      "\n",
      "Validation accuracy= 0.78===> Save best epoch\n"
     ]
    },
    {
     "name": "stderr",
     "output_type": "stream",
     "text": [
      "  5%|▌         | 2/40 [27:34<8:43:16, 826.22s/it]"
     ]
    },
    {
     "name": "stdout",
     "output_type": "stream",
     "text": [
      "Epoch 3 / 40 \n",
      " Training loss: 0.36267306735739113 - Other training metrics: \n",
      "{'accuracy_score': 0.8415625, 'f1_score': 0.8415580283466986}\n",
      " \n",
      " Validation loss : 0.38234774917422326 - Other validation metrics:\n",
      "{'accuracy_score': 0.834375, 'f1_score': 0.8343516409931244}\n",
      "\n",
      "\n",
      "Validation accuracy= 0.834375===> Save best epoch\n"
     ]
    },
    {
     "name": "stderr",
     "output_type": "stream",
     "text": [
      "  8%|▊         | 3/40 [41:16<8:28:26, 824.51s/it]"
     ]
    },
    {
     "name": "stdout",
     "output_type": "stream",
     "text": [
      "Epoch 4 / 40 \n",
      " Training loss: 0.2741903127869591 - Other training metrics: \n",
      "{'accuracy_score': 0.88890625, 'f1_score': 0.888906117099603}\n",
      " \n",
      " Validation loss : 0.34438755209324884 - Other validation metrics:\n",
      "{'accuracy_score': 0.85, 'f1_score': 0.849788765451416}\n",
      "\n",
      "\n",
      "Validation accuracy= 0.85===> Save best epoch\n"
     ]
    },
    {
     "name": "stderr",
     "output_type": "stream",
     "text": [
      " 12%|█▎        | 5/40 [1:08:48<8:01:30, 825.43s/it]"
     ]
    },
    {
     "name": "stdout",
     "output_type": "stream",
     "text": [
      "Epoch 5 / 40 \n",
      " Training loss: 0.22674482584698125 - Other training metrics: \n",
      "{'accuracy_score': 0.91171875, 'f1_score': 0.9117186443899798}\n",
      " \n",
      " Validation loss : 0.4051866228005383 - Other validation metrics:\n",
      "{'accuracy_score': 0.82, 'f1_score': 0.8181356057962961}\n",
      "\n",
      "\n",
      "Validation accuracy= 0.82===> No saving\n",
      "Epoch 6 / 40 \n",
      " Training loss: 0.16902228930266575 - Other training metrics: \n",
      "{'accuracy_score': 0.93828125, 'f1_score': 0.9382809953488334}\n",
      " \n",
      " Validation loss : 0.40073852049607467 - Other validation metrics:\n",
      "{'accuracy_score': 0.86625, 'f1_score': 0.866048863997346}\n",
      "\n",
      "\n",
      "Validation accuracy= 0.86625===> Save best epoch\n"
     ]
    },
    {
     "name": "stderr",
     "output_type": "stream",
     "text": [
      " 18%|█▊        | 7/40 [1:36:14<7:33:13, 824.06s/it]"
     ]
    },
    {
     "name": "stdout",
     "output_type": "stream",
     "text": [
      "Epoch 7 / 40 \n",
      " Training loss: 0.14655927349522244 - Other training metrics: \n",
      "{'accuracy_score': 0.94265625, 'f1_score': 0.942655374990463}\n",
      " \n",
      " Validation loss : 0.4364691563769884 - Other validation metrics:\n",
      "{'accuracy_score': 0.855, 'f1_score': 0.8549265565692632}\n",
      "\n",
      "\n",
      "Validation accuracy= 0.855===> No saving\n"
     ]
    },
    {
     "name": "stderr",
     "output_type": "stream",
     "text": [
      " 20%|██        | 8/40 [1:49:56<7:19:12, 823.53s/it]"
     ]
    },
    {
     "name": "stdout",
     "output_type": "stream",
     "text": [
      "Epoch 8 / 40 \n",
      " Training loss: 0.10861999639571877 - Other training metrics: \n",
      "{'accuracy_score': 0.9628125, 'f1_score': 0.9628124854736271}\n",
      " \n",
      " Validation loss : 0.5028614953622673 - Other validation metrics:\n",
      "{'accuracy_score': 0.83125, 'f1_score': 0.8304776136270884}\n",
      "\n",
      "\n",
      "Validation accuracy= 0.83125===> No saving\n",
      "Epoch 9 / 40 \n",
      " Training loss: 0.09178357222335762 - Other training metrics: \n",
      "{'accuracy_score': 0.9671875, 'f1_score': 0.9671868719362207}\n",
      " \n",
      " Validation loss : 0.5028392305349051 - Other validation metrics:\n",
      "{'accuracy_score': 0.87375, 'f1_score': 0.8737450681667253}\n",
      "\n",
      "\n",
      "Validation accuracy= 0.87375===> Save best epoch\n"
     ]
    },
    {
     "name": "stderr",
     "output_type": "stream",
     "text": [
      " 25%|██▌       | 10/40 [2:17:22<6:51:32, 823.09s/it]"
     ]
    },
    {
     "name": "stdout",
     "output_type": "stream",
     "text": [
      "Epoch 10 / 40 \n",
      " Training loss: 0.12264687600906314 - Other training metrics: \n",
      "{'accuracy_score': 0.95640625, 'f1_score': 0.9564061978492113}\n",
      " \n",
      " Validation loss : 0.38427695328457045 - Other validation metrics:\n",
      "{'accuracy_score': 0.85125, 'f1_score': 0.8508388746482494}\n",
      "\n",
      "\n",
      "Validation accuracy= 0.85125===> No saving\n"
     ]
    },
    {
     "name": "stderr",
     "output_type": "stream",
     "text": [
      " 28%|██▊       | 11/40 [2:31:05<6:37:44, 822.93s/it]"
     ]
    },
    {
     "name": "stdout",
     "output_type": "stream",
     "text": [
      "Epoch 11 / 40 \n",
      " Training loss: 0.08618827891134061 - Other training metrics: \n",
      "{'accuracy_score': 0.969375, 'f1_score': 0.969375}\n",
      " \n",
      " Validation loss : 0.4065470367859234 - Other validation metrics:\n",
      "{'accuracy_score': 0.8575, 'f1_score': 0.8574890890083771}\n",
      "\n",
      "\n",
      "Validation accuracy= 0.8575===> No saving\n"
     ]
    },
    {
     "name": "stderr",
     "output_type": "stream",
     "text": [
      " 30%|███       | 12/40 [2:44:47<6:23:54, 822.65s/it]"
     ]
    },
    {
     "name": "stdout",
     "output_type": "stream",
     "text": [
      "Epoch 12 / 40 \n",
      " Training loss: 0.07271103584535013 - Other training metrics: \n",
      "{'accuracy_score': 0.97515625, 'f1_score': 0.975156244541167}\n",
      " \n",
      " Validation loss : 0.4977471541810576 - Other validation metrics:\n",
      "{'accuracy_score': 0.861875, 'f1_score': 0.8618745144025898}\n",
      "\n",
      "\n",
      "Validation accuracy= 0.861875===> No saving\n"
     ]
    },
    {
     "name": "stderr",
     "output_type": "stream",
     "text": [
      " 32%|███▎      | 13/40 [2:58:30<6:10:20, 822.98s/it]"
     ]
    },
    {
     "name": "stdout",
     "output_type": "stream",
     "text": [
      "Epoch 13 / 40 \n",
      " Training loss: 0.05942736511900876 - Other training metrics: \n",
      "{'accuracy_score': 0.97984375, 'f1_score': 0.9798437258872699}\n",
      " \n",
      " Validation loss : 0.45631802430545576 - Other validation metrics:\n",
      "{'accuracy_score': 0.853125, 'f1_score': 0.8528969327836791}\n",
      "\n",
      "\n",
      "Validation accuracy= 0.853125===> No saving\n"
     ]
    },
    {
     "name": "stderr",
     "output_type": "stream",
     "text": [
      " 35%|███▌      | 14/40 [3:12:14<5:56:45, 823.31s/it]"
     ]
    },
    {
     "name": "stdout",
     "output_type": "stream",
     "text": [
      "Epoch 14 / 40 \n",
      " Training loss: 0.06184969405709126 - Other training metrics: \n",
      "{'accuracy_score': 0.9759375, 'f1_score': 0.975937415404976}\n",
      " \n",
      " Validation loss : 0.46160334386886914 - Other validation metrics:\n",
      "{'accuracy_score': 0.863125, 'f1_score': 0.8630260684377113}\n",
      "\n",
      "\n",
      "Validation accuracy= 0.863125===> No saving\n"
     ]
    },
    {
     "name": "stderr",
     "output_type": "stream",
     "text": [
      " 38%|███▊      | 15/40 [3:25:59<5:43:09, 823.58s/it]"
     ]
    },
    {
     "name": "stdout",
     "output_type": "stream",
     "text": [
      "Epoch 15 / 40 \n",
      " Training loss: 0.053347493736455365 - Other training metrics: \n",
      "{'accuracy_score': 0.9803125, 'f1_score': 0.9803124692382332}\n",
      " \n",
      " Validation loss : 0.5617281640009658 - Other validation metrics:\n",
      "{'accuracy_score': 0.8625, 'f1_score': 0.8624690555374959}\n",
      "\n",
      "\n",
      "Validation accuracy= 0.8625===> No saving\n"
     ]
    },
    {
     "name": "stderr",
     "output_type": "stream",
     "text": [
      " 40%|████      | 16/40 [3:39:43<5:29:29, 823.75s/it]"
     ]
    },
    {
     "name": "stdout",
     "output_type": "stream",
     "text": [
      "Epoch 16 / 40 \n",
      " Training loss: 0.05080019463543976 - Other training metrics: \n",
      "{'accuracy_score': 0.9821875, 'f1_score': 0.9821874982604979}\n",
      " \n",
      " Validation loss : 0.45351108881613983 - Other validation metrics:\n",
      "{'accuracy_score': 0.86375, 'f1_score': 0.8637446775264659}\n",
      "\n",
      "\n",
      "Validation accuracy= 0.86375===> No saving\n"
     ]
    },
    {
     "name": "stderr",
     "output_type": "stream",
     "text": [
      " 42%|████▎     | 17/40 [3:53:25<5:15:37, 823.35s/it]"
     ]
    },
    {
     "name": "stdout",
     "output_type": "stream",
     "text": [
      "Epoch 17 / 40 \n",
      " Training loss: 0.03948369184145463 - Other training metrics: \n",
      "{'accuracy_score': 0.98578125, 'f1_score': 0.9857812329902444}\n",
      " \n",
      " Validation loss : 0.572547874639398 - Other validation metrics:\n",
      "{'accuracy_score': 0.864375, 'f1_score': 0.8643469685728027}\n",
      "\n",
      "\n"
     ]
    },
    {
     "name": "stderr",
     "output_type": "stream",
     "text": [
      " 45%|████▌     | 18/40 [4:07:08<5:01:50, 823.21s/it]"
     ]
    },
    {
     "name": "stdout",
     "output_type": "stream",
     "text": [
      "Epoch 18 / 40 \n",
      " Training loss: 0.052097578498187434 - Other training metrics: \n",
      "{'accuracy_score': 0.98125, 'f1_score': 0.9812499981689451}\n",
      " \n",
      " Validation loss : 0.6080226782777578 - Other validation metrics:\n",
      "{'accuracy_score': 0.8625, 'f1_score': 0.8625}\n",
      "\n",
      "\n",
      "Validation accuracy= 0.8625===> No saving\n"
     ]
    },
    {
     "name": "stderr",
     "output_type": "stream",
     "text": [
      " 48%|████▊     | 19/40 [4:20:51<4:48:03, 823.04s/it]"
     ]
    },
    {
     "name": "stdout",
     "output_type": "stream",
     "text": [
      "Epoch 19 / 40 \n",
      " Training loss: 0.0514011542872322 - Other training metrics: \n",
      "{'accuracy_score': 0.98125, 'f1_score': 0.9812498516833972}\n",
      " \n",
      " Validation loss : 0.493338001331465 - Other validation metrics:\n",
      "{'accuracy_score': 0.8525, 'f1_score': 0.8521303258145363}\n",
      "\n",
      "\n",
      "Validation accuracy= 0.8525===> No saving\n"
     ]
    },
    {
     "name": "stderr",
     "output_type": "stream",
     "text": [
      " 50%|█████     | 20/40 [4:34:34<4:34:20, 823.03s/it]"
     ]
    },
    {
     "name": "stdout",
     "output_type": "stream",
     "text": [
      "Epoch 20 / 40 \n",
      " Training loss: 0.03967400463779995 - Other training metrics: \n",
      "{'accuracy_score': 0.986875, 'f1_score': 0.9868749794921555}\n",
      " \n",
      " Validation loss : 0.5025042218615704 - Other validation metrics:\n",
      "{'accuracy_score': 0.856875, 'f1_score': 0.8565598238316614}\n",
      "\n",
      "\n"
     ]
    },
    {
     "name": "stderr",
     "output_type": "stream",
     "text": [
      " 52%|█████▎    | 21/40 [4:48:17<4:20:38, 823.10s/it]"
     ]
    },
    {
     "name": "stdout",
     "output_type": "stream",
     "text": [
      "Epoch 21 / 40 \n",
      " Training loss: 0.04555990301434349 - Other training metrics: \n",
      "{'accuracy_score': 0.98515625, 'f1_score': 0.9851562467384332}\n",
      " \n",
      " Validation loss : 0.3964035173344746 - Other validation metrics:\n",
      "{'accuracy_score': 0.865625, 'f1_score': 0.8655278754068858}\n",
      "\n",
      "\n",
      "Validation accuracy= 0.865625===> No saving\n"
     ]
    },
    {
     "name": "stderr",
     "output_type": "stream",
     "text": [
      " 55%|█████▌    | 22/40 [5:02:00<4:06:56, 823.14s/it]"
     ]
    },
    {
     "name": "stdout",
     "output_type": "stream",
     "text": [
      "Epoch 22 / 40 \n",
      " Training loss: 0.045158097774447015 - Other training metrics: \n",
      "{'accuracy_score': 0.98265625, 'f1_score': 0.9826562495765685}\n",
      " \n",
      " Validation loss : 0.566097909227109 - Other validation metrics:\n",
      "{'accuracy_score': 0.8625, 'f1_score': 0.8621890640758211}\n",
      "\n",
      "\n",
      "Validation accuracy= 0.8625===> No saving\n"
     ]
    },
    {
     "name": "stderr",
     "output_type": "stream",
     "text": [
      " 57%|█████▊    | 23/40 [5:15:43<3:53:11, 823.06s/it]"
     ]
    },
    {
     "name": "stdout",
     "output_type": "stream",
     "text": [
      "Epoch 23 / 40 \n",
      " Training loss: 0.04402972754966641 - Other training metrics: \n",
      "{'accuracy_score': 0.9853125, 'f1_score': 0.9853124942626931}\n",
      " \n",
      " Validation loss : 0.6592676741097762 - Other validation metrics:\n",
      "{'accuracy_score': 0.819375, 'f1_score': 0.8167638127551249}\n",
      "\n",
      "\n",
      "Validation accuracy= 0.819375===> No saving\n"
     ]
    },
    {
     "name": "stderr",
     "output_type": "stream",
     "text": [
      " 60%|██████    | 24/40 [5:29:26<3:39:29, 823.12s/it]"
     ]
    },
    {
     "name": "stdout",
     "output_type": "stream",
     "text": [
      "Epoch 24 / 40 \n",
      " Training loss: 0.040988516383458774 - Other training metrics: \n",
      "{'accuracy_score': 0.98578125, 'f1_score': 0.9857812468757623}\n",
      " \n",
      " Validation loss : 0.5243570613496782 - Other validation metrics:\n",
      "{'accuracy_score': 0.8675, 'f1_score': 0.8673903898691262}\n",
      "\n",
      "\n",
      "Validation accuracy= 0.8675===> No saving\n"
     ]
    },
    {
     "name": "stderr",
     "output_type": "stream",
     "text": [
      " 62%|██████▎   | 25/40 [5:43:11<3:25:52, 823.48s/it]"
     ]
    },
    {
     "name": "stdout",
     "output_type": "stream",
     "text": [
      "Epoch 25 / 40 \n",
      " Training loss: 0.038247445045617494 - Other training metrics: \n",
      "{'accuracy_score': 0.98703125, 'f1_score': 0.9870312116888822}\n",
      " \n",
      " Validation loss : 0.4435884984832694 - Other validation metrics:\n",
      "{'accuracy_score': 0.8725, 'f1_score': 0.8724902375338112}\n",
      "\n",
      "\n"
     ]
    },
    {
     "name": "stderr",
     "output_type": "stream",
     "text": [
      " 65%|██████▌   | 26/40 [5:56:53<3:12:05, 823.26s/it]"
     ]
    },
    {
     "name": "stdout",
     "output_type": "stream",
     "text": [
      "Epoch 26 / 40 \n",
      " Training loss: 0.03678114621335226 - Other training metrics: \n",
      "{'accuracy_score': 0.988125, 'f1_score': 0.9881249953613264}\n",
      " \n",
      " Validation loss : 0.6576579149233523 - Other validation metrics:\n",
      "{'accuracy_score': 0.87375, 'f1_score': 0.8737450681667253}\n",
      "\n",
      "\n"
     ]
    },
    {
     "name": "stderr",
     "output_type": "stream",
     "text": [
      " 68%|██████▊   | 27/40 [6:10:36<2:58:20, 823.13s/it]"
     ]
    },
    {
     "name": "stdout",
     "output_type": "stream",
     "text": [
      "Epoch 27 / 40 \n",
      " Training loss: 0.02921602194875959 - Other training metrics: \n",
      "{'accuracy_score': 0.99015625, 'f1_score': 0.9901562497596741}\n",
      " \n",
      " Validation loss : 0.7690044600660504 - Other validation metrics:\n",
      "{'accuracy_score': 0.86375, 'f1_score': 0.8635707234037228}\n",
      "\n",
      "\n"
     ]
    },
    {
     "name": "stderr",
     "output_type": "stream",
     "text": [
      " 70%|███████   | 28/40 [6:24:19<2:44:35, 822.97s/it]"
     ]
    },
    {
     "name": "stdout",
     "output_type": "stream",
     "text": [
      "Epoch 28 / 40 \n",
      " Training loss: 0.03279328791203625 - Other training metrics: \n",
      "{'accuracy_score': 0.988125, 'f1_score': 0.98812497100823}\n",
      " \n",
      " Validation loss : 0.7053859099024913 - Other validation metrics:\n",
      "{'accuracy_score': 0.81875, 'f1_score': 0.815572955999841}\n",
      "\n",
      "\n"
     ]
    },
    {
     "name": "stderr",
     "output_type": "stream",
     "text": [
      " 72%|███████▎  | 29/40 [6:38:01<2:30:51, 822.82s/it]"
     ]
    },
    {
     "name": "stdout",
     "output_type": "stream",
     "text": [
      "Epoch 29 / 40 \n",
      " Training loss: 0.038962653564822175 - Other training metrics: \n",
      "{'accuracy_score': 0.98515625, 'f1_score': 0.9851562496376038}\n",
      " \n",
      " Validation loss : 0.6743516754722084 - Other validation metrics:\n",
      "{'accuracy_score': 0.8675, 'f1_score': 0.8674328878994991}\n",
      "\n",
      "\n"
     ]
    },
    {
     "name": "stderr",
     "output_type": "stream",
     "text": [
      " 75%|███████▌  | 30/40 [6:51:44<2:17:08, 822.81s/it]"
     ]
    },
    {
     "name": "stdout",
     "output_type": "stream",
     "text": [
      "Epoch 30 / 40 \n",
      " Training loss: 0.03183071414184724 - Other training metrics: \n",
      "{'accuracy_score': 0.9890625, 'f1_score': 0.9890624989318847}\n",
      " \n",
      " Validation loss : 0.5220251738454453 - Other validation metrics:\n",
      "{'accuracy_score': 0.854375, 'f1_score': 0.8543585584466371}\n",
      "\n",
      "\n"
     ]
    },
    {
     "name": "stderr",
     "output_type": "stream",
     "text": [
      " 78%|███████▊  | 31/40 [7:05:27<2:03:26, 822.94s/it]"
     ]
    },
    {
     "name": "stdout",
     "output_type": "stream",
     "text": [
      "Epoch 31 / 40 \n",
      " Training loss: 0.03750482430255943 - Other training metrics: \n",
      "{'accuracy_score': 0.98625, 'f1_score': 0.9862499785155914}\n",
      " \n",
      " Validation loss : 0.5608063296989271 - Other validation metrics:\n",
      "{'accuracy_score': 0.859375, 'f1_score': 0.859048554249275}\n",
      "\n",
      "\n"
     ]
    },
    {
     "name": "stderr",
     "output_type": "stream",
     "text": [
      " 80%|████████  | 32/40 [7:19:11<1:49:44, 823.06s/it]"
     ]
    },
    {
     "name": "stdout",
     "output_type": "stream",
     "text": [
      "Epoch 32 / 40 \n",
      " Training loss: 0.033003961485724174 - Other training metrics: \n",
      "{'accuracy_score': 0.98765625, 'f1_score': 0.9876562424659683}\n",
      " \n",
      " Validation loss : 0.4883014831167952 - Other validation metrics:\n",
      "{'accuracy_score': 0.84875, 'f1_score': 0.8485509865307381}\n",
      "\n",
      "\n"
     ]
    },
    {
     "name": "stderr",
     "output_type": "stream",
     "text": [
      " 82%|████████▎ | 33/40 [7:32:54<1:36:01, 823.12s/it]"
     ]
    },
    {
     "name": "stdout",
     "output_type": "stream",
     "text": [
      "Epoch 33 / 40 \n",
      " Training loss: 0.0749182960404596 - Other training metrics: \n",
      "{'accuracy_score': 0.969375, 'f1_score': 0.9693748534538886}\n",
      " \n",
      " Validation loss : 1.0486691072280518 - Other validation metrics:\n",
      "{'accuracy_score': 0.499375, 'f1_score': 0.33635432962000383}\n",
      "\n",
      "\n",
      "Validation accuracy= 0.499375===> No saving\n"
     ]
    },
    {
     "name": "stderr",
     "output_type": "stream",
     "text": [
      " 85%|████████▌ | 34/40 [7:46:37<1:22:19, 823.19s/it]"
     ]
    },
    {
     "name": "stdout",
     "output_type": "stream",
     "text": [
      "Epoch 34 / 40 \n",
      " Training loss: 0.7064701876044274 - Other training metrics: \n",
      "{'accuracy_score': 0.50328125, 'f1_score': 0.5032663940755064}\n",
      " \n",
      " Validation loss : 0.6948662130907178 - Other validation metrics:\n",
      "{'accuracy_score': 0.5, 'f1_score': 0.3333333333333333}\n",
      "\n",
      "\n",
      "Validation accuracy= 0.5===> No saving\n"
     ]
    },
    {
     "name": "stderr",
     "output_type": "stream",
     "text": [
      " 88%|████████▊ | 35/40 [8:00:21<1:08:36, 823.29s/it]"
     ]
    },
    {
     "name": "stdout",
     "output_type": "stream",
     "text": [
      "Epoch 35 / 40 \n",
      " Training loss: 0.694155795276165 - Other training metrics: \n",
      "{'accuracy_score': 0.50984375, 'f1_score': 0.5089633245976997}\n",
      " \n",
      " Validation loss : 0.6920515837520361 - Other validation metrics:\n",
      "{'accuracy_score': 0.5, 'f1_score': 0.3333333333333333}\n",
      "\n",
      "\n",
      "Validation accuracy= 0.5===> No saving\n"
     ]
    },
    {
     "name": "stderr",
     "output_type": "stream",
     "text": [
      " 90%|█████████ | 36/40 [8:14:04<54:53, 823.33s/it]  "
     ]
    },
    {
     "name": "stdout",
     "output_type": "stream",
     "text": [
      "Epoch 36 / 40 \n",
      " Training loss: 0.6883116033673287 - Other training metrics: \n",
      "{'accuracy_score': 0.54328125, 'f1_score': 0.542970065726637}\n",
      " \n",
      " Validation loss : 0.6890438868105412 - Other validation metrics:\n",
      "{'accuracy_score': 0.5025, 'f1_score': 0.34211477865592227}\n",
      "\n",
      "\n",
      "Validation accuracy= 0.5025===> No saving\n"
     ]
    },
    {
     "name": "stderr",
     "output_type": "stream",
     "text": [
      " 92%|█████████▎| 37/40 [8:27:47<41:09, 823.10s/it]"
     ]
    },
    {
     "name": "stdout",
     "output_type": "stream",
     "text": [
      "Epoch 37 / 40 \n",
      " Training loss: 0.6856355236470699 - Other training metrics: \n",
      "{'accuracy_score': 0.5546875, 'f1_score': 0.5535714285714286}\n",
      " \n",
      " Validation loss : 0.6715517946146429 - Other validation metrics:\n",
      "{'accuracy_score': 0.59, 'f1_score': 0.5807228376627216}\n",
      "\n",
      "\n",
      "Validation accuracy= 0.59===> No saving\n"
     ]
    },
    {
     "name": "stderr",
     "output_type": "stream",
     "text": [
      " 95%|█████████▌| 38/40 [8:41:30<27:26, 823.04s/it]"
     ]
    },
    {
     "name": "stdout",
     "output_type": "stream",
     "text": [
      "Epoch 38 / 40 \n",
      " Training loss: 0.6772522220015526 - Other training metrics: \n",
      "{'accuracy_score': 0.58359375, 'f1_score': 0.5832821781422267}\n",
      " \n",
      " Validation loss : 0.6677354649081826 - Other validation metrics:\n",
      "{'accuracy_score': 0.598125, 'f1_score': 0.5892645047958398}\n",
      "\n",
      "\n",
      "Validation accuracy= 0.598125===> No saving\n"
     ]
    },
    {
     "name": "stderr",
     "output_type": "stream",
     "text": [
      " 98%|█████████▊| 39/40 [8:55:13<13:43, 823.07s/it]"
     ]
    },
    {
     "name": "stdout",
     "output_type": "stream",
     "text": [
      "Epoch 39 / 40 \n",
      " Training loss: 0.6740400704741478 - Other training metrics: \n",
      "{'accuracy_score': 0.59125, 'f1_score': 0.5901603628788454}\n",
      " \n",
      " Validation loss : 0.6607965976186096 - Other validation metrics:\n",
      "{'accuracy_score': 0.60375, 'f1_score': 0.6024355525456039}\n",
      "\n",
      "\n",
      "Validation accuracy= 0.60375===> No saving\n"
     ]
    },
    {
     "name": "stderr",
     "output_type": "stream",
     "text": [
      "100%|██████████| 40/40 [9:08:56<00:00, 823.41s/it]"
     ]
    },
    {
     "name": "stdout",
     "output_type": "stream",
     "text": [
      "Epoch 40 / 40 \n",
      " Training loss: 0.6705580006539822 - Other training metrics: \n",
      "{'accuracy_score': 0.594375, 'f1_score': 0.5935859455256831}\n",
      " \n",
      " Validation loss : 0.6594199274852872 - Other validation metrics:\n",
      "{'accuracy_score': 0.605625, 'f1_score': 0.6039192224325465}\n",
      "\n",
      "\n",
      "Validation accuracy= 0.605625===> No saving\n"
     ]
    },
    {
     "name": "stderr",
     "output_type": "stream",
     "text": [
      "\n"
     ]
    }
   ],
   "source": [
    "print(\"begin training process\")\n",
    "for i in tqdm(range(0, num_epoch)):\n",
    "    loss, val_loss, train_result, val_result = train_one_epoch(\n",
    "        model,\n",
    "        train_loader,\n",
    "        val_loader,\n",
    "        device,\n",
    "        optimizer,\n",
    "        criterion,\n",
    "        train_metrics,\n",
    "        val_metrics,\n",
    "    )\n",
    "    wandb.log({\n",
    "        \"Epoch\": i + 1,\n",
    "        \"Training Loss\": loss,\n",
    "        \"Validation Loss\": val_loss,\n",
    "        \"Training Accuracy\": train_result[\"accuracy_score\"],\n",
    "        \"Validation Accuracy\": val_result[\"accuracy_score\"],\n",
    "        \"Training F1 Score\": train_result[\"f1_score\"],\n",
    "        \"Validation F1 Score\": val_result[\"f1_score\"]\n",
    "    })\n",
    "    scheduler.step(val_loss)\n",
    "    print(\n",
    "        \"Epoch {} / {} \\n Training loss: {} - Other training metrics: \".format(\n",
    "            i + 1, num_epoch, loss\n",
    "        )\n",
    "    )\n",
    "    print(train_result)\n",
    "    print(\n",
    "        \" \\n Validation loss : {} - Other validation metrics:\".format(val_loss)\n",
    "    )\n",
    "    print(val_result)\n",
    "    print(\"\\n\")\n",
    "    # saving epoch with best validation accuracy\n",
    "    if (loss<0.04):\n",
    "        # no saving\n",
    "        continue\n",
    "    if best_val_acc < float(val_result[\"accuracy_score\"]):\n",
    "        print(\n",
    "            \"Validation accuracy= \"+\n",
    "            str(val_result[\"accuracy_score\"])+\n",
    "            \"===> Save best epoch\"\n",
    "        )\n",
    "        best_val_acc = val_result[\"accuracy_score\"]\n",
    "        torch.save(\n",
    "            model,\n",
    "            \"./\" +  \"best.pt\"\n",
    "        )\n",
    "    else:\n",
    "        print(\n",
    "            \"Validation accuracy= \"+ str(val_result[\"accuracy_score\"])+ \"===> No saving\"\n",
    "        )\n",
    "        continue"
   ]
  },
  {
   "cell_type": "code",
   "execution_count": 29,
   "id": "293844e0",
   "metadata": {
    "execution": {
     "iopub.execute_input": "2024-06-23T01:05:00.441184Z",
     "iopub.status.busy": "2024-06-23T01:05:00.440873Z",
     "iopub.status.idle": "2024-06-23T01:05:12.800842Z",
     "shell.execute_reply": "2024-06-23T01:05:12.799740Z"
    },
    "papermill": {
     "duration": 12.425453,
     "end_time": "2024-06-23T01:05:12.803494",
     "exception": false,
     "start_time": "2024-06-23T01:05:00.378041",
     "status": "completed"
    },
    "tags": []
   },
   "outputs": [
    {
     "name": "stdout",
     "output_type": "stream",
     "text": [
      "Collecting lion-pytorch\r\n",
      "  Downloading lion_pytorch-0.2.2-py3-none-any.whl.metadata (618 bytes)\r\n",
      "Requirement already satisfied: torch>=1.6 in /opt/conda/lib/python3.10/site-packages (from lion-pytorch) (2.1.2)\r\n",
      "Requirement already satisfied: filelock in /opt/conda/lib/python3.10/site-packages (from torch>=1.6->lion-pytorch) (3.13.1)\r\n",
      "Requirement already satisfied: typing-extensions in /opt/conda/lib/python3.10/site-packages (from torch>=1.6->lion-pytorch) (4.9.0)\r\n",
      "Requirement already satisfied: sympy in /opt/conda/lib/python3.10/site-packages (from torch>=1.6->lion-pytorch) (1.12.1)\r\n",
      "Requirement already satisfied: networkx in /opt/conda/lib/python3.10/site-packages (from torch>=1.6->lion-pytorch) (3.2.1)\r\n",
      "Requirement already satisfied: jinja2 in /opt/conda/lib/python3.10/site-packages (from torch>=1.6->lion-pytorch) (3.1.2)\r\n",
      "Requirement already satisfied: fsspec in /opt/conda/lib/python3.10/site-packages (from torch>=1.6->lion-pytorch) (2024.3.1)\r\n",
      "Requirement already satisfied: MarkupSafe>=2.0 in /opt/conda/lib/python3.10/site-packages (from jinja2->torch>=1.6->lion-pytorch) (2.1.3)\r\n",
      "Requirement already satisfied: mpmath<1.4.0,>=1.1.0 in /opt/conda/lib/python3.10/site-packages (from sympy->torch>=1.6->lion-pytorch) (1.3.0)\r\n",
      "Downloading lion_pytorch-0.2.2-py3-none-any.whl (5.4 kB)\r\n",
      "Installing collected packages: lion-pytorch\r\n",
      "Successfully installed lion-pytorch-0.2.2\r\n"
     ]
    }
   ],
   "source": [
    "!pip install lion-pytorch\n",
    "from lion_pytorch import Lion\n",
    "optimizer = Lion(model.parameters(), lr=1e-4, weight_decay=1e-2)"
   ]
  },
  {
   "cell_type": "code",
   "execution_count": 30,
   "id": "40c68989",
   "metadata": {
    "execution": {
     "iopub.execute_input": "2024-06-23T01:05:12.931587Z",
     "iopub.status.busy": "2024-06-23T01:05:12.931285Z",
     "iopub.status.idle": "2024-06-23T01:05:13.117543Z",
     "shell.execute_reply": "2024-06-23T01:05:13.116474Z"
    },
    "papermill": {
     "duration": 0.252668,
     "end_time": "2024-06-23T01:05:13.119968",
     "exception": false,
     "start_time": "2024-06-23T01:05:12.867300",
     "status": "completed"
    },
    "tags": []
   },
   "outputs": [],
   "source": [
    "import copy\n",
    "val_model = torch.load(\"/kaggle/working/best.pt\")\n",
    "val_model = val_model.to(device)"
   ]
  },
  {
   "cell_type": "code",
   "execution_count": 31,
   "id": "c795a8ef",
   "metadata": {
    "execution": {
     "iopub.execute_input": "2024-06-23T01:05:13.249857Z",
     "iopub.status.busy": "2024-06-23T01:05:13.248920Z",
     "iopub.status.idle": "2024-06-23T01:05:13.256015Z",
     "shell.execute_reply": "2024-06-23T01:05:13.255153Z"
    },
    "papermill": {
     "duration": 0.074014,
     "end_time": "2024-06-23T01:05:13.257897",
     "exception": false,
     "start_time": "2024-06-23T01:05:13.183883",
     "status": "completed"
    },
    "tags": []
   },
   "outputs": [],
   "source": [
    "def val_result(model, val_loader, device):\n",
    "    # testing the model by turning model \"Eval\" mode\n",
    "    model.eval()\n",
    "    preds = []\n",
    "    labels = []\n",
    "    with torch.no_grad():\n",
    "        for data, target in val_loader:\n",
    "            # move-tensors-to-GPU\n",
    "            data = data.to(device)\n",
    "            target = target.to(device)\n",
    "            # forward-pass: compute-predicted-outputs-by-passing-inputs-to-the-model\n",
    "            output = model(data)\n",
    "            # applying Softmax to results\n",
    "            prob = nn.Softmax(dim=1)\n",
    "            probs = prob(output)\n",
    "            labels.extend(target.tolist())\n",
    "            preds.extend(torch.argmax(probs, axis=1).tolist())\n",
    "    return preds, labels"
   ]
  },
  {
   "cell_type": "code",
   "execution_count": 32,
   "id": "eb15af07",
   "metadata": {
    "execution": {
     "iopub.execute_input": "2024-06-23T01:05:13.384708Z",
     "iopub.status.busy": "2024-06-23T01:05:13.384394Z",
     "iopub.status.idle": "2024-06-23T01:06:12.552752Z",
     "shell.execute_reply": "2024-06-23T01:06:12.551742Z"
    },
    "papermill": {
     "duration": 59.233795,
     "end_time": "2024-06-23T01:06:12.554956",
     "exception": false,
     "start_time": "2024-06-23T01:05:13.321161",
     "status": "completed"
    },
    "tags": []
   },
   "outputs": [],
   "source": [
    "preds, grd_truth = val_result(val_model, val_loader, device)"
   ]
  },
  {
   "cell_type": "code",
   "execution_count": 33,
   "id": "4f146cdd",
   "metadata": {
    "execution": {
     "iopub.execute_input": "2024-06-23T01:06:12.682666Z",
     "iopub.status.busy": "2024-06-23T01:06:12.682334Z",
     "iopub.status.idle": "2024-06-23T01:06:12.686624Z",
     "shell.execute_reply": "2024-06-23T01:06:12.685777Z"
    },
    "papermill": {
     "duration": 0.069594,
     "end_time": "2024-06-23T01:06:12.688567",
     "exception": false,
     "start_time": "2024-06-23T01:06:12.618973",
     "status": "completed"
    },
    "tags": []
   },
   "outputs": [],
   "source": [
    "from sklearn.metrics import classification_report\n",
    "from sklearn.metrics import confusion_matrix, ConfusionMatrixDisplay"
   ]
  },
  {
   "cell_type": "code",
   "execution_count": 34,
   "id": "f692c245",
   "metadata": {
    "execution": {
     "iopub.execute_input": "2024-06-23T01:06:12.813697Z",
     "iopub.status.busy": "2024-06-23T01:06:12.813332Z",
     "iopub.status.idle": "2024-06-23T01:06:12.828551Z",
     "shell.execute_reply": "2024-06-23T01:06:12.827568Z"
    },
    "papermill": {
     "duration": 0.079889,
     "end_time": "2024-06-23T01:06:12.830340",
     "exception": false,
     "start_time": "2024-06-23T01:06:12.750451",
     "status": "completed"
    },
    "tags": []
   },
   "outputs": [
    {
     "name": "stdout",
     "output_type": "stream",
     "text": [
      "              precision    recall  f1-score   support\n",
      "\n",
      "           0   0.878481  0.867500  0.872956       800\n",
      "           1   0.869136  0.880000  0.874534       800\n",
      "\n",
      "    accuracy                       0.873750      1600\n",
      "   macro avg   0.873808  0.873750  0.873745      1600\n",
      "weighted avg   0.873808  0.873750  0.873745      1600\n",
      "\n"
     ]
    }
   ],
   "source": [
    "report = classification_report(grd_truth, preds, digits=6)\n",
    "print(report)"
   ]
  },
  {
   "cell_type": "code",
   "execution_count": 35,
   "id": "4498c5cc",
   "metadata": {
    "execution": {
     "iopub.execute_input": "2024-06-23T01:06:12.957068Z",
     "iopub.status.busy": "2024-06-23T01:06:12.956790Z",
     "iopub.status.idle": "2024-06-23T01:06:13.437667Z",
     "shell.execute_reply": "2024-06-23T01:06:13.436814Z"
    },
    "papermill": {
     "duration": 0.545819,
     "end_time": "2024-06-23T01:06:13.439762",
     "exception": false,
     "start_time": "2024-06-23T01:06:12.893943",
     "status": "completed"
    },
    "tags": []
   },
   "outputs": [
    {
     "data": {
      "text/plain": [
       "<sklearn.metrics._plot.confusion_matrix.ConfusionMatrixDisplay at 0x7a2acb1e14b0>"
      ]
     },
     "execution_count": 35,
     "metadata": {},
     "output_type": "execute_result"
    },
    {
     "data": {
      "image/png": "[encoded data removed]",
      "text/plain": [
       "<Figure size 640x480 with 2 Axes>"
      ]
     },
     "metadata": {},
     "output_type": "display_data"
    }
   ],
   "source": [
    "cm = confusion_matrix(grd_truth, preds)\n",
    "disp = ConfusionMatrixDisplay(confusion_matrix=cm)\n",
    "disp.plot()"
   ]
  },
  {
   "cell_type": "code",
   "execution_count": 36,
   "id": "214cce12",
   "metadata": {
    "execution": {
     "iopub.execute_input": "2024-06-23T01:06:13.567739Z",
     "iopub.status.busy": "2024-06-23T01:06:13.566994Z",
     "iopub.status.idle": "2024-06-23T01:06:13.772580Z",
     "shell.execute_reply": "2024-06-23T01:06:13.771498Z"
    },
    "papermill": {
     "duration": 0.27289,
     "end_time": "2024-06-23T01:06:13.776129",
     "exception": false,
     "start_time": "2024-06-23T01:06:13.503239",
     "status": "completed"
    },
    "tags": []
   },
   "outputs": [
    {
     "name": "stderr",
     "output_type": "stream",
     "text": [
      "\u001b[34m\u001b[1mwandb\u001b[0m: \u001b[33mWARNING\u001b[0m Saving files without folders. If you want to preserve subdirectories pass base_path to wandb.save, i.e. wandb.save(\"/mnt/folder/file.h5\", base_path=\"/mnt\")\n"
     ]
    }
   ],
   "source": [
    "import copy\n",
    "\n",
    "# save model to wandb\n",
    "wandb.save(\"/kaggle/working/best.pt\")\n",
    "test_model = torch.load(\"/kaggle/working/best.pt\")\n",
    "test_model = test_model.to(device)"
   ]
  },
  {
   "cell_type": "code",
   "execution_count": 37,
   "id": "2881071a",
   "metadata": {
    "execution": {
     "iopub.execute_input": "2024-06-23T01:06:13.919130Z",
     "iopub.status.busy": "2024-06-23T01:06:13.918671Z",
     "iopub.status.idle": "2024-06-23T01:06:14.456711Z",
     "shell.execute_reply": "2024-06-23T01:06:14.455794Z"
    },
    "papermill": {
     "duration": 0.610913,
     "end_time": "2024-06-23T01:06:14.459222",
     "exception": false,
     "start_time": "2024-06-23T01:06:13.848309",
     "status": "completed"
    },
    "tags": []
   },
   "outputs": [
    {
     "data": {
      "image/png": "[encoded data removed]",
      "text/plain": [
       "<Figure size 640x480 with 2 Axes>"
      ]
     },
     "metadata": {},
     "output_type": "display_data"
    }
   ],
   "source": [
    "cm = confusion_matrix(grd_truth, preds)\n",
    "disp = ConfusionMatrixDisplay(confusion_matrix=cm)\n",
    "disp.plot()\n",
    "\n",
    "# save confusion matrix plot to wandb\n",
    "\n",
    "wandb.log({\"confusion_matrix\": disp.figure_})"
   ]
  }
 ],
 "metadata": {
  "kaggle": {
   "accelerator": "gpu",
   "dataSources": [
    {
     "datasetId": 4154884,
     "sourceId": 7802508,
     "sourceType": "datasetVersion"
    }
   ],
   "dockerImageVersionId": 30733,
   "isGpuEnabled": true,
   "isInternetEnabled": true,
   "language": "python",
   "sourceType": "notebook"
  },
  "kernelspec": {
   "display_name": "Python 3",
   "language": "python",
   "name": "python3"
  },
  "language_info": {
   "codemirror_mode": {
    "name": "ipython",
    "version": 3
   },
   "file_extension": ".py",
   "mimetype": "text/x-python",
   "name": "python",
   "nbconvert_exporter": "python",
   "pygments_lexer": "ipython3",
   "version": "3.10.13"
  },
  "papermill": {
   "default_parameters": {},
   "duration": 33182.45806,
   "end_time": "2024-06-23T01:06:17.336827",
   "environment_variables": {},
   "exception": null,
   "input_path": "__notebook__.ipynb",
   "output_path": "__notebook__.ipynb",
   "parameters": {},
   "start_time": "2024-06-22T15:53:14.878767",
   "version": "2.4.0"
  },
  "widgets": {
   "application/vnd.jupyter.widget-state+json": {
    "state": {
     "18f1d8bd94e64e16b6c53085e275811f": {
      "model_module": "@jupyter-widgets/controls",
      "model_module_version": "1.5.0",
      "model_name": "ProgressStyleModel",
      "state": {
       "_model_module": "@jupyter-widgets/controls",
       "_model_module_version": "1.5.0",
       "_model_name": "ProgressStyleModel",
       "_view_count": null,
       "_view_module": "@jupyter-widgets/base",
       "_view_module_version": "1.2.0",
       "_view_name": "StyleView",
       "bar_color": null,
       "description_width": ""
      }
     },
     "1ee86f0776d848718b12c6c75b4e49f6": {
      "model_module": "@jupyter-widgets/controls",
      "model_module_version": "1.5.0",
      "model_name": "HTMLModel",
      "state": {
       "_dom_classes": [],
       "_model_module": "@jupyter-widgets/controls",
       "_model_module_version": "1.5.0",
       "_model_name": "HTMLModel",
       "_view_count": null,
       "_view_module": "@jupyter-widgets/controls",
       "_view_module_version": "1.5.0",
       "_view_name": "HTMLView",
       "description": "",
       "description_tooltip": null,
       "layout": "IPY_MODEL_3df63282fa274e48809eb38ebcdb38b1",
       "placeholder": "​",
       "style": "IPY_MODEL_45b4e0bf1d4f4f8783938e03cf1ddd48",
       "value": "model.safetensors: 100%"
      }
     },
     "3df63282fa274e48809eb38ebcdb38b1": {
      "model_module": "@jupyter-widgets/base",
      "model_module_version": "1.2.0",
      "model_name": "LayoutModel",
      "state": {
       "_model_module": "@jupyter-widgets/base",
       "_model_module_version": "1.2.0",
       "_model_name": "LayoutModel",
       "_view_count": null,
       "_view_module": "@jupyter-widgets/base",
       "_view_module_version": "1.2.0",
       "_view_name": "LayoutView",
       "align_content": null,
       "align_items": null,
       "align_self": null,
       "border": null,
       "bottom": null,
       "display": null,
       "flex": null,
       "flex_flow": null,
       "grid_area": null,
       "grid_auto_columns": null,
       "grid_auto_flow": null,
       "grid_auto_rows": null,
       "grid_column": null,
       "grid_gap": null,
       "grid_row": null,
       "grid_template_areas": null,
       "grid_template_columns": null,
       "grid_template_rows": null,
       "height": null,
       "justify_content": null,
       "justify_items": null,
       "left": null,
       "margin": null,
       "max_height": null,
       "max_width": null,
       "min_height": null,
       "min_width": null,
       "object_fit": null,
       "object_position": null,
       "order": null,
       "overflow": null,
       "overflow_x": null,
       "overflow_y": null,
       "padding": null,
       "right": null,
       "top": null,
       "visibility": null,
       "width": null
      }
     },
     "45b4e0bf1d4f4f8783938e03cf1ddd48": {
      "model_module": "@jupyter-widgets/controls",
      "model_module_version": "1.5.0",
      "model_name": "DescriptionStyleModel",
      "state": {
       "_model_module": "@jupyter-widgets/controls",
       "_model_module_version": "1.5.0",
       "_model_name": "DescriptionStyleModel",
       "_view_count": null,
       "_view_module": "@jupyter-widgets/base",
       "_view_module_version": "1.2.0",
       "_view_name": "StyleView",
       "description_width": ""
      }
     },
     "53edf862e9d64e5680d0d696ec02cb00": {
      "model_module": "@jupyter-widgets/controls",
      "model_module_version": "1.5.0",
      "model_name": "FloatProgressModel",
      "state": {
       "_dom_classes": [],
       "_model_module": "@jupyter-widgets/controls",
       "_model_module_version": "1.5.0",
       "_model_name": "FloatProgressModel",
       "_view_count": null,
       "_view_module": "@jupyter-widgets/controls",
       "_view_module_version": "1.5.0",
       "_view_name": "ProgressView",
       "bar_style": "success",
       "description": "",
       "description_tooltip": null,
       "layout": "IPY_MODEL_a5b2a552f7e84b98932862343ae8c7d6",
       "max": 346321582.0,
       "min": 0.0,
       "orientation": "horizontal",
       "style": "IPY_MODEL_18f1d8bd94e64e16b6c53085e275811f",
       "value": 346321582.0
      }
     },
     "776e9be847ac45249f553d436ea120d4": {
      "model_module": "@jupyter-widgets/controls",
      "model_module_version": "1.5.0",
      "model_name": "HTMLModel",
      "state": {
       "_dom_classes": [],
       "_model_module": "@jupyter-widgets/controls",
       "_model_module_version": "1.5.0",
       "_model_name": "HTMLModel",
       "_view_count": null,
       "_view_module": "@jupyter-widgets/controls",
       "_view_module_version": "1.5.0",
       "_view_name": "HTMLView",
       "description": "",
       "description_tooltip": null,
       "layout": "IPY_MODEL_d82ca4aa696f48329841e7fb0fac9fc2",
       "placeholder": "​",
       "style": "IPY_MODEL_8d12ab7c08364af39f6e3df92f71ae3c",
       "value": " 346M/346M [00:05&lt;00:00, 81.2MB/s]"
      }
     },
     "8d12ab7c08364af39f6e3df92f71ae3c": {
      "model_module": "@jupyter-widgets/controls",
      "model_module_version": "1.5.0",
      "model_name": "DescriptionStyleModel",
      "state": {
       "_model_module": "@jupyter-widgets/controls",
       "_model_module_version": "1.5.0",
       "_model_name": "DescriptionStyleModel",
       "_view_count": null,
       "_view_module": "@jupyter-widgets/base",
       "_view_module_version": "1.2.0",
       "_view_name": "StyleView",
       "description_width": ""
      }
     },
     "8e44167c596640318568b06159735e4d": {
      "model_module": "@jupyter-widgets/base",
      "model_module_version": "1.2.0",
      "model_name": "LayoutModel",
      "state": {
       "_model_module": "@jupyter-widgets/base",
       "_model_module_version": "1.2.0",
       "_model_name": "LayoutModel",
       "_view_count": null,
       "_view_module": "@jupyter-widgets/base",
       "_view_module_version": "1.2.0",
       "_view_name": "LayoutView",
       "align_content": null,
       "align_items": null,
       "align_self": null,
       "border": null,
       "bottom": null,
       "display": null,
       "flex": null,
       "flex_flow": null,
       "grid_area": null,
       "grid_auto_columns": null,
       "grid_auto_flow": null,
       "grid_auto_rows": null,
       "grid_column": null,
       "grid_gap": null,
       "grid_row": null,
       "grid_template_areas": null,
       "grid_template_columns": null,
       "grid_template_rows": null,
       "height": null,
       "justify_content": null,
       "justify_items": null,
       "left": null,
       "margin": null,
       "max_height": null,
       "max_width": null,
       "min_height": null,
       "min_width": null,
       "object_fit": null,
       "object_position": null,
       "order": null,
       "overflow": null,
       "overflow_x": null,
       "overflow_y": null,
       "padding": null,
       "right": null,
       "top": null,
       "visibility": null,
       "width": null
      }
     },
     "a5b2a552f7e84b98932862343ae8c7d6": {
      "model_module": "@jupyter-widgets/base",
      "model_module_version": "1.2.0",
      "model_name": "LayoutModel",
      "state": {
       "_model_module": "@jupyter-widgets/base",
       "_model_module_version": "1.2.0",
       "_model_name": "LayoutModel",
       "_view_count": null,
       "_view_module": "@jupyter-widgets/base",
       "_view_module_version": "1.2.0",
       "_view_name": "LayoutView",
       "align_content": null,
       "align_items": null,
       "align_self": null,
       "border": null,
       "bottom": null,
       "display": null,
       "flex": null,
       "flex_flow": null,
       "grid_area": null,
       "grid_auto_columns": null,
       "grid_auto_flow": null,
       "grid_auto_rows": null,
       "grid_column": null,
       "grid_gap": null,
       "grid_row": null,
       "grid_template_areas": null,
       "grid_template_columns": null,
       "grid_template_rows": null,
       "height": null,
       "justify_content": null,
       "justify_items": null,
       "left": null,
       "margin": null,
       "max_height": null,
       "max_width": null,
       "min_height": null,
       "min_width": null,
       "object_fit": null,
       "object_position": null,
       "order": null,
       "overflow": null,
       "overflow_x": null,
       "overflow_y": null,
       "padding": null,
       "right": null,
       "top": null,
       "visibility": null,
       "width": null
      }
     },
     "cc0ec1930ef6474c882bf3cbfbcb8a21": {
      "model_module": "@jupyter-widgets/controls",
      "model_module_version": "1.5.0",
      "model_name": "HBoxModel",
      "state": {
       "_dom_classes": [],
       "_model_module": "@jupyter-widgets/controls",
       "_model_module_version": "1.5.0",
       "_model_name": "HBoxModel",
       "_view_count": null,
       "_view_module": "@jupyter-widgets/controls",
       "_view_module_version": "1.5.0",
       "_view_name": "HBoxView",
       "box_style": "",
       "children": [
        "IPY_MODEL_1ee86f0776d848718b12c6c75b4e49f6",
        "IPY_MODEL_53edf862e9d64e5680d0d696ec02cb00",
        "IPY_MODEL_776e9be847ac45249f553d436ea120d4"
       ],
       "layout": "IPY_MODEL_8e44167c596640318568b06159735e4d"
      }
     },
     "d82ca4aa696f48329841e7fb0fac9fc2": {
      "model_module": "@jupyter-widgets/base",
      "model_module_version": "1.2.0",
      "model_name": "LayoutModel",
      "state": {
       "_model_module": "@jupyter-widgets/base",
       "_model_module_version": "1.2.0",
       "_model_name": "LayoutModel",
       "_view_count": null,
       "_view_module": "@jupyter-widgets/base",
       "_view_module_version": "1.2.0",
       "_view_name": "LayoutView",
       "align_content": null,
       "align_items": null,
       "align_self": null,
       "border": null,
       "bottom": null,
       "display": null,
       "flex": null,
       "flex_flow": null,
       "grid_area": null,
       "grid_auto_columns": null,
       "grid_auto_flow": null,
       "grid_auto_rows": null,
       "grid_column": null,
       "grid_gap": null,
       "grid_row": null,
       "grid_template_areas": null,
       "grid_template_columns": null,
       "grid_template_rows": null,
       "height": null,
       "justify_content": null,
       "justify_items": null,
       "left": null,
       "margin": null,
       "max_height": null,
       "max_width": null,
       "min_height": null,
       "min_width": null,
       "object_fit": null,
       "object_position": null,
       "order": null,
       "overflow": null,
       "overflow_x": null,
       "overflow_y": null,
       "padding": null,
       "right": null,
       "top": null,
       "visibility": null,
       "width": null
      }
     }
    },
    "version_major": 2,
    "version_minor": 0
   }
  }
 },
 "nbformat": 4,
 "nbformat_minor": 5
}
