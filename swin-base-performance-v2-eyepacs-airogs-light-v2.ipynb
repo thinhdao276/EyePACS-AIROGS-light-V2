{
 "cells": [
  {
   "cell_type": "code",
   "execution_count": 1,
   "id": "571e4367",
   "metadata": {
    "_cell_guid": "b1076dfc-b9ad-4769-8c92-a6c4dae69d19",
    "_uuid": "8f2839f25d086af736a60e9eeb907d3b93b6e0e5",
    "execution": {
     "iopub.execute_input": "2024-06-21T02:30:43.249848Z",
     "iopub.status.busy": "2024-06-21T02:30:43.249127Z",
     "iopub.status.idle": "2024-06-21T02:30:49.877653Z",
     "shell.execute_reply": "2024-06-21T02:30:49.876717Z"
    },
    "papermill": {
     "duration": 6.646461,
     "end_time": "2024-06-21T02:30:49.880085",
     "exception": false,
     "start_time": "2024-06-21T02:30:43.233624",
     "status": "completed"
    },
    "tags": []
   },
   "outputs": [],
   "source": [
    "import albumentations\n",
    "from albumentations.pytorch import ToTensorV2\n",
    "from torchvision import transforms\n",
    "from sklearn.model_selection import train_test_split\n",
    "import torch\n",
    "import numpy as np\n",
    "import os"
   ]
  },
  {
   "cell_type": "code",
   "execution_count": 2,
   "id": "eaa2fae8",
   "metadata": {
    "execution": {
     "iopub.execute_input": "2024-06-21T02:30:49.913277Z",
     "iopub.status.busy": "2024-06-21T02:30:49.911636Z",
     "iopub.status.idle": "2024-06-21T02:30:51.965951Z",
     "shell.execute_reply": "2024-06-21T02:30:51.965160Z"
    },
    "papermill": {
     "duration": 2.073267,
     "end_time": "2024-06-21T02:30:51.968118",
     "exception": false,
     "start_time": "2024-06-21T02:30:49.894851",
     "status": "completed"
    },
    "tags": []
   },
   "outputs": [],
   "source": [
    "import pandas as pd\n",
    "import matplotlib.pyplot as plt\n",
    "import os\n",
    "import seaborn as sns\n",
    "from pathlib import Path\n",
    "from sklearn.model_selection import train_test_split, StratifiedKFold\n",
    "from sklearn.preprocessing import LabelEncoder\n",
    "from sklearn.metrics import classification_report, f1_score, recall_score, precision_score\n",
    "import torch\n",
    "from torch.utils.data import DataLoader, Dataset\n",
    "from torch.utils.data import RandomSampler\n",
    "from PIL import Image\n",
    "import cv2\n",
    "\n",
    "import torch\n",
    "import torch.nn as nn\n",
    "import torchvision.transforms as transforms\n",
    "import torchvision.models as models\n",
    "from torchvision.utils import make_grid\n",
    "from torchvision.datasets import ImageFolder\n",
    "import torch.nn.functional as F\n",
    "import timm\n",
    "\n",
    "from tqdm import tqdm\n",
    "from sklearn.metrics import confusion_matrix\n",
    "\n",
    "from IPython.display import display, HTML\n",
    "import warnings\n",
    "warnings.filterwarnings(\"ignore\")"
   ]
  },
  {
   "cell_type": "markdown",
   "id": "49ec5f49",
   "metadata": {
    "papermill": {
     "duration": 0.013361,
     "end_time": "2024-06-21T02:30:51.995559",
     "exception": false,
     "start_time": "2024-06-21T02:30:51.982198",
     "status": "completed"
    },
    "tags": []
   },
   "source": [
    "### Pick cropped dataset"
   ]
  },
  {
   "cell_type": "code",
   "execution_count": 3,
   "id": "226d48f5",
   "metadata": {
    "execution": {
     "iopub.execute_input": "2024-06-21T02:30:52.025146Z",
     "iopub.status.busy": "2024-06-21T02:30:52.024850Z",
     "iopub.status.idle": "2024-06-21T02:30:52.032648Z",
     "shell.execute_reply": "2024-06-21T02:30:52.031814Z"
    },
    "papermill": {
     "duration": 0.025363,
     "end_time": "2024-06-21T02:30:52.034597",
     "exception": false,
     "start_time": "2024-06-21T02:30:52.009234",
     "status": "completed"
    },
    "tags": []
   },
   "outputs": [
    {
     "data": {
      "text/plain": [
       "'/kaggle/input/glaucoma-dataset-eyepacs-airogs-light-v2/eyepac-light-v2-512-jpg'"
      ]
     },
     "execution_count": 3,
     "metadata": {},
     "output_type": "execute_result"
    }
   ],
   "source": [
    "class config:\n",
    "    root_path = '/kaggle/input/glaucoma-dataset-eyepacs-airogs-light-v2/eyepac-light-v2-512-jpg'\n",
    "    train_path = root_path + '/train'\n",
    "    test_path = root_path + '/test'\n",
    "    valid_path = root_path + '/validation'\n",
    "    output_path = \"/kaggle/working/\"\n",
    "    batch_size = 16\n",
    "    lr = 1e-3\n",
    "    seed = 1\n",
    "    num_epochs = 60\n",
    "    model_names = 'swin_base_patch4_window7_224.ms_in1k'\n",
    "    \n",
    "config.root_path"
   ]
  },
  {
   "cell_type": "code",
   "execution_count": 4,
   "id": "393506ca",
   "metadata": {
    "execution": {
     "iopub.execute_input": "2024-06-21T02:30:52.063184Z",
     "iopub.status.busy": "2024-06-21T02:30:52.062925Z",
     "iopub.status.idle": "2024-06-21T02:30:52.068175Z",
     "shell.execute_reply": "2024-06-21T02:30:52.067354Z"
    },
    "papermill": {
     "duration": 0.021816,
     "end_time": "2024-06-21T02:30:52.070091",
     "exception": false,
     "start_time": "2024-06-21T02:30:52.048275",
     "status": "completed"
    },
    "tags": []
   },
   "outputs": [
    {
     "data": {
      "text/plain": [
       "'/kaggle/input/glaucoma-dataset-eyepacs-airogs-light-v2/eyepac-light-v2-512-jpg/train'"
      ]
     },
     "execution_count": 4,
     "metadata": {},
     "output_type": "execute_result"
    }
   ],
   "source": [
    "config.train_path"
   ]
  },
  {
   "cell_type": "code",
   "execution_count": 5,
   "id": "2aa0e3b7",
   "metadata": {
    "execution": {
     "iopub.execute_input": "2024-06-21T02:30:52.098792Z",
     "iopub.status.busy": "2024-06-21T02:30:52.098523Z",
     "iopub.status.idle": "2024-06-21T02:30:59.071786Z",
     "shell.execute_reply": "2024-06-21T02:30:59.070983Z"
    },
    "papermill": {
     "duration": 6.990484,
     "end_time": "2024-06-21T02:30:59.074349",
     "exception": false,
     "start_time": "2024-06-21T02:30:52.083865",
     "status": "completed"
    },
    "tags": []
   },
   "outputs": [],
   "source": [
    "def get_df(path): \n",
    "    paths = Path(path).rglob(\"*.jpg\")\n",
    "    files = [str(path) for path in paths]\n",
    "    labels = [file.split('/')[-2] for file in files]\n",
    "    \n",
    "    df = pd.DataFrame()\n",
    "    df['path'] = files\n",
    "    df['label'] = labels\n",
    "    df['label'] = df['label'].map({'RG':1, 'NRG': 0})\n",
    "    return df\n",
    "\n",
    "# Assuming CFG.path_to_data is set to the correct data path, the following lines will create your dataframes:\n",
    "train_df = get_df(config.train_path)\n",
    "valid_df = get_df(config.valid_path)\n",
    "test_df = get_df(config.test_path)"
   ]
  },
  {
   "cell_type": "code",
   "execution_count": 6,
   "id": "a8b3d694",
   "metadata": {
    "execution": {
     "iopub.execute_input": "2024-06-21T02:30:59.104171Z",
     "iopub.status.busy": "2024-06-21T02:30:59.103848Z",
     "iopub.status.idle": "2024-06-21T02:30:59.117759Z",
     "shell.execute_reply": "2024-06-21T02:30:59.116901Z"
    },
    "papermill": {
     "duration": 0.03091,
     "end_time": "2024-06-21T02:30:59.119753",
     "exception": false,
     "start_time": "2024-06-21T02:30:59.088843",
     "status": "completed"
    },
    "tags": []
   },
   "outputs": [
    {
     "data": {
      "text/html": [
       "<div>\n",
       "<style scoped>\n",
       "    .dataframe tbody tr th:only-of-type {\n",
       "        vertical-align: middle;\n",
       "    }\n",
       "\n",
       "    .dataframe tbody tr th {\n",
       "        vertical-align: top;\n",
       "    }\n",
       "\n",
       "    .dataframe thead th {\n",
       "        text-align: right;\n",
       "    }\n",
       "</style>\n",
       "<table border=\"1\" class=\"dataframe\">\n",
       "  <thead>\n",
       "    <tr style=\"text-align: right;\">\n",
       "      <th></th>\n",
       "      <th>path</th>\n",
       "      <th>label</th>\n",
       "    </tr>\n",
       "  </thead>\n",
       "  <tbody>\n",
       "    <tr>\n",
       "      <th>0</th>\n",
       "      <td>/kaggle/input/glaucoma-dataset-eyepacs-airogs-...</td>\n",
       "      <td>1</td>\n",
       "    </tr>\n",
       "    <tr>\n",
       "      <th>1</th>\n",
       "      <td>/kaggle/input/glaucoma-dataset-eyepacs-airogs-...</td>\n",
       "      <td>1</td>\n",
       "    </tr>\n",
       "    <tr>\n",
       "      <th>2</th>\n",
       "      <td>/kaggle/input/glaucoma-dataset-eyepacs-airogs-...</td>\n",
       "      <td>1</td>\n",
       "    </tr>\n",
       "    <tr>\n",
       "      <th>3</th>\n",
       "      <td>/kaggle/input/glaucoma-dataset-eyepacs-airogs-...</td>\n",
       "      <td>1</td>\n",
       "    </tr>\n",
       "    <tr>\n",
       "      <th>4</th>\n",
       "      <td>/kaggle/input/glaucoma-dataset-eyepacs-airogs-...</td>\n",
       "      <td>1</td>\n",
       "    </tr>\n",
       "    <tr>\n",
       "      <th>...</th>\n",
       "      <td>...</td>\n",
       "      <td>...</td>\n",
       "    </tr>\n",
       "    <tr>\n",
       "      <th>7995</th>\n",
       "      <td>/kaggle/input/glaucoma-dataset-eyepacs-airogs-...</td>\n",
       "      <td>0</td>\n",
       "    </tr>\n",
       "    <tr>\n",
       "      <th>7996</th>\n",
       "      <td>/kaggle/input/glaucoma-dataset-eyepacs-airogs-...</td>\n",
       "      <td>0</td>\n",
       "    </tr>\n",
       "    <tr>\n",
       "      <th>7997</th>\n",
       "      <td>/kaggle/input/glaucoma-dataset-eyepacs-airogs-...</td>\n",
       "      <td>0</td>\n",
       "    </tr>\n",
       "    <tr>\n",
       "      <th>7998</th>\n",
       "      <td>/kaggle/input/glaucoma-dataset-eyepacs-airogs-...</td>\n",
       "      <td>0</td>\n",
       "    </tr>\n",
       "    <tr>\n",
       "      <th>7999</th>\n",
       "      <td>/kaggle/input/glaucoma-dataset-eyepacs-airogs-...</td>\n",
       "      <td>0</td>\n",
       "    </tr>\n",
       "  </tbody>\n",
       "</table>\n",
       "<p>8000 rows × 2 columns</p>\n",
       "</div>"
      ],
      "text/plain": [
       "                                                   path  label\n",
       "0     /kaggle/input/glaucoma-dataset-eyepacs-airogs-...      1\n",
       "1     /kaggle/input/glaucoma-dataset-eyepacs-airogs-...      1\n",
       "2     /kaggle/input/glaucoma-dataset-eyepacs-airogs-...      1\n",
       "3     /kaggle/input/glaucoma-dataset-eyepacs-airogs-...      1\n",
       "4     /kaggle/input/glaucoma-dataset-eyepacs-airogs-...      1\n",
       "...                                                 ...    ...\n",
       "7995  /kaggle/input/glaucoma-dataset-eyepacs-airogs-...      0\n",
       "7996  /kaggle/input/glaucoma-dataset-eyepacs-airogs-...      0\n",
       "7997  /kaggle/input/glaucoma-dataset-eyepacs-airogs-...      0\n",
       "7998  /kaggle/input/glaucoma-dataset-eyepacs-airogs-...      0\n",
       "7999  /kaggle/input/glaucoma-dataset-eyepacs-airogs-...      0\n",
       "\n",
       "[8000 rows x 2 columns]"
      ]
     },
     "execution_count": 6,
     "metadata": {},
     "output_type": "execute_result"
    }
   ],
   "source": [
    "train_df"
   ]
  },
  {
   "cell_type": "code",
   "execution_count": 7,
   "id": "61b55ad2",
   "metadata": {
    "execution": {
     "iopub.execute_input": "2024-06-21T02:30:59.149287Z",
     "iopub.status.busy": "2024-06-21T02:30:59.148626Z",
     "iopub.status.idle": "2024-06-21T02:30:59.160823Z",
     "shell.execute_reply": "2024-06-21T02:30:59.160033Z"
    },
    "papermill": {
     "duration": 0.028865,
     "end_time": "2024-06-21T02:30:59.162627",
     "exception": false,
     "start_time": "2024-06-21T02:30:59.133762",
     "status": "completed"
    },
    "tags": []
   },
   "outputs": [],
   "source": [
    "from PIL import Image\n",
    "import os\n",
    "import torch\n",
    "from sklearn.model_selection import train_test_split\n",
    "\n",
    "    \n",
    "# define a data class\n",
    "class ClassificationDataset:\n",
    "    def __init__(self, data, data_path, transform, training=True):\n",
    "        \"\"\"Define the dataset for classification problems\n",
    "\n",
    "        Args:\n",
    "            data ([dataframe]): [a dataframe that contain 2 columns: image name and label]\n",
    "            data_path ([str]): [path/to/folder that contains image file]\n",
    "            transform : [augmentation methods and transformation of images]\n",
    "            training (bool, optional): []. Defaults to True.\n",
    "        \"\"\"\n",
    "        self.data = data\n",
    "        self.imgs = data[\"path\"].unique().tolist()\n",
    "        self.data_path = data_path\n",
    "        self.training = training\n",
    "        self.transform = transform\n",
    "\n",
    "    def __getitem__(self, idx):\n",
    "        img = Image.open(os.path.join(self.data_path, self.data.iloc[idx, 0]))\n",
    "        if(self.training):\n",
    "            label = self.data.iloc[idx, 1]\n",
    "        if self.transform is not None:\n",
    "            img = self.transform(img)\n",
    "        if(self.training):\n",
    "            return img, label\n",
    "        else:\n",
    "            return img\n",
    "\n",
    "    def __len__(self):\n",
    "        return len(self.imgs)\n",
    "\n",
    "\n",
    "def make_loader(dataset, train_batch_size, validation_split=0.2):\n",
    "    \"\"\"make dataloader for pytorch training\n",
    "\n",
    "    Args:\n",
    "        dataset ([object]): [the dataset object]\n",
    "        train_batch_size ([int]): [training batch size]\n",
    "        validation_split (float, optional): [validation ratio]. Defaults to 0.2.\n",
    "\n",
    "    Returns:\n",
    "        [type]: [description]\n",
    "    \"\"\"\n",
    "    # number of samples in train and test set\n",
    "    train_len = int(len(dataset) * (1 - validation_split))\n",
    "    test_len = len(dataset) - train_len\n",
    "    train_set, test_set = torch.utils.data.random_split(dataset, [train_len, test_len])\n",
    "    # create train_loader\n",
    "    print(len(train_set))\n",
    "    train_loader = torch.utils.data.DataLoader(\n",
    "        train_set, batch_size=train_batch_size, shuffle=True,\n",
    "    )\n",
    "    # create test_loader\n",
    "    test_loader = torch.utils.data.DataLoader(test_set, batch_size=1, shuffle=False,)\n",
    "    return train_loader, test_loader\n",
    "\n",
    "\n",
    "def data_split(data, test_size):\n",
    "    x_train, x_test, y_train, y_test = train_test_split(\n",
    "        data, data[\"label\"], test_size=test_size, stratify = data.iloc[:,1]\n",
    "    )\n",
    "    return x_train, x_test, y_train, y_test"
   ]
  },
  {
   "cell_type": "markdown",
   "id": "7a53efd9",
   "metadata": {
    "papermill": {
     "duration": 0.013991,
     "end_time": "2024-06-21T02:30:59.190526",
     "exception": false,
     "start_time": "2024-06-21T02:30:59.176535",
     "status": "completed"
    },
    "tags": []
   },
   "source": [
    "# 1. Define DataLoader"
   ]
  },
  {
   "cell_type": "code",
   "execution_count": 8,
   "id": "a883548b",
   "metadata": {
    "execution": {
     "iopub.execute_input": "2024-06-21T02:30:59.219497Z",
     "iopub.status.busy": "2024-06-21T02:30:59.219205Z",
     "iopub.status.idle": "2024-06-21T02:30:59.224033Z",
     "shell.execute_reply": "2024-06-21T02:30:59.223369Z"
    },
    "papermill": {
     "duration": 0.02121,
     "end_time": "2024-06-21T02:30:59.225785",
     "exception": false,
     "start_time": "2024-06-21T02:30:59.204575",
     "status": "completed"
    },
    "tags": []
   },
   "outputs": [],
   "source": [
    "mean = (0.5, 0.5, 0.5)\n",
    "std = (0.5, 0.5, 0.5)"
   ]
  },
  {
   "cell_type": "code",
   "execution_count": 9,
   "id": "3a30bcf6",
   "metadata": {
    "execution": {
     "iopub.execute_input": "2024-06-21T02:30:59.254565Z",
     "iopub.status.busy": "2024-06-21T02:30:59.254302Z",
     "iopub.status.idle": "2024-06-21T02:30:59.258689Z",
     "shell.execute_reply": "2024-06-21T02:30:59.257906Z"
    },
    "papermill": {
     "duration": 0.020892,
     "end_time": "2024-06-21T02:30:59.260529",
     "exception": false,
     "start_time": "2024-06-21T02:30:59.239637",
     "status": "completed"
    },
    "tags": []
   },
   "outputs": [],
   "source": [
    "import torchvision\n",
    "transform = torchvision.transforms.Compose([torchvision.transforms.Resize((224, 224)),\n",
    "                                               torchvision.transforms.ToTensor(),\n",
    "                                               torchvision.transforms.Normalize(mean, std)])"
   ]
  },
  {
   "cell_type": "code",
   "execution_count": 10,
   "id": "7067e0f2",
   "metadata": {
    "execution": {
     "iopub.execute_input": "2024-06-21T02:30:59.289507Z",
     "iopub.status.busy": "2024-06-21T02:30:59.289191Z",
     "iopub.status.idle": "2024-06-21T02:30:59.293613Z",
     "shell.execute_reply": "2024-06-21T02:30:59.292846Z"
    },
    "papermill": {
     "duration": 0.020929,
     "end_time": "2024-06-21T02:30:59.295460",
     "exception": false,
     "start_time": "2024-06-21T02:30:59.274531",
     "status": "completed"
    },
    "tags": []
   },
   "outputs": [],
   "source": [
    "test_transform = torchvision.transforms.Compose([torchvision.transforms.Resize((224, 224)),\n",
    "                                               torchvision.transforms.ToTensor(),\n",
    "                                               torchvision.transforms.Normalize(mean, std)])"
   ]
  },
  {
   "cell_type": "code",
   "execution_count": 11,
   "id": "388a6a65",
   "metadata": {
    "execution": {
     "iopub.execute_input": "2024-06-21T02:30:59.325479Z",
     "iopub.status.busy": "2024-06-21T02:30:59.325127Z",
     "iopub.status.idle": "2024-06-21T02:30:59.355512Z",
     "shell.execute_reply": "2024-06-21T02:30:59.354486Z"
    },
    "papermill": {
     "duration": 0.048153,
     "end_time": "2024-06-21T02:30:59.357707",
     "exception": false,
     "start_time": "2024-06-21T02:30:59.309554",
     "status": "completed"
    },
    "tags": []
   },
   "outputs": [
    {
     "name": "stdout",
     "output_type": "stream",
     "text": [
      "6400\n"
     ]
    }
   ],
   "source": [
    "dataset = ClassificationDataset(train_df,data_path = \"\",transform=transform,training=True)\n",
    "train_loader,val_loader = make_loader(dataset, train_batch_size=config.batch_size, validation_split=0.2)"
   ]
  },
  {
   "cell_type": "code",
   "execution_count": 12,
   "id": "0c8402d7",
   "metadata": {
    "execution": {
     "iopub.execute_input": "2024-06-21T02:30:59.389305Z",
     "iopub.status.busy": "2024-06-21T02:30:59.388344Z",
     "iopub.status.idle": "2024-06-21T02:30:59.393776Z",
     "shell.execute_reply": "2024-06-21T02:30:59.392757Z"
    },
    "papermill": {
     "duration": 0.022924,
     "end_time": "2024-06-21T02:30:59.395715",
     "exception": false,
     "start_time": "2024-06-21T02:30:59.372791",
     "status": "completed"
    },
    "tags": []
   },
   "outputs": [
    {
     "name": "stdout",
     "output_type": "stream",
     "text": [
      "121\n"
     ]
    }
   ],
   "source": [
    "import random\n",
    "\n",
    "# Generate a random integer between 0 and 2^32 - 1\n",
    "random_seed = random.randint(0, 128)\n",
    "print(random_seed)"
   ]
  },
  {
   "cell_type": "code",
   "execution_count": 13,
   "id": "ec36a3cb",
   "metadata": {
    "execution": {
     "iopub.execute_input": "2024-06-21T02:30:59.425212Z",
     "iopub.status.busy": "2024-06-21T02:30:59.424949Z",
     "iopub.status.idle": "2024-06-21T02:30:59.436657Z",
     "shell.execute_reply": "2024-06-21T02:30:59.435979Z"
    },
    "papermill": {
     "duration": 0.028752,
     "end_time": "2024-06-21T02:30:59.438556",
     "exception": false,
     "start_time": "2024-06-21T02:30:59.409804",
     "status": "completed"
    },
    "tags": []
   },
   "outputs": [],
   "source": [
    " X_train, X_test, y_train, y_test = train_test_split(train_df, train_df['label'],stratify=train_df['label'], test_size=0.2, random_state=random_seed)"
   ]
  },
  {
   "cell_type": "code",
   "execution_count": 14,
   "id": "b10ed0fd",
   "metadata": {
    "execution": {
     "iopub.execute_input": "2024-06-21T02:30:59.468379Z",
     "iopub.status.busy": "2024-06-21T02:30:59.467671Z",
     "iopub.status.idle": "2024-06-21T02:30:59.475600Z",
     "shell.execute_reply": "2024-06-21T02:30:59.474757Z"
    },
    "papermill": {
     "duration": 0.024905,
     "end_time": "2024-06-21T02:30:59.477549",
     "exception": false,
     "start_time": "2024-06-21T02:30:59.452644",
     "status": "completed"
    },
    "tags": []
   },
   "outputs": [],
   "source": [
    "train_dataset = ClassificationDataset(X_train,data_path = \"\",transform=transform,training=True)\n",
    "val_dataset = ClassificationDataset(X_test,data_path = \"\",transform=test_transform,training=True)"
   ]
  },
  {
   "cell_type": "code",
   "execution_count": 15,
   "id": "9089e51d",
   "metadata": {
    "execution": {
     "iopub.execute_input": "2024-06-21T02:30:59.506927Z",
     "iopub.status.busy": "2024-06-21T02:30:59.506391Z",
     "iopub.status.idle": "2024-06-21T02:30:59.511047Z",
     "shell.execute_reply": "2024-06-21T02:30:59.510257Z"
    },
    "papermill": {
     "duration": 0.021272,
     "end_time": "2024-06-21T02:30:59.512885",
     "exception": false,
     "start_time": "2024-06-21T02:30:59.491613",
     "status": "completed"
    },
    "tags": []
   },
   "outputs": [],
   "source": [
    "train_loader = torch.utils.data.DataLoader(\n",
    "        train_dataset, batch_size=config.batch_size, shuffle=True,\n",
    "    )\n",
    "    # create test_loader\n",
    "val_loader = torch.utils.data.DataLoader(val_dataset, batch_size=1, shuffle=False)"
   ]
  },
  {
   "cell_type": "code",
   "execution_count": 16,
   "id": "b33bd7b9",
   "metadata": {
    "execution": {
     "iopub.execute_input": "2024-06-21T02:30:59.542125Z",
     "iopub.status.busy": "2024-06-21T02:30:59.541862Z",
     "iopub.status.idle": "2024-06-21T02:30:59.546508Z",
     "shell.execute_reply": "2024-06-21T02:30:59.545771Z"
    },
    "papermill": {
     "duration": 0.0214,
     "end_time": "2024-06-21T02:30:59.548411",
     "exception": false,
     "start_time": "2024-06-21T02:30:59.527011",
     "status": "completed"
    },
    "tags": []
   },
   "outputs": [],
   "source": [
    "testset = ClassificationDataset(test_df,data_path = \"\",transform=test_transform,training=False)\n",
    "test_loader = torch.utils.data.DataLoader(\n",
    "        testset, batch_size=1, shuffle=False,\n",
    "    )"
   ]
  },
  {
   "cell_type": "code",
   "execution_count": 17,
   "id": "4015189b",
   "metadata": {
    "execution": {
     "iopub.execute_input": "2024-06-21T02:30:59.577983Z",
     "iopub.status.busy": "2024-06-21T02:30:59.577709Z",
     "iopub.status.idle": "2024-06-21T02:31:08.754464Z",
     "shell.execute_reply": "2024-06-21T02:31:08.753452Z"
    },
    "papermill": {
     "duration": 9.194344,
     "end_time": "2024-06-21T02:31:08.756899",
     "exception": false,
     "start_time": "2024-06-21T02:30:59.562555",
     "status": "completed"
    },
    "tags": []
   },
   "outputs": [
    {
     "name": "stderr",
     "output_type": "stream",
     "text": [
      "100%|██████████| 770/770 [00:09<00:00, 84.38it/s]\n"
     ]
    }
   ],
   "source": [
    "from tqdm import tqdm\n",
    "psum    = torch.tensor([0.0, 0.0, 0.0])\n",
    "psum_sq = torch.tensor([0.0, 0.0, 0.0])\n",
    "\n",
    "# loop through images\n",
    "for inputs in tqdm(test_loader):\n",
    "    psum    += inputs.sum(axis        = [0, 2, 3])\n",
    "    psum_sq += (inputs ** 2).sum(axis = [0, 2, 3])\n",
    "\n",
    "count = len(test_df) * 224 * 224\n",
    "\n",
    "# mean and std\n",
    "test_mean = psum / count\n",
    "test_var  = (psum_sq / count) - (test_mean ** 2)\n",
    "test_std  = torch.sqrt(test_var)"
   ]
  },
  {
   "cell_type": "code",
   "execution_count": 18,
   "id": "d8754b2f",
   "metadata": {
    "execution": {
     "iopub.execute_input": "2024-06-21T02:31:08.807875Z",
     "iopub.status.busy": "2024-06-21T02:31:08.806987Z",
     "iopub.status.idle": "2024-06-21T02:32:22.652334Z",
     "shell.execute_reply": "2024-06-21T02:32:22.651106Z"
    },
    "papermill": {
     "duration": 73.870967,
     "end_time": "2024-06-21T02:32:22.654212",
     "exception": false,
     "start_time": "2024-06-21T02:31:08.783245",
     "status": "completed"
    },
    "tags": []
   },
   "outputs": [
    {
     "name": "stderr",
     "output_type": "stream",
     "text": [
      "100%|██████████| 400/400 [01:13<00:00,  5.42it/s]\n"
     ]
    }
   ],
   "source": [
    "psum    = torch.tensor([0.0, 0.0, 0.0])\n",
    "psum_sq = torch.tensor([0.0, 0.0, 0.0])\n",
    "\n",
    "# loop through images\n",
    "for inputs,_ in tqdm(train_loader):\n",
    "    psum    += inputs.sum(axis        = [0, 2, 3])\n",
    "    psum_sq += (inputs ** 2).sum(axis = [0, 2, 3])\n",
    "\n",
    "count = len(train_loader) * 224 * 224\n",
    "\n",
    "# mean and std\n",
    "train_mean = psum / count\n",
    "train_var  = (psum_sq / count) - (train_mean ** 2)\n",
    "train_std  = torch.sqrt(train_var)"
   ]
  },
  {
   "cell_type": "code",
   "execution_count": 19,
   "id": "3d130860",
   "metadata": {
    "execution": {
     "iopub.execute_input": "2024-06-21T02:32:22.758823Z",
     "iopub.status.busy": "2024-06-21T02:32:22.758546Z",
     "iopub.status.idle": "2024-06-21T02:32:22.764849Z",
     "shell.execute_reply": "2024-06-21T02:32:22.763947Z"
    },
    "papermill": {
     "duration": 0.060321,
     "end_time": "2024-06-21T02:32:22.766632",
     "exception": false,
     "start_time": "2024-06-21T02:32:22.706311",
     "status": "completed"
    },
    "tags": []
   },
   "outputs": [],
   "source": [
    "def imshow(inp, title=None):\n",
    "    \"\"\"Imshow for Tensor.\"\"\"\n",
    "    inp = inp.numpy().transpose((1, 2, 0))\n",
    "    mean = np.array([0.485, 0.456, 0.406])\n",
    "    std = np.array([0.229, 0.224, 0.225])\n",
    "    inp = std * inp + mean\n",
    "    inp = np.clip(inp, 0, 1)\n",
    "    plt.figure(figsize = (12, 12))\n",
    "    plt.imshow(inp)\n",
    "    if title is not None:\n",
    "        plt.title(title)\n",
    "    plt.axis(\"off\")\n",
    "    plt.pause(0.001)"
   ]
  },
  {
   "cell_type": "code",
   "execution_count": 20,
   "id": "8a7a27fb",
   "metadata": {
    "execution": {
     "iopub.execute_input": "2024-06-21T02:32:22.870026Z",
     "iopub.status.busy": "2024-06-21T02:32:22.869480Z",
     "iopub.status.idle": "2024-06-21T02:32:23.554382Z",
     "shell.execute_reply": "2024-06-21T02:32:23.553616Z"
    },
    "papermill": {
     "duration": 0.738853,
     "end_time": "2024-06-21T02:32:23.556278",
     "exception": false,
     "start_time": "2024-06-21T02:32:22.817425",
     "status": "completed"
    },
    "tags": []
   },
   "outputs": [
    {
     "data": {
      "image/png": "[encoded data removed]",
      "text/plain": [
       "<Figure size 1200x1200 with 1 Axes>"
      ]
     },
     "metadata": {},
     "output_type": "display_data"
    }
   ],
   "source": [
    "import matplotlib.pyplot as plt\n",
    "\n",
    "%matplotlib inline\n",
    "# Visualization\n",
    "images, classes = next(iter(train_loader))\n",
    "# Make a grid from batch\n",
    "out = torchvision.utils.make_grid(images, nrow=8)\n",
    "imshow(out, title=classes)"
   ]
  },
  {
   "cell_type": "markdown",
   "id": "559eb527",
   "metadata": {
    "papermill": {
     "duration": 0.054293,
     "end_time": "2024-06-21T02:32:23.665436",
     "exception": false,
     "start_time": "2024-06-21T02:32:23.611143",
     "status": "completed"
    },
    "tags": []
   },
   "source": [
    "# 2. Define Metrics and Optimizers and Loss function\n"
   ]
  },
  {
   "cell_type": "code",
   "execution_count": 21,
   "id": "4ff9fac1",
   "metadata": {
    "execution": {
     "iopub.execute_input": "2024-06-21T02:32:23.776483Z",
     "iopub.status.busy": "2024-06-21T02:32:23.775597Z",
     "iopub.status.idle": "2024-06-21T02:32:23.785301Z",
     "shell.execute_reply": "2024-06-21T02:32:23.784375Z"
    },
    "papermill": {
     "duration": 0.06739,
     "end_time": "2024-06-21T02:32:23.787136",
     "exception": false,
     "start_time": "2024-06-21T02:32:23.719746",
     "status": "completed"
    },
    "tags": []
   },
   "outputs": [],
   "source": [
    "from sklearn import metrics as skmetrics\n",
    "import numpy\n",
    "class Metrics:\n",
    "    def __init__(self, metric_names):\n",
    "        self.metric_names = metric_names\n",
    "        # initialize a metric dictionary\n",
    "        self.metric_dict = {metric_name: [0] for metric_name in self.metric_names}\n",
    "\n",
    "    def step(self, labels, preds):\n",
    "        for metric in self.metric_names:\n",
    "            # get the metric function\n",
    "            do_metric = getattr(\n",
    "                skmetrics, metric, \"The metric {} is not implemented\".format(metric)\n",
    "            )\n",
    "            # check if metric require average method, if yes set to 'micro' or 'macro' or 'None'\n",
    "            try:\n",
    "                self.metric_dict[metric].append(\n",
    "                    do_metric(labels, preds, average=\"macro\")\n",
    "                )\n",
    "            except:\n",
    "                self.metric_dict[metric].append(do_metric(labels, preds))\n",
    "\n",
    "    def epoch(self):\n",
    "        # calculate metrics for an entire epoch\n",
    "        avg = [sum(metric) / (len(metric) - 1) for metric in self.metric_dict.values()]\n",
    "        metric_as_dict = dict(zip(self.metric_names, avg))\n",
    "        return metric_as_dict\n",
    "\n",
    "    def last_step_metrics(self):\n",
    "        # return metrics of last steps\n",
    "        values = [self.metric_dict[metric][-1] for metric in self.metric_names]\n",
    "        metric_as_dict = dict(zip(self.metric_names, values))\n",
    "        return metric_as_dict"
   ]
  },
  {
   "cell_type": "code",
   "execution_count": 22,
   "id": "2cb7dd5d",
   "metadata": {
    "execution": {
     "iopub.execute_input": "2024-06-21T02:32:23.896644Z",
     "iopub.status.busy": "2024-06-21T02:32:23.895872Z",
     "iopub.status.idle": "2024-06-21T02:32:23.900096Z",
     "shell.execute_reply": "2024-06-21T02:32:23.899287Z"
    },
    "papermill": {
     "duration": 0.061003,
     "end_time": "2024-06-21T02:32:23.901989",
     "exception": false,
     "start_time": "2024-06-21T02:32:23.840986",
     "status": "completed"
    },
    "tags": []
   },
   "outputs": [],
   "source": [
    "train_metrics = Metrics([\"accuracy_score\",\"f1_score\"])\n",
    "val_metrics = Metrics([\"accuracy_score\",\"f1_score\"])"
   ]
  },
  {
   "cell_type": "code",
   "execution_count": 23,
   "id": "2d0262ae",
   "metadata": {
    "execution": {
     "iopub.execute_input": "2024-06-21T02:32:24.012968Z",
     "iopub.status.busy": "2024-06-21T02:32:24.012646Z",
     "iopub.status.idle": "2024-06-21T02:32:24.076784Z",
     "shell.execute_reply": "2024-06-21T02:32:24.076069Z"
    },
    "papermill": {
     "duration": 0.121112,
     "end_time": "2024-06-21T02:32:24.078684",
     "exception": false,
     "start_time": "2024-06-21T02:32:23.957572",
     "status": "completed"
    },
    "tags": []
   },
   "outputs": [],
   "source": [
    "device = torch.device(\"cuda:0\" if torch.cuda.is_available() else \"cpu\")\n",
    "from torch import nn\n",
    "# criterion = nn.CrossEntropyLoss()"
   ]
  },
  {
   "cell_type": "code",
   "execution_count": 24,
   "id": "3fd39b49",
   "metadata": {
    "execution": {
     "iopub.execute_input": "2024-06-21T02:32:24.189572Z",
     "iopub.status.busy": "2024-06-21T02:32:24.188887Z",
     "iopub.status.idle": "2024-06-21T02:32:24.193068Z",
     "shell.execute_reply": "2024-06-21T02:32:24.192204Z"
    },
    "papermill": {
     "duration": 0.061088,
     "end_time": "2024-06-21T02:32:24.194990",
     "exception": false,
     "start_time": "2024-06-21T02:32:24.133902",
     "status": "completed"
    },
    "tags": []
   },
   "outputs": [],
   "source": [
    "criterion = nn.CrossEntropyLoss()"
   ]
  },
  {
   "cell_type": "code",
   "execution_count": 25,
   "id": "37b3d3d2",
   "metadata": {
    "execution": {
     "iopub.execute_input": "2024-06-21T02:32:24.305049Z",
     "iopub.status.busy": "2024-06-21T02:32:24.304308Z",
     "iopub.status.idle": "2024-06-21T02:32:40.246449Z",
     "shell.execute_reply": "2024-06-21T02:32:40.245298Z"
    },
    "papermill": {
     "duration": 15.999663,
     "end_time": "2024-06-21T02:32:40.249129",
     "exception": false,
     "start_time": "2024-06-21T02:32:24.249466",
     "status": "completed"
    },
    "tags": []
   },
   "outputs": [
    {
     "name": "stdout",
     "output_type": "stream",
     "text": [
      "Found existing installation: timm 1.0.3\r\n",
      "Uninstalling timm-1.0.3:\r\n",
      "  Successfully uninstalled timm-1.0.3\r\n",
      "Collecting timm==0.4.12\r\n",
      "  Downloading timm-0.4.12-py3-none-any.whl.metadata (30 kB)\r\n",
      "Requirement already satisfied: torch>=1.4 in /opt/conda/lib/python3.10/site-packages (from timm==0.4.12) (2.1.2)\r\n",
      "Requirement already satisfied: torchvision in /opt/conda/lib/python3.10/site-packages (from timm==0.4.12) (0.16.2)\r\n",
      "Requirement already satisfied: filelock in /opt/conda/lib/python3.10/site-packages (from torch>=1.4->timm==0.4.12) (3.13.1)\r\n",
      "Requirement already satisfied: typing-extensions in /opt/conda/lib/python3.10/site-packages (from torch>=1.4->timm==0.4.12) (4.9.0)\r\n",
      "Requirement already satisfied: sympy in /opt/conda/lib/python3.10/site-packages (from torch>=1.4->timm==0.4.12) (1.12.1)\r\n",
      "Requirement already satisfied: networkx in /opt/conda/lib/python3.10/site-packages (from torch>=1.4->timm==0.4.12) (3.2.1)\r\n",
      "Requirement already satisfied: jinja2 in /opt/conda/lib/python3.10/site-packages (from torch>=1.4->timm==0.4.12) (3.1.2)\r\n",
      "Requirement already satisfied: fsspec in /opt/conda/lib/python3.10/site-packages (from torch>=1.4->timm==0.4.12) (2024.3.1)\r\n",
      "Requirement already satisfied: numpy in /opt/conda/lib/python3.10/site-packages (from torchvision->timm==0.4.12) (1.26.4)\r\n",
      "Requirement already satisfied: requests in /opt/conda/lib/python3.10/site-packages (from torchvision->timm==0.4.12) (2.32.3)\r\n",
      "Requirement already satisfied: pillow!=8.3.*,>=5.3.0 in /opt/conda/lib/python3.10/site-packages (from torchvision->timm==0.4.12) (9.5.0)\r\n",
      "Requirement already satisfied: MarkupSafe>=2.0 in /opt/conda/lib/python3.10/site-packages (from jinja2->torch>=1.4->timm==0.4.12) (2.1.3)\r\n",
      "Requirement already satisfied: charset-normalizer<4,>=2 in /opt/conda/lib/python3.10/site-packages (from requests->torchvision->timm==0.4.12) (3.3.2)\r\n",
      "Requirement already satisfied: idna<4,>=2.5 in /opt/conda/lib/python3.10/site-packages (from requests->torchvision->timm==0.4.12) (3.6)\r\n",
      "Requirement already satisfied: urllib3<3,>=1.21.1 in /opt/conda/lib/python3.10/site-packages (from requests->torchvision->timm==0.4.12) (1.26.18)\r\n",
      "Requirement already satisfied: certifi>=2017.4.17 in /opt/conda/lib/python3.10/site-packages (from requests->torchvision->timm==0.4.12) (2024.2.2)\r\n",
      "Requirement already satisfied: mpmath<1.4.0,>=1.1.0 in /opt/conda/lib/python3.10/site-packages (from sympy->torch>=1.4->timm==0.4.12) (1.3.0)\r\n",
      "Downloading timm-0.4.12-py3-none-any.whl (376 kB)\r\n",
      "\u001b[2K   \u001b[90m━━━━━━━━━━━━━━━━━━━━━━━━━━━━━━━━━━━━━━━━\u001b[0m \u001b[32m377.0/377.0 kB\u001b[0m \u001b[31m6.9 MB/s\u001b[0m eta \u001b[36m0:00:00\u001b[0m\r\n",
      "\u001b[?25hInstalling collected packages: timm\r\n",
      "Successfully installed timm-0.4.12\r\n"
     ]
    }
   ],
   "source": [
    "!pip uninstall timm -y\n",
    "!pip install timm==0.4.12"
   ]
  },
  {
   "cell_type": "markdown",
   "id": "242f0787",
   "metadata": {
    "papermill": {
     "duration": 0.054884,
     "end_time": "2024-06-21T02:32:40.360306",
     "exception": false,
     "start_time": "2024-06-21T02:32:40.305422",
     "status": "completed"
    },
    "tags": []
   },
   "source": [
    "4. Define the Model: Transfer Learning\n"
   ]
  },
  {
   "cell_type": "code",
   "execution_count": 26,
   "id": "a0b9f71c",
   "metadata": {
    "execution": {
     "iopub.execute_input": "2024-06-21T02:32:40.471888Z",
     "iopub.status.busy": "2024-06-21T02:32:40.471522Z",
     "iopub.status.idle": "2024-06-21T02:33:00.640099Z",
     "shell.execute_reply": "2024-06-21T02:33:00.639345Z"
    },
    "papermill": {
     "duration": 20.22753,
     "end_time": "2024-06-21T02:33:00.642677",
     "exception": false,
     "start_time": "2024-06-21T02:32:40.415147",
     "status": "completed"
    },
    "tags": []
   },
   "outputs": [
    {
     "data": {
      "application/vnd.jupyter.widget-view+json": {
       "model_id": "6767f6ee7d8f45e7b96ef28a24e3e6ab",
       "version_major": 2,
       "version_minor": 0
      },
      "text/plain": [
       "model.safetensors:   0%|          | 0.00/353M [00:00<?, ?B/s]"
      ]
     },
     "metadata": {},
     "output_type": "display_data"
    }
   ],
   "source": [
    "from torchvision import models\n",
    "from torch import nn\n",
    "import timm\n",
    "# Tải mô hình Swin Transformer đã được pretrain\n",
    "model = timm.create_model('swin_base_patch4_window7_224', pretrained=True)\n",
    "# Đặt requires_grad = False cho tất cả các tham số của mô hình\n",
    "for param in model.parameters():\n",
    "    param.requires_grad = True\n",
    "# Tạo một bộ phân loại mới\n",
    "classifier = nn.Sequential(\n",
    "    nn.Linear(in_features=model.head.fc.in_features, out_features=256, bias=True),\n",
    "    nn.Linear(in_features=256, out_features=2, bias=True)\n",
    ")\n",
    "# Thay thế bộ phân loại hiện tại của mô hình bằng bộ phân loại mới\n",
    "model.head.fc = classifier"
   ]
  },
  {
   "cell_type": "code",
   "execution_count": 27,
   "id": "b755472f",
   "metadata": {
    "execution": {
     "iopub.execute_input": "2024-06-21T02:33:00.755970Z",
     "iopub.status.busy": "2024-06-21T02:33:00.755445Z",
     "iopub.status.idle": "2024-06-21T02:33:00.762840Z",
     "shell.execute_reply": "2024-06-21T02:33:00.761998Z"
    },
    "papermill": {
     "duration": 0.065704,
     "end_time": "2024-06-21T02:33:00.764882",
     "exception": false,
     "start_time": "2024-06-21T02:33:00.699178",
     "status": "completed"
    },
    "tags": []
   },
   "outputs": [],
   "source": [
    "optimizer = torch.optim.Adam(model.parameters(), lr=0.01)\n",
    "scheduler = torch.optim.lr_scheduler.ReduceLROnPlateau(\n",
    "        optimizer, \"min\", patience=2, factor=0.5\n",
    "    )"
   ]
  },
  {
   "cell_type": "markdown",
   "id": "417ae4e2",
   "metadata": {
    "papermill": {
     "duration": 0.055463,
     "end_time": "2024-06-21T02:33:00.875252",
     "exception": false,
     "start_time": "2024-06-21T02:33:00.819789",
     "status": "completed"
    },
    "tags": []
   },
   "source": [
    "# 3. Define a training epoch\n"
   ]
  },
  {
   "cell_type": "code",
   "execution_count": 28,
   "id": "19ca73e9",
   "metadata": {
    "execution": {
     "iopub.execute_input": "2024-06-21T02:33:00.988169Z",
     "iopub.status.busy": "2024-06-21T02:33:00.987418Z",
     "iopub.status.idle": "2024-06-21T02:33:01.236981Z",
     "shell.execute_reply": "2024-06-21T02:33:01.236197Z"
    },
    "papermill": {
     "duration": 0.308123,
     "end_time": "2024-06-21T02:33:01.239187",
     "exception": false,
     "start_time": "2024-06-21T02:33:00.931064",
     "status": "completed"
    },
    "tags": []
   },
   "outputs": [],
   "source": [
    "model = model.to(device)"
   ]
  },
  {
   "cell_type": "code",
   "execution_count": 29,
   "id": "c5523a42",
   "metadata": {
    "execution": {
     "iopub.execute_input": "2024-06-21T02:33:01.353815Z",
     "iopub.status.busy": "2024-06-21T02:33:01.353013Z",
     "iopub.status.idle": "2024-06-21T02:33:01.365300Z",
     "shell.execute_reply": "2024-06-21T02:33:01.364400Z"
    },
    "papermill": {
     "duration": 0.070647,
     "end_time": "2024-06-21T02:33:01.367048",
     "exception": false,
     "start_time": "2024-06-21T02:33:01.296401",
     "status": "completed"
    },
    "tags": []
   },
   "outputs": [],
   "source": [
    "def train_one_epoch(\n",
    "    model,\n",
    "    train_loader,\n",
    "    test_loader,\n",
    "    device,\n",
    "    optimizer,\n",
    "    criterion,\n",
    "    train_metrics,\n",
    "    val_metrics,\n",
    "):\n",
    "\n",
    "    # training-the-model\n",
    "    train_loss = 0\n",
    "    valid_loss = 0\n",
    "    all_labels = []\n",
    "    all_preds = []\n",
    "    model.train()\n",
    "    for data, target in train_loader:\n",
    "        # move-tensors-to-GPU\n",
    "        data = data.type(torch.FloatTensor).to(device)\n",
    "        # target=torch.Tensor(target)\n",
    "        target = target.float().to(device)\n",
    "        # clear-the-gradients-of-all-optimized-variables\n",
    "        optimizer.zero_grad()\n",
    "        # forward-pass: compute-predicted-outputs-by-passing-inputs-to-the-model\n",
    "        output = model(data)\n",
    "        # get the prediction label and target label\n",
    "        output = model(data)\n",
    "        preds = torch.argmax(output, axis=1).cpu().detach().numpy()\n",
    "        labels = target.cpu().numpy()\n",
    "        # calculate-the-batch-loss\n",
    "        loss = criterion(output.type(torch.FloatTensor).to(device), target.type(torch.LongTensor).to(device))\n",
    "        # backward-pass: compute-gradient-of-the-loss-wrt-model-parameters\n",
    "        loss.backward()\n",
    "        # perform-a-ingle-optimization-step (parameter-update)\n",
    "        optimizer.step()\n",
    "        # update-training-loss\n",
    "        train_loss += loss.item() * data.size(0)\n",
    "        # calculate training metrics\n",
    "        all_labels.extend(labels)\n",
    "        all_preds.extend(preds)\n",
    "    \n",
    "    train_metrics.step(all_labels, all_preds)\n",
    "\n",
    "    # validate-the-model\n",
    "    model.eval()\n",
    "    all_labels = []\n",
    "    all_preds = []\n",
    "    for data, target in test_loader:\n",
    "        data = data.type(torch.FloatTensor).to(device)\n",
    "        target = target.to(device)\n",
    "        output = model(data)\n",
    "        preds = torch.argmax(output, axis=1).tolist()\n",
    "        labels = target.tolist()\n",
    "        all_labels.extend(labels)\n",
    "        all_preds.extend(preds)\n",
    "        loss = criterion(output, target)\n",
    "\n",
    "        # update-average-validation-loss\n",
    "        valid_loss += loss.item() * data.size(0)\n",
    "\n",
    "    val_metrics.step(all_labels, all_preds)\n",
    "    train_loss = train_loss / len(train_loader.sampler)\n",
    "    valid_loss = valid_loss / len(test_loader.sampler)\n",
    "\n",
    "    return (\n",
    "        train_loss,\n",
    "        valid_loss,\n",
    "        train_metrics.last_step_metrics(),\n",
    "        val_metrics.last_step_metrics(),\n",
    "    )"
   ]
  },
  {
   "cell_type": "markdown",
   "id": "4afae081",
   "metadata": {
    "papermill": {
     "duration": 0.055451,
     "end_time": "2024-06-21T02:33:01.478430",
     "exception": false,
     "start_time": "2024-06-21T02:33:01.422979",
     "status": "completed"
    },
    "tags": []
   },
   "source": [
    "# Training"
   ]
  },
  {
   "cell_type": "code",
   "execution_count": 30,
   "id": "ecf7fd95",
   "metadata": {
    "execution": {
     "iopub.execute_input": "2024-06-21T02:33:01.591115Z",
     "iopub.status.busy": "2024-06-21T02:33:01.590474Z",
     "iopub.status.idle": "2024-06-21T02:33:01.594991Z",
     "shell.execute_reply": "2024-06-21T02:33:01.594162Z"
    },
    "papermill": {
     "duration": 0.062761,
     "end_time": "2024-06-21T02:33:01.596842",
     "exception": false,
     "start_time": "2024-06-21T02:33:01.534081",
     "status": "completed"
    },
    "tags": []
   },
   "outputs": [],
   "source": [
    "from tqdm import tqdm\n",
    "from datetime import datetime\n",
    "time_str = str(datetime.now().strftime(\"%Y%m%d-%H%M\"))"
   ]
  },
  {
   "cell_type": "code",
   "execution_count": 31,
   "id": "0762c1bc",
   "metadata": {
    "execution": {
     "iopub.execute_input": "2024-06-21T02:33:01.711923Z",
     "iopub.status.busy": "2024-06-21T02:33:01.711052Z",
     "iopub.status.idle": "2024-06-21T04:01:38.563157Z",
     "shell.execute_reply": "2024-06-21T04:01:38.562130Z"
    },
    "papermill": {
     "duration": 5316.978526,
     "end_time": "2024-06-21T04:01:38.631001",
     "exception": false,
     "start_time": "2024-06-21T02:33:01.652475",
     "status": "completed"
    },
    "tags": []
   },
   "outputs": [
    {
     "name": "stdout",
     "output_type": "stream",
     "text": [
      "begin training process\n"
     ]
    },
    {
     "name": "stderr",
     "output_type": "stream",
     "text": [
      "  0%|          | 0/20 [00:00<?, ?it/s]"
     ]
    },
    {
     "name": "stdout",
     "output_type": "stream",
     "text": [
      "Epoch 1 / 20 \n",
      " Training loss: 0.44826338610611854 - Other training metrics: \n",
      "{'accuracy_score': 0.77375, 'f1_score': 0.7737436144438061}\n",
      " \n",
      " Validation loss : 0.3359241401914369 - Other validation metrics:\n",
      "{'accuracy_score': 0.875, 'f1_score': 0.8738003142372175}\n",
      "\n",
      "\n",
      "Validation accuracy= 0.875===> Save best epoch\n"
     ]
    },
    {
     "name": "stderr",
     "output_type": "stream",
     "text": [
      "  5%|▌         | 1/20 [04:37<1:27:57, 277.76s/it]"
     ]
    },
    {
     "name": "stdout",
     "output_type": "stream",
     "text": [
      "Epoch 2 / 20 \n",
      " Training loss: 0.21335895164404065 - Other training metrics: \n",
      "{'accuracy_score': 0.92171875, 'f1_score': 0.9217141610278474}\n",
      " \n",
      " Validation loss : 0.22296324065959197 - Other validation metrics:\n",
      "{'accuracy_score': 0.91, 'f1_score': 0.9099379416128928}\n",
      "\n",
      "\n",
      "Validation accuracy= 0.91===> Save best epoch\n"
     ]
    },
    {
     "name": "stderr",
     "output_type": "stream",
     "text": [
      " 15%|█▌        | 3/20 [13:28<1:15:55, 267.97s/it]"
     ]
    },
    {
     "name": "stdout",
     "output_type": "stream",
     "text": [
      "Epoch 3 / 20 \n",
      " Training loss: 0.12577972800645512 - Other training metrics: \n",
      "{'accuracy_score': 0.955625, 'f1_score': 0.9556242676270732}\n",
      " \n",
      " Validation loss : 0.2576980183183332 - Other validation metrics:\n",
      "{'accuracy_score': 0.895625, 'f1_score': 0.8950045012104739}\n",
      "\n",
      "\n",
      "Validation accuracy= 0.895625===> No saving\n"
     ]
    },
    {
     "name": "stderr",
     "output_type": "stream",
     "text": [
      " 20%|██        | 4/20 [17:53<1:11:08, 266.77s/it]"
     ]
    },
    {
     "name": "stdout",
     "output_type": "stream",
     "text": [
      "Epoch 4 / 20 \n",
      " Training loss: 0.07870309668141999 - Other training metrics: \n",
      "{'accuracy_score': 0.97234375, 'f1_score': 0.9723433279926756}\n",
      " \n",
      " Validation loss : 0.2689402465184412 - Other validation metrics:\n",
      "{'accuracy_score': 0.8975, 'f1_score': 0.8970308467957129}\n",
      "\n",
      "\n",
      "Validation accuracy= 0.8975===> No saving\n"
     ]
    },
    {
     "name": "stderr",
     "output_type": "stream",
     "text": [
      " 25%|██▌       | 5/20 [22:17<1:06:30, 266.06s/it]"
     ]
    },
    {
     "name": "stdout",
     "output_type": "stream",
     "text": [
      "Epoch 5 / 20 \n",
      " Training loss: 0.057273807199717336 - Other training metrics: \n",
      "{'accuracy_score': 0.97875, 'f1_score': 0.9787499916992155}\n",
      " \n",
      " Validation loss : 0.467719828715019 - Other validation metrics:\n",
      "{'accuracy_score': 0.904375, 'f1_score': 0.9042777446929477}\n",
      "\n",
      "\n",
      "Validation accuracy= 0.904375===> No saving\n",
      "Epoch 6 / 20 \n",
      " Training loss: 0.04262843388758483 - Other training metrics: \n",
      "{'accuracy_score': 0.9853125, 'f1_score': 0.9853124483640763}\n",
      " \n",
      " Validation loss : 0.3885457568134736 - Other validation metrics:\n",
      "{'accuracy_score': 0.9175, 'f1_score': 0.9174127672353923}\n",
      "\n",
      "\n",
      "Validation accuracy= 0.9175===> Save best epoch\n"
     ]
    },
    {
     "name": "stderr",
     "output_type": "stream",
     "text": [
      " 35%|███▌      | 7/20 [31:08<57:34, 265.73s/it]  "
     ]
    },
    {
     "name": "stdout",
     "output_type": "stream",
     "text": [
      "Epoch 7 / 20 \n",
      " Training loss: 0.0399789310367305 - Other training metrics: \n",
      "{'accuracy_score': 0.9875, 'f1_score': 0.9874999694823473}\n",
      " \n",
      " Validation loss : 0.38874435120817735 - Other validation metrics:\n",
      "{'accuracy_score': 0.9125, 'f1_score': 0.9123597756410258}\n",
      "\n",
      "\n",
      "Epoch 8 / 20 \n",
      " Training loss: 0.0429206412611984 - Other training metrics: \n",
      "{'accuracy_score': 0.98703125, 'f1_score': 0.9870311787601372}\n",
      " \n",
      " Validation loss : 0.27830101465489065 - Other validation metrics:\n",
      "{'accuracy_score': 0.920625, 'f1_score': 0.9205825302671624}\n",
      "\n",
      "\n",
      "Validation accuracy= 0.920625===> Save best epoch\n"
     ]
    },
    {
     "name": "stderr",
     "output_type": "stream",
     "text": [
      " 45%|████▌     | 9/20 [40:01<48:46, 266.02s/it]"
     ]
    },
    {
     "name": "stdout",
     "output_type": "stream",
     "text": [
      "Epoch 9 / 20 \n",
      " Training loss: 0.027452156692691007 - Other training metrics: \n",
      "{'accuracy_score': 0.98984375, 'f1_score': 0.9898437497520447}\n",
      " \n",
      " Validation loss : 0.4935705925619315 - Other validation metrics:\n",
      "{'accuracy_score': 0.92625, 'f1_score': 0.9262426242624263}\n",
      "\n",
      "\n"
     ]
    },
    {
     "name": "stderr",
     "output_type": "stream",
     "text": [
      " 50%|█████     | 10/20 [44:26<44:16, 265.65s/it]"
     ]
    },
    {
     "name": "stdout",
     "output_type": "stream",
     "text": [
      "Epoch 10 / 20 \n",
      " Training loss: 0.01868019878613154 - Other training metrics: \n",
      "{'accuracy_score': 0.99359375, 'f1_score': 0.9935937373313654}\n",
      " \n",
      " Validation loss : 0.3212572995089396 - Other validation metrics:\n",
      "{'accuracy_score': 0.920625, 'f1_score': 0.9206234806838101}\n",
      "\n",
      "\n"
     ]
    },
    {
     "name": "stderr",
     "output_type": "stream",
     "text": [
      " 55%|█████▌    | 11/20 [48:52<39:51, 265.76s/it]"
     ]
    },
    {
     "name": "stdout",
     "output_type": "stream",
     "text": [
      "Epoch 11 / 20 \n",
      " Training loss: 0.039035696019798255 - Other training metrics: \n",
      "{'accuracy_score': 0.98828125, 'f1_score': 0.9882812428474383}\n",
      " \n",
      " Validation loss : 0.2974486272531408 - Other validation metrics:\n",
      "{'accuracy_score': 0.9175, 'f1_score': 0.9173988135465946}\n",
      "\n",
      "\n"
     ]
    },
    {
     "name": "stderr",
     "output_type": "stream",
     "text": [
      " 60%|██████    | 12/20 [53:18<35:26, 265.75s/it]"
     ]
    },
    {
     "name": "stdout",
     "output_type": "stream",
     "text": [
      "Epoch 12 / 20 \n",
      " Training loss: 0.02802839734083136 - Other training metrics: \n",
      "{'accuracy_score': 0.99078125, 'f1_score': 0.9907812497749329}\n",
      " \n",
      " Validation loss : 0.28861632428971573 - Other validation metrics:\n",
      "{'accuracy_score': 0.914375, 'f1_score': 0.9143506099979252}\n",
      "\n",
      "\n"
     ]
    },
    {
     "name": "stderr",
     "output_type": "stream",
     "text": [
      " 65%|██████▌   | 13/20 [57:43<30:58, 265.48s/it]"
     ]
    },
    {
     "name": "stdout",
     "output_type": "stream",
     "text": [
      "Epoch 13 / 20 \n",
      " Training loss: 0.016179634835232264 - Other training metrics: \n",
      "{'accuracy_score': 0.9959375, 'f1_score': 0.9959374996032715}\n",
      " \n",
      " Validation loss : 0.42405120514730626 - Other validation metrics:\n",
      "{'accuracy_score': 0.9225, 'f1_score': 0.9224358884140172}\n",
      "\n",
      "\n"
     ]
    },
    {
     "name": "stderr",
     "output_type": "stream",
     "text": [
      " 70%|███████   | 14/20 [1:02:07<26:31, 265.26s/it]"
     ]
    },
    {
     "name": "stdout",
     "output_type": "stream",
     "text": [
      "Epoch 14 / 20 \n",
      " Training loss: 0.01891100654369552 - Other training metrics: \n",
      "{'accuracy_score': 0.9940625, 'f1_score': 0.9940624994201659}\n",
      " \n",
      " Validation loss : 0.3228645361560568 - Other validation metrics:\n",
      "{'accuracy_score': 0.911875, 'f1_score': 0.9118374964975335}\n",
      "\n",
      "\n"
     ]
    },
    {
     "name": "stderr",
     "output_type": "stream",
     "text": [
      " 75%|███████▌  | 15/20 [1:06:32<22:05, 265.01s/it]"
     ]
    },
    {
     "name": "stdout",
     "output_type": "stream",
     "text": [
      "Epoch 15 / 20 \n",
      " Training loss: 0.029906972963078714 - Other training metrics: \n",
      "{'accuracy_score': 0.98765625, 'f1_score': 0.987656249698639}\n",
      " \n",
      " Validation loss : 0.48671907485415167 - Other validation metrics:\n",
      "{'accuracy_score': 0.906875, 'f1_score': 0.9066699290433081}\n",
      "\n",
      "\n"
     ]
    },
    {
     "name": "stderr",
     "output_type": "stream",
     "text": [
      " 80%|████████  | 16/20 [1:10:57<17:39, 264.92s/it]"
     ]
    },
    {
     "name": "stdout",
     "output_type": "stream",
     "text": [
      "Epoch 16 / 20 \n",
      " Training loss: 0.021308266271938124 - Other training metrics: \n",
      "{'accuracy_score': 0.993125, 'f1_score': 0.9931249939575142}\n",
      " \n",
      " Validation loss : 0.38305953493894135 - Other validation metrics:\n",
      "{'accuracy_score': 0.911875, 'f1_score': 0.9117381596702075}\n",
      "\n",
      "\n"
     ]
    },
    {
     "name": "stderr",
     "output_type": "stream",
     "text": [
      " 85%|████████▌ | 17/20 [1:15:21<13:14, 264.83s/it]"
     ]
    },
    {
     "name": "stdout",
     "output_type": "stream",
     "text": [
      "Epoch 17 / 20 \n",
      " Training loss: 0.023290081093899743 - Other training metrics: \n",
      "{'accuracy_score': 0.9928125, 'f1_score': 0.9928124992980956}\n",
      " \n",
      " Validation loss : 0.5185676233394445 - Other validation metrics:\n",
      "{'accuracy_score': 0.929375, 'f1_score': 0.9293736481674845}\n",
      "\n",
      "\n"
     ]
    },
    {
     "name": "stderr",
     "output_type": "stream",
     "text": [
      " 90%|█████████ | 18/20 [1:19:46<08:49, 264.95s/it]"
     ]
    },
    {
     "name": "stdout",
     "output_type": "stream",
     "text": [
      "Epoch 18 / 20 \n",
      " Training loss: 0.02498775975794757 - Other training metrics: \n",
      "{'accuracy_score': 0.9928125, 'f1_score': 0.9928124992980956}\n",
      " \n",
      " Validation loss : 0.4191085292975158 - Other validation metrics:\n",
      "{'accuracy_score': 0.904375, 'f1_score': 0.9043516483516484}\n",
      "\n",
      "\n"
     ]
    },
    {
     "name": "stderr",
     "output_type": "stream",
     "text": [
      " 95%|█████████▌| 19/20 [1:24:11<04:24, 264.94s/it]"
     ]
    },
    {
     "name": "stdout",
     "output_type": "stream",
     "text": [
      "Epoch 19 / 20 \n",
      " Training loss: 0.02089583882889201 - Other training metrics: \n",
      "{'accuracy_score': 0.9928125, 'f1_score': 0.9928124971923817}\n",
      " \n",
      " Validation loss : 0.36292962896138475 - Other validation metrics:\n",
      "{'accuracy_score': 0.90375, 'f1_score': 0.9036898061288305}\n",
      "\n",
      "\n"
     ]
    },
    {
     "name": "stderr",
     "output_type": "stream",
     "text": [
      "100%|██████████| 20/20 [1:28:36<00:00, 265.84s/it]"
     ]
    },
    {
     "name": "stdout",
     "output_type": "stream",
     "text": [
      "Epoch 20 / 20 \n",
      " Training loss: 0.018869998763825606 - Other training metrics: \n",
      "{'accuracy_score': 0.995, 'f1_score': 0.9949999995117187}\n",
      " \n",
      " Validation loss : 0.37723903169342937 - Other validation metrics:\n",
      "{'accuracy_score': 0.915, 'f1_score': 0.9149988046706907}\n",
      "\n",
      "\n"
     ]
    },
    {
     "name": "stderr",
     "output_type": "stream",
     "text": [
      "\n"
     ]
    }
   ],
   "source": [
    "for param in model.parameters():\n",
    "    param.requires_grad = True\n",
    "optimizer = torch.optim.Adam(model.parameters(), lr=0.0001, betas=(0.9, 0.999), eps=1e-08, weight_decay=0)\n",
    "\n",
    "model = model.to(device)\n",
    "num_epoch = 20\n",
    "best_val_acc = 0.0\n",
    "import logging\n",
    "import numpy as np\n",
    "print(\"begin training process\")\n",
    "for i in tqdm(range(0, num_epoch)):\n",
    "    loss, val_loss, train_result, val_result = train_one_epoch(\n",
    "        model,\n",
    "        train_loader,\n",
    "        val_loader,\n",
    "        device,\n",
    "        optimizer,\n",
    "        criterion,\n",
    "        train_metrics,\n",
    "        val_metrics,\n",
    "    )\n",
    "\n",
    "    scheduler.step(val_loss)\n",
    "    print(\n",
    "        \"Epoch {} / {} \\n Training loss: {} - Other training metrics: \".format(\n",
    "            i + 1, num_epoch, loss\n",
    "        )\n",
    "    )\n",
    "    print(train_result)\n",
    "    print(\n",
    "        \" \\n Validation loss : {} - Other validation metrics:\".format(val_loss)\n",
    "    )\n",
    "    print(val_result)\n",
    "    print(\"\\n\")\n",
    "    # saving epoch with best validation accuracy\n",
    "    if (loss<0.04):\n",
    "        # no saving\n",
    "        continue\n",
    "    if best_val_acc < float(val_result[\"accuracy_score\"]):\n",
    "        print(\n",
    "            \"Validation accuracy= \"+\n",
    "            str(val_result[\"accuracy_score\"])+\n",
    "            \"===> Save best epoch\"\n",
    "        )\n",
    "        best_val_acc = val_result[\"accuracy_score\"]\n",
    "        torch.save(\n",
    "            model,\n",
    "            \"./\" +  \"best.pt\"\n",
    "        )\n",
    "    else:\n",
    "        print(\n",
    "            \"Validation accuracy= \"+ str(val_result[\"accuracy_score\"])+ \"===> No saving\"\n",
    "        )\n",
    "        continue"
   ]
  },
  {
   "cell_type": "code",
   "execution_count": 32,
   "id": "a3fe416a",
   "metadata": {
    "execution": {
     "iopub.execute_input": "2024-06-21T04:01:38.776058Z",
     "iopub.status.busy": "2024-06-21T04:01:38.775010Z",
     "iopub.status.idle": "2024-06-21T04:01:51.075049Z",
     "shell.execute_reply": "2024-06-21T04:01:51.074086Z"
    },
    "papermill": {
     "duration": 12.382197,
     "end_time": "2024-06-21T04:01:51.077358",
     "exception": false,
     "start_time": "2024-06-21T04:01:38.695161",
     "status": "completed"
    },
    "tags": []
   },
   "outputs": [
    {
     "name": "stdout",
     "output_type": "stream",
     "text": [
      "Collecting lion-pytorch\r\n",
      "  Downloading lion_pytorch-0.2.2-py3-none-any.whl.metadata (618 bytes)\r\n",
      "Requirement already satisfied: torch>=1.6 in /opt/conda/lib/python3.10/site-packages (from lion-pytorch) (2.1.2)\r\n",
      "Requirement already satisfied: filelock in /opt/conda/lib/python3.10/site-packages (from torch>=1.6->lion-pytorch) (3.13.1)\r\n",
      "Requirement already satisfied: typing-extensions in /opt/conda/lib/python3.10/site-packages (from torch>=1.6->lion-pytorch) (4.9.0)\r\n",
      "Requirement already satisfied: sympy in /opt/conda/lib/python3.10/site-packages (from torch>=1.6->lion-pytorch) (1.12.1)\r\n",
      "Requirement already satisfied: networkx in /opt/conda/lib/python3.10/site-packages (from torch>=1.6->lion-pytorch) (3.2.1)\r\n",
      "Requirement already satisfied: jinja2 in /opt/conda/lib/python3.10/site-packages (from torch>=1.6->lion-pytorch) (3.1.2)\r\n",
      "Requirement already satisfied: fsspec in /opt/conda/lib/python3.10/site-packages (from torch>=1.6->lion-pytorch) (2024.3.1)\r\n",
      "Requirement already satisfied: MarkupSafe>=2.0 in /opt/conda/lib/python3.10/site-packages (from jinja2->torch>=1.6->lion-pytorch) (2.1.3)\r\n",
      "Requirement already satisfied: mpmath<1.4.0,>=1.1.0 in /opt/conda/lib/python3.10/site-packages (from sympy->torch>=1.6->lion-pytorch) (1.3.0)\r\n",
      "Downloading lion_pytorch-0.2.2-py3-none-any.whl (5.4 kB)\r\n",
      "Installing collected packages: lion-pytorch\r\n",
      "Successfully installed lion-pytorch-0.2.2\r\n"
     ]
    }
   ],
   "source": [
    "!pip install lion-pytorch\n",
    "from lion_pytorch import Lion\n",
    "optimizer = Lion(model.parameters(), lr=1e-4, weight_decay=1e-2)"
   ]
  },
  {
   "cell_type": "code",
   "execution_count": 33,
   "id": "af112b37",
   "metadata": {
    "execution": {
     "iopub.execute_input": "2024-06-21T04:01:51.199527Z",
     "iopub.status.busy": "2024-06-21T04:01:51.199193Z",
     "iopub.status.idle": "2024-06-21T04:01:51.518010Z",
     "shell.execute_reply": "2024-06-21T04:01:51.517270Z"
    },
    "papermill": {
     "duration": 0.381844,
     "end_time": "2024-06-21T04:01:51.520603",
     "exception": false,
     "start_time": "2024-06-21T04:01:51.138759",
     "status": "completed"
    },
    "tags": []
   },
   "outputs": [],
   "source": [
    "import copy\n",
    "val_model = torch.load(\"/kaggle/working/best.pt\")\n",
    "val_model = val_model.to(device)"
   ]
  },
  {
   "cell_type": "code",
   "execution_count": 34,
   "id": "028b00c6",
   "metadata": {
    "execution": {
     "iopub.execute_input": "2024-06-21T04:01:51.642889Z",
     "iopub.status.busy": "2024-06-21T04:01:51.642567Z",
     "iopub.status.idle": "2024-06-21T04:01:51.649044Z",
     "shell.execute_reply": "2024-06-21T04:01:51.648174Z"
    },
    "papermill": {
     "duration": 0.069264,
     "end_time": "2024-06-21T04:01:51.651022",
     "exception": false,
     "start_time": "2024-06-21T04:01:51.581758",
     "status": "completed"
    },
    "tags": []
   },
   "outputs": [],
   "source": [
    "def val_result(model, val_loader, device):\n",
    "    # testing the model by turning model \"Eval\" mode\n",
    "    model.eval()\n",
    "    preds = []\n",
    "    labels = []\n",
    "    with torch.no_grad():\n",
    "        for data, target in val_loader:\n",
    "            # move-tensors-to-GPU\n",
    "            data = data.to(device)\n",
    "            target = target.to(device)\n",
    "            # forward-pass: compute-predicted-outputs-by-passing-inputs-to-the-model\n",
    "            output = model(data)\n",
    "            # applying Softmax to results\n",
    "            prob = nn.Softmax(dim=1)\n",
    "            probs = prob(output)\n",
    "            labels.extend(target.tolist())\n",
    "            preds.extend(torch.argmax(probs, axis=1).tolist())\n",
    "    return preds, labels"
   ]
  },
  {
   "cell_type": "code",
   "execution_count": 35,
   "id": "72e9f31f",
   "metadata": {
    "execution": {
     "iopub.execute_input": "2024-06-21T04:01:51.771389Z",
     "iopub.status.busy": "2024-06-21T04:01:51.771084Z",
     "iopub.status.idle": "2024-06-21T04:02:38.683172Z",
     "shell.execute_reply": "2024-06-21T04:02:38.682164Z"
    },
    "papermill": {
     "duration": 46.974988,
     "end_time": "2024-06-21T04:02:38.685693",
     "exception": false,
     "start_time": "2024-06-21T04:01:51.710705",
     "status": "completed"
    },
    "tags": []
   },
   "outputs": [],
   "source": [
    "preds, grd_truth = val_result(val_model, val_loader, device)"
   ]
  },
  {
   "cell_type": "code",
   "execution_count": 36,
   "id": "c0fee5a9",
   "metadata": {
    "execution": {
     "iopub.execute_input": "2024-06-21T04:02:38.824107Z",
     "iopub.status.busy": "2024-06-21T04:02:38.823380Z",
     "iopub.status.idle": "2024-06-21T04:02:38.828443Z",
     "shell.execute_reply": "2024-06-21T04:02:38.827282Z"
    },
    "papermill": {
     "duration": 0.07322,
     "end_time": "2024-06-21T04:02:38.830849",
     "exception": false,
     "start_time": "2024-06-21T04:02:38.757629",
     "status": "completed"
    },
    "tags": []
   },
   "outputs": [],
   "source": [
    "from sklearn.metrics import classification_report\n",
    "from sklearn.metrics import confusion_matrix, ConfusionMatrixDisplay"
   ]
  },
  {
   "cell_type": "code",
   "execution_count": 37,
   "id": "e930fbf3",
   "metadata": {
    "execution": {
     "iopub.execute_input": "2024-06-21T04:02:38.972416Z",
     "iopub.status.busy": "2024-06-21T04:02:38.972011Z",
     "iopub.status.idle": "2024-06-21T04:02:38.987539Z",
     "shell.execute_reply": "2024-06-21T04:02:38.986531Z"
    },
    "papermill": {
     "duration": 0.080246,
     "end_time": "2024-06-21T04:02:38.989731",
     "exception": false,
     "start_time": "2024-06-21T04:02:38.909485",
     "status": "completed"
    },
    "tags": []
   },
   "outputs": [
    {
     "name": "stdout",
     "output_type": "stream",
     "text": [
      "              precision    recall  f1-score   support\n",
      "\n",
      "           0   0.941022  0.897500  0.918746       800\n",
      "           1   0.902031  0.943750  0.922419       800\n",
      "\n",
      "    accuracy                       0.920625      1600\n",
      "   macro avg   0.921527  0.920625  0.920583      1600\n",
      "weighted avg   0.921527  0.920625  0.920583      1600\n",
      "\n"
     ]
    }
   ],
   "source": [
    "report = classification_report(grd_truth, preds, digits=6)\n",
    "print(report)"
   ]
  },
  {
   "cell_type": "code",
   "execution_count": 38,
   "id": "c3861b23",
   "metadata": {
    "execution": {
     "iopub.execute_input": "2024-06-21T04:02:39.114936Z",
     "iopub.status.busy": "2024-06-21T04:02:39.114161Z",
     "iopub.status.idle": "2024-06-21T04:02:39.429062Z",
     "shell.execute_reply": "2024-06-21T04:02:39.428018Z"
    },
    "papermill": {
     "duration": 0.378577,
     "end_time": "2024-06-21T04:02:39.431559",
     "exception": false,
     "start_time": "2024-06-21T04:02:39.052982",
     "status": "completed"
    },
    "tags": []
   },
   "outputs": [
    {
     "data": {
      "text/plain": [
       "<sklearn.metrics._plot.confusion_matrix.ConfusionMatrixDisplay at 0x7cec115b3be0>"
      ]
     },
     "execution_count": 38,
     "metadata": {},
     "output_type": "execute_result"
    },
    {
     "data": {
      "image/png": "[encoded data removed]",
      "text/plain": [
       "<Figure size 640x480 with 2 Axes>"
      ]
     },
     "metadata": {},
     "output_type": "display_data"
    }
   ],
   "source": [
    "cm = confusion_matrix(grd_truth, preds)\n",
    "disp = ConfusionMatrixDisplay(confusion_matrix=cm)\n",
    "disp.plot()"
   ]
  },
  {
   "cell_type": "code",
   "execution_count": 39,
   "id": "e73757a0",
   "metadata": {
    "execution": {
     "iopub.execute_input": "2024-06-21T04:02:39.566434Z",
     "iopub.status.busy": "2024-06-21T04:02:39.565657Z",
     "iopub.status.idle": "2024-06-21T04:02:39.891994Z",
     "shell.execute_reply": "2024-06-21T04:02:39.890837Z"
    },
    "papermill": {
     "duration": 0.392515,
     "end_time": "2024-06-21T04:02:39.894826",
     "exception": false,
     "start_time": "2024-06-21T04:02:39.502311",
     "status": "completed"
    },
    "tags": []
   },
   "outputs": [],
   "source": [
    "import copy\n",
    "test_model = torch.load(\"/kaggle/working/best.pt\")\n",
    "test_model = test_model.to(device)"
   ]
  },
  {
   "cell_type": "code",
   "execution_count": 40,
   "id": "0fd0e73a",
   "metadata": {
    "execution": {
     "iopub.execute_input": "2024-06-21T04:02:40.027186Z",
     "iopub.status.busy": "2024-06-21T04:02:40.026341Z",
     "iopub.status.idle": "2024-06-21T04:02:40.034007Z",
     "shell.execute_reply": "2024-06-21T04:02:40.033046Z"
    },
    "papermill": {
     "duration": 0.074114,
     "end_time": "2024-06-21T04:02:40.036064",
     "exception": false,
     "start_time": "2024-06-21T04:02:39.961950",
     "status": "completed"
    },
    "tags": []
   },
   "outputs": [],
   "source": [
    "def test_result(model, test_loader, device,name='no_tta_prob.npy'):\n",
    "    # testing the model by turning model \"Eval\" mode\n",
    "    model.eval()\n",
    "    preds = []\n",
    "    aprobs = []\n",
    "    with torch.no_grad():\n",
    "        for data in test_loader:\n",
    "            # move-tensors-to-GPU\n",
    "            data = data.to(device)\n",
    "            # forward-pass: compute-predicted-outputs-by-passing-inputs-to-the-model\n",
    "            output = model(data)\n",
    "            prob = nn.Softmax(dim=1)\n",
    "            # applying Softmax to results\n",
    "            probs = prob(output)\n",
    "            #aprobs.append(probs.cpu())\n",
    "            aprobs.append(probs.detach().cpu().numpy())\n",
    "            preds.extend(torch.argmax(probs, axis=1).tolist())\n",
    "#             binary_predictions = (probs[:, 1] >= threshold).int()\n",
    "#             preds.extend(binary_predictions.tolist())\n",
    "    aprobs = np.array(aprobs)\n",
    "    np.save(name,aprobs)\n",
    "    return preds"
   ]
  }
 ],
 "metadata": {
  "kaggle": {
   "accelerator": "gpu",
   "dataSources": [
    {
     "datasetId": 4154884,
     "sourceId": 7802508,
     "sourceType": "datasetVersion"
    }
   ],
   "dockerImageVersionId": 30732,
   "isGpuEnabled": true,
   "isInternetEnabled": true,
   "language": "python",
   "sourceType": "notebook"
  },
  "kernelspec": {
   "display_name": "Python 3",
   "language": "python",
   "name": "python3"
  },
  "language_info": {
   "codemirror_mode": {
    "name": "ipython",
    "version": 3
   },
   "file_extension": ".py",
   "mimetype": "text/x-python",
   "name": "python",
   "nbconvert_exporter": "python",
   "pygments_lexer": "ipython3",
   "version": "3.10.13"
  },
  "papermill": {
   "default_parameters": {},
   "duration": 5521.40838,
   "end_time": "2024-06-21T04:02:41.932549",
   "environment_variables": {},
   "exception": null,
   "input_path": "__notebook__.ipynb",
   "output_path": "__notebook__.ipynb",
   "parameters": {},
   "start_time": "2024-06-21T02:30:40.524169",
   "version": "2.4.0"
  },
  "widgets": {
   "application/vnd.jupyter.widget-state+json": {
    "state": {
     "399e324a86b44dd5adea3ce021a6ffa3": {
      "model_module": "@jupyter-widgets/controls",
      "model_module_version": "1.5.0",
      "model_name": "DescriptionStyleModel",
      "state": {
       "_model_module": "@jupyter-widgets/controls",
       "_model_module_version": "1.5.0",
       "_model_name": "DescriptionStyleModel",
       "_view_count": null,
       "_view_module": "@jupyter-widgets/base",
       "_view_module_version": "1.2.0",
       "_view_name": "StyleView",
       "description_width": ""
      }
     },
     "5cb980ddbd064b7a8a0b7c6e36085582": {
      "model_module": "@jupyter-widgets/base",
      "model_module_version": "1.2.0",
      "model_name": "LayoutModel",
      "state": {
       "_model_module": "@jupyter-widgets/base",
       "_model_module_version": "1.2.0",
       "_model_name": "LayoutModel",
       "_view_count": null,
       "_view_module": "@jupyter-widgets/base",
       "_view_module_version": "1.2.0",
       "_view_name": "LayoutView",
       "align_content": null,
       "align_items": null,
       "align_self": null,
       "border": null,
       "bottom": null,
       "display": null,
       "flex": null,
       "flex_flow": null,
       "grid_area": null,
       "grid_auto_columns": null,
       "grid_auto_flow": null,
       "grid_auto_rows": null,
       "grid_column": null,
       "grid_gap": null,
       "grid_row": null,
       "grid_template_areas": null,
       "grid_template_columns": null,
       "grid_template_rows": null,
       "height": null,
       "justify_content": null,
       "justify_items": null,
       "left": null,
       "margin": null,
       "max_height": null,
       "max_width": null,
       "min_height": null,
       "min_width": null,
       "object_fit": null,
       "object_position": null,
       "order": null,
       "overflow": null,
       "overflow_x": null,
       "overflow_y": null,
       "padding": null,
       "right": null,
       "top": null,
       "visibility": null,
       "width": null
      }
     },
     "5ed7247227664ad0a6ae82c46c991b02": {
      "model_module": "@jupyter-widgets/controls",
      "model_module_version": "1.5.0",
      "model_name": "ProgressStyleModel",
      "state": {
       "_model_module": "@jupyter-widgets/controls",
       "_model_module_version": "1.5.0",
       "_model_name": "ProgressStyleModel",
       "_view_count": null,
       "_view_module": "@jupyter-widgets/base",
       "_view_module_version": "1.2.0",
       "_view_name": "StyleView",
       "bar_color": null,
       "description_width": ""
      }
     },
     "6767f6ee7d8f45e7b96ef28a24e3e6ab": {
      "model_module": "@jupyter-widgets/controls",
      "model_module_version": "1.5.0",
      "model_name": "HBoxModel",
      "state": {
       "_dom_classes": [],
       "_model_module": "@jupyter-widgets/controls",
       "_model_module_version": "1.5.0",
       "_model_name": "HBoxModel",
       "_view_count": null,
       "_view_module": "@jupyter-widgets/controls",
       "_view_module_version": "1.5.0",
       "_view_name": "HBoxView",
       "box_style": "",
       "children": [
        "IPY_MODEL_863768fe35f1494cbe3efc783e6e1e64",
        "IPY_MODEL_f8595eb5fa654d5eaf013b9c3136138c",
        "IPY_MODEL_7eaa1cd6cb6c4a4e9602c7dd061d8346"
       ],
       "layout": "IPY_MODEL_f69b53ac342b466e8355a0f962389635"
      }
     },
     "7eaa1cd6cb6c4a4e9602c7dd061d8346": {
      "model_module": "@jupyter-widgets/controls",
      "model_module_version": "1.5.0",
      "model_name": "HTMLModel",
      "state": {
       "_dom_classes": [],
       "_model_module": "@jupyter-widgets/controls",
       "_model_module_version": "1.5.0",
       "_model_name": "HTMLModel",
       "_view_count": null,
       "_view_module": "@jupyter-widgets/controls",
       "_view_module_version": "1.5.0",
       "_view_name": "HTMLView",
       "description": "",
       "description_tooltip": null,
       "layout": "IPY_MODEL_e51dc123b4044b1f8ae01b840fb42314",
       "placeholder": "​",
       "style": "IPY_MODEL_92da41a3d7eb4d2a91d9b5871b058656",
       "value": " 353M/353M [00:17&lt;00:00, 21.6MB/s]"
      }
     },
     "863768fe35f1494cbe3efc783e6e1e64": {
      "model_module": "@jupyter-widgets/controls",
      "model_module_version": "1.5.0",
      "model_name": "HTMLModel",
      "state": {
       "_dom_classes": [],
       "_model_module": "@jupyter-widgets/controls",
       "_model_module_version": "1.5.0",
       "_model_name": "HTMLModel",
       "_view_count": null,
       "_view_module": "@jupyter-widgets/controls",
       "_view_module_version": "1.5.0",
       "_view_name": "HTMLView",
       "description": "",
       "description_tooltip": null,
       "layout": "IPY_MODEL_abf1a99573ce4f4d8429f0e439efd94d",
       "placeholder": "​",
       "style": "IPY_MODEL_399e324a86b44dd5adea3ce021a6ffa3",
       "value": "model.safetensors: 100%"
      }
     },
     "92da41a3d7eb4d2a91d9b5871b058656": {
      "model_module": "@jupyter-widgets/controls",
      "model_module_version": "1.5.0",
      "model_name": "DescriptionStyleModel",
      "state": {
       "_model_module": "@jupyter-widgets/controls",
       "_model_module_version": "1.5.0",
       "_model_name": "DescriptionStyleModel",
       "_view_count": null,
       "_view_module": "@jupyter-widgets/base",
       "_view_module_version": "1.2.0",
       "_view_name": "StyleView",
       "description_width": ""
      }
     },
     "abf1a99573ce4f4d8429f0e439efd94d": {
      "model_module": "@jupyter-widgets/base",
      "model_module_version": "1.2.0",
      "model_name": "LayoutModel",
      "state": {
       "_model_module": "@jupyter-widgets/base",
       "_model_module_version": "1.2.0",
       "_model_name": "LayoutModel",
       "_view_count": null,
       "_view_module": "@jupyter-widgets/base",
       "_view_module_version": "1.2.0",
       "_view_name": "LayoutView",
       "align_content": null,
       "align_items": null,
       "align_self": null,
       "border": null,
       "bottom": null,
       "display": null,
       "flex": null,
       "flex_flow": null,
       "grid_area": null,
       "grid_auto_columns": null,
       "grid_auto_flow": null,
       "grid_auto_rows": null,
       "grid_column": null,
       "grid_gap": null,
       "grid_row": null,
       "grid_template_areas": null,
       "grid_template_columns": null,
       "grid_template_rows": null,
       "height": null,
       "justify_content": null,
       "justify_items": null,
       "left": null,
       "margin": null,
       "max_height": null,
       "max_width": null,
       "min_height": null,
       "min_width": null,
       "object_fit": null,
       "object_position": null,
       "order": null,
       "overflow": null,
       "overflow_x": null,
       "overflow_y": null,
       "padding": null,
       "right": null,
       "top": null,
       "visibility": null,
       "width": null
      }
     },
     "e51dc123b4044b1f8ae01b840fb42314": {
      "model_module": "@jupyter-widgets/base",
      "model_module_version": "1.2.0",
      "model_name": "LayoutModel",
      "state": {
       "_model_module": "@jupyter-widgets/base",
       "_model_module_version": "1.2.0",
       "_model_name": "LayoutModel",
       "_view_count": null,
       "_view_module": "@jupyter-widgets/base",
       "_view_module_version": "1.2.0",
       "_view_name": "LayoutView",
       "align_content": null,
       "align_items": null,
       "align_self": null,
       "border": null,
       "bottom": null,
       "display": null,
       "flex": null,
       "flex_flow": null,
       "grid_area": null,
       "grid_auto_columns": null,
       "grid_auto_flow": null,
       "grid_auto_rows": null,
       "grid_column": null,
       "grid_gap": null,
       "grid_row": null,
       "grid_template_areas": null,
       "grid_template_columns": null,
       "grid_template_rows": null,
       "height": null,
       "justify_content": null,
       "justify_items": null,
       "left": null,
       "margin": null,
       "max_height": null,
       "max_width": null,
       "min_height": null,
       "min_width": null,
       "object_fit": null,
       "object_position": null,
       "order": null,
       "overflow": null,
       "overflow_x": null,
       "overflow_y": null,
       "padding": null,
       "right": null,
       "top": null,
       "visibility": null,
       "width": null
      }
     },
     "f69b53ac342b466e8355a0f962389635": {
      "model_module": "@jupyter-widgets/base",
      "model_module_version": "1.2.0",
      "model_name": "LayoutModel",
      "state": {
       "_model_module": "@jupyter-widgets/base",
       "_model_module_version": "1.2.0",
       "_model_name": "LayoutModel",
       "_view_count": null,
       "_view_module": "@jupyter-widgets/base",
       "_view_module_version": "1.2.0",
       "_view_name": "LayoutView",
       "align_content": null,
       "align_items": null,
       "align_self": null,
       "border": null,
       "bottom": null,
       "display": null,
       "flex": null,
       "flex_flow": null,
       "grid_area": null,
       "grid_auto_columns": null,
       "grid_auto_flow": null,
       "grid_auto_rows": null,
       "grid_column": null,
       "grid_gap": null,
       "grid_row": null,
       "grid_template_areas": null,
       "grid_template_columns": null,
       "grid_template_rows": null,
       "height": null,
       "justify_content": null,
       "justify_items": null,
       "left": null,
       "margin": null,
       "max_height": null,
       "max_width": null,
       "min_height": null,
       "min_width": null,
       "object_fit": null,
       "object_position": null,
       "order": null,
       "overflow": null,
       "overflow_x": null,
       "overflow_y": null,
       "padding": null,
       "right": null,
       "top": null,
       "visibility": null,
       "width": null
      }
     },
     "f8595eb5fa654d5eaf013b9c3136138c": {
      "model_module": "@jupyter-widgets/controls",
      "model_module_version": "1.5.0",
      "model_name": "FloatProgressModel",
      "state": {
       "_dom_classes": [],
       "_model_module": "@jupyter-widgets/controls",
       "_model_module_version": "1.5.0",
       "_model_name": "FloatProgressModel",
       "_view_count": null,
       "_view_module": "@jupyter-widgets/controls",
       "_view_module_version": "1.5.0",
       "_view_name": "ProgressView",
       "bar_style": "success",
       "description": "",
       "description_tooltip": null,
       "layout": "IPY_MODEL_5cb980ddbd064b7a8a0b7c6e36085582",
       "max": 352685652.0,
       "min": 0.0,
       "orientation": "horizontal",
       "style": "IPY_MODEL_5ed7247227664ad0a6ae82c46c991b02",
       "value": 352685652.0
      }
     }
    },
    "version_major": 2,
    "version_minor": 0
   }
  }
 },
 "nbformat": 4,
 "nbformat_minor": 5
}
