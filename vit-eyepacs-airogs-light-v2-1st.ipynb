{
 "cells": [
  {
   "cell_type": "code",
   "execution_count": 1,
   "id": "06307539",
   "metadata": {
    "execution": {
     "iopub.execute_input": "2024-06-21T08:13:38.394613Z",
     "iopub.status.busy": "2024-06-21T08:13:38.394293Z",
     "iopub.status.idle": "2024-06-21T08:14:06.725455Z",
     "shell.execute_reply": "2024-06-21T08:14:06.724280Z"
    },
    "papermill": {
     "duration": 28.348593,
     "end_time": "2024-06-21T08:14:06.728128",
     "exception": false,
     "start_time": "2024-06-21T08:13:38.379535",
     "status": "completed"
    },
    "tags": []
   },
   "outputs": [],
   "source": [
    "!pip install --upgrade -q wandb"
   ]
  },
  {
   "cell_type": "code",
   "execution_count": 2,
   "id": "1bd0e1ee",
   "metadata": {
    "execution": {
     "iopub.execute_input": "2024-06-21T08:14:06.756510Z",
     "iopub.status.busy": "2024-06-21T08:14:06.755830Z",
     "iopub.status.idle": "2024-06-21T08:14:15.033482Z",
     "shell.execute_reply": "2024-06-21T08:14:15.032542Z"
    },
    "papermill": {
     "duration": 8.294313,
     "end_time": "2024-06-21T08:14:15.036175",
     "exception": false,
     "start_time": "2024-06-21T08:14:06.741862",
     "status": "completed"
    },
    "tags": []
   },
   "outputs": [],
   "source": [
    "import pandas as pd\n",
    "import matplotlib.pyplot as plt\n",
    "import wandb\n",
    "from pathlib import Path\n",
    "from sklearn.model_selection import train_test_split, StratifiedKFold\n",
    "from sklearn.preprocessing import LabelEncoder\n",
    "from sklearn.metrics import classification_report, f1_score, recall_score, precision_score\n",
    "from torch.utils.data import DataLoader, Dataset\n",
    "from torch.utils.data import RandomSampler\n",
    "from PIL import Image\n",
    "import cv2\n",
    "import torch\n",
    "import torch.nn as nn\n",
    "import torchvision.transforms as transforms\n",
    "from torchvision import transforms\n",
    "import torchvision.models as models\n",
    "from torchvision import models\n",
    "from torchvision.utils import make_grid\n",
    "from torchvision.datasets import ImageFolder\n",
    "import torch.nn.functional as F\n",
    "import timm\n",
    "import albumentations\n",
    "from albumentations.pytorch import ToTensorV2\n",
    "import numpy as np\n",
    "from tqdm import tqdm\n",
    "from sklearn.metrics import confusion_matrix\n",
    "\n",
    "from IPython.display import display, HTML\n",
    "import warnings\n",
    "warnings.filterwarnings(\"ignore\")"
   ]
  },
  {
   "cell_type": "code",
   "execution_count": 3,
   "id": "fb8dde52",
   "metadata": {
    "execution": {
     "iopub.execute_input": "2024-06-21T08:14:15.063777Z",
     "iopub.status.busy": "2024-06-21T08:14:15.063321Z",
     "iopub.status.idle": "2024-06-21T08:14:16.543149Z",
     "shell.execute_reply": "2024-06-21T08:14:16.542278Z"
    },
    "papermill": {
     "duration": 1.495742,
     "end_time": "2024-06-21T08:14:16.545228",
     "exception": false,
     "start_time": "2024-06-21T08:14:15.049486",
     "status": "completed"
    },
    "tags": []
   },
   "outputs": [
    {
     "name": "stderr",
     "output_type": "stream",
     "text": [
      "\u001b[34m\u001b[1mwandb\u001b[0m: W&B API key is configured. Use \u001b[1m`wandb login --relogin`\u001b[0m to force relogin\n",
      "\u001b[34m\u001b[1mwandb\u001b[0m: \u001b[33mWARNING\u001b[0m If you're specifying your api key in code, ensure this code is not shared publicly.\n",
      "\u001b[34m\u001b[1mwandb\u001b[0m: \u001b[33mWARNING\u001b[0m Consider setting the WANDB_API_KEY environment variable, or running `wandb login` from the command line.\n",
      "\u001b[34m\u001b[1mwandb\u001b[0m: Appending key for api.wandb.ai to your netrc file: /root/.netrc\n"
     ]
    },
    {
     "data": {
      "text/plain": [
       "True"
      ]
     },
     "execution_count": 3,
     "metadata": {},
     "output_type": "execute_result"
    }
   ],
   "source": [
    "import wandb\n",
    "from kaggle_secrets import UserSecretsClient\n",
    "user_secrets = UserSecretsClient()\n",
    "secret_value_0 = user_secrets.get_secret(\"wandb\")\n",
    "\n",
    "wandb.login(key = secret_value_0)"
   ]
  },
  {
   "cell_type": "code",
   "execution_count": 4,
   "id": "30e102b4",
   "metadata": {
    "execution": {
     "iopub.execute_input": "2024-06-21T08:14:16.574317Z",
     "iopub.status.busy": "2024-06-21T08:14:16.573987Z",
     "iopub.status.idle": "2024-06-21T08:14:16.581259Z",
     "shell.execute_reply": "2024-06-21T08:14:16.580357Z"
    },
    "papermill": {
     "duration": 0.024554,
     "end_time": "2024-06-21T08:14:16.583224",
     "exception": false,
     "start_time": "2024-06-21T08:14:16.558670",
     "status": "completed"
    },
    "tags": []
   },
   "outputs": [
    {
     "data": {
      "text/plain": [
       "'/kaggle/input/glaucoma-dataset-eyepacs-airogs-light-v2/eyepac-light-v2-512-jpg'"
      ]
     },
     "execution_count": 4,
     "metadata": {},
     "output_type": "execute_result"
    }
   ],
   "source": [
    "class config:\n",
    "    root_path = '/kaggle/input/glaucoma-dataset-eyepacs-airogs-light-v2/eyepac-light-v2-512-jpg'\n",
    "    train_path = root_path + '/train'\n",
    "    test_path = root_path + '/test'\n",
    "    valid_path = root_path + '/validation'\n",
    "    output_path = \"/kaggle/working/\"\n",
    "    batch_size = 16\n",
    "    lr = 1e-3\n",
    "    seed = 1\n",
    "    num_epochs = 40\n",
    "    model_names = 'vit_base_patch8_224'\n",
    "    \n",
    "config.root_path"
   ]
  },
  {
   "cell_type": "code",
   "execution_count": 5,
   "id": "6021cb03",
   "metadata": {
    "execution": {
     "iopub.execute_input": "2024-06-21T08:14:16.613085Z",
     "iopub.status.busy": "2024-06-21T08:14:16.612750Z",
     "iopub.status.idle": "2024-06-21T08:14:30.175444Z",
     "shell.execute_reply": "2024-06-21T08:14:30.174446Z"
    },
    "papermill": {
     "duration": 13.580521,
     "end_time": "2024-06-21T08:14:30.177845",
     "exception": false,
     "start_time": "2024-06-21T08:14:16.597324",
     "status": "completed"
    },
    "tags": []
   },
   "outputs": [],
   "source": [
    "def get_df(path): \n",
    "    paths = Path(path).rglob(\"*.jpg\")\n",
    "    files = [str(path) for path in paths]\n",
    "    labels = [file.split('/')[-2] for file in files]\n",
    "    \n",
    "    df = pd.DataFrame()\n",
    "    df['path'] = files\n",
    "    df['label'] = labels\n",
    "    df['label'] = df['label'].map({'RG':1, 'NRG': 0})\n",
    "    return df\n",
    "\n",
    "# Assuming CFG.path_to_data is set to the correct data path, the following lines will create your dataframes:\n",
    "train_df = get_df(config.train_path)\n",
    "valid_df = get_df(config.valid_path)\n",
    "test_df = get_df(config.test_path)"
   ]
  },
  {
   "cell_type": "code",
   "execution_count": 6,
   "id": "2ec22300",
   "metadata": {
    "execution": {
     "iopub.execute_input": "2024-06-21T08:14:30.205688Z",
     "iopub.status.busy": "2024-06-21T08:14:30.205378Z",
     "iopub.status.idle": "2024-06-21T08:14:30.219577Z",
     "shell.execute_reply": "2024-06-21T08:14:30.218723Z"
    },
    "papermill": {
     "duration": 0.030107,
     "end_time": "2024-06-21T08:14:30.221449",
     "exception": false,
     "start_time": "2024-06-21T08:14:30.191342",
     "status": "completed"
    },
    "tags": []
   },
   "outputs": [
    {
     "data": {
      "text/html": [
       "<div>\n",
       "<style scoped>\n",
       "    .dataframe tbody tr th:only-of-type {\n",
       "        vertical-align: middle;\n",
       "    }\n",
       "\n",
       "    .dataframe tbody tr th {\n",
       "        vertical-align: top;\n",
       "    }\n",
       "\n",
       "    .dataframe thead th {\n",
       "        text-align: right;\n",
       "    }\n",
       "</style>\n",
       "<table border=\"1\" class=\"dataframe\">\n",
       "  <thead>\n",
       "    <tr style=\"text-align: right;\">\n",
       "      <th></th>\n",
       "      <th>path</th>\n",
       "      <th>label</th>\n",
       "    </tr>\n",
       "  </thead>\n",
       "  <tbody>\n",
       "    <tr>\n",
       "      <th>0</th>\n",
       "      <td>/kaggle/input/glaucoma-dataset-eyepacs-airogs-...</td>\n",
       "      <td>1</td>\n",
       "    </tr>\n",
       "    <tr>\n",
       "      <th>1</th>\n",
       "      <td>/kaggle/input/glaucoma-dataset-eyepacs-airogs-...</td>\n",
       "      <td>1</td>\n",
       "    </tr>\n",
       "    <tr>\n",
       "      <th>2</th>\n",
       "      <td>/kaggle/input/glaucoma-dataset-eyepacs-airogs-...</td>\n",
       "      <td>1</td>\n",
       "    </tr>\n",
       "    <tr>\n",
       "      <th>3</th>\n",
       "      <td>/kaggle/input/glaucoma-dataset-eyepacs-airogs-...</td>\n",
       "      <td>1</td>\n",
       "    </tr>\n",
       "    <tr>\n",
       "      <th>4</th>\n",
       "      <td>/kaggle/input/glaucoma-dataset-eyepacs-airogs-...</td>\n",
       "      <td>1</td>\n",
       "    </tr>\n",
       "    <tr>\n",
       "      <th>...</th>\n",
       "      <td>...</td>\n",
       "      <td>...</td>\n",
       "    </tr>\n",
       "    <tr>\n",
       "      <th>7995</th>\n",
       "      <td>/kaggle/input/glaucoma-dataset-eyepacs-airogs-...</td>\n",
       "      <td>0</td>\n",
       "    </tr>\n",
       "    <tr>\n",
       "      <th>7996</th>\n",
       "      <td>/kaggle/input/glaucoma-dataset-eyepacs-airogs-...</td>\n",
       "      <td>0</td>\n",
       "    </tr>\n",
       "    <tr>\n",
       "      <th>7997</th>\n",
       "      <td>/kaggle/input/glaucoma-dataset-eyepacs-airogs-...</td>\n",
       "      <td>0</td>\n",
       "    </tr>\n",
       "    <tr>\n",
       "      <th>7998</th>\n",
       "      <td>/kaggle/input/glaucoma-dataset-eyepacs-airogs-...</td>\n",
       "      <td>0</td>\n",
       "    </tr>\n",
       "    <tr>\n",
       "      <th>7999</th>\n",
       "      <td>/kaggle/input/glaucoma-dataset-eyepacs-airogs-...</td>\n",
       "      <td>0</td>\n",
       "    </tr>\n",
       "  </tbody>\n",
       "</table>\n",
       "<p>8000 rows × 2 columns</p>\n",
       "</div>"
      ],
      "text/plain": [
       "                                                   path  label\n",
       "0     /kaggle/input/glaucoma-dataset-eyepacs-airogs-...      1\n",
       "1     /kaggle/input/glaucoma-dataset-eyepacs-airogs-...      1\n",
       "2     /kaggle/input/glaucoma-dataset-eyepacs-airogs-...      1\n",
       "3     /kaggle/input/glaucoma-dataset-eyepacs-airogs-...      1\n",
       "4     /kaggle/input/glaucoma-dataset-eyepacs-airogs-...      1\n",
       "...                                                 ...    ...\n",
       "7995  /kaggle/input/glaucoma-dataset-eyepacs-airogs-...      0\n",
       "7996  /kaggle/input/glaucoma-dataset-eyepacs-airogs-...      0\n",
       "7997  /kaggle/input/glaucoma-dataset-eyepacs-airogs-...      0\n",
       "7998  /kaggle/input/glaucoma-dataset-eyepacs-airogs-...      0\n",
       "7999  /kaggle/input/glaucoma-dataset-eyepacs-airogs-...      0\n",
       "\n",
       "[8000 rows x 2 columns]"
      ]
     },
     "execution_count": 6,
     "metadata": {},
     "output_type": "execute_result"
    }
   ],
   "source": [
    "train_df"
   ]
  },
  {
   "cell_type": "code",
   "execution_count": 7,
   "id": "80c81c6b",
   "metadata": {
    "execution": {
     "iopub.execute_input": "2024-06-21T08:14:30.250080Z",
     "iopub.status.busy": "2024-06-21T08:14:30.249564Z",
     "iopub.status.idle": "2024-06-21T08:14:30.262430Z",
     "shell.execute_reply": "2024-06-21T08:14:30.261573Z"
    },
    "papermill": {
     "duration": 0.029164,
     "end_time": "2024-06-21T08:14:30.264289",
     "exception": false,
     "start_time": "2024-06-21T08:14:30.235125",
     "status": "completed"
    },
    "tags": []
   },
   "outputs": [],
   "source": [
    "from PIL import Image\n",
    "import os\n",
    "import torch\n",
    "from sklearn.model_selection import train_test_split\n",
    "\n",
    "    \n",
    "# define a data class\n",
    "class ClassificationDataset:\n",
    "    def __init__(self, data, data_path, transform, training=True):\n",
    "        \"\"\"Define the dataset for classification problems\n",
    "\n",
    "        Args:\n",
    "            data ([dataframe]): [a dataframe that contain 2 columns: image name and label]\n",
    "            data_path ([str]): [path/to/folder that contains image file]\n",
    "            transform : [augmentation methods and transformation of images]\n",
    "            training (bool, optional): []. Defaults to True.\n",
    "        \"\"\"\n",
    "        self.data = data\n",
    "        self.imgs = data[\"path\"].unique().tolist()\n",
    "        self.data_path = data_path\n",
    "        self.training = training\n",
    "        self.transform = transform\n",
    "\n",
    "    def __getitem__(self, idx):\n",
    "        img = Image.open(os.path.join(self.data_path, self.data.iloc[idx, 0]))\n",
    "        if(self.training):\n",
    "            label = self.data.iloc[idx, 1]\n",
    "        if self.transform is not None:\n",
    "            img = self.transform(img)\n",
    "        if(self.training):\n",
    "            return img, label\n",
    "        else:\n",
    "            return img\n",
    "\n",
    "    def __len__(self):\n",
    "        return len(self.imgs)\n",
    "\n",
    "\n",
    "def make_loader(dataset, train_batch_size, validation_split=0.2):\n",
    "    \"\"\"make dataloader for pytorch training\n",
    "\n",
    "    Args:\n",
    "        dataset ([object]): [the dataset object]\n",
    "        train_batch_size ([int]): [training batch size]\n",
    "        validation_split (float, optional): [validation ratio]. Defaults to 0.2.\n",
    "\n",
    "    Returns:\n",
    "        [type]: [description]\n",
    "    \"\"\"\n",
    "    # number of samples in train and test set\n",
    "    train_len = int(len(dataset) * (1 - validation_split))\n",
    "    test_len = len(dataset) - train_len\n",
    "    train_set, test_set = torch.utils.data.random_split(dataset, [train_len, test_len])\n",
    "    # create train_loader\n",
    "    print(len(train_set))\n",
    "    train_loader = torch.utils.data.DataLoader(\n",
    "        train_set, batch_size=train_batch_size, shuffle=True,\n",
    "    )\n",
    "    # create test_loader\n",
    "    test_loader = torch.utils.data.DataLoader(test_set, batch_size=1, shuffle=False,)\n",
    "    return train_loader, test_loader\n",
    "\n",
    "\n",
    "def data_split(data, test_size):\n",
    "    x_train, x_test, y_train, y_test = train_test_split(\n",
    "        data, data[\"label\"], test_size=test_size, stratify = data.iloc[:,1]\n",
    "    )\n",
    "    return x_train, x_test, y_train, y_test"
   ]
  },
  {
   "cell_type": "markdown",
   "id": "71385771",
   "metadata": {
    "papermill": {
     "duration": 0.013331,
     "end_time": "2024-06-21T08:14:30.291281",
     "exception": false,
     "start_time": "2024-06-21T08:14:30.277950",
     "status": "completed"
    },
    "tags": []
   },
   "source": [
    "# 1. Define DataLoader"
   ]
  },
  {
   "cell_type": "code",
   "execution_count": 8,
   "id": "ff637935",
   "metadata": {
    "execution": {
     "iopub.execute_input": "2024-06-21T08:14:30.321177Z",
     "iopub.status.busy": "2024-06-21T08:14:30.320797Z",
     "iopub.status.idle": "2024-06-21T08:14:30.325097Z",
     "shell.execute_reply": "2024-06-21T08:14:30.324301Z"
    },
    "papermill": {
     "duration": 0.021331,
     "end_time": "2024-06-21T08:14:30.327133",
     "exception": false,
     "start_time": "2024-06-21T08:14:30.305802",
     "status": "completed"
    },
    "tags": []
   },
   "outputs": [],
   "source": [
    "mean = (0.5, 0.5, 0.5)\n",
    "std = (0.5, 0.5, 0.5)"
   ]
  },
  {
   "cell_type": "code",
   "execution_count": 9,
   "id": "1a018e4d",
   "metadata": {
    "execution": {
     "iopub.execute_input": "2024-06-21T08:14:30.355334Z",
     "iopub.status.busy": "2024-06-21T08:14:30.355063Z",
     "iopub.status.idle": "2024-06-21T08:14:30.360017Z",
     "shell.execute_reply": "2024-06-21T08:14:30.359139Z"
    },
    "papermill": {
     "duration": 0.02155,
     "end_time": "2024-06-21T08:14:30.361986",
     "exception": false,
     "start_time": "2024-06-21T08:14:30.340436",
     "status": "completed"
    },
    "tags": []
   },
   "outputs": [],
   "source": [
    "import torchvision\n",
    "transform = torchvision.transforms.Compose([torchvision.transforms.Resize((224, 224)),\n",
    "                                               torchvision.transforms.ToTensor(),\n",
    "                                               torchvision.transforms.Normalize(mean, std)])"
   ]
  },
  {
   "cell_type": "code",
   "execution_count": 10,
   "id": "7e70102b",
   "metadata": {
    "execution": {
     "iopub.execute_input": "2024-06-21T08:14:30.390020Z",
     "iopub.status.busy": "2024-06-21T08:14:30.389740Z",
     "iopub.status.idle": "2024-06-21T08:14:30.394154Z",
     "shell.execute_reply": "2024-06-21T08:14:30.393418Z"
    },
    "papermill": {
     "duration": 0.02017,
     "end_time": "2024-06-21T08:14:30.395908",
     "exception": false,
     "start_time": "2024-06-21T08:14:30.375738",
     "status": "completed"
    },
    "tags": []
   },
   "outputs": [],
   "source": [
    "test_transform = torchvision.transforms.Compose([torchvision.transforms.Resize((224, 224)),\n",
    "                                               torchvision.transforms.ToTensor(),\n",
    "                                               torchvision.transforms.Normalize(mean, std)])"
   ]
  },
  {
   "cell_type": "code",
   "execution_count": 11,
   "id": "fc6d186e",
   "metadata": {
    "execution": {
     "iopub.execute_input": "2024-06-21T08:14:30.423672Z",
     "iopub.status.busy": "2024-06-21T08:14:30.423404Z",
     "iopub.status.idle": "2024-06-21T08:14:30.452948Z",
     "shell.execute_reply": "2024-06-21T08:14:30.452005Z"
    },
    "papermill": {
     "duration": 0.045675,
     "end_time": "2024-06-21T08:14:30.454941",
     "exception": false,
     "start_time": "2024-06-21T08:14:30.409266",
     "status": "completed"
    },
    "tags": []
   },
   "outputs": [
    {
     "name": "stdout",
     "output_type": "stream",
     "text": [
      "6400\n"
     ]
    }
   ],
   "source": [
    "dataset = ClassificationDataset(train_df,data_path = \"\",transform=transform,training=True)\n",
    "train_loader,val_loader = make_loader(dataset, train_batch_size=config.batch_size, validation_split=0.2)"
   ]
  },
  {
   "cell_type": "code",
   "execution_count": 12,
   "id": "8a550e16",
   "metadata": {
    "execution": {
     "iopub.execute_input": "2024-06-21T08:14:30.483295Z",
     "iopub.status.busy": "2024-06-21T08:14:30.483035Z",
     "iopub.status.idle": "2024-06-21T08:14:30.487790Z",
     "shell.execute_reply": "2024-06-21T08:14:30.487005Z"
    },
    "papermill": {
     "duration": 0.021029,
     "end_time": "2024-06-21T08:14:30.489736",
     "exception": false,
     "start_time": "2024-06-21T08:14:30.468707",
     "status": "completed"
    },
    "tags": []
   },
   "outputs": [
    {
     "name": "stdout",
     "output_type": "stream",
     "text": [
      "Random seed:  126\n"
     ]
    }
   ],
   "source": [
    "import random\n",
    "\n",
    "random_seed = random.randint(0, 128)\n",
    "print(\"Random seed: \",random_seed)"
   ]
  },
  {
   "cell_type": "code",
   "execution_count": 13,
   "id": "a884c5a7",
   "metadata": {
    "execution": {
     "iopub.execute_input": "2024-06-21T08:14:30.517914Z",
     "iopub.status.busy": "2024-06-21T08:14:30.517665Z",
     "iopub.status.idle": "2024-06-21T08:14:30.529179Z",
     "shell.execute_reply": "2024-06-21T08:14:30.528525Z"
    },
    "papermill": {
     "duration": 0.027657,
     "end_time": "2024-06-21T08:14:30.531038",
     "exception": false,
     "start_time": "2024-06-21T08:14:30.503381",
     "status": "completed"
    },
    "tags": []
   },
   "outputs": [],
   "source": [
    " X_train, X_test, y_train, y_test = train_test_split(train_df, train_df['label'],stratify=train_df['label'], test_size=0.2, random_state=42)"
   ]
  },
  {
   "cell_type": "code",
   "execution_count": 14,
   "id": "ac1b35cd",
   "metadata": {
    "execution": {
     "iopub.execute_input": "2024-06-21T08:14:30.560662Z",
     "iopub.status.busy": "2024-06-21T08:14:30.560377Z",
     "iopub.status.idle": "2024-06-21T08:14:30.568348Z",
     "shell.execute_reply": "2024-06-21T08:14:30.567688Z"
    },
    "papermill": {
     "duration": 0.025615,
     "end_time": "2024-06-21T08:14:30.570181",
     "exception": false,
     "start_time": "2024-06-21T08:14:30.544566",
     "status": "completed"
    },
    "tags": []
   },
   "outputs": [],
   "source": [
    "train_dataset = ClassificationDataset(X_train,data_path = \"\",transform=transform,training=True)\n",
    "val_dataset = ClassificationDataset(X_test,data_path = \"\",transform=test_transform,training=True)"
   ]
  },
  {
   "cell_type": "code",
   "execution_count": 15,
   "id": "b777a59b",
   "metadata": {
    "execution": {
     "iopub.execute_input": "2024-06-21T08:14:30.598302Z",
     "iopub.status.busy": "2024-06-21T08:14:30.598026Z",
     "iopub.status.idle": "2024-06-21T08:14:30.602975Z",
     "shell.execute_reply": "2024-06-21T08:14:30.602137Z"
    },
    "papermill": {
     "duration": 0.021037,
     "end_time": "2024-06-21T08:14:30.604762",
     "exception": false,
     "start_time": "2024-06-21T08:14:30.583725",
     "status": "completed"
    },
    "tags": []
   },
   "outputs": [],
   "source": [
    "train_loader = torch.utils.data.DataLoader(\n",
    "        train_dataset, batch_size=config.batch_size, shuffle=True,\n",
    "    )\n",
    "    # create test_loader\n",
    "val_loader = torch.utils.data.DataLoader(val_dataset, batch_size=1, shuffle=False)"
   ]
  },
  {
   "cell_type": "code",
   "execution_count": 16,
   "id": "adc32e93",
   "metadata": {
    "execution": {
     "iopub.execute_input": "2024-06-21T08:14:30.633211Z",
     "iopub.status.busy": "2024-06-21T08:14:30.632913Z",
     "iopub.status.idle": "2024-06-21T08:14:30.637727Z",
     "shell.execute_reply": "2024-06-21T08:14:30.636938Z"
    },
    "papermill": {
     "duration": 0.02122,
     "end_time": "2024-06-21T08:14:30.639607",
     "exception": false,
     "start_time": "2024-06-21T08:14:30.618387",
     "status": "completed"
    },
    "tags": []
   },
   "outputs": [],
   "source": [
    "testset = ClassificationDataset(test_df,data_path = \"\",transform=test_transform,training=False)\n",
    "test_loader = torch.utils.data.DataLoader(\n",
    "        testset, batch_size=1, shuffle=False,\n",
    "    )"
   ]
  },
  {
   "cell_type": "code",
   "execution_count": 17,
   "id": "f085dcc3",
   "metadata": {
    "execution": {
     "iopub.execute_input": "2024-06-21T08:14:30.669476Z",
     "iopub.status.busy": "2024-06-21T08:14:30.669207Z",
     "iopub.status.idle": "2024-06-21T08:14:38.345493Z",
     "shell.execute_reply": "2024-06-21T08:14:38.344467Z"
    },
    "papermill": {
     "duration": 7.694085,
     "end_time": "2024-06-21T08:14:38.348026",
     "exception": false,
     "start_time": "2024-06-21T08:14:30.653941",
     "status": "completed"
    },
    "tags": []
   },
   "outputs": [
    {
     "name": "stderr",
     "output_type": "stream",
     "text": [
      "100%|██████████| 770/770 [00:07<00:00, 101.07it/s]\n"
     ]
    }
   ],
   "source": [
    "from tqdm import tqdm\n",
    "psum    = torch.tensor([0.0, 0.0, 0.0])\n",
    "psum_sq = torch.tensor([0.0, 0.0, 0.0])\n",
    "\n",
    "# loop through images\n",
    "for inputs in tqdm(test_loader):\n",
    "    psum    += inputs.sum(axis        = [0, 2, 3])\n",
    "    psum_sq += (inputs ** 2).sum(axis = [0, 2, 3])\n",
    "\n",
    "count = len(test_df) * 224 * 224\n",
    "\n",
    "# mean and std\n",
    "test_mean = psum / count\n",
    "test_var  = (psum_sq / count) - (test_mean ** 2)\n",
    "test_std  = torch.sqrt(test_var)"
   ]
  },
  {
   "cell_type": "code",
   "execution_count": 18,
   "id": "039302c1",
   "metadata": {
    "execution": {
     "iopub.execute_input": "2024-06-21T08:14:38.390622Z",
     "iopub.status.busy": "2024-06-21T08:14:38.389833Z",
     "iopub.status.idle": "2024-06-21T08:15:45.889912Z",
     "shell.execute_reply": "2024-06-21T08:15:45.888904Z"
    },
    "papermill": {
     "duration": 67.523373,
     "end_time": "2024-06-21T08:15:45.892768",
     "exception": false,
     "start_time": "2024-06-21T08:14:38.369395",
     "status": "completed"
    },
    "tags": []
   },
   "outputs": [
    {
     "name": "stderr",
     "output_type": "stream",
     "text": [
      "100%|██████████| 400/400 [01:07<00:00,  5.93it/s]\n"
     ]
    }
   ],
   "source": [
    "psum    = torch.tensor([0.0, 0.0, 0.0])\n",
    "psum_sq = torch.tensor([0.0, 0.0, 0.0])\n",
    "\n",
    "# loop through images\n",
    "for inputs,_ in tqdm(train_loader):\n",
    "    psum    += inputs.sum(axis        = [0, 2, 3])\n",
    "    psum_sq += (inputs ** 2).sum(axis = [0, 2, 3])\n",
    "\n",
    "count = len(train_loader) * 224 * 224\n",
    "\n",
    "# mean and std\n",
    "train_mean = psum / count\n",
    "train_var  = (psum_sq / count) - (train_mean ** 2)\n",
    "train_std  = torch.sqrt(train_var)"
   ]
  },
  {
   "cell_type": "code",
   "execution_count": 19,
   "id": "8e0c1e16",
   "metadata": {
    "execution": {
     "iopub.execute_input": "2024-06-21T08:15:46.042639Z",
     "iopub.status.busy": "2024-06-21T08:15:46.042019Z",
     "iopub.status.idle": "2024-06-21T08:15:46.048545Z",
     "shell.execute_reply": "2024-06-21T08:15:46.047721Z"
    },
    "papermill": {
     "duration": 0.060107,
     "end_time": "2024-06-21T08:15:46.050447",
     "exception": false,
     "start_time": "2024-06-21T08:15:45.990340",
     "status": "completed"
    },
    "tags": []
   },
   "outputs": [],
   "source": [
    "def imshow(inp, title=None):\n",
    "    \"\"\"Imshow for Tensor.\"\"\"\n",
    "    inp = inp.numpy().transpose((1, 2, 0))\n",
    "    mean = np.array([0.485, 0.456, 0.406])\n",
    "    std = np.array([0.229, 0.224, 0.225])\n",
    "    inp = std * inp + mean\n",
    "    inp = np.clip(inp, 0, 1)\n",
    "    plt.figure(figsize = (12, 12))\n",
    "    plt.imshow(inp)\n",
    "    if title is not None:\n",
    "        plt.title(title)\n",
    "    plt.axis(\"off\")\n",
    "    plt.pause(0.001)"
   ]
  },
  {
   "cell_type": "code",
   "execution_count": 20,
   "id": "7b933769",
   "metadata": {
    "execution": {
     "iopub.execute_input": "2024-06-21T08:15:46.152532Z",
     "iopub.status.busy": "2024-06-21T08:15:46.151934Z",
     "iopub.status.idle": "2024-06-21T08:15:46.893679Z",
     "shell.execute_reply": "2024-06-21T08:15:46.892810Z"
    },
    "papermill": {
     "duration": 0.797352,
     "end_time": "2024-06-21T08:15:46.897745",
     "exception": false,
     "start_time": "2024-06-21T08:15:46.100393",
     "status": "completed"
    },
    "tags": []
   },
   "outputs": [
    {
     "data": {
      "image/png": "[encoded data removed]",
      "text/plain": [
       "<Figure size 1200x1200 with 1 Axes>"
      ]
     },
     "metadata": {},
     "output_type": "display_data"
    }
   ],
   "source": [
    "import matplotlib.pyplot as plt\n",
    "\n",
    "%matplotlib inline\n",
    "# Visualization\n",
    "images, classes = next(iter(train_loader))\n",
    "# Make a grid from batch\n",
    "out = torchvision.utils.make_grid(images, nrow=8)\n",
    "imshow(out, title=classes)"
   ]
  },
  {
   "cell_type": "markdown",
   "id": "76b61667",
   "metadata": {
    "papermill": {
     "duration": 0.052768,
     "end_time": "2024-06-21T08:15:47.004154",
     "exception": false,
     "start_time": "2024-06-21T08:15:46.951386",
     "status": "completed"
    },
    "tags": []
   },
   "source": [
    "# 2. Define Metrics and Optimizers and Loss function\n"
   ]
  },
  {
   "cell_type": "code",
   "execution_count": 21,
   "id": "8035184c",
   "metadata": {
    "execution": {
     "iopub.execute_input": "2024-06-21T08:15:47.111230Z",
     "iopub.status.busy": "2024-06-21T08:15:47.110486Z",
     "iopub.status.idle": "2024-06-21T08:15:47.119857Z",
     "shell.execute_reply": "2024-06-21T08:15:47.119032Z"
    },
    "papermill": {
     "duration": 0.065053,
     "end_time": "2024-06-21T08:15:47.121684",
     "exception": false,
     "start_time": "2024-06-21T08:15:47.056631",
     "status": "completed"
    },
    "tags": []
   },
   "outputs": [],
   "source": [
    "from sklearn import metrics as skmetrics\n",
    "import numpy\n",
    "class Metrics:\n",
    "    def __init__(self, metric_names):\n",
    "        self.metric_names = metric_names\n",
    "        # initialize a metric dictionary\n",
    "        self.metric_dict = {metric_name: [0] for metric_name in self.metric_names}\n",
    "\n",
    "    def step(self, labels, preds):\n",
    "        for metric in self.metric_names:\n",
    "            # get the metric function\n",
    "            do_metric = getattr(\n",
    "                skmetrics, metric, \"The metric {} is not implemented\".format(metric)\n",
    "            )\n",
    "            # check if metric require average method, if yes set to 'micro' or 'macro' or 'None'\n",
    "            try:\n",
    "                self.metric_dict[metric].append(\n",
    "                    do_metric(labels, preds, average=\"macro\")\n",
    "                )\n",
    "            except:\n",
    "                self.metric_dict[metric].append(do_metric(labels, preds))\n",
    "\n",
    "    def epoch(self):\n",
    "        # calculate metrics for an entire epoch\n",
    "        avg = [sum(metric) / (len(metric) - 1) for metric in self.metric_dict.values()]\n",
    "        metric_as_dict = dict(zip(self.metric_names, avg))\n",
    "        return metric_as_dict\n",
    "\n",
    "    def last_step_metrics(self):\n",
    "        # return metrics of last steps\n",
    "        values = [self.metric_dict[metric][-1] for metric in self.metric_names]\n",
    "        metric_as_dict = dict(zip(self.metric_names, values))\n",
    "        return metric_as_dict"
   ]
  },
  {
   "cell_type": "code",
   "execution_count": 22,
   "id": "67b53f61",
   "metadata": {
    "execution": {
     "iopub.execute_input": "2024-06-21T08:15:47.237206Z",
     "iopub.status.busy": "2024-06-21T08:15:47.236841Z",
     "iopub.status.idle": "2024-06-21T08:15:47.241450Z",
     "shell.execute_reply": "2024-06-21T08:15:47.240548Z"
    },
    "papermill": {
     "duration": 0.065639,
     "end_time": "2024-06-21T08:15:47.243529",
     "exception": false,
     "start_time": "2024-06-21T08:15:47.177890",
     "status": "completed"
    },
    "tags": []
   },
   "outputs": [],
   "source": [
    "train_metrics = Metrics([\"accuracy_score\",\"f1_score\"])\n",
    "val_metrics = Metrics([\"accuracy_score\",\"f1_score\"])"
   ]
  },
  {
   "cell_type": "code",
   "execution_count": 23,
   "id": "801d39d3",
   "metadata": {
    "execution": {
     "iopub.execute_input": "2024-06-21T08:15:47.352835Z",
     "iopub.status.busy": "2024-06-21T08:15:47.352111Z",
     "iopub.status.idle": "2024-06-21T08:15:47.404994Z",
     "shell.execute_reply": "2024-06-21T08:15:47.404022Z"
    },
    "papermill": {
     "duration": 0.10934,
     "end_time": "2024-06-21T08:15:47.406929",
     "exception": false,
     "start_time": "2024-06-21T08:15:47.297589",
     "status": "completed"
    },
    "tags": []
   },
   "outputs": [],
   "source": [
    "device = torch.device(\"cuda:0\" if torch.cuda.is_available() else \"cpu\")\n",
    "criterion = nn.CrossEntropyLoss()"
   ]
  },
  {
   "cell_type": "markdown",
   "id": "739805b1",
   "metadata": {
    "papermill": {
     "duration": 0.055805,
     "end_time": "2024-06-21T08:15:47.516343",
     "exception": false,
     "start_time": "2024-06-21T08:15:47.460538",
     "status": "completed"
    },
    "tags": []
   },
   "source": [
    "4. Define the Model: Transfer Learning\n"
   ]
  },
  {
   "cell_type": "code",
   "execution_count": 24,
   "id": "f5707875",
   "metadata": {
    "execution": {
     "iopub.execute_input": "2024-06-21T08:15:47.631087Z",
     "iopub.status.busy": "2024-06-21T08:15:47.630234Z",
     "iopub.status.idle": "2024-06-21T08:16:00.370486Z",
     "shell.execute_reply": "2024-06-21T08:16:00.369618Z"
    },
    "papermill": {
     "duration": 12.79956,
     "end_time": "2024-06-21T08:16:00.372809",
     "exception": false,
     "start_time": "2024-06-21T08:15:47.573249",
     "status": "completed"
    },
    "tags": []
   },
   "outputs": [
    {
     "data": {
      "application/vnd.jupyter.widget-view+json": {
       "model_id": "b02f608178e3463993a1acc4cfc4ccfd",
       "version_major": 2,
       "version_minor": 0
      },
      "text/plain": [
       "model.safetensors:   0%|          | 0.00/346M [00:00<?, ?B/s]"
      ]
     },
     "metadata": {},
     "output_type": "display_data"
    }
   ],
   "source": [
    "model = timm.create_model(config.model_names, pretrained=True)\n",
    "for param in model.parameters():\n",
    "    param.requires_grad = True\n",
    "classifier = nn.Sequential(\n",
    "    nn.Linear(in_features=model.head.in_features, out_features=256, bias=True),\n",
    "    nn.Linear(in_features=256, out_features=2, bias=True)\n",
    ")\n",
    "model.head = classifier\n",
    "\n",
    "optimizer = torch.optim.Adam(model.parameters(), lr=0.01)\n",
    "scheduler = torch.optim.lr_scheduler.ReduceLROnPlateau(\n",
    "        optimizer, \"min\", patience=2, factor=0.5\n",
    "    )\n",
    "\n",
    "\n",
    "model = model.to(device)"
   ]
  },
  {
   "cell_type": "markdown",
   "id": "4e9e6645",
   "metadata": {
    "papermill": {
     "duration": 0.054905,
     "end_time": "2024-06-21T08:16:00.482309",
     "exception": false,
     "start_time": "2024-06-21T08:16:00.427404",
     "status": "completed"
    },
    "tags": []
   },
   "source": [
    "# 3. Define a training epoch\n"
   ]
  },
  {
   "cell_type": "code",
   "execution_count": 25,
   "id": "50add72f",
   "metadata": {
    "execution": {
     "iopub.execute_input": "2024-06-21T08:16:00.623291Z",
     "iopub.status.busy": "2024-06-21T08:16:00.622136Z",
     "iopub.status.idle": "2024-06-21T08:16:00.639688Z",
     "shell.execute_reply": "2024-06-21T08:16:00.638534Z"
    },
    "papermill": {
     "duration": 0.097663,
     "end_time": "2024-06-21T08:16:00.642330",
     "exception": false,
     "start_time": "2024-06-21T08:16:00.544667",
     "status": "completed"
    },
    "tags": []
   },
   "outputs": [],
   "source": [
    "def train_one_epoch(\n",
    "    model,\n",
    "    train_loader,\n",
    "    test_loader,\n",
    "    device,\n",
    "    optimizer,\n",
    "    criterion,\n",
    "    train_metrics,\n",
    "    val_metrics,\n",
    "):\n",
    "\n",
    "    # training-the-model\n",
    "    train_loss = 0\n",
    "    valid_loss = 0\n",
    "    all_labels = []\n",
    "    all_preds = []\n",
    "    model.train()\n",
    "    for data, target in train_loader:\n",
    "        # move-tensors-to-GPU\n",
    "        data = data.type(torch.FloatTensor).to(device)\n",
    "        # target=torch.Tensor(target)\n",
    "        target = target.float().to(device)\n",
    "        # clear-the-gradients-of-all-optimized-variables\n",
    "        optimizer.zero_grad()\n",
    "        # forward-pass: compute-predicted-outputs-by-passing-inputs-to-the-model\n",
    "        output = model(data)\n",
    "        # get the prediction label and target label\n",
    "        output = model(data)\n",
    "        preds = torch.argmax(output, axis=1).cpu().detach().numpy()\n",
    "        labels = target.cpu().numpy()\n",
    "        # calculate-the-batch-loss\n",
    "        loss = criterion(output.type(torch.FloatTensor).to(device), target.type(torch.LongTensor).to(device))\n",
    "        # backward-pass: compute-gradient-of-the-loss-wrt-model-parameters\n",
    "        loss.backward()\n",
    "        # perform-a-ingle-optimization-step (parameter-update)\n",
    "        optimizer.step()\n",
    "        # update-training-loss\n",
    "        train_loss += loss.item() * data.size(0)\n",
    "        # calculate training metrics\n",
    "        all_labels.extend(labels)\n",
    "        all_preds.extend(preds)\n",
    "    \n",
    "    train_metrics.step(all_labels, all_preds)\n",
    "\n",
    "    # validate-the-model\n",
    "    model.eval()\n",
    "    all_labels = []\n",
    "    all_preds = []\n",
    "    for data, target in test_loader:\n",
    "        data = data.type(torch.FloatTensor).to(device)\n",
    "        target = target.to(device)\n",
    "        output = model(data)\n",
    "        preds = torch.argmax(output, axis=1).tolist()\n",
    "        labels = target.tolist()\n",
    "        all_labels.extend(labels)\n",
    "        all_preds.extend(preds)\n",
    "        loss = criterion(output, target)\n",
    "\n",
    "        # update-average-validation-loss\n",
    "        valid_loss += loss.item() * data.size(0)\n",
    "\n",
    "    val_metrics.step(all_labels, all_preds)\n",
    "    train_loss = train_loss / len(train_loader.sampler)\n",
    "    valid_loss = valid_loss / len(test_loader.sampler)\n",
    "\n",
    "    return (\n",
    "        train_loss,\n",
    "        valid_loss,\n",
    "        train_metrics.last_step_metrics(),\n",
    "        val_metrics.last_step_metrics(),\n",
    "    )"
   ]
  },
  {
   "cell_type": "markdown",
   "id": "434b5bc1",
   "metadata": {
    "papermill": {
     "duration": 0.067713,
     "end_time": "2024-06-21T08:16:00.782202",
     "exception": false,
     "start_time": "2024-06-21T08:16:00.714489",
     "status": "completed"
    },
    "tags": []
   },
   "source": [
    "# Training"
   ]
  },
  {
   "cell_type": "code",
   "execution_count": 26,
   "id": "18d9bc50",
   "metadata": {
    "execution": {
     "iopub.execute_input": "2024-06-21T08:16:00.912633Z",
     "iopub.status.busy": "2024-06-21T08:16:00.912232Z",
     "iopub.status.idle": "2024-06-21T08:16:00.917714Z",
     "shell.execute_reply": "2024-06-21T08:16:00.916597Z"
    },
    "papermill": {
     "duration": 0.07992,
     "end_time": "2024-06-21T08:16:00.920201",
     "exception": false,
     "start_time": "2024-06-21T08:16:00.840281",
     "status": "completed"
    },
    "tags": []
   },
   "outputs": [],
   "source": [
    "from tqdm import tqdm\n",
    "from datetime import datetime\n",
    "time_str = str(datetime.now().strftime(\"%Y%m%d-%H%M\"))"
   ]
  },
  {
   "cell_type": "code",
   "execution_count": 27,
   "id": "8d3e2bac",
   "metadata": {
    "execution": {
     "iopub.execute_input": "2024-06-21T08:16:01.056998Z",
     "iopub.status.busy": "2024-06-21T08:16:01.056599Z",
     "iopub.status.idle": "2024-06-21T08:16:17.418354Z",
     "shell.execute_reply": "2024-06-21T08:16:17.417540Z"
    },
    "papermill": {
     "duration": 16.429581,
     "end_time": "2024-06-21T08:16:17.420516",
     "exception": false,
     "start_time": "2024-06-21T08:16:00.990935",
     "status": "completed"
    },
    "tags": []
   },
   "outputs": [
    {
     "name": "stderr",
     "output_type": "stream",
     "text": [
      "\u001b[34m\u001b[1mwandb\u001b[0m: Currently logged in as: \u001b[33mthinh_dao_tuan\u001b[0m. Use \u001b[1m`wandb login --relogin`\u001b[0m to force relogin\n",
      "\u001b[34m\u001b[1mwandb\u001b[0m: Tracking run with wandb version 0.17.2\n",
      "\u001b[34m\u001b[1mwandb\u001b[0m: Run data is saved locally in \u001b[35m\u001b[1m/kaggle/working/wandb/run-20240621_081601-uj17lx2u\u001b[0m\n",
      "\u001b[34m\u001b[1mwandb\u001b[0m: Run \u001b[1m`wandb offline`\u001b[0m to turn off syncing.\n",
      "\u001b[34m\u001b[1mwandb\u001b[0m: Syncing run \u001b[33mvit_base\u001b[0m\n",
      "\u001b[34m\u001b[1mwandb\u001b[0m: ⭐️ View project at \u001b[34m\u001b[4mhttps://wandb.ai/thinh_dao_tuan/eyepacs-airogs-light-v2\u001b[0m\n",
      "\u001b[34m\u001b[1mwandb\u001b[0m: 🚀 View run at \u001b[34m\u001b[4mhttps://wandb.ai/thinh_dao_tuan/eyepacs-airogs-light-v2/runs/uj17lx2u\u001b[0m\n"
     ]
    }
   ],
   "source": [
    "for param in model.parameters():\n",
    "    param.requires_grad = True\n",
    "optimizer = torch.optim.Adam(model.parameters(), lr=0.0001, betas=(0.9, 0.999), eps=1e-08, weight_decay=0)\n",
    "# Initialize a new run\n",
    "\n",
    "run = wandb.init(project=\"eyepacs-airogs-light-v2\", name = \"vit_base\", reinit=True)\n",
    "\n",
    "model = model.to(device)\n",
    "num_epoch = config.num_epochs\n",
    "best_val_acc = 0.0\n",
    "import logging\n",
    "import numpy as np"
   ]
  },
  {
   "cell_type": "code",
   "execution_count": 28,
   "id": "fc384745",
   "metadata": {
    "execution": {
     "iopub.execute_input": "2024-06-21T08:16:17.532682Z",
     "iopub.status.busy": "2024-06-21T08:16:17.531851Z",
     "iopub.status.idle": "2024-06-21T17:29:11.836557Z",
     "shell.execute_reply": "2024-06-21T17:29:11.835669Z"
    },
    "papermill": {
     "duration": 33174.430885,
     "end_time": "2024-06-21T17:29:11.906719",
     "exception": false,
     "start_time": "2024-06-21T08:16:17.475834",
     "status": "completed"
    },
    "tags": []
   },
   "outputs": [
    {
     "name": "stdout",
     "output_type": "stream",
     "text": [
      "begin training process\n"
     ]
    },
    {
     "name": "stderr",
     "output_type": "stream",
     "text": [
      "  0%|          | 0/40 [00:00<?, ?it/s]"
     ]
    },
    {
     "name": "stdout",
     "output_type": "stream",
     "text": [
      "Epoch 1 / 40 \n",
      " Training loss: 0.6926682904362679 - Other training metrics: \n",
      "{'accuracy_score': 0.541875, 'f1_score': 0.5411522700159264}\n",
      " \n",
      " Validation loss : 0.6502436560206115 - Other validation metrics:\n",
      "{'accuracy_score': 0.63125, 'f1_score': 0.6308895405669599}\n",
      "\n",
      "\n",
      "Validation accuracy= 0.63125===> Save best epoch\n"
     ]
    },
    {
     "name": "stderr",
     "output_type": "stream",
     "text": [
      "  5%|▌         | 2/40 [27:41<8:45:45, 830.14s/it]"
     ]
    },
    {
     "name": "stdout",
     "output_type": "stream",
     "text": [
      "Epoch 2 / 40 \n",
      " Training loss: 0.6672607663273812 - Other training metrics: \n",
      "{'accuracy_score': 0.595, 'f1_score': 0.5944104692797618}\n",
      " \n",
      " Validation loss : 0.6569820358790457 - Other validation metrics:\n",
      "{'accuracy_score': 0.591875, 'f1_score': 0.5915225286194221}\n",
      "\n",
      "\n",
      "Validation accuracy= 0.591875===> No saving\n",
      "Epoch 3 / 40 \n",
      " Training loss: 0.6491885060071945 - Other training metrics: \n",
      "{'accuracy_score': 0.62671875, 'f1_score': 0.6265622909051323}\n",
      " \n",
      " Validation loss : 0.5907850230718031 - Other validation metrics:\n",
      "{'accuracy_score': 0.69875, 'f1_score': 0.6968095813204509}\n",
      "\n",
      "\n",
      "Validation accuracy= 0.69875===> Save best epoch\n"
     ]
    },
    {
     "name": "stderr",
     "output_type": "stream",
     "text": [
      "  8%|▊         | 3/40 [41:28<8:31:03, 828.73s/it]"
     ]
    },
    {
     "name": "stdout",
     "output_type": "stream",
     "text": [
      "Epoch 4 / 40 \n",
      " Training loss: 0.5763100558519363 - Other training metrics: \n",
      "{'accuracy_score': 0.6978125, 'f1_score': 0.6978123819579616}\n",
      " \n",
      " Validation loss : 0.5594899806194007 - Other validation metrics:\n",
      "{'accuracy_score': 0.723125, 'f1_score': 0.7177398961993247}\n",
      "\n",
      "\n",
      "Validation accuracy= 0.723125===> Save best epoch\n"
     ]
    },
    {
     "name": "stderr",
     "output_type": "stream",
     "text": [
      " 12%|█▎        | 5/40 [1:09:11<8:04:17, 830.23s/it]"
     ]
    },
    {
     "name": "stdout",
     "output_type": "stream",
     "text": [
      "Epoch 5 / 40 \n",
      " Training loss: 0.5069693075492978 - Other training metrics: \n",
      "{'accuracy_score': 0.75234375, 'f1_score': 0.7523078963261065}\n",
      " \n",
      " Validation loss : 0.5335583441145718 - Other validation metrics:\n",
      "{'accuracy_score': 0.713125, 'f1_score': 0.6977378493208362}\n",
      "\n",
      "\n",
      "Validation accuracy= 0.713125===> No saving\n",
      "Epoch 6 / 40 \n",
      " Training loss: 0.42244756711646914 - Other training metrics: \n",
      "{'accuracy_score': 0.8103125, 'f1_score': 0.8103113144457152}\n",
      " \n",
      " Validation loss : 0.5206463848170825 - Other validation metrics:\n",
      "{'accuracy_score': 0.736875, 'f1_score': 0.7242001661513845}\n",
      "\n",
      "\n",
      "Validation accuracy= 0.736875===> Save best epoch\n"
     ]
    },
    {
     "name": "stderr",
     "output_type": "stream",
     "text": [
      " 15%|█▌        | 6/40 [1:23:03<7:50:53, 831.00s/it]"
     ]
    },
    {
     "name": "stdout",
     "output_type": "stream",
     "text": [
      "Epoch 7 / 40 \n",
      " Training loss: 0.3553830027021468 - Other training metrics: \n",
      "{'accuracy_score': 0.844375, 'f1_score': 0.8443728114926615}\n",
      " \n",
      " Validation loss : 0.5162818589573726 - Other validation metrics:\n",
      "{'accuracy_score': 0.750625, 'f1_score': 0.7407018839324119}\n",
      "\n",
      "\n",
      "Validation accuracy= 0.750625===> Save best epoch\n"
     ]
    },
    {
     "name": "stderr",
     "output_type": "stream",
     "text": [
      " 18%|█▊        | 7/40 [1:36:56<7:37:21, 831.56s/it]"
     ]
    },
    {
     "name": "stdout",
     "output_type": "stream",
     "text": [
      "Epoch 8 / 40 \n",
      " Training loss: 0.2999001775775105 - Other training metrics: \n",
      "{'accuracy_score': 0.87734375, 'f1_score': 0.8773412315423761}\n",
      " \n",
      " Validation loss : 0.4573880867905973 - Other validation metrics:\n",
      "{'accuracy_score': 0.78, 'f1_score': 0.7763645258229086}\n",
      "\n",
      "\n",
      "Validation accuracy= 0.78===> Save best epoch\n"
     ]
    },
    {
     "name": "stderr",
     "output_type": "stream",
     "text": [
      " 20%|██        | 8/40 [1:50:46<7:23:14, 831.09s/it]"
     ]
    },
    {
     "name": "stdout",
     "output_type": "stream",
     "text": [
      "Epoch 9 / 40 \n",
      " Training loss: 0.24285965921822936 - Other training metrics: \n",
      "{'accuracy_score': 0.90140625, 'f1_score': 0.9014061898231139}\n",
      " \n",
      " Validation loss : 0.522028150627267 - Other validation metrics:\n",
      "{'accuracy_score': 0.82625, 'f1_score': 0.8260213812212611}\n",
      "\n",
      "\n",
      "Validation accuracy= 0.82625===> Save best epoch\n"
     ]
    },
    {
     "name": "stderr",
     "output_type": "stream",
     "text": [
      " 25%|██▌       | 10/40 [2:18:26<6:55:12, 830.41s/it]"
     ]
    },
    {
     "name": "stdout",
     "output_type": "stream",
     "text": [
      "Epoch 10 / 40 \n",
      " Training loss: 0.21766540662851186 - Other training metrics: \n",
      "{'accuracy_score': 0.91484375, 'f1_score': 0.9148383421515609}\n",
      " \n",
      " Validation loss : 0.4139708749114652 - Other validation metrics:\n",
      "{'accuracy_score': 0.825, 'f1_score': 0.824168923427136}\n",
      "\n",
      "\n",
      "Validation accuracy= 0.825===> No saving\n",
      "Epoch 11 / 40 \n",
      " Training loss: 0.1706779623834882 - Other training metrics: \n",
      "{'accuracy_score': 0.93265625, 'f1_score': 0.9326548672544765}\n",
      " \n",
      " Validation loss : 0.40094678560592 - Other validation metrics:\n",
      "{'accuracy_score': 0.830625, 'f1_score': 0.8301456258385482}\n",
      "\n",
      "\n",
      "Validation accuracy= 0.830625===> Save best epoch\n"
     ]
    },
    {
     "name": "stderr",
     "output_type": "stream",
     "text": [
      " 28%|██▊       | 11/40 [2:32:16<6:41:18, 830.28s/it]"
     ]
    },
    {
     "name": "stdout",
     "output_type": "stream",
     "text": [
      "Epoch 12 / 40 \n",
      " Training loss: 0.1381506920553511 - Other training metrics: \n",
      "{'accuracy_score': 0.94640625, 'f1_score': 0.9464062486915588}\n",
      " \n",
      " Validation loss : 0.39768286518174134 - Other validation metrics:\n",
      "{'accuracy_score': 0.84125, 'f1_score': 0.8412199806525922}\n",
      "\n",
      "\n",
      "Validation accuracy= 0.84125===> Save best epoch\n"
     ]
    },
    {
     "name": "stderr",
     "output_type": "stream",
     "text": [
      " 30%|███       | 12/40 [2:46:03<6:27:04, 829.45s/it]"
     ]
    },
    {
     "name": "stdout",
     "output_type": "stream",
     "text": [
      "Epoch 13 / 40 \n",
      " Training loss: 0.1179983247394557 - Other training metrics: \n",
      "{'accuracy_score': 0.95625, 'f1_score': 0.9562498931882157}\n",
      " \n",
      " Validation loss : 0.5182903935256468 - Other validation metrics:\n",
      "{'accuracy_score': 0.841875, 'f1_score': 0.8417903949416701}\n",
      "\n",
      "\n",
      "Validation accuracy= 0.841875===> Save best epoch\n"
     ]
    },
    {
     "name": "stderr",
     "output_type": "stream",
     "text": [
      " 32%|███▎      | 13/40 [2:59:51<6:12:57, 828.81s/it]"
     ]
    },
    {
     "name": "stdout",
     "output_type": "stream",
     "text": [
      "Epoch 14 / 40 \n",
      " Training loss: 0.10772743390705727 - Other training metrics: \n",
      "{'accuracy_score': 0.9596875, 'f1_score': 0.959687496063232}\n",
      " \n",
      " Validation loss : 0.5605826820306845 - Other validation metrics:\n",
      "{'accuracy_score': 0.856875, 'f1_score': 0.8566931234210917}\n",
      "\n",
      "\n",
      "Validation accuracy= 0.856875===> Save best epoch\n"
     ]
    },
    {
     "name": "stderr",
     "output_type": "stream",
     "text": [
      " 38%|███▊      | 15/40 [3:27:27<5:45:15, 828.61s/it]"
     ]
    },
    {
     "name": "stdout",
     "output_type": "stream",
     "text": [
      "Epoch 15 / 40 \n",
      " Training loss: 0.0864328294582083 - Other training metrics: \n",
      "{'accuracy_score': 0.96921875, 'f1_score': 0.9692186590687928}\n",
      " \n",
      " Validation loss : 0.5467767749906993 - Other validation metrics:\n",
      "{'accuracy_score': 0.848125, 'f1_score': 0.8479705356887994}\n",
      "\n",
      "\n",
      "Validation accuracy= 0.848125===> No saving\n"
     ]
    },
    {
     "name": "stderr",
     "output_type": "stream",
     "text": [
      " 40%|████      | 16/40 [3:41:15<5:31:20, 828.37s/it]"
     ]
    },
    {
     "name": "stdout",
     "output_type": "stream",
     "text": [
      "Epoch 16 / 40 \n",
      " Training loss: 0.08267398251729902 - Other training metrics: \n",
      "{'accuracy_score': 0.97, 'f1_score': 0.9699999970703123}\n",
      " \n",
      " Validation loss : 0.4444531761602724 - Other validation metrics:\n",
      "{'accuracy_score': 0.84625, 'f1_score': 0.8462382276143017}\n",
      "\n",
      "\n",
      "Validation accuracy= 0.84625===> No saving\n"
     ]
    },
    {
     "name": "stderr",
     "output_type": "stream",
     "text": [
      " 42%|████▎     | 17/40 [3:55:03<5:17:28, 828.18s/it]"
     ]
    },
    {
     "name": "stdout",
     "output_type": "stream",
     "text": [
      "Epoch 17 / 40 \n",
      " Training loss: 0.07823658194556629 - Other training metrics: \n",
      "{'accuracy_score': 0.9740625, 'f1_score': 0.974062477203349}\n",
      " \n",
      " Validation loss : 0.5549797556549453 - Other validation metrics:\n",
      "{'accuracy_score': 0.828125, 'f1_score': 0.828109892471018}\n",
      "\n",
      "\n",
      "Validation accuracy= 0.828125===> No saving\n"
     ]
    },
    {
     "name": "stderr",
     "output_type": "stream",
     "text": [
      " 45%|████▌     | 18/40 [4:08:53<5:03:55, 828.89s/it]"
     ]
    },
    {
     "name": "stdout",
     "output_type": "stream",
     "text": [
      "Epoch 18 / 40 \n",
      " Training loss: 0.0743617216435814 - Other training metrics: \n",
      "{'accuracy_score': 0.97203125, 'f1_score': 0.9720312329292192}\n",
      " \n",
      " Validation loss : 0.5215905425457754 - Other validation metrics:\n",
      "{'accuracy_score': 0.8225, 'f1_score': 0.8222330718469452}\n",
      "\n",
      "\n",
      "Validation accuracy= 0.8225===> No saving\n"
     ]
    },
    {
     "name": "stderr",
     "output_type": "stream",
     "text": [
      " 48%|████▊     | 19/40 [4:22:40<4:49:53, 828.24s/it]"
     ]
    },
    {
     "name": "stdout",
     "output_type": "stream",
     "text": [
      "Epoch 19 / 40 \n",
      " Training loss: 0.05555798098703235 - Other training metrics: \n",
      "{'accuracy_score': 0.97984375, 'f1_score': 0.9798436904562144}\n",
      " \n",
      " Validation loss : 0.6194329265174431 - Other validation metrics:\n",
      "{'accuracy_score': 0.85, 'f1_score': 0.8496956336581577}\n",
      "\n",
      "\n",
      "Validation accuracy= 0.85===> No saving\n"
     ]
    },
    {
     "name": "stderr",
     "output_type": "stream",
     "text": [
      " 50%|█████     | 20/40 [4:36:27<4:35:58, 827.92s/it]"
     ]
    },
    {
     "name": "stdout",
     "output_type": "stream",
     "text": [
      "Epoch 20 / 40 \n",
      " Training loss: 0.06712602394771239 - Other training metrics: \n",
      "{'accuracy_score': 0.97375, 'f1_score': 0.9737499897460897}\n",
      " \n",
      " Validation loss : 0.5457658986279077 - Other validation metrics:\n",
      "{'accuracy_score': 0.8375, 'f1_score': 0.8374977148116145}\n",
      "\n",
      "\n",
      "Validation accuracy= 0.8375===> No saving\n"
     ]
    },
    {
     "name": "stderr",
     "output_type": "stream",
     "text": [
      " 52%|█████▎    | 21/40 [4:50:15<4:22:09, 827.87s/it]"
     ]
    },
    {
     "name": "stdout",
     "output_type": "stream",
     "text": [
      "Epoch 21 / 40 \n",
      " Training loss: 0.05744836868412676 - Other training metrics: \n",
      "{'accuracy_score': 0.97859375, 'f1_score': 0.9785937369346538}\n",
      " \n",
      " Validation loss : 0.590411634676025 - Other validation metrics:\n",
      "{'accuracy_score': 0.831875, 'f1_score': 0.8315970693820858}\n",
      "\n",
      "\n",
      "Validation accuracy= 0.831875===> No saving\n"
     ]
    },
    {
     "name": "stderr",
     "output_type": "stream",
     "text": [
      " 55%|█████▌    | 22/40 [5:04:02<4:08:18, 827.70s/it]"
     ]
    },
    {
     "name": "stdout",
     "output_type": "stream",
     "text": [
      "Epoch 22 / 40 \n",
      " Training loss: 0.04475963506771677 - Other training metrics: \n",
      "{'accuracy_score': 0.9834375, 'f1_score': 0.9834374854431024}\n",
      " \n",
      " Validation loss : 0.6236898394254969 - Other validation metrics:\n",
      "{'accuracy_score': 0.84375, 'f1_score': 0.8435718185245381}\n",
      "\n",
      "\n",
      "Validation accuracy= 0.84375===> No saving\n"
     ]
    },
    {
     "name": "stderr",
     "output_type": "stream",
     "text": [
      " 57%|█████▊    | 23/40 [5:17:49<3:54:27, 827.48s/it]"
     ]
    },
    {
     "name": "stdout",
     "output_type": "stream",
     "text": [
      "Epoch 23 / 40 \n",
      " Training loss: 0.05327959740121969 - Other training metrics: \n",
      "{'accuracy_score': 0.9809375, 'f1_score': 0.9809374702147973}\n",
      " \n",
      " Validation loss : 0.6803872017903038 - Other validation metrics:\n",
      "{'accuracy_score': 0.843125, 'f1_score': 0.8430979711739405}\n",
      "\n",
      "\n",
      "Validation accuracy= 0.843125===> No saving\n"
     ]
    },
    {
     "name": "stderr",
     "output_type": "stream",
     "text": [
      " 60%|██████    | 24/40 [5:31:37<3:40:41, 827.59s/it]"
     ]
    },
    {
     "name": "stdout",
     "output_type": "stream",
     "text": [
      "Epoch 24 / 40 \n",
      " Training loss: 0.050319707237795226 - Other training metrics: \n",
      "{'accuracy_score': 0.9825, 'f1_score': 0.9824999931640597}\n",
      " \n",
      " Validation loss : 0.785454035609888 - Other validation metrics:\n",
      "{'accuracy_score': 0.831875, 'f1_score': 0.8308755139258532}\n",
      "\n",
      "\n",
      "Validation accuracy= 0.831875===> No saving\n"
     ]
    },
    {
     "name": "stderr",
     "output_type": "stream",
     "text": [
      " 62%|██████▎   | 25/40 [5:45:25<3:26:57, 827.82s/it]"
     ]
    },
    {
     "name": "stdout",
     "output_type": "stream",
     "text": [
      "Epoch 25 / 40 \n",
      " Training loss: 0.04784170838309251 - Other training metrics: \n",
      "{'accuracy_score': 0.983125, 'f1_score': 0.9831249983520507}\n",
      " \n",
      " Validation loss : 0.7667145142987721 - Other validation metrics:\n",
      "{'accuracy_score': 0.841875, 'f1_score': 0.8418423181977839}\n",
      "\n",
      "\n",
      "Validation accuracy= 0.841875===> No saving\n"
     ]
    },
    {
     "name": "stderr",
     "output_type": "stream",
     "text": [
      " 65%|██████▌   | 26/40 [5:59:16<3:13:21, 828.66s/it]"
     ]
    },
    {
     "name": "stdout",
     "output_type": "stream",
     "text": [
      "Epoch 26 / 40 \n",
      " Training loss: 0.04990200093199746 - Other training metrics: \n",
      "{'accuracy_score': 0.98265625, 'f1_score': 0.9826562495765685}\n",
      " \n",
      " Validation loss : 0.7286604238157873 - Other validation metrics:\n",
      "{'accuracy_score': 0.8375, 'f1_score': 0.837300693349353}\n",
      "\n",
      "\n",
      "Validation accuracy= 0.8375===> No saving\n"
     ]
    },
    {
     "name": "stderr",
     "output_type": "stream",
     "text": [
      " 68%|██████▊   | 27/40 [6:13:04<2:59:32, 828.63s/it]"
     ]
    },
    {
     "name": "stdout",
     "output_type": "stream",
     "text": [
      "Epoch 27 / 40 \n",
      " Training loss: 0.04783670095583147 - Other training metrics: \n",
      "{'accuracy_score': 0.9828125, 'f1_score': 0.9828125}\n",
      " \n",
      " Validation loss : 0.7568832027620594 - Other validation metrics:\n",
      "{'accuracy_score': 0.82375, 'f1_score': 0.823484951622671}\n",
      "\n",
      "\n",
      "Validation accuracy= 0.82375===> No saving\n"
     ]
    },
    {
     "name": "stderr",
     "output_type": "stream",
     "text": [
      " 70%|███████   | 28/40 [6:26:56<2:45:55, 829.59s/it]"
     ]
    },
    {
     "name": "stdout",
     "output_type": "stream",
     "text": [
      "Epoch 28 / 40 \n",
      " Training loss: 0.048451396185155315 - Other training metrics: \n",
      "{'accuracy_score': 0.98234375, 'f1_score': 0.982343746120452}\n",
      " \n",
      " Validation loss : 0.7971934808865826 - Other validation metrics:\n",
      "{'accuracy_score': 0.8425, 'f1_score': 0.8424997539058655}\n",
      "\n",
      "\n",
      "Validation accuracy= 0.8425===> No saving\n"
     ]
    },
    {
     "name": "stderr",
     "output_type": "stream",
     "text": [
      " 72%|███████▎  | 29/40 [6:40:48<2:32:12, 830.21s/it]"
     ]
    },
    {
     "name": "stdout",
     "output_type": "stream",
     "text": [
      "Epoch 29 / 40 \n",
      " Training loss: 0.0395989442354562 - Other training metrics: \n",
      "{'accuracy_score': 0.98546875, 'f1_score': 0.9854687411308234}\n",
      " \n",
      " Validation loss : 0.769503494091242 - Other validation metrics:\n",
      "{'accuracy_score': 0.85, 'f1_score': 0.8499810132219859}\n",
      "\n",
      "\n"
     ]
    },
    {
     "name": "stderr",
     "output_type": "stream",
     "text": [
      " 75%|███████▌  | 30/40 [6:54:38<2:18:22, 830.23s/it]"
     ]
    },
    {
     "name": "stdout",
     "output_type": "stream",
     "text": [
      "Epoch 30 / 40 \n",
      " Training loss: 0.02302228673833497 - Other training metrics: \n",
      "{'accuracy_score': 0.99296875, 'f1_score': 0.9929687498283385}\n",
      " \n",
      " Validation loss : 0.9067056071704465 - Other validation metrics:\n",
      "{'accuracy_score': 0.845625, 'f1_score': 0.8454148003593949}\n",
      "\n",
      "\n"
     ]
    },
    {
     "name": "stderr",
     "output_type": "stream",
     "text": [
      " 78%|███████▊  | 31/40 [7:08:28<2:04:29, 830.00s/it]"
     ]
    },
    {
     "name": "stdout",
     "output_type": "stream",
     "text": [
      "Epoch 31 / 40 \n",
      " Training loss: 0.03539507064154947 - Other training metrics: \n",
      "{'accuracy_score': 0.98734375, 'f1_score': 0.9873437472190851}\n",
      " \n",
      " Validation loss : 0.8934258230309763 - Other validation metrics:\n",
      "{'accuracy_score': 0.8525, 'f1_score': 0.852494238056174}\n",
      "\n",
      "\n"
     ]
    },
    {
     "name": "stderr",
     "output_type": "stream",
     "text": [
      " 80%|████████  | 32/40 [7:22:18<1:50:41, 830.17s/it]"
     ]
    },
    {
     "name": "stdout",
     "output_type": "stream",
     "text": [
      "Epoch 32 / 40 \n",
      " Training loss: 0.03579264447392916 - Other training metrics: \n",
      "{'accuracy_score': 0.9878125, 'f1_score': 0.9878124988098143}\n",
      " \n",
      " Validation loss : 0.5841553463951277 - Other validation metrics:\n",
      "{'accuracy_score': 0.825, 'f1_score': 0.8240752957734089}\n",
      "\n",
      "\n"
     ]
    },
    {
     "name": "stderr",
     "output_type": "stream",
     "text": [
      " 82%|████████▎ | 33/40 [7:36:07<1:36:48, 829.73s/it]"
     ]
    },
    {
     "name": "stdout",
     "output_type": "stream",
     "text": [
      "Epoch 33 / 40 \n",
      " Training loss: 0.04170618328378623 - Other training metrics: \n",
      "{'accuracy_score': 0.98453125, 'f1_score': 0.9845312496223451}\n",
      " \n",
      " Validation loss : 0.6542138849951438 - Other validation metrics:\n",
      "{'accuracy_score': 0.8075, 'f1_score': 0.8062600644122383}\n",
      "\n",
      "\n",
      "Validation accuracy= 0.8075===> No saving\n"
     ]
    },
    {
     "name": "stderr",
     "output_type": "stream",
     "text": [
      " 85%|████████▌ | 34/40 [7:49:57<1:22:58, 829.71s/it]"
     ]
    },
    {
     "name": "stdout",
     "output_type": "stream",
     "text": [
      "Epoch 34 / 40 \n",
      " Training loss: 0.04446199594646714 - Other training metrics: \n",
      "{'accuracy_score': 0.98328125, 'f1_score': 0.9832812397956785}\n",
      " \n",
      " Validation loss : 0.7658771529265826 - Other validation metrics:\n",
      "{'accuracy_score': 0.84125, 'f1_score': 0.8412378447724904}\n",
      "\n",
      "\n",
      "Validation accuracy= 0.84125===> No saving\n"
     ]
    },
    {
     "name": "stderr",
     "output_type": "stream",
     "text": [
      " 88%|████████▊ | 35/40 [8:03:46<1:09:08, 829.71s/it]"
     ]
    },
    {
     "name": "stdout",
     "output_type": "stream",
     "text": [
      "Epoch 35 / 40 \n",
      " Training loss: 0.03699015397765379 - Other training metrics: \n",
      "{'accuracy_score': 0.98546875, 'f1_score': 0.9854686900441558}\n",
      " \n",
      " Validation loss : 0.8162402332266392 - Other validation metrics:\n",
      "{'accuracy_score': 0.85, 'f1_score': 0.8498648783905516}\n",
      "\n",
      "\n"
     ]
    },
    {
     "name": "stderr",
     "output_type": "stream",
     "text": [
      " 90%|█████████ | 36/40 [8:17:37<55:20, 830.01s/it]  "
     ]
    },
    {
     "name": "stdout",
     "output_type": "stream",
     "text": [
      "Epoch 36 / 40 \n",
      " Training loss: 0.03021820542257274 - Other training metrics: \n",
      "{'accuracy_score': 0.99015625, 'f1_score': 0.9901562478370662}\n",
      " \n",
      " Validation loss : 0.9268457154225218 - Other validation metrics:\n",
      "{'accuracy_score': 0.8225, 'f1_score': 0.8214274486132331}\n",
      "\n",
      "\n"
     ]
    },
    {
     "name": "stderr",
     "output_type": "stream",
     "text": [
      " 92%|█████████▎| 37/40 [8:31:26<41:29, 829.83s/it]"
     ]
    },
    {
     "name": "stdout",
     "output_type": "stream",
     "text": [
      "Epoch 37 / 40 \n",
      " Training loss: 0.038589444207354974 - Other training metrics: \n",
      "{'accuracy_score': 0.98671875, 'f1_score': 0.9867187418937633}\n",
      " \n",
      " Validation loss : 0.7540729212816609 - Other validation metrics:\n",
      "{'accuracy_score': 0.84375, 'f1_score': 0.8436708583720508}\n",
      "\n",
      "\n"
     ]
    },
    {
     "name": "stderr",
     "output_type": "stream",
     "text": [
      " 95%|█████████▌| 38/40 [8:45:14<27:38, 829.21s/it]"
     ]
    },
    {
     "name": "stdout",
     "output_type": "stream",
     "text": [
      "Epoch 38 / 40 \n",
      " Training loss: 0.029963178704730354 - Other training metrics: \n",
      "{'accuracy_score': 0.99015625, 'f1_score': 0.9901562478370662}\n",
      " \n",
      " Validation loss : 0.6603116948038426 - Other validation metrics:\n",
      "{'accuracy_score': 0.839375, 'f1_score': 0.8393734313811658}\n",
      "\n",
      "\n"
     ]
    },
    {
     "name": "stderr",
     "output_type": "stream",
     "text": [
      " 98%|█████████▊| 39/40 [8:59:04<13:49, 829.42s/it]"
     ]
    },
    {
     "name": "stdout",
     "output_type": "stream",
     "text": [
      "Epoch 39 / 40 \n",
      " Training loss: 0.028337056265042973 - Other training metrics: \n",
      "{'accuracy_score': 0.9903125, 'f1_score': 0.9903124990539549}\n",
      " \n",
      " Validation loss : 0.6817804483864163 - Other validation metrics:\n",
      "{'accuracy_score': 0.8525, 'f1_score': 0.8524963124078102}\n",
      "\n",
      "\n"
     ]
    },
    {
     "name": "stderr",
     "output_type": "stream",
     "text": [
      "100%|██████████| 40/40 [9:12:54<00:00, 829.36s/it]"
     ]
    },
    {
     "name": "stdout",
     "output_type": "stream",
     "text": [
      "Epoch 40 / 40 \n",
      " Training loss: 0.05194996648514461 - Other training metrics: \n",
      "{'accuracy_score': 0.981875, 'f1_score': 0.9818749362790729}\n",
      " \n",
      " Validation loss : 0.6353627727453255 - Other validation metrics:\n",
      "{'accuracy_score': 0.84875, 'f1_score': 0.8487348734873488}\n",
      "\n",
      "\n",
      "Validation accuracy= 0.84875===> No saving\n"
     ]
    },
    {
     "name": "stderr",
     "output_type": "stream",
     "text": [
      "\n"
     ]
    }
   ],
   "source": [
    "print(\"begin training process\")\n",
    "for i in tqdm(range(0, num_epoch)):\n",
    "    loss, val_loss, train_result, val_result = train_one_epoch(\n",
    "        model,\n",
    "        train_loader,\n",
    "        val_loader,\n",
    "        device,\n",
    "        optimizer,\n",
    "        criterion,\n",
    "        train_metrics,\n",
    "        val_metrics,\n",
    "    )\n",
    "    wandb.log({\n",
    "        \"Epoch\": i + 1,\n",
    "        \"Training Loss\": loss,\n",
    "        \"Validation Loss\": val_loss,\n",
    "        \"Training Accuracy\": train_result[\"accuracy_score\"],\n",
    "        \"Validation Accuracy\": val_result[\"accuracy_score\"],\n",
    "        \"Training F1 Score\": train_result[\"f1_score\"],\n",
    "        \"Validation F1 Score\": val_result[\"f1_score\"]\n",
    "    })\n",
    "    scheduler.step(val_loss)\n",
    "    print(\n",
    "        \"Epoch {} / {} \\n Training loss: {} - Other training metrics: \".format(\n",
    "            i + 1, num_epoch, loss\n",
    "        )\n",
    "    )\n",
    "    print(train_result)\n",
    "    print(\n",
    "        \" \\n Validation loss : {} - Other validation metrics:\".format(val_loss)\n",
    "    )\n",
    "    print(val_result)\n",
    "    print(\"\\n\")\n",
    "    # saving epoch with best validation accuracy\n",
    "    if (loss<0.04):\n",
    "        # no saving\n",
    "        continue\n",
    "    if best_val_acc < float(val_result[\"accuracy_score\"]):\n",
    "        print(\n",
    "            \"Validation accuracy= \"+\n",
    "            str(val_result[\"accuracy_score\"])+\n",
    "            \"===> Save best epoch\"\n",
    "        )\n",
    "        best_val_acc = val_result[\"accuracy_score\"]\n",
    "        torch.save(\n",
    "            model,\n",
    "            \"./\" +  \"best.pt\"\n",
    "        )\n",
    "    else:\n",
    "        print(\n",
    "            \"Validation accuracy= \"+ str(val_result[\"accuracy_score\"])+ \"===> No saving\"\n",
    "        )\n",
    "        continue"
   ]
  },
  {
   "cell_type": "code",
   "execution_count": 29,
   "id": "cbfc7ea2",
   "metadata": {
    "execution": {
     "iopub.execute_input": "2024-06-21T17:29:12.030670Z",
     "iopub.status.busy": "2024-06-21T17:29:12.030286Z",
     "iopub.status.idle": "2024-06-21T17:29:24.367056Z",
     "shell.execute_reply": "2024-06-21T17:29:24.366107Z"
    },
    "papermill": {
     "duration": 12.401509,
     "end_time": "2024-06-21T17:29:24.369401",
     "exception": false,
     "start_time": "2024-06-21T17:29:11.967892",
     "status": "completed"
    },
    "tags": []
   },
   "outputs": [
    {
     "name": "stdout",
     "output_type": "stream",
     "text": [
      "Collecting lion-pytorch\r\n",
      "  Downloading lion_pytorch-0.2.2-py3-none-any.whl.metadata (618 bytes)\r\n",
      "Requirement already satisfied: torch>=1.6 in /opt/conda/lib/python3.10/site-packages (from lion-pytorch) (2.1.2)\r\n",
      "Requirement already satisfied: filelock in /opt/conda/lib/python3.10/site-packages (from torch>=1.6->lion-pytorch) (3.13.1)\r\n",
      "Requirement already satisfied: typing-extensions in /opt/conda/lib/python3.10/site-packages (from torch>=1.6->lion-pytorch) (4.9.0)\r\n",
      "Requirement already satisfied: sympy in /opt/conda/lib/python3.10/site-packages (from torch>=1.6->lion-pytorch) (1.12.1)\r\n",
      "Requirement already satisfied: networkx in /opt/conda/lib/python3.10/site-packages (from torch>=1.6->lion-pytorch) (3.2.1)\r\n",
      "Requirement already satisfied: jinja2 in /opt/conda/lib/python3.10/site-packages (from torch>=1.6->lion-pytorch) (3.1.2)\r\n",
      "Requirement already satisfied: fsspec in /opt/conda/lib/python3.10/site-packages (from torch>=1.6->lion-pytorch) (2024.3.1)\r\n",
      "Requirement already satisfied: MarkupSafe>=2.0 in /opt/conda/lib/python3.10/site-packages (from jinja2->torch>=1.6->lion-pytorch) (2.1.3)\r\n",
      "Requirement already satisfied: mpmath<1.4.0,>=1.1.0 in /opt/conda/lib/python3.10/site-packages (from sympy->torch>=1.6->lion-pytorch) (1.3.0)\r\n",
      "Downloading lion_pytorch-0.2.2-py3-none-any.whl (5.4 kB)\r\n",
      "Installing collected packages: lion-pytorch\r\n",
      "Successfully installed lion-pytorch-0.2.2\r\n"
     ]
    }
   ],
   "source": [
    "!pip install lion-pytorch\n",
    "from lion_pytorch import Lion\n",
    "optimizer = Lion(model.parameters(), lr=1e-4, weight_decay=1e-2)"
   ]
  },
  {
   "cell_type": "code",
   "execution_count": 30,
   "id": "eaccca63",
   "metadata": {
    "execution": {
     "iopub.execute_input": "2024-06-21T17:29:24.493837Z",
     "iopub.status.busy": "2024-06-21T17:29:24.493515Z",
     "iopub.status.idle": "2024-06-21T17:29:24.716930Z",
     "shell.execute_reply": "2024-06-21T17:29:24.715904Z"
    },
    "papermill": {
     "duration": 0.288068,
     "end_time": "2024-06-21T17:29:24.719355",
     "exception": false,
     "start_time": "2024-06-21T17:29:24.431287",
     "status": "completed"
    },
    "tags": []
   },
   "outputs": [],
   "source": [
    "import copy\n",
    "val_model = torch.load(\"/kaggle/working/best.pt\")\n",
    "val_model = val_model.to(device)"
   ]
  },
  {
   "cell_type": "code",
   "execution_count": 31,
   "id": "5aad8a69",
   "metadata": {
    "execution": {
     "iopub.execute_input": "2024-06-21T17:29:24.844404Z",
     "iopub.status.busy": "2024-06-21T17:29:24.844053Z",
     "iopub.status.idle": "2024-06-21T17:29:24.850823Z",
     "shell.execute_reply": "2024-06-21T17:29:24.849944Z"
    },
    "papermill": {
     "duration": 0.071089,
     "end_time": "2024-06-21T17:29:24.852704",
     "exception": false,
     "start_time": "2024-06-21T17:29:24.781615",
     "status": "completed"
    },
    "tags": []
   },
   "outputs": [],
   "source": [
    "def val_result(model, val_loader, device):\n",
    "    # testing the model by turning model \"Eval\" mode\n",
    "    model.eval()\n",
    "    preds = []\n",
    "    labels = []\n",
    "    with torch.no_grad():\n",
    "        for data, target in val_loader:\n",
    "            # move-tensors-to-GPU\n",
    "            data = data.to(device)\n",
    "            target = target.to(device)\n",
    "            # forward-pass: compute-predicted-outputs-by-passing-inputs-to-the-model\n",
    "            output = model(data)\n",
    "            # applying Softmax to results\n",
    "            prob = nn.Softmax(dim=1)\n",
    "            probs = prob(output)\n",
    "            labels.extend(target.tolist())\n",
    "            preds.extend(torch.argmax(probs, axis=1).tolist())\n",
    "    return preds, labels"
   ]
  },
  {
   "cell_type": "code",
   "execution_count": 32,
   "id": "020d2500",
   "metadata": {
    "execution": {
     "iopub.execute_input": "2024-06-21T17:29:24.976397Z",
     "iopub.status.busy": "2024-06-21T17:29:24.975735Z",
     "iopub.status.idle": "2024-06-21T17:30:24.010148Z",
     "shell.execute_reply": "2024-06-21T17:30:24.009303Z"
    },
    "papermill": {
     "duration": 59.098676,
     "end_time": "2024-06-21T17:30:24.012525",
     "exception": false,
     "start_time": "2024-06-21T17:29:24.913849",
     "status": "completed"
    },
    "tags": []
   },
   "outputs": [],
   "source": [
    "preds, grd_truth = val_result(val_model, val_loader, device)"
   ]
  },
  {
   "cell_type": "code",
   "execution_count": 33,
   "id": "ad5b0c67",
   "metadata": {
    "execution": {
     "iopub.execute_input": "2024-06-21T17:30:24.155133Z",
     "iopub.status.busy": "2024-06-21T17:30:24.154544Z",
     "iopub.status.idle": "2024-06-21T17:30:24.158935Z",
     "shell.execute_reply": "2024-06-21T17:30:24.158088Z"
    },
    "papermill": {
     "duration": 0.076433,
     "end_time": "2024-06-21T17:30:24.160850",
     "exception": false,
     "start_time": "2024-06-21T17:30:24.084417",
     "status": "completed"
    },
    "tags": []
   },
   "outputs": [],
   "source": [
    "from sklearn.metrics import classification_report\n",
    "from sklearn.metrics import confusion_matrix, ConfusionMatrixDisplay"
   ]
  },
  {
   "cell_type": "code",
   "execution_count": 34,
   "id": "4efbe4dd",
   "metadata": {
    "execution": {
     "iopub.execute_input": "2024-06-21T17:30:24.286235Z",
     "iopub.status.busy": "2024-06-21T17:30:24.285922Z",
     "iopub.status.idle": "2024-06-21T17:30:24.300246Z",
     "shell.execute_reply": "2024-06-21T17:30:24.299373Z"
    },
    "papermill": {
     "duration": 0.078733,
     "end_time": "2024-06-21T17:30:24.302113",
     "exception": false,
     "start_time": "2024-06-21T17:30:24.223380",
     "status": "completed"
    },
    "tags": []
   },
   "outputs": [
    {
     "name": "stdout",
     "output_type": "stream",
     "text": [
      "              precision    recall  f1-score   support\n",
      "\n",
      "           0   0.833139  0.892500  0.861798       800\n",
      "           1   0.884253  0.821250  0.851588       800\n",
      "\n",
      "    accuracy                       0.856875      1600\n",
      "   macro avg   0.858696  0.856875  0.856693      1600\n",
      "weighted avg   0.858696  0.856875  0.856693      1600\n",
      "\n"
     ]
    }
   ],
   "source": [
    "report = classification_report(grd_truth, preds, digits=6)\n",
    "print(report)"
   ]
  },
  {
   "cell_type": "code",
   "execution_count": 35,
   "id": "a12fc6af",
   "metadata": {
    "execution": {
     "iopub.execute_input": "2024-06-21T17:30:24.425863Z",
     "iopub.status.busy": "2024-06-21T17:30:24.425296Z",
     "iopub.status.idle": "2024-06-21T17:30:24.918728Z",
     "shell.execute_reply": "2024-06-21T17:30:24.917693Z"
    },
    "papermill": {
     "duration": 0.557324,
     "end_time": "2024-06-21T17:30:24.920787",
     "exception": false,
     "start_time": "2024-06-21T17:30:24.363463",
     "status": "completed"
    },
    "tags": []
   },
   "outputs": [
    {
     "data": {
      "text/plain": [
       "<sklearn.metrics._plot.confusion_matrix.ConfusionMatrixDisplay at 0x7a270448bbe0>"
      ]
     },
     "execution_count": 35,
     "metadata": {},
     "output_type": "execute_result"
    },
    {
     "data": {
      "image/png": "[encoded data removed]",
      "text/plain": [
       "<Figure size 640x480 with 2 Axes>"
      ]
     },
     "metadata": {},
     "output_type": "display_data"
    }
   ],
   "source": [
    "cm = confusion_matrix(grd_truth, preds)\n",
    "disp = ConfusionMatrixDisplay(confusion_matrix=cm)\n",
    "disp.plot()"
   ]
  },
  {
   "cell_type": "code",
   "execution_count": 36,
   "id": "8226d8d0",
   "metadata": {
    "execution": {
     "iopub.execute_input": "2024-06-21T17:30:25.047382Z",
     "iopub.status.busy": "2024-06-21T17:30:25.046618Z",
     "iopub.status.idle": "2024-06-21T17:30:25.329868Z",
     "shell.execute_reply": "2024-06-21T17:30:25.328851Z"
    },
    "papermill": {
     "duration": 0.348819,
     "end_time": "2024-06-21T17:30:25.332361",
     "exception": false,
     "start_time": "2024-06-21T17:30:24.983542",
     "status": "completed"
    },
    "tags": []
   },
   "outputs": [
    {
     "name": "stderr",
     "output_type": "stream",
     "text": [
      "\u001b[34m\u001b[1mwandb\u001b[0m: \u001b[33mWARNING\u001b[0m Saving files without folders. If you want to preserve subdirectories pass base_path to wandb.save, i.e. wandb.save(\"/mnt/folder/file.h5\", base_path=\"/mnt\")\n"
     ]
    }
   ],
   "source": [
    "import copy\n",
    "\n",
    "# save model to wandb\n",
    "wandb.save(\"/kaggle/working/best.pt\")\n",
    "test_model = torch.load(\"/kaggle/working/best.pt\")\n",
    "test_model = test_model.to(device)"
   ]
  },
  {
   "cell_type": "code",
   "execution_count": 37,
   "id": "8b31eee9",
   "metadata": {
    "execution": {
     "iopub.execute_input": "2024-06-21T17:30:25.473432Z",
     "iopub.status.busy": "2024-06-21T17:30:25.472637Z",
     "iopub.status.idle": "2024-06-21T17:30:25.972251Z",
     "shell.execute_reply": "2024-06-21T17:30:25.971366Z"
    },
    "papermill": {
     "duration": 0.577019,
     "end_time": "2024-06-21T17:30:25.974287",
     "exception": false,
     "start_time": "2024-06-21T17:30:25.397268",
     "status": "completed"
    },
    "tags": []
   },
   "outputs": [
    {
     "data": {
      "image/png": "[encoded data removed]",
      "text/plain": [
       "<Figure size 640x480 with 2 Axes>"
      ]
     },
     "metadata": {},
     "output_type": "display_data"
    }
   ],
   "source": [
    "cm = confusion_matrix(grd_truth, preds)\n",
    "disp = ConfusionMatrixDisplay(confusion_matrix=cm)\n",
    "disp.plot()\n",
    "\n",
    "# save confusion matrix plot to wandb\n",
    "\n",
    "wandb.log({\"confusion_matrix\": disp.figure_})"
   ]
  }
 ],
 "metadata": {
  "kaggle": {
   "accelerator": "gpu",
   "dataSources": [
    {
     "datasetId": 4154884,
     "sourceId": 7802508,
     "sourceType": "datasetVersion"
    }
   ],
   "dockerImageVersionId": 30733,
   "isGpuEnabled": true,
   "isInternetEnabled": true,
   "language": "python",
   "sourceType": "notebook"
  },
  "kernelspec": {
   "display_name": "Python 3",
   "language": "python",
   "name": "python3"
  },
  "language_info": {
   "codemirror_mode": {
    "name": "ipython",
    "version": 3
   },
   "file_extension": ".py",
   "mimetype": "text/x-python",
   "name": "python",
   "nbconvert_exporter": "python",
   "pygments_lexer": "ipython3",
   "version": "3.10.13"
  },
  "papermill": {
   "default_parameters": {},
   "duration": 33413.349333,
   "end_time": "2024-06-21T17:30:28.826438",
   "environment_variables": {},
   "exception": null,
   "input_path": "__notebook__.ipynb",
   "output_path": "__notebook__.ipynb",
   "parameters": {},
   "start_time": "2024-06-21T08:13:35.477105",
   "version": "2.4.0"
  },
  "widgets": {
   "application/vnd.jupyter.widget-state+json": {
    "state": {
     "0a8838a23cb049dfbaa6361821ee6a00": {
      "model_module": "@jupyter-widgets/base",
      "model_module_version": "1.2.0",
      "model_name": "LayoutModel",
      "state": {
       "_model_module": "@jupyter-widgets/base",
       "_model_module_version": "1.2.0",
       "_model_name": "LayoutModel",
       "_view_count": null,
       "_view_module": "@jupyter-widgets/base",
       "_view_module_version": "1.2.0",
       "_view_name": "LayoutView",
       "align_content": null,
       "align_items": null,
       "align_self": null,
       "border": null,
       "bottom": null,
       "display": null,
       "flex": null,
       "flex_flow": null,
       "grid_area": null,
       "grid_auto_columns": null,
       "grid_auto_flow": null,
       "grid_auto_rows": null,
       "grid_column": null,
       "grid_gap": null,
       "grid_row": null,
       "grid_template_areas": null,
       "grid_template_columns": null,
       "grid_template_rows": null,
       "height": null,
       "justify_content": null,
       "justify_items": null,
       "left": null,
       "margin": null,
       "max_height": null,
       "max_width": null,
       "min_height": null,
       "min_width": null,
       "object_fit": null,
       "object_position": null,
       "order": null,
       "overflow": null,
       "overflow_x": null,
       "overflow_y": null,
       "padding": null,
       "right": null,
       "top": null,
       "visibility": null,
       "width": null
      }
     },
     "283795ba55aa435cb0396de1e5cdc35e": {
      "model_module": "@jupyter-widgets/base",
      "model_module_version": "1.2.0",
      "model_name": "LayoutModel",
      "state": {
       "_model_module": "@jupyter-widgets/base",
       "_model_module_version": "1.2.0",
       "_model_name": "LayoutModel",
       "_view_count": null,
       "_view_module": "@jupyter-widgets/base",
       "_view_module_version": "1.2.0",
       "_view_name": "LayoutView",
       "align_content": null,
       "align_items": null,
       "align_self": null,
       "border": null,
       "bottom": null,
       "display": null,
       "flex": null,
       "flex_flow": null,
       "grid_area": null,
       "grid_auto_columns": null,
       "grid_auto_flow": null,
       "grid_auto_rows": null,
       "grid_column": null,
       "grid_gap": null,
       "grid_row": null,
       "grid_template_areas": null,
       "grid_template_columns": null,
       "grid_template_rows": null,
       "height": null,
       "justify_content": null,
       "justify_items": null,
       "left": null,
       "margin": null,
       "max_height": null,
       "max_width": null,
       "min_height": null,
       "min_width": null,
       "object_fit": null,
       "object_position": null,
       "order": null,
       "overflow": null,
       "overflow_x": null,
       "overflow_y": null,
       "padding": null,
       "right": null,
       "top": null,
       "visibility": null,
       "width": null
      }
     },
     "3f72023fbc504fc1b67f32334e1ae387": {
      "model_module": "@jupyter-widgets/base",
      "model_module_version": "1.2.0",
      "model_name": "LayoutModel",
      "state": {
       "_model_module": "@jupyter-widgets/base",
       "_model_module_version": "1.2.0",
       "_model_name": "LayoutModel",
       "_view_count": null,
       "_view_module": "@jupyter-widgets/base",
       "_view_module_version": "1.2.0",
       "_view_name": "LayoutView",
       "align_content": null,
       "align_items": null,
       "align_self": null,
       "border": null,
       "bottom": null,
       "display": null,
       "flex": null,
       "flex_flow": null,
       "grid_area": null,
       "grid_auto_columns": null,
       "grid_auto_flow": null,
       "grid_auto_rows": null,
       "grid_column": null,
       "grid_gap": null,
       "grid_row": null,
       "grid_template_areas": null,
       "grid_template_columns": null,
       "grid_template_rows": null,
       "height": null,
       "justify_content": null,
       "justify_items": null,
       "left": null,
       "margin": null,
       "max_height": null,
       "max_width": null,
       "min_height": null,
       "min_width": null,
       "object_fit": null,
       "object_position": null,
       "order": null,
       "overflow": null,
       "overflow_x": null,
       "overflow_y": null,
       "padding": null,
       "right": null,
       "top": null,
       "visibility": null,
       "width": null
      }
     },
     "866d96784ba442a0bdc6156f25e9f380": {
      "model_module": "@jupyter-widgets/controls",
      "model_module_version": "1.5.0",
      "model_name": "HTMLModel",
      "state": {
       "_dom_classes": [],
       "_model_module": "@jupyter-widgets/controls",
       "_model_module_version": "1.5.0",
       "_model_name": "HTMLModel",
       "_view_count": null,
       "_view_module": "@jupyter-widgets/controls",
       "_view_module_version": "1.5.0",
       "_view_name": "HTMLView",
       "description": "",
       "description_tooltip": null,
       "layout": "IPY_MODEL_0a8838a23cb049dfbaa6361821ee6a00",
       "placeholder": "​",
       "style": "IPY_MODEL_df6204fddc9d427993713b8ebad42432",
       "value": "model.safetensors: 100%"
      }
     },
     "8d0b3ef0b03c4e0587a4c3ee792e628a": {
      "model_module": "@jupyter-widgets/controls",
      "model_module_version": "1.5.0",
      "model_name": "ProgressStyleModel",
      "state": {
       "_model_module": "@jupyter-widgets/controls",
       "_model_module_version": "1.5.0",
       "_model_name": "ProgressStyleModel",
       "_view_count": null,
       "_view_module": "@jupyter-widgets/base",
       "_view_module_version": "1.2.0",
       "_view_name": "StyleView",
       "bar_color": null,
       "description_width": ""
      }
     },
     "ac19a68cc24a49309b16cbfe09190173": {
      "model_module": "@jupyter-widgets/controls",
      "model_module_version": "1.5.0",
      "model_name": "FloatProgressModel",
      "state": {
       "_dom_classes": [],
       "_model_module": "@jupyter-widgets/controls",
       "_model_module_version": "1.5.0",
       "_model_name": "FloatProgressModel",
       "_view_count": null,
       "_view_module": "@jupyter-widgets/controls",
       "_view_module_version": "1.5.0",
       "_view_name": "ProgressView",
       "bar_style": "success",
       "description": "",
       "description_tooltip": null,
       "layout": "IPY_MODEL_f79033351d5244c68685c7fb6694afdd",
       "max": 346321582.0,
       "min": 0.0,
       "orientation": "horizontal",
       "style": "IPY_MODEL_8d0b3ef0b03c4e0587a4c3ee792e628a",
       "value": 346321582.0
      }
     },
     "b02f608178e3463993a1acc4cfc4ccfd": {
      "model_module": "@jupyter-widgets/controls",
      "model_module_version": "1.5.0",
      "model_name": "HBoxModel",
      "state": {
       "_dom_classes": [],
       "_model_module": "@jupyter-widgets/controls",
       "_model_module_version": "1.5.0",
       "_model_name": "HBoxModel",
       "_view_count": null,
       "_view_module": "@jupyter-widgets/controls",
       "_view_module_version": "1.5.0",
       "_view_name": "HBoxView",
       "box_style": "",
       "children": [
        "IPY_MODEL_866d96784ba442a0bdc6156f25e9f380",
        "IPY_MODEL_ac19a68cc24a49309b16cbfe09190173",
        "IPY_MODEL_b5d609ee46e645ab9a1e58c796bac5d7"
       ],
       "layout": "IPY_MODEL_3f72023fbc504fc1b67f32334e1ae387"
      }
     },
     "b5d609ee46e645ab9a1e58c796bac5d7": {
      "model_module": "@jupyter-widgets/controls",
      "model_module_version": "1.5.0",
      "model_name": "HTMLModel",
      "state": {
       "_dom_classes": [],
       "_model_module": "@jupyter-widgets/controls",
       "_model_module_version": "1.5.0",
       "_model_name": "HTMLModel",
       "_view_count": null,
       "_view_module": "@jupyter-widgets/controls",
       "_view_module_version": "1.5.0",
       "_view_name": "HTMLView",
       "description": "",
       "description_tooltip": null,
       "layout": "IPY_MODEL_283795ba55aa435cb0396de1e5cdc35e",
       "placeholder": "​",
       "style": "IPY_MODEL_d0c039a4cc9847118366600a3c02c1a2",
       "value": " 346M/346M [00:10&lt;00:00, 46.0MB/s]"
      }
     },
     "d0c039a4cc9847118366600a3c02c1a2": {
      "model_module": "@jupyter-widgets/controls",
      "model_module_version": "1.5.0",
      "model_name": "DescriptionStyleModel",
      "state": {
       "_model_module": "@jupyter-widgets/controls",
       "_model_module_version": "1.5.0",
       "_model_name": "DescriptionStyleModel",
       "_view_count": null,
       "_view_module": "@jupyter-widgets/base",
       "_view_module_version": "1.2.0",
       "_view_name": "StyleView",
       "description_width": ""
      }
     },
     "df6204fddc9d427993713b8ebad42432": {
      "model_module": "@jupyter-widgets/controls",
      "model_module_version": "1.5.0",
      "model_name": "DescriptionStyleModel",
      "state": {
       "_model_module": "@jupyter-widgets/controls",
       "_model_module_version": "1.5.0",
       "_model_name": "DescriptionStyleModel",
       "_view_count": null,
       "_view_module": "@jupyter-widgets/base",
       "_view_module_version": "1.2.0",
       "_view_name": "StyleView",
       "description_width": ""
      }
     },
     "f79033351d5244c68685c7fb6694afdd": {
      "model_module": "@jupyter-widgets/base",
      "model_module_version": "1.2.0",
      "model_name": "LayoutModel",
      "state": {
       "_model_module": "@jupyter-widgets/base",
       "_model_module_version": "1.2.0",
       "_model_name": "LayoutModel",
       "_view_count": null,
       "_view_module": "@jupyter-widgets/base",
       "_view_module_version": "1.2.0",
       "_view_name": "LayoutView",
       "align_content": null,
       "align_items": null,
       "align_self": null,
       "border": null,
       "bottom": null,
       "display": null,
       "flex": null,
       "flex_flow": null,
       "grid_area": null,
       "grid_auto_columns": null,
       "grid_auto_flow": null,
       "grid_auto_rows": null,
       "grid_column": null,
       "grid_gap": null,
       "grid_row": null,
       "grid_template_areas": null,
       "grid_template_columns": null,
       "grid_template_rows": null,
       "height": null,
       "justify_content": null,
       "justify_items": null,
       "left": null,
       "margin": null,
       "max_height": null,
       "max_width": null,
       "min_height": null,
       "min_width": null,
       "object_fit": null,
       "object_position": null,
       "order": null,
       "overflow": null,
       "overflow_x": null,
       "overflow_y": null,
       "padding": null,
       "right": null,
       "top": null,
       "visibility": null,
       "width": null
      }
     }
    },
    "version_major": 2,
    "version_minor": 0
   }
  }
 },
 "nbformat": 4,
 "nbformat_minor": 5
}
