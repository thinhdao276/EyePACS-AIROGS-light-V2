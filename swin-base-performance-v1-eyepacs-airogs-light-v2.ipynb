{
 "cells": [
  {
   "cell_type": "code",
   "execution_count": 1,
   "id": "c526facd",
   "metadata": {
    "_cell_guid": "b1076dfc-b9ad-4769-8c92-a6c4dae69d19",
    "_uuid": "8f2839f25d086af736a60e9eeb907d3b93b6e0e5",
    "execution": {
     "iopub.execute_input": "2024-06-21T02:30:30.873445Z",
     "iopub.status.busy": "2024-06-21T02:30:30.872567Z",
     "iopub.status.idle": "2024-06-21T02:30:37.779532Z",
     "shell.execute_reply": "2024-06-21T02:30:37.778591Z"
    },
    "papermill": {
     "duration": 6.925104,
     "end_time": "2024-06-21T02:30:37.781797",
     "exception": false,
     "start_time": "2024-06-21T02:30:30.856693",
     "status": "completed"
    },
    "tags": []
   },
   "outputs": [],
   "source": [
    "import albumentations\n",
    "from albumentations.pytorch import ToTensorV2\n",
    "from torchvision import transforms\n",
    "from sklearn.model_selection import train_test_split\n",
    "import torch\n",
    "import numpy as np\n",
    "import os"
   ]
  },
  {
   "cell_type": "code",
   "execution_count": 2,
   "id": "2c6000c4",
   "metadata": {
    "execution": {
     "iopub.execute_input": "2024-06-21T02:30:37.811291Z",
     "iopub.status.busy": "2024-06-21T02:30:37.810746Z",
     "iopub.status.idle": "2024-06-21T02:30:39.908487Z",
     "shell.execute_reply": "2024-06-21T02:30:39.907547Z"
    },
    "papermill": {
     "duration": 2.114721,
     "end_time": "2024-06-21T02:30:39.910903",
     "exception": false,
     "start_time": "2024-06-21T02:30:37.796182",
     "status": "completed"
    },
    "tags": []
   },
   "outputs": [],
   "source": [
    "import pandas as pd\n",
    "import matplotlib.pyplot as plt\n",
    "import os\n",
    "import seaborn as sns\n",
    "from pathlib import Path\n",
    "from sklearn.model_selection import train_test_split, StratifiedKFold\n",
    "from sklearn.preprocessing import LabelEncoder\n",
    "from sklearn.metrics import classification_report, f1_score, recall_score, precision_score\n",
    "import torch\n",
    "from torch.utils.data import DataLoader, Dataset\n",
    "from torch.utils.data import RandomSampler\n",
    "from PIL import Image\n",
    "import cv2\n",
    "\n",
    "import torch\n",
    "import torch.nn as nn\n",
    "import torchvision.transforms as transforms\n",
    "import torchvision.models as models\n",
    "from torchvision.utils import make_grid\n",
    "from torchvision.datasets import ImageFolder\n",
    "import torch.nn.functional as F\n",
    "import timm\n",
    "\n",
    "from tqdm import tqdm\n",
    "from sklearn.metrics import confusion_matrix\n",
    "\n",
    "from IPython.display import display, HTML\n",
    "import warnings\n",
    "warnings.filterwarnings(\"ignore\")"
   ]
  },
  {
   "cell_type": "markdown",
   "id": "8315ca1d",
   "metadata": {
    "papermill": {
     "duration": 0.014765,
     "end_time": "2024-06-21T02:30:39.939691",
     "exception": false,
     "start_time": "2024-06-21T02:30:39.924926",
     "status": "completed"
    },
    "tags": []
   },
   "source": [
    "### Pick cropped dataset"
   ]
  },
  {
   "cell_type": "code",
   "execution_count": 3,
   "id": "eb3c8620",
   "metadata": {
    "execution": {
     "iopub.execute_input": "2024-06-21T02:30:39.969945Z",
     "iopub.status.busy": "2024-06-21T02:30:39.969594Z",
     "iopub.status.idle": "2024-06-21T02:30:39.977884Z",
     "shell.execute_reply": "2024-06-21T02:30:39.977081Z"
    },
    "papermill": {
     "duration": 0.025968,
     "end_time": "2024-06-21T02:30:39.979791",
     "exception": false,
     "start_time": "2024-06-21T02:30:39.953823",
     "status": "completed"
    },
    "tags": []
   },
   "outputs": [
    {
     "data": {
      "text/plain": [
       "'/kaggle/input/glaucoma-dataset-eyepacs-airogs-light-v2/eyepac-light-v2-512-jpg'"
      ]
     },
     "execution_count": 3,
     "metadata": {},
     "output_type": "execute_result"
    }
   ],
   "source": [
    "class config:\n",
    "    root_path = '/kaggle/input/glaucoma-dataset-eyepacs-airogs-light-v2/eyepac-light-v2-512-jpg'\n",
    "    train_path = root_path + '/train'\n",
    "    test_path = root_path + '/test'\n",
    "    valid_path = root_path + '/validation'\n",
    "    output_path = \"/kaggle/working/\"\n",
    "    batch_size = 16\n",
    "    lr = 1e-3\n",
    "    seed = 1\n",
    "    num_epochs = 60\n",
    "    model_names = 'swin_base_patch4_window7_224.ms_in1k'\n",
    "    \n",
    "config.root_path"
   ]
  },
  {
   "cell_type": "code",
   "execution_count": 4,
   "id": "61064182",
   "metadata": {
    "execution": {
     "iopub.execute_input": "2024-06-21T02:30:40.008316Z",
     "iopub.status.busy": "2024-06-21T02:30:40.008019Z",
     "iopub.status.idle": "2024-06-21T02:30:40.013006Z",
     "shell.execute_reply": "2024-06-21T02:30:40.012203Z"
    },
    "papermill": {
     "duration": 0.021507,
     "end_time": "2024-06-21T02:30:40.015033",
     "exception": false,
     "start_time": "2024-06-21T02:30:39.993526",
     "status": "completed"
    },
    "tags": []
   },
   "outputs": [
    {
     "data": {
      "text/plain": [
       "'/kaggle/input/glaucoma-dataset-eyepacs-airogs-light-v2/eyepac-light-v2-512-jpg/train'"
      ]
     },
     "execution_count": 4,
     "metadata": {},
     "output_type": "execute_result"
    }
   ],
   "source": [
    "config.train_path"
   ]
  },
  {
   "cell_type": "code",
   "execution_count": 5,
   "id": "f4443b8f",
   "metadata": {
    "execution": {
     "iopub.execute_input": "2024-06-21T02:30:40.044199Z",
     "iopub.status.busy": "2024-06-21T02:30:40.043718Z",
     "iopub.status.idle": "2024-06-21T02:31:03.862410Z",
     "shell.execute_reply": "2024-06-21T02:31:03.861426Z"
    },
    "papermill": {
     "duration": 23.835751,
     "end_time": "2024-06-21T02:31:03.864785",
     "exception": false,
     "start_time": "2024-06-21T02:30:40.029034",
     "status": "completed"
    },
    "tags": []
   },
   "outputs": [],
   "source": [
    "def get_df(path): \n",
    "    paths = Path(path).rglob(\"*.jpg\")\n",
    "    files = [str(path) for path in paths]\n",
    "    labels = [file.split('/')[-2] for file in files]\n",
    "    \n",
    "    df = pd.DataFrame()\n",
    "    df['path'] = files\n",
    "    df['label'] = labels\n",
    "    df['label'] = df['label'].map({'RG':1, 'NRG': 0})\n",
    "    return df\n",
    "\n",
    "# Assuming CFG.path_to_data is set to the correct data path, the following lines will create your dataframes:\n",
    "train_df = get_df(config.train_path)\n",
    "valid_df = get_df(config.valid_path)\n",
    "test_df = get_df(config.test_path)"
   ]
  },
  {
   "cell_type": "code",
   "execution_count": 6,
   "id": "ee689965",
   "metadata": {
    "execution": {
     "iopub.execute_input": "2024-06-21T02:31:03.894936Z",
     "iopub.status.busy": "2024-06-21T02:31:03.894616Z",
     "iopub.status.idle": "2024-06-21T02:31:03.908257Z",
     "shell.execute_reply": "2024-06-21T02:31:03.907329Z"
    },
    "papermill": {
     "duration": 0.03086,
     "end_time": "2024-06-21T02:31:03.910208",
     "exception": false,
     "start_time": "2024-06-21T02:31:03.879348",
     "status": "completed"
    },
    "tags": []
   },
   "outputs": [
    {
     "data": {
      "text/html": [
       "<div>\n",
       "<style scoped>\n",
       "    .dataframe tbody tr th:only-of-type {\n",
       "        vertical-align: middle;\n",
       "    }\n",
       "\n",
       "    .dataframe tbody tr th {\n",
       "        vertical-align: top;\n",
       "    }\n",
       "\n",
       "    .dataframe thead th {\n",
       "        text-align: right;\n",
       "    }\n",
       "</style>\n",
       "<table border=\"1\" class=\"dataframe\">\n",
       "  <thead>\n",
       "    <tr style=\"text-align: right;\">\n",
       "      <th></th>\n",
       "      <th>path</th>\n",
       "      <th>label</th>\n",
       "    </tr>\n",
       "  </thead>\n",
       "  <tbody>\n",
       "    <tr>\n",
       "      <th>0</th>\n",
       "      <td>/kaggle/input/glaucoma-dataset-eyepacs-airogs-...</td>\n",
       "      <td>1</td>\n",
       "    </tr>\n",
       "    <tr>\n",
       "      <th>1</th>\n",
       "      <td>/kaggle/input/glaucoma-dataset-eyepacs-airogs-...</td>\n",
       "      <td>1</td>\n",
       "    </tr>\n",
       "    <tr>\n",
       "      <th>2</th>\n",
       "      <td>/kaggle/input/glaucoma-dataset-eyepacs-airogs-...</td>\n",
       "      <td>1</td>\n",
       "    </tr>\n",
       "    <tr>\n",
       "      <th>3</th>\n",
       "      <td>/kaggle/input/glaucoma-dataset-eyepacs-airogs-...</td>\n",
       "      <td>1</td>\n",
       "    </tr>\n",
       "    <tr>\n",
       "      <th>4</th>\n",
       "      <td>/kaggle/input/glaucoma-dataset-eyepacs-airogs-...</td>\n",
       "      <td>1</td>\n",
       "    </tr>\n",
       "    <tr>\n",
       "      <th>...</th>\n",
       "      <td>...</td>\n",
       "      <td>...</td>\n",
       "    </tr>\n",
       "    <tr>\n",
       "      <th>7995</th>\n",
       "      <td>/kaggle/input/glaucoma-dataset-eyepacs-airogs-...</td>\n",
       "      <td>0</td>\n",
       "    </tr>\n",
       "    <tr>\n",
       "      <th>7996</th>\n",
       "      <td>/kaggle/input/glaucoma-dataset-eyepacs-airogs-...</td>\n",
       "      <td>0</td>\n",
       "    </tr>\n",
       "    <tr>\n",
       "      <th>7997</th>\n",
       "      <td>/kaggle/input/glaucoma-dataset-eyepacs-airogs-...</td>\n",
       "      <td>0</td>\n",
       "    </tr>\n",
       "    <tr>\n",
       "      <th>7998</th>\n",
       "      <td>/kaggle/input/glaucoma-dataset-eyepacs-airogs-...</td>\n",
       "      <td>0</td>\n",
       "    </tr>\n",
       "    <tr>\n",
       "      <th>7999</th>\n",
       "      <td>/kaggle/input/glaucoma-dataset-eyepacs-airogs-...</td>\n",
       "      <td>0</td>\n",
       "    </tr>\n",
       "  </tbody>\n",
       "</table>\n",
       "<p>8000 rows × 2 columns</p>\n",
       "</div>"
      ],
      "text/plain": [
       "                                                   path  label\n",
       "0     /kaggle/input/glaucoma-dataset-eyepacs-airogs-...      1\n",
       "1     /kaggle/input/glaucoma-dataset-eyepacs-airogs-...      1\n",
       "2     /kaggle/input/glaucoma-dataset-eyepacs-airogs-...      1\n",
       "3     /kaggle/input/glaucoma-dataset-eyepacs-airogs-...      1\n",
       "4     /kaggle/input/glaucoma-dataset-eyepacs-airogs-...      1\n",
       "...                                                 ...    ...\n",
       "7995  /kaggle/input/glaucoma-dataset-eyepacs-airogs-...      0\n",
       "7996  /kaggle/input/glaucoma-dataset-eyepacs-airogs-...      0\n",
       "7997  /kaggle/input/glaucoma-dataset-eyepacs-airogs-...      0\n",
       "7998  /kaggle/input/glaucoma-dataset-eyepacs-airogs-...      0\n",
       "7999  /kaggle/input/glaucoma-dataset-eyepacs-airogs-...      0\n",
       "\n",
       "[8000 rows x 2 columns]"
      ]
     },
     "execution_count": 6,
     "metadata": {},
     "output_type": "execute_result"
    }
   ],
   "source": [
    "train_df"
   ]
  },
  {
   "cell_type": "code",
   "execution_count": 7,
   "id": "1b2f708a",
   "metadata": {
    "execution": {
     "iopub.execute_input": "2024-06-21T02:31:03.939827Z",
     "iopub.status.busy": "2024-06-21T02:31:03.939543Z",
     "iopub.status.idle": "2024-06-21T02:31:03.952026Z",
     "shell.execute_reply": "2024-06-21T02:31:03.951316Z"
    },
    "papermill": {
     "duration": 0.029462,
     "end_time": "2024-06-21T02:31:03.953842",
     "exception": false,
     "start_time": "2024-06-21T02:31:03.924380",
     "status": "completed"
    },
    "tags": []
   },
   "outputs": [],
   "source": [
    "from PIL import Image\n",
    "import os\n",
    "import torch\n",
    "from sklearn.model_selection import train_test_split\n",
    "\n",
    "    \n",
    "# define a data class\n",
    "class ClassificationDataset:\n",
    "    def __init__(self, data, data_path, transform, training=True):\n",
    "        \"\"\"Define the dataset for classification problems\n",
    "\n",
    "        Args:\n",
    "            data ([dataframe]): [a dataframe that contain 2 columns: image name and label]\n",
    "            data_path ([str]): [path/to/folder that contains image file]\n",
    "            transform : [augmentation methods and transformation of images]\n",
    "            training (bool, optional): []. Defaults to True.\n",
    "        \"\"\"\n",
    "        self.data = data\n",
    "        self.imgs = data[\"path\"].unique().tolist()\n",
    "        self.data_path = data_path\n",
    "        self.training = training\n",
    "        self.transform = transform\n",
    "\n",
    "    def __getitem__(self, idx):\n",
    "        img = Image.open(os.path.join(self.data_path, self.data.iloc[idx, 0]))\n",
    "        if(self.training):\n",
    "            label = self.data.iloc[idx, 1]\n",
    "        if self.transform is not None:\n",
    "            img = self.transform(img)\n",
    "        if(self.training):\n",
    "            return img, label\n",
    "        else:\n",
    "            return img\n",
    "\n",
    "    def __len__(self):\n",
    "        return len(self.imgs)\n",
    "\n",
    "\n",
    "def make_loader(dataset, train_batch_size, validation_split=0.2):\n",
    "    \"\"\"make dataloader for pytorch training\n",
    "\n",
    "    Args:\n",
    "        dataset ([object]): [the dataset object]\n",
    "        train_batch_size ([int]): [training batch size]\n",
    "        validation_split (float, optional): [validation ratio]. Defaults to 0.2.\n",
    "\n",
    "    Returns:\n",
    "        [type]: [description]\n",
    "    \"\"\"\n",
    "    # number of samples in train and test set\n",
    "    train_len = int(len(dataset) * (1 - validation_split))\n",
    "    test_len = len(dataset) - train_len\n",
    "    train_set, test_set = torch.utils.data.random_split(dataset, [train_len, test_len])\n",
    "    # create train_loader\n",
    "    print(len(train_set))\n",
    "    train_loader = torch.utils.data.DataLoader(\n",
    "        train_set, batch_size=train_batch_size, shuffle=True,\n",
    "    )\n",
    "    # create test_loader\n",
    "    test_loader = torch.utils.data.DataLoader(test_set, batch_size=1, shuffle=False,)\n",
    "    return train_loader, test_loader\n",
    "\n",
    "\n",
    "def data_split(data, test_size):\n",
    "    x_train, x_test, y_train, y_test = train_test_split(\n",
    "        data, data[\"label\"], test_size=test_size, stratify = data.iloc[:,1]\n",
    "    )\n",
    "    return x_train, x_test, y_train, y_test"
   ]
  },
  {
   "cell_type": "markdown",
   "id": "10c65557",
   "metadata": {
    "papermill": {
     "duration": 0.013959,
     "end_time": "2024-06-21T02:31:03.982047",
     "exception": false,
     "start_time": "2024-06-21T02:31:03.968088",
     "status": "completed"
    },
    "tags": []
   },
   "source": [
    "# 1. Define DataLoader"
   ]
  },
  {
   "cell_type": "code",
   "execution_count": 8,
   "id": "2e9be10c",
   "metadata": {
    "execution": {
     "iopub.execute_input": "2024-06-21T02:31:04.011669Z",
     "iopub.status.busy": "2024-06-21T02:31:04.011381Z",
     "iopub.status.idle": "2024-06-21T02:31:04.015403Z",
     "shell.execute_reply": "2024-06-21T02:31:04.014522Z"
    },
    "papermill": {
     "duration": 0.021228,
     "end_time": "2024-06-21T02:31:04.017352",
     "exception": false,
     "start_time": "2024-06-21T02:31:03.996124",
     "status": "completed"
    },
    "tags": []
   },
   "outputs": [],
   "source": [
    "mean = (0.5, 0.5, 0.5)\n",
    "std = (0.5, 0.5, 0.5)"
   ]
  },
  {
   "cell_type": "code",
   "execution_count": 9,
   "id": "738f6106",
   "metadata": {
    "execution": {
     "iopub.execute_input": "2024-06-21T02:31:04.046755Z",
     "iopub.status.busy": "2024-06-21T02:31:04.046488Z",
     "iopub.status.idle": "2024-06-21T02:31:04.051286Z",
     "shell.execute_reply": "2024-06-21T02:31:04.050423Z"
    },
    "papermill": {
     "duration": 0.021579,
     "end_time": "2024-06-21T02:31:04.053107",
     "exception": false,
     "start_time": "2024-06-21T02:31:04.031528",
     "status": "completed"
    },
    "tags": []
   },
   "outputs": [],
   "source": [
    "import torchvision\n",
    "transform = torchvision.transforms.Compose([torchvision.transforms.Resize((224, 224)),\n",
    "                                               torchvision.transforms.ToTensor(),\n",
    "                                               torchvision.transforms.Normalize(mean, std)])"
   ]
  },
  {
   "cell_type": "code",
   "execution_count": 10,
   "id": "9583484d",
   "metadata": {
    "execution": {
     "iopub.execute_input": "2024-06-21T02:31:04.083247Z",
     "iopub.status.busy": "2024-06-21T02:31:04.082981Z",
     "iopub.status.idle": "2024-06-21T02:31:04.087503Z",
     "shell.execute_reply": "2024-06-21T02:31:04.086621Z"
    },
    "papermill": {
     "duration": 0.022088,
     "end_time": "2024-06-21T02:31:04.089505",
     "exception": false,
     "start_time": "2024-06-21T02:31:04.067417",
     "status": "completed"
    },
    "tags": []
   },
   "outputs": [],
   "source": [
    "test_transform = torchvision.transforms.Compose([torchvision.transforms.Resize((224, 224)),\n",
    "                                               torchvision.transforms.ToTensor(),\n",
    "                                               torchvision.transforms.Normalize(mean, std)])"
   ]
  },
  {
   "cell_type": "code",
   "execution_count": 11,
   "id": "f4d1bd71",
   "metadata": {
    "execution": {
     "iopub.execute_input": "2024-06-21T02:31:04.118755Z",
     "iopub.status.busy": "2024-06-21T02:31:04.118490Z",
     "iopub.status.idle": "2024-06-21T02:31:04.146977Z",
     "shell.execute_reply": "2024-06-21T02:31:04.146044Z"
    },
    "papermill": {
     "duration": 0.045438,
     "end_time": "2024-06-21T02:31:04.148909",
     "exception": false,
     "start_time": "2024-06-21T02:31:04.103471",
     "status": "completed"
    },
    "tags": []
   },
   "outputs": [
    {
     "name": "stdout",
     "output_type": "stream",
     "text": [
      "6400\n"
     ]
    }
   ],
   "source": [
    "dataset = ClassificationDataset(train_df,data_path = \"\",transform=transform,training=True)\n",
    "train_loader,val_loader = make_loader(dataset, train_batch_size=config.batch_size, validation_split=0.2)"
   ]
  },
  {
   "cell_type": "code",
   "execution_count": 12,
   "id": "0a679d7c",
   "metadata": {
    "execution": {
     "iopub.execute_input": "2024-06-21T02:31:04.179921Z",
     "iopub.status.busy": "2024-06-21T02:31:04.179644Z",
     "iopub.status.idle": "2024-06-21T02:31:04.184105Z",
     "shell.execute_reply": "2024-06-21T02:31:04.183311Z"
    },
    "papermill": {
     "duration": 0.022894,
     "end_time": "2024-06-21T02:31:04.186109",
     "exception": false,
     "start_time": "2024-06-21T02:31:04.163215",
     "status": "completed"
    },
    "tags": []
   },
   "outputs": [
    {
     "name": "stdout",
     "output_type": "stream",
     "text": [
      "87\n"
     ]
    }
   ],
   "source": [
    "import random\n",
    "\n",
    "# Generate a random integer between 0 and 2^32 - 1\n",
    "random_seed = random.randint(0, 128)\n",
    "print(random_seed)"
   ]
  },
  {
   "cell_type": "code",
   "execution_count": 13,
   "id": "6f6ba1d8",
   "metadata": {
    "execution": {
     "iopub.execute_input": "2024-06-21T02:31:04.215896Z",
     "iopub.status.busy": "2024-06-21T02:31:04.215628Z",
     "iopub.status.idle": "2024-06-21T02:31:04.227335Z",
     "shell.execute_reply": "2024-06-21T02:31:04.226476Z"
    },
    "papermill": {
     "duration": 0.028758,
     "end_time": "2024-06-21T02:31:04.229446",
     "exception": false,
     "start_time": "2024-06-21T02:31:04.200688",
     "status": "completed"
    },
    "tags": []
   },
   "outputs": [],
   "source": [
    " X_train, X_test, y_train, y_test = train_test_split(train_df, train_df['label'],stratify=train_df['label'], test_size=0.2, random_state=random_seed)"
   ]
  },
  {
   "cell_type": "code",
   "execution_count": 14,
   "id": "0a07cfdf",
   "metadata": {
    "execution": {
     "iopub.execute_input": "2024-06-21T02:31:04.259041Z",
     "iopub.status.busy": "2024-06-21T02:31:04.258785Z",
     "iopub.status.idle": "2024-06-21T02:31:04.266472Z",
     "shell.execute_reply": "2024-06-21T02:31:04.265811Z"
    },
    "papermill": {
     "duration": 0.024898,
     "end_time": "2024-06-21T02:31:04.268445",
     "exception": false,
     "start_time": "2024-06-21T02:31:04.243547",
     "status": "completed"
    },
    "tags": []
   },
   "outputs": [],
   "source": [
    "train_dataset = ClassificationDataset(X_train,data_path = \"\",transform=transform,training=True)\n",
    "val_dataset = ClassificationDataset(X_test,data_path = \"\",transform=test_transform,training=True)"
   ]
  },
  {
   "cell_type": "code",
   "execution_count": 15,
   "id": "ff711dd5",
   "metadata": {
    "execution": {
     "iopub.execute_input": "2024-06-21T02:31:04.298544Z",
     "iopub.status.busy": "2024-06-21T02:31:04.297895Z",
     "iopub.status.idle": "2024-06-21T02:31:04.302730Z",
     "shell.execute_reply": "2024-06-21T02:31:04.301912Z"
    },
    "papermill": {
     "duration": 0.021794,
     "end_time": "2024-06-21T02:31:04.304622",
     "exception": false,
     "start_time": "2024-06-21T02:31:04.282828",
     "status": "completed"
    },
    "tags": []
   },
   "outputs": [],
   "source": [
    "train_loader = torch.utils.data.DataLoader(\n",
    "        train_dataset, batch_size=config.batch_size, shuffle=True,\n",
    "    )\n",
    "    # create test_loader\n",
    "val_loader = torch.utils.data.DataLoader(val_dataset, batch_size=1, shuffle=False)"
   ]
  },
  {
   "cell_type": "code",
   "execution_count": 16,
   "id": "8967ab51",
   "metadata": {
    "execution": {
     "iopub.execute_input": "2024-06-21T02:31:04.334599Z",
     "iopub.status.busy": "2024-06-21T02:31:04.333858Z",
     "iopub.status.idle": "2024-06-21T02:31:04.339148Z",
     "shell.execute_reply": "2024-06-21T02:31:04.338314Z"
    },
    "papermill": {
     "duration": 0.022014,
     "end_time": "2024-06-21T02:31:04.341014",
     "exception": false,
     "start_time": "2024-06-21T02:31:04.319000",
     "status": "completed"
    },
    "tags": []
   },
   "outputs": [],
   "source": [
    "testset = ClassificationDataset(test_df,data_path = \"\",transform=test_transform,training=False)\n",
    "test_loader = torch.utils.data.DataLoader(\n",
    "        testset, batch_size=1, shuffle=False,\n",
    "    )"
   ]
  },
  {
   "cell_type": "code",
   "execution_count": 17,
   "id": "f668a6ea",
   "metadata": {
    "execution": {
     "iopub.execute_input": "2024-06-21T02:31:04.370868Z",
     "iopub.status.busy": "2024-06-21T02:31:04.370606Z",
     "iopub.status.idle": "2024-06-21T02:31:13.631494Z",
     "shell.execute_reply": "2024-06-21T02:31:13.629981Z"
    },
    "papermill": {
     "duration": 9.278324,
     "end_time": "2024-06-21T02:31:13.633512",
     "exception": false,
     "start_time": "2024-06-21T02:31:04.355188",
     "status": "completed"
    },
    "tags": []
   },
   "outputs": [
    {
     "name": "stderr",
     "output_type": "stream",
     "text": [
      "100%|██████████| 770/770 [00:09<00:00, 83.59it/s]\n"
     ]
    }
   ],
   "source": [
    "from tqdm import tqdm\n",
    "psum    = torch.tensor([0.0, 0.0, 0.0])\n",
    "psum_sq = torch.tensor([0.0, 0.0, 0.0])\n",
    "\n",
    "# loop through images\n",
    "for inputs in tqdm(test_loader):\n",
    "    psum    += inputs.sum(axis        = [0, 2, 3])\n",
    "    psum_sq += (inputs ** 2).sum(axis = [0, 2, 3])\n",
    "\n",
    "count = len(test_df) * 224 * 224\n",
    "\n",
    "# mean and std\n",
    "test_mean = psum / count\n",
    "test_var  = (psum_sq / count) - (test_mean ** 2)\n",
    "test_std  = torch.sqrt(test_var)"
   ]
  },
  {
   "cell_type": "code",
   "execution_count": 18,
   "id": "3bbef240",
   "metadata": {
    "execution": {
     "iopub.execute_input": "2024-06-21T02:31:13.677284Z",
     "iopub.status.busy": "2024-06-21T02:31:13.676964Z",
     "iopub.status.idle": "2024-06-21T02:32:31.027546Z",
     "shell.execute_reply": "2024-06-21T02:32:31.026594Z"
    },
    "papermill": {
     "duration": 77.374818,
     "end_time": "2024-06-21T02:32:31.029739",
     "exception": false,
     "start_time": "2024-06-21T02:31:13.654921",
     "status": "completed"
    },
    "tags": []
   },
   "outputs": [
    {
     "name": "stderr",
     "output_type": "stream",
     "text": [
      "100%|██████████| 400/400 [01:17<00:00,  5.17it/s]\n"
     ]
    }
   ],
   "source": [
    "psum    = torch.tensor([0.0, 0.0, 0.0])\n",
    "psum_sq = torch.tensor([0.0, 0.0, 0.0])\n",
    "\n",
    "# loop through images\n",
    "for inputs,_ in tqdm(train_loader):\n",
    "    psum    += inputs.sum(axis        = [0, 2, 3])\n",
    "    psum_sq += (inputs ** 2).sum(axis = [0, 2, 3])\n",
    "\n",
    "count = len(train_loader) * 224 * 224\n",
    "\n",
    "# mean and std\n",
    "train_mean = psum / count\n",
    "train_var  = (psum_sq / count) - (train_mean ** 2)\n",
    "train_std  = torch.sqrt(train_var)"
   ]
  },
  {
   "cell_type": "code",
   "execution_count": 19,
   "id": "8ccbc46b",
   "metadata": {
    "execution": {
     "iopub.execute_input": "2024-06-21T02:32:31.136542Z",
     "iopub.status.busy": "2024-06-21T02:32:31.136157Z",
     "iopub.status.idle": "2024-06-21T02:32:31.142733Z",
     "shell.execute_reply": "2024-06-21T02:32:31.141896Z"
    },
    "papermill": {
     "duration": 0.060896,
     "end_time": "2024-06-21T02:32:31.144552",
     "exception": false,
     "start_time": "2024-06-21T02:32:31.083656",
     "status": "completed"
    },
    "tags": []
   },
   "outputs": [],
   "source": [
    "def imshow(inp, title=None):\n",
    "    \"\"\"Imshow for Tensor.\"\"\"\n",
    "    inp = inp.numpy().transpose((1, 2, 0))\n",
    "    mean = np.array([0.485, 0.456, 0.406])\n",
    "    std = np.array([0.229, 0.224, 0.225])\n",
    "    inp = std * inp + mean\n",
    "    inp = np.clip(inp, 0, 1)\n",
    "    plt.figure(figsize = (12, 12))\n",
    "    plt.imshow(inp)\n",
    "    if title is not None:\n",
    "        plt.title(title)\n",
    "    plt.axis(\"off\")\n",
    "    plt.pause(0.001)"
   ]
  },
  {
   "cell_type": "code",
   "execution_count": 20,
   "id": "b5392c88",
   "metadata": {
    "execution": {
     "iopub.execute_input": "2024-06-21T02:32:31.249241Z",
     "iopub.status.busy": "2024-06-21T02:32:31.248986Z",
     "iopub.status.idle": "2024-06-21T02:32:31.902934Z",
     "shell.execute_reply": "2024-06-21T02:32:31.901777Z"
    },
    "papermill": {
     "duration": 0.708626,
     "end_time": "2024-06-21T02:32:31.905072",
     "exception": false,
     "start_time": "2024-06-21T02:32:31.196446",
     "status": "completed"
    },
    "tags": []
   },
   "outputs": [
    {
     "data": {
      "image/png": "[encoded data removed]",
      "text/plain": [
       "<Figure size 1200x1200 with 1 Axes>"
      ]
     },
     "metadata": {},
     "output_type": "display_data"
    }
   ],
   "source": [
    "import matplotlib.pyplot as plt\n",
    "\n",
    "%matplotlib inline\n",
    "# Visualization\n",
    "images, classes = next(iter(train_loader))\n",
    "# Make a grid from batch\n",
    "out = torchvision.utils.make_grid(images, nrow=8)\n",
    "imshow(out, title=classes)"
   ]
  },
  {
   "cell_type": "markdown",
   "id": "e4d68154",
   "metadata": {
    "papermill": {
     "duration": 0.054734,
     "end_time": "2024-06-21T02:32:32.015765",
     "exception": false,
     "start_time": "2024-06-21T02:32:31.961031",
     "status": "completed"
    },
    "tags": []
   },
   "source": [
    "# 2. Define Metrics and Optimizers and Loss function\n"
   ]
  },
  {
   "cell_type": "code",
   "execution_count": 21,
   "id": "6e3fbd62",
   "metadata": {
    "execution": {
     "iopub.execute_input": "2024-06-21T02:32:32.126469Z",
     "iopub.status.busy": "2024-06-21T02:32:32.126113Z",
     "iopub.status.idle": "2024-06-21T02:32:32.135545Z",
     "shell.execute_reply": "2024-06-21T02:32:32.134662Z"
    },
    "papermill": {
     "duration": 0.066853,
     "end_time": "2024-06-21T02:32:32.137421",
     "exception": false,
     "start_time": "2024-06-21T02:32:32.070568",
     "status": "completed"
    },
    "tags": []
   },
   "outputs": [],
   "source": [
    "from sklearn import metrics as skmetrics\n",
    "import numpy\n",
    "class Metrics:\n",
    "    def __init__(self, metric_names):\n",
    "        self.metric_names = metric_names\n",
    "        # initialize a metric dictionary\n",
    "        self.metric_dict = {metric_name: [0] for metric_name in self.metric_names}\n",
    "\n",
    "    def step(self, labels, preds):\n",
    "        for metric in self.metric_names:\n",
    "            # get the metric function\n",
    "            do_metric = getattr(\n",
    "                skmetrics, metric, \"The metric {} is not implemented\".format(metric)\n",
    "            )\n",
    "            # check if metric require average method, if yes set to 'micro' or 'macro' or 'None'\n",
    "            try:\n",
    "                self.metric_dict[metric].append(\n",
    "                    do_metric(labels, preds, average=\"macro\")\n",
    "                )\n",
    "            except:\n",
    "                self.metric_dict[metric].append(do_metric(labels, preds))\n",
    "\n",
    "    def epoch(self):\n",
    "        # calculate metrics for an entire epoch\n",
    "        avg = [sum(metric) / (len(metric) - 1) for metric in self.metric_dict.values()]\n",
    "        metric_as_dict = dict(zip(self.metric_names, avg))\n",
    "        return metric_as_dict\n",
    "\n",
    "    def last_step_metrics(self):\n",
    "        # return metrics of last steps\n",
    "        values = [self.metric_dict[metric][-1] for metric in self.metric_names]\n",
    "        metric_as_dict = dict(zip(self.metric_names, values))\n",
    "        return metric_as_dict"
   ]
  },
  {
   "cell_type": "code",
   "execution_count": 22,
   "id": "f2ddef95",
   "metadata": {
    "execution": {
     "iopub.execute_input": "2024-06-21T02:32:32.249400Z",
     "iopub.status.busy": "2024-06-21T02:32:32.249086Z",
     "iopub.status.idle": "2024-06-21T02:32:32.253047Z",
     "shell.execute_reply": "2024-06-21T02:32:32.252248Z"
    },
    "papermill": {
     "duration": 0.06251,
     "end_time": "2024-06-21T02:32:32.255162",
     "exception": false,
     "start_time": "2024-06-21T02:32:32.192652",
     "status": "completed"
    },
    "tags": []
   },
   "outputs": [],
   "source": [
    "train_metrics = Metrics([\"accuracy_score\",\"f1_score\"])\n",
    "val_metrics = Metrics([\"accuracy_score\",\"f1_score\"])"
   ]
  },
  {
   "cell_type": "code",
   "execution_count": 23,
   "id": "d9b10b6e",
   "metadata": {
    "execution": {
     "iopub.execute_input": "2024-06-21T02:32:32.366961Z",
     "iopub.status.busy": "2024-06-21T02:32:32.366682Z",
     "iopub.status.idle": "2024-06-21T02:32:32.426834Z",
     "shell.execute_reply": "2024-06-21T02:32:32.426002Z"
    },
    "papermill": {
     "duration": 0.11823,
     "end_time": "2024-06-21T02:32:32.428701",
     "exception": false,
     "start_time": "2024-06-21T02:32:32.310471",
     "status": "completed"
    },
    "tags": []
   },
   "outputs": [],
   "source": [
    "device = torch.device(\"cuda:0\" if torch.cuda.is_available() else \"cpu\")\n",
    "from torch import nn\n",
    "# criterion = nn.CrossEntropyLoss()"
   ]
  },
  {
   "cell_type": "code",
   "execution_count": 24,
   "id": "87a7fe33",
   "metadata": {
    "execution": {
     "iopub.execute_input": "2024-06-21T02:32:32.544618Z",
     "iopub.status.busy": "2024-06-21T02:32:32.544305Z",
     "iopub.status.idle": "2024-06-21T02:32:32.548576Z",
     "shell.execute_reply": "2024-06-21T02:32:32.547819Z"
    },
    "papermill": {
     "duration": 0.065066,
     "end_time": "2024-06-21T02:32:32.550633",
     "exception": false,
     "start_time": "2024-06-21T02:32:32.485567",
     "status": "completed"
    },
    "tags": []
   },
   "outputs": [],
   "source": [
    "criterion = nn.CrossEntropyLoss()"
   ]
  },
  {
   "cell_type": "code",
   "execution_count": 25,
   "id": "fccfa5ce",
   "metadata": {
    "execution": {
     "iopub.execute_input": "2024-06-21T02:32:32.663337Z",
     "iopub.status.busy": "2024-06-21T02:32:32.663070Z",
     "iopub.status.idle": "2024-06-21T02:32:48.722499Z",
     "shell.execute_reply": "2024-06-21T02:32:48.721533Z"
    },
    "papermill": {
     "duration": 16.117937,
     "end_time": "2024-06-21T02:32:48.724780",
     "exception": false,
     "start_time": "2024-06-21T02:32:32.606843",
     "status": "completed"
    },
    "tags": []
   },
   "outputs": [
    {
     "name": "stdout",
     "output_type": "stream",
     "text": [
      "Found existing installation: timm 1.0.3\r\n",
      "Uninstalling timm-1.0.3:\r\n",
      "  Successfully uninstalled timm-1.0.3\r\n",
      "Collecting timm==0.4.12\r\n",
      "  Downloading timm-0.4.12-py3-none-any.whl.metadata (30 kB)\r\n",
      "Requirement already satisfied: torch>=1.4 in /opt/conda/lib/python3.10/site-packages (from timm==0.4.12) (2.1.2)\r\n",
      "Requirement already satisfied: torchvision in /opt/conda/lib/python3.10/site-packages (from timm==0.4.12) (0.16.2)\r\n",
      "Requirement already satisfied: filelock in /opt/conda/lib/python3.10/site-packages (from torch>=1.4->timm==0.4.12) (3.13.1)\r\n",
      "Requirement already satisfied: typing-extensions in /opt/conda/lib/python3.10/site-packages (from torch>=1.4->timm==0.4.12) (4.9.0)\r\n",
      "Requirement already satisfied: sympy in /opt/conda/lib/python3.10/site-packages (from torch>=1.4->timm==0.4.12) (1.12.1)\r\n",
      "Requirement already satisfied: networkx in /opt/conda/lib/python3.10/site-packages (from torch>=1.4->timm==0.4.12) (3.2.1)\r\n",
      "Requirement already satisfied: jinja2 in /opt/conda/lib/python3.10/site-packages (from torch>=1.4->timm==0.4.12) (3.1.2)\r\n",
      "Requirement already satisfied: fsspec in /opt/conda/lib/python3.10/site-packages (from torch>=1.4->timm==0.4.12) (2024.3.1)\r\n",
      "Requirement already satisfied: numpy in /opt/conda/lib/python3.10/site-packages (from torchvision->timm==0.4.12) (1.26.4)\r\n",
      "Requirement already satisfied: requests in /opt/conda/lib/python3.10/site-packages (from torchvision->timm==0.4.12) (2.32.3)\r\n",
      "Requirement already satisfied: pillow!=8.3.*,>=5.3.0 in /opt/conda/lib/python3.10/site-packages (from torchvision->timm==0.4.12) (9.5.0)\r\n",
      "Requirement already satisfied: MarkupSafe>=2.0 in /opt/conda/lib/python3.10/site-packages (from jinja2->torch>=1.4->timm==0.4.12) (2.1.3)\r\n",
      "Requirement already satisfied: charset-normalizer<4,>=2 in /opt/conda/lib/python3.10/site-packages (from requests->torchvision->timm==0.4.12) (3.3.2)\r\n",
      "Requirement already satisfied: idna<4,>=2.5 in /opt/conda/lib/python3.10/site-packages (from requests->torchvision->timm==0.4.12) (3.6)\r\n",
      "Requirement already satisfied: urllib3<3,>=1.21.1 in /opt/conda/lib/python3.10/site-packages (from requests->torchvision->timm==0.4.12) (1.26.18)\r\n",
      "Requirement already satisfied: certifi>=2017.4.17 in /opt/conda/lib/python3.10/site-packages (from requests->torchvision->timm==0.4.12) (2024.2.2)\r\n",
      "Requirement already satisfied: mpmath<1.4.0,>=1.1.0 in /opt/conda/lib/python3.10/site-packages (from sympy->torch>=1.4->timm==0.4.12) (1.3.0)\r\n",
      "Downloading timm-0.4.12-py3-none-any.whl (376 kB)\r\n",
      "\u001b[2K   \u001b[90m━━━━━━━━━━━━━━━━━━━━━━━━━━━━━━━━━━━━━━━━\u001b[0m \u001b[32m377.0/377.0 kB\u001b[0m \u001b[31m9.9 MB/s\u001b[0m eta \u001b[36m0:00:00\u001b[0m\r\n",
      "\u001b[?25hInstalling collected packages: timm\r\n",
      "Successfully installed timm-0.4.12\r\n"
     ]
    }
   ],
   "source": [
    "!pip uninstall timm -y\n",
    "!pip install timm==0.4.12"
   ]
  },
  {
   "cell_type": "markdown",
   "id": "af01336c",
   "metadata": {
    "papermill": {
     "duration": 0.056492,
     "end_time": "2024-06-21T02:32:48.838428",
     "exception": false,
     "start_time": "2024-06-21T02:32:48.781936",
     "status": "completed"
    },
    "tags": []
   },
   "source": [
    "4. Define the Model: Transfer Learning\n"
   ]
  },
  {
   "cell_type": "code",
   "execution_count": 26,
   "id": "3c232a21",
   "metadata": {
    "execution": {
     "iopub.execute_input": "2024-06-21T02:32:48.953805Z",
     "iopub.status.busy": "2024-06-21T02:32:48.952760Z",
     "iopub.status.idle": "2024-06-21T02:32:52.618687Z",
     "shell.execute_reply": "2024-06-21T02:32:52.617815Z"
    },
    "papermill": {
     "duration": 3.725768,
     "end_time": "2024-06-21T02:32:52.620808",
     "exception": false,
     "start_time": "2024-06-21T02:32:48.895040",
     "status": "completed"
    },
    "tags": []
   },
   "outputs": [
    {
     "data": {
      "application/vnd.jupyter.widget-view+json": {
       "model_id": "3b6bf6c5ba1c496b8853e747737d9e2f",
       "version_major": 2,
       "version_minor": 0
      },
      "text/plain": [
       "model.safetensors:   0%|          | 0.00/353M [00:00<?, ?B/s]"
      ]
     },
     "metadata": {},
     "output_type": "display_data"
    }
   ],
   "source": [
    "from torchvision import models\n",
    "from torch import nn\n",
    "import timm\n",
    "# Tải mô hình Swin Transformer đã được pretrain\n",
    "model = timm.create_model('swin_base_patch4_window7_224', pretrained=True)\n",
    "# Đặt requires_grad = False cho tất cả các tham số của mô hình\n",
    "for param in model.parameters():\n",
    "    param.requires_grad = True\n",
    "# Tạo một bộ phân loại mới\n",
    "classifier = nn.Sequential(\n",
    "    nn.Linear(in_features=model.head.fc.in_features, out_features=256, bias=True),\n",
    "    nn.Linear(in_features=256, out_features=2, bias=True)\n",
    ")\n",
    "# Thay thế bộ phân loại hiện tại của mô hình bằng bộ phân loại mới\n",
    "model.head.fc = classifier"
   ]
  },
  {
   "cell_type": "code",
   "execution_count": 27,
   "id": "675b195d",
   "metadata": {
    "execution": {
     "iopub.execute_input": "2024-06-21T02:32:52.737032Z",
     "iopub.status.busy": "2024-06-21T02:32:52.736436Z",
     "iopub.status.idle": "2024-06-21T02:32:52.744024Z",
     "shell.execute_reply": "2024-06-21T02:32:52.743173Z"
    },
    "papermill": {
     "duration": 0.06746,
     "end_time": "2024-06-21T02:32:52.745892",
     "exception": false,
     "start_time": "2024-06-21T02:32:52.678432",
     "status": "completed"
    },
    "tags": []
   },
   "outputs": [],
   "source": [
    "optimizer = torch.optim.Adam(model.parameters(), lr=0.01)\n",
    "scheduler = torch.optim.lr_scheduler.ReduceLROnPlateau(\n",
    "        optimizer, \"min\", patience=2, factor=0.5\n",
    "    )"
   ]
  },
  {
   "cell_type": "markdown",
   "id": "fc01ad94",
   "metadata": {
    "papermill": {
     "duration": 0.056277,
     "end_time": "2024-06-21T02:32:52.858817",
     "exception": false,
     "start_time": "2024-06-21T02:32:52.802540",
     "status": "completed"
    },
    "tags": []
   },
   "source": [
    "# 3. Define a training epoch\n"
   ]
  },
  {
   "cell_type": "code",
   "execution_count": 28,
   "id": "d738b6e1",
   "metadata": {
    "execution": {
     "iopub.execute_input": "2024-06-21T02:32:52.987934Z",
     "iopub.status.busy": "2024-06-21T02:32:52.986778Z",
     "iopub.status.idle": "2024-06-21T02:32:53.241914Z",
     "shell.execute_reply": "2024-06-21T02:32:53.241127Z"
    },
    "papermill": {
     "duration": 0.328937,
     "end_time": "2024-06-21T02:32:53.244133",
     "exception": false,
     "start_time": "2024-06-21T02:32:52.915196",
     "status": "completed"
    },
    "tags": []
   },
   "outputs": [],
   "source": [
    "model = model.to(device)"
   ]
  },
  {
   "cell_type": "code",
   "execution_count": 29,
   "id": "d8073570",
   "metadata": {
    "execution": {
     "iopub.execute_input": "2024-06-21T02:32:53.360454Z",
     "iopub.status.busy": "2024-06-21T02:32:53.360113Z",
     "iopub.status.idle": "2024-06-21T02:32:53.372376Z",
     "shell.execute_reply": "2024-06-21T02:32:53.371531Z"
    },
    "papermill": {
     "duration": 0.072408,
     "end_time": "2024-06-21T02:32:53.374316",
     "exception": false,
     "start_time": "2024-06-21T02:32:53.301908",
     "status": "completed"
    },
    "tags": []
   },
   "outputs": [],
   "source": [
    "def train_one_epoch(\n",
    "    model,\n",
    "    train_loader,\n",
    "    test_loader,\n",
    "    device,\n",
    "    optimizer,\n",
    "    criterion,\n",
    "    train_metrics,\n",
    "    val_metrics,\n",
    "):\n",
    "\n",
    "    # training-the-model\n",
    "    train_loss = 0\n",
    "    valid_loss = 0\n",
    "    all_labels = []\n",
    "    all_preds = []\n",
    "    model.train()\n",
    "    for data, target in train_loader:\n",
    "        # move-tensors-to-GPU\n",
    "        data = data.type(torch.FloatTensor).to(device)\n",
    "        # target=torch.Tensor(target)\n",
    "        target = target.float().to(device)\n",
    "        # clear-the-gradients-of-all-optimized-variables\n",
    "        optimizer.zero_grad()\n",
    "        # forward-pass: compute-predicted-outputs-by-passing-inputs-to-the-model\n",
    "        output = model(data)\n",
    "        # get the prediction label and target label\n",
    "        output = model(data)\n",
    "        preds = torch.argmax(output, axis=1).cpu().detach().numpy()\n",
    "        labels = target.cpu().numpy()\n",
    "        # calculate-the-batch-loss\n",
    "        loss = criterion(output.type(torch.FloatTensor).to(device), target.type(torch.LongTensor).to(device))\n",
    "        # backward-pass: compute-gradient-of-the-loss-wrt-model-parameters\n",
    "        loss.backward()\n",
    "        # perform-a-ingle-optimization-step (parameter-update)\n",
    "        optimizer.step()\n",
    "        # update-training-loss\n",
    "        train_loss += loss.item() * data.size(0)\n",
    "        # calculate training metrics\n",
    "        all_labels.extend(labels)\n",
    "        all_preds.extend(preds)\n",
    "    \n",
    "    train_metrics.step(all_labels, all_preds)\n",
    "\n",
    "    # validate-the-model\n",
    "    model.eval()\n",
    "    all_labels = []\n",
    "    all_preds = []\n",
    "    for data, target in test_loader:\n",
    "        data = data.type(torch.FloatTensor).to(device)\n",
    "        target = target.to(device)\n",
    "        output = model(data)\n",
    "        preds = torch.argmax(output, axis=1).tolist()\n",
    "        labels = target.tolist()\n",
    "        all_labels.extend(labels)\n",
    "        all_preds.extend(preds)\n",
    "        loss = criterion(output, target)\n",
    "\n",
    "        # update-average-validation-loss\n",
    "        valid_loss += loss.item() * data.size(0)\n",
    "\n",
    "    val_metrics.step(all_labels, all_preds)\n",
    "    train_loss = train_loss / len(train_loader.sampler)\n",
    "    valid_loss = valid_loss / len(test_loader.sampler)\n",
    "\n",
    "    return (\n",
    "        train_loss,\n",
    "        valid_loss,\n",
    "        train_metrics.last_step_metrics(),\n",
    "        val_metrics.last_step_metrics(),\n",
    "    )"
   ]
  },
  {
   "cell_type": "markdown",
   "id": "5fa9feec",
   "metadata": {
    "papermill": {
     "duration": 0.057206,
     "end_time": "2024-06-21T02:32:53.491901",
     "exception": false,
     "start_time": "2024-06-21T02:32:53.434695",
     "status": "completed"
    },
    "tags": []
   },
   "source": [
    "# Training"
   ]
  },
  {
   "cell_type": "code",
   "execution_count": 30,
   "id": "c8fc200a",
   "metadata": {
    "execution": {
     "iopub.execute_input": "2024-06-21T02:32:53.607979Z",
     "iopub.status.busy": "2024-06-21T02:32:53.607124Z",
     "iopub.status.idle": "2024-06-21T02:32:53.612128Z",
     "shell.execute_reply": "2024-06-21T02:32:53.611228Z"
    },
    "papermill": {
     "duration": 0.065768,
     "end_time": "2024-06-21T02:32:53.614249",
     "exception": false,
     "start_time": "2024-06-21T02:32:53.548481",
     "status": "completed"
    },
    "tags": []
   },
   "outputs": [],
   "source": [
    "from tqdm import tqdm\n",
    "from datetime import datetime\n",
    "time_str = str(datetime.now().strftime(\"%Y%m%d-%H%M\"))"
   ]
  },
  {
   "cell_type": "code",
   "execution_count": 31,
   "id": "521fcb63",
   "metadata": {
    "execution": {
     "iopub.execute_input": "2024-06-21T02:32:53.728009Z",
     "iopub.status.busy": "2024-06-21T02:32:53.727739Z",
     "iopub.status.idle": "2024-06-21T04:00:33.601634Z",
     "shell.execute_reply": "2024-06-21T04:00:33.600733Z"
    },
    "papermill": {
     "duration": 5259.99552,
     "end_time": "2024-06-21T04:00:33.666218",
     "exception": false,
     "start_time": "2024-06-21T02:32:53.670698",
     "status": "completed"
    },
    "tags": []
   },
   "outputs": [
    {
     "name": "stdout",
     "output_type": "stream",
     "text": [
      "begin training process\n"
     ]
    },
    {
     "name": "stderr",
     "output_type": "stream",
     "text": [
      "  0%|          | 0/20 [00:00<?, ?it/s]"
     ]
    },
    {
     "name": "stdout",
     "output_type": "stream",
     "text": [
      "Epoch 1 / 20 \n",
      " Training loss: 0.3853617728268728 - Other training metrics: \n",
      "{'accuracy_score': 0.82828125, 'f1_score': 0.8282781937207818}\n",
      " \n",
      " Validation loss : 0.30580452308640815 - Other validation metrics:\n",
      "{'accuracy_score': 0.87, 'f1_score': 0.8692890550007148}\n",
      "\n",
      "\n",
      "Validation accuracy= 0.87===> Save best epoch\n"
     ]
    },
    {
     "name": "stderr",
     "output_type": "stream",
     "text": [
      "  5%|▌         | 1/20 [04:34<1:27:01, 274.80s/it]"
     ]
    },
    {
     "name": "stdout",
     "output_type": "stream",
     "text": [
      "Epoch 2 / 20 \n",
      " Training loss: 0.20974178707227112 - Other training metrics: \n",
      "{'accuracy_score': 0.9190625, 'f1_score': 0.9190613618004003}\n",
      " \n",
      " Validation loss : 0.26749957357338644 - Other validation metrics:\n",
      "{'accuracy_score': 0.895625, 'f1_score': 0.8954072755356757}\n",
      "\n",
      "\n",
      "Validation accuracy= 0.895625===> Save best epoch\n"
     ]
    },
    {
     "name": "stderr",
     "output_type": "stream",
     "text": [
      " 15%|█▌        | 3/20 [13:22<1:15:34, 266.76s/it]"
     ]
    },
    {
     "name": "stdout",
     "output_type": "stream",
     "text": [
      "Epoch 3 / 20 \n",
      " Training loss: 0.13647096448345108 - Other training metrics: \n",
      "{'accuracy_score': 0.951875, 'f1_score': 0.9518731200437518}\n",
      " \n",
      " Validation loss : 0.378614828607715 - Other validation metrics:\n",
      "{'accuracy_score': 0.87875, 'f1_score': 0.877494123348894}\n",
      "\n",
      "\n",
      "Validation accuracy= 0.87875===> No saving\n",
      "Epoch 4 / 20 \n",
      " Training loss: 0.07857945593408658 - Other training metrics: \n",
      "{'accuracy_score': 0.9734375, 'f1_score': 0.9734374351499882}\n",
      " \n",
      " Validation loss : 0.34397784673647036 - Other validation metrics:\n",
      "{'accuracy_score': 0.92625, 'f1_score': 0.9262166822205653}\n",
      "\n",
      "\n",
      "Validation accuracy= 0.92625===> Save best epoch\n"
     ]
    },
    {
     "name": "stderr",
     "output_type": "stream",
     "text": [
      " 25%|██▌       | 5/20 [22:11<1:06:19, 265.33s/it]"
     ]
    },
    {
     "name": "stdout",
     "output_type": "stream",
     "text": [
      "Epoch 5 / 20 \n",
      " Training loss: 0.06062414052488748 - Other training metrics: \n",
      "{'accuracy_score': 0.9790625, 'f1_score': 0.9790624488829318}\n",
      " \n",
      " Validation loss : 0.4267696697065151 - Other validation metrics:\n",
      "{'accuracy_score': 0.9025, 'f1_score': 0.9024390243902439}\n",
      "\n",
      "\n",
      "Validation accuracy= 0.9025===> No saving\n"
     ]
    },
    {
     "name": "stderr",
     "output_type": "stream",
     "text": [
      " 30%|███       | 6/20 [26:36<1:01:52, 265.20s/it]"
     ]
    },
    {
     "name": "stdout",
     "output_type": "stream",
     "text": [
      "Epoch 6 / 20 \n",
      " Training loss: 0.05150353847511724 - Other training metrics: \n",
      "{'accuracy_score': 0.98109375, 'f1_score': 0.9810936941488524}\n",
      " \n",
      " Validation loss : 0.36190148995684895 - Other validation metrics:\n",
      "{'accuracy_score': 0.9, 'f1_score': 0.8996386993175431}\n",
      "\n",
      "\n",
      "Validation accuracy= 0.9===> No saving\n"
     ]
    },
    {
     "name": "stderr",
     "output_type": "stream",
     "text": [
      " 35%|███▌      | 7/20 [30:58<57:14, 264.20s/it]  "
     ]
    },
    {
     "name": "stdout",
     "output_type": "stream",
     "text": [
      "Epoch 7 / 20 \n",
      " Training loss: 0.04519605374379353 - Other training metrics: \n",
      "{'accuracy_score': 0.98640625, 'f1_score': 0.9864062470130914}\n",
      " \n",
      " Validation loss : 0.29684794396631103 - Other validation metrics:\n",
      "{'accuracy_score': 0.9125, 'f1_score': 0.9124556806883484}\n",
      "\n",
      "\n",
      "Validation accuracy= 0.9125===> No saving\n"
     ]
    },
    {
     "name": "stderr",
     "output_type": "stream",
     "text": [
      " 40%|████      | 8/20 [35:20<52:40, 263.41s/it]"
     ]
    },
    {
     "name": "stdout",
     "output_type": "stream",
     "text": [
      "Epoch 8 / 20 \n",
      " Training loss: 0.04194752379041347 - Other training metrics: \n",
      "{'accuracy_score': 0.98671875, 'f1_score': 0.9867186952016478}\n",
      " \n",
      " Validation loss : 0.5169193155740512 - Other validation metrics:\n",
      "{'accuracy_score': 0.9025, 'f1_score': 0.9022432357488968}\n",
      "\n",
      "\n",
      "Validation accuracy= 0.9025===> No saving\n"
     ]
    },
    {
     "name": "stderr",
     "output_type": "stream",
     "text": [
      " 45%|████▌     | 9/20 [39:41<48:08, 262.55s/it]"
     ]
    },
    {
     "name": "stdout",
     "output_type": "stream",
     "text": [
      "Epoch 9 / 20 \n",
      " Training loss: 0.038184107422184754 - Other training metrics: \n",
      "{'accuracy_score': 0.9865625, 'f1_score': 0.9865624947509746}\n",
      " \n",
      " Validation loss : 0.32472536017596665 - Other validation metrics:\n",
      "{'accuracy_score': 0.905625, 'f1_score': 0.9054387956910462}\n",
      "\n",
      "\n"
     ]
    },
    {
     "name": "stderr",
     "output_type": "stream",
     "text": [
      " 50%|█████     | 10/20 [44:02<43:40, 262.01s/it]"
     ]
    },
    {
     "name": "stdout",
     "output_type": "stream",
     "text": [
      "Epoch 10 / 20 \n",
      " Training loss: 0.03190480912122666 - Other training metrics: \n",
      "{'accuracy_score': 0.98953125, 'f1_score': 0.9895312497444153}\n",
      " \n",
      " Validation loss : 0.29266696823989863 - Other validation metrics:\n",
      "{'accuracy_score': 0.919375, 'f1_score': 0.919331861452472}\n",
      "\n",
      "\n"
     ]
    },
    {
     "name": "stderr",
     "output_type": "stream",
     "text": [
      " 55%|█████▌    | 11/20 [48:22<39:14, 261.65s/it]"
     ]
    },
    {
     "name": "stdout",
     "output_type": "stream",
     "text": [
      "Epoch 11 / 20 \n",
      " Training loss: 0.03783211837204704 - Other training metrics: \n",
      "{'accuracy_score': 0.9875, 'f1_score': 0.9874999987792967}\n",
      " \n",
      " Validation loss : 0.39460037883122423 - Other validation metrics:\n",
      "{'accuracy_score': 0.91875, 'f1_score': 0.9187346357670747}\n",
      "\n",
      "\n"
     ]
    },
    {
     "name": "stderr",
     "output_type": "stream",
     "text": [
      " 60%|██████    | 12/20 [52:44<34:52, 261.53s/it]"
     ]
    },
    {
     "name": "stdout",
     "output_type": "stream",
     "text": [
      "Epoch 12 / 20 \n",
      " Training loss: 0.01774391377723987 - Other training metrics: \n",
      "{'accuracy_score': 0.994375, 'f1_score': 0.994375}\n",
      " \n",
      " Validation loss : 0.44830529654433854 - Other validation metrics:\n",
      "{'accuracy_score': 0.931875, 'f1_score': 0.9318736960199628}\n",
      "\n",
      "\n"
     ]
    },
    {
     "name": "stderr",
     "output_type": "stream",
     "text": [
      " 65%|██████▌   | 13/20 [57:05<30:30, 261.52s/it]"
     ]
    },
    {
     "name": "stdout",
     "output_type": "stream",
     "text": [
      "Epoch 13 / 20 \n",
      " Training loss: 0.035404551243475454 - Other training metrics: \n",
      "{'accuracy_score': 0.98953125, 'f1_score': 0.9895312436103783}\n",
      " \n",
      " Validation loss : 0.4007962161413519 - Other validation metrics:\n",
      "{'accuracy_score': 0.916875, 'f1_score': 0.9167693686244769}\n",
      "\n",
      "\n"
     ]
    },
    {
     "name": "stderr",
     "output_type": "stream",
     "text": [
      " 70%|███████   | 14/20 [1:01:28<26:11, 261.91s/it]"
     ]
    },
    {
     "name": "stdout",
     "output_type": "stream",
     "text": [
      "Epoch 14 / 20 \n",
      " Training loss: 0.05072216488924823 - Other training metrics: \n",
      "{'accuracy_score': 0.98296875, 'f1_score': 0.9829686564440356}\n",
      " \n",
      " Validation loss : 0.3380446027733155 - Other validation metrics:\n",
      "{'accuracy_score': 0.901875, 'f1_score': 0.9017321661680904}\n",
      "\n",
      "\n",
      "Validation accuracy= 0.901875===> No saving\n"
     ]
    },
    {
     "name": "stderr",
     "output_type": "stream",
     "text": [
      " 75%|███████▌  | 15/20 [1:05:52<21:52, 262.44s/it]"
     ]
    },
    {
     "name": "stdout",
     "output_type": "stream",
     "text": [
      "Epoch 15 / 20 \n",
      " Training loss: 0.025620570023147594 - Other training metrics: \n",
      "{'accuracy_score': 0.99234375, 'f1_score': 0.992343745326993}\n",
      " \n",
      " Validation loss : 0.2577258642770756 - Other validation metrics:\n",
      "{'accuracy_score': 0.92875, 'f1_score': 0.9287365267495886}\n",
      "\n",
      "\n"
     ]
    },
    {
     "name": "stderr",
     "output_type": "stream",
     "text": [
      " 80%|████████  | 16/20 [1:10:13<17:28, 262.11s/it]"
     ]
    },
    {
     "name": "stdout",
     "output_type": "stream",
     "text": [
      "Epoch 16 / 20 \n",
      " Training loss: 0.009647646289458862 - Other training metrics: \n",
      "{'accuracy_score': 0.99640625, 'f1_score': 0.996406249912262}\n",
      " \n",
      " Validation loss : 0.3512861790529027 - Other validation metrics:\n",
      "{'accuracy_score': 0.9225, 'f1_score': 0.9224853448855174}\n",
      "\n",
      "\n"
     ]
    },
    {
     "name": "stderr",
     "output_type": "stream",
     "text": [
      " 85%|████████▌ | 17/20 [1:14:35<13:06, 262.17s/it]"
     ]
    },
    {
     "name": "stdout",
     "output_type": "stream",
     "text": [
      "Epoch 17 / 20 \n",
      " Training loss: 0.05388556286916412 - Other training metrics: \n",
      "{'accuracy_score': 0.97828125, 'f1_score': 0.9782812070502386}\n",
      " \n",
      " Validation loss : 0.3249414955790908 - Other validation metrics:\n",
      "{'accuracy_score': 0.910625, 'f1_score': 0.9106171440849293}\n",
      "\n",
      "\n",
      "Validation accuracy= 0.910625===> No saving\n"
     ]
    },
    {
     "name": "stderr",
     "output_type": "stream",
     "text": [
      " 90%|█████████ | 18/20 [1:18:57<08:43, 261.91s/it]"
     ]
    },
    {
     "name": "stdout",
     "output_type": "stream",
     "text": [
      "Epoch 18 / 20 \n",
      " Training loss: 0.03451118011123981 - Other training metrics: \n",
      "{'accuracy_score': 0.9890625, 'f1_score': 0.9890624989318847}\n",
      " \n",
      " Validation loss : 0.43715303511839404 - Other validation metrics:\n",
      "{'accuracy_score': 0.91125, 'f1_score': 0.9112265582630412}\n",
      "\n",
      "\n"
     ]
    },
    {
     "name": "stderr",
     "output_type": "stream",
     "text": [
      " 95%|█████████▌| 19/20 [1:23:18<04:21, 261.76s/it]"
     ]
    },
    {
     "name": "stdout",
     "output_type": "stream",
     "text": [
      "Epoch 19 / 20 \n",
      " Training loss: 0.023805706308889965 - Other training metrics: \n",
      "{'accuracy_score': 0.9921875, 'f1_score': 0.9921874992370605}\n",
      " \n",
      " Validation loss : 0.3215434108066482 - Other validation metrics:\n",
      "{'accuracy_score': 0.92, 'f1_score': 0.9199874980465699}\n",
      "\n",
      "\n"
     ]
    },
    {
     "name": "stderr",
     "output_type": "stream",
     "text": [
      "100%|██████████| 20/20 [1:27:39<00:00, 262.99s/it]"
     ]
    },
    {
     "name": "stdout",
     "output_type": "stream",
     "text": [
      "Epoch 20 / 20 \n",
      " Training loss: 0.013862868481002124 - Other training metrics: \n",
      "{'accuracy_score': 0.9953125, 'f1_score': 0.9953124995422362}\n",
      " \n",
      " Validation loss : 0.4903146139994801 - Other validation metrics:\n",
      "{'accuracy_score': 0.915, 'f1_score': 0.9149839266486319}\n",
      "\n",
      "\n"
     ]
    },
    {
     "name": "stderr",
     "output_type": "stream",
     "text": [
      "\n"
     ]
    }
   ],
   "source": [
    "for param in model.parameters():\n",
    "    param.requires_grad = True\n",
    "optimizer = torch.optim.Adam(model.parameters(), lr=0.0001, betas=(0.9, 0.999), eps=1e-08, weight_decay=0)\n",
    "\n",
    "model = model.to(device)\n",
    "num_epoch = 20\n",
    "best_val_acc = 0.0\n",
    "import logging\n",
    "import numpy as np\n",
    "print(\"begin training process\")\n",
    "for i in tqdm(range(0, num_epoch)):\n",
    "    loss, val_loss, train_result, val_result = train_one_epoch(\n",
    "        model,\n",
    "        train_loader,\n",
    "        val_loader,\n",
    "        device,\n",
    "        optimizer,\n",
    "        criterion,\n",
    "        train_metrics,\n",
    "        val_metrics,\n",
    "    )\n",
    "\n",
    "    scheduler.step(val_loss)\n",
    "    print(\n",
    "        \"Epoch {} / {} \\n Training loss: {} - Other training metrics: \".format(\n",
    "            i + 1, num_epoch, loss\n",
    "        )\n",
    "    )\n",
    "    print(train_result)\n",
    "    print(\n",
    "        \" \\n Validation loss : {} - Other validation metrics:\".format(val_loss)\n",
    "    )\n",
    "    print(val_result)\n",
    "    print(\"\\n\")\n",
    "    # saving epoch with best validation accuracy\n",
    "    if (loss<0.04):\n",
    "        # no saving\n",
    "        continue\n",
    "    if best_val_acc < float(val_result[\"accuracy_score\"]):\n",
    "        print(\n",
    "            \"Validation accuracy= \"+\n",
    "            str(val_result[\"accuracy_score\"])+\n",
    "            \"===> Save best epoch\"\n",
    "        )\n",
    "        best_val_acc = val_result[\"accuracy_score\"]\n",
    "        torch.save(\n",
    "            model,\n",
    "            \"./\" +  \"best.pt\"\n",
    "        )\n",
    "    else:\n",
    "        print(\n",
    "            \"Validation accuracy= \"+ str(val_result[\"accuracy_score\"])+ \"===> No saving\"\n",
    "        )\n",
    "        continue"
   ]
  },
  {
   "cell_type": "code",
   "execution_count": 32,
   "id": "05dfa538",
   "metadata": {
    "execution": {
     "iopub.execute_input": "2024-06-21T04:00:33.788369Z",
     "iopub.status.busy": "2024-06-21T04:00:33.787733Z",
     "iopub.status.idle": "2024-06-21T04:00:46.181572Z",
     "shell.execute_reply": "2024-06-21T04:00:46.180566Z"
    },
    "papermill": {
     "duration": 12.458183,
     "end_time": "2024-06-21T04:00:46.184428",
     "exception": false,
     "start_time": "2024-06-21T04:00:33.726245",
     "status": "completed"
    },
    "tags": []
   },
   "outputs": [
    {
     "name": "stdout",
     "output_type": "stream",
     "text": [
      "Collecting lion-pytorch\r\n",
      "  Downloading lion_pytorch-0.2.2-py3-none-any.whl.metadata (618 bytes)\r\n",
      "Requirement already satisfied: torch>=1.6 in /opt/conda/lib/python3.10/site-packages (from lion-pytorch) (2.1.2)\r\n",
      "Requirement already satisfied: filelock in /opt/conda/lib/python3.10/site-packages (from torch>=1.6->lion-pytorch) (3.13.1)\r\n",
      "Requirement already satisfied: typing-extensions in /opt/conda/lib/python3.10/site-packages (from torch>=1.6->lion-pytorch) (4.9.0)\r\n",
      "Requirement already satisfied: sympy in /opt/conda/lib/python3.10/site-packages (from torch>=1.6->lion-pytorch) (1.12.1)\r\n",
      "Requirement already satisfied: networkx in /opt/conda/lib/python3.10/site-packages (from torch>=1.6->lion-pytorch) (3.2.1)\r\n",
      "Requirement already satisfied: jinja2 in /opt/conda/lib/python3.10/site-packages (from torch>=1.6->lion-pytorch) (3.1.2)\r\n",
      "Requirement already satisfied: fsspec in /opt/conda/lib/python3.10/site-packages (from torch>=1.6->lion-pytorch) (2024.3.1)\r\n",
      "Requirement already satisfied: MarkupSafe>=2.0 in /opt/conda/lib/python3.10/site-packages (from jinja2->torch>=1.6->lion-pytorch) (2.1.3)\r\n",
      "Requirement already satisfied: mpmath<1.4.0,>=1.1.0 in /opt/conda/lib/python3.10/site-packages (from sympy->torch>=1.6->lion-pytorch) (1.3.0)\r\n",
      "Downloading lion_pytorch-0.2.2-py3-none-any.whl (5.4 kB)\r\n",
      "Installing collected packages: lion-pytorch\r\n",
      "Successfully installed lion-pytorch-0.2.2\r\n"
     ]
    }
   ],
   "source": [
    "!pip install lion-pytorch\n",
    "from lion_pytorch import Lion\n",
    "optimizer = Lion(model.parameters(), lr=1e-4, weight_decay=1e-2)"
   ]
  },
  {
   "cell_type": "code",
   "execution_count": 33,
   "id": "b14238ee",
   "metadata": {
    "execution": {
     "iopub.execute_input": "2024-06-21T04:00:46.308081Z",
     "iopub.status.busy": "2024-06-21T04:00:46.307678Z",
     "iopub.status.idle": "2024-06-21T04:00:46.547758Z",
     "shell.execute_reply": "2024-06-21T04:00:46.546991Z"
    },
    "papermill": {
     "duration": 0.304016,
     "end_time": "2024-06-21T04:00:46.550015",
     "exception": false,
     "start_time": "2024-06-21T04:00:46.245999",
     "status": "completed"
    },
    "tags": []
   },
   "outputs": [],
   "source": [
    "import copy\n",
    "val_model = torch.load(\"/kaggle/working/best.pt\")\n",
    "val_model = val_model.to(device)"
   ]
  },
  {
   "cell_type": "code",
   "execution_count": 34,
   "id": "30ca2eb6",
   "metadata": {
    "execution": {
     "iopub.execute_input": "2024-06-21T04:00:46.673692Z",
     "iopub.status.busy": "2024-06-21T04:00:46.672996Z",
     "iopub.status.idle": "2024-06-21T04:00:46.679879Z",
     "shell.execute_reply": "2024-06-21T04:00:46.678961Z"
    },
    "papermill": {
     "duration": 0.070184,
     "end_time": "2024-06-21T04:00:46.681909",
     "exception": false,
     "start_time": "2024-06-21T04:00:46.611725",
     "status": "completed"
    },
    "tags": []
   },
   "outputs": [],
   "source": [
    "def val_result(model, val_loader, device):\n",
    "    # testing the model by turning model \"Eval\" mode\n",
    "    model.eval()\n",
    "    preds = []\n",
    "    labels = []\n",
    "    with torch.no_grad():\n",
    "        for data, target in val_loader:\n",
    "            # move-tensors-to-GPU\n",
    "            data = data.to(device)\n",
    "            target = target.to(device)\n",
    "            # forward-pass: compute-predicted-outputs-by-passing-inputs-to-the-model\n",
    "            output = model(data)\n",
    "            # applying Softmax to results\n",
    "            prob = nn.Softmax(dim=1)\n",
    "            probs = prob(output)\n",
    "            labels.extend(target.tolist())\n",
    "            preds.extend(torch.argmax(probs, axis=1).tolist())\n",
    "    return preds, labels"
   ]
  },
  {
   "cell_type": "code",
   "execution_count": 35,
   "id": "2d0ed5f2",
   "metadata": {
    "execution": {
     "iopub.execute_input": "2024-06-21T04:00:46.805924Z",
     "iopub.status.busy": "2024-06-21T04:00:46.805158Z",
     "iopub.status.idle": "2024-06-21T04:01:31.723433Z",
     "shell.execute_reply": "2024-06-21T04:01:31.722629Z"
    },
    "papermill": {
     "duration": 44.982597,
     "end_time": "2024-06-21T04:01:31.725769",
     "exception": false,
     "start_time": "2024-06-21T04:00:46.743172",
     "status": "completed"
    },
    "tags": []
   },
   "outputs": [],
   "source": [
    "preds, grd_truth = val_result(val_model, val_loader, device)"
   ]
  },
  {
   "cell_type": "code",
   "execution_count": 36,
   "id": "209ee791",
   "metadata": {
    "execution": {
     "iopub.execute_input": "2024-06-21T04:01:31.847965Z",
     "iopub.status.busy": "2024-06-21T04:01:31.847640Z",
     "iopub.status.idle": "2024-06-21T04:01:31.851927Z",
     "shell.execute_reply": "2024-06-21T04:01:31.851088Z"
    },
    "papermill": {
     "duration": 0.066976,
     "end_time": "2024-06-21T04:01:31.853824",
     "exception": false,
     "start_time": "2024-06-21T04:01:31.786848",
     "status": "completed"
    },
    "tags": []
   },
   "outputs": [],
   "source": [
    "from sklearn.metrics import classification_report\n",
    "from sklearn.metrics import confusion_matrix, ConfusionMatrixDisplay"
   ]
  },
  {
   "cell_type": "code",
   "execution_count": 37,
   "id": "131bbb8a",
   "metadata": {
    "execution": {
     "iopub.execute_input": "2024-06-21T04:01:31.975810Z",
     "iopub.status.busy": "2024-06-21T04:01:31.975478Z",
     "iopub.status.idle": "2024-06-21T04:01:31.989886Z",
     "shell.execute_reply": "2024-06-21T04:01:31.988989Z"
    },
    "papermill": {
     "duration": 0.077761,
     "end_time": "2024-06-21T04:01:31.991730",
     "exception": false,
     "start_time": "2024-06-21T04:01:31.913969",
     "status": "completed"
    },
    "tags": []
   },
   "outputs": [
    {
     "name": "stdout",
     "output_type": "stream",
     "text": [
      "              precision    recall  f1-score   support\n",
      "\n",
      "           0   0.945170  0.905000  0.924649       800\n",
      "           1   0.908873  0.947500  0.927785       800\n",
      "\n",
      "    accuracy                       0.926250      1600\n",
      "   macro avg   0.927021  0.926250  0.926217      1600\n",
      "weighted avg   0.927021  0.926250  0.926217      1600\n",
      "\n"
     ]
    }
   ],
   "source": [
    "report = classification_report(grd_truth, preds, digits=6)\n",
    "print(report)"
   ]
  },
  {
   "cell_type": "code",
   "execution_count": 38,
   "id": "6a27e255",
   "metadata": {
    "execution": {
     "iopub.execute_input": "2024-06-21T04:01:32.113888Z",
     "iopub.status.busy": "2024-06-21T04:01:32.113614Z",
     "iopub.status.idle": "2024-06-21T04:01:32.405975Z",
     "shell.execute_reply": "2024-06-21T04:01:32.405085Z"
    },
    "papermill": {
     "duration": 0.355707,
     "end_time": "2024-06-21T04:01:32.407919",
     "exception": false,
     "start_time": "2024-06-21T04:01:32.052212",
     "status": "completed"
    },
    "tags": []
   },
   "outputs": [
    {
     "data": {
      "text/plain": [
       "<sklearn.metrics._plot.confusion_matrix.ConfusionMatrixDisplay at 0x7ec97d2a3580>"
      ]
     },
     "execution_count": 38,
     "metadata": {},
     "output_type": "execute_result"
    },
    {
     "data": {
      "image/png": "[encoded data removed]",
      "text/plain": [
       "<Figure size 640x480 with 2 Axes>"
      ]
     },
     "metadata": {},
     "output_type": "display_data"
    }
   ],
   "source": [
    "cm = confusion_matrix(grd_truth, preds)\n",
    "disp = ConfusionMatrixDisplay(confusion_matrix=cm)\n",
    "disp.plot()"
   ]
  },
  {
   "cell_type": "code",
   "execution_count": 39,
   "id": "2b5f0775",
   "metadata": {
    "execution": {
     "iopub.execute_input": "2024-06-21T04:01:32.533313Z",
     "iopub.status.busy": "2024-06-21T04:01:32.532952Z",
     "iopub.status.idle": "2024-06-21T04:01:32.789347Z",
     "shell.execute_reply": "2024-06-21T04:01:32.788553Z"
    },
    "papermill": {
     "duration": 0.321522,
     "end_time": "2024-06-21T04:01:32.791744",
     "exception": false,
     "start_time": "2024-06-21T04:01:32.470222",
     "status": "completed"
    },
    "tags": []
   },
   "outputs": [],
   "source": [
    "import copy\n",
    "test_model = torch.load(\"/kaggle/working/best.pt\")\n",
    "test_model = test_model.to(device)"
   ]
  },
  {
   "cell_type": "code",
   "execution_count": 40,
   "id": "0c1921de",
   "metadata": {
    "execution": {
     "iopub.execute_input": "2024-06-21T04:01:32.917297Z",
     "iopub.status.busy": "2024-06-21T04:01:32.916498Z",
     "iopub.status.idle": "2024-06-21T04:01:32.923691Z",
     "shell.execute_reply": "2024-06-21T04:01:32.922778Z"
    },
    "papermill": {
     "duration": 0.071722,
     "end_time": "2024-06-21T04:01:32.925672",
     "exception": false,
     "start_time": "2024-06-21T04:01:32.853950",
     "status": "completed"
    },
    "tags": []
   },
   "outputs": [],
   "source": [
    "def test_result(model, test_loader, device,name='no_tta_prob.npy'):\n",
    "    # testing the model by turning model \"Eval\" mode\n",
    "    model.eval()\n",
    "    preds = []\n",
    "    aprobs = []\n",
    "    with torch.no_grad():\n",
    "        for data in test_loader:\n",
    "            # move-tensors-to-GPU\n",
    "            data = data.to(device)\n",
    "            # forward-pass: compute-predicted-outputs-by-passing-inputs-to-the-model\n",
    "            output = model(data)\n",
    "            prob = nn.Softmax(dim=1)\n",
    "            # applying Softmax to results\n",
    "            probs = prob(output)\n",
    "            #aprobs.append(probs.cpu())\n",
    "            aprobs.append(probs.detach().cpu().numpy())\n",
    "            preds.extend(torch.argmax(probs, axis=1).tolist())\n",
    "#             binary_predictions = (probs[:, 1] >= threshold).int()\n",
    "#             preds.extend(binary_predictions.tolist())\n",
    "    aprobs = np.array(aprobs)\n",
    "    np.save(name,aprobs)\n",
    "    return preds"
   ]
  }
 ],
 "metadata": {
  "kaggle": {
   "accelerator": "gpu",
   "dataSources": [
    {
     "datasetId": 4154884,
     "sourceId": 7802508,
     "sourceType": "datasetVersion"
    }
   ],
   "dockerImageVersionId": 30732,
   "isGpuEnabled": true,
   "isInternetEnabled": true,
   "language": "python",
   "sourceType": "notebook"
  },
  "kernelspec": {
   "display_name": "Python 3",
   "language": "python",
   "name": "python3"
  },
  "language_info": {
   "codemirror_mode": {
    "name": "ipython",
    "version": 3
   },
   "file_extension": ".py",
   "mimetype": "text/x-python",
   "name": "python",
   "nbconvert_exporter": "python",
   "pygments_lexer": "ipython3",
   "version": "3.10.13"
  },
  "papermill": {
   "default_parameters": {},
   "duration": 5467.560146,
   "end_time": "2024-06-21T04:01:35.628719",
   "environment_variables": {},
   "exception": null,
   "input_path": "__notebook__.ipynb",
   "output_path": "__notebook__.ipynb",
   "parameters": {},
   "start_time": "2024-06-21T02:30:28.068573",
   "version": "2.4.0"
  },
  "widgets": {
   "application/vnd.jupyter.widget-state+json": {
    "state": {
     "242159d5d5fa4632a646e4b91caf0f30": {
      "model_module": "@jupyter-widgets/controls",
      "model_module_version": "1.5.0",
      "model_name": "DescriptionStyleModel",
      "state": {
       "_model_module": "@jupyter-widgets/controls",
       "_model_module_version": "1.5.0",
       "_model_name": "DescriptionStyleModel",
       "_view_count": null,
       "_view_module": "@jupyter-widgets/base",
       "_view_module_version": "1.2.0",
       "_view_name": "StyleView",
       "description_width": ""
      }
     },
     "2eeb7c2c3ae14dc29c254a01ef770d85": {
      "model_module": "@jupyter-widgets/base",
      "model_module_version": "1.2.0",
      "model_name": "LayoutModel",
      "state": {
       "_model_module": "@jupyter-widgets/base",
       "_model_module_version": "1.2.0",
       "_model_name": "LayoutModel",
       "_view_count": null,
       "_view_module": "@jupyter-widgets/base",
       "_view_module_version": "1.2.0",
       "_view_name": "LayoutView",
       "align_content": null,
       "align_items": null,
       "align_self": null,
       "border": null,
       "bottom": null,
       "display": null,
       "flex": null,
       "flex_flow": null,
       "grid_area": null,
       "grid_auto_columns": null,
       "grid_auto_flow": null,
       "grid_auto_rows": null,
       "grid_column": null,
       "grid_gap": null,
       "grid_row": null,
       "grid_template_areas": null,
       "grid_template_columns": null,
       "grid_template_rows": null,
       "height": null,
       "justify_content": null,
       "justify_items": null,
       "left": null,
       "margin": null,
       "max_height": null,
       "max_width": null,
       "min_height": null,
       "min_width": null,
       "object_fit": null,
       "object_position": null,
       "order": null,
       "overflow": null,
       "overflow_x": null,
       "overflow_y": null,
       "padding": null,
       "right": null,
       "top": null,
       "visibility": null,
       "width": null
      }
     },
     "3b6bf6c5ba1c496b8853e747737d9e2f": {
      "model_module": "@jupyter-widgets/controls",
      "model_module_version": "1.5.0",
      "model_name": "HBoxModel",
      "state": {
       "_dom_classes": [],
       "_model_module": "@jupyter-widgets/controls",
       "_model_module_version": "1.5.0",
       "_model_name": "HBoxModel",
       "_view_count": null,
       "_view_module": "@jupyter-widgets/controls",
       "_view_module_version": "1.5.0",
       "_view_name": "HBoxView",
       "box_style": "",
       "children": [
        "IPY_MODEL_a193ca961c4242bcbfa5db2114b9972f",
        "IPY_MODEL_530529fc107447eaa02354d0a649627e",
        "IPY_MODEL_57c99c6f970542f085de5d6fc28c50bb"
       ],
       "layout": "IPY_MODEL_e1fcafdcc29c44cc9adf4a6f0ace247b"
      }
     },
     "530529fc107447eaa02354d0a649627e": {
      "model_module": "@jupyter-widgets/controls",
      "model_module_version": "1.5.0",
      "model_name": "FloatProgressModel",
      "state": {
       "_dom_classes": [],
       "_model_module": "@jupyter-widgets/controls",
       "_model_module_version": "1.5.0",
       "_model_name": "FloatProgressModel",
       "_view_count": null,
       "_view_module": "@jupyter-widgets/controls",
       "_view_module_version": "1.5.0",
       "_view_name": "ProgressView",
       "bar_style": "success",
       "description": "",
       "description_tooltip": null,
       "layout": "IPY_MODEL_5a0f0f682497491cbcbbb8c8cce17bb7",
       "max": 352685652.0,
       "min": 0.0,
       "orientation": "horizontal",
       "style": "IPY_MODEL_e7c279b19db04e62b78dde1619d462c2",
       "value": 352685652.0
      }
     },
     "57c99c6f970542f085de5d6fc28c50bb": {
      "model_module": "@jupyter-widgets/controls",
      "model_module_version": "1.5.0",
      "model_name": "HTMLModel",
      "state": {
       "_dom_classes": [],
       "_model_module": "@jupyter-widgets/controls",
       "_model_module_version": "1.5.0",
       "_model_name": "HTMLModel",
       "_view_count": null,
       "_view_module": "@jupyter-widgets/controls",
       "_view_module_version": "1.5.0",
       "_view_name": "HTMLView",
       "description": "",
       "description_tooltip": null,
       "layout": "IPY_MODEL_5b6f201ccf594c62a6f8b9c7488595d0",
       "placeholder": "​",
       "style": "IPY_MODEL_242159d5d5fa4632a646e4b91caf0f30",
       "value": " 353M/353M [00:01&lt;00:00, 297MB/s]"
      }
     },
     "5a0f0f682497491cbcbbb8c8cce17bb7": {
      "model_module": "@jupyter-widgets/base",
      "model_module_version": "1.2.0",
      "model_name": "LayoutModel",
      "state": {
       "_model_module": "@jupyter-widgets/base",
       "_model_module_version": "1.2.0",
       "_model_name": "LayoutModel",
       "_view_count": null,
       "_view_module": "@jupyter-widgets/base",
       "_view_module_version": "1.2.0",
       "_view_name": "LayoutView",
       "align_content": null,
       "align_items": null,
       "align_self": null,
       "border": null,
       "bottom": null,
       "display": null,
       "flex": null,
       "flex_flow": null,
       "grid_area": null,
       "grid_auto_columns": null,
       "grid_auto_flow": null,
       "grid_auto_rows": null,
       "grid_column": null,
       "grid_gap": null,
       "grid_row": null,
       "grid_template_areas": null,
       "grid_template_columns": null,
       "grid_template_rows": null,
       "height": null,
       "justify_content": null,
       "justify_items": null,
       "left": null,
       "margin": null,
       "max_height": null,
       "max_width": null,
       "min_height": null,
       "min_width": null,
       "object_fit": null,
       "object_position": null,
       "order": null,
       "overflow": null,
       "overflow_x": null,
       "overflow_y": null,
       "padding": null,
       "right": null,
       "top": null,
       "visibility": null,
       "width": null
      }
     },
     "5b6f201ccf594c62a6f8b9c7488595d0": {
      "model_module": "@jupyter-widgets/base",
      "model_module_version": "1.2.0",
      "model_name": "LayoutModel",
      "state": {
       "_model_module": "@jupyter-widgets/base",
       "_model_module_version": "1.2.0",
       "_model_name": "LayoutModel",
       "_view_count": null,
       "_view_module": "@jupyter-widgets/base",
       "_view_module_version": "1.2.0",
       "_view_name": "LayoutView",
       "align_content": null,
       "align_items": null,
       "align_self": null,
       "border": null,
       "bottom": null,
       "display": null,
       "flex": null,
       "flex_flow": null,
       "grid_area": null,
       "grid_auto_columns": null,
       "grid_auto_flow": null,
       "grid_auto_rows": null,
       "grid_column": null,
       "grid_gap": null,
       "grid_row": null,
       "grid_template_areas": null,
       "grid_template_columns": null,
       "grid_template_rows": null,
       "height": null,
       "justify_content": null,
       "justify_items": null,
       "left": null,
       "margin": null,
       "max_height": null,
       "max_width": null,
       "min_height": null,
       "min_width": null,
       "object_fit": null,
       "object_position": null,
       "order": null,
       "overflow": null,
       "overflow_x": null,
       "overflow_y": null,
       "padding": null,
       "right": null,
       "top": null,
       "visibility": null,
       "width": null
      }
     },
     "6ef7f852f44d446cb580c14c96cd092a": {
      "model_module": "@jupyter-widgets/controls",
      "model_module_version": "1.5.0",
      "model_name": "DescriptionStyleModel",
      "state": {
       "_model_module": "@jupyter-widgets/controls",
       "_model_module_version": "1.5.0",
       "_model_name": "DescriptionStyleModel",
       "_view_count": null,
       "_view_module": "@jupyter-widgets/base",
       "_view_module_version": "1.2.0",
       "_view_name": "StyleView",
       "description_width": ""
      }
     },
     "a193ca961c4242bcbfa5db2114b9972f": {
      "model_module": "@jupyter-widgets/controls",
      "model_module_version": "1.5.0",
      "model_name": "HTMLModel",
      "state": {
       "_dom_classes": [],
       "_model_module": "@jupyter-widgets/controls",
       "_model_module_version": "1.5.0",
       "_model_name": "HTMLModel",
       "_view_count": null,
       "_view_module": "@jupyter-widgets/controls",
       "_view_module_version": "1.5.0",
       "_view_name": "HTMLView",
       "description": "",
       "description_tooltip": null,
       "layout": "IPY_MODEL_2eeb7c2c3ae14dc29c254a01ef770d85",
       "placeholder": "​",
       "style": "IPY_MODEL_6ef7f852f44d446cb580c14c96cd092a",
       "value": "model.safetensors: 100%"
      }
     },
     "e1fcafdcc29c44cc9adf4a6f0ace247b": {
      "model_module": "@jupyter-widgets/base",
      "model_module_version": "1.2.0",
      "model_name": "LayoutModel",
      "state": {
       "_model_module": "@jupyter-widgets/base",
       "_model_module_version": "1.2.0",
       "_model_name": "LayoutModel",
       "_view_count": null,
       "_view_module": "@jupyter-widgets/base",
       "_view_module_version": "1.2.0",
       "_view_name": "LayoutView",
       "align_content": null,
       "align_items": null,
       "align_self": null,
       "border": null,
       "bottom": null,
       "display": null,
       "flex": null,
       "flex_flow": null,
       "grid_area": null,
       "grid_auto_columns": null,
       "grid_auto_flow": null,
       "grid_auto_rows": null,
       "grid_column": null,
       "grid_gap": null,
       "grid_row": null,
       "grid_template_areas": null,
       "grid_template_columns": null,
       "grid_template_rows": null,
       "height": null,
       "justify_content": null,
       "justify_items": null,
       "left": null,
       "margin": null,
       "max_height": null,
       "max_width": null,
       "min_height": null,
       "min_width": null,
       "object_fit": null,
       "object_position": null,
       "order": null,
       "overflow": null,
       "overflow_x": null,
       "overflow_y": null,
       "padding": null,
       "right": null,
       "top": null,
       "visibility": null,
       "width": null
      }
     },
     "e7c279b19db04e62b78dde1619d462c2": {
      "model_module": "@jupyter-widgets/controls",
      "model_module_version": "1.5.0",
      "model_name": "ProgressStyleModel",
      "state": {
       "_model_module": "@jupyter-widgets/controls",
       "_model_module_version": "1.5.0",
       "_model_name": "ProgressStyleModel",
       "_view_count": null,
       "_view_module": "@jupyter-widgets/base",
       "_view_module_version": "1.2.0",
       "_view_name": "StyleView",
       "bar_color": null,
       "description_width": ""
      }
     }
    },
    "version_major": 2,
    "version_minor": 0
   }
  }
 },
 "nbformat": 4,
 "nbformat_minor": 5
}
