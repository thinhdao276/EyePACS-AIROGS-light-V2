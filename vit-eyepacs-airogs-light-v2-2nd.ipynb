{
 "cells": [
  {
   "cell_type": "code",
   "execution_count": 1,
   "id": "2a05c7d5",
   "metadata": {
    "execution": {
     "iopub.execute_input": "2024-06-22T15:53:00.486544Z",
     "iopub.status.busy": "2024-06-22T15:53:00.486220Z",
     "iopub.status.idle": "2024-06-22T15:53:28.110188Z",
     "shell.execute_reply": "2024-06-22T15:53:28.109056Z"
    },
    "papermill": {
     "duration": 27.640783,
     "end_time": "2024-06-22T15:53:28.112608",
     "exception": false,
     "start_time": "2024-06-22T15:53:00.471825",
     "status": "completed"
    },
    "tags": []
   },
   "outputs": [],
   "source": [
    "!pip install --upgrade -q wandb"
   ]
  },
  {
   "cell_type": "code",
   "execution_count": 2,
   "id": "cbd6c0e1",
   "metadata": {
    "execution": {
     "iopub.execute_input": "2024-06-22T15:53:28.139893Z",
     "iopub.status.busy": "2024-06-22T15:53:28.139579Z",
     "iopub.status.idle": "2024-06-22T15:53:35.852274Z",
     "shell.execute_reply": "2024-06-22T15:53:35.851486Z"
    },
    "papermill": {
     "duration": 7.729006,
     "end_time": "2024-06-22T15:53:35.854686",
     "exception": false,
     "start_time": "2024-06-22T15:53:28.125680",
     "status": "completed"
    },
    "tags": []
   },
   "outputs": [],
   "source": [
    "import pandas as pd\n",
    "import matplotlib.pyplot as plt\n",
    "import wandb\n",
    "from pathlib import Path\n",
    "from sklearn.model_selection import train_test_split, StratifiedKFold\n",
    "from sklearn.preprocessing import LabelEncoder\n",
    "from sklearn.metrics import classification_report, f1_score, recall_score, precision_score\n",
    "from torch.utils.data import DataLoader, Dataset\n",
    "from torch.utils.data import RandomSampler\n",
    "from PIL import Image\n",
    "import cv2\n",
    "import torch\n",
    "import torch.nn as nn\n",
    "import torchvision.transforms as transforms\n",
    "from torchvision import transforms\n",
    "import torchvision.models as models\n",
    "from torchvision import models\n",
    "from torchvision.utils import make_grid\n",
    "from torchvision.datasets import ImageFolder\n",
    "import torch.nn.functional as F\n",
    "import timm\n",
    "import albumentations\n",
    "from albumentations.pytorch import ToTensorV2\n",
    "import numpy as np\n",
    "from tqdm import tqdm\n",
    "from sklearn.metrics import confusion_matrix\n",
    "\n",
    "from IPython.display import display, HTML\n",
    "import warnings\n",
    "warnings.filterwarnings(\"ignore\")"
   ]
  },
  {
   "cell_type": "code",
   "execution_count": 3,
   "id": "58a5d7eb",
   "metadata": {
    "execution": {
     "iopub.execute_input": "2024-06-22T15:53:35.881663Z",
     "iopub.status.busy": "2024-06-22T15:53:35.881163Z",
     "iopub.status.idle": "2024-06-22T15:53:37.191395Z",
     "shell.execute_reply": "2024-06-22T15:53:37.190536Z"
    },
    "papermill": {
     "duration": 1.325643,
     "end_time": "2024-06-22T15:53:37.193393",
     "exception": false,
     "start_time": "2024-06-22T15:53:35.867750",
     "status": "completed"
    },
    "tags": []
   },
   "outputs": [
    {
     "name": "stderr",
     "output_type": "stream",
     "text": [
      "\u001b[34m\u001b[1mwandb\u001b[0m: W&B API key is configured. Use \u001b[1m`wandb login --relogin`\u001b[0m to force relogin\n",
      "\u001b[34m\u001b[1mwandb\u001b[0m: \u001b[33mWARNING\u001b[0m If you're specifying your api key in code, ensure this code is not shared publicly.\n",
      "\u001b[34m\u001b[1mwandb\u001b[0m: \u001b[33mWARNING\u001b[0m Consider setting the WANDB_API_KEY environment variable, or running `wandb login` from the command line.\n",
      "\u001b[34m\u001b[1mwandb\u001b[0m: Appending key for api.wandb.ai to your netrc file: /root/.netrc\n"
     ]
    },
    {
     "data": {
      "text/plain": [
       "True"
      ]
     },
     "execution_count": 3,
     "metadata": {},
     "output_type": "execute_result"
    }
   ],
   "source": [
    "import wandb\n",
    "from kaggle_secrets import UserSecretsClient\n",
    "user_secrets = UserSecretsClient()\n",
    "secret_value_0 = user_secrets.get_secret(\"wandb\")\n",
    "\n",
    "wandb.login(key = secret_value_0)"
   ]
  },
  {
   "cell_type": "code",
   "execution_count": 4,
   "id": "5895557c",
   "metadata": {
    "execution": {
     "iopub.execute_input": "2024-06-22T15:53:37.221999Z",
     "iopub.status.busy": "2024-06-22T15:53:37.221312Z",
     "iopub.status.idle": "2024-06-22T15:53:37.228601Z",
     "shell.execute_reply": "2024-06-22T15:53:37.227774Z"
    },
    "papermill": {
     "duration": 0.024099,
     "end_time": "2024-06-22T15:53:37.230593",
     "exception": false,
     "start_time": "2024-06-22T15:53:37.206494",
     "status": "completed"
    },
    "tags": []
   },
   "outputs": [
    {
     "data": {
      "text/plain": [
       "'/kaggle/input/glaucoma-dataset-eyepacs-airogs-light-v2/eyepac-light-v2-512-jpg'"
      ]
     },
     "execution_count": 4,
     "metadata": {},
     "output_type": "execute_result"
    }
   ],
   "source": [
    "class config:\n",
    "    root_path = '/kaggle/input/glaucoma-dataset-eyepacs-airogs-light-v2/eyepac-light-v2-512-jpg'\n",
    "    train_path = root_path + '/train'\n",
    "    test_path = root_path + '/test'\n",
    "    valid_path = root_path + '/validation'\n",
    "    output_path = \"/kaggle/working/\"\n",
    "    batch_size = 16\n",
    "    lr = 1e-3\n",
    "    seed = 1\n",
    "    num_epochs = 40\n",
    "    model_names = 'vit_base_patch8_224'\n",
    "    \n",
    "config.root_path"
   ]
  },
  {
   "cell_type": "code",
   "execution_count": 5,
   "id": "8b9e7061",
   "metadata": {
    "execution": {
     "iopub.execute_input": "2024-06-22T15:53:37.258055Z",
     "iopub.status.busy": "2024-06-22T15:53:37.257796Z",
     "iopub.status.idle": "2024-06-22T15:53:45.989448Z",
     "shell.execute_reply": "2024-06-22T15:53:45.988379Z"
    },
    "papermill": {
     "duration": 8.748024,
     "end_time": "2024-06-22T15:53:45.991855",
     "exception": false,
     "start_time": "2024-06-22T15:53:37.243831",
     "status": "completed"
    },
    "tags": []
   },
   "outputs": [],
   "source": [
    "def get_df(path): \n",
    "    paths = Path(path).rglob(\"*.jpg\")\n",
    "    files = [str(path) for path in paths]\n",
    "    labels = [file.split('/')[-2] for file in files]\n",
    "    \n",
    "    df = pd.DataFrame()\n",
    "    df['path'] = files\n",
    "    df['label'] = labels\n",
    "    df['label'] = df['label'].map({'RG':1, 'NRG': 0})\n",
    "    return df\n",
    "\n",
    "# Assuming CFG.path_to_data is set to the correct data path, the following lines will create your dataframes:\n",
    "train_df = get_df(config.train_path)\n",
    "valid_df = get_df(config.valid_path)\n",
    "test_df = get_df(config.test_path)"
   ]
  },
  {
   "cell_type": "code",
   "execution_count": 6,
   "id": "c5fa917a",
   "metadata": {
    "execution": {
     "iopub.execute_input": "2024-06-22T15:53:46.019845Z",
     "iopub.status.busy": "2024-06-22T15:53:46.019499Z",
     "iopub.status.idle": "2024-06-22T15:53:46.033484Z",
     "shell.execute_reply": "2024-06-22T15:53:46.032638Z"
    },
    "papermill": {
     "duration": 0.030206,
     "end_time": "2024-06-22T15:53:46.035466",
     "exception": false,
     "start_time": "2024-06-22T15:53:46.005260",
     "status": "completed"
    },
    "tags": []
   },
   "outputs": [
    {
     "data": {
      "text/html": [
       "<div>\n",
       "<style scoped>\n",
       "    .dataframe tbody tr th:only-of-type {\n",
       "        vertical-align: middle;\n",
       "    }\n",
       "\n",
       "    .dataframe tbody tr th {\n",
       "        vertical-align: top;\n",
       "    }\n",
       "\n",
       "    .dataframe thead th {\n",
       "        text-align: right;\n",
       "    }\n",
       "</style>\n",
       "<table border=\"1\" class=\"dataframe\">\n",
       "  <thead>\n",
       "    <tr style=\"text-align: right;\">\n",
       "      <th></th>\n",
       "      <th>path</th>\n",
       "      <th>label</th>\n",
       "    </tr>\n",
       "  </thead>\n",
       "  <tbody>\n",
       "    <tr>\n",
       "      <th>0</th>\n",
       "      <td>/kaggle/input/glaucoma-dataset-eyepacs-airogs-...</td>\n",
       "      <td>1</td>\n",
       "    </tr>\n",
       "    <tr>\n",
       "      <th>1</th>\n",
       "      <td>/kaggle/input/glaucoma-dataset-eyepacs-airogs-...</td>\n",
       "      <td>1</td>\n",
       "    </tr>\n",
       "    <tr>\n",
       "      <th>2</th>\n",
       "      <td>/kaggle/input/glaucoma-dataset-eyepacs-airogs-...</td>\n",
       "      <td>1</td>\n",
       "    </tr>\n",
       "    <tr>\n",
       "      <th>3</th>\n",
       "      <td>/kaggle/input/glaucoma-dataset-eyepacs-airogs-...</td>\n",
       "      <td>1</td>\n",
       "    </tr>\n",
       "    <tr>\n",
       "      <th>4</th>\n",
       "      <td>/kaggle/input/glaucoma-dataset-eyepacs-airogs-...</td>\n",
       "      <td>1</td>\n",
       "    </tr>\n",
       "    <tr>\n",
       "      <th>...</th>\n",
       "      <td>...</td>\n",
       "      <td>...</td>\n",
       "    </tr>\n",
       "    <tr>\n",
       "      <th>7995</th>\n",
       "      <td>/kaggle/input/glaucoma-dataset-eyepacs-airogs-...</td>\n",
       "      <td>0</td>\n",
       "    </tr>\n",
       "    <tr>\n",
       "      <th>7996</th>\n",
       "      <td>/kaggle/input/glaucoma-dataset-eyepacs-airogs-...</td>\n",
       "      <td>0</td>\n",
       "    </tr>\n",
       "    <tr>\n",
       "      <th>7997</th>\n",
       "      <td>/kaggle/input/glaucoma-dataset-eyepacs-airogs-...</td>\n",
       "      <td>0</td>\n",
       "    </tr>\n",
       "    <tr>\n",
       "      <th>7998</th>\n",
       "      <td>/kaggle/input/glaucoma-dataset-eyepacs-airogs-...</td>\n",
       "      <td>0</td>\n",
       "    </tr>\n",
       "    <tr>\n",
       "      <th>7999</th>\n",
       "      <td>/kaggle/input/glaucoma-dataset-eyepacs-airogs-...</td>\n",
       "      <td>0</td>\n",
       "    </tr>\n",
       "  </tbody>\n",
       "</table>\n",
       "<p>8000 rows × 2 columns</p>\n",
       "</div>"
      ],
      "text/plain": [
       "                                                   path  label\n",
       "0     /kaggle/input/glaucoma-dataset-eyepacs-airogs-...      1\n",
       "1     /kaggle/input/glaucoma-dataset-eyepacs-airogs-...      1\n",
       "2     /kaggle/input/glaucoma-dataset-eyepacs-airogs-...      1\n",
       "3     /kaggle/input/glaucoma-dataset-eyepacs-airogs-...      1\n",
       "4     /kaggle/input/glaucoma-dataset-eyepacs-airogs-...      1\n",
       "...                                                 ...    ...\n",
       "7995  /kaggle/input/glaucoma-dataset-eyepacs-airogs-...      0\n",
       "7996  /kaggle/input/glaucoma-dataset-eyepacs-airogs-...      0\n",
       "7997  /kaggle/input/glaucoma-dataset-eyepacs-airogs-...      0\n",
       "7998  /kaggle/input/glaucoma-dataset-eyepacs-airogs-...      0\n",
       "7999  /kaggle/input/glaucoma-dataset-eyepacs-airogs-...      0\n",
       "\n",
       "[8000 rows x 2 columns]"
      ]
     },
     "execution_count": 6,
     "metadata": {},
     "output_type": "execute_result"
    }
   ],
   "source": [
    "train_df"
   ]
  },
  {
   "cell_type": "code",
   "execution_count": 7,
   "id": "ea092576",
   "metadata": {
    "execution": {
     "iopub.execute_input": "2024-06-22T15:53:46.063326Z",
     "iopub.status.busy": "2024-06-22T15:53:46.063048Z",
     "iopub.status.idle": "2024-06-22T15:53:46.075202Z",
     "shell.execute_reply": "2024-06-22T15:53:46.074391Z"
    },
    "papermill": {
     "duration": 0.028125,
     "end_time": "2024-06-22T15:53:46.076988",
     "exception": false,
     "start_time": "2024-06-22T15:53:46.048863",
     "status": "completed"
    },
    "tags": []
   },
   "outputs": [],
   "source": [
    "from PIL import Image\n",
    "import os\n",
    "import torch\n",
    "from sklearn.model_selection import train_test_split\n",
    "\n",
    "    \n",
    "# define a data class\n",
    "class ClassificationDataset:\n",
    "    def __init__(self, data, data_path, transform, training=True):\n",
    "        \"\"\"Define the dataset for classification problems\n",
    "\n",
    "        Args:\n",
    "            data ([dataframe]): [a dataframe that contain 2 columns: image name and label]\n",
    "            data_path ([str]): [path/to/folder that contains image file]\n",
    "            transform : [augmentation methods and transformation of images]\n",
    "            training (bool, optional): []. Defaults to True.\n",
    "        \"\"\"\n",
    "        self.data = data\n",
    "        self.imgs = data[\"path\"].unique().tolist()\n",
    "        self.data_path = data_path\n",
    "        self.training = training\n",
    "        self.transform = transform\n",
    "\n",
    "    def __getitem__(self, idx):\n",
    "        img = Image.open(os.path.join(self.data_path, self.data.iloc[idx, 0]))\n",
    "        if(self.training):\n",
    "            label = self.data.iloc[idx, 1]\n",
    "        if self.transform is not None:\n",
    "            img = self.transform(img)\n",
    "        if(self.training):\n",
    "            return img, label\n",
    "        else:\n",
    "            return img\n",
    "\n",
    "    def __len__(self):\n",
    "        return len(self.imgs)\n",
    "\n",
    "\n",
    "def make_loader(dataset, train_batch_size, validation_split=0.2):\n",
    "    \"\"\"make dataloader for pytorch training\n",
    "\n",
    "    Args:\n",
    "        dataset ([object]): [the dataset object]\n",
    "        train_batch_size ([int]): [training batch size]\n",
    "        validation_split (float, optional): [validation ratio]. Defaults to 0.2.\n",
    "\n",
    "    Returns:\n",
    "        [type]: [description]\n",
    "    \"\"\"\n",
    "    # number of samples in train and test set\n",
    "    train_len = int(len(dataset) * (1 - validation_split))\n",
    "    test_len = len(dataset) - train_len\n",
    "    train_set, test_set = torch.utils.data.random_split(dataset, [train_len, test_len])\n",
    "    # create train_loader\n",
    "    print(len(train_set))\n",
    "    train_loader = torch.utils.data.DataLoader(\n",
    "        train_set, batch_size=train_batch_size, shuffle=True,\n",
    "    )\n",
    "    # create test_loader\n",
    "    test_loader = torch.utils.data.DataLoader(test_set, batch_size=1, shuffle=False,)\n",
    "    return train_loader, test_loader\n",
    "\n",
    "\n",
    "def data_split(data, test_size):\n",
    "    x_train, x_test, y_train, y_test = train_test_split(\n",
    "        data, data[\"label\"], test_size=test_size, stratify = data.iloc[:,1]\n",
    "    )\n",
    "    return x_train, x_test, y_train, y_test"
   ]
  },
  {
   "cell_type": "markdown",
   "id": "1f71b30a",
   "metadata": {
    "papermill": {
     "duration": 0.012992,
     "end_time": "2024-06-22T15:53:46.103022",
     "exception": false,
     "start_time": "2024-06-22T15:53:46.090030",
     "status": "completed"
    },
    "tags": []
   },
   "source": [
    "# 1. Define DataLoader"
   ]
  },
  {
   "cell_type": "code",
   "execution_count": 8,
   "id": "f82c232f",
   "metadata": {
    "execution": {
     "iopub.execute_input": "2024-06-22T15:53:46.131102Z",
     "iopub.status.busy": "2024-06-22T15:53:46.130396Z",
     "iopub.status.idle": "2024-06-22T15:53:46.134443Z",
     "shell.execute_reply": "2024-06-22T15:53:46.133614Z"
    },
    "papermill": {
     "duration": 0.020131,
     "end_time": "2024-06-22T15:53:46.136315",
     "exception": false,
     "start_time": "2024-06-22T15:53:46.116184",
     "status": "completed"
    },
    "tags": []
   },
   "outputs": [],
   "source": [
    "mean = (0.5, 0.5, 0.5)\n",
    "std = (0.5, 0.5, 0.5)"
   ]
  },
  {
   "cell_type": "code",
   "execution_count": 9,
   "id": "75b5ba57",
   "metadata": {
    "execution": {
     "iopub.execute_input": "2024-06-22T15:53:46.163479Z",
     "iopub.status.busy": "2024-06-22T15:53:46.163237Z",
     "iopub.status.idle": "2024-06-22T15:53:46.167857Z",
     "shell.execute_reply": "2024-06-22T15:53:46.167040Z"
    },
    "papermill": {
     "duration": 0.020302,
     "end_time": "2024-06-22T15:53:46.169676",
     "exception": false,
     "start_time": "2024-06-22T15:53:46.149374",
     "status": "completed"
    },
    "tags": []
   },
   "outputs": [],
   "source": [
    "import torchvision\n",
    "transform = torchvision.transforms.Compose([torchvision.transforms.Resize((224, 224)),\n",
    "                                               torchvision.transforms.ToTensor(),\n",
    "                                               torchvision.transforms.Normalize(mean, std)])"
   ]
  },
  {
   "cell_type": "code",
   "execution_count": 10,
   "id": "6b261542",
   "metadata": {
    "execution": {
     "iopub.execute_input": "2024-06-22T15:53:46.197783Z",
     "iopub.status.busy": "2024-06-22T15:53:46.197167Z",
     "iopub.status.idle": "2024-06-22T15:53:46.201724Z",
     "shell.execute_reply": "2024-06-22T15:53:46.200931Z"
    },
    "papermill": {
     "duration": 0.020515,
     "end_time": "2024-06-22T15:53:46.203678",
     "exception": false,
     "start_time": "2024-06-22T15:53:46.183163",
     "status": "completed"
    },
    "tags": []
   },
   "outputs": [],
   "source": [
    "test_transform = torchvision.transforms.Compose([torchvision.transforms.Resize((224, 224)),\n",
    "                                               torchvision.transforms.ToTensor(),\n",
    "                                               torchvision.transforms.Normalize(mean, std)])"
   ]
  },
  {
   "cell_type": "code",
   "execution_count": 11,
   "id": "31dcbad9",
   "metadata": {
    "execution": {
     "iopub.execute_input": "2024-06-22T15:53:46.231104Z",
     "iopub.status.busy": "2024-06-22T15:53:46.230865Z",
     "iopub.status.idle": "2024-06-22T15:53:46.256469Z",
     "shell.execute_reply": "2024-06-22T15:53:46.255384Z"
    },
    "papermill": {
     "duration": 0.041676,
     "end_time": "2024-06-22T15:53:46.258513",
     "exception": false,
     "start_time": "2024-06-22T15:53:46.216837",
     "status": "completed"
    },
    "tags": []
   },
   "outputs": [
    {
     "name": "stdout",
     "output_type": "stream",
     "text": [
      "6400\n"
     ]
    }
   ],
   "source": [
    "dataset = ClassificationDataset(train_df,data_path = \"\",transform=transform,training=True)\n",
    "train_loader,val_loader = make_loader(dataset, train_batch_size=config.batch_size, validation_split=0.2)"
   ]
  },
  {
   "cell_type": "code",
   "execution_count": 12,
   "id": "50e08923",
   "metadata": {
    "execution": {
     "iopub.execute_input": "2024-06-22T15:53:46.286469Z",
     "iopub.status.busy": "2024-06-22T15:53:46.286194Z",
     "iopub.status.idle": "2024-06-22T15:53:46.290613Z",
     "shell.execute_reply": "2024-06-22T15:53:46.289800Z"
    },
    "papermill": {
     "duration": 0.020724,
     "end_time": "2024-06-22T15:53:46.292675",
     "exception": false,
     "start_time": "2024-06-22T15:53:46.271951",
     "status": "completed"
    },
    "tags": []
   },
   "outputs": [
    {
     "name": "stdout",
     "output_type": "stream",
     "text": [
      "Random seed:  14\n"
     ]
    }
   ],
   "source": [
    "import random\n",
    "\n",
    "random_seed = random.randint(0, 128)\n",
    "print(\"Random seed: \",random_seed)"
   ]
  },
  {
   "cell_type": "code",
   "execution_count": 13,
   "id": "2e5d2fd3",
   "metadata": {
    "execution": {
     "iopub.execute_input": "2024-06-22T15:53:46.320373Z",
     "iopub.status.busy": "2024-06-22T15:53:46.320115Z",
     "iopub.status.idle": "2024-06-22T15:53:46.331542Z",
     "shell.execute_reply": "2024-06-22T15:53:46.330769Z"
    },
    "papermill": {
     "duration": 0.027357,
     "end_time": "2024-06-22T15:53:46.333293",
     "exception": false,
     "start_time": "2024-06-22T15:53:46.305936",
     "status": "completed"
    },
    "tags": []
   },
   "outputs": [],
   "source": [
    " X_train, X_test, y_train, y_test = train_test_split(train_df, train_df['label'],stratify=train_df['label'], test_size=0.2, random_state=42)"
   ]
  },
  {
   "cell_type": "code",
   "execution_count": 14,
   "id": "9a01eeed",
   "metadata": {
    "execution": {
     "iopub.execute_input": "2024-06-22T15:53:46.361550Z",
     "iopub.status.busy": "2024-06-22T15:53:46.361298Z",
     "iopub.status.idle": "2024-06-22T15:53:46.369040Z",
     "shell.execute_reply": "2024-06-22T15:53:46.368195Z"
    },
    "papermill": {
     "duration": 0.024056,
     "end_time": "2024-06-22T15:53:46.370872",
     "exception": false,
     "start_time": "2024-06-22T15:53:46.346816",
     "status": "completed"
    },
    "tags": []
   },
   "outputs": [],
   "source": [
    "train_dataset = ClassificationDataset(X_train,data_path = \"\",transform=transform,training=True)\n",
    "val_dataset = ClassificationDataset(X_test,data_path = \"\",transform=test_transform,training=True)"
   ]
  },
  {
   "cell_type": "code",
   "execution_count": 15,
   "id": "784d98f2",
   "metadata": {
    "execution": {
     "iopub.execute_input": "2024-06-22T15:53:46.399117Z",
     "iopub.status.busy": "2024-06-22T15:53:46.398849Z",
     "iopub.status.idle": "2024-06-22T15:53:46.403531Z",
     "shell.execute_reply": "2024-06-22T15:53:46.402715Z"
    },
    "papermill": {
     "duration": 0.020826,
     "end_time": "2024-06-22T15:53:46.405433",
     "exception": false,
     "start_time": "2024-06-22T15:53:46.384607",
     "status": "completed"
    },
    "tags": []
   },
   "outputs": [],
   "source": [
    "train_loader = torch.utils.data.DataLoader(\n",
    "        train_dataset, batch_size=config.batch_size, shuffle=True,\n",
    "    )\n",
    "    # create test_loader\n",
    "val_loader = torch.utils.data.DataLoader(val_dataset, batch_size=1, shuffle=False)"
   ]
  },
  {
   "cell_type": "code",
   "execution_count": 16,
   "id": "8abf8803",
   "metadata": {
    "execution": {
     "iopub.execute_input": "2024-06-22T15:53:46.433583Z",
     "iopub.status.busy": "2024-06-22T15:53:46.433303Z",
     "iopub.status.idle": "2024-06-22T15:53:46.438283Z",
     "shell.execute_reply": "2024-06-22T15:53:46.437561Z"
    },
    "papermill": {
     "duration": 0.021328,
     "end_time": "2024-06-22T15:53:46.440186",
     "exception": false,
     "start_time": "2024-06-22T15:53:46.418858",
     "status": "completed"
    },
    "tags": []
   },
   "outputs": [],
   "source": [
    "testset = ClassificationDataset(test_df,data_path = \"\",transform=test_transform,training=False)\n",
    "test_loader = torch.utils.data.DataLoader(\n",
    "        testset, batch_size=1, shuffle=False,\n",
    "    )"
   ]
  },
  {
   "cell_type": "code",
   "execution_count": 17,
   "id": "aefe61ef",
   "metadata": {
    "execution": {
     "iopub.execute_input": "2024-06-22T15:53:46.467815Z",
     "iopub.status.busy": "2024-06-22T15:53:46.467555Z",
     "iopub.status.idle": "2024-06-22T15:53:53.268452Z",
     "shell.execute_reply": "2024-06-22T15:53:53.267296Z"
    },
    "papermill": {
     "duration": 6.816934,
     "end_time": "2024-06-22T15:53:53.270479",
     "exception": false,
     "start_time": "2024-06-22T15:53:46.453545",
     "status": "completed"
    },
    "tags": []
   },
   "outputs": [
    {
     "name": "stderr",
     "output_type": "stream",
     "text": [
      "100%|██████████| 770/770 [00:06<00:00, 114.04it/s]\n"
     ]
    }
   ],
   "source": [
    "from tqdm import tqdm\n",
    "psum    = torch.tensor([0.0, 0.0, 0.0])\n",
    "psum_sq = torch.tensor([0.0, 0.0, 0.0])\n",
    "\n",
    "# loop through images\n",
    "for inputs in tqdm(test_loader):\n",
    "    psum    += inputs.sum(axis        = [0, 2, 3])\n",
    "    psum_sq += (inputs ** 2).sum(axis = [0, 2, 3])\n",
    "\n",
    "count = len(test_df) * 224 * 224\n",
    "\n",
    "# mean and std\n",
    "test_mean = psum / count\n",
    "test_var  = (psum_sq / count) - (test_mean ** 2)\n",
    "test_std  = torch.sqrt(test_var)"
   ]
  },
  {
   "cell_type": "code",
   "execution_count": 18,
   "id": "ddad7302",
   "metadata": {
    "execution": {
     "iopub.execute_input": "2024-06-22T15:53:53.309049Z",
     "iopub.status.busy": "2024-06-22T15:53:53.308712Z",
     "iopub.status.idle": "2024-06-22T15:54:49.392399Z",
     "shell.execute_reply": "2024-06-22T15:54:49.391290Z"
    },
    "papermill": {
     "duration": 56.105334,
     "end_time": "2024-06-22T15:54:49.394612",
     "exception": false,
     "start_time": "2024-06-22T15:53:53.289278",
     "status": "completed"
    },
    "tags": []
   },
   "outputs": [
    {
     "name": "stderr",
     "output_type": "stream",
     "text": [
      "100%|██████████| 400/400 [00:56<00:00,  7.13it/s]\n"
     ]
    }
   ],
   "source": [
    "psum    = torch.tensor([0.0, 0.0, 0.0])\n",
    "psum_sq = torch.tensor([0.0, 0.0, 0.0])\n",
    "\n",
    "# loop through images\n",
    "for inputs,_ in tqdm(train_loader):\n",
    "    psum    += inputs.sum(axis        = [0, 2, 3])\n",
    "    psum_sq += (inputs ** 2).sum(axis = [0, 2, 3])\n",
    "\n",
    "count = len(train_loader) * 224 * 224\n",
    "\n",
    "# mean and std\n",
    "train_mean = psum / count\n",
    "train_var  = (psum_sq / count) - (train_mean ** 2)\n",
    "train_std  = torch.sqrt(train_var)"
   ]
  },
  {
   "cell_type": "code",
   "execution_count": 19,
   "id": "759a2501",
   "metadata": {
    "execution": {
     "iopub.execute_input": "2024-06-22T15:54:49.538209Z",
     "iopub.status.busy": "2024-06-22T15:54:49.537381Z",
     "iopub.status.idle": "2024-06-22T15:54:49.543990Z",
     "shell.execute_reply": "2024-06-22T15:54:49.543126Z"
    },
    "papermill": {
     "duration": 0.100716,
     "end_time": "2024-06-22T15:54:49.545907",
     "exception": false,
     "start_time": "2024-06-22T15:54:49.445191",
     "status": "completed"
    },
    "tags": []
   },
   "outputs": [],
   "source": [
    "def imshow(inp, title=None):\n",
    "    \"\"\"Imshow for Tensor.\"\"\"\n",
    "    inp = inp.numpy().transpose((1, 2, 0))\n",
    "    mean = np.array([0.485, 0.456, 0.406])\n",
    "    std = np.array([0.229, 0.224, 0.225])\n",
    "    inp = std * inp + mean\n",
    "    inp = np.clip(inp, 0, 1)\n",
    "    plt.figure(figsize = (12, 12))\n",
    "    plt.imshow(inp)\n",
    "    if title is not None:\n",
    "        plt.title(title)\n",
    "    plt.axis(\"off\")\n",
    "    plt.pause(0.001)"
   ]
  },
  {
   "cell_type": "code",
   "execution_count": 20,
   "id": "70c937e5",
   "metadata": {
    "execution": {
     "iopub.execute_input": "2024-06-22T15:54:49.645259Z",
     "iopub.status.busy": "2024-06-22T15:54:49.644950Z",
     "iopub.status.idle": "2024-06-22T15:54:50.345531Z",
     "shell.execute_reply": "2024-06-22T15:54:50.344593Z"
    },
    "papermill": {
     "duration": 0.754301,
     "end_time": "2024-06-22T15:54:50.349286",
     "exception": false,
     "start_time": "2024-06-22T15:54:49.594985",
     "status": "completed"
    },
    "tags": []
   },
   "outputs": [
    {
     "data": {
      "image/png": "[encoded data removed]",
      "text/plain": [
       "<Figure size 1200x1200 with 1 Axes>"
      ]
     },
     "metadata": {},
     "output_type": "display_data"
    }
   ],
   "source": [
    "import matplotlib.pyplot as plt\n",
    "\n",
    "%matplotlib inline\n",
    "# Visualization\n",
    "images, classes = next(iter(train_loader))\n",
    "# Make a grid from batch\n",
    "out = torchvision.utils.make_grid(images, nrow=8)\n",
    "imshow(out, title=classes)"
   ]
  },
  {
   "cell_type": "markdown",
   "id": "b822bb3b",
   "metadata": {
    "papermill": {
     "duration": 0.051532,
     "end_time": "2024-06-22T15:54:50.453669",
     "exception": false,
     "start_time": "2024-06-22T15:54:50.402137",
     "status": "completed"
    },
    "tags": []
   },
   "source": [
    "# 2. Define Metrics and Optimizers and Loss function\n"
   ]
  },
  {
   "cell_type": "code",
   "execution_count": 21,
   "id": "ddb1ea73",
   "metadata": {
    "execution": {
     "iopub.execute_input": "2024-06-22T15:54:50.557914Z",
     "iopub.status.busy": "2024-06-22T15:54:50.557261Z",
     "iopub.status.idle": "2024-06-22T15:54:50.566334Z",
     "shell.execute_reply": "2024-06-22T15:54:50.565444Z"
    },
    "papermill": {
     "duration": 0.063214,
     "end_time": "2024-06-22T15:54:50.568238",
     "exception": false,
     "start_time": "2024-06-22T15:54:50.505024",
     "status": "completed"
    },
    "tags": []
   },
   "outputs": [],
   "source": [
    "from sklearn import metrics as skmetrics\n",
    "import numpy\n",
    "class Metrics:\n",
    "    def __init__(self, metric_names):\n",
    "        self.metric_names = metric_names\n",
    "        # initialize a metric dictionary\n",
    "        self.metric_dict = {metric_name: [0] for metric_name in self.metric_names}\n",
    "\n",
    "    def step(self, labels, preds):\n",
    "        for metric in self.metric_names:\n",
    "            # get the metric function\n",
    "            do_metric = getattr(\n",
    "                skmetrics, metric, \"The metric {} is not implemented\".format(metric)\n",
    "            )\n",
    "            # check if metric require average method, if yes set to 'micro' or 'macro' or 'None'\n",
    "            try:\n",
    "                self.metric_dict[metric].append(\n",
    "                    do_metric(labels, preds, average=\"macro\")\n",
    "                )\n",
    "            except:\n",
    "                self.metric_dict[metric].append(do_metric(labels, preds))\n",
    "\n",
    "    def epoch(self):\n",
    "        # calculate metrics for an entire epoch\n",
    "        avg = [sum(metric) / (len(metric) - 1) for metric in self.metric_dict.values()]\n",
    "        metric_as_dict = dict(zip(self.metric_names, avg))\n",
    "        return metric_as_dict\n",
    "\n",
    "    def last_step_metrics(self):\n",
    "        # return metrics of last steps\n",
    "        values = [self.metric_dict[metric][-1] for metric in self.metric_names]\n",
    "        metric_as_dict = dict(zip(self.metric_names, values))\n",
    "        return metric_as_dict"
   ]
  },
  {
   "cell_type": "code",
   "execution_count": 22,
   "id": "9aaeb2b3",
   "metadata": {
    "execution": {
     "iopub.execute_input": "2024-06-22T15:54:50.673154Z",
     "iopub.status.busy": "2024-06-22T15:54:50.672371Z",
     "iopub.status.idle": "2024-06-22T15:54:50.676594Z",
     "shell.execute_reply": "2024-06-22T15:54:50.675770Z"
    },
    "papermill": {
     "duration": 0.058831,
     "end_time": "2024-06-22T15:54:50.678546",
     "exception": false,
     "start_time": "2024-06-22T15:54:50.619715",
     "status": "completed"
    },
    "tags": []
   },
   "outputs": [],
   "source": [
    "train_metrics = Metrics([\"accuracy_score\",\"f1_score\"])\n",
    "val_metrics = Metrics([\"accuracy_score\",\"f1_score\"])"
   ]
  },
  {
   "cell_type": "code",
   "execution_count": 23,
   "id": "f8261bc0",
   "metadata": {
    "execution": {
     "iopub.execute_input": "2024-06-22T15:54:50.784033Z",
     "iopub.status.busy": "2024-06-22T15:54:50.783306Z",
     "iopub.status.idle": "2024-06-22T15:54:50.838442Z",
     "shell.execute_reply": "2024-06-22T15:54:50.837717Z"
    },
    "papermill": {
     "duration": 0.110159,
     "end_time": "2024-06-22T15:54:50.840477",
     "exception": false,
     "start_time": "2024-06-22T15:54:50.730318",
     "status": "completed"
    },
    "tags": []
   },
   "outputs": [],
   "source": [
    "device = torch.device(\"cuda:0\" if torch.cuda.is_available() else \"cpu\")\n",
    "criterion = nn.CrossEntropyLoss()"
   ]
  },
  {
   "cell_type": "markdown",
   "id": "416bd257",
   "metadata": {
    "papermill": {
     "duration": 0.052062,
     "end_time": "2024-06-22T15:54:50.944744",
     "exception": false,
     "start_time": "2024-06-22T15:54:50.892682",
     "status": "completed"
    },
    "tags": []
   },
   "source": [
    "4. Define the Model: Transfer Learning\n"
   ]
  },
  {
   "cell_type": "code",
   "execution_count": 24,
   "id": "fa826715",
   "metadata": {
    "execution": {
     "iopub.execute_input": "2024-06-22T15:54:51.050856Z",
     "iopub.status.busy": "2024-06-22T15:54:51.050500Z",
     "iopub.status.idle": "2024-06-22T15:54:55.325898Z",
     "shell.execute_reply": "2024-06-22T15:54:55.325122Z"
    },
    "papermill": {
     "duration": 4.33046,
     "end_time": "2024-06-22T15:54:55.328089",
     "exception": false,
     "start_time": "2024-06-22T15:54:50.997629",
     "status": "completed"
    },
    "tags": []
   },
   "outputs": [
    {
     "data": {
      "application/vnd.jupyter.widget-view+json": {
       "model_id": "dd903b31f6454edfb8cfbb720f23d4c7",
       "version_major": 2,
       "version_minor": 0
      },
      "text/plain": [
       "model.safetensors:   0%|          | 0.00/346M [00:00<?, ?B/s]"
      ]
     },
     "metadata": {},
     "output_type": "display_data"
    }
   ],
   "source": [
    "model = timm.create_model(config.model_names, pretrained=True)\n",
    "for param in model.parameters():\n",
    "    param.requires_grad = True\n",
    "classifier = nn.Sequential(\n",
    "    nn.Linear(in_features=model.head.in_features, out_features=256, bias=True),\n",
    "    nn.Linear(in_features=256, out_features=2, bias=True)\n",
    ")\n",
    "model.head = classifier\n",
    "\n",
    "optimizer = torch.optim.Adam(model.parameters(), lr=0.01)\n",
    "scheduler = torch.optim.lr_scheduler.ReduceLROnPlateau(\n",
    "        optimizer, \"min\", patience=2, factor=0.5\n",
    "    )\n",
    "\n",
    "\n",
    "model = model.to(device)"
   ]
  },
  {
   "cell_type": "markdown",
   "id": "6e73af1a",
   "metadata": {
    "papermill": {
     "duration": 0.051544,
     "end_time": "2024-06-22T15:54:55.432959",
     "exception": false,
     "start_time": "2024-06-22T15:54:55.381415",
     "status": "completed"
    },
    "tags": []
   },
   "source": [
    "# 3. Define a training epoch\n"
   ]
  },
  {
   "cell_type": "code",
   "execution_count": 25,
   "id": "eb028355",
   "metadata": {
    "execution": {
     "iopub.execute_input": "2024-06-22T15:54:55.538593Z",
     "iopub.status.busy": "2024-06-22T15:54:55.537906Z",
     "iopub.status.idle": "2024-06-22T15:54:55.550040Z",
     "shell.execute_reply": "2024-06-22T15:54:55.549185Z"
    },
    "papermill": {
     "duration": 0.06729,
     "end_time": "2024-06-22T15:54:55.551832",
     "exception": false,
     "start_time": "2024-06-22T15:54:55.484542",
     "status": "completed"
    },
    "tags": []
   },
   "outputs": [],
   "source": [
    "def train_one_epoch(\n",
    "    model,\n",
    "    train_loader,\n",
    "    test_loader,\n",
    "    device,\n",
    "    optimizer,\n",
    "    criterion,\n",
    "    train_metrics,\n",
    "    val_metrics,\n",
    "):\n",
    "\n",
    "    # training-the-model\n",
    "    train_loss = 0\n",
    "    valid_loss = 0\n",
    "    all_labels = []\n",
    "    all_preds = []\n",
    "    model.train()\n",
    "    for data, target in train_loader:\n",
    "        # move-tensors-to-GPU\n",
    "        data = data.type(torch.FloatTensor).to(device)\n",
    "        # target=torch.Tensor(target)\n",
    "        target = target.float().to(device)\n",
    "        # clear-the-gradients-of-all-optimized-variables\n",
    "        optimizer.zero_grad()\n",
    "        # forward-pass: compute-predicted-outputs-by-passing-inputs-to-the-model\n",
    "        output = model(data)\n",
    "        # get the prediction label and target label\n",
    "        output = model(data)\n",
    "        preds = torch.argmax(output, axis=1).cpu().detach().numpy()\n",
    "        labels = target.cpu().numpy()\n",
    "        # calculate-the-batch-loss\n",
    "        loss = criterion(output.type(torch.FloatTensor).to(device), target.type(torch.LongTensor).to(device))\n",
    "        # backward-pass: compute-gradient-of-the-loss-wrt-model-parameters\n",
    "        loss.backward()\n",
    "        # perform-a-ingle-optimization-step (parameter-update)\n",
    "        optimizer.step()\n",
    "        # update-training-loss\n",
    "        train_loss += loss.item() * data.size(0)\n",
    "        # calculate training metrics\n",
    "        all_labels.extend(labels)\n",
    "        all_preds.extend(preds)\n",
    "    \n",
    "    train_metrics.step(all_labels, all_preds)\n",
    "\n",
    "    # validate-the-model\n",
    "    model.eval()\n",
    "    all_labels = []\n",
    "    all_preds = []\n",
    "    for data, target in test_loader:\n",
    "        data = data.type(torch.FloatTensor).to(device)\n",
    "        target = target.to(device)\n",
    "        output = model(data)\n",
    "        preds = torch.argmax(output, axis=1).tolist()\n",
    "        labels = target.tolist()\n",
    "        all_labels.extend(labels)\n",
    "        all_preds.extend(preds)\n",
    "        loss = criterion(output, target)\n",
    "\n",
    "        # update-average-validation-loss\n",
    "        valid_loss += loss.item() * data.size(0)\n",
    "\n",
    "    val_metrics.step(all_labels, all_preds)\n",
    "    train_loss = train_loss / len(train_loader.sampler)\n",
    "    valid_loss = valid_loss / len(test_loader.sampler)\n",
    "\n",
    "    return (\n",
    "        train_loss,\n",
    "        valid_loss,\n",
    "        train_metrics.last_step_metrics(),\n",
    "        val_metrics.last_step_metrics(),\n",
    "    )"
   ]
  },
  {
   "cell_type": "markdown",
   "id": "04eb53e8",
   "metadata": {
    "papermill": {
     "duration": 0.051899,
     "end_time": "2024-06-22T15:54:55.656213",
     "exception": false,
     "start_time": "2024-06-22T15:54:55.604314",
     "status": "completed"
    },
    "tags": []
   },
   "source": [
    "# Training"
   ]
  },
  {
   "cell_type": "code",
   "execution_count": 26,
   "id": "3264f487",
   "metadata": {
    "execution": {
     "iopub.execute_input": "2024-06-22T15:54:55.761662Z",
     "iopub.status.busy": "2024-06-22T15:54:55.761362Z",
     "iopub.status.idle": "2024-06-22T15:54:55.765781Z",
     "shell.execute_reply": "2024-06-22T15:54:55.764954Z"
    },
    "papermill": {
     "duration": 0.059724,
     "end_time": "2024-06-22T15:54:55.767715",
     "exception": false,
     "start_time": "2024-06-22T15:54:55.707991",
     "status": "completed"
    },
    "tags": []
   },
   "outputs": [],
   "source": [
    "from tqdm import tqdm\n",
    "from datetime import datetime\n",
    "time_str = str(datetime.now().strftime(\"%Y%m%d-%H%M\"))"
   ]
  },
  {
   "cell_type": "code",
   "execution_count": 27,
   "id": "d9348fc4",
   "metadata": {
    "execution": {
     "iopub.execute_input": "2024-06-22T15:54:55.873698Z",
     "iopub.status.busy": "2024-06-22T15:54:55.873204Z",
     "iopub.status.idle": "2024-06-22T15:55:12.155133Z",
     "shell.execute_reply": "2024-06-22T15:55:12.154310Z"
    },
    "papermill": {
     "duration": 16.337417,
     "end_time": "2024-06-22T15:55:12.157365",
     "exception": false,
     "start_time": "2024-06-22T15:54:55.819948",
     "status": "completed"
    },
    "tags": []
   },
   "outputs": [
    {
     "name": "stderr",
     "output_type": "stream",
     "text": [
      "\u001b[34m\u001b[1mwandb\u001b[0m: Currently logged in as: \u001b[33mthinh_dao_tuan\u001b[0m. Use \u001b[1m`wandb login --relogin`\u001b[0m to force relogin\n",
      "\u001b[34m\u001b[1mwandb\u001b[0m: Tracking run with wandb version 0.17.2\n",
      "\u001b[34m\u001b[1mwandb\u001b[0m: Run data is saved locally in \u001b[35m\u001b[1m/kaggle/working/wandb/run-20240622_155455-2m68t31h\u001b[0m\n",
      "\u001b[34m\u001b[1mwandb\u001b[0m: Run \u001b[1m`wandb offline`\u001b[0m to turn off syncing.\n",
      "\u001b[34m\u001b[1mwandb\u001b[0m: Syncing run \u001b[33mvit_base14\u001b[0m\n",
      "\u001b[34m\u001b[1mwandb\u001b[0m: ⭐️ View project at \u001b[34m\u001b[4mhttps://wandb.ai/thinh_dao_tuan/eyepacs-airogs-light-v2\u001b[0m\n",
      "\u001b[34m\u001b[1mwandb\u001b[0m: 🚀 View run at \u001b[34m\u001b[4mhttps://wandb.ai/thinh_dao_tuan/eyepacs-airogs-light-v2/runs/2m68t31h\u001b[0m\n"
     ]
    }
   ],
   "source": [
    "for param in model.parameters():\n",
    "    param.requires_grad = True\n",
    "optimizer = torch.optim.Adam(model.parameters(), lr=0.0001, betas=(0.9, 0.999), eps=1e-08, weight_decay=0)\n",
    "# Initialize a new run\n",
    "\n",
    "run = wandb.init(project=\"eyepacs-airogs-light-v2\", name = \"vit_base\" + str(random_seed), reinit=True)\n",
    "\n",
    "model = model.to(device)\n",
    "num_epoch = config.num_epochs\n",
    "best_val_acc = 0.0\n",
    "import logging\n",
    "import numpy as np"
   ]
  },
  {
   "cell_type": "code",
   "execution_count": 28,
   "id": "1316870c",
   "metadata": {
    "execution": {
     "iopub.execute_input": "2024-06-22T15:55:12.267396Z",
     "iopub.status.busy": "2024-06-22T15:55:12.267091Z",
     "iopub.status.idle": "2024-06-23T01:08:45.186814Z",
     "shell.execute_reply": "2024-06-23T01:08:45.185858Z"
    },
    "papermill": {
     "duration": 33213.038749,
     "end_time": "2024-06-23T01:08:45.250331",
     "exception": false,
     "start_time": "2024-06-22T15:55:12.211582",
     "status": "completed"
    },
    "tags": []
   },
   "outputs": [
    {
     "name": "stdout",
     "output_type": "stream",
     "text": [
      "begin training process\n"
     ]
    },
    {
     "name": "stderr",
     "output_type": "stream",
     "text": [
      "  0%|          | 0/40 [00:00<?, ?it/s]"
     ]
    },
    {
     "name": "stdout",
     "output_type": "stream",
     "text": [
      "Epoch 1 / 40 \n",
      " Training loss: 0.6949530464410781 - Other training metrics: \n",
      "{'accuracy_score': 0.5265625, 'f1_score': 0.5262953009431883}\n",
      " \n",
      " Validation loss : 0.6732285986095667 - Other validation metrics:\n",
      "{'accuracy_score': 0.599375, 'f1_score': 0.5670803801216616}\n",
      "\n",
      "\n",
      "Validation accuracy= 0.599375===> Save best epoch\n"
     ]
    },
    {
     "name": "stderr",
     "output_type": "stream",
     "text": [
      "  2%|▎         | 1/40 [13:54<9:02:30, 834.63s/it]"
     ]
    },
    {
     "name": "stdout",
     "output_type": "stream",
     "text": [
      "Epoch 2 / 40 \n",
      " Training loss: 0.6291495635360479 - Other training metrics: \n",
      "{'accuracy_score': 0.64671875, 'f1_score': 0.6463121384836195}\n",
      " \n",
      " Validation loss : 0.5376155092823319 - Other validation metrics:\n",
      "{'accuracy_score': 0.726875, 'f1_score': 0.7235680751173709}\n",
      "\n",
      "\n",
      "Validation accuracy= 0.726875===> Save best epoch\n"
     ]
    },
    {
     "name": "stderr",
     "output_type": "stream",
     "text": [
      "  5%|▌         | 2/40 [27:43<8:46:25, 831.21s/it]"
     ]
    },
    {
     "name": "stdout",
     "output_type": "stream",
     "text": [
      "Epoch 3 / 40 \n",
      " Training loss: 0.4959452800825238 - Other training metrics: \n",
      "{'accuracy_score': 0.75828125, 'f1_score': 0.7582592891312221}\n",
      " \n",
      " Validation loss : 0.45091301294218283 - Other validation metrics:\n",
      "{'accuracy_score': 0.784375, 'f1_score': 0.7842191489087236}\n",
      "\n",
      "\n",
      "Validation accuracy= 0.784375===> Save best epoch\n"
     ]
    },
    {
     "name": "stderr",
     "output_type": "stream",
     "text": [
      "  8%|▊         | 3/40 [41:33<8:32:07, 830.47s/it]"
     ]
    },
    {
     "name": "stdout",
     "output_type": "stream",
     "text": [
      "Epoch 4 / 40 \n",
      " Training loss: 0.3957142212148756 - Other training metrics: \n",
      "{'accuracy_score': 0.82328125, 'f1_score': 0.8232771037425952}\n",
      " \n",
      " Validation loss : 0.38408055681939 - Other validation metrics:\n",
      "{'accuracy_score': 0.81875, 'f1_score': 0.8180392156862746}\n",
      "\n",
      "\n",
      "Validation accuracy= 0.81875===> Save best epoch\n"
     ]
    },
    {
     "name": "stderr",
     "output_type": "stream",
     "text": [
      " 12%|█▎        | 5/40 [1:09:12<8:04:11, 830.05s/it]"
     ]
    },
    {
     "name": "stdout",
     "output_type": "stream",
     "text": [
      "Epoch 5 / 40 \n",
      " Training loss: 0.32409980955533685 - Other training metrics: \n",
      "{'accuracy_score': 0.8628125, 'f1_score': 0.8628105707736515}\n",
      " \n",
      " Validation loss : 0.4977842214217526 - Other validation metrics:\n",
      "{'accuracy_score': 0.75375, 'f1_score': 0.7461977982336914}\n",
      "\n",
      "\n",
      "Validation accuracy= 0.75375===> No saving\n",
      "Epoch 6 / 40 \n",
      " Training loss: 0.2553193154651672 - Other training metrics: \n",
      "{'accuracy_score': 0.89796875, 'f1_score': 0.8979685482288184}\n",
      " \n",
      " Validation loss : 0.40449661785907665 - Other validation metrics:\n",
      "{'accuracy_score': 0.835625, 'f1_score': 0.8350915598465192}\n",
      "\n",
      "\n",
      "Validation accuracy= 0.835625===> Save best epoch\n"
     ]
    },
    {
     "name": "stderr",
     "output_type": "stream",
     "text": [
      " 15%|█▌        | 6/40 [1:23:03<7:50:37, 830.52s/it]"
     ]
    },
    {
     "name": "stdout",
     "output_type": "stream",
     "text": [
      "Epoch 7 / 40 \n",
      " Training loss: 0.20565187979023902 - Other training metrics: \n",
      "{'accuracy_score': 0.9190625, 'f1_score': 0.9190624683837767}\n",
      " \n",
      " Validation loss : 0.3699342597335999 - Other validation metrics:\n",
      "{'accuracy_score': 0.865625, 'f1_score': 0.8654542425132521}\n",
      "\n",
      "\n",
      "Validation accuracy= 0.865625===> Save best epoch\n"
     ]
    },
    {
     "name": "stderr",
     "output_type": "stream",
     "text": [
      " 20%|██        | 8/40 [1:50:44<7:22:55, 830.47s/it]"
     ]
    },
    {
     "name": "stdout",
     "output_type": "stream",
     "text": [
      "Epoch 8 / 40 \n",
      " Training loss: 0.14935993597144262 - Other training metrics: \n",
      "{'accuracy_score': 0.9425, 'f1_score': 0.9424998596187979}\n",
      " \n",
      " Validation loss : 0.40570693077454734 - Other validation metrics:\n",
      "{'accuracy_score': 0.85875, 'f1_score': 0.8587444822063361}\n",
      "\n",
      "\n",
      "Validation accuracy= 0.85875===> No saving\n"
     ]
    },
    {
     "name": "stderr",
     "output_type": "stream",
     "text": [
      " 22%|██▎       | 9/40 [2:04:34<7:09:00, 830.35s/it]"
     ]
    },
    {
     "name": "stdout",
     "output_type": "stream",
     "text": [
      "Epoch 9 / 40 \n",
      " Training loss: 0.12238516933750361 - Other training metrics: \n",
      "{'accuracy_score': 0.9525, 'f1_score': 0.9524999257811341}\n",
      " \n",
      " Validation loss : 0.44501109451646287 - Other validation metrics:\n",
      "{'accuracy_score': 0.865, 'f1_score': 0.8648098889062745}\n",
      "\n",
      "\n",
      "Validation accuracy= 0.865===> No saving\n"
     ]
    },
    {
     "name": "stderr",
     "output_type": "stream",
     "text": [
      " 25%|██▌       | 10/40 [2:18:24<6:55:06, 830.22s/it]"
     ]
    },
    {
     "name": "stdout",
     "output_type": "stream",
     "text": [
      "Epoch 10 / 40 \n",
      " Training loss: 0.09513507158000721 - Other training metrics: \n",
      "{'accuracy_score': 0.9646875, 'f1_score': 0.9646874448241325}\n",
      " \n",
      " Validation loss : 0.47019273882986967 - Other validation metrics:\n",
      "{'accuracy_score': 0.853125, 'f1_score': 0.8530546843704507}\n",
      "\n",
      "\n",
      "Validation accuracy= 0.853125===> No saving\n",
      "Epoch 11 / 40 \n",
      " Training loss: 0.08787807631320903 - Other training metrics: \n",
      "{'accuracy_score': 0.966875, 'f1_score': 0.966875}\n",
      " \n",
      " Validation loss : 0.4322560559854907 - Other validation metrics:\n",
      "{'accuracy_score': 0.869375, 'f1_score': 0.8692421479792555}\n",
      "\n",
      "\n",
      "Validation accuracy= 0.869375===> Save best epoch\n"
     ]
    },
    {
     "name": "stderr",
     "output_type": "stream",
     "text": [
      " 30%|███       | 12/40 [2:46:06<6:27:34, 830.53s/it]"
     ]
    },
    {
     "name": "stdout",
     "output_type": "stream",
     "text": [
      "Epoch 12 / 40 \n",
      " Training loss: 0.06572580261919939 - Other training metrics: \n",
      "{'accuracy_score': 0.97359375, 'f1_score': 0.9735937338828942}\n",
      " \n",
      " Validation loss : 0.6199877296435374 - Other validation metrics:\n",
      "{'accuracy_score': 0.855, 'f1_score': 0.8546891710549597}\n",
      "\n",
      "\n",
      "Validation accuracy= 0.855===> No saving\n"
     ]
    },
    {
     "name": "stderr",
     "output_type": "stream",
     "text": [
      " 32%|███▎      | 13/40 [2:59:56<6:13:40, 830.39s/it]"
     ]
    },
    {
     "name": "stdout",
     "output_type": "stream",
     "text": [
      "Epoch 13 / 40 \n",
      " Training loss: 0.07335292137102442 - Other training metrics: \n",
      "{'accuracy_score': 0.9725, 'f1_score': 0.9724999758300568}\n",
      " \n",
      " Validation loss : 0.46573515981427427 - Other validation metrics:\n",
      "{'accuracy_score': 0.8675, 'f1_score': 0.867260238806344}\n",
      "\n",
      "\n",
      "Validation accuracy= 0.8675===> No saving\n"
     ]
    },
    {
     "name": "stderr",
     "output_type": "stream",
     "text": [
      " 35%|███▌      | 14/40 [3:13:47<5:59:51, 830.46s/it]"
     ]
    },
    {
     "name": "stdout",
     "output_type": "stream",
     "text": [
      "Epoch 14 / 40 \n",
      " Training loss: 0.06246614625970324 - Other training metrics: \n",
      "{'accuracy_score': 0.9778125, 'f1_score': 0.9778123938288377}\n",
      " \n",
      " Validation loss : 0.7524749923013989 - Other validation metrics:\n",
      "{'accuracy_score': 0.86, 'f1_score': 0.859731517357442}\n",
      "\n",
      "\n",
      "Validation accuracy= 0.86===> No saving\n",
      "Epoch 15 / 40 \n",
      " Training loss: 0.056940924819796235 - Other training metrics: \n",
      "{'accuracy_score': 0.97640625, 'f1_score': 0.9764062494239807}\n",
      " \n",
      " Validation loss : 0.6063487322696729 - Other validation metrics:\n",
      "{'accuracy_score': 0.87, 'f1_score': 0.8697647626024506}\n",
      "\n",
      "\n",
      "Validation accuracy= 0.87===> Save best epoch\n"
     ]
    },
    {
     "name": "stderr",
     "output_type": "stream",
     "text": [
      " 40%|████      | 16/40 [3:41:28<5:32:15, 830.63s/it]"
     ]
    },
    {
     "name": "stdout",
     "output_type": "stream",
     "text": [
      "Epoch 16 / 40 \n",
      " Training loss: 0.05340811732546911 - Other training metrics: \n",
      "{'accuracy_score': 0.98234375, 'f1_score': 0.9823437495689392}\n",
      " \n",
      " Validation loss : 0.6486682423146221 - Other validation metrics:\n",
      "{'accuracy_score': 0.8675, 'f1_score': 0.8670212765957447}\n",
      "\n",
      "\n",
      "Validation accuracy= 0.8675===> No saving\n"
     ]
    },
    {
     "name": "stderr",
     "output_type": "stream",
     "text": [
      " 42%|████▎     | 17/40 [3:55:20<5:18:31, 830.94s/it]"
     ]
    },
    {
     "name": "stdout",
     "output_type": "stream",
     "text": [
      "Epoch 17 / 40 \n",
      " Training loss: 0.03915255198848172 - Other training metrics: \n",
      "{'accuracy_score': 0.98515625, 'f1_score': 0.985156232242563}\n",
      " \n",
      " Validation loss : 0.604901848501885 - Other validation metrics:\n",
      "{'accuracy_score': 0.865625, 'f1_score': 0.8654883340456456}\n",
      "\n",
      "\n",
      "Epoch 18 / 40 \n",
      " Training loss: 0.041597228150558295 - Other training metrics: \n",
      "{'accuracy_score': 0.9853125, 'f1_score': 0.9853123838186612}\n",
      " \n",
      " Validation loss : 0.6119339998806261 - Other validation metrics:\n",
      "{'accuracy_score': 0.873125, 'f1_score': 0.8730416339791872}\n",
      "\n",
      "\n",
      "Validation accuracy= 0.873125===> Save best epoch\n"
     ]
    },
    {
     "name": "stderr",
     "output_type": "stream",
     "text": [
      " 48%|████▊     | 19/40 [4:23:03<4:50:56, 831.25s/it]"
     ]
    },
    {
     "name": "stdout",
     "output_type": "stream",
     "text": [
      "Epoch 19 / 40 \n",
      " Training loss: 0.053317770691803615 - Other training metrics: \n",
      "{'accuracy_score': 0.980625, 'f1_score': 0.9806249829711764}\n",
      " \n",
      " Validation loss : 0.5221869290310408 - Other validation metrics:\n",
      "{'accuracy_score': 0.85375, 'f1_score': 0.8535440463151307}\n",
      "\n",
      "\n",
      "Validation accuracy= 0.85375===> No saving\n"
     ]
    },
    {
     "name": "stderr",
     "output_type": "stream",
     "text": [
      " 50%|█████     | 20/40 [4:36:55<4:37:07, 831.37s/it]"
     ]
    },
    {
     "name": "stdout",
     "output_type": "stream",
     "text": [
      "Epoch 20 / 40 \n",
      " Training loss: 0.04337929989964323 - Other training metrics: \n",
      "{'accuracy_score': 0.98296875, 'f1_score': 0.9829687396049436}\n",
      " \n",
      " Validation loss : 0.5343454468070667 - Other validation metrics:\n",
      "{'accuracy_score': 0.86125, 'f1_score': 0.8608095928523845}\n",
      "\n",
      "\n",
      "Validation accuracy= 0.86125===> No saving\n"
     ]
    },
    {
     "name": "stderr",
     "output_type": "stream",
     "text": [
      " 52%|█████▎    | 21/40 [4:50:47<4:23:16, 831.41s/it]"
     ]
    },
    {
     "name": "stdout",
     "output_type": "stream",
     "text": [
      "Epoch 21 / 40 \n",
      " Training loss: 0.04145222482849022 - Other training metrics: \n",
      "{'accuracy_score': 0.98453125, 'f1_score': 0.9845312314948815}\n",
      " \n",
      " Validation loss : 1.0205928211610975 - Other validation metrics:\n",
      "{'accuracy_score': 0.820625, 'f1_score': 0.8175112138007938}\n",
      "\n",
      "\n",
      "Validation accuracy= 0.820625===> No saving\n"
     ]
    },
    {
     "name": "stderr",
     "output_type": "stream",
     "text": [
      " 55%|█████▌    | 22/40 [5:04:39<4:09:29, 831.61s/it]"
     ]
    },
    {
     "name": "stdout",
     "output_type": "stream",
     "text": [
      "Epoch 22 / 40 \n",
      " Training loss: 0.04623968758070191 - Other training metrics: \n",
      "{'accuracy_score': 0.983125, 'f1_score': 0.983124958801169}\n",
      " \n",
      " Validation loss : 0.7825000734744981 - Other validation metrics:\n",
      "{'accuracy_score': 0.855625, 'f1_score': 0.8549012633718731}\n",
      "\n",
      "\n",
      "Validation accuracy= 0.855625===> No saving\n"
     ]
    },
    {
     "name": "stderr",
     "output_type": "stream",
     "text": [
      " 57%|█████▊    | 23/40 [5:18:29<3:55:32, 831.34s/it]"
     ]
    },
    {
     "name": "stdout",
     "output_type": "stream",
     "text": [
      "Epoch 23 / 40 \n",
      " Training loss: 0.03604030006618473 - Other training metrics: \n",
      "{'accuracy_score': 0.98859375, 'f1_score': 0.9885937363548116}\n",
      " \n",
      " Validation loss : 0.6012669800100615 - Other validation metrics:\n",
      "{'accuracy_score': 0.841875, 'f1_score': 0.8412423881254953}\n",
      "\n",
      "\n"
     ]
    },
    {
     "name": "stderr",
     "output_type": "stream",
     "text": [
      " 60%|██████    | 24/40 [5:32:20<3:41:38, 831.14s/it]"
     ]
    },
    {
     "name": "stdout",
     "output_type": "stream",
     "text": [
      "Epoch 24 / 40 \n",
      " Training loss: 0.042683118846944125 - Other training metrics: \n",
      "{'accuracy_score': 0.985, 'f1_score': 0.9849999941406227}\n",
      " \n",
      " Validation loss : 0.42844180773984875 - Other validation metrics:\n",
      "{'accuracy_score': 0.855625, 'f1_score': 0.8555301352176956}\n",
      "\n",
      "\n",
      "Validation accuracy= 0.855625===> No saving\n"
     ]
    },
    {
     "name": "stderr",
     "output_type": "stream",
     "text": [
      " 62%|██████▎   | 25/40 [5:46:10<3:27:39, 830.65s/it]"
     ]
    },
    {
     "name": "stdout",
     "output_type": "stream",
     "text": [
      "Epoch 25 / 40 \n",
      " Training loss: 0.03475102832522893 - Other training metrics: \n",
      "{'accuracy_score': 0.98765625, 'f1_score': 0.9876562352332893}\n",
      " \n",
      " Validation loss : 0.7276785004993315 - Other validation metrics:\n",
      "{'accuracy_score': 0.86625, 'f1_score': 0.8662397589815471}\n",
      "\n",
      "\n"
     ]
    },
    {
     "name": "stderr",
     "output_type": "stream",
     "text": [
      " 65%|██████▌   | 26/40 [6:00:00<3:13:46, 830.46s/it]"
     ]
    },
    {
     "name": "stdout",
     "output_type": "stream",
     "text": [
      "Epoch 26 / 40 \n",
      " Training loss: 0.025117873060962664 - Other training metrics: \n",
      "{'accuracy_score': 0.9928125, 'f1_score': 0.9928124971923817}\n",
      " \n",
      " Validation loss : 0.49133148146652145 - Other validation metrics:\n",
      "{'accuracy_score': 0.865, 'f1_score': 0.8645521756306789}\n",
      "\n",
      "\n"
     ]
    },
    {
     "name": "stderr",
     "output_type": "stream",
     "text": [
      " 68%|██████▊   | 27/40 [6:13:51<2:59:58, 830.64s/it]"
     ]
    },
    {
     "name": "stdout",
     "output_type": "stream",
     "text": [
      "Epoch 27 / 40 \n",
      " Training loss: 0.04453287545860803 - Other training metrics: \n",
      "{'accuracy_score': 0.9853125, 'f1_score': 0.985312487091053}\n",
      " \n",
      " Validation loss : 0.5302271338594301 - Other validation metrics:\n",
      "{'accuracy_score': 0.836875, 'f1_score': 0.8356701929104438}\n",
      "\n",
      "\n",
      "Validation accuracy= 0.836875===> No saving\n"
     ]
    },
    {
     "name": "stderr",
     "output_type": "stream",
     "text": [
      " 70%|███████   | 28/40 [6:27:41<2:46:06, 830.52s/it]"
     ]
    },
    {
     "name": "stdout",
     "output_type": "stream",
     "text": [
      "Epoch 28 / 40 \n",
      " Training loss: 0.061318259339389745 - Other training metrics: \n",
      "{'accuracy_score': 0.97828125, 'f1_score': 0.978281249469757}\n",
      " \n",
      " Validation loss : 0.5043031375085412 - Other validation metrics:\n",
      "{'accuracy_score': 0.81375, 'f1_score': 0.8111425873465534}\n",
      "\n",
      "\n",
      "Validation accuracy= 0.81375===> No saving\n"
     ]
    },
    {
     "name": "stderr",
     "output_type": "stream",
     "text": [
      " 72%|███████▎  | 29/40 [6:41:32<2:32:16, 830.63s/it]"
     ]
    },
    {
     "name": "stdout",
     "output_type": "stream",
     "text": [
      "Epoch 29 / 40 \n",
      " Training loss: 0.08896822220296599 - Other training metrics: \n",
      "{'accuracy_score': 0.96890625, 'f1_score': 0.9689061217073869}\n",
      " \n",
      " Validation loss : 0.5940272727108735 - Other validation metrics:\n",
      "{'accuracy_score': 0.86875, 'f1_score': 0.8687251808545053}\n",
      "\n",
      "\n",
      "Validation accuracy= 0.86875===> No saving\n"
     ]
    },
    {
     "name": "stderr",
     "output_type": "stream",
     "text": [
      " 75%|███████▌  | 30/40 [6:55:22<2:18:24, 830.48s/it]"
     ]
    },
    {
     "name": "stdout",
     "output_type": "stream",
     "text": [
      "Epoch 30 / 40 \n",
      " Training loss: 0.0382336868823586 - Other training metrics: \n",
      "{'accuracy_score': 0.98796875, 'f1_score': 0.9879687497062684}\n",
      " \n",
      " Validation loss : 0.6176241223082144 - Other validation metrics:\n",
      "{'accuracy_score': 0.87125, 'f1_score': 0.8710686903457987}\n",
      "\n",
      "\n"
     ]
    },
    {
     "name": "stderr",
     "output_type": "stream",
     "text": [
      " 78%|███████▊  | 31/40 [7:09:12<2:04:32, 830.32s/it]"
     ]
    },
    {
     "name": "stdout",
     "output_type": "stream",
     "text": [
      "Epoch 31 / 40 \n",
      " Training loss: 0.046014851581155654 - Other training metrics: \n",
      "{'accuracy_score': 0.9825, 'f1_score': 0.9825}\n",
      " \n",
      " Validation loss : 0.5158277940883694 - Other validation metrics:\n",
      "{'accuracy_score': 0.8675, 'f1_score': 0.8673903898691262}\n",
      "\n",
      "\n",
      "Validation accuracy= 0.8675===> No saving\n"
     ]
    },
    {
     "name": "stderr",
     "output_type": "stream",
     "text": [
      " 80%|████████  | 32/40 [7:23:01<1:50:40, 830.12s/it]"
     ]
    },
    {
     "name": "stdout",
     "output_type": "stream",
     "text": [
      "Epoch 32 / 40 \n",
      " Training loss: 0.028307502802949785 - Other training metrics: \n",
      "{'accuracy_score': 0.99015625, 'f1_score': 0.9901562439918481}\n",
      " \n",
      " Validation loss : 0.5042656356167912 - Other validation metrics:\n",
      "{'accuracy_score': 0.881875, 'f1_score': 0.8818712623329097}\n",
      "\n",
      "\n"
     ]
    },
    {
     "name": "stderr",
     "output_type": "stream",
     "text": [
      " 82%|████████▎ | 33/40 [7:36:51<1:36:48, 829.81s/it]"
     ]
    },
    {
     "name": "stdout",
     "output_type": "stream",
     "text": [
      "Epoch 33 / 40 \n",
      " Training loss: 0.032436145244778204 - Other training metrics: \n",
      "{'accuracy_score': 0.98921875, 'f1_score': 0.9892187371024932}\n",
      " \n",
      " Validation loss : 0.6972435058066603 - Other validation metrics:\n",
      "{'accuracy_score': 0.86625, 'f1_score': 0.8658441786403872}\n",
      "\n",
      "\n"
     ]
    },
    {
     "name": "stderr",
     "output_type": "stream",
     "text": [
      " 85%|████████▌ | 34/40 [7:50:39<1:22:56, 829.50s/it]"
     ]
    },
    {
     "name": "stdout",
     "output_type": "stream",
     "text": [
      "Epoch 34 / 40 \n",
      " Training loss: 0.029143146550688927 - Other training metrics: \n",
      "{'accuracy_score': 0.9903125, 'f1_score': 0.9903124990539549}\n",
      " \n",
      " Validation loss : 0.48257822230351394 - Other validation metrics:\n",
      "{'accuracy_score': 0.859375, 'f1_score': 0.8592319774896291}\n",
      "\n",
      "\n"
     ]
    },
    {
     "name": "stderr",
     "output_type": "stream",
     "text": [
      " 88%|████████▊ | 35/40 [8:04:28<1:09:06, 829.23s/it]"
     ]
    },
    {
     "name": "stdout",
     "output_type": "stream",
     "text": [
      "Epoch 35 / 40 \n",
      " Training loss: 0.06967748446936026 - Other training metrics: \n",
      "{'accuracy_score': 0.973125, 'f1_score': 0.973124905517246}\n",
      " \n",
      " Validation loss : 0.6929756217049317 - Other validation metrics:\n",
      "{'accuracy_score': 0.820625, 'f1_score': 0.8200169243667375}\n",
      "\n",
      "\n",
      "Validation accuracy= 0.820625===> No saving\n"
     ]
    },
    {
     "name": "stderr",
     "output_type": "stream",
     "text": [
      " 90%|█████████ | 36/40 [8:18:17<55:16, 829.10s/it]  "
     ]
    },
    {
     "name": "stdout",
     "output_type": "stream",
     "text": [
      "Epoch 36 / 40 \n",
      " Training loss: 0.07001388053591655 - Other training metrics: \n",
      "{'accuracy_score': 0.97375, 'f1_score': 0.9737499974365231}\n",
      " \n",
      " Validation loss : 0.5209405439321637 - Other validation metrics:\n",
      "{'accuracy_score': 0.868125, 'f1_score': 0.8681224757817632}\n",
      "\n",
      "\n",
      "Validation accuracy= 0.868125===> No saving\n"
     ]
    },
    {
     "name": "stderr",
     "output_type": "stream",
     "text": [
      " 92%|█████████▎| 37/40 [8:32:06<41:27, 829.07s/it]"
     ]
    },
    {
     "name": "stdout",
     "output_type": "stream",
     "text": [
      "Epoch 37 / 40 \n",
      " Training loss: 0.026275644977295086 - Other training metrics: \n",
      "{'accuracy_score': 0.99015625, 'f1_score': 0.9901562305335614}\n",
      " \n",
      " Validation loss : 0.5869135683777471 - Other validation metrics:\n",
      "{'accuracy_score': 0.8775, 'f1_score': 0.8774877487748776}\n",
      "\n",
      "\n"
     ]
    },
    {
     "name": "stderr",
     "output_type": "stream",
     "text": [
      " 95%|█████████▌| 38/40 [8:45:55<27:38, 829.01s/it]"
     ]
    },
    {
     "name": "stdout",
     "output_type": "stream",
     "text": [
      "Epoch 38 / 40 \n",
      " Training loss: 0.01735191564270508 - Other training metrics: \n",
      "{'accuracy_score': 0.9934375, 'f1_score': 0.9934374942321726}\n",
      " \n",
      " Validation loss : 0.7077720158952395 - Other validation metrics:\n",
      "{'accuracy_score': 0.863125, 'f1_score': 0.8629257604510305}\n",
      "\n",
      "\n"
     ]
    },
    {
     "name": "stderr",
     "output_type": "stream",
     "text": [
      " 98%|█████████▊| 39/40 [8:59:43<13:48, 828.88s/it]"
     ]
    },
    {
     "name": "stdout",
     "output_type": "stream",
     "text": [
      "Epoch 39 / 40 \n",
      " Training loss: 0.029388487785827238 - Other training metrics: \n",
      "{'accuracy_score': 0.99078125, 'f1_score': 0.990781238971697}\n",
      " \n",
      " Validation loss : 0.5802694190191738 - Other validation metrics:\n",
      "{'accuracy_score': 0.85875, 'f1_score': 0.8584944055199706}\n",
      "\n",
      "\n"
     ]
    },
    {
     "name": "stderr",
     "output_type": "stream",
     "text": [
      "100%|██████████| 40/40 [9:13:32<00:00, 830.32s/it]"
     ]
    },
    {
     "name": "stdout",
     "output_type": "stream",
     "text": [
      "Epoch 40 / 40 \n",
      " Training loss: 0.027989106046421738 - Other training metrics: \n",
      "{'accuracy_score': 0.9903125, 'f1_score': 0.9903124962158188}\n",
      " \n",
      " Validation loss : 0.6075815985357218 - Other validation metrics:\n",
      "{'accuracy_score': 0.858125, 'f1_score': 0.8581182938724838}\n",
      "\n",
      "\n"
     ]
    },
    {
     "name": "stderr",
     "output_type": "stream",
     "text": [
      "\n"
     ]
    }
   ],
   "source": [
    "print(\"begin training process\")\n",
    "for i in tqdm(range(0, num_epoch)):\n",
    "    loss, val_loss, train_result, val_result = train_one_epoch(\n",
    "        model,\n",
    "        train_loader,\n",
    "        val_loader,\n",
    "        device,\n",
    "        optimizer,\n",
    "        criterion,\n",
    "        train_metrics,\n",
    "        val_metrics,\n",
    "    )\n",
    "    wandb.log({\n",
    "        \"Epoch\": i + 1,\n",
    "        \"Training Loss\": loss,\n",
    "        \"Validation Loss\": val_loss,\n",
    "        \"Training Accuracy\": train_result[\"accuracy_score\"],\n",
    "        \"Validation Accuracy\": val_result[\"accuracy_score\"],\n",
    "        \"Training F1 Score\": train_result[\"f1_score\"],\n",
    "        \"Validation F1 Score\": val_result[\"f1_score\"]\n",
    "    })\n",
    "    scheduler.step(val_loss)\n",
    "    print(\n",
    "        \"Epoch {} / {} \\n Training loss: {} - Other training metrics: \".format(\n",
    "            i + 1, num_epoch, loss\n",
    "        )\n",
    "    )\n",
    "    print(train_result)\n",
    "    print(\n",
    "        \" \\n Validation loss : {} - Other validation metrics:\".format(val_loss)\n",
    "    )\n",
    "    print(val_result)\n",
    "    print(\"\\n\")\n",
    "    # saving epoch with best validation accuracy\n",
    "    if (loss<0.04):\n",
    "        # no saving\n",
    "        continue\n",
    "    if best_val_acc < float(val_result[\"accuracy_score\"]):\n",
    "        print(\n",
    "            \"Validation accuracy= \"+\n",
    "            str(val_result[\"accuracy_score\"])+\n",
    "            \"===> Save best epoch\"\n",
    "        )\n",
    "        best_val_acc = val_result[\"accuracy_score\"]\n",
    "        torch.save(\n",
    "            model,\n",
    "            \"./\" +  \"best.pt\"\n",
    "        )\n",
    "    else:\n",
    "        print(\n",
    "            \"Validation accuracy= \"+ str(val_result[\"accuracy_score\"])+ \"===> No saving\"\n",
    "        )\n",
    "        continue"
   ]
  },
  {
   "cell_type": "code",
   "execution_count": 29,
   "id": "7d8c7af4",
   "metadata": {
    "execution": {
     "iopub.execute_input": "2024-06-23T01:08:45.371250Z",
     "iopub.status.busy": "2024-06-23T01:08:45.370943Z",
     "iopub.status.idle": "2024-06-23T01:08:57.692088Z",
     "shell.execute_reply": "2024-06-23T01:08:57.690999Z"
    },
    "papermill": {
     "duration": 12.38449,
     "end_time": "2024-06-23T01:08:57.694414",
     "exception": false,
     "start_time": "2024-06-23T01:08:45.309924",
     "status": "completed"
    },
    "tags": []
   },
   "outputs": [
    {
     "name": "stdout",
     "output_type": "stream",
     "text": [
      "Collecting lion-pytorch\r\n",
      "  Downloading lion_pytorch-0.2.2-py3-none-any.whl.metadata (618 bytes)\r\n",
      "Requirement already satisfied: torch>=1.6 in /opt/conda/lib/python3.10/site-packages (from lion-pytorch) (2.1.2)\r\n",
      "Requirement already satisfied: filelock in /opt/conda/lib/python3.10/site-packages (from torch>=1.6->lion-pytorch) (3.13.1)\r\n",
      "Requirement already satisfied: typing-extensions in /opt/conda/lib/python3.10/site-packages (from torch>=1.6->lion-pytorch) (4.9.0)\r\n",
      "Requirement already satisfied: sympy in /opt/conda/lib/python3.10/site-packages (from torch>=1.6->lion-pytorch) (1.12.1)\r\n",
      "Requirement already satisfied: networkx in /opt/conda/lib/python3.10/site-packages (from torch>=1.6->lion-pytorch) (3.2.1)\r\n",
      "Requirement already satisfied: jinja2 in /opt/conda/lib/python3.10/site-packages (from torch>=1.6->lion-pytorch) (3.1.2)\r\n",
      "Requirement already satisfied: fsspec in /opt/conda/lib/python3.10/site-packages (from torch>=1.6->lion-pytorch) (2024.3.1)\r\n",
      "Requirement already satisfied: MarkupSafe>=2.0 in /opt/conda/lib/python3.10/site-packages (from jinja2->torch>=1.6->lion-pytorch) (2.1.3)\r\n",
      "Requirement already satisfied: mpmath<1.4.0,>=1.1.0 in /opt/conda/lib/python3.10/site-packages (from sympy->torch>=1.6->lion-pytorch) (1.3.0)\r\n",
      "Downloading lion_pytorch-0.2.2-py3-none-any.whl (5.4 kB)\r\n",
      "Installing collected packages: lion-pytorch\r\n",
      "Successfully installed lion-pytorch-0.2.2\r\n"
     ]
    }
   ],
   "source": [
    "!pip install lion-pytorch\n",
    "from lion_pytorch import Lion\n",
    "optimizer = Lion(model.parameters(), lr=1e-4, weight_decay=1e-2)"
   ]
  },
  {
   "cell_type": "code",
   "execution_count": 30,
   "id": "6ad10b60",
   "metadata": {
    "execution": {
     "iopub.execute_input": "2024-06-23T01:08:57.817287Z",
     "iopub.status.busy": "2024-06-23T01:08:57.816942Z",
     "iopub.status.idle": "2024-06-23T01:08:58.044227Z",
     "shell.execute_reply": "2024-06-23T01:08:58.043446Z"
    },
    "papermill": {
     "duration": 0.290849,
     "end_time": "2024-06-23T01:08:58.046437",
     "exception": false,
     "start_time": "2024-06-23T01:08:57.755588",
     "status": "completed"
    },
    "tags": []
   },
   "outputs": [],
   "source": [
    "import copy\n",
    "val_model = torch.load(\"/kaggle/working/best.pt\")\n",
    "val_model = val_model.to(device)"
   ]
  },
  {
   "cell_type": "code",
   "execution_count": 31,
   "id": "32739e3c",
   "metadata": {
    "execution": {
     "iopub.execute_input": "2024-06-23T01:08:58.170893Z",
     "iopub.status.busy": "2024-06-23T01:08:58.170564Z",
     "iopub.status.idle": "2024-06-23T01:08:58.177155Z",
     "shell.execute_reply": "2024-06-23T01:08:58.176283Z"
    },
    "papermill": {
     "duration": 0.070125,
     "end_time": "2024-06-23T01:08:58.179061",
     "exception": false,
     "start_time": "2024-06-23T01:08:58.108936",
     "status": "completed"
    },
    "tags": []
   },
   "outputs": [],
   "source": [
    "def val_result(model, val_loader, device):\n",
    "    # testing the model by turning model \"Eval\" mode\n",
    "    model.eval()\n",
    "    preds = []\n",
    "    labels = []\n",
    "    with torch.no_grad():\n",
    "        for data, target in val_loader:\n",
    "            # move-tensors-to-GPU\n",
    "            data = data.to(device)\n",
    "            target = target.to(device)\n",
    "            # forward-pass: compute-predicted-outputs-by-passing-inputs-to-the-model\n",
    "            output = model(data)\n",
    "            # applying Softmax to results\n",
    "            prob = nn.Softmax(dim=1)\n",
    "            probs = prob(output)\n",
    "            labels.extend(target.tolist())\n",
    "            preds.extend(torch.argmax(probs, axis=1).tolist())\n",
    "    return preds, labels"
   ]
  },
  {
   "cell_type": "code",
   "execution_count": 32,
   "id": "91c45ee8",
   "metadata": {
    "execution": {
     "iopub.execute_input": "2024-06-23T01:08:58.301659Z",
     "iopub.status.busy": "2024-06-23T01:08:58.301406Z",
     "iopub.status.idle": "2024-06-23T01:09:57.442470Z",
     "shell.execute_reply": "2024-06-23T01:09:57.441686Z"
    },
    "papermill": {
     "duration": 59.204316,
     "end_time": "2024-06-23T01:09:57.444796",
     "exception": false,
     "start_time": "2024-06-23T01:08:58.240480",
     "status": "completed"
    },
    "tags": []
   },
   "outputs": [],
   "source": [
    "preds, grd_truth = val_result(val_model, val_loader, device)"
   ]
  },
  {
   "cell_type": "code",
   "execution_count": 33,
   "id": "7fe25076",
   "metadata": {
    "execution": {
     "iopub.execute_input": "2024-06-23T01:09:57.572168Z",
     "iopub.status.busy": "2024-06-23T01:09:57.571843Z",
     "iopub.status.idle": "2024-06-23T01:09:57.576077Z",
     "shell.execute_reply": "2024-06-23T01:09:57.575230Z"
    },
    "papermill": {
     "duration": 0.068494,
     "end_time": "2024-06-23T01:09:57.577904",
     "exception": false,
     "start_time": "2024-06-23T01:09:57.509410",
     "status": "completed"
    },
    "tags": []
   },
   "outputs": [],
   "source": [
    "from sklearn.metrics import classification_report\n",
    "from sklearn.metrics import confusion_matrix, ConfusionMatrixDisplay"
   ]
  },
  {
   "cell_type": "code",
   "execution_count": 34,
   "id": "8f0b7cd3",
   "metadata": {
    "execution": {
     "iopub.execute_input": "2024-06-23T01:09:57.698983Z",
     "iopub.status.busy": "2024-06-23T01:09:57.698711Z",
     "iopub.status.idle": "2024-06-23T01:09:57.712461Z",
     "shell.execute_reply": "2024-06-23T01:09:57.711568Z"
    },
    "papermill": {
     "duration": 0.076387,
     "end_time": "2024-06-23T01:09:57.714330",
     "exception": false,
     "start_time": "2024-06-23T01:09:57.637943",
     "status": "completed"
    },
    "tags": []
   },
   "outputs": [
    {
     "name": "stdout",
     "output_type": "stream",
     "text": [
      "              precision    recall  f1-score   support\n",
      "\n",
      "           0   0.893281  0.847500  0.869788       800\n",
      "           1   0.854935  0.898750  0.876295       800\n",
      "\n",
      "    accuracy                       0.873125      1600\n",
      "   macro avg   0.874108  0.873125  0.873042      1600\n",
      "weighted avg   0.874108  0.873125  0.873042      1600\n",
      "\n"
     ]
    }
   ],
   "source": [
    "report = classification_report(grd_truth, preds, digits=6)\n",
    "print(report)"
   ]
  },
  {
   "cell_type": "code",
   "execution_count": 35,
   "id": "a504a796",
   "metadata": {
    "execution": {
     "iopub.execute_input": "2024-06-23T01:09:57.836586Z",
     "iopub.status.busy": "2024-06-23T01:09:57.836324Z",
     "iopub.status.idle": "2024-06-23T01:09:58.122546Z",
     "shell.execute_reply": "2024-06-23T01:09:58.121738Z"
    },
    "papermill": {
     "duration": 0.349713,
     "end_time": "2024-06-23T01:09:58.124360",
     "exception": false,
     "start_time": "2024-06-23T01:09:57.774647",
     "status": "completed"
    },
    "tags": []
   },
   "outputs": [
    {
     "data": {
      "text/plain": [
       "<sklearn.metrics._plot.confusion_matrix.ConfusionMatrixDisplay at 0x7e4c0757d870>"
      ]
     },
     "execution_count": 35,
     "metadata": {},
     "output_type": "execute_result"
    },
    {
     "data": {
      "image/png": "[encoded data removed]",
      "text/plain": [
       "<Figure size 640x480 with 2 Axes>"
      ]
     },
     "metadata": {},
     "output_type": "display_data"
    }
   ],
   "source": [
    "cm = confusion_matrix(grd_truth, preds)\n",
    "disp = ConfusionMatrixDisplay(confusion_matrix=cm)\n",
    "disp.plot()"
   ]
  },
  {
   "cell_type": "code",
   "execution_count": 36,
   "id": "2d5a86a3",
   "metadata": {
    "execution": {
     "iopub.execute_input": "2024-06-23T01:09:58.248877Z",
     "iopub.status.busy": "2024-06-23T01:09:58.248346Z",
     "iopub.status.idle": "2024-06-23T01:09:58.531468Z",
     "shell.execute_reply": "2024-06-23T01:09:58.530464Z"
    },
    "papermill": {
     "duration": 0.347911,
     "end_time": "2024-06-23T01:09:58.533770",
     "exception": false,
     "start_time": "2024-06-23T01:09:58.185859",
     "status": "completed"
    },
    "tags": []
   },
   "outputs": [
    {
     "name": "stderr",
     "output_type": "stream",
     "text": [
      "\u001b[34m\u001b[1mwandb\u001b[0m: \u001b[33mWARNING\u001b[0m Saving files without folders. If you want to preserve subdirectories pass base_path to wandb.save, i.e. wandb.save(\"/mnt/folder/file.h5\", base_path=\"/mnt\")\n"
     ]
    }
   ],
   "source": [
    "import copy\n",
    "\n",
    "# save model to wandb\n",
    "wandb.save(\"/kaggle/working/best.pt\")\n",
    "test_model = torch.load(\"/kaggle/working/best.pt\")\n",
    "test_model = test_model.to(device)"
   ]
  },
  {
   "cell_type": "code",
   "execution_count": 37,
   "id": "d169d72a",
   "metadata": {
    "execution": {
     "iopub.execute_input": "2024-06-23T01:09:58.666530Z",
     "iopub.status.busy": "2024-06-23T01:09:58.665677Z",
     "iopub.status.idle": "2024-06-23T01:09:59.196230Z",
     "shell.execute_reply": "2024-06-23T01:09:59.195414Z"
    },
    "papermill": {
     "duration": 0.600247,
     "end_time": "2024-06-23T01:09:59.198259",
     "exception": false,
     "start_time": "2024-06-23T01:09:58.598012",
     "status": "completed"
    },
    "tags": []
   },
   "outputs": [
    {
     "data": {
      "image/png": "[encoded data removed]",
      "text/plain": [
       "<Figure size 640x480 with 2 Axes>"
      ]
     },
     "metadata": {},
     "output_type": "display_data"
    }
   ],
   "source": [
    "cm = confusion_matrix(grd_truth, preds)\n",
    "disp = ConfusionMatrixDisplay(confusion_matrix=cm)\n",
    "disp.plot()\n",
    "\n",
    "# save confusion matrix plot to wandb\n",
    "\n",
    "wandb.log({\"confusion_matrix\": disp.figure_})"
   ]
  }
 ],
 "metadata": {
  "kaggle": {
   "accelerator": "gpu",
   "dataSources": [
    {
     "datasetId": 4154884,
     "sourceId": 7802508,
     "sourceType": "datasetVersion"
    }
   ],
   "dockerImageVersionId": 30733,
   "isGpuEnabled": true,
   "isInternetEnabled": true,
   "language": "python",
   "sourceType": "notebook"
  },
  "kernelspec": {
   "display_name": "Python 3",
   "language": "python",
   "name": "python3"
  },
  "language_info": {
   "codemirror_mode": {
    "name": "ipython",
    "version": 3
   },
   "file_extension": ".py",
   "mimetype": "text/x-python",
   "name": "python",
   "nbconvert_exporter": "python",
   "pygments_lexer": "ipython3",
   "version": "3.10.13"
  },
  "papermill": {
   "default_parameters": {},
   "duration": 33424.311618,
   "end_time": "2024-06-23T01:10:02.052841",
   "environment_variables": {},
   "exception": null,
   "input_path": "__notebook__.ipynb",
   "output_path": "__notebook__.ipynb",
   "parameters": {},
   "start_time": "2024-06-22T15:52:57.741223",
   "version": "2.4.0"
  },
  "widgets": {
   "application/vnd.jupyter.widget-state+json": {
    "state": {
     "0aab67d3857449319c9201671c95e7b6": {
      "model_module": "@jupyter-widgets/base",
      "model_module_version": "1.2.0",
      "model_name": "LayoutModel",
      "state": {
       "_model_module": "@jupyter-widgets/base",
       "_model_module_version": "1.2.0",
       "_model_name": "LayoutModel",
       "_view_count": null,
       "_view_module": "@jupyter-widgets/base",
       "_view_module_version": "1.2.0",
       "_view_name": "LayoutView",
       "align_content": null,
       "align_items": null,
       "align_self": null,
       "border": null,
       "bottom": null,
       "display": null,
       "flex": null,
       "flex_flow": null,
       "grid_area": null,
       "grid_auto_columns": null,
       "grid_auto_flow": null,
       "grid_auto_rows": null,
       "grid_column": null,
       "grid_gap": null,
       "grid_row": null,
       "grid_template_areas": null,
       "grid_template_columns": null,
       "grid_template_rows": null,
       "height": null,
       "justify_content": null,
       "justify_items": null,
       "left": null,
       "margin": null,
       "max_height": null,
       "max_width": null,
       "min_height": null,
       "min_width": null,
       "object_fit": null,
       "object_position": null,
       "order": null,
       "overflow": null,
       "overflow_x": null,
       "overflow_y": null,
       "padding": null,
       "right": null,
       "top": null,
       "visibility": null,
       "width": null
      }
     },
     "2666988183bf4bc393b12e84c60a8563": {
      "model_module": "@jupyter-widgets/base",
      "model_module_version": "1.2.0",
      "model_name": "LayoutModel",
      "state": {
       "_model_module": "@jupyter-widgets/base",
       "_model_module_version": "1.2.0",
       "_model_name": "LayoutModel",
       "_view_count": null,
       "_view_module": "@jupyter-widgets/base",
       "_view_module_version": "1.2.0",
       "_view_name": "LayoutView",
       "align_content": null,
       "align_items": null,
       "align_self": null,
       "border": null,
       "bottom": null,
       "display": null,
       "flex": null,
       "flex_flow": null,
       "grid_area": null,
       "grid_auto_columns": null,
       "grid_auto_flow": null,
       "grid_auto_rows": null,
       "grid_column": null,
       "grid_gap": null,
       "grid_row": null,
       "grid_template_areas": null,
       "grid_template_columns": null,
       "grid_template_rows": null,
       "height": null,
       "justify_content": null,
       "justify_items": null,
       "left": null,
       "margin": null,
       "max_height": null,
       "max_width": null,
       "min_height": null,
       "min_width": null,
       "object_fit": null,
       "object_position": null,
       "order": null,
       "overflow": null,
       "overflow_x": null,
       "overflow_y": null,
       "padding": null,
       "right": null,
       "top": null,
       "visibility": null,
       "width": null
      }
     },
     "3995a56ad88846049b4bc61a41cebc38": {
      "model_module": "@jupyter-widgets/base",
      "model_module_version": "1.2.0",
      "model_name": "LayoutModel",
      "state": {
       "_model_module": "@jupyter-widgets/base",
       "_model_module_version": "1.2.0",
       "_model_name": "LayoutModel",
       "_view_count": null,
       "_view_module": "@jupyter-widgets/base",
       "_view_module_version": "1.2.0",
       "_view_name": "LayoutView",
       "align_content": null,
       "align_items": null,
       "align_self": null,
       "border": null,
       "bottom": null,
       "display": null,
       "flex": null,
       "flex_flow": null,
       "grid_area": null,
       "grid_auto_columns": null,
       "grid_auto_flow": null,
       "grid_auto_rows": null,
       "grid_column": null,
       "grid_gap": null,
       "grid_row": null,
       "grid_template_areas": null,
       "grid_template_columns": null,
       "grid_template_rows": null,
       "height": null,
       "justify_content": null,
       "justify_items": null,
       "left": null,
       "margin": null,
       "max_height": null,
       "max_width": null,
       "min_height": null,
       "min_width": null,
       "object_fit": null,
       "object_position": null,
       "order": null,
       "overflow": null,
       "overflow_x": null,
       "overflow_y": null,
       "padding": null,
       "right": null,
       "top": null,
       "visibility": null,
       "width": null
      }
     },
     "407de199cf9e4c59b6caf2b0c60cae2e": {
      "model_module": "@jupyter-widgets/controls",
      "model_module_version": "1.5.0",
      "model_name": "HTMLModel",
      "state": {
       "_dom_classes": [],
       "_model_module": "@jupyter-widgets/controls",
       "_model_module_version": "1.5.0",
       "_model_name": "HTMLModel",
       "_view_count": null,
       "_view_module": "@jupyter-widgets/controls",
       "_view_module_version": "1.5.0",
       "_view_name": "HTMLView",
       "description": "",
       "description_tooltip": null,
       "layout": "IPY_MODEL_0aab67d3857449319c9201671c95e7b6",
       "placeholder": "​",
       "style": "IPY_MODEL_7d57b6ed96064a33902802eba59d4978",
       "value": "model.safetensors: 100%"
      }
     },
     "4536f29645384e73a3e4e8e38dfa1fb9": {
      "model_module": "@jupyter-widgets/controls",
      "model_module_version": "1.5.0",
      "model_name": "ProgressStyleModel",
      "state": {
       "_model_module": "@jupyter-widgets/controls",
       "_model_module_version": "1.5.0",
       "_model_name": "ProgressStyleModel",
       "_view_count": null,
       "_view_module": "@jupyter-widgets/base",
       "_view_module_version": "1.2.0",
       "_view_name": "StyleView",
       "bar_color": null,
       "description_width": ""
      }
     },
     "4a529bebbde8497696036243e4b79b23": {
      "model_module": "@jupyter-widgets/base",
      "model_module_version": "1.2.0",
      "model_name": "LayoutModel",
      "state": {
       "_model_module": "@jupyter-widgets/base",
       "_model_module_version": "1.2.0",
       "_model_name": "LayoutModel",
       "_view_count": null,
       "_view_module": "@jupyter-widgets/base",
       "_view_module_version": "1.2.0",
       "_view_name": "LayoutView",
       "align_content": null,
       "align_items": null,
       "align_self": null,
       "border": null,
       "bottom": null,
       "display": null,
       "flex": null,
       "flex_flow": null,
       "grid_area": null,
       "grid_auto_columns": null,
       "grid_auto_flow": null,
       "grid_auto_rows": null,
       "grid_column": null,
       "grid_gap": null,
       "grid_row": null,
       "grid_template_areas": null,
       "grid_template_columns": null,
       "grid_template_rows": null,
       "height": null,
       "justify_content": null,
       "justify_items": null,
       "left": null,
       "margin": null,
       "max_height": null,
       "max_width": null,
       "min_height": null,
       "min_width": null,
       "object_fit": null,
       "object_position": null,
       "order": null,
       "overflow": null,
       "overflow_x": null,
       "overflow_y": null,
       "padding": null,
       "right": null,
       "top": null,
       "visibility": null,
       "width": null
      }
     },
     "6e100b8de94749a3bed4d0a7dbffa029": {
      "model_module": "@jupyter-widgets/controls",
      "model_module_version": "1.5.0",
      "model_name": "FloatProgressModel",
      "state": {
       "_dom_classes": [],
       "_model_module": "@jupyter-widgets/controls",
       "_model_module_version": "1.5.0",
       "_model_name": "FloatProgressModel",
       "_view_count": null,
       "_view_module": "@jupyter-widgets/controls",
       "_view_module_version": "1.5.0",
       "_view_name": "ProgressView",
       "bar_style": "success",
       "description": "",
       "description_tooltip": null,
       "layout": "IPY_MODEL_2666988183bf4bc393b12e84c60a8563",
       "max": 346321582.0,
       "min": 0.0,
       "orientation": "horizontal",
       "style": "IPY_MODEL_4536f29645384e73a3e4e8e38dfa1fb9",
       "value": 346321582.0
      }
     },
     "7d57b6ed96064a33902802eba59d4978": {
      "model_module": "@jupyter-widgets/controls",
      "model_module_version": "1.5.0",
      "model_name": "DescriptionStyleModel",
      "state": {
       "_model_module": "@jupyter-widgets/controls",
       "_model_module_version": "1.5.0",
       "_model_name": "DescriptionStyleModel",
       "_view_count": null,
       "_view_module": "@jupyter-widgets/base",
       "_view_module_version": "1.2.0",
       "_view_name": "StyleView",
       "description_width": ""
      }
     },
     "91383c104e014f7180e3cd06ddc20a28": {
      "model_module": "@jupyter-widgets/controls",
      "model_module_version": "1.5.0",
      "model_name": "DescriptionStyleModel",
      "state": {
       "_model_module": "@jupyter-widgets/controls",
       "_model_module_version": "1.5.0",
       "_model_name": "DescriptionStyleModel",
       "_view_count": null,
       "_view_module": "@jupyter-widgets/base",
       "_view_module_version": "1.2.0",
       "_view_name": "StyleView",
       "description_width": ""
      }
     },
     "d831d1ed5253424c9ed058fd790818e0": {
      "model_module": "@jupyter-widgets/controls",
      "model_module_version": "1.5.0",
      "model_name": "HTMLModel",
      "state": {
       "_dom_classes": [],
       "_model_module": "@jupyter-widgets/controls",
       "_model_module_version": "1.5.0",
       "_model_name": "HTMLModel",
       "_view_count": null,
       "_view_module": "@jupyter-widgets/controls",
       "_view_module_version": "1.5.0",
       "_view_name": "HTMLView",
       "description": "",
       "description_tooltip": null,
       "layout": "IPY_MODEL_3995a56ad88846049b4bc61a41cebc38",
       "placeholder": "​",
       "style": "IPY_MODEL_91383c104e014f7180e3cd06ddc20a28",
       "value": " 346M/346M [00:01&lt;00:00, 204MB/s]"
      }
     },
     "dd903b31f6454edfb8cfbb720f23d4c7": {
      "model_module": "@jupyter-widgets/controls",
      "model_module_version": "1.5.0",
      "model_name": "HBoxModel",
      "state": {
       "_dom_classes": [],
       "_model_module": "@jupyter-widgets/controls",
       "_model_module_version": "1.5.0",
       "_model_name": "HBoxModel",
       "_view_count": null,
       "_view_module": "@jupyter-widgets/controls",
       "_view_module_version": "1.5.0",
       "_view_name": "HBoxView",
       "box_style": "",
       "children": [
        "IPY_MODEL_407de199cf9e4c59b6caf2b0c60cae2e",
        "IPY_MODEL_6e100b8de94749a3bed4d0a7dbffa029",
        "IPY_MODEL_d831d1ed5253424c9ed058fd790818e0"
       ],
       "layout": "IPY_MODEL_4a529bebbde8497696036243e4b79b23"
      }
     }
    },
    "version_major": 2,
    "version_minor": 0
   }
  }
 },
 "nbformat": 4,
 "nbformat_minor": 5
}
