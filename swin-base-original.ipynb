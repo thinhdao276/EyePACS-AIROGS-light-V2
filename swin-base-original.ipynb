{
 "cells": [
  {
   "cell_type": "code",
   "execution_count": 1,
   "id": "639c9ab3",
   "metadata": {
    "_cell_guid": "b1076dfc-b9ad-4769-8c92-a6c4dae69d19",
    "_uuid": "8f2839f25d086af736a60e9eeb907d3b93b6e0e5",
    "execution": {
     "iopub.execute_input": "2024-06-13T06:57:09.074708Z",
     "iopub.status.busy": "2024-06-13T06:57:09.074416Z",
     "iopub.status.idle": "2024-06-13T06:57:15.829877Z",
     "shell.execute_reply": "2024-06-13T06:57:15.828916Z"
    },
    "papermill": {
     "duration": 6.770785,
     "end_time": "2024-06-13T06:57:15.832491",
     "exception": false,
     "start_time": "2024-06-13T06:57:09.061706",
     "status": "completed"
    },
    "tags": []
   },
   "outputs": [],
   "source": [
    "import albumentations\n",
    "from albumentations.pytorch import ToTensorV2\n",
    "from torchvision import transforms\n",
    "from sklearn.model_selection import train_test_split\n",
    "import torch\n",
    "import numpy as np\n",
    "import os"
   ]
  },
  {
   "cell_type": "code",
   "execution_count": 2,
   "id": "f866cf02",
   "metadata": {
    "execution": {
     "iopub.execute_input": "2024-06-13T06:57:15.857084Z",
     "iopub.status.busy": "2024-06-13T06:57:15.856530Z",
     "iopub.status.idle": "2024-06-13T06:57:18.016143Z",
     "shell.execute_reply": "2024-06-13T06:57:18.015233Z"
    },
    "papermill": {
     "duration": 2.174208,
     "end_time": "2024-06-13T06:57:18.018583",
     "exception": false,
     "start_time": "2024-06-13T06:57:15.844375",
     "status": "completed"
    },
    "tags": []
   },
   "outputs": [],
   "source": [
    "import pandas as pd\n",
    "import matplotlib.pyplot as plt\n",
    "import os\n",
    "import seaborn as sns\n",
    "from pathlib import Path\n",
    "from sklearn.model_selection import train_test_split, StratifiedKFold\n",
    "from sklearn.preprocessing import LabelEncoder\n",
    "from sklearn.metrics import classification_report, f1_score, recall_score, precision_score\n",
    "import torch\n",
    "from torch.utils.data import DataLoader, Dataset\n",
    "from torch.utils.data import RandomSampler\n",
    "from PIL import Image\n",
    "import cv2\n",
    "\n",
    "import torch\n",
    "import torch.nn as nn\n",
    "import torchvision.transforms as transforms\n",
    "import torchvision.models as models\n",
    "from torchvision.utils import make_grid\n",
    "from torchvision.datasets import ImageFolder\n",
    "import torch.nn.functional as F\n",
    "import timm\n",
    "\n",
    "from tqdm import tqdm\n",
    "from sklearn.metrics import confusion_matrix\n",
    "\n",
    "from IPython.display import display, HTML\n",
    "import warnings\n",
    "warnings.filterwarnings(\"ignore\")"
   ]
  },
  {
   "cell_type": "code",
   "execution_count": null,
   "id": "b96c127f",
   "metadata": {},
   "outputs": [],
   "source": [
    "import wandb\n",
    "from kaggle_secrets import UserSecretsClient\n",
    "user_secrets = UserSecretsClient()\n",
    "secret_value_0 = user_secrets.get_secret(\"wandb\")\n",
    "\n",
    "wandb.login(key = secret_value_0)"
   ]
  },
  {
   "cell_type": "code",
   "execution_count": 3,
   "id": "cb50356c",
   "metadata": {
    "execution": {
     "iopub.execute_input": "2024-06-13T06:57:18.067997Z",
     "iopub.status.busy": "2024-06-13T06:57:18.067707Z",
     "iopub.status.idle": "2024-06-13T06:57:18.075554Z",
     "shell.execute_reply": "2024-06-13T06:57:18.074703Z"
    },
    "papermill": {
     "duration": 0.024593,
     "end_time": "2024-06-13T06:57:18.077506",
     "exception": false,
     "start_time": "2024-06-13T06:57:18.052913",
     "status": "completed"
    },
    "tags": []
   },
   "outputs": [
    {
     "data": {
      "text/plain": [
       "'/kaggle/input/eyepacs-airogs-light/release-crop/release-crop/'"
      ]
     },
     "execution_count": 3,
     "metadata": {},
     "output_type": "execute_result"
    }
   ],
   "source": [
    "class config:\n",
    "    root_path = '/kaggle/input/glaucoma-dataset-eyepacs-airogs-light-v2/eyepac-light-v2-512-jpg'\n",
    "    train_path = root_path + '/train'\n",
    "    test_path = root_path + '/test'\n",
    "    valid_path = root_path + '/validation'\n",
    "    output_path = \"/kaggle/working/\"\n",
    "    batch_size = 16\n",
    "    lr = 1e-3\n",
    "    seed = 1\n",
    "    num_epochs = 40\n",
    "    model_names = 'vit_base_patch8_224'\n",
    "    \n",
    "config.root_path"
   ]
  },
  {
   "cell_type": "code",
   "execution_count": 4,
   "id": "2cf5e418",
   "metadata": {
    "execution": {
     "iopub.execute_input": "2024-06-13T06:57:18.101322Z",
     "iopub.status.busy": "2024-06-13T06:57:18.100792Z",
     "iopub.status.idle": "2024-06-13T06:57:22.836931Z",
     "shell.execute_reply": "2024-06-13T06:57:22.835916Z"
    },
    "papermill": {
     "duration": 4.750451,
     "end_time": "2024-06-13T06:57:22.839295",
     "exception": false,
     "start_time": "2024-06-13T06:57:18.088844",
     "status": "completed"
    },
    "tags": []
   },
   "outputs": [],
   "source": [
    "def get_df(path): \n",
    "    paths = Path(path).rglob(\"*.jpg\")\n",
    "    files = [str(path) for path in paths]\n",
    "    labels = [file.split('/')[-2] for file in files]\n",
    "    \n",
    "    df = pd.DataFrame()\n",
    "    df['path'] = files\n",
    "    df['label'] = labels\n",
    "    df['label'] = df['label'].map({'RG':1, 'NRG': 0})\n",
    "    return df\n",
    "\n",
    "# Assuming CFG.path_to_data is set to the correct data path, the following lines will create your dataframes:\n",
    "train_df = get_df(config.train_path)\n",
    "valid_df = get_df(config.valid_path)\n",
    "test_df = get_df(config.test_path)"
   ]
  },
  {
   "cell_type": "code",
   "execution_count": 5,
   "id": "1ab4dbb9",
   "metadata": {
    "execution": {
     "iopub.execute_input": "2024-06-13T06:57:22.863658Z",
     "iopub.status.busy": "2024-06-13T06:57:22.863353Z",
     "iopub.status.idle": "2024-06-13T06:57:22.877047Z",
     "shell.execute_reply": "2024-06-13T06:57:22.876173Z"
    },
    "papermill": {
     "duration": 0.027837,
     "end_time": "2024-06-13T06:57:22.878939",
     "exception": false,
     "start_time": "2024-06-13T06:57:22.851102",
     "status": "completed"
    },
    "tags": []
   },
   "outputs": [
    {
     "data": {
      "text/html": [
       "<div>\n",
       "<style scoped>\n",
       "    .dataframe tbody tr th:only-of-type {\n",
       "        vertical-align: middle;\n",
       "    }\n",
       "\n",
       "    .dataframe tbody tr th {\n",
       "        vertical-align: top;\n",
       "    }\n",
       "\n",
       "    .dataframe thead th {\n",
       "        text-align: right;\n",
       "    }\n",
       "</style>\n",
       "<table border=\"1\" class=\"dataframe\">\n",
       "  <thead>\n",
       "    <tr style=\"text-align: right;\">\n",
       "      <th></th>\n",
       "      <th>path</th>\n",
       "      <th>label</th>\n",
       "    </tr>\n",
       "  </thead>\n",
       "  <tbody>\n",
       "    <tr>\n",
       "      <th>0</th>\n",
       "      <td>/kaggle/input/eyepacs-airogs-light/release-cro...</td>\n",
       "      <td>1</td>\n",
       "    </tr>\n",
       "    <tr>\n",
       "      <th>1</th>\n",
       "      <td>/kaggle/input/eyepacs-airogs-light/release-cro...</td>\n",
       "      <td>1</td>\n",
       "    </tr>\n",
       "    <tr>\n",
       "      <th>2</th>\n",
       "      <td>/kaggle/input/eyepacs-airogs-light/release-cro...</td>\n",
       "      <td>1</td>\n",
       "    </tr>\n",
       "    <tr>\n",
       "      <th>3</th>\n",
       "      <td>/kaggle/input/eyepacs-airogs-light/release-cro...</td>\n",
       "      <td>1</td>\n",
       "    </tr>\n",
       "    <tr>\n",
       "      <th>4</th>\n",
       "      <td>/kaggle/input/eyepacs-airogs-light/release-cro...</td>\n",
       "      <td>1</td>\n",
       "    </tr>\n",
       "    <tr>\n",
       "      <th>...</th>\n",
       "      <td>...</td>\n",
       "      <td>...</td>\n",
       "    </tr>\n",
       "    <tr>\n",
       "      <th>4995</th>\n",
       "      <td>/kaggle/input/eyepacs-airogs-light/release-cro...</td>\n",
       "      <td>0</td>\n",
       "    </tr>\n",
       "    <tr>\n",
       "      <th>4996</th>\n",
       "      <td>/kaggle/input/eyepacs-airogs-light/release-cro...</td>\n",
       "      <td>0</td>\n",
       "    </tr>\n",
       "    <tr>\n",
       "      <th>4997</th>\n",
       "      <td>/kaggle/input/eyepacs-airogs-light/release-cro...</td>\n",
       "      <td>0</td>\n",
       "    </tr>\n",
       "    <tr>\n",
       "      <th>4998</th>\n",
       "      <td>/kaggle/input/eyepacs-airogs-light/release-cro...</td>\n",
       "      <td>0</td>\n",
       "    </tr>\n",
       "    <tr>\n",
       "      <th>4999</th>\n",
       "      <td>/kaggle/input/eyepacs-airogs-light/release-cro...</td>\n",
       "      <td>0</td>\n",
       "    </tr>\n",
       "  </tbody>\n",
       "</table>\n",
       "<p>5000 rows × 2 columns</p>\n",
       "</div>"
      ],
      "text/plain": [
       "                                                   path  label\n",
       "0     /kaggle/input/eyepacs-airogs-light/release-cro...      1\n",
       "1     /kaggle/input/eyepacs-airogs-light/release-cro...      1\n",
       "2     /kaggle/input/eyepacs-airogs-light/release-cro...      1\n",
       "3     /kaggle/input/eyepacs-airogs-light/release-cro...      1\n",
       "4     /kaggle/input/eyepacs-airogs-light/release-cro...      1\n",
       "...                                                 ...    ...\n",
       "4995  /kaggle/input/eyepacs-airogs-light/release-cro...      0\n",
       "4996  /kaggle/input/eyepacs-airogs-light/release-cro...      0\n",
       "4997  /kaggle/input/eyepacs-airogs-light/release-cro...      0\n",
       "4998  /kaggle/input/eyepacs-airogs-light/release-cro...      0\n",
       "4999  /kaggle/input/eyepacs-airogs-light/release-cro...      0\n",
       "\n",
       "[5000 rows x 2 columns]"
      ]
     },
     "execution_count": 5,
     "metadata": {},
     "output_type": "execute_result"
    }
   ],
   "source": [
    "train_df"
   ]
  },
  {
   "cell_type": "code",
   "execution_count": 6,
   "id": "b2618198",
   "metadata": {
    "execution": {
     "iopub.execute_input": "2024-06-13T06:57:22.903141Z",
     "iopub.status.busy": "2024-06-13T06:57:22.902880Z",
     "iopub.status.idle": "2024-06-13T06:57:22.914811Z",
     "shell.execute_reply": "2024-06-13T06:57:22.913992Z"
    },
    "papermill": {
     "duration": 0.026289,
     "end_time": "2024-06-13T06:57:22.916673",
     "exception": false,
     "start_time": "2024-06-13T06:57:22.890384",
     "status": "completed"
    },
    "tags": []
   },
   "outputs": [],
   "source": [
    "from PIL import Image\n",
    "import os\n",
    "import torch\n",
    "from sklearn.model_selection import train_test_split\n",
    "\n",
    "    \n",
    "# define a data class\n",
    "class ClassificationDataset:\n",
    "    def __init__(self, data, data_path, transform, training=True):\n",
    "        \"\"\"Define the dataset for classification problems\n",
    "\n",
    "        Args:\n",
    "            data ([dataframe]): [a dataframe that contain 2 columns: image name and label]\n",
    "            data_path ([str]): [path/to/folder that contains image file]\n",
    "            transform : [augmentation methods and transformation of images]\n",
    "            training (bool, optional): []. Defaults to True.\n",
    "        \"\"\"\n",
    "        self.data = data\n",
    "        self.imgs = data[\"path\"].unique().tolist()\n",
    "        self.data_path = data_path\n",
    "        self.training = training\n",
    "        self.transform = transform\n",
    "\n",
    "    def __getitem__(self, idx):\n",
    "        img = Image.open(os.path.join(self.data_path, self.data.iloc[idx, 0]))\n",
    "        if(self.training):\n",
    "            label = self.data.iloc[idx, 1]\n",
    "        if self.transform is not None:\n",
    "            img = self.transform(img)\n",
    "        if(self.training):\n",
    "            return img, label\n",
    "        else:\n",
    "            return img\n",
    "\n",
    "    def __len__(self):\n",
    "        return len(self.imgs)\n",
    "\n",
    "\n",
    "def make_loader(dataset, train_batch_size, validation_split=0.2):\n",
    "    \"\"\"make dataloader for pytorch training\n",
    "\n",
    "    Args:\n",
    "        dataset ([object]): [the dataset object]\n",
    "        train_batch_size ([int]): [training batch size]\n",
    "        validation_split (float, optional): [validation ratio]. Defaults to 0.2.\n",
    "\n",
    "    Returns:\n",
    "        [type]: [description]\n",
    "    \"\"\"\n",
    "    # number of samples in train and test set\n",
    "    train_len = int(len(dataset) * (1 - validation_split))\n",
    "    test_len = len(dataset) - train_len\n",
    "    train_set, test_set = torch.utils.data.random_split(dataset, [train_len, test_len])\n",
    "    # create train_loader\n",
    "    print(len(train_set))\n",
    "    train_loader = torch.utils.data.DataLoader(\n",
    "        train_set, batch_size=train_batch_size, shuffle=True,\n",
    "    )\n",
    "    # create test_loader\n",
    "    test_loader = torch.utils.data.DataLoader(test_set, batch_size=1, shuffle=False,)\n",
    "    return train_loader, test_loader\n",
    "\n",
    "\n",
    "def data_split(data, test_size):\n",
    "    x_train, x_test, y_train, y_test = train_test_split(\n",
    "        data, data[\"label\"], test_size=test_size, stratify = data.iloc[:,1]\n",
    "    )\n",
    "    return x_train, x_test, y_train, y_test"
   ]
  },
  {
   "cell_type": "markdown",
   "id": "4e397d7d",
   "metadata": {
    "papermill": {
     "duration": 0.011534,
     "end_time": "2024-06-13T06:57:22.939571",
     "exception": false,
     "start_time": "2024-06-13T06:57:22.928037",
     "status": "completed"
    },
    "tags": []
   },
   "source": [
    "# 1. Define DataLoader"
   ]
  },
  {
   "cell_type": "code",
   "execution_count": 7,
   "id": "5eb672b5",
   "metadata": {
    "execution": {
     "iopub.execute_input": "2024-06-13T06:57:22.963945Z",
     "iopub.status.busy": "2024-06-13T06:57:22.963688Z",
     "iopub.status.idle": "2024-06-13T06:57:22.967711Z",
     "shell.execute_reply": "2024-06-13T06:57:22.966939Z"
    },
    "papermill": {
     "duration": 0.018556,
     "end_time": "2024-06-13T06:57:22.969609",
     "exception": false,
     "start_time": "2024-06-13T06:57:22.951053",
     "status": "completed"
    },
    "tags": []
   },
   "outputs": [],
   "source": [
    "mean = (0.5, 0.5, 0.5)\n",
    "std = (0.5, 0.5, 0.5)"
   ]
  },
  {
   "cell_type": "code",
   "execution_count": 8,
   "id": "e9b0234a",
   "metadata": {
    "execution": {
     "iopub.execute_input": "2024-06-13T06:57:22.993341Z",
     "iopub.status.busy": "2024-06-13T06:57:22.993067Z",
     "iopub.status.idle": "2024-06-13T06:57:22.997602Z",
     "shell.execute_reply": "2024-06-13T06:57:22.996781Z"
    },
    "papermill": {
     "duration": 0.018479,
     "end_time": "2024-06-13T06:57:22.999419",
     "exception": false,
     "start_time": "2024-06-13T06:57:22.980940",
     "status": "completed"
    },
    "tags": []
   },
   "outputs": [],
   "source": [
    "import torchvision\n",
    "transform = torchvision.transforms.Compose([torchvision.transforms.Resize((224, 224)),\n",
    "                                               torchvision.transforms.ToTensor(),\n",
    "                                               torchvision.transforms.Normalize(mean, std)])"
   ]
  },
  {
   "cell_type": "code",
   "execution_count": 9,
   "id": "a8d69b6a",
   "metadata": {
    "execution": {
     "iopub.execute_input": "2024-06-13T06:57:23.023554Z",
     "iopub.status.busy": "2024-06-13T06:57:23.023303Z",
     "iopub.status.idle": "2024-06-13T06:57:23.027754Z",
     "shell.execute_reply": "2024-06-13T06:57:23.027019Z"
    },
    "papermill": {
     "duration": 0.018558,
     "end_time": "2024-06-13T06:57:23.029614",
     "exception": false,
     "start_time": "2024-06-13T06:57:23.011056",
     "status": "completed"
    },
    "tags": []
   },
   "outputs": [],
   "source": [
    "test_transform = torchvision.transforms.Compose([torchvision.transforms.Resize((224, 224)),\n",
    "                                               torchvision.transforms.ToTensor(),\n",
    "                                               torchvision.transforms.Normalize(mean, std)])"
   ]
  },
  {
   "cell_type": "code",
   "execution_count": 10,
   "id": "6ccdbd47",
   "metadata": {
    "execution": {
     "iopub.execute_input": "2024-06-13T06:57:23.053813Z",
     "iopub.status.busy": "2024-06-13T06:57:23.053092Z",
     "iopub.status.idle": "2024-06-13T06:57:23.079937Z",
     "shell.execute_reply": "2024-06-13T06:57:23.078950Z"
    },
    "papermill": {
     "duration": 0.040868,
     "end_time": "2024-06-13T06:57:23.081875",
     "exception": false,
     "start_time": "2024-06-13T06:57:23.041007",
     "status": "completed"
    },
    "tags": []
   },
   "outputs": [
    {
     "name": "stdout",
     "output_type": "stream",
     "text": [
      "4000\n"
     ]
    }
   ],
   "source": [
    "dataset = ClassificationDataset(train_df,data_path = \"\",transform=transform,training=True)\n",
    "train_loader,val_loader = make_loader(dataset, train_batch_size=config.batch_size, validation_split=0.2)"
   ]
  },
  {
   "cell_type": "code",
   "execution_count": null,
   "id": "b5bfcf07",
   "metadata": {},
   "outputs": [],
   "source": [
    "import random\n",
    "\n",
    "random_seed = random.randint(0, 128)\n",
    "print(\"Random seed: \",random_seed)"
   ]
  },
  {
   "cell_type": "code",
   "execution_count": 11,
   "id": "19b984c3",
   "metadata": {
    "execution": {
     "iopub.execute_input": "2024-06-13T06:57:23.105867Z",
     "iopub.status.busy": "2024-06-13T06:57:23.105452Z",
     "iopub.status.idle": "2024-06-13T06:57:23.116125Z",
     "shell.execute_reply": "2024-06-13T06:57:23.115308Z"
    },
    "papermill": {
     "duration": 0.024815,
     "end_time": "2024-06-13T06:57:23.118068",
     "exception": false,
     "start_time": "2024-06-13T06:57:23.093253",
     "status": "completed"
    },
    "tags": []
   },
   "outputs": [],
   "source": [
    " X_train, X_test, y_train, y_test = train_test_split(train_df, train_df['label'],stratify=train_df['label'], test_size=0.2, random_state=random_seed)"
   ]
  },
  {
   "cell_type": "code",
   "execution_count": 12,
   "id": "6668e863",
   "metadata": {
    "execution": {
     "iopub.execute_input": "2024-06-13T06:57:23.142127Z",
     "iopub.status.busy": "2024-06-13T06:57:23.141674Z",
     "iopub.status.idle": "2024-06-13T06:57:23.147928Z",
     "shell.execute_reply": "2024-06-13T06:57:23.147089Z"
    },
    "papermill": {
     "duration": 0.020319,
     "end_time": "2024-06-13T06:57:23.149802",
     "exception": false,
     "start_time": "2024-06-13T06:57:23.129483",
     "status": "completed"
    },
    "tags": []
   },
   "outputs": [],
   "source": [
    "train_dataset = ClassificationDataset(X_train,data_path = \"\",transform=transform,training=True)\n",
    "val_dataset = ClassificationDataset(X_test,data_path = \"\",transform=test_transform,training=True)"
   ]
  },
  {
   "cell_type": "code",
   "execution_count": 13,
   "id": "929f852b",
   "metadata": {
    "execution": {
     "iopub.execute_input": "2024-06-13T06:57:23.174348Z",
     "iopub.status.busy": "2024-06-13T06:57:23.173664Z",
     "iopub.status.idle": "2024-06-13T06:57:23.178401Z",
     "shell.execute_reply": "2024-06-13T06:57:23.177598Z"
    },
    "papermill": {
     "duration": 0.018869,
     "end_time": "2024-06-13T06:57:23.180252",
     "exception": false,
     "start_time": "2024-06-13T06:57:23.161383",
     "status": "completed"
    },
    "tags": []
   },
   "outputs": [],
   "source": [
    "train_loader = torch.utils.data.DataLoader(\n",
    "        train_dataset, batch_size=config.batch_size, shuffle=True,\n",
    "    )\n",
    "    # create test_loader\n",
    "val_loader = torch.utils.data.DataLoader(val_dataset, batch_size=1, shuffle=False)"
   ]
  },
  {
   "cell_type": "code",
   "execution_count": 14,
   "id": "bee6dd4e",
   "metadata": {
    "execution": {
     "iopub.execute_input": "2024-06-13T06:57:23.204384Z",
     "iopub.status.busy": "2024-06-13T06:57:23.203845Z",
     "iopub.status.idle": "2024-06-13T06:57:23.208703Z",
     "shell.execute_reply": "2024-06-13T06:57:23.207791Z"
    },
    "papermill": {
     "duration": 0.018749,
     "end_time": "2024-06-13T06:57:23.210475",
     "exception": false,
     "start_time": "2024-06-13T06:57:23.191726",
     "status": "completed"
    },
    "tags": []
   },
   "outputs": [],
   "source": [
    "testset = ClassificationDataset(test_df,data_path = \"\",transform=test_transform,training=False)\n",
    "test_loader = torch.utils.data.DataLoader(\n",
    "        testset, batch_size=1, shuffle=False,\n",
    "    )"
   ]
  },
  {
   "cell_type": "code",
   "execution_count": 15,
   "id": "ce80e0b3",
   "metadata": {
    "execution": {
     "iopub.execute_input": "2024-06-13T06:57:23.234234Z",
     "iopub.status.busy": "2024-06-13T06:57:23.233978Z",
     "iopub.status.idle": "2024-06-13T06:57:29.161066Z",
     "shell.execute_reply": "2024-06-13T06:57:29.160283Z"
    },
    "papermill": {
     "duration": 5.941292,
     "end_time": "2024-06-13T06:57:29.163071",
     "exception": false,
     "start_time": "2024-06-13T06:57:23.221779",
     "status": "completed"
    },
    "tags": []
   },
   "outputs": [
    {
     "name": "stderr",
     "output_type": "stream",
     "text": [
      "100%|██████████| 1000/1000 [00:05<00:00, 170.24it/s]\n"
     ]
    }
   ],
   "source": [
    "from tqdm import tqdm\n",
    "psum    = torch.tensor([0.0, 0.0, 0.0])\n",
    "psum_sq = torch.tensor([0.0, 0.0, 0.0])\n",
    "\n",
    "# loop through images\n",
    "for inputs in tqdm(test_loader):\n",
    "    psum    += inputs.sum(axis        = [0, 2, 3])\n",
    "    psum_sq += (inputs ** 2).sum(axis = [0, 2, 3])\n",
    "\n",
    "count = len(test_df) * 224 * 224\n",
    "\n",
    "# mean and std\n",
    "test_mean = psum / count\n",
    "test_var  = (psum_sq / count) - (test_mean ** 2)\n",
    "test_std  = torch.sqrt(test_var)"
   ]
  },
  {
   "cell_type": "code",
   "execution_count": 16,
   "id": "8fe8e825",
   "metadata": {
    "execution": {
     "iopub.execute_input": "2024-06-13T06:57:29.196661Z",
     "iopub.status.busy": "2024-06-13T06:57:29.196358Z",
     "iopub.status.idle": "2024-06-13T06:57:52.540201Z",
     "shell.execute_reply": "2024-06-13T06:57:52.539098Z"
    },
    "papermill": {
     "duration": 23.363104,
     "end_time": "2024-06-13T06:57:52.542405",
     "exception": false,
     "start_time": "2024-06-13T06:57:29.179301",
     "status": "completed"
    },
    "tags": []
   },
   "outputs": [
    {
     "name": "stderr",
     "output_type": "stream",
     "text": [
      "100%|██████████| 250/250 [00:23<00:00, 10.71it/s]\n"
     ]
    }
   ],
   "source": [
    "psum    = torch.tensor([0.0, 0.0, 0.0])\n",
    "psum_sq = torch.tensor([0.0, 0.0, 0.0])\n",
    "\n",
    "# loop through images\n",
    "for inputs,_ in tqdm(train_loader):\n",
    "    psum    += inputs.sum(axis        = [0, 2, 3])\n",
    "    psum_sq += (inputs ** 2).sum(axis = [0, 2, 3])\n",
    "\n",
    "count = len(train_loader) * 224 * 224\n",
    "\n",
    "# mean and std\n",
    "train_mean = psum / count\n",
    "train_var  = (psum_sq / count) - (train_mean ** 2)\n",
    "train_std  = torch.sqrt(train_var)"
   ]
  },
  {
   "cell_type": "code",
   "execution_count": 17,
   "id": "99074096",
   "metadata": {
    "execution": {
     "iopub.execute_input": "2024-06-13T06:57:52.597600Z",
     "iopub.status.busy": "2024-06-13T06:57:52.597279Z",
     "iopub.status.idle": "2024-06-13T06:57:52.604966Z",
     "shell.execute_reply": "2024-06-13T06:57:52.604030Z"
    },
    "papermill": {
     "duration": 0.037481,
     "end_time": "2024-06-13T06:57:52.606937",
     "exception": false,
     "start_time": "2024-06-13T06:57:52.569456",
     "status": "completed"
    },
    "tags": []
   },
   "outputs": [],
   "source": [
    "def imshow(inp, title=None):\n",
    "    \"\"\"Imshow for Tensor.\"\"\"\n",
    "    inp = inp.numpy().transpose((1, 2, 0))\n",
    "    mean = np.array([0.485, 0.456, 0.406])\n",
    "    std = np.array([0.229, 0.224, 0.225])\n",
    "    inp = std * inp + mean\n",
    "    inp = np.clip(inp, 0, 1)\n",
    "    plt.figure(figsize = (12, 12))\n",
    "    plt.imshow(inp)\n",
    "    if title is not None:\n",
    "        plt.title(title)\n",
    "    plt.axis(\"off\")\n",
    "    plt.pause(0.001)"
   ]
  },
  {
   "cell_type": "code",
   "execution_count": 18,
   "id": "ad631474",
   "metadata": {
    "execution": {
     "iopub.execute_input": "2024-06-13T06:57:52.660034Z",
     "iopub.status.busy": "2024-06-13T06:57:52.659768Z",
     "iopub.status.idle": "2024-06-13T06:57:53.340894Z",
     "shell.execute_reply": "2024-06-13T06:57:53.340107Z"
    },
    "papermill": {
     "duration": 0.710201,
     "end_time": "2024-06-13T06:57:53.343092",
     "exception": false,
     "start_time": "2024-06-13T06:57:52.632891",
     "status": "completed"
    },
    "tags": []
   },
   "outputs": [
    {
     "data": {
      "image/png": "[encoded data removed]",
      "text/plain": [
       "<Figure size 1200x1200 with 1 Axes>"
      ]
     },
     "metadata": {},
     "output_type": "display_data"
    }
   ],
   "source": [
    "import matplotlib.pyplot as plt\n",
    "\n",
    "%matplotlib inline\n",
    "# Visualization\n",
    "images, classes = next(iter(train_loader))\n",
    "# Make a grid from batch\n",
    "out = torchvision.utils.make_grid(images, nrow=8)\n",
    "imshow(out, title=classes)"
   ]
  },
  {
   "cell_type": "markdown",
   "id": "3183da2e",
   "metadata": {
    "papermill": {
     "duration": 0.030344,
     "end_time": "2024-06-13T06:57:53.403184",
     "exception": false,
     "start_time": "2024-06-13T06:57:53.372840",
     "status": "completed"
    },
    "tags": []
   },
   "source": [
    "# 2. Define Metrics and Optimizers and Loss function\n"
   ]
  },
  {
   "cell_type": "code",
   "execution_count": 19,
   "id": "27a560ae",
   "metadata": {
    "execution": {
     "iopub.execute_input": "2024-06-13T06:57:53.466188Z",
     "iopub.status.busy": "2024-06-13T06:57:53.465832Z",
     "iopub.status.idle": "2024-06-13T06:57:53.475416Z",
     "shell.execute_reply": "2024-06-13T06:57:53.474513Z"
    },
    "papermill": {
     "duration": 0.042075,
     "end_time": "2024-06-13T06:57:53.477336",
     "exception": false,
     "start_time": "2024-06-13T06:57:53.435261",
     "status": "completed"
    },
    "tags": []
   },
   "outputs": [],
   "source": [
    "from sklearn import metrics as skmetrics\n",
    "import numpy\n",
    "class Metrics:\n",
    "    def __init__(self, metric_names):\n",
    "        self.metric_names = metric_names\n",
    "        # initialize a metric dictionary\n",
    "        self.metric_dict = {metric_name: [0] for metric_name in self.metric_names}\n",
    "\n",
    "    def step(self, labels, preds):\n",
    "        for metric in self.metric_names:\n",
    "            # get the metric function\n",
    "            do_metric = getattr(\n",
    "                skmetrics, metric, \"The metric {} is not implemented\".format(metric)\n",
    "            )\n",
    "            # check if metric require average method, if yes set to 'micro' or 'macro' or 'None'\n",
    "            try:\n",
    "                self.metric_dict[metric].append(\n",
    "                    do_metric(labels, preds, average=\"macro\")\n",
    "                )\n",
    "            except:\n",
    "                self.metric_dict[metric].append(do_metric(labels, preds))\n",
    "\n",
    "    def epoch(self):\n",
    "        # calculate metrics for an entire epoch\n",
    "        avg = [sum(metric) / (len(metric) - 1) for metric in self.metric_dict.values()]\n",
    "        metric_as_dict = dict(zip(self.metric_names, avg))\n",
    "        return metric_as_dict\n",
    "\n",
    "    def last_step_metrics(self):\n",
    "        # return metrics of last steps\n",
    "        values = [self.metric_dict[metric][-1] for metric in self.metric_names]\n",
    "        metric_as_dict = dict(zip(self.metric_names, values))\n",
    "        return metric_as_dict"
   ]
  },
  {
   "cell_type": "code",
   "execution_count": 20,
   "id": "e594cdb0",
   "metadata": {
    "execution": {
     "iopub.execute_input": "2024-06-13T06:57:53.541175Z",
     "iopub.status.busy": "2024-06-13T06:57:53.540446Z",
     "iopub.status.idle": "2024-06-13T06:57:53.545989Z",
     "shell.execute_reply": "2024-06-13T06:57:53.544726Z"
    },
    "papermill": {
     "duration": 0.04222,
     "end_time": "2024-06-13T06:57:53.548814",
     "exception": false,
     "start_time": "2024-06-13T06:57:53.506594",
     "status": "completed"
    },
    "tags": []
   },
   "outputs": [],
   "source": [
    "train_metrics = Metrics([\"accuracy_score\",\"f1_score\"])\n",
    "val_metrics = Metrics([\"accuracy_score\",\"f1_score\"])"
   ]
  },
  {
   "cell_type": "code",
   "execution_count": 21,
   "id": "5ae7e592",
   "metadata": {
    "execution": {
     "iopub.execute_input": "2024-06-13T06:57:53.621390Z",
     "iopub.status.busy": "2024-06-13T06:57:53.621062Z",
     "iopub.status.idle": "2024-06-13T06:57:53.685127Z",
     "shell.execute_reply": "2024-06-13T06:57:53.684112Z"
    },
    "papermill": {
     "duration": 0.09912,
     "end_time": "2024-06-13T06:57:53.687083",
     "exception": false,
     "start_time": "2024-06-13T06:57:53.587963",
     "status": "completed"
    },
    "tags": []
   },
   "outputs": [],
   "source": [
    "device = torch.device(\"cuda:0\" if torch.cuda.is_available() else \"cpu\")\n",
    "from torch import nn\n",
    "criterion = nn.CrossEntropyLoss()"
   ]
  },
  {
   "cell_type": "code",
   "execution_count": 23,
   "id": "ff4b0879",
   "metadata": {
    "execution": {
     "iopub.execute_input": "2024-06-13T06:57:53.812809Z",
     "iopub.status.busy": "2024-06-13T06:57:53.812487Z",
     "iopub.status.idle": "2024-06-13T06:58:10.097538Z",
     "shell.execute_reply": "2024-06-13T06:58:10.096332Z"
    },
    "papermill": {
     "duration": 16.318051,
     "end_time": "2024-06-13T06:58:10.099994",
     "exception": false,
     "start_time": "2024-06-13T06:57:53.781943",
     "status": "completed"
    },
    "tags": []
   },
   "outputs": [
    {
     "name": "stdout",
     "output_type": "stream",
     "text": [
      "Found existing installation: timm 1.0.3\r\n",
      "Uninstalling timm-1.0.3:\r\n",
      "  Successfully uninstalled timm-1.0.3\r\n",
      "Collecting timm==0.4.12\r\n",
      "  Downloading timm-0.4.12-py3-none-any.whl.metadata (30 kB)\r\n",
      "Requirement already satisfied: torch>=1.4 in /opt/conda/lib/python3.10/site-packages (from timm==0.4.12) (2.1.2)\r\n",
      "Requirement already satisfied: torchvision in /opt/conda/lib/python3.10/site-packages (from timm==0.4.12) (0.16.2)\r\n",
      "Requirement already satisfied: filelock in /opt/conda/lib/python3.10/site-packages (from torch>=1.4->timm==0.4.12) (3.13.1)\r\n",
      "Requirement already satisfied: typing-extensions in /opt/conda/lib/python3.10/site-packages (from torch>=1.4->timm==0.4.12) (4.9.0)\r\n",
      "Requirement already satisfied: sympy in /opt/conda/lib/python3.10/site-packages (from torch>=1.4->timm==0.4.12) (1.12.1)\r\n",
      "Requirement already satisfied: networkx in /opt/conda/lib/python3.10/site-packages (from torch>=1.4->timm==0.4.12) (3.2.1)\r\n",
      "Requirement already satisfied: jinja2 in /opt/conda/lib/python3.10/site-packages (from torch>=1.4->timm==0.4.12) (3.1.2)\r\n",
      "Requirement already satisfied: fsspec in /opt/conda/lib/python3.10/site-packages (from torch>=1.4->timm==0.4.12) (2024.3.1)\r\n",
      "Requirement already satisfied: numpy in /opt/conda/lib/python3.10/site-packages (from torchvision->timm==0.4.12) (1.26.4)\r\n",
      "Requirement already satisfied: requests in /opt/conda/lib/python3.10/site-packages (from torchvision->timm==0.4.12) (2.32.3)\r\n",
      "Requirement already satisfied: pillow!=8.3.*,>=5.3.0 in /opt/conda/lib/python3.10/site-packages (from torchvision->timm==0.4.12) (9.5.0)\r\n",
      "Requirement already satisfied: MarkupSafe>=2.0 in /opt/conda/lib/python3.10/site-packages (from jinja2->torch>=1.4->timm==0.4.12) (2.1.3)\r\n",
      "Requirement already satisfied: charset-normalizer<4,>=2 in /opt/conda/lib/python3.10/site-packages (from requests->torchvision->timm==0.4.12) (3.3.2)\r\n",
      "Requirement already satisfied: idna<4,>=2.5 in /opt/conda/lib/python3.10/site-packages (from requests->torchvision->timm==0.4.12) (3.6)\r\n",
      "Requirement already satisfied: urllib3<3,>=1.21.1 in /opt/conda/lib/python3.10/site-packages (from requests->torchvision->timm==0.4.12) (1.26.18)\r\n",
      "Requirement already satisfied: certifi>=2017.4.17 in /opt/conda/lib/python3.10/site-packages (from requests->torchvision->timm==0.4.12) (2024.2.2)\r\n",
      "Requirement already satisfied: mpmath<1.4.0,>=1.1.0 in /opt/conda/lib/python3.10/site-packages (from sympy->torch>=1.4->timm==0.4.12) (1.3.0)\r\n",
      "Downloading timm-0.4.12-py3-none-any.whl (376 kB)\r\n",
      "\u001b[2K   \u001b[90m━━━━━━━━━━━━━━━━━━━━━━━━━━━━━━━━━━━━━━━━\u001b[0m \u001b[32m377.0/377.0 kB\u001b[0m \u001b[31m11.5 MB/s\u001b[0m eta \u001b[36m0:00:00\u001b[0m\r\n",
      "\u001b[?25hInstalling collected packages: timm\r\n",
      "Successfully installed timm-0.4.12\r\n"
     ]
    }
   ],
   "source": [
    "!pip uninstall timm -y\n",
    "!pip install timm==0.4.12"
   ]
  },
  {
   "cell_type": "markdown",
   "id": "cf26c29b",
   "metadata": {
    "papermill": {
     "duration": 0.073723,
     "end_time": "2024-06-13T06:58:10.204906",
     "exception": false,
     "start_time": "2024-06-13T06:58:10.131183",
     "status": "completed"
    },
    "tags": []
   },
   "source": [
    "4. Define the Model: Transfer Learning\n"
   ]
  },
  {
   "cell_type": "code",
   "execution_count": 24,
   "id": "673d4138",
   "metadata": {
    "execution": {
     "iopub.execute_input": "2024-06-13T06:58:10.266929Z",
     "iopub.status.busy": "2024-06-13T06:58:10.266029Z",
     "iopub.status.idle": "2024-06-13T06:58:13.486629Z",
     "shell.execute_reply": "2024-06-13T06:58:13.485834Z"
    },
    "papermill": {
     "duration": 3.254169,
     "end_time": "2024-06-13T06:58:13.488917",
     "exception": false,
     "start_time": "2024-06-13T06:58:10.234748",
     "status": "completed"
    },
    "tags": []
   },
   "outputs": [
    {
     "data": {
      "application/vnd.jupyter.widget-view+json": {
       "model_id": "5483d7040ec74e0f8fe43cc9e00d9450",
       "version_major": 2,
       "version_minor": 0
      },
      "text/plain": [
       "model.safetensors:   0%|          | 0.00/353M [00:00<?, ?B/s]"
      ]
     },
     "metadata": {},
     "output_type": "display_data"
    }
   ],
   "source": [
    "from torchvision import models\n",
    "from torch import nn\n",
    "import timm\n",
    "# Tải mô hình Swin Transformer đã được pretrain\n",
    "model = timm.create_model('swin_base_patch4_window7_224', pretrained=True)\n",
    "# Đặt requires_grad = False cho tất cả các tham số của mô hình\n",
    "for param in model.parameters():\n",
    "    param.requires_grad = True\n",
    "# Tạo một bộ phân loại mới\n",
    "classifier = nn.Sequential(\n",
    "    nn.Linear(in_features=model.head.fc.in_features, out_features=256, bias=True),\n",
    "    nn.Linear(in_features=256, out_features=2, bias=True)\n",
    ")\n",
    "# Thay thế bộ phân loại hiện tại của mô hình bằng bộ phân loại mới\n",
    "model.head.fc = classifier"
   ]
  },
  {
   "cell_type": "code",
   "execution_count": 25,
   "id": "cbae76e2",
   "metadata": {
    "execution": {
     "iopub.execute_input": "2024-06-13T06:58:13.558129Z",
     "iopub.status.busy": "2024-06-13T06:58:13.557784Z",
     "iopub.status.idle": "2024-06-13T06:58:13.567710Z",
     "shell.execute_reply": "2024-06-13T06:58:13.566418Z"
    },
    "papermill": {
     "duration": 0.049221,
     "end_time": "2024-06-13T06:58:13.569814",
     "exception": false,
     "start_time": "2024-06-13T06:58:13.520593",
     "status": "completed"
    },
    "tags": []
   },
   "outputs": [],
   "source": [
    "optimizer = torch.optim.Adam(model.parameters(), lr=0.01)\n",
    "scheduler = torch.optim.lr_scheduler.ReduceLROnPlateau(\n",
    "        optimizer, \"min\", patience=2, factor=0.5\n",
    "    )"
   ]
  },
  {
   "cell_type": "markdown",
   "id": "b6efe6b6",
   "metadata": {
    "papermill": {
     "duration": 0.030255,
     "end_time": "2024-06-13T06:58:13.636193",
     "exception": false,
     "start_time": "2024-06-13T06:58:13.605938",
     "status": "completed"
    },
    "tags": []
   },
   "source": [
    "# 3. Define a training epoch\n"
   ]
  },
  {
   "cell_type": "code",
   "execution_count": 26,
   "id": "32cefc63",
   "metadata": {
    "execution": {
     "iopub.execute_input": "2024-06-13T06:58:13.700066Z",
     "iopub.status.busy": "2024-06-13T06:58:13.699241Z",
     "iopub.status.idle": "2024-06-13T06:58:13.952082Z",
     "shell.execute_reply": "2024-06-13T06:58:13.951289Z"
    },
    "papermill": {
     "duration": 0.28662,
     "end_time": "2024-06-13T06:58:13.954434",
     "exception": false,
     "start_time": "2024-06-13T06:58:13.667814",
     "status": "completed"
    },
    "tags": []
   },
   "outputs": [],
   "source": [
    "model = model.to(device)"
   ]
  },
  {
   "cell_type": "code",
   "execution_count": 27,
   "id": "202a5c6c",
   "metadata": {
    "execution": {
     "iopub.execute_input": "2024-06-13T06:58:14.017666Z",
     "iopub.status.busy": "2024-06-13T06:58:14.017338Z",
     "iopub.status.idle": "2024-06-13T06:58:14.029128Z",
     "shell.execute_reply": "2024-06-13T06:58:14.028416Z"
    },
    "papermill": {
     "duration": 0.045499,
     "end_time": "2024-06-13T06:58:14.031021",
     "exception": false,
     "start_time": "2024-06-13T06:58:13.985522",
     "status": "completed"
    },
    "tags": []
   },
   "outputs": [],
   "source": [
    "def train_one_epoch(\n",
    "    model,\n",
    "    train_loader,\n",
    "    test_loader,\n",
    "    device,\n",
    "    optimizer,\n",
    "    criterion,\n",
    "    train_metrics,\n",
    "    val_metrics,\n",
    "):\n",
    "\n",
    "    # training-the-model\n",
    "    train_loss = 0\n",
    "    valid_loss = 0\n",
    "    all_labels = []\n",
    "    all_preds = []\n",
    "    model.train()\n",
    "    for data, target in train_loader:\n",
    "        # move-tensors-to-GPU\n",
    "        data = data.type(torch.FloatTensor).to(device)\n",
    "        # target=torch.Tensor(target)\n",
    "        target = target.float().to(device)\n",
    "        # clear-the-gradients-of-all-optimized-variables\n",
    "        optimizer.zero_grad()\n",
    "        # forward-pass: compute-predicted-outputs-by-passing-inputs-to-the-model\n",
    "        output = model(data)\n",
    "        # get the prediction label and target label\n",
    "        output = model(data)\n",
    "        preds = torch.argmax(output, axis=1).cpu().detach().numpy()\n",
    "        labels = target.cpu().numpy()\n",
    "        # calculate-the-batch-loss\n",
    "        loss = criterion(output.type(torch.FloatTensor).to(device), target.type(torch.LongTensor).to(device))\n",
    "        # backward-pass: compute-gradient-of-the-loss-wrt-model-parameters\n",
    "        loss.backward()\n",
    "        # perform-a-ingle-optimization-step (parameter-update)\n",
    "        optimizer.step()\n",
    "        # update-training-loss\n",
    "        train_loss += loss.item() * data.size(0)\n",
    "        # calculate training metrics\n",
    "        all_labels.extend(labels)\n",
    "        all_preds.extend(preds)\n",
    "    \n",
    "    train_metrics.step(all_labels, all_preds)\n",
    "\n",
    "    # validate-the-model\n",
    "    model.eval()\n",
    "    all_labels = []\n",
    "    all_preds = []\n",
    "    for data, target in test_loader:\n",
    "        data = data.type(torch.FloatTensor).to(device)\n",
    "        target = target.to(device)\n",
    "        output = model(data)\n",
    "        preds = torch.argmax(output, axis=1).tolist()\n",
    "        labels = target.tolist()\n",
    "        all_labels.extend(labels)\n",
    "        all_preds.extend(preds)\n",
    "        loss = criterion(output, target)\n",
    "\n",
    "        # update-average-validation-loss\n",
    "        valid_loss += loss.item() * data.size(0)\n",
    "\n",
    "    val_metrics.step(all_labels, all_preds)\n",
    "    train_loss = train_loss / len(train_loader.sampler)\n",
    "    valid_loss = valid_loss / len(test_loader.sampler)\n",
    "\n",
    "    return (\n",
    "        train_loss,\n",
    "        valid_loss,\n",
    "        train_metrics.last_step_metrics(),\n",
    "        val_metrics.last_step_metrics(),\n",
    "    )"
   ]
  },
  {
   "cell_type": "markdown",
   "id": "fa2bfea2",
   "metadata": {
    "papermill": {
     "duration": 0.0303,
     "end_time": "2024-06-13T06:58:14.094456",
     "exception": false,
     "start_time": "2024-06-13T06:58:14.064156",
     "status": "completed"
    },
    "tags": []
   },
   "source": [
    "# Training"
   ]
  },
  {
   "cell_type": "code",
   "execution_count": 28,
   "id": "1d673f3d",
   "metadata": {
    "execution": {
     "iopub.execute_input": "2024-06-13T06:58:14.156162Z",
     "iopub.status.busy": "2024-06-13T06:58:14.155473Z",
     "iopub.status.idle": "2024-06-13T06:58:14.160206Z",
     "shell.execute_reply": "2024-06-13T06:58:14.159243Z"
    },
    "papermill": {
     "duration": 0.037465,
     "end_time": "2024-06-13T06:58:14.162125",
     "exception": false,
     "start_time": "2024-06-13T06:58:14.124660",
     "status": "completed"
    },
    "tags": []
   },
   "outputs": [],
   "source": [
    "from tqdm import tqdm\n",
    "from datetime import datetime\n",
    "time_str = str(datetime.now().strftime(\"%Y%m%d-%H%M\"))"
   ]
  },
  {
   "cell_type": "code",
   "execution_count": null,
   "id": "53f79723",
   "metadata": {},
   "outputs": [],
   "source": [
    "for param in model.parameters():\n",
    "    param.requires_grad = True\n",
    "optimizer = torch.optim.Adam(model.parameters(), lr=0.0001, betas=(0.9, 0.999), eps=1e-08, weight_decay=0)\n",
    "# Initialize a new run\n",
    "\n",
    "run = wandb.init(project=\"eyepacs-airogs-light-\", name = \"vit_base\" + str(random_seed), reinit=True)\n",
    "\n",
    "model = model.to(device)\n",
    "num_epoch = config.num_epochs\n",
    "best_val_acc = 0.0\n",
    "import logging\n",
    "import numpy as np"
   ]
  },
  {
   "cell_type": "code",
   "execution_count": null,
   "id": "c39637f8",
   "metadata": {
    "execution": {
     "iopub.execute_input": "2024-06-13T06:58:14.223978Z",
     "iopub.status.busy": "2024-06-13T06:58:14.223219Z",
     "iopub.status.idle": "2024-06-13T07:49:21.933202Z",
     "shell.execute_reply": "2024-06-13T07:49:21.932308Z"
    },
    "papermill": {
     "duration": 3067.780139,
     "end_time": "2024-06-13T07:49:21.972353",
     "exception": false,
     "start_time": "2024-06-13T06:58:14.192214",
     "status": "completed"
    },
    "tags": []
   },
   "outputs": [],
   "source": [
    "print(\"begin training process\")\n",
    "for i in tqdm(range(0, num_epoch)):\n",
    "    loss, val_loss, train_result, val_result = train_one_epoch(\n",
    "        model,\n",
    "        train_loader,\n",
    "        val_loader,\n",
    "        device,\n",
    "        optimizer,\n",
    "        criterion,\n",
    "        train_metrics,\n",
    "        val_metrics,\n",
    "    )\n",
    "    wandb.log({\n",
    "        \"Epoch\": i + 1,\n",
    "        \"Training Loss\": loss,\n",
    "        \"Validation Loss\": val_loss,\n",
    "        \"Training Accuracy\": train_result[\"accuracy_score\"],\n",
    "        \"Validation Accuracy\": val_result[\"accuracy_score\"],\n",
    "        \"Training F1 Score\": train_result[\"f1_score\"],\n",
    "        \"Validation F1 Score\": val_result[\"f1_score\"]\n",
    "    })\n",
    "    scheduler.step(val_loss)\n",
    "    print(\n",
    "        \"Epoch {} / {} \\n Training loss: {} - Other training metrics: \".format(\n",
    "            i + 1, num_epoch, loss\n",
    "        )\n",
    "    )\n",
    "    print(train_result)\n",
    "    print(\n",
    "        \" \\n Validation loss : {} - Other validation metrics:\".format(val_loss)\n",
    "    )\n",
    "    print(val_result)\n",
    "    print(\"\\n\")\n",
    "    # saving epoch with best validation accuracy\n",
    "    if (loss<0.04):\n",
    "        # no saving\n",
    "        continue\n",
    "    if best_val_acc < float(val_result[\"accuracy_score\"]):\n",
    "        print(\n",
    "            \"Validation accuracy= \"+\n",
    "            str(val_result[\"accuracy_score\"])+\n",
    "            \"===> Save best epoch\"\n",
    "        )\n",
    "        best_val_acc = val_result[\"accuracy_score\"]\n",
    "        torch.save(\n",
    "            model,\n",
    "            \"./\" +  \"best.pt\"\n",
    "        )\n",
    "    else:\n",
    "        print(\n",
    "            \"Validation accuracy= \"+ str(val_result[\"accuracy_score\"])+ \"===> No saving\"\n",
    "        )\n",
    "        continue"
   ]
  },
  {
   "cell_type": "code",
   "execution_count": 30,
   "id": "2727c1fe",
   "metadata": {
    "execution": {
     "iopub.execute_input": "2024-06-13T07:49:22.042390Z",
     "iopub.status.busy": "2024-06-13T07:49:22.042044Z",
     "iopub.status.idle": "2024-06-13T07:49:34.536553Z",
     "shell.execute_reply": "2024-06-13T07:49:34.535544Z"
    },
    "papermill": {
     "duration": 12.532065,
     "end_time": "2024-06-13T07:49:34.538965",
     "exception": false,
     "start_time": "2024-06-13T07:49:22.006900",
     "status": "completed"
    },
    "tags": []
   },
   "outputs": [
    {
     "name": "stdout",
     "output_type": "stream",
     "text": [
      "Collecting lion-pytorch\r\n",
      "  Downloading lion_pytorch-0.1.4-py3-none-any.whl.metadata (618 bytes)\r\n",
      "Requirement already satisfied: torch>=1.6 in /opt/conda/lib/python3.10/site-packages (from lion-pytorch) (2.1.2)\r\n",
      "Requirement already satisfied: filelock in /opt/conda/lib/python3.10/site-packages (from torch>=1.6->lion-pytorch) (3.13.1)\r\n",
      "Requirement already satisfied: typing-extensions in /opt/conda/lib/python3.10/site-packages (from torch>=1.6->lion-pytorch) (4.9.0)\r\n",
      "Requirement already satisfied: sympy in /opt/conda/lib/python3.10/site-packages (from torch>=1.6->lion-pytorch) (1.12.1)\r\n",
      "Requirement already satisfied: networkx in /opt/conda/lib/python3.10/site-packages (from torch>=1.6->lion-pytorch) (3.2.1)\r\n",
      "Requirement already satisfied: jinja2 in /opt/conda/lib/python3.10/site-packages (from torch>=1.6->lion-pytorch) (3.1.2)\r\n",
      "Requirement already satisfied: fsspec in /opt/conda/lib/python3.10/site-packages (from torch>=1.6->lion-pytorch) (2024.3.1)\r\n",
      "Requirement already satisfied: MarkupSafe>=2.0 in /opt/conda/lib/python3.10/site-packages (from jinja2->torch>=1.6->lion-pytorch) (2.1.3)\r\n",
      "Requirement already satisfied: mpmath<1.4.0,>=1.1.0 in /opt/conda/lib/python3.10/site-packages (from sympy->torch>=1.6->lion-pytorch) (1.3.0)\r\n",
      "Downloading lion_pytorch-0.1.4-py3-none-any.whl (4.3 kB)\r\n",
      "Installing collected packages: lion-pytorch\r\n",
      "Successfully installed lion-pytorch-0.1.4\r\n"
     ]
    }
   ],
   "source": [
    "!pip install lion-pytorch\n",
    "from lion_pytorch import Lion\n",
    "optimizer = Lion(model.parameters(), lr=1e-4, weight_decay=1e-2)"
   ]
  },
  {
   "cell_type": "code",
   "execution_count": 31,
   "id": "8b5b616f",
   "metadata": {
    "execution": {
     "iopub.execute_input": "2024-06-13T07:49:34.612771Z",
     "iopub.status.busy": "2024-06-13T07:49:34.612169Z",
     "iopub.status.idle": "2024-06-13T07:49:34.858237Z",
     "shell.execute_reply": "2024-06-13T07:49:34.857163Z"
    },
    "papermill": {
     "duration": 0.285704,
     "end_time": "2024-06-13T07:49:34.860677",
     "exception": false,
     "start_time": "2024-06-13T07:49:34.574973",
     "status": "completed"
    },
    "tags": []
   },
   "outputs": [],
   "source": [
    "import copy\n",
    "val_model = torch.load(\"/kaggle/working/best.pt\")\n",
    "val_model = val_model.to(device)"
   ]
  },
  {
   "cell_type": "code",
   "execution_count": 32,
   "id": "04317b5c",
   "metadata": {
    "execution": {
     "iopub.execute_input": "2024-06-13T07:49:34.932960Z",
     "iopub.status.busy": "2024-06-13T07:49:34.932364Z",
     "iopub.status.idle": "2024-06-13T07:49:34.939185Z",
     "shell.execute_reply": "2024-06-13T07:49:34.938304Z"
    },
    "papermill": {
     "duration": 0.045218,
     "end_time": "2024-06-13T07:49:34.941165",
     "exception": false,
     "start_time": "2024-06-13T07:49:34.895947",
     "status": "completed"
    },
    "tags": []
   },
   "outputs": [],
   "source": [
    "def val_result(model, val_loader, device):\n",
    "    # testing the model by turning model \"Eval\" mode\n",
    "    model.eval()\n",
    "    preds = []\n",
    "    labels = []\n",
    "    with torch.no_grad():\n",
    "        for data, target in val_loader:\n",
    "            # move-tensors-to-GPU\n",
    "            data = data.to(device)\n",
    "            target = target.to(device)\n",
    "            # forward-pass: compute-predicted-outputs-by-passing-inputs-to-the-model\n",
    "            output = model(data)\n",
    "            # applying Softmax to results\n",
    "            prob = nn.Softmax(dim=1)\n",
    "            probs = prob(output)\n",
    "            labels.extend(target.tolist())\n",
    "            preds.extend(torch.argmax(probs, axis=1).tolist())\n",
    "    return preds, labels"
   ]
  },
  {
   "cell_type": "code",
   "execution_count": 33,
   "id": "542df982",
   "metadata": {
    "execution": {
     "iopub.execute_input": "2024-06-13T07:49:35.016975Z",
     "iopub.status.busy": "2024-06-13T07:49:35.016623Z",
     "iopub.status.idle": "2024-06-13T07:50:01.359086Z",
     "shell.execute_reply": "2024-06-13T07:50:01.358297Z"
    },
    "papermill": {
     "duration": 26.38389,
     "end_time": "2024-06-13T07:50:01.361472",
     "exception": false,
     "start_time": "2024-06-13T07:49:34.977582",
     "status": "completed"
    },
    "tags": []
   },
   "outputs": [],
   "source": [
    "preds, grd_truth = val_result(val_model, val_loader, device)"
   ]
  },
  {
   "cell_type": "code",
   "execution_count": 34,
   "id": "3338499f",
   "metadata": {
    "execution": {
     "iopub.execute_input": "2024-06-13T07:50:01.434596Z",
     "iopub.status.busy": "2024-06-13T07:50:01.434238Z",
     "iopub.status.idle": "2024-06-13T07:50:01.438766Z",
     "shell.execute_reply": "2024-06-13T07:50:01.437833Z"
    },
    "papermill": {
     "duration": 0.04399,
     "end_time": "2024-06-13T07:50:01.440811",
     "exception": false,
     "start_time": "2024-06-13T07:50:01.396821",
     "status": "completed"
    },
    "tags": []
   },
   "outputs": [],
   "source": [
    "from sklearn.metrics import classification_report\n",
    "from sklearn.metrics import confusion_matrix, ConfusionMatrixDisplay"
   ]
  },
  {
   "cell_type": "code",
   "execution_count": 35,
   "id": "afb2189d",
   "metadata": {
    "execution": {
     "iopub.execute_input": "2024-06-13T07:50:01.515226Z",
     "iopub.status.busy": "2024-06-13T07:50:01.514876Z",
     "iopub.status.idle": "2024-06-13T07:50:01.530808Z",
     "shell.execute_reply": "2024-06-13T07:50:01.529677Z"
    },
    "papermill": {
     "duration": 0.056196,
     "end_time": "2024-06-13T07:50:01.533017",
     "exception": false,
     "start_time": "2024-06-13T07:50:01.476821",
     "status": "completed"
    },
    "tags": []
   },
   "outputs": [
    {
     "name": "stdout",
     "output_type": "stream",
     "text": [
      "              precision    recall  f1-score   support\n",
      "\n",
      "           0   0.937079  0.834000  0.882540       500\n",
      "           1   0.850450  0.944000  0.894787       500\n",
      "\n",
      "    accuracy                       0.889000      1000\n",
      "   macro avg   0.893765  0.889000  0.888663      1000\n",
      "weighted avg   0.893765  0.889000  0.888663      1000\n",
      "\n"
     ]
    }
   ],
   "source": [
    "report = classification_report(grd_truth, preds, digits=6)\n",
    "print(report)"
   ]
  },
  {
   "cell_type": "code",
   "execution_count": null,
   "id": "eb1f70a5",
   "metadata": {},
   "outputs": [],
   "source": [
    "cm = confusion_matrix(grd_truth, preds)\n",
    "disp = ConfusionMatrixDisplay(confusion_matrix=cm)\n",
    "disp.plot()\n",
    "\n",
    "# save confusion matrix plot to wandb\n",
    "\n",
    "wandb.log({\"confusion_matrix\": disp.figure_})"
   ]
  },
  {
   "cell_type": "code",
   "execution_count": 37,
   "id": "2faa1218",
   "metadata": {
    "execution": {
     "iopub.execute_input": "2024-06-13T07:50:01.995837Z",
     "iopub.status.busy": "2024-06-13T07:50:01.994975Z",
     "iopub.status.idle": "2024-06-13T07:50:02.244794Z",
     "shell.execute_reply": "2024-06-13T07:50:02.243780Z"
    },
    "papermill": {
     "duration": 0.290575,
     "end_time": "2024-06-13T07:50:02.247248",
     "exception": false,
     "start_time": "2024-06-13T07:50:01.956673",
     "status": "completed"
    },
    "tags": []
   },
   "outputs": [],
   "source": [
    "import copy\n",
    "\n",
    "# save model to wandb\n",
    "wandb.save(\"/kaggle/working/best.pt\")\n",
    "test_model = torch.load(\"/kaggle/working/best.pt\")\n",
    "test_model = test_model.to(device)"
   ]
  },
  {
   "cell_type": "code",
   "execution_count": 38,
   "id": "d585f341",
   "metadata": {
    "execution": {
     "iopub.execute_input": "2024-06-13T07:50:02.320374Z",
     "iopub.status.busy": "2024-06-13T07:50:02.319719Z",
     "iopub.status.idle": "2024-06-13T07:50:02.327132Z",
     "shell.execute_reply": "2024-06-13T07:50:02.326248Z"
    },
    "papermill": {
     "duration": 0.046131,
     "end_time": "2024-06-13T07:50:02.329261",
     "exception": false,
     "start_time": "2024-06-13T07:50:02.283130",
     "status": "completed"
    },
    "tags": []
   },
   "outputs": [],
   "source": [
    "def test_result(model, test_loader, device,name='no_tta_prob.npy'):\n",
    "    # testing the model by turning model \"Eval\" mode\n",
    "    model.eval()\n",
    "    preds = []\n",
    "    aprobs = []\n",
    "    with torch.no_grad():\n",
    "        for data in test_loader:\n",
    "            # move-tensors-to-GPU\n",
    "            data = data.to(device)\n",
    "            # forward-pass: compute-predicted-outputs-by-passing-inputs-to-the-model\n",
    "            output = model(data)\n",
    "            prob = nn.Softmax(dim=1)\n",
    "            # applying Softmax to results\n",
    "            probs = prob(output)\n",
    "            #aprobs.append(probs.cpu())\n",
    "            aprobs.append(probs.detach().cpu().numpy())\n",
    "            preds.extend(torch.argmax(probs, axis=1).tolist())\n",
    "#             binary_predictions = (probs[:, 1] >= threshold).int()\n",
    "#             preds.extend(binary_predictions.tolist())\n",
    "    aprobs = np.array(aprobs)\n",
    "    np.save(name,aprobs)\n",
    "    return preds"
   ]
  }
 ],
 "metadata": {
  "kaggle": {
   "accelerator": "gpu",
   "dataSources": [
    {
     "datasetId": 3222646,
     "sourceId": 5748495,
     "sourceType": "datasetVersion"
    }
   ],
   "dockerImageVersionId": 30733,
   "isGpuEnabled": true,
   "isInternetEnabled": true,
   "language": "python",
   "sourceType": "notebook"
  },
  "kernelspec": {
   "display_name": "Python 3",
   "language": "python",
   "name": "python3"
  },
  "language_info": {
   "codemirror_mode": {
    "name": "ipython",
    "version": 3
   },
   "file_extension": ".py",
   "mimetype": "text/x-python",
   "name": "python",
   "nbconvert_exporter": "python",
   "pygments_lexer": "ipython3",
   "version": "3.10.13"
  },
  "papermill": {
   "default_parameters": {},
   "duration": 3178.51769,
   "end_time": "2024-06-13T07:50:04.871214",
   "environment_variables": {},
   "exception": null,
   "input_path": "__notebook__.ipynb",
   "output_path": "__notebook__.ipynb",
   "parameters": {},
   "start_time": "2024-06-13T06:57:06.353524",
   "version": "2.4.0"
  },
  "widgets": {
   "application/vnd.jupyter.widget-state+json": {
    "state": {
     "266eadef30ce444c88184c411c236fcd": {
      "model_module": "@jupyter-widgets/controls",
      "model_module_version": "1.5.0",
      "model_name": "DescriptionStyleModel",
      "state": {
       "_model_module": "@jupyter-widgets/controls",
       "_model_module_version": "1.5.0",
       "_model_name": "DescriptionStyleModel",
       "_view_count": null,
       "_view_module": "@jupyter-widgets/base",
       "_view_module_version": "1.2.0",
       "_view_name": "StyleView",
       "description_width": ""
      }
     },
     "2784a45488634ef187326a2211c7f241": {
      "model_module": "@jupyter-widgets/controls",
      "model_module_version": "1.5.0",
      "model_name": "FloatProgressModel",
      "state": {
       "_dom_classes": [],
       "_model_module": "@jupyter-widgets/controls",
       "_model_module_version": "1.5.0",
       "_model_name": "FloatProgressModel",
       "_view_count": null,
       "_view_module": "@jupyter-widgets/controls",
       "_view_module_version": "1.5.0",
       "_view_name": "ProgressView",
       "bar_style": "success",
       "description": "",
       "description_tooltip": null,
       "layout": "IPY_MODEL_d62e2efd3aad4d7486622498b39a9069",
       "max": 352685652,
       "min": 0,
       "orientation": "horizontal",
       "style": "IPY_MODEL_d7e18c31141b4d9aae35495a07dc3908",
       "value": 352685652
      }
     },
     "354a62094a1c44699f896427d34dcc51": {
      "model_module": "@jupyter-widgets/controls",
      "model_module_version": "1.5.0",
      "model_name": "HTMLModel",
      "state": {
       "_dom_classes": [],
       "_model_module": "@jupyter-widgets/controls",
       "_model_module_version": "1.5.0",
       "_model_name": "HTMLModel",
       "_view_count": null,
       "_view_module": "@jupyter-widgets/controls",
       "_view_module_version": "1.5.0",
       "_view_name": "HTMLView",
       "description": "",
       "description_tooltip": null,
       "layout": "IPY_MODEL_724955ade91240a3b1c96a84b837406a",
       "placeholder": "​",
       "style": "IPY_MODEL_fbce3e1c014f4f858b6827a11351511d",
       "value": " 353M/353M [00:01&lt;00:00, 286MB/s]"
      }
     },
     "53390f9747a4472ca17094d59be8be60": {
      "model_module": "@jupyter-widgets/base",
      "model_module_version": "1.2.0",
      "model_name": "LayoutModel",
      "state": {
       "_model_module": "@jupyter-widgets/base",
       "_model_module_version": "1.2.0",
       "_model_name": "LayoutModel",
       "_view_count": null,
       "_view_module": "@jupyter-widgets/base",
       "_view_module_version": "1.2.0",
       "_view_name": "LayoutView",
       "align_content": null,
       "align_items": null,
       "align_self": null,
       "border": null,
       "bottom": null,
       "display": null,
       "flex": null,
       "flex_flow": null,
       "grid_area": null,
       "grid_auto_columns": null,
       "grid_auto_flow": null,
       "grid_auto_rows": null,
       "grid_column": null,
       "grid_gap": null,
       "grid_row": null,
       "grid_template_areas": null,
       "grid_template_columns": null,
       "grid_template_rows": null,
       "height": null,
       "justify_content": null,
       "justify_items": null,
       "left": null,
       "margin": null,
       "max_height": null,
       "max_width": null,
       "min_height": null,
       "min_width": null,
       "object_fit": null,
       "object_position": null,
       "order": null,
       "overflow": null,
       "overflow_x": null,
       "overflow_y": null,
       "padding": null,
       "right": null,
       "top": null,
       "visibility": null,
       "width": null
      }
     },
     "5483d7040ec74e0f8fe43cc9e00d9450": {
      "model_module": "@jupyter-widgets/controls",
      "model_module_version": "1.5.0",
      "model_name": "HBoxModel",
      "state": {
       "_dom_classes": [],
       "_model_module": "@jupyter-widgets/controls",
       "_model_module_version": "1.5.0",
       "_model_name": "HBoxModel",
       "_view_count": null,
       "_view_module": "@jupyter-widgets/controls",
       "_view_module_version": "1.5.0",
       "_view_name": "HBoxView",
       "box_style": "",
       "children": [
        "IPY_MODEL_9d4f57c43bc644acbb0bdf0cec69f4ed",
        "IPY_MODEL_2784a45488634ef187326a2211c7f241",
        "IPY_MODEL_354a62094a1c44699f896427d34dcc51"
       ],
       "layout": "IPY_MODEL_fbd5ea60dd3844a9b8af38da93abdef1"
      }
     },
     "724955ade91240a3b1c96a84b837406a": {
      "model_module": "@jupyter-widgets/base",
      "model_module_version": "1.2.0",
      "model_name": "LayoutModel",
      "state": {
       "_model_module": "@jupyter-widgets/base",
       "_model_module_version": "1.2.0",
       "_model_name": "LayoutModel",
       "_view_count": null,
       "_view_module": "@jupyter-widgets/base",
       "_view_module_version": "1.2.0",
       "_view_name": "LayoutView",
       "align_content": null,
       "align_items": null,
       "align_self": null,
       "border": null,
       "bottom": null,
       "display": null,
       "flex": null,
       "flex_flow": null,
       "grid_area": null,
       "grid_auto_columns": null,
       "grid_auto_flow": null,
       "grid_auto_rows": null,
       "grid_column": null,
       "grid_gap": null,
       "grid_row": null,
       "grid_template_areas": null,
       "grid_template_columns": null,
       "grid_template_rows": null,
       "height": null,
       "justify_content": null,
       "justify_items": null,
       "left": null,
       "margin": null,
       "max_height": null,
       "max_width": null,
       "min_height": null,
       "min_width": null,
       "object_fit": null,
       "object_position": null,
       "order": null,
       "overflow": null,
       "overflow_x": null,
       "overflow_y": null,
       "padding": null,
       "right": null,
       "top": null,
       "visibility": null,
       "width": null
      }
     },
     "9d4f57c43bc644acbb0bdf0cec69f4ed": {
      "model_module": "@jupyter-widgets/controls",
      "model_module_version": "1.5.0",
      "model_name": "HTMLModel",
      "state": {
       "_dom_classes": [],
       "_model_module": "@jupyter-widgets/controls",
       "_model_module_version": "1.5.0",
       "_model_name": "HTMLModel",
       "_view_count": null,
       "_view_module": "@jupyter-widgets/controls",
       "_view_module_version": "1.5.0",
       "_view_name": "HTMLView",
       "description": "",
       "description_tooltip": null,
       "layout": "IPY_MODEL_53390f9747a4472ca17094d59be8be60",
       "placeholder": "​",
       "style": "IPY_MODEL_266eadef30ce444c88184c411c236fcd",
       "value": "model.safetensors: 100%"
      }
     },
     "d62e2efd3aad4d7486622498b39a9069": {
      "model_module": "@jupyter-widgets/base",
      "model_module_version": "1.2.0",
      "model_name": "LayoutModel",
      "state": {
       "_model_module": "@jupyter-widgets/base",
       "_model_module_version": "1.2.0",
       "_model_name": "LayoutModel",
       "_view_count": null,
       "_view_module": "@jupyter-widgets/base",
       "_view_module_version": "1.2.0",
       "_view_name": "LayoutView",
       "align_content": null,
       "align_items": null,
       "align_self": null,
       "border": null,
       "bottom": null,
       "display": null,
       "flex": null,
       "flex_flow": null,
       "grid_area": null,
       "grid_auto_columns": null,
       "grid_auto_flow": null,
       "grid_auto_rows": null,
       "grid_column": null,
       "grid_gap": null,
       "grid_row": null,
       "grid_template_areas": null,
       "grid_template_columns": null,
       "grid_template_rows": null,
       "height": null,
       "justify_content": null,
       "justify_items": null,
       "left": null,
       "margin": null,
       "max_height": null,
       "max_width": null,
       "min_height": null,
       "min_width": null,
       "object_fit": null,
       "object_position": null,
       "order": null,
       "overflow": null,
       "overflow_x": null,
       "overflow_y": null,
       "padding": null,
       "right": null,
       "top": null,
       "visibility": null,
       "width": null
      }
     },
     "d7e18c31141b4d9aae35495a07dc3908": {
      "model_module": "@jupyter-widgets/controls",
      "model_module_version": "1.5.0",
      "model_name": "ProgressStyleModel",
      "state": {
       "_model_module": "@jupyter-widgets/controls",
       "_model_module_version": "1.5.0",
       "_model_name": "ProgressStyleModel",
       "_view_count": null,
       "_view_module": "@jupyter-widgets/base",
       "_view_module_version": "1.2.0",
       "_view_name": "StyleView",
       "bar_color": null,
       "description_width": ""
      }
     },
     "fbce3e1c014f4f858b6827a11351511d": {
      "model_module": "@jupyter-widgets/controls",
      "model_module_version": "1.5.0",
      "model_name": "DescriptionStyleModel",
      "state": {
       "_model_module": "@jupyter-widgets/controls",
       "_model_module_version": "1.5.0",
       "_model_name": "DescriptionStyleModel",
       "_view_count": null,
       "_view_module": "@jupyter-widgets/base",
       "_view_module_version": "1.2.0",
       "_view_name": "StyleView",
       "description_width": ""
      }
     },
     "fbd5ea60dd3844a9b8af38da93abdef1": {
      "model_module": "@jupyter-widgets/base",
      "model_module_version": "1.2.0",
      "model_name": "LayoutModel",
      "state": {
       "_model_module": "@jupyter-widgets/base",
       "_model_module_version": "1.2.0",
       "_model_name": "LayoutModel",
       "_view_count": null,
       "_view_module": "@jupyter-widgets/base",
       "_view_module_version": "1.2.0",
       "_view_name": "LayoutView",
       "align_content": null,
       "align_items": null,
       "align_self": null,
       "border": null,
       "bottom": null,
       "display": null,
       "flex": null,
       "flex_flow": null,
       "grid_area": null,
       "grid_auto_columns": null,
       "grid_auto_flow": null,
       "grid_auto_rows": null,
       "grid_column": null,
       "grid_gap": null,
       "grid_row": null,
       "grid_template_areas": null,
       "grid_template_columns": null,
       "grid_template_rows": null,
       "height": null,
       "justify_content": null,
       "justify_items": null,
       "left": null,
       "margin": null,
       "max_height": null,
       "max_width": null,
       "min_height": null,
       "min_width": null,
       "object_fit": null,
       "object_position": null,
       "order": null,
       "overflow": null,
       "overflow_x": null,
       "overflow_y": null,
       "padding": null,
       "right": null,
       "top": null,
       "visibility": null,
       "width": null
      }
     }
    },
    "version_major": 2,
    "version_minor": 0
   }
  }
 },
 "nbformat": 4,
 "nbformat_minor": 5
}
