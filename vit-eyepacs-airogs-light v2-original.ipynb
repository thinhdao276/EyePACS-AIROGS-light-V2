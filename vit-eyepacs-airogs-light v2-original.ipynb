{
 "cells": [
  {
   "cell_type": "code",
   "execution_count": 2,
   "id": "0a7463c5",
   "metadata": {
    "execution": {
     "iopub.execute_input": "2024-06-14T01:19:10.108469Z",
     "iopub.status.busy": "2024-06-14T01:19:10.108029Z",
     "iopub.status.idle": "2024-06-14T01:19:13.779062Z",
     "shell.execute_reply": "2024-06-14T01:19:13.778147Z"
    },
    "papermill": {
     "duration": 3.686236,
     "end_time": "2024-06-14T01:19:13.781754",
     "exception": false,
     "start_time": "2024-06-14T01:19:10.095518",
     "status": "completed"
    },
    "tags": []
   },
   "outputs": [],
   "source": [
    "import pandas as pd\n",
    "import matplotlib.pyplot as plt\n",
    "from pathlib import Path\n",
    "from sklearn.model_selection import train_test_split, StratifiedKFold\n",
    "from sklearn.preprocessing import LabelEncoder\n",
    "from sklearn.metrics import classification_report, f1_score, recall_score, precision_score\n",
    "from torch.utils.data import DataLoader, Dataset\n",
    "from torch.utils.data import RandomSampler\n",
    "from PIL import Image\n",
    "import cv2\n",
    "import torch\n",
    "import torch.nn as nn\n",
    "import torchvision.transforms as transforms\n",
    "from torchvision import transforms\n",
    "import torchvision.models as models\n",
    "from torchvision import models\n",
    "from torchvision.utils import make_grid\n",
    "from torchvision.datasets import ImageFolder\n",
    "import torch.nn.functional as F\n",
    "import timm\n",
    "import albumentations\n",
    "from albumentations.pytorch import ToTensorV2\n",
    "import numpy as np\n",
    "from tqdm import tqdm\n",
    "from sklearn.metrics import confusion_matrix\n",
    "\n",
    "from IPython.display import display, HTML\n",
    "import warnings\n",
    "warnings.filterwarnings(\"ignore\")"
   ]
  },
  {
   "cell_type": "markdown",
   "id": "0a6f4a3f",
   "metadata": {
    "papermill": {
     "duration": 0.012126,
     "end_time": "2024-06-14T01:19:13.810715",
     "exception": false,
     "start_time": "2024-06-14T01:19:13.798589",
     "status": "completed"
    },
    "tags": []
   },
   "source": [
    "### Pick cropped dataset"
   ]
  },
  {
   "cell_type": "code",
   "execution_count": 3,
   "id": "ac8a6a7c",
   "metadata": {
    "execution": {
     "iopub.execute_input": "2024-06-14T01:19:13.836269Z",
     "iopub.status.busy": "2024-06-14T01:19:13.835393Z",
     "iopub.status.idle": "2024-06-14T01:19:13.845001Z",
     "shell.execute_reply": "2024-06-14T01:19:13.844013Z"
    },
    "papermill": {
     "duration": 0.024875,
     "end_time": "2024-06-14T01:19:13.846998",
     "exception": false,
     "start_time": "2024-06-14T01:19:13.822123",
     "status": "completed"
    },
    "tags": []
   },
   "outputs": [
    {
     "data": {
      "text/plain": [
       "'/kaggle/input/eyepacs-airogs-light/release-crop/release-crop/'"
      ]
     },
     "execution_count": 3,
     "metadata": {},
     "output_type": "execute_result"
    }
   ],
   "source": [
    "class config:\n",
    "    root_path = '/kaggle/input/glaucoma-dataset-eyepacs-airogs-light-v2/eyepac-light-v2-512-jpg'\n",
    "    train_path = root_path + '/train'\n",
    "    test_path = root_path + '/test'\n",
    "    valid_path = root_path + '/validation'\n",
    "    output_path = \"/kaggle/working/\"\n",
    "    batch_size = 16\n",
    "    lr = 1e-3\n",
    "    seed = 1\n",
    "    num_epochs = 40\n",
    "    model_names = 'vit_base_patch8_224'\n",
    "    \n",
    "config.root_path"
   ]
  },
  {
   "cell_type": "code",
   "execution_count": 4,
   "id": "f701b7cc",
   "metadata": {
    "execution": {
     "iopub.execute_input": "2024-06-14T01:19:13.871822Z",
     "iopub.status.busy": "2024-06-14T01:19:13.871248Z",
     "iopub.status.idle": "2024-06-14T01:19:25.837575Z",
     "shell.execute_reply": "2024-06-14T01:19:25.836489Z"
    },
    "papermill": {
     "duration": 11.98117,
     "end_time": "2024-06-14T01:19:25.840044",
     "exception": false,
     "start_time": "2024-06-14T01:19:13.858874",
     "status": "completed"
    },
    "tags": []
   },
   "outputs": [],
   "source": [
    "def get_df(path): \n",
    "    paths = Path(path).rglob(\"*.jpg\")\n",
    "    files = [str(path) for path in paths]\n",
    "    labels = [file.split('/')[-2] for file in files]\n",
    "    \n",
    "    df = pd.DataFrame()\n",
    "    df['path'] = files\n",
    "    df['label'] = labels\n",
    "    df['label'] = df['label'].map({'RG':1, 'NRG': 0})\n",
    "    return df\n",
    "\n",
    "# Assuming CFG.path_to_data is set to the correct data path, the following lines will create your dataframes:\n",
    "train_df = get_df(config.train_path)\n",
    "valid_df = get_df(config.valid_path)\n",
    "test_df = get_df(config.test_path)"
   ]
  },
  {
   "cell_type": "code",
   "execution_count": 5,
   "id": "71ff2ec7",
   "metadata": {
    "execution": {
     "iopub.execute_input": "2024-06-14T01:19:25.864970Z",
     "iopub.status.busy": "2024-06-14T01:19:25.864652Z",
     "iopub.status.idle": "2024-06-14T01:19:25.879807Z",
     "shell.execute_reply": "2024-06-14T01:19:25.878952Z"
    },
    "papermill": {
     "duration": 0.029964,
     "end_time": "2024-06-14T01:19:25.881789",
     "exception": false,
     "start_time": "2024-06-14T01:19:25.851825",
     "status": "completed"
    },
    "tags": []
   },
   "outputs": [
    {
     "data": {
      "text/html": [
       "<div>\n",
       "<style scoped>\n",
       "    .dataframe tbody tr th:only-of-type {\n",
       "        vertical-align: middle;\n",
       "    }\n",
       "\n",
       "    .dataframe tbody tr th {\n",
       "        vertical-align: top;\n",
       "    }\n",
       "\n",
       "    .dataframe thead th {\n",
       "        text-align: right;\n",
       "    }\n",
       "</style>\n",
       "<table border=\"1\" class=\"dataframe\">\n",
       "  <thead>\n",
       "    <tr style=\"text-align: right;\">\n",
       "      <th></th>\n",
       "      <th>path</th>\n",
       "      <th>label</th>\n",
       "    </tr>\n",
       "  </thead>\n",
       "  <tbody>\n",
       "    <tr>\n",
       "      <th>0</th>\n",
       "      <td>/kaggle/input/eyepacs-airogs-light/release-cro...</td>\n",
       "      <td>1</td>\n",
       "    </tr>\n",
       "    <tr>\n",
       "      <th>1</th>\n",
       "      <td>/kaggle/input/eyepacs-airogs-light/release-cro...</td>\n",
       "      <td>1</td>\n",
       "    </tr>\n",
       "    <tr>\n",
       "      <th>2</th>\n",
       "      <td>/kaggle/input/eyepacs-airogs-light/release-cro...</td>\n",
       "      <td>1</td>\n",
       "    </tr>\n",
       "    <tr>\n",
       "      <th>3</th>\n",
       "      <td>/kaggle/input/eyepacs-airogs-light/release-cro...</td>\n",
       "      <td>1</td>\n",
       "    </tr>\n",
       "    <tr>\n",
       "      <th>4</th>\n",
       "      <td>/kaggle/input/eyepacs-airogs-light/release-cro...</td>\n",
       "      <td>1</td>\n",
       "    </tr>\n",
       "    <tr>\n",
       "      <th>...</th>\n",
       "      <td>...</td>\n",
       "      <td>...</td>\n",
       "    </tr>\n",
       "    <tr>\n",
       "      <th>4995</th>\n",
       "      <td>/kaggle/input/eyepacs-airogs-light/release-cro...</td>\n",
       "      <td>0</td>\n",
       "    </tr>\n",
       "    <tr>\n",
       "      <th>4996</th>\n",
       "      <td>/kaggle/input/eyepacs-airogs-light/release-cro...</td>\n",
       "      <td>0</td>\n",
       "    </tr>\n",
       "    <tr>\n",
       "      <th>4997</th>\n",
       "      <td>/kaggle/input/eyepacs-airogs-light/release-cro...</td>\n",
       "      <td>0</td>\n",
       "    </tr>\n",
       "    <tr>\n",
       "      <th>4998</th>\n",
       "      <td>/kaggle/input/eyepacs-airogs-light/release-cro...</td>\n",
       "      <td>0</td>\n",
       "    </tr>\n",
       "    <tr>\n",
       "      <th>4999</th>\n",
       "      <td>/kaggle/input/eyepacs-airogs-light/release-cro...</td>\n",
       "      <td>0</td>\n",
       "    </tr>\n",
       "  </tbody>\n",
       "</table>\n",
       "<p>5000 rows × 2 columns</p>\n",
       "</div>"
      ],
      "text/plain": [
       "                                                   path  label\n",
       "0     /kaggle/input/eyepacs-airogs-light/release-cro...      1\n",
       "1     /kaggle/input/eyepacs-airogs-light/release-cro...      1\n",
       "2     /kaggle/input/eyepacs-airogs-light/release-cro...      1\n",
       "3     /kaggle/input/eyepacs-airogs-light/release-cro...      1\n",
       "4     /kaggle/input/eyepacs-airogs-light/release-cro...      1\n",
       "...                                                 ...    ...\n",
       "4995  /kaggle/input/eyepacs-airogs-light/release-cro...      0\n",
       "4996  /kaggle/input/eyepacs-airogs-light/release-cro...      0\n",
       "4997  /kaggle/input/eyepacs-airogs-light/release-cro...      0\n",
       "4998  /kaggle/input/eyepacs-airogs-light/release-cro...      0\n",
       "4999  /kaggle/input/eyepacs-airogs-light/release-cro...      0\n",
       "\n",
       "[5000 rows x 2 columns]"
      ]
     },
     "execution_count": 5,
     "metadata": {},
     "output_type": "execute_result"
    }
   ],
   "source": [
    "train_df"
   ]
  },
  {
   "cell_type": "code",
   "execution_count": 6,
   "id": "e5a56af1",
   "metadata": {
    "execution": {
     "iopub.execute_input": "2024-06-14T01:19:25.906835Z",
     "iopub.status.busy": "2024-06-14T01:19:25.906579Z",
     "iopub.status.idle": "2024-06-14T01:19:25.918987Z",
     "shell.execute_reply": "2024-06-14T01:19:25.918205Z"
    },
    "papermill": {
     "duration": 0.027233,
     "end_time": "2024-06-14T01:19:25.920758",
     "exception": false,
     "start_time": "2024-06-14T01:19:25.893525",
     "status": "completed"
    },
    "tags": []
   },
   "outputs": [],
   "source": [
    "from PIL import Image\n",
    "import os\n",
    "import torch\n",
    "from sklearn.model_selection import train_test_split\n",
    "\n",
    "    \n",
    "# define a data class\n",
    "class ClassificationDataset:\n",
    "    def __init__(self, data, data_path, transform, training=True):\n",
    "        \"\"\"Define the dataset for classification problems\n",
    "\n",
    "        Args:\n",
    "            data ([dataframe]): [a dataframe that contain 2 columns: image name and label]\n",
    "            data_path ([str]): [path/to/folder that contains image file]\n",
    "            transform : [augmentation methods and transformation of images]\n",
    "            training (bool, optional): []. Defaults to True.\n",
    "        \"\"\"\n",
    "        self.data = data\n",
    "        self.imgs = data[\"path\"].unique().tolist()\n",
    "        self.data_path = data_path\n",
    "        self.training = training\n",
    "        self.transform = transform\n",
    "\n",
    "    def __getitem__(self, idx):\n",
    "        img = Image.open(os.path.join(self.data_path, self.data.iloc[idx, 0]))\n",
    "        if(self.training):\n",
    "            label = self.data.iloc[idx, 1]\n",
    "        if self.transform is not None:\n",
    "            img = self.transform(img)\n",
    "        if(self.training):\n",
    "            return img, label\n",
    "        else:\n",
    "            return img\n",
    "\n",
    "    def __len__(self):\n",
    "        return len(self.imgs)\n",
    "\n",
    "\n",
    "def make_loader(dataset, train_batch_size, validation_split=0.2):\n",
    "    \"\"\"make dataloader for pytorch training\n",
    "\n",
    "    Args:\n",
    "        dataset ([object]): [the dataset object]\n",
    "        train_batch_size ([int]): [training batch size]\n",
    "        validation_split (float, optional): [validation ratio]. Defaults to 0.2.\n",
    "\n",
    "    Returns:\n",
    "        [type]: [description]\n",
    "    \"\"\"\n",
    "    # number of samples in train and test set\n",
    "    train_len = int(len(dataset) * (1 - validation_split))\n",
    "    test_len = len(dataset) - train_len\n",
    "    train_set, test_set = torch.utils.data.random_split(dataset, [train_len, test_len])\n",
    "    # create train_loader\n",
    "    print(len(train_set))\n",
    "    train_loader = torch.utils.data.DataLoader(\n",
    "        train_set, batch_size=train_batch_size, shuffle=True,\n",
    "    )\n",
    "    # create test_loader\n",
    "    test_loader = torch.utils.data.DataLoader(test_set, batch_size=1, shuffle=False,)\n",
    "    return train_loader, test_loader\n",
    "\n",
    "\n",
    "def data_split(data, test_size):\n",
    "    x_train, x_test, y_train, y_test = train_test_split(\n",
    "        data, data[\"label\"], test_size=test_size, stratify = data.iloc[:,1]\n",
    "    )\n",
    "    return x_train, x_test, y_train, y_test"
   ]
  },
  {
   "cell_type": "markdown",
   "id": "dcd467e7",
   "metadata": {
    "papermill": {
     "duration": 0.011729,
     "end_time": "2024-06-14T01:19:25.944050",
     "exception": false,
     "start_time": "2024-06-14T01:19:25.932321",
     "status": "completed"
    },
    "tags": []
   },
   "source": [
    "# 1. Define DataLoader"
   ]
  },
  {
   "cell_type": "code",
   "execution_count": 7,
   "id": "c0996dc9",
   "metadata": {
    "execution": {
     "iopub.execute_input": "2024-06-14T01:19:25.968629Z",
     "iopub.status.busy": "2024-06-14T01:19:25.968371Z",
     "iopub.status.idle": "2024-06-14T01:19:25.972329Z",
     "shell.execute_reply": "2024-06-14T01:19:25.971517Z"
    },
    "papermill": {
     "duration": 0.018503,
     "end_time": "2024-06-14T01:19:25.974120",
     "exception": false,
     "start_time": "2024-06-14T01:19:25.955617",
     "status": "completed"
    },
    "tags": []
   },
   "outputs": [],
   "source": [
    "mean = (0.5, 0.5, 0.5)\n",
    "std = (0.5, 0.5, 0.5)"
   ]
  },
  {
   "cell_type": "code",
   "execution_count": 8,
   "id": "5b6e9000",
   "metadata": {
    "execution": {
     "iopub.execute_input": "2024-06-14T01:19:25.998858Z",
     "iopub.status.busy": "2024-06-14T01:19:25.998591Z",
     "iopub.status.idle": "2024-06-14T01:19:26.003244Z",
     "shell.execute_reply": "2024-06-14T01:19:26.002403Z"
    },
    "papermill": {
     "duration": 0.019116,
     "end_time": "2024-06-14T01:19:26.005022",
     "exception": false,
     "start_time": "2024-06-14T01:19:25.985906",
     "status": "completed"
    },
    "tags": []
   },
   "outputs": [],
   "source": [
    "import torchvision\n",
    "transform = torchvision.transforms.Compose([torchvision.transforms.Resize((224, 224)),\n",
    "                                               torchvision.transforms.ToTensor(),\n",
    "                                               torchvision.transforms.Normalize(mean, std)])"
   ]
  },
  {
   "cell_type": "code",
   "execution_count": 9,
   "id": "48228c89",
   "metadata": {
    "execution": {
     "iopub.execute_input": "2024-06-14T01:19:26.029853Z",
     "iopub.status.busy": "2024-06-14T01:19:26.029558Z",
     "iopub.status.idle": "2024-06-14T01:19:26.034090Z",
     "shell.execute_reply": "2024-06-14T01:19:26.033268Z"
    },
    "papermill": {
     "duration": 0.019242,
     "end_time": "2024-06-14T01:19:26.035945",
     "exception": false,
     "start_time": "2024-06-14T01:19:26.016703",
     "status": "completed"
    },
    "tags": []
   },
   "outputs": [],
   "source": [
    "test_transform = torchvision.transforms.Compose([torchvision.transforms.Resize((224, 224)),\n",
    "                                               torchvision.transforms.ToTensor(),\n",
    "                                               torchvision.transforms.Normalize(mean, std)])"
   ]
  },
  {
   "cell_type": "code",
   "execution_count": 10,
   "id": "0f5b90ea",
   "metadata": {
    "execution": {
     "iopub.execute_input": "2024-06-14T01:19:26.061313Z",
     "iopub.status.busy": "2024-06-14T01:19:26.061012Z",
     "iopub.status.idle": "2024-06-14T01:19:26.090863Z",
     "shell.execute_reply": "2024-06-14T01:19:26.089890Z"
    },
    "papermill": {
     "duration": 0.044822,
     "end_time": "2024-06-14T01:19:26.092896",
     "exception": false,
     "start_time": "2024-06-14T01:19:26.048074",
     "status": "completed"
    },
    "tags": []
   },
   "outputs": [
    {
     "name": "stdout",
     "output_type": "stream",
     "text": [
      "4000\n"
     ]
    }
   ],
   "source": [
    "dataset = ClassificationDataset(train_df,data_path = \"\",transform=transform,training=True)\n",
    "train_loader,val_loader = make_loader(dataset, train_batch_size=config.batch_size, validation_split=0.2)"
   ]
  },
  {
   "cell_type": "code",
   "execution_count": null,
   "id": "2e24b6c1",
   "metadata": {},
   "outputs": [],
   "source": [
    "import random\n",
    "\n",
    "random_seed = random.randint(0, 128)\n",
    "print(\"Random seed: \",random_seed)"
   ]
  },
  {
   "cell_type": "code",
   "execution_count": 11,
   "id": "39de4837",
   "metadata": {
    "execution": {
     "iopub.execute_input": "2024-06-14T01:19:26.118303Z",
     "iopub.status.busy": "2024-06-14T01:19:26.117741Z",
     "iopub.status.idle": "2024-06-14T01:19:26.128542Z",
     "shell.execute_reply": "2024-06-14T01:19:26.127847Z"
    },
    "papermill": {
     "duration": 0.025637,
     "end_time": "2024-06-14T01:19:26.130479",
     "exception": false,
     "start_time": "2024-06-14T01:19:26.104842",
     "status": "completed"
    },
    "tags": []
   },
   "outputs": [],
   "source": [
    " X_train, X_test, y_train, y_test = train_test_split(train_df, train_df['label'],stratify=train_df['label'], test_size=0.2, random_state=random_seed)"
   ]
  },
  {
   "cell_type": "code",
   "execution_count": 12,
   "id": "d618c99c",
   "metadata": {
    "execution": {
     "iopub.execute_input": "2024-06-14T01:19:26.155086Z",
     "iopub.status.busy": "2024-06-14T01:19:26.154846Z",
     "iopub.status.idle": "2024-06-14T01:19:26.161101Z",
     "shell.execute_reply": "2024-06-14T01:19:26.160404Z"
    },
    "papermill": {
     "duration": 0.020668,
     "end_time": "2024-06-14T01:19:26.163003",
     "exception": false,
     "start_time": "2024-06-14T01:19:26.142335",
     "status": "completed"
    },
    "tags": []
   },
   "outputs": [],
   "source": [
    "train_dataset = ClassificationDataset(X_train,data_path = \"\",transform=transform,training=True)\n",
    "val_dataset = ClassificationDataset(X_test,data_path = \"\",transform=test_transform,training=True)"
   ]
  },
  {
   "cell_type": "code",
   "execution_count": 13,
   "id": "810d5fb8",
   "metadata": {
    "execution": {
     "iopub.execute_input": "2024-06-14T01:19:26.187516Z",
     "iopub.status.busy": "2024-06-14T01:19:26.187237Z",
     "iopub.status.idle": "2024-06-14T01:19:26.192221Z",
     "shell.execute_reply": "2024-06-14T01:19:26.191233Z"
    },
    "papermill": {
     "duration": 0.020165,
     "end_time": "2024-06-14T01:19:26.194770",
     "exception": false,
     "start_time": "2024-06-14T01:19:26.174605",
     "status": "completed"
    },
    "tags": []
   },
   "outputs": [],
   "source": [
    "train_loader = torch.utils.data.DataLoader(\n",
    "        train_dataset, batch_size=config.batch_size, shuffle=True,\n",
    "    )\n",
    "    # create test_loader\n",
    "val_loader = torch.utils.data.DataLoader(val_dataset, batch_size=1, shuffle=False)"
   ]
  },
  {
   "cell_type": "code",
   "execution_count": 14,
   "id": "dbf8a212",
   "metadata": {
    "execution": {
     "iopub.execute_input": "2024-06-14T01:19:26.220174Z",
     "iopub.status.busy": "2024-06-14T01:19:26.219894Z",
     "iopub.status.idle": "2024-06-14T01:19:26.224956Z",
     "shell.execute_reply": "2024-06-14T01:19:26.224137Z"
    },
    "papermill": {
     "duration": 0.019898,
     "end_time": "2024-06-14T01:19:26.226801",
     "exception": false,
     "start_time": "2024-06-14T01:19:26.206903",
     "status": "completed"
    },
    "tags": []
   },
   "outputs": [],
   "source": [
    "testset = ClassificationDataset(test_df,data_path = \"\",transform=test_transform,training=False)\n",
    "test_loader = torch.utils.data.DataLoader(\n",
    "        testset, batch_size=1, shuffle=False,\n",
    "    )"
   ]
  },
  {
   "cell_type": "code",
   "execution_count": 15,
   "id": "7580c7bd",
   "metadata": {
    "execution": {
     "iopub.execute_input": "2024-06-14T01:19:26.251505Z",
     "iopub.status.busy": "2024-06-14T01:19:26.251228Z",
     "iopub.status.idle": "2024-06-14T01:19:35.201925Z",
     "shell.execute_reply": "2024-06-14T01:19:35.201062Z"
    },
    "papermill": {
     "duration": 8.965859,
     "end_time": "2024-06-14T01:19:35.204503",
     "exception": false,
     "start_time": "2024-06-14T01:19:26.238644",
     "status": "completed"
    },
    "tags": []
   },
   "outputs": [
    {
     "name": "stderr",
     "output_type": "stream",
     "text": [
      "100%|██████████| 1000/1000 [00:08<00:00, 112.35it/s]\n"
     ]
    }
   ],
   "source": [
    "from tqdm import tqdm\n",
    "psum    = torch.tensor([0.0, 0.0, 0.0])\n",
    "psum_sq = torch.tensor([0.0, 0.0, 0.0])\n",
    "\n",
    "# loop through images\n",
    "for inputs in tqdm(test_loader):\n",
    "    psum    += inputs.sum(axis        = [0, 2, 3])\n",
    "    psum_sq += (inputs ** 2).sum(axis = [0, 2, 3])\n",
    "\n",
    "count = len(test_df) * 224 * 224\n",
    "\n",
    "# mean and std\n",
    "test_mean = psum / count\n",
    "test_var  = (psum_sq / count) - (test_mean ** 2)\n",
    "test_std  = torch.sqrt(test_var)"
   ]
  },
  {
   "cell_type": "code",
   "execution_count": 16,
   "id": "c55fd600",
   "metadata": {
    "execution": {
     "iopub.execute_input": "2024-06-14T01:19:35.244756Z",
     "iopub.status.busy": "2024-06-14T01:19:35.243928Z",
     "iopub.status.idle": "2024-06-14T01:20:11.370877Z",
     "shell.execute_reply": "2024-06-14T01:20:11.369853Z"
    },
    "papermill": {
     "duration": 36.149927,
     "end_time": "2024-06-14T01:20:11.373135",
     "exception": false,
     "start_time": "2024-06-14T01:19:35.223208",
     "status": "completed"
    },
    "tags": []
   },
   "outputs": [
    {
     "name": "stderr",
     "output_type": "stream",
     "text": [
      "100%|██████████| 250/250 [00:36<00:00,  6.92it/s]\n"
     ]
    }
   ],
   "source": [
    "psum    = torch.tensor([0.0, 0.0, 0.0])\n",
    "psum_sq = torch.tensor([0.0, 0.0, 0.0])\n",
    "\n",
    "# loop through images\n",
    "for inputs,_ in tqdm(train_loader):\n",
    "    psum    += inputs.sum(axis        = [0, 2, 3])\n",
    "    psum_sq += (inputs ** 2).sum(axis = [0, 2, 3])\n",
    "\n",
    "count = len(train_loader) * 224 * 224\n",
    "\n",
    "# mean and std\n",
    "train_mean = psum / count\n",
    "train_var  = (psum_sq / count) - (train_mean ** 2)\n",
    "train_std  = torch.sqrt(train_var)"
   ]
  },
  {
   "cell_type": "code",
   "execution_count": 17,
   "id": "9438acf3",
   "metadata": {
    "execution": {
     "iopub.execute_input": "2024-06-14T01:20:11.450997Z",
     "iopub.status.busy": "2024-06-14T01:20:11.450680Z",
     "iopub.status.idle": "2024-06-14T01:20:11.457297Z",
     "shell.execute_reply": "2024-06-14T01:20:11.456412Z"
    },
    "papermill": {
     "duration": 0.047834,
     "end_time": "2024-06-14T01:20:11.459129",
     "exception": false,
     "start_time": "2024-06-14T01:20:11.411295",
     "status": "completed"
    },
    "tags": []
   },
   "outputs": [],
   "source": [
    "def imshow(inp, title=None):\n",
    "    \"\"\"Imshow for Tensor.\"\"\"\n",
    "    inp = inp.numpy().transpose((1, 2, 0))\n",
    "    mean = np.array([0.485, 0.456, 0.406])\n",
    "    std = np.array([0.229, 0.224, 0.225])\n",
    "    inp = std * inp + mean\n",
    "    inp = np.clip(inp, 0, 1)\n",
    "    plt.figure(figsize = (12, 12))\n",
    "    plt.imshow(inp)\n",
    "    if title is not None:\n",
    "        plt.title(title)\n",
    "    plt.axis(\"off\")\n",
    "    plt.pause(0.001)"
   ]
  },
  {
   "cell_type": "code",
   "execution_count": 18,
   "id": "ecaddaf8",
   "metadata": {
    "execution": {
     "iopub.execute_input": "2024-06-14T01:20:11.536903Z",
     "iopub.status.busy": "2024-06-14T01:20:11.536124Z",
     "iopub.status.idle": "2024-06-14T01:20:12.206267Z",
     "shell.execute_reply": "2024-06-14T01:20:12.205341Z"
    },
    "papermill": {
     "duration": 0.71062,
     "end_time": "2024-06-14T01:20:12.208306",
     "exception": false,
     "start_time": "2024-06-14T01:20:11.497686",
     "status": "completed"
    },
    "tags": []
   },
   "outputs": [
    {
     "data": {
      "image/png": "[encoded data removed]",
      "text/plain": [
       "<Figure size 1200x1200 with 1 Axes>"
      ]
     },
     "metadata": {},
     "output_type": "display_data"
    }
   ],
   "source": [
    "import matplotlib.pyplot as plt\n",
    "\n",
    "%matplotlib inline\n",
    "# Visualization\n",
    "images, classes = next(iter(train_loader))\n",
    "# Make a grid from batch\n",
    "out = torchvision.utils.make_grid(images, nrow=8)\n",
    "imshow(out, title=classes)"
   ]
  },
  {
   "cell_type": "markdown",
   "id": "e5e70322",
   "metadata": {
    "papermill": {
     "duration": 0.040821,
     "end_time": "2024-06-14T01:20:12.290749",
     "exception": false,
     "start_time": "2024-06-14T01:20:12.249928",
     "status": "completed"
    },
    "tags": []
   },
   "source": [
    "# 2. Define Metrics and Optimizers and Loss function\n"
   ]
  },
  {
   "cell_type": "code",
   "execution_count": 19,
   "id": "d605cf77",
   "metadata": {
    "execution": {
     "iopub.execute_input": "2024-06-14T01:20:12.377365Z",
     "iopub.status.busy": "2024-06-14T01:20:12.376649Z",
     "iopub.status.idle": "2024-06-14T01:20:12.385980Z",
     "shell.execute_reply": "2024-06-14T01:20:12.385150Z"
    },
    "papermill": {
     "duration": 0.055238,
     "end_time": "2024-06-14T01:20:12.387908",
     "exception": false,
     "start_time": "2024-06-14T01:20:12.332670",
     "status": "completed"
    },
    "tags": []
   },
   "outputs": [],
   "source": [
    "from sklearn import metrics as skmetrics\n",
    "import numpy\n",
    "class Metrics:\n",
    "    def __init__(self, metric_names):\n",
    "        self.metric_names = metric_names\n",
    "        # initialize a metric dictionary\n",
    "        self.metric_dict = {metric_name: [0] for metric_name in self.metric_names}\n",
    "\n",
    "    def step(self, labels, preds):\n",
    "        for metric in self.metric_names:\n",
    "            # get the metric function\n",
    "            do_metric = getattr(\n",
    "                skmetrics, metric, \"The metric {} is not implemented\".format(metric)\n",
    "            )\n",
    "            # check if metric require average method, if yes set to 'micro' or 'macro' or 'None'\n",
    "            try:\n",
    "                self.metric_dict[metric].append(\n",
    "                    do_metric(labels, preds, average=\"macro\")\n",
    "                )\n",
    "            except:\n",
    "                self.metric_dict[metric].append(do_metric(labels, preds))\n",
    "\n",
    "    def epoch(self):\n",
    "        # calculate metrics for an entire epoch\n",
    "        avg = [sum(metric) / (len(metric) - 1) for metric in self.metric_dict.values()]\n",
    "        metric_as_dict = dict(zip(self.metric_names, avg))\n",
    "        return metric_as_dict\n",
    "\n",
    "    def last_step_metrics(self):\n",
    "        # return metrics of last steps\n",
    "        values = [self.metric_dict[metric][-1] for metric in self.metric_names]\n",
    "        metric_as_dict = dict(zip(self.metric_names, values))\n",
    "        return metric_as_dict"
   ]
  },
  {
   "cell_type": "code",
   "execution_count": 20,
   "id": "80daea11",
   "metadata": {
    "execution": {
     "iopub.execute_input": "2024-06-14T01:20:12.514039Z",
     "iopub.status.busy": "2024-06-14T01:20:12.513696Z",
     "iopub.status.idle": "2024-06-14T01:20:12.518153Z",
     "shell.execute_reply": "2024-06-14T01:20:12.517296Z"
    },
    "papermill": {
     "duration": 0.048819,
     "end_time": "2024-06-14T01:20:12.520268",
     "exception": false,
     "start_time": "2024-06-14T01:20:12.471449",
     "status": "completed"
    },
    "tags": []
   },
   "outputs": [],
   "source": [
    "train_metrics = Metrics([\"accuracy_score\",\"f1_score\"])\n",
    "val_metrics = Metrics([\"accuracy_score\",\"f1_score\"])"
   ]
  },
  {
   "cell_type": "code",
   "execution_count": 21,
   "id": "2a609c97",
   "metadata": {
    "execution": {
     "iopub.execute_input": "2024-06-14T01:20:12.603939Z",
     "iopub.status.busy": "2024-06-14T01:20:12.603641Z",
     "iopub.status.idle": "2024-06-14T01:20:12.664425Z",
     "shell.execute_reply": "2024-06-14T01:20:12.663479Z"
    },
    "papermill": {
     "duration": 0.104988,
     "end_time": "2024-06-14T01:20:12.666382",
     "exception": false,
     "start_time": "2024-06-14T01:20:12.561394",
     "status": "completed"
    },
    "tags": []
   },
   "outputs": [],
   "source": [
    "device = torch.device(\"cuda:0\" if torch.cuda.is_available() else \"cpu\")\n",
    "criterion = nn.CrossEntropyLoss()"
   ]
  },
  {
   "cell_type": "markdown",
   "id": "79b868de",
   "metadata": {
    "papermill": {
     "duration": 0.040696,
     "end_time": "2024-06-14T01:20:12.838079",
     "exception": false,
     "start_time": "2024-06-14T01:20:12.797383",
     "status": "completed"
    },
    "tags": []
   },
   "source": [
    "4. Define the Model: Transfer Learning\n"
   ]
  },
  {
   "cell_type": "code",
   "execution_count": 25,
   "id": "bdf8e696",
   "metadata": {
    "execution": {
     "iopub.execute_input": "2024-06-14T01:20:16.611599Z",
     "iopub.status.busy": "2024-06-14T01:20:16.611157Z",
     "iopub.status.idle": "2024-06-14T01:20:16.622640Z",
     "shell.execute_reply": "2024-06-14T01:20:16.621331Z"
    },
    "papermill": {
     "duration": 0.06485,
     "end_time": "2024-06-14T01:20:16.626323",
     "exception": false,
     "start_time": "2024-06-14T01:20:16.561473",
     "status": "completed"
    },
    "tags": []
   },
   "outputs": [],
   "source": [
    "model = timm.create_model(config.model_names, pretrained=True)\n",
    "for param in model.parameters():\n",
    "    param.requires_grad = True\n",
    "classifier = nn.Sequential(\n",
    "    nn.Linear(in_features=model.head.in_features, out_features=256, bias=True),\n",
    "    nn.Linear(in_features=256, out_features=2, bias=True)\n",
    ")\n",
    "model.head = classifier\n",
    "\n",
    "optimizer = torch.optim.Adam(model.parameters(), lr=0.01)\n",
    "scheduler = torch.optim.lr_scheduler.ReduceLROnPlateau(\n",
    "        optimizer, \"min\", patience=2, factor=0.5\n",
    "    )\n",
    "\n",
    "\n",
    "model = model.to(device)"
   ]
  },
  {
   "cell_type": "markdown",
   "id": "c8a0b6e7",
   "metadata": {
    "papermill": {
     "duration": 0.041594,
     "end_time": "2024-06-14T01:20:16.834647",
     "exception": false,
     "start_time": "2024-06-14T01:20:16.793053",
     "status": "completed"
    },
    "tags": []
   },
   "source": [
    "# 3. Define a training epoch\n"
   ]
  },
  {
   "cell_type": "code",
   "execution_count": 28,
   "id": "3d8b94b0",
   "metadata": {
    "execution": {
     "iopub.execute_input": "2024-06-14T01:20:17.235369Z",
     "iopub.status.busy": "2024-06-14T01:20:17.234978Z",
     "iopub.status.idle": "2024-06-14T01:20:17.248348Z",
     "shell.execute_reply": "2024-06-14T01:20:17.247444Z"
    },
    "papermill": {
     "duration": 0.059821,
     "end_time": "2024-06-14T01:20:17.250400",
     "exception": false,
     "start_time": "2024-06-14T01:20:17.190579",
     "status": "completed"
    },
    "tags": []
   },
   "outputs": [],
   "source": [
    "def train_one_epoch(\n",
    "    model,\n",
    "    train_loader,\n",
    "    test_loader,\n",
    "    device,\n",
    "    optimizer,\n",
    "    criterion,\n",
    "    train_metrics,\n",
    "    val_metrics,\n",
    "):\n",
    "\n",
    "    # training-the-model\n",
    "    train_loss = 0\n",
    "    valid_loss = 0\n",
    "    all_labels = []\n",
    "    all_preds = []\n",
    "    model.train()\n",
    "    for data, target in train_loader:\n",
    "        # move-tensors-to-GPU\n",
    "        data = data.type(torch.FloatTensor).to(device)\n",
    "        # target=torch.Tensor(target)\n",
    "        target = target.float().to(device)\n",
    "        # clear-the-gradients-of-all-optimized-variables\n",
    "        optimizer.zero_grad()\n",
    "        # forward-pass: compute-predicted-outputs-by-passing-inputs-to-the-model\n",
    "        output = model(data)\n",
    "        # get the prediction label and target label\n",
    "        output = model(data)\n",
    "        preds = torch.argmax(output, axis=1).cpu().detach().numpy()\n",
    "        labels = target.cpu().numpy()\n",
    "        # calculate-the-batch-loss\n",
    "        loss = criterion(output.type(torch.FloatTensor).to(device), target.type(torch.LongTensor).to(device))\n",
    "        # backward-pass: compute-gradient-of-the-loss-wrt-model-parameters\n",
    "        loss.backward()\n",
    "        # perform-a-ingle-optimization-step (parameter-update)\n",
    "        optimizer.step()\n",
    "        # update-training-loss\n",
    "        train_loss += loss.item() * data.size(0)\n",
    "        # calculate training metrics\n",
    "        all_labels.extend(labels)\n",
    "        all_preds.extend(preds)\n",
    "    \n",
    "    train_metrics.step(all_labels, all_preds)\n",
    "\n",
    "    # validate-the-model\n",
    "    model.eval()\n",
    "    all_labels = []\n",
    "    all_preds = []\n",
    "    for data, target in test_loader:\n",
    "        data = data.type(torch.FloatTensor).to(device)\n",
    "        target = target.to(device)\n",
    "        output = model(data)\n",
    "        preds = torch.argmax(output, axis=1).tolist()\n",
    "        labels = target.tolist()\n",
    "        all_labels.extend(labels)\n",
    "        all_preds.extend(preds)\n",
    "        loss = criterion(output, target)\n",
    "\n",
    "        # update-average-validation-loss\n",
    "        valid_loss += loss.item() * data.size(0)\n",
    "\n",
    "    val_metrics.step(all_labels, all_preds)\n",
    "    train_loss = train_loss / len(train_loader.sampler)\n",
    "    valid_loss = valid_loss / len(test_loader.sampler)\n",
    "\n",
    "    return (\n",
    "        train_loss,\n",
    "        valid_loss,\n",
    "        train_metrics.last_step_metrics(),\n",
    "        val_metrics.last_step_metrics(),\n",
    "    )"
   ]
  },
  {
   "cell_type": "markdown",
   "id": "7fde42cc",
   "metadata": {
    "papermill": {
     "duration": 0.042099,
     "end_time": "2024-06-14T01:20:17.334401",
     "exception": false,
     "start_time": "2024-06-14T01:20:17.292302",
     "status": "completed"
    },
    "tags": []
   },
   "source": [
    "# Training"
   ]
  },
  {
   "cell_type": "code",
   "execution_count": 29,
   "id": "163c89d0",
   "metadata": {
    "execution": {
     "iopub.execute_input": "2024-06-14T01:20:17.422432Z",
     "iopub.status.busy": "2024-06-14T01:20:17.421592Z",
     "iopub.status.idle": "2024-06-14T01:20:17.426091Z",
     "shell.execute_reply": "2024-06-14T01:20:17.425269Z"
    },
    "papermill": {
     "duration": 0.051345,
     "end_time": "2024-06-14T01:20:17.428054",
     "exception": false,
     "start_time": "2024-06-14T01:20:17.376709",
     "status": "completed"
    },
    "tags": []
   },
   "outputs": [],
   "source": [
    "from tqdm import tqdm\n",
    "from datetime import datetime\n",
    "time_str = str(datetime.now().strftime(\"%Y%m%d-%H%M\"))"
   ]
  },
  {
   "cell_type": "code",
   "execution_count": null,
   "id": "fdad2817",
   "metadata": {},
   "outputs": [],
   "source": [
    "for param in model.parameters():\n",
    "    param.requires_grad = True\n",
    "optimizer = torch.optim.Adam(model.parameters(), lr=0.0001, betas=(0.9, 0.999), eps=1e-08, weight_decay=0)\n",
    "# Initialize a new run\n",
    "\n",
    "run = wandb.init(project=\"eyepacs-airogs-light-\", name = \"vit_base_seed_\" + str(random_seed), reinit=True)\n",
    "\n",
    "model = model.to(device)\n",
    "num_epoch = config.num_epochs\n",
    "best_val_acc = 0.0\n",
    "import logging\n",
    "import numpy as np"
   ]
  },
  {
   "cell_type": "code",
   "execution_count": null,
   "id": "bd03085b",
   "metadata": {
    "execution": {
     "iopub.execute_input": "2024-06-14T01:20:17.512691Z",
     "iopub.status.busy": "2024-06-14T01:20:17.512375Z",
     "iopub.status.idle": "2024-06-14T09:43:16.911038Z",
     "shell.execute_reply": "2024-06-14T09:43:16.910080Z"
    },
    "papermill": {
     "duration": 30179.502255,
     "end_time": "2024-06-14T09:43:16.971949",
     "exception": false,
     "start_time": "2024-06-14T01:20:17.469694",
     "status": "completed"
    },
    "tags": []
   },
   "outputs": [],
   "source": [
    "print(\"begin training process\")\n",
    "for i in tqdm(range(0, num_epoch)):\n",
    "    loss, val_loss, train_result, val_result = train_one_epoch(\n",
    "        model,\n",
    "        train_loader,\n",
    "        val_loader,\n",
    "        device,\n",
    "        optimizer,\n",
    "        criterion,\n",
    "        train_metrics,\n",
    "        val_metrics,\n",
    "    )\n",
    "    wandb.log({\n",
    "        \"Epoch\": i + 1,\n",
    "        \"Training Loss\": loss,\n",
    "        \"Validation Loss\": val_loss,\n",
    "        \"Training Accuracy\": train_result[\"accuracy_score\"],\n",
    "        \"Validation Accuracy\": val_result[\"accuracy_score\"],\n",
    "        \"Training F1 Score\": train_result[\"f1_score\"],\n",
    "        \"Validation F1 Score\": val_result[\"f1_score\"]\n",
    "    })\n",
    "    scheduler.step(val_loss)\n",
    "    print(\n",
    "        \"Epoch {} / {} \\n Training loss: {} - Other training metrics: \".format(\n",
    "            i + 1, num_epoch, loss\n",
    "        )\n",
    "    )\n",
    "    print(train_result)\n",
    "    print(\n",
    "        \" \\n Validation loss : {} - Other validation metrics:\".format(val_loss)\n",
    "    )\n",
    "    print(val_result)\n",
    "    print(\"\\n\")\n",
    "    # saving epoch with best validation accuracy\n",
    "    if (loss<0.04):\n",
    "        # no saving\n",
    "        continue\n",
    "    if best_val_acc < float(val_result[\"accuracy_score\"]):\n",
    "        print(\n",
    "            \"Validation accuracy= \"+\n",
    "            str(val_result[\"accuracy_score\"])+\n",
    "            \"===> Save best epoch\"\n",
    "        )\n",
    "        best_val_acc = val_result[\"accuracy_score\"]\n",
    "        torch.save(\n",
    "            model,\n",
    "            \"./\" +  \"best.pt\"\n",
    "        )\n",
    "    else:\n",
    "        print(\n",
    "            \"Validation accuracy= \"+ str(val_result[\"accuracy_score\"])+ \"===> No saving\"\n",
    "        )\n",
    "        continue"
   ]
  },
  {
   "cell_type": "code",
   "execution_count": 31,
   "id": "178ff8b5",
   "metadata": {
    "execution": {
     "iopub.execute_input": "2024-06-14T09:43:17.078517Z",
     "iopub.status.busy": "2024-06-14T09:43:17.077664Z",
     "iopub.status.idle": "2024-06-14T09:43:30.548177Z",
     "shell.execute_reply": "2024-06-14T09:43:30.547227Z"
    },
    "papermill": {
     "duration": 13.526539,
     "end_time": "2024-06-14T09:43:30.550593",
     "exception": false,
     "start_time": "2024-06-14T09:43:17.024054",
     "status": "completed"
    },
    "tags": []
   },
   "outputs": [
    {
     "name": "stdout",
     "output_type": "stream",
     "text": [
      "Collecting lion-pytorch\r\n",
      "  Downloading lion_pytorch-0.1.4-py3-none-any.whl.metadata (618 bytes)\r\n",
      "Requirement already satisfied: torch>=1.6 in /opt/conda/lib/python3.10/site-packages (from lion-pytorch) (2.1.2)\r\n",
      "Requirement already satisfied: filelock in /opt/conda/lib/python3.10/site-packages (from torch>=1.6->lion-pytorch) (3.13.1)\r\n",
      "Requirement already satisfied: typing-extensions in /opt/conda/lib/python3.10/site-packages (from torch>=1.6->lion-pytorch) (4.9.0)\r\n",
      "Requirement already satisfied: sympy in /opt/conda/lib/python3.10/site-packages (from torch>=1.6->lion-pytorch) (1.12.1)\r\n",
      "Requirement already satisfied: networkx in /opt/conda/lib/python3.10/site-packages (from torch>=1.6->lion-pytorch) (3.2.1)\r\n",
      "Requirement already satisfied: jinja2 in /opt/conda/lib/python3.10/site-packages (from torch>=1.6->lion-pytorch) (3.1.2)\r\n",
      "Requirement already satisfied: fsspec in /opt/conda/lib/python3.10/site-packages (from torch>=1.6->lion-pytorch) (2024.3.1)\r\n",
      "Requirement already satisfied: MarkupSafe>=2.0 in /opt/conda/lib/python3.10/site-packages (from jinja2->torch>=1.6->lion-pytorch) (2.1.3)\r\n",
      "Requirement already satisfied: mpmath<1.4.0,>=1.1.0 in /opt/conda/lib/python3.10/site-packages (from sympy->torch>=1.6->lion-pytorch) (1.3.0)\r\n",
      "Downloading lion_pytorch-0.1.4-py3-none-any.whl (4.3 kB)\r\n",
      "Installing collected packages: lion-pytorch\r\n",
      "Successfully installed lion-pytorch-0.1.4\r\n"
     ]
    }
   ],
   "source": [
    "!pip install lion-pytorch\n",
    "from lion_pytorch import Lion\n",
    "optimizer = Lion(model.parameters(), lr=1e-4, weight_decay=1e-2)"
   ]
  },
  {
   "cell_type": "code",
   "execution_count": 32,
   "id": "79efdb50",
   "metadata": {
    "execution": {
     "iopub.execute_input": "2024-06-14T09:43:30.658496Z",
     "iopub.status.busy": "2024-06-14T09:43:30.658109Z",
     "iopub.status.idle": "2024-06-14T09:43:30.878299Z",
     "shell.execute_reply": "2024-06-14T09:43:30.877510Z"
    },
    "papermill": {
     "duration": 0.276098,
     "end_time": "2024-06-14T09:43:30.880685",
     "exception": false,
     "start_time": "2024-06-14T09:43:30.604587",
     "status": "completed"
    },
    "tags": []
   },
   "outputs": [],
   "source": [
    "import copy\n",
    "val_model = torch.load(\"/kaggle/working/best.pt\")\n",
    "val_model = val_model.to(device)"
   ]
  },
  {
   "cell_type": "code",
   "execution_count": 33,
   "id": "c073ec60",
   "metadata": {
    "execution": {
     "iopub.execute_input": "2024-06-14T09:43:30.987988Z",
     "iopub.status.busy": "2024-06-14T09:43:30.987688Z",
     "iopub.status.idle": "2024-06-14T09:43:30.994323Z",
     "shell.execute_reply": "2024-06-14T09:43:30.993469Z"
    },
    "papermill": {
     "duration": 0.062742,
     "end_time": "2024-06-14T09:43:30.996122",
     "exception": false,
     "start_time": "2024-06-14T09:43:30.933380",
     "status": "completed"
    },
    "tags": []
   },
   "outputs": [],
   "source": [
    "def val_result(model, val_loader, device):\n",
    "    # testing the model by turning model \"Eval\" mode\n",
    "    model.eval()\n",
    "    preds = []\n",
    "    labels = []\n",
    "    with torch.no_grad():\n",
    "        for data, target in val_loader:\n",
    "            # move-tensors-to-GPU\n",
    "            data = data.to(device)\n",
    "            target = target.to(device)\n",
    "            # forward-pass: compute-predicted-outputs-by-passing-inputs-to-the-model\n",
    "            output = model(data)\n",
    "            # applying Softmax to results\n",
    "            prob = nn.Softmax(dim=1)\n",
    "            probs = prob(output)\n",
    "            labels.extend(target.tolist())\n",
    "            preds.extend(torch.argmax(probs, axis=1).tolist())\n",
    "    return preds, labels"
   ]
  },
  {
   "cell_type": "code",
   "execution_count": 34,
   "id": "b430a4da",
   "metadata": {
    "execution": {
     "iopub.execute_input": "2024-06-14T09:43:31.101724Z",
     "iopub.status.busy": "2024-06-14T09:43:31.101423Z",
     "iopub.status.idle": "2024-06-14T09:44:05.978156Z",
     "shell.execute_reply": "2024-06-14T09:44:05.977400Z"
    },
    "papermill": {
     "duration": 34.931894,
     "end_time": "2024-06-14T09:44:05.980426",
     "exception": false,
     "start_time": "2024-06-14T09:43:31.048532",
     "status": "completed"
    },
    "tags": []
   },
   "outputs": [],
   "source": [
    "preds, grd_truth = val_result(val_model, val_loader, device)"
   ]
  },
  {
   "cell_type": "code",
   "execution_count": 35,
   "id": "c356179d",
   "metadata": {
    "execution": {
     "iopub.execute_input": "2024-06-14T09:44:06.087449Z",
     "iopub.status.busy": "2024-06-14T09:44:06.087093Z",
     "iopub.status.idle": "2024-06-14T09:44:06.091539Z",
     "shell.execute_reply": "2024-06-14T09:44:06.090687Z"
    },
    "papermill": {
     "duration": 0.060208,
     "end_time": "2024-06-14T09:44:06.093409",
     "exception": false,
     "start_time": "2024-06-14T09:44:06.033201",
     "status": "completed"
    },
    "tags": []
   },
   "outputs": [],
   "source": [
    "from sklearn.metrics import classification_report\n",
    "from sklearn.metrics import confusion_matrix, ConfusionMatrixDisplay"
   ]
  },
  {
   "cell_type": "code",
   "execution_count": 36,
   "id": "f4940d1d",
   "metadata": {
    "execution": {
     "iopub.execute_input": "2024-06-14T09:44:06.201990Z",
     "iopub.status.busy": "2024-06-14T09:44:06.201208Z",
     "iopub.status.idle": "2024-06-14T09:44:06.214557Z",
     "shell.execute_reply": "2024-06-14T09:44:06.213632Z"
    },
    "papermill": {
     "duration": 0.070722,
     "end_time": "2024-06-14T09:44:06.216425",
     "exception": false,
     "start_time": "2024-06-14T09:44:06.145703",
     "status": "completed"
    },
    "tags": []
   },
   "outputs": [
    {
     "name": "stdout",
     "output_type": "stream",
     "text": [
      "              precision    recall  f1-score   support\n",
      "\n",
      "           0   0.812632  0.772000  0.791795       500\n",
      "           1   0.782857  0.822000  0.801951       500\n",
      "\n",
      "    accuracy                       0.797000      1000\n",
      "   macro avg   0.797744  0.797000  0.796873      1000\n",
      "weighted avg   0.797744  0.797000  0.796873      1000\n",
      "\n"
     ]
    }
   ],
   "source": [
    "report = classification_report(grd_truth, preds, digits=6)\n",
    "print(report)"
   ]
  },
  {
   "cell_type": "code",
   "execution_count": 37,
   "id": "da81556f",
   "metadata": {
    "execution": {
     "iopub.execute_input": "2024-06-14T09:44:06.332014Z",
     "iopub.status.busy": "2024-06-14T09:44:06.331440Z",
     "iopub.status.idle": "2024-06-14T09:44:06.616699Z",
     "shell.execute_reply": "2024-06-14T09:44:06.615747Z"
    },
    "papermill": {
     "duration": 0.342548,
     "end_time": "2024-06-14T09:44:06.618643",
     "exception": false,
     "start_time": "2024-06-14T09:44:06.276095",
     "status": "completed"
    },
    "tags": []
   },
   "outputs": [
    {
     "data": {
      "text/plain": [
       "<sklearn.metrics._plot.confusion_matrix.ConfusionMatrixDisplay at 0x79c0a41b23e0>"
      ]
     },
     "execution_count": 37,
     "metadata": {},
     "output_type": "execute_result"
    },
    {
     "data": {
      "image/png": "[encoded data removed]",
      "text/plain": [
       "<Figure size 640x480 with 2 Axes>"
      ]
     },
     "metadata": {},
     "output_type": "display_data"
    }
   ],
   "source": [
    "cm = confusion_matrix(grd_truth, preds)\n",
    "disp = ConfusionMatrixDisplay(confusion_matrix=cm)\n",
    "disp.plot()\n",
    "\n",
    "# save confusion matrix plot to wandb\n",
    "\n",
    "wandb.log({\"confusion_matrix\": disp.figure_})"
   ]
  },
  {
   "cell_type": "code",
   "execution_count": 38,
   "id": "30b71249",
   "metadata": {
    "execution": {
     "iopub.execute_input": "2024-06-14T09:44:06.730337Z",
     "iopub.status.busy": "2024-06-14T09:44:06.729327Z",
     "iopub.status.idle": "2024-06-14T09:44:07.012615Z",
     "shell.execute_reply": "2024-06-14T09:44:07.011803Z"
    },
    "papermill": {
     "duration": 0.342752,
     "end_time": "2024-06-14T09:44:07.014894",
     "exception": false,
     "start_time": "2024-06-14T09:44:06.672142",
     "status": "completed"
    },
    "tags": []
   },
   "outputs": [],
   "source": [
    "import copy\n",
    "\n",
    "# save model to wandb\n",
    "wandb.save(\"/kaggle/working/best.pt\")\n",
    "test_model = torch.load(\"/kaggle/working/best.pt\")\n",
    "test_model = test_model.to(device)"
   ]
  },
  {
   "cell_type": "code",
   "execution_count": 39,
   "id": "817cbd4c",
   "metadata": {
    "execution": {
     "iopub.execute_input": "2024-06-14T09:44:07.123619Z",
     "iopub.status.busy": "2024-06-14T09:44:07.123271Z",
     "iopub.status.idle": "2024-06-14T09:44:07.130391Z",
     "shell.execute_reply": "2024-06-14T09:44:07.129525Z"
    },
    "papermill": {
     "duration": 0.063709,
     "end_time": "2024-06-14T09:44:07.132199",
     "exception": false,
     "start_time": "2024-06-14T09:44:07.068490",
     "status": "completed"
    },
    "tags": []
   },
   "outputs": [],
   "source": [
    "def test_result(model, test_loader, device,name='no_tta_prob.npy'):\n",
    "    # testing the model by turning model \"Eval\" mode\n",
    "    model.eval()\n",
    "    preds = []\n",
    "    aprobs = []\n",
    "    with torch.no_grad():\n",
    "        for data in test_loader:\n",
    "            # move-tensors-to-GPU\n",
    "            data = data.to(device)\n",
    "            # forward-pass: compute-predicted-outputs-by-passing-inputs-to-the-model\n",
    "            output = model(data)\n",
    "            prob = nn.Softmax(dim=1)\n",
    "            # applying Softmax to results\n",
    "            probs = prob(output)\n",
    "            #aprobs.append(probs.cpu())\n",
    "            aprobs.append(probs.detach().cpu().numpy())\n",
    "            preds.extend(torch.argmax(probs, axis=1).tolist())\n",
    "#             binary_predictions = (probs[:, 1] >= threshold).int()\n",
    "#             preds.extend(binary_predictions.tolist())\n",
    "    aprobs = np.array(aprobs)\n",
    "    np.save(name,aprobs)\n",
    "    return preds"
   ]
  }
 ],
 "metadata": {
  "kaggle": {
   "accelerator": "gpu",
   "dataSources": [
    {
     "datasetId": 3222646,
     "sourceId": 5748495,
     "sourceType": "datasetVersion"
    }
   ],
   "dockerImageVersionId": 30733,
   "isGpuEnabled": true,
   "isInternetEnabled": true,
   "language": "python",
   "sourceType": "notebook"
  },
  "kernelspec": {
   "display_name": "Python 3",
   "language": "python",
   "name": "python3"
  },
  "language_info": {
   "codemirror_mode": {
    "name": "ipython",
    "version": 3
   },
   "file_extension": ".py",
   "mimetype": "text/x-python",
   "name": "python",
   "nbconvert_exporter": "python",
   "pygments_lexer": "ipython3",
   "version": "3.10.8"
  },
  "papermill": {
   "default_parameters": {},
   "duration": 30307.327834,
   "end_time": "2024-06-14T09:44:09.453491",
   "environment_variables": {},
   "exception": null,
   "input_path": "__notebook__.ipynb",
   "output_path": "__notebook__.ipynb",
   "parameters": {},
   "start_time": "2024-06-14T01:19:02.125657",
   "version": "2.4.0"
  },
  "widgets": {
   "application/vnd.jupyter.widget-state+json": {
    "state": {
     "07c214b2a6d64d36b38e8c98e3aadc48": {
      "model_module": "@jupyter-widgets/controls",
      "model_module_version": "1.5.0",
      "model_name": "DescriptionStyleModel",
      "state": {
       "_model_module": "@jupyter-widgets/controls",
       "_model_module_version": "1.5.0",
       "_model_name": "DescriptionStyleModel",
       "_view_count": null,
       "_view_module": "@jupyter-widgets/base",
       "_view_module_version": "1.2.0",
       "_view_name": "StyleView",
       "description_width": ""
      }
     },
     "0949b4eb3612471dbe0466aedc8c579e": {
      "model_module": "@jupyter-widgets/base",
      "model_module_version": "1.2.0",
      "model_name": "LayoutModel",
      "state": {
       "_model_module": "@jupyter-widgets/base",
       "_model_module_version": "1.2.0",
       "_model_name": "LayoutModel",
       "_view_count": null,
       "_view_module": "@jupyter-widgets/base",
       "_view_module_version": "1.2.0",
       "_view_name": "LayoutView",
       "align_content": null,
       "align_items": null,
       "align_self": null,
       "border": null,
       "bottom": null,
       "display": null,
       "flex": null,
       "flex_flow": null,
       "grid_area": null,
       "grid_auto_columns": null,
       "grid_auto_flow": null,
       "grid_auto_rows": null,
       "grid_column": null,
       "grid_gap": null,
       "grid_row": null,
       "grid_template_areas": null,
       "grid_template_columns": null,
       "grid_template_rows": null,
       "height": null,
       "justify_content": null,
       "justify_items": null,
       "left": null,
       "margin": null,
       "max_height": null,
       "max_width": null,
       "min_height": null,
       "min_width": null,
       "object_fit": null,
       "object_position": null,
       "order": null,
       "overflow": null,
       "overflow_x": null,
       "overflow_y": null,
       "padding": null,
       "right": null,
       "top": null,
       "visibility": null,
       "width": null
      }
     },
     "33aa597f6c884d8d89b27a13ea5b97b5": {
      "model_module": "@jupyter-widgets/controls",
      "model_module_version": "1.5.0",
      "model_name": "HBoxModel",
      "state": {
       "_dom_classes": [],
       "_model_module": "@jupyter-widgets/controls",
       "_model_module_version": "1.5.0",
       "_model_name": "HBoxModel",
       "_view_count": null,
       "_view_module": "@jupyter-widgets/controls",
       "_view_module_version": "1.5.0",
       "_view_name": "HBoxView",
       "box_style": "",
       "children": [
        "IPY_MODEL_f5f71bb459604f409303cbe9c01190b5",
        "IPY_MODEL_f8b0e6909d4e4a6ca95e2f25aff7a909",
        "IPY_MODEL_6c58e3ece5cc450baa74e95b9a9f2c45"
       ],
       "layout": "IPY_MODEL_f88bc81789854cbebe8c727145453e09"
      }
     },
     "34b6706ed8d74420b227db01ce73e34e": {
      "model_module": "@jupyter-widgets/base",
      "model_module_version": "1.2.0",
      "model_name": "LayoutModel",
      "state": {
       "_model_module": "@jupyter-widgets/base",
       "_model_module_version": "1.2.0",
       "_model_name": "LayoutModel",
       "_view_count": null,
       "_view_module": "@jupyter-widgets/base",
       "_view_module_version": "1.2.0",
       "_view_name": "LayoutView",
       "align_content": null,
       "align_items": null,
       "align_self": null,
       "border": null,
       "bottom": null,
       "display": null,
       "flex": null,
       "flex_flow": null,
       "grid_area": null,
       "grid_auto_columns": null,
       "grid_auto_flow": null,
       "grid_auto_rows": null,
       "grid_column": null,
       "grid_gap": null,
       "grid_row": null,
       "grid_template_areas": null,
       "grid_template_columns": null,
       "grid_template_rows": null,
       "height": null,
       "justify_content": null,
       "justify_items": null,
       "left": null,
       "margin": null,
       "max_height": null,
       "max_width": null,
       "min_height": null,
       "min_width": null,
       "object_fit": null,
       "object_position": null,
       "order": null,
       "overflow": null,
       "overflow_x": null,
       "overflow_y": null,
       "padding": null,
       "right": null,
       "top": null,
       "visibility": null,
       "width": null
      }
     },
     "6bb8f0bf5758453ca03010494d25b44b": {
      "model_module": "@jupyter-widgets/controls",
      "model_module_version": "1.5.0",
      "model_name": "ProgressStyleModel",
      "state": {
       "_model_module": "@jupyter-widgets/controls",
       "_model_module_version": "1.5.0",
       "_model_name": "ProgressStyleModel",
       "_view_count": null,
       "_view_module": "@jupyter-widgets/base",
       "_view_module_version": "1.2.0",
       "_view_name": "StyleView",
       "bar_color": null,
       "description_width": ""
      }
     },
     "6c58e3ece5cc450baa74e95b9a9f2c45": {
      "model_module": "@jupyter-widgets/controls",
      "model_module_version": "1.5.0",
      "model_name": "HTMLModel",
      "state": {
       "_dom_classes": [],
       "_model_module": "@jupyter-widgets/controls",
       "_model_module_version": "1.5.0",
       "_model_name": "HTMLModel",
       "_view_count": null,
       "_view_module": "@jupyter-widgets/controls",
       "_view_module_version": "1.5.0",
       "_view_name": "HTMLView",
       "description": "",
       "description_tooltip": null,
       "layout": "IPY_MODEL_0949b4eb3612471dbe0466aedc8c579e",
       "placeholder": "​",
       "style": "IPY_MODEL_07c214b2a6d64d36b38e8c98e3aadc48",
       "value": " 346M/346M [00:01&lt;00:00, 259MB/s]"
      }
     },
     "9109500738ee4d74b468d9a1121e5135": {
      "model_module": "@jupyter-widgets/controls",
      "model_module_version": "1.5.0",
      "model_name": "DescriptionStyleModel",
      "state": {
       "_model_module": "@jupyter-widgets/controls",
       "_model_module_version": "1.5.0",
       "_model_name": "DescriptionStyleModel",
       "_view_count": null,
       "_view_module": "@jupyter-widgets/base",
       "_view_module_version": "1.2.0",
       "_view_name": "StyleView",
       "description_width": ""
      }
     },
     "9464d09e5d184c3f9f96d6e13aa2c326": {
      "model_module": "@jupyter-widgets/base",
      "model_module_version": "1.2.0",
      "model_name": "LayoutModel",
      "state": {
       "_model_module": "@jupyter-widgets/base",
       "_model_module_version": "1.2.0",
       "_model_name": "LayoutModel",
       "_view_count": null,
       "_view_module": "@jupyter-widgets/base",
       "_view_module_version": "1.2.0",
       "_view_name": "LayoutView",
       "align_content": null,
       "align_items": null,
       "align_self": null,
       "border": null,
       "bottom": null,
       "display": null,
       "flex": null,
       "flex_flow": null,
       "grid_area": null,
       "grid_auto_columns": null,
       "grid_auto_flow": null,
       "grid_auto_rows": null,
       "grid_column": null,
       "grid_gap": null,
       "grid_row": null,
       "grid_template_areas": null,
       "grid_template_columns": null,
       "grid_template_rows": null,
       "height": null,
       "justify_content": null,
       "justify_items": null,
       "left": null,
       "margin": null,
       "max_height": null,
       "max_width": null,
       "min_height": null,
       "min_width": null,
       "object_fit": null,
       "object_position": null,
       "order": null,
       "overflow": null,
       "overflow_x": null,
       "overflow_y": null,
       "padding": null,
       "right": null,
       "top": null,
       "visibility": null,
       "width": null
      }
     },
     "f5f71bb459604f409303cbe9c01190b5": {
      "model_module": "@jupyter-widgets/controls",
      "model_module_version": "1.5.0",
      "model_name": "HTMLModel",
      "state": {
       "_dom_classes": [],
       "_model_module": "@jupyter-widgets/controls",
       "_model_module_version": "1.5.0",
       "_model_name": "HTMLModel",
       "_view_count": null,
       "_view_module": "@jupyter-widgets/controls",
       "_view_module_version": "1.5.0",
       "_view_name": "HTMLView",
       "description": "",
       "description_tooltip": null,
       "layout": "IPY_MODEL_9464d09e5d184c3f9f96d6e13aa2c326",
       "placeholder": "​",
       "style": "IPY_MODEL_9109500738ee4d74b468d9a1121e5135",
       "value": "model.safetensors: 100%"
      }
     },
     "f88bc81789854cbebe8c727145453e09": {
      "model_module": "@jupyter-widgets/base",
      "model_module_version": "1.2.0",
      "model_name": "LayoutModel",
      "state": {
       "_model_module": "@jupyter-widgets/base",
       "_model_module_version": "1.2.0",
       "_model_name": "LayoutModel",
       "_view_count": null,
       "_view_module": "@jupyter-widgets/base",
       "_view_module_version": "1.2.0",
       "_view_name": "LayoutView",
       "align_content": null,
       "align_items": null,
       "align_self": null,
       "border": null,
       "bottom": null,
       "display": null,
       "flex": null,
       "flex_flow": null,
       "grid_area": null,
       "grid_auto_columns": null,
       "grid_auto_flow": null,
       "grid_auto_rows": null,
       "grid_column": null,
       "grid_gap": null,
       "grid_row": null,
       "grid_template_areas": null,
       "grid_template_columns": null,
       "grid_template_rows": null,
       "height": null,
       "justify_content": null,
       "justify_items": null,
       "left": null,
       "margin": null,
       "max_height": null,
       "max_width": null,
       "min_height": null,
       "min_width": null,
       "object_fit": null,
       "object_position": null,
       "order": null,
       "overflow": null,
       "overflow_x": null,
       "overflow_y": null,
       "padding": null,
       "right": null,
       "top": null,
       "visibility": null,
       "width": null
      }
     },
     "f8b0e6909d4e4a6ca95e2f25aff7a909": {
      "model_module": "@jupyter-widgets/controls",
      "model_module_version": "1.5.0",
      "model_name": "FloatProgressModel",
      "state": {
       "_dom_classes": [],
       "_model_module": "@jupyter-widgets/controls",
       "_model_module_version": "1.5.0",
       "_model_name": "FloatProgressModel",
       "_view_count": null,
       "_view_module": "@jupyter-widgets/controls",
       "_view_module_version": "1.5.0",
       "_view_name": "ProgressView",
       "bar_style": "success",
       "description": "",
       "description_tooltip": null,
       "layout": "IPY_MODEL_34b6706ed8d74420b227db01ce73e34e",
       "max": 346321582,
       "min": 0,
       "orientation": "horizontal",
       "style": "IPY_MODEL_6bb8f0bf5758453ca03010494d25b44b",
       "value": 346321582
      }
     }
    },
    "version_major": 2,
    "version_minor": 0
   }
  }
 },
 "nbformat": 4,
 "nbformat_minor": 5
}
