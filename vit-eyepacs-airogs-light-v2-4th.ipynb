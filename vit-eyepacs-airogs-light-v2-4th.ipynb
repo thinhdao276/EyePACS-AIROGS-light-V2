{
 "cells": [
  {
   "cell_type": "code",
   "execution_count": 1,
   "id": "c7fae372",
   "metadata": {
    "execution": {
     "iopub.execute_input": "2024-06-24T04:34:55.526652Z",
     "iopub.status.busy": "2024-06-24T04:34:55.525853Z",
     "iopub.status.idle": "2024-06-24T04:35:22.175996Z",
     "shell.execute_reply": "2024-06-24T04:35:22.174873Z"
    },
    "papermill": {
     "duration": 26.667831,
     "end_time": "2024-06-24T04:35:22.178667",
     "exception": false,
     "start_time": "2024-06-24T04:34:55.510836",
     "status": "completed"
    },
    "tags": []
   },
   "outputs": [],
   "source": [
    "!pip install --upgrade -q wandb"
   ]
  },
  {
   "cell_type": "code",
   "execution_count": 2,
   "id": "bbabf105",
   "metadata": {
    "execution": {
     "iopub.execute_input": "2024-06-24T04:35:22.206827Z",
     "iopub.status.busy": "2024-06-24T04:35:22.206098Z",
     "iopub.status.idle": "2024-06-24T04:35:30.422263Z",
     "shell.execute_reply": "2024-06-24T04:35:30.421491Z"
    },
    "papermill": {
     "duration": 8.232796,
     "end_time": "2024-06-24T04:35:30.424730",
     "exception": false,
     "start_time": "2024-06-24T04:35:22.191934",
     "status": "completed"
    },
    "tags": []
   },
   "outputs": [],
   "source": [
    "import pandas as pd\n",
    "import matplotlib.pyplot as plt\n",
    "import wandb\n",
    "from pathlib import Path\n",
    "from sklearn.model_selection import train_test_split, StratifiedKFold\n",
    "from sklearn.preprocessing import LabelEncoder\n",
    "from sklearn.metrics import classification_report, f1_score, recall_score, precision_score\n",
    "from torch.utils.data import DataLoader, Dataset\n",
    "from torch.utils.data import RandomSampler\n",
    "from PIL import Image\n",
    "import cv2\n",
    "import torch\n",
    "import torch.nn as nn\n",
    "import torchvision.transforms as transforms\n",
    "from torchvision import transforms\n",
    "import torchvision.models as models\n",
    "from torchvision import models\n",
    "from torchvision.utils import make_grid\n",
    "from torchvision.datasets import ImageFolder\n",
    "import torch.nn.functional as F\n",
    "import timm\n",
    "import albumentations\n",
    "from albumentations.pytorch import ToTensorV2\n",
    "import numpy as np\n",
    "from tqdm import tqdm\n",
    "from sklearn.metrics import confusion_matrix\n",
    "\n",
    "from IPython.display import display, HTML\n",
    "import warnings\n",
    "warnings.filterwarnings(\"ignore\")"
   ]
  },
  {
   "cell_type": "code",
   "execution_count": 3,
   "id": "c6b9855f",
   "metadata": {
    "execution": {
     "iopub.execute_input": "2024-06-24T04:35:30.452621Z",
     "iopub.status.busy": "2024-06-24T04:35:30.451779Z",
     "iopub.status.idle": "2024-06-24T04:35:32.924927Z",
     "shell.execute_reply": "2024-06-24T04:35:32.924038Z"
    },
    "papermill": {
     "duration": 2.48892,
     "end_time": "2024-06-24T04:35:32.927056",
     "exception": false,
     "start_time": "2024-06-24T04:35:30.438136",
     "status": "completed"
    },
    "tags": []
   },
   "outputs": [
    {
     "name": "stderr",
     "output_type": "stream",
     "text": [
      "\u001b[34m\u001b[1mwandb\u001b[0m: W&B API key is configured. Use \u001b[1m`wandb login --relogin`\u001b[0m to force relogin\n",
      "\u001b[34m\u001b[1mwandb\u001b[0m: \u001b[33mWARNING\u001b[0m If you're specifying your api key in code, ensure this code is not shared publicly.\n",
      "\u001b[34m\u001b[1mwandb\u001b[0m: \u001b[33mWARNING\u001b[0m Consider setting the WANDB_API_KEY environment variable, or running `wandb login` from the command line.\n",
      "\u001b[34m\u001b[1mwandb\u001b[0m: Appending key for api.wandb.ai to your netrc file: /root/.netrc\n"
     ]
    },
    {
     "data": {
      "text/plain": [
       "True"
      ]
     },
     "execution_count": 3,
     "metadata": {},
     "output_type": "execute_result"
    }
   ],
   "source": [
    "import wandb\n",
    "from kaggle_secrets import UserSecretsClient\n",
    "user_secrets = UserSecretsClient()\n",
    "secret_value_0 = user_secrets.get_secret(\"wandb\")\n",
    "\n",
    "wandb.login(key = secret_value_0)"
   ]
  },
  {
   "cell_type": "code",
   "execution_count": 4,
   "id": "7cda0867",
   "metadata": {
    "execution": {
     "iopub.execute_input": "2024-06-24T04:35:32.955617Z",
     "iopub.status.busy": "2024-06-24T04:35:32.955231Z",
     "iopub.status.idle": "2024-06-24T04:35:32.962301Z",
     "shell.execute_reply": "2024-06-24T04:35:32.961437Z"
    },
    "papermill": {
     "duration": 0.024121,
     "end_time": "2024-06-24T04:35:32.964300",
     "exception": false,
     "start_time": "2024-06-24T04:35:32.940179",
     "status": "completed"
    },
    "tags": []
   },
   "outputs": [
    {
     "data": {
      "text/plain": [
       "'/kaggle/input/glaucoma-dataset-eyepacs-airogs-light-v2/eyepac-light-v2-512-jpg'"
      ]
     },
     "execution_count": 4,
     "metadata": {},
     "output_type": "execute_result"
    }
   ],
   "source": [
    "class config:\n",
    "    root_path = '/kaggle/input/glaucoma-dataset-eyepacs-airogs-light-v2/eyepac-light-v2-512-jpg'\n",
    "    train_path = root_path + '/train'\n",
    "    test_path = root_path + '/test'\n",
    "    valid_path = root_path + '/validation'\n",
    "    output_path = \"/kaggle/working/\"\n",
    "    batch_size = 16\n",
    "    lr = 1e-3\n",
    "    seed = 1\n",
    "    num_epochs = 40\n",
    "    model_names = 'vit_base_patch8_224'\n",
    "    \n",
    "config.root_path"
   ]
  },
  {
   "cell_type": "code",
   "execution_count": 5,
   "id": "2a0ff1ed",
   "metadata": {
    "execution": {
     "iopub.execute_input": "2024-06-24T04:35:32.992201Z",
     "iopub.status.busy": "2024-06-24T04:35:32.991914Z",
     "iopub.status.idle": "2024-06-24T04:35:51.348883Z",
     "shell.execute_reply": "2024-06-24T04:35:51.347614Z"
    },
    "papermill": {
     "duration": 18.374429,
     "end_time": "2024-06-24T04:35:51.352023",
     "exception": false,
     "start_time": "2024-06-24T04:35:32.977594",
     "status": "completed"
    },
    "tags": []
   },
   "outputs": [],
   "source": [
    "def get_df(path): \n",
    "    paths = Path(path).rglob(\"*.jpg\")\n",
    "    files = [str(path) for path in paths]\n",
    "    labels = [file.split('/')[-2] for file in files]\n",
    "    \n",
    "    df = pd.DataFrame()\n",
    "    df['path'] = files\n",
    "    df['label'] = labels\n",
    "    df['label'] = df['label'].map({'RG':1, 'NRG': 0})\n",
    "    return df\n",
    "\n",
    "# Assuming CFG.path_to_data is set to the correct data path, the following lines will create your dataframes:\n",
    "train_df = get_df(config.train_path)\n",
    "valid_df = get_df(config.valid_path)\n",
    "test_df = get_df(config.test_path)"
   ]
  },
  {
   "cell_type": "code",
   "execution_count": 6,
   "id": "d7a34d23",
   "metadata": {
    "execution": {
     "iopub.execute_input": "2024-06-24T04:35:51.386227Z",
     "iopub.status.busy": "2024-06-24T04:35:51.385411Z",
     "iopub.status.idle": "2024-06-24T04:35:51.399854Z",
     "shell.execute_reply": "2024-06-24T04:35:51.398974Z"
    },
    "papermill": {
     "duration": 0.030978,
     "end_time": "2024-06-24T04:35:51.401889",
     "exception": false,
     "start_time": "2024-06-24T04:35:51.370911",
     "status": "completed"
    },
    "tags": []
   },
   "outputs": [
    {
     "data": {
      "text/html": [
       "<div>\n",
       "<style scoped>\n",
       "    .dataframe tbody tr th:only-of-type {\n",
       "        vertical-align: middle;\n",
       "    }\n",
       "\n",
       "    .dataframe tbody tr th {\n",
       "        vertical-align: top;\n",
       "    }\n",
       "\n",
       "    .dataframe thead th {\n",
       "        text-align: right;\n",
       "    }\n",
       "</style>\n",
       "<table border=\"1\" class=\"dataframe\">\n",
       "  <thead>\n",
       "    <tr style=\"text-align: right;\">\n",
       "      <th></th>\n",
       "      <th>path</th>\n",
       "      <th>label</th>\n",
       "    </tr>\n",
       "  </thead>\n",
       "  <tbody>\n",
       "    <tr>\n",
       "      <th>0</th>\n",
       "      <td>/kaggle/input/glaucoma-dataset-eyepacs-airogs-...</td>\n",
       "      <td>1</td>\n",
       "    </tr>\n",
       "    <tr>\n",
       "      <th>1</th>\n",
       "      <td>/kaggle/input/glaucoma-dataset-eyepacs-airogs-...</td>\n",
       "      <td>1</td>\n",
       "    </tr>\n",
       "    <tr>\n",
       "      <th>2</th>\n",
       "      <td>/kaggle/input/glaucoma-dataset-eyepacs-airogs-...</td>\n",
       "      <td>1</td>\n",
       "    </tr>\n",
       "    <tr>\n",
       "      <th>3</th>\n",
       "      <td>/kaggle/input/glaucoma-dataset-eyepacs-airogs-...</td>\n",
       "      <td>1</td>\n",
       "    </tr>\n",
       "    <tr>\n",
       "      <th>4</th>\n",
       "      <td>/kaggle/input/glaucoma-dataset-eyepacs-airogs-...</td>\n",
       "      <td>1</td>\n",
       "    </tr>\n",
       "    <tr>\n",
       "      <th>...</th>\n",
       "      <td>...</td>\n",
       "      <td>...</td>\n",
       "    </tr>\n",
       "    <tr>\n",
       "      <th>7995</th>\n",
       "      <td>/kaggle/input/glaucoma-dataset-eyepacs-airogs-...</td>\n",
       "      <td>0</td>\n",
       "    </tr>\n",
       "    <tr>\n",
       "      <th>7996</th>\n",
       "      <td>/kaggle/input/glaucoma-dataset-eyepacs-airogs-...</td>\n",
       "      <td>0</td>\n",
       "    </tr>\n",
       "    <tr>\n",
       "      <th>7997</th>\n",
       "      <td>/kaggle/input/glaucoma-dataset-eyepacs-airogs-...</td>\n",
       "      <td>0</td>\n",
       "    </tr>\n",
       "    <tr>\n",
       "      <th>7998</th>\n",
       "      <td>/kaggle/input/glaucoma-dataset-eyepacs-airogs-...</td>\n",
       "      <td>0</td>\n",
       "    </tr>\n",
       "    <tr>\n",
       "      <th>7999</th>\n",
       "      <td>/kaggle/input/glaucoma-dataset-eyepacs-airogs-...</td>\n",
       "      <td>0</td>\n",
       "    </tr>\n",
       "  </tbody>\n",
       "</table>\n",
       "<p>8000 rows × 2 columns</p>\n",
       "</div>"
      ],
      "text/plain": [
       "                                                   path  label\n",
       "0     /kaggle/input/glaucoma-dataset-eyepacs-airogs-...      1\n",
       "1     /kaggle/input/glaucoma-dataset-eyepacs-airogs-...      1\n",
       "2     /kaggle/input/glaucoma-dataset-eyepacs-airogs-...      1\n",
       "3     /kaggle/input/glaucoma-dataset-eyepacs-airogs-...      1\n",
       "4     /kaggle/input/glaucoma-dataset-eyepacs-airogs-...      1\n",
       "...                                                 ...    ...\n",
       "7995  /kaggle/input/glaucoma-dataset-eyepacs-airogs-...      0\n",
       "7996  /kaggle/input/glaucoma-dataset-eyepacs-airogs-...      0\n",
       "7997  /kaggle/input/glaucoma-dataset-eyepacs-airogs-...      0\n",
       "7998  /kaggle/input/glaucoma-dataset-eyepacs-airogs-...      0\n",
       "7999  /kaggle/input/glaucoma-dataset-eyepacs-airogs-...      0\n",
       "\n",
       "[8000 rows x 2 columns]"
      ]
     },
     "execution_count": 6,
     "metadata": {},
     "output_type": "execute_result"
    }
   ],
   "source": [
    "train_df"
   ]
  },
  {
   "cell_type": "code",
   "execution_count": 7,
   "id": "c0ab2da5",
   "metadata": {
    "execution": {
     "iopub.execute_input": "2024-06-24T04:35:51.433411Z",
     "iopub.status.busy": "2024-06-24T04:35:51.432756Z",
     "iopub.status.idle": "2024-06-24T04:35:51.453244Z",
     "shell.execute_reply": "2024-06-24T04:35:51.452118Z"
    },
    "papermill": {
     "duration": 0.040685,
     "end_time": "2024-06-24T04:35:51.456408",
     "exception": false,
     "start_time": "2024-06-24T04:35:51.415723",
     "status": "completed"
    },
    "tags": []
   },
   "outputs": [],
   "source": [
    "from PIL import Image\n",
    "import os\n",
    "import torch\n",
    "from sklearn.model_selection import train_test_split\n",
    "\n",
    "    \n",
    "# define a data class\n",
    "class ClassificationDataset:\n",
    "    def __init__(self, data, data_path, transform, training=True):\n",
    "        \"\"\"Define the dataset for classification problems\n",
    "\n",
    "        Args:\n",
    "            data ([dataframe]): [a dataframe that contain 2 columns: image name and label]\n",
    "            data_path ([str]): [path/to/folder that contains image file]\n",
    "            transform : [augmentation methods and transformation of images]\n",
    "            training (bool, optional): []. Defaults to True.\n",
    "        \"\"\"\n",
    "        self.data = data\n",
    "        self.imgs = data[\"path\"].unique().tolist()\n",
    "        self.data_path = data_path\n",
    "        self.training = training\n",
    "        self.transform = transform\n",
    "\n",
    "    def __getitem__(self, idx):\n",
    "        img = Image.open(os.path.join(self.data_path, self.data.iloc[idx, 0]))\n",
    "        if(self.training):\n",
    "            label = self.data.iloc[idx, 1]\n",
    "        if self.transform is not None:\n",
    "            img = self.transform(img)\n",
    "        if(self.training):\n",
    "            return img, label\n",
    "        else:\n",
    "            return img\n",
    "\n",
    "    def __len__(self):\n",
    "        return len(self.imgs)\n",
    "\n",
    "\n",
    "def make_loader(dataset, train_batch_size, validation_split=0.2):\n",
    "    \"\"\"make dataloader for pytorch training\n",
    "\n",
    "    Args:\n",
    "        dataset ([object]): [the dataset object]\n",
    "        train_batch_size ([int]): [training batch size]\n",
    "        validation_split (float, optional): [validation ratio]. Defaults to 0.2.\n",
    "\n",
    "    Returns:\n",
    "        [type]: [description]\n",
    "    \"\"\"\n",
    "    # number of samples in train and test set\n",
    "    train_len = int(len(dataset) * (1 - validation_split))\n",
    "    test_len = len(dataset) - train_len\n",
    "    train_set, test_set = torch.utils.data.random_split(dataset, [train_len, test_len])\n",
    "    # create train_loader\n",
    "    print(len(train_set))\n",
    "    train_loader = torch.utils.data.DataLoader(\n",
    "        train_set, batch_size=train_batch_size, shuffle=True,\n",
    "    )\n",
    "    # create test_loader\n",
    "    test_loader = torch.utils.data.DataLoader(test_set, batch_size=1, shuffle=False,)\n",
    "    return train_loader, test_loader\n",
    "\n",
    "\n",
    "def data_split(data, test_size):\n",
    "    x_train, x_test, y_train, y_test = train_test_split(\n",
    "        data, data[\"label\"], test_size=test_size, stratify = data.iloc[:,1]\n",
    "    )\n",
    "    return x_train, x_test, y_train, y_test"
   ]
  },
  {
   "cell_type": "markdown",
   "id": "c0afe5d5",
   "metadata": {
    "papermill": {
     "duration": 0.028913,
     "end_time": "2024-06-24T04:35:51.509535",
     "exception": false,
     "start_time": "2024-06-24T04:35:51.480622",
     "status": "completed"
    },
    "tags": []
   },
   "source": [
    "# 1. Define DataLoader"
   ]
  },
  {
   "cell_type": "code",
   "execution_count": 8,
   "id": "1533cd4a",
   "metadata": {
    "execution": {
     "iopub.execute_input": "2024-06-24T04:35:51.542794Z",
     "iopub.status.busy": "2024-06-24T04:35:51.542110Z",
     "iopub.status.idle": "2024-06-24T04:35:51.546802Z",
     "shell.execute_reply": "2024-06-24T04:35:51.545820Z"
    },
    "papermill": {
     "duration": 0.022183,
     "end_time": "2024-06-24T04:35:51.548742",
     "exception": false,
     "start_time": "2024-06-24T04:35:51.526559",
     "status": "completed"
    },
    "tags": []
   },
   "outputs": [],
   "source": [
    "mean = (0.5, 0.5, 0.5)\n",
    "std = (0.5, 0.5, 0.5)"
   ]
  },
  {
   "cell_type": "code",
   "execution_count": 9,
   "id": "b5628bad",
   "metadata": {
    "execution": {
     "iopub.execute_input": "2024-06-24T04:35:51.579630Z",
     "iopub.status.busy": "2024-06-24T04:35:51.578570Z",
     "iopub.status.idle": "2024-06-24T04:35:51.584050Z",
     "shell.execute_reply": "2024-06-24T04:35:51.583275Z"
    },
    "papermill": {
     "duration": 0.02275,
     "end_time": "2024-06-24T04:35:51.586044",
     "exception": false,
     "start_time": "2024-06-24T04:35:51.563294",
     "status": "completed"
    },
    "tags": []
   },
   "outputs": [],
   "source": [
    "import torchvision\n",
    "transform = torchvision.transforms.Compose([torchvision.transforms.Resize((224, 224)),\n",
    "                                               torchvision.transforms.ToTensor(),\n",
    "                                               torchvision.transforms.Normalize(mean, std)])"
   ]
  },
  {
   "cell_type": "code",
   "execution_count": 10,
   "id": "13bb1865",
   "metadata": {
    "execution": {
     "iopub.execute_input": "2024-06-24T04:35:51.616960Z",
     "iopub.status.busy": "2024-06-24T04:35:51.616177Z",
     "iopub.status.idle": "2024-06-24T04:35:51.621372Z",
     "shell.execute_reply": "2024-06-24T04:35:51.620504Z"
    },
    "papermill": {
     "duration": 0.022817,
     "end_time": "2024-06-24T04:35:51.623430",
     "exception": false,
     "start_time": "2024-06-24T04:35:51.600613",
     "status": "completed"
    },
    "tags": []
   },
   "outputs": [],
   "source": [
    "test_transform = torchvision.transforms.Compose([torchvision.transforms.Resize((224, 224)),\n",
    "                                               torchvision.transforms.ToTensor(),\n",
    "                                               torchvision.transforms.Normalize(mean, std)])"
   ]
  },
  {
   "cell_type": "code",
   "execution_count": 11,
   "id": "52797a06",
   "metadata": {
    "execution": {
     "iopub.execute_input": "2024-06-24T04:35:51.653491Z",
     "iopub.status.busy": "2024-06-24T04:35:51.653132Z",
     "iopub.status.idle": "2024-06-24T04:35:51.681745Z",
     "shell.execute_reply": "2024-06-24T04:35:51.680628Z"
    },
    "papermill": {
     "duration": 0.046118,
     "end_time": "2024-06-24T04:35:51.683940",
     "exception": false,
     "start_time": "2024-06-24T04:35:51.637822",
     "status": "completed"
    },
    "tags": []
   },
   "outputs": [
    {
     "name": "stdout",
     "output_type": "stream",
     "text": [
      "6400\n"
     ]
    }
   ],
   "source": [
    "dataset = ClassificationDataset(train_df,data_path = \"\",transform=transform,training=True)\n",
    "train_loader,val_loader = make_loader(dataset, train_batch_size=config.batch_size, validation_split=0.2)"
   ]
  },
  {
   "cell_type": "code",
   "execution_count": 12,
   "id": "dfca0389",
   "metadata": {
    "execution": {
     "iopub.execute_input": "2024-06-24T04:35:51.714338Z",
     "iopub.status.busy": "2024-06-24T04:35:51.713731Z",
     "iopub.status.idle": "2024-06-24T04:35:51.718853Z",
     "shell.execute_reply": "2024-06-24T04:35:51.717940Z"
    },
    "papermill": {
     "duration": 0.022937,
     "end_time": "2024-06-24T04:35:51.721283",
     "exception": false,
     "start_time": "2024-06-24T04:35:51.698346",
     "status": "completed"
    },
    "tags": []
   },
   "outputs": [
    {
     "name": "stdout",
     "output_type": "stream",
     "text": [
      "Random seed:  14\n"
     ]
    }
   ],
   "source": [
    "import random\n",
    "\n",
    "random_seed = random.randint(0, 128)\n",
    "print(\"Random seed: \",random_seed)"
   ]
  },
  {
   "cell_type": "code",
   "execution_count": 13,
   "id": "ad0f17ff",
   "metadata": {
    "execution": {
     "iopub.execute_input": "2024-06-24T04:35:51.750882Z",
     "iopub.status.busy": "2024-06-24T04:35:51.750130Z",
     "iopub.status.idle": "2024-06-24T04:35:51.762835Z",
     "shell.execute_reply": "2024-06-24T04:35:51.762079Z"
    },
    "papermill": {
     "duration": 0.029622,
     "end_time": "2024-06-24T04:35:51.764984",
     "exception": false,
     "start_time": "2024-06-24T04:35:51.735362",
     "status": "completed"
    },
    "tags": []
   },
   "outputs": [],
   "source": [
    " X_train, X_test, y_train, y_test = train_test_split(train_df, train_df['label'],stratify=train_df['label'], test_size=0.2, random_state=42)"
   ]
  },
  {
   "cell_type": "code",
   "execution_count": 14,
   "id": "083bc07b",
   "metadata": {
    "execution": {
     "iopub.execute_input": "2024-06-24T04:35:51.794289Z",
     "iopub.status.busy": "2024-06-24T04:35:51.793636Z",
     "iopub.status.idle": "2024-06-24T04:35:51.802205Z",
     "shell.execute_reply": "2024-06-24T04:35:51.801483Z"
    },
    "papermill": {
     "duration": 0.025408,
     "end_time": "2024-06-24T04:35:51.804202",
     "exception": false,
     "start_time": "2024-06-24T04:35:51.778794",
     "status": "completed"
    },
    "tags": []
   },
   "outputs": [],
   "source": [
    "train_dataset = ClassificationDataset(X_train,data_path = \"\",transform=transform,training=True)\n",
    "val_dataset = ClassificationDataset(X_test,data_path = \"\",transform=test_transform,training=True)"
   ]
  },
  {
   "cell_type": "code",
   "execution_count": 15,
   "id": "adbb424b",
   "metadata": {
    "execution": {
     "iopub.execute_input": "2024-06-24T04:35:51.832899Z",
     "iopub.status.busy": "2024-06-24T04:35:51.832574Z",
     "iopub.status.idle": "2024-06-24T04:35:51.837644Z",
     "shell.execute_reply": "2024-06-24T04:35:51.836827Z"
    },
    "papermill": {
     "duration": 0.021672,
     "end_time": "2024-06-24T04:35:51.839695",
     "exception": false,
     "start_time": "2024-06-24T04:35:51.818023",
     "status": "completed"
    },
    "tags": []
   },
   "outputs": [],
   "source": [
    "train_loader = torch.utils.data.DataLoader(\n",
    "        train_dataset, batch_size=config.batch_size, shuffle=True,\n",
    "    )\n",
    "    # create test_loader\n",
    "val_loader = torch.utils.data.DataLoader(val_dataset, batch_size=1, shuffle=False)"
   ]
  },
  {
   "cell_type": "code",
   "execution_count": 16,
   "id": "011bcda9",
   "metadata": {
    "execution": {
     "iopub.execute_input": "2024-06-24T04:35:51.868550Z",
     "iopub.status.busy": "2024-06-24T04:35:51.868231Z",
     "iopub.status.idle": "2024-06-24T04:35:51.873294Z",
     "shell.execute_reply": "2024-06-24T04:35:51.872480Z"
    },
    "papermill": {
     "duration": 0.021627,
     "end_time": "2024-06-24T04:35:51.875189",
     "exception": false,
     "start_time": "2024-06-24T04:35:51.853562",
     "status": "completed"
    },
    "tags": []
   },
   "outputs": [],
   "source": [
    "testset = ClassificationDataset(test_df,data_path = \"\",transform=test_transform,training=False)\n",
    "test_loader = torch.utils.data.DataLoader(\n",
    "        testset, batch_size=1, shuffle=False,\n",
    "    )"
   ]
  },
  {
   "cell_type": "code",
   "execution_count": 17,
   "id": "ea185375",
   "metadata": {
    "execution": {
     "iopub.execute_input": "2024-06-24T04:35:51.904090Z",
     "iopub.status.busy": "2024-06-24T04:35:51.903775Z",
     "iopub.status.idle": "2024-06-24T04:36:00.891600Z",
     "shell.execute_reply": "2024-06-24T04:36:00.890638Z"
    },
    "papermill": {
     "duration": 9.005034,
     "end_time": "2024-06-24T04:36:00.894071",
     "exception": false,
     "start_time": "2024-06-24T04:35:51.889037",
     "status": "completed"
    },
    "tags": []
   },
   "outputs": [
    {
     "name": "stderr",
     "output_type": "stream",
     "text": [
      "100%|██████████| 770/770 [00:08<00:00, 86.14it/s]\n"
     ]
    }
   ],
   "source": [
    "from tqdm import tqdm\n",
    "psum    = torch.tensor([0.0, 0.0, 0.0])\n",
    "psum_sq = torch.tensor([0.0, 0.0, 0.0])\n",
    "\n",
    "# loop through images\n",
    "for inputs in tqdm(test_loader):\n",
    "    psum    += inputs.sum(axis        = [0, 2, 3])\n",
    "    psum_sq += (inputs ** 2).sum(axis = [0, 2, 3])\n",
    "\n",
    "count = len(test_df) * 224 * 224\n",
    "\n",
    "# mean and std\n",
    "test_mean = psum / count\n",
    "test_var  = (psum_sq / count) - (test_mean ** 2)\n",
    "test_std  = torch.sqrt(test_var)"
   ]
  },
  {
   "cell_type": "code",
   "execution_count": 18,
   "id": "f7c7e77a",
   "metadata": {
    "execution": {
     "iopub.execute_input": "2024-06-24T04:36:00.938318Z",
     "iopub.status.busy": "2024-06-24T04:36:00.937993Z",
     "iopub.status.idle": "2024-06-24T04:37:15.156709Z",
     "shell.execute_reply": "2024-06-24T04:37:15.154782Z"
    },
    "papermill": {
     "duration": 74.242576,
     "end_time": "2024-06-24T04:37:15.159066",
     "exception": false,
     "start_time": "2024-06-24T04:36:00.916490",
     "status": "completed"
    },
    "tags": []
   },
   "outputs": [
    {
     "name": "stderr",
     "output_type": "stream",
     "text": [
      "100%|██████████| 400/400 [01:14<00:00,  5.39it/s]\n"
     ]
    }
   ],
   "source": [
    "psum    = torch.tensor([0.0, 0.0, 0.0])\n",
    "psum_sq = torch.tensor([0.0, 0.0, 0.0])\n",
    "\n",
    "# loop through images\n",
    "for inputs,_ in tqdm(train_loader):\n",
    "    psum    += inputs.sum(axis        = [0, 2, 3])\n",
    "    psum_sq += (inputs ** 2).sum(axis = [0, 2, 3])\n",
    "\n",
    "count = len(train_loader) * 224 * 224\n",
    "\n",
    "# mean and std\n",
    "train_mean = psum / count\n",
    "train_var  = (psum_sq / count) - (train_mean ** 2)\n",
    "train_std  = torch.sqrt(train_var)"
   ]
  },
  {
   "cell_type": "code",
   "execution_count": 19,
   "id": "14905896",
   "metadata": {
    "execution": {
     "iopub.execute_input": "2024-06-24T04:37:15.322384Z",
     "iopub.status.busy": "2024-06-24T04:37:15.321990Z",
     "iopub.status.idle": "2024-06-24T04:37:15.329260Z",
     "shell.execute_reply": "2024-06-24T04:37:15.328294Z"
    },
    "papermill": {
     "duration": 0.066125,
     "end_time": "2024-06-24T04:37:15.331532",
     "exception": false,
     "start_time": "2024-06-24T04:37:15.265407",
     "status": "completed"
    },
    "tags": []
   },
   "outputs": [],
   "source": [
    "def imshow(inp, title=None):\n",
    "    \"\"\"Imshow for Tensor.\"\"\"\n",
    "    inp = inp.numpy().transpose((1, 2, 0))\n",
    "    mean = np.array([0.485, 0.456, 0.406])\n",
    "    std = np.array([0.229, 0.224, 0.225])\n",
    "    inp = std * inp + mean\n",
    "    inp = np.clip(inp, 0, 1)\n",
    "    plt.figure(figsize = (12, 12))\n",
    "    plt.imshow(inp)\n",
    "    if title is not None:\n",
    "        plt.title(title)\n",
    "    plt.axis(\"off\")\n",
    "    plt.pause(0.001)"
   ]
  },
  {
   "cell_type": "code",
   "execution_count": 20,
   "id": "54c84f8a",
   "metadata": {
    "execution": {
     "iopub.execute_input": "2024-06-24T04:37:15.439328Z",
     "iopub.status.busy": "2024-06-24T04:37:15.438966Z",
     "iopub.status.idle": "2024-06-24T04:37:16.165367Z",
     "shell.execute_reply": "2024-06-24T04:37:16.164380Z"
    },
    "papermill": {
     "duration": 0.783317,
     "end_time": "2024-06-24T04:37:16.168545",
     "exception": false,
     "start_time": "2024-06-24T04:37:15.385228",
     "status": "completed"
    },
    "tags": []
   },
   "outputs": [
    {
     "data": {
      "image/png": "[encoded data removed]",
      "text/plain": [
       "<Figure size 1200x1200 with 1 Axes>"
      ]
     },
     "metadata": {},
     "output_type": "display_data"
    }
   ],
   "source": [
    "import matplotlib.pyplot as plt\n",
    "\n",
    "%matplotlib inline\n",
    "# Visualization\n",
    "images, classes = next(iter(train_loader))\n",
    "# Make a grid from batch\n",
    "out = torchvision.utils.make_grid(images, nrow=8)\n",
    "imshow(out, title=classes)"
   ]
  },
  {
   "cell_type": "markdown",
   "id": "0722c47b",
   "metadata": {
    "papermill": {
     "duration": 0.056478,
     "end_time": "2024-06-24T04:37:16.280148",
     "exception": false,
     "start_time": "2024-06-24T04:37:16.223670",
     "status": "completed"
    },
    "tags": []
   },
   "source": [
    "# 2. Define Metrics and Optimizers and Loss function\n"
   ]
  },
  {
   "cell_type": "code",
   "execution_count": 21,
   "id": "2f1781b9",
   "metadata": {
    "execution": {
     "iopub.execute_input": "2024-06-24T04:37:16.393891Z",
     "iopub.status.busy": "2024-06-24T04:37:16.393019Z",
     "iopub.status.idle": "2024-06-24T04:37:16.403104Z",
     "shell.execute_reply": "2024-06-24T04:37:16.401959Z"
    },
    "papermill": {
     "duration": 0.068528,
     "end_time": "2024-06-24T04:37:16.405068",
     "exception": false,
     "start_time": "2024-06-24T04:37:16.336540",
     "status": "completed"
    },
    "tags": []
   },
   "outputs": [],
   "source": [
    "from sklearn import metrics as skmetrics\n",
    "import numpy\n",
    "class Metrics:\n",
    "    def __init__(self, metric_names):\n",
    "        self.metric_names = metric_names\n",
    "        # initialize a metric dictionary\n",
    "        self.metric_dict = {metric_name: [0] for metric_name in self.metric_names}\n",
    "\n",
    "    def step(self, labels, preds):\n",
    "        for metric in self.metric_names:\n",
    "            # get the metric function\n",
    "            do_metric = getattr(\n",
    "                skmetrics, metric, \"The metric {} is not implemented\".format(metric)\n",
    "            )\n",
    "            # check if metric require average method, if yes set to 'micro' or 'macro' or 'None'\n",
    "            try:\n",
    "                self.metric_dict[metric].append(\n",
    "                    do_metric(labels, preds, average=\"macro\")\n",
    "                )\n",
    "            except:\n",
    "                self.metric_dict[metric].append(do_metric(labels, preds))\n",
    "\n",
    "    def epoch(self):\n",
    "        # calculate metrics for an entire epoch\n",
    "        avg = [sum(metric) / (len(metric) - 1) for metric in self.metric_dict.values()]\n",
    "        metric_as_dict = dict(zip(self.metric_names, avg))\n",
    "        return metric_as_dict\n",
    "\n",
    "    def last_step_metrics(self):\n",
    "        # return metrics of last steps\n",
    "        values = [self.metric_dict[metric][-1] for metric in self.metric_names]\n",
    "        metric_as_dict = dict(zip(self.metric_names, values))\n",
    "        return metric_as_dict"
   ]
  },
  {
   "cell_type": "code",
   "execution_count": 22,
   "id": "ec235771",
   "metadata": {
    "execution": {
     "iopub.execute_input": "2024-06-24T04:37:16.516279Z",
     "iopub.status.busy": "2024-06-24T04:37:16.515919Z",
     "iopub.status.idle": "2024-06-24T04:37:16.520454Z",
     "shell.execute_reply": "2024-06-24T04:37:16.519581Z"
    },
    "papermill": {
     "duration": 0.06217,
     "end_time": "2024-06-24T04:37:16.522379",
     "exception": false,
     "start_time": "2024-06-24T04:37:16.460209",
     "status": "completed"
    },
    "tags": []
   },
   "outputs": [],
   "source": [
    "train_metrics = Metrics([\"accuracy_score\",\"f1_score\"])\n",
    "val_metrics = Metrics([\"accuracy_score\",\"f1_score\"])"
   ]
  },
  {
   "cell_type": "code",
   "execution_count": 23,
   "id": "5d46d54f",
   "metadata": {
    "execution": {
     "iopub.execute_input": "2024-06-24T04:37:16.633171Z",
     "iopub.status.busy": "2024-06-24T04:37:16.632816Z",
     "iopub.status.idle": "2024-06-24T04:37:16.686394Z",
     "shell.execute_reply": "2024-06-24T04:37:16.685403Z"
    },
    "papermill": {
     "duration": 0.111236,
     "end_time": "2024-06-24T04:37:16.688370",
     "exception": false,
     "start_time": "2024-06-24T04:37:16.577134",
     "status": "completed"
    },
    "tags": []
   },
   "outputs": [],
   "source": [
    "device = torch.device(\"cuda:0\" if torch.cuda.is_available() else \"cpu\")\n",
    "criterion = nn.CrossEntropyLoss()"
   ]
  },
  {
   "cell_type": "markdown",
   "id": "3a26da4d",
   "metadata": {
    "papermill": {
     "duration": 0.054709,
     "end_time": "2024-06-24T04:37:16.800503",
     "exception": false,
     "start_time": "2024-06-24T04:37:16.745794",
     "status": "completed"
    },
    "tags": []
   },
   "source": [
    "4. Define the Model: Transfer Learning\n"
   ]
  },
  {
   "cell_type": "code",
   "execution_count": 24,
   "id": "27f836c9",
   "metadata": {
    "execution": {
     "iopub.execute_input": "2024-06-24T04:37:16.911631Z",
     "iopub.status.busy": "2024-06-24T04:37:16.911058Z",
     "iopub.status.idle": "2024-06-24T04:37:48.994929Z",
     "shell.execute_reply": "2024-06-24T04:37:48.994080Z"
    },
    "papermill": {
     "duration": 32.141432,
     "end_time": "2024-06-24T04:37:48.997257",
     "exception": false,
     "start_time": "2024-06-24T04:37:16.855825",
     "status": "completed"
    },
    "tags": []
   },
   "outputs": [
    {
     "data": {
      "application/vnd.jupyter.widget-view+json": {
       "model_id": "d1b3e9919dda43f793dd5f954f71933a",
       "version_major": 2,
       "version_minor": 0
      },
      "text/plain": [
       "model.safetensors:   0%|          | 0.00/346M [00:00<?, ?B/s]"
      ]
     },
     "metadata": {},
     "output_type": "display_data"
    }
   ],
   "source": [
    "model = timm.create_model(config.model_names, pretrained=True)\n",
    "for param in model.parameters():\n",
    "    param.requires_grad = True\n",
    "classifier = nn.Sequential(\n",
    "    nn.Linear(in_features=model.head.in_features, out_features=256, bias=True),\n",
    "    nn.Linear(in_features=256, out_features=2, bias=True)\n",
    ")\n",
    "model.head = classifier\n",
    "\n",
    "optimizer = torch.optim.Adam(model.parameters(), lr=0.01)\n",
    "scheduler = torch.optim.lr_scheduler.ReduceLROnPlateau(\n",
    "        optimizer, \"min\", patience=2, factor=0.5\n",
    "    )\n",
    "\n",
    "\n",
    "model = model.to(device)"
   ]
  },
  {
   "cell_type": "markdown",
   "id": "f8782ede",
   "metadata": {
    "papermill": {
     "duration": 0.054378,
     "end_time": "2024-06-24T04:37:49.106817",
     "exception": false,
     "start_time": "2024-06-24T04:37:49.052439",
     "status": "completed"
    },
    "tags": []
   },
   "source": [
    "# 3. Define a training epoch\n"
   ]
  },
  {
   "cell_type": "code",
   "execution_count": 25,
   "id": "9e00c83f",
   "metadata": {
    "execution": {
     "iopub.execute_input": "2024-06-24T04:37:49.216762Z",
     "iopub.status.busy": "2024-06-24T04:37:49.216393Z",
     "iopub.status.idle": "2024-06-24T04:37:49.228981Z",
     "shell.execute_reply": "2024-06-24T04:37:49.228144Z"
    },
    "papermill": {
     "duration": 0.070065,
     "end_time": "2024-06-24T04:37:49.230797",
     "exception": false,
     "start_time": "2024-06-24T04:37:49.160732",
     "status": "completed"
    },
    "tags": []
   },
   "outputs": [],
   "source": [
    "def train_one_epoch(\n",
    "    model,\n",
    "    train_loader,\n",
    "    test_loader,\n",
    "    device,\n",
    "    optimizer,\n",
    "    criterion,\n",
    "    train_metrics,\n",
    "    val_metrics,\n",
    "):\n",
    "\n",
    "    # training-the-model\n",
    "    train_loss = 0\n",
    "    valid_loss = 0\n",
    "    all_labels = []\n",
    "    all_preds = []\n",
    "    model.train()\n",
    "    for data, target in train_loader:\n",
    "        # move-tensors-to-GPU\n",
    "        data = data.type(torch.FloatTensor).to(device)\n",
    "        # target=torch.Tensor(target)\n",
    "        target = target.float().to(device)\n",
    "        # clear-the-gradients-of-all-optimized-variables\n",
    "        optimizer.zero_grad()\n",
    "        # forward-pass: compute-predicted-outputs-by-passing-inputs-to-the-model\n",
    "        output = model(data)\n",
    "        # get the prediction label and target label\n",
    "        output = model(data)\n",
    "        preds = torch.argmax(output, axis=1).cpu().detach().numpy()\n",
    "        labels = target.cpu().numpy()\n",
    "        # calculate-the-batch-loss\n",
    "        loss = criterion(output.type(torch.FloatTensor).to(device), target.type(torch.LongTensor).to(device))\n",
    "        # backward-pass: compute-gradient-of-the-loss-wrt-model-parameters\n",
    "        loss.backward()\n",
    "        # perform-a-ingle-optimization-step (parameter-update)\n",
    "        optimizer.step()\n",
    "        # update-training-loss\n",
    "        train_loss += loss.item() * data.size(0)\n",
    "        # calculate training metrics\n",
    "        all_labels.extend(labels)\n",
    "        all_preds.extend(preds)\n",
    "    \n",
    "    train_metrics.step(all_labels, all_preds)\n",
    "\n",
    "    # validate-the-model\n",
    "    model.eval()\n",
    "    all_labels = []\n",
    "    all_preds = []\n",
    "    for data, target in test_loader:\n",
    "        data = data.type(torch.FloatTensor).to(device)\n",
    "        target = target.to(device)\n",
    "        output = model(data)\n",
    "        preds = torch.argmax(output, axis=1).tolist()\n",
    "        labels = target.tolist()\n",
    "        all_labels.extend(labels)\n",
    "        all_preds.extend(preds)\n",
    "        loss = criterion(output, target)\n",
    "\n",
    "        # update-average-validation-loss\n",
    "        valid_loss += loss.item() * data.size(0)\n",
    "\n",
    "    val_metrics.step(all_labels, all_preds)\n",
    "    train_loss = train_loss / len(train_loader.sampler)\n",
    "    valid_loss = valid_loss / len(test_loader.sampler)\n",
    "\n",
    "    return (\n",
    "        train_loss,\n",
    "        valid_loss,\n",
    "        train_metrics.last_step_metrics(),\n",
    "        val_metrics.last_step_metrics(),\n",
    "    )"
   ]
  },
  {
   "cell_type": "markdown",
   "id": "113cb436",
   "metadata": {
    "papermill": {
     "duration": 0.055267,
     "end_time": "2024-06-24T04:37:49.341238",
     "exception": false,
     "start_time": "2024-06-24T04:37:49.285971",
     "status": "completed"
    },
    "tags": []
   },
   "source": [
    "# Training"
   ]
  },
  {
   "cell_type": "code",
   "execution_count": 26,
   "id": "eab68eca",
   "metadata": {
    "execution": {
     "iopub.execute_input": "2024-06-24T04:37:49.451815Z",
     "iopub.status.busy": "2024-06-24T04:37:49.451428Z",
     "iopub.status.idle": "2024-06-24T04:37:49.456067Z",
     "shell.execute_reply": "2024-06-24T04:37:49.455118Z"
    },
    "papermill": {
     "duration": 0.062137,
     "end_time": "2024-06-24T04:37:49.457997",
     "exception": false,
     "start_time": "2024-06-24T04:37:49.395860",
     "status": "completed"
    },
    "tags": []
   },
   "outputs": [],
   "source": [
    "from tqdm import tqdm\n",
    "from datetime import datetime\n",
    "time_str = str(datetime.now().strftime(\"%Y%m%d-%H%M\"))"
   ]
  },
  {
   "cell_type": "code",
   "execution_count": 27,
   "id": "1be1b86a",
   "metadata": {
    "execution": {
     "iopub.execute_input": "2024-06-24T04:37:49.571013Z",
     "iopub.status.busy": "2024-06-24T04:37:49.570108Z",
     "iopub.status.idle": "2024-06-24T04:38:06.147854Z",
     "shell.execute_reply": "2024-06-24T04:38:06.146955Z"
    },
    "papermill": {
     "duration": 16.636689,
     "end_time": "2024-06-24T04:38:06.150197",
     "exception": false,
     "start_time": "2024-06-24T04:37:49.513508",
     "status": "completed"
    },
    "tags": []
   },
   "outputs": [
    {
     "name": "stderr",
     "output_type": "stream",
     "text": [
      "\u001b[34m\u001b[1mwandb\u001b[0m: Currently logged in as: \u001b[33mthinh_dao_tuan\u001b[0m. Use \u001b[1m`wandb login --relogin`\u001b[0m to force relogin\n",
      "\u001b[34m\u001b[1mwandb\u001b[0m: Tracking run with wandb version 0.17.2\n",
      "\u001b[34m\u001b[1mwandb\u001b[0m: Run data is saved locally in \u001b[35m\u001b[1m/kaggle/working/wandb/run-20240624_043749-7y67nkag\u001b[0m\n",
      "\u001b[34m\u001b[1mwandb\u001b[0m: Run \u001b[1m`wandb offline`\u001b[0m to turn off syncing.\n",
      "\u001b[34m\u001b[1mwandb\u001b[0m: Syncing run \u001b[33mvit_base14\u001b[0m\n",
      "\u001b[34m\u001b[1mwandb\u001b[0m: ⭐️ View project at \u001b[34m\u001b[4mhttps://wandb.ai/thinh_dao_tuan/eyepacs-airogs-light-v2\u001b[0m\n",
      "\u001b[34m\u001b[1mwandb\u001b[0m: 🚀 View run at \u001b[34m\u001b[4mhttps://wandb.ai/thinh_dao_tuan/eyepacs-airogs-light-v2/runs/7y67nkag\u001b[0m\n"
     ]
    }
   ],
   "source": [
    "for param in model.parameters():\n",
    "    param.requires_grad = True\n",
    "optimizer = torch.optim.Adam(model.parameters(), lr=0.0001, betas=(0.9, 0.999), eps=1e-08, weight_decay=0)\n",
    "# Initialize a new run\n",
    "\n",
    "run = wandb.init(project=\"eyepacs-airogs-light-v2\", name = \"vit_base\" + str(random_seed), reinit=True)\n",
    "\n",
    "model = model.to(device)\n",
    "num_epoch = config.num_epochs\n",
    "best_val_acc = 0.0\n",
    "import logging\n",
    "import numpy as np"
   ]
  },
  {
   "cell_type": "code",
   "execution_count": 28,
   "id": "13d4d9b4",
   "metadata": {
    "execution": {
     "iopub.execute_input": "2024-06-24T04:38:06.266338Z",
     "iopub.status.busy": "2024-06-24T04:38:06.265972Z",
     "iopub.status.idle": "2024-06-24T13:47:56.570818Z",
     "shell.execute_reply": "2024-06-24T13:47:56.569873Z"
    },
    "papermill": {
     "duration": 32990.428341,
     "end_time": "2024-06-24T13:47:56.636648",
     "exception": false,
     "start_time": "2024-06-24T04:38:06.208307",
     "status": "completed"
    },
    "tags": []
   },
   "outputs": [
    {
     "name": "stdout",
     "output_type": "stream",
     "text": [
      "begin training process\n"
     ]
    },
    {
     "name": "stderr",
     "output_type": "stream",
     "text": [
      "  0%|          | 0/40 [00:00<?, ?it/s]"
     ]
    },
    {
     "name": "stdout",
     "output_type": "stream",
     "text": [
      "Epoch 1 / 40 \n",
      " Training loss: 0.6915088921785355 - Other training metrics: \n",
      "{'accuracy_score': 0.52828125, 'f1_score': 0.5282325874678235}\n",
      " \n",
      " Validation loss : 0.6699899835698306 - Other validation metrics:\n",
      "{'accuracy_score': 0.6325, 'f1_score': 0.6278946144390178}\n",
      "\n",
      "\n",
      "Validation accuracy= 0.6325===> Save best epoch\n"
     ]
    },
    {
     "name": "stderr",
     "output_type": "stream",
     "text": [
      "  5%|▌         | 2/40 [27:36<8:44:07, 827.56s/it]"
     ]
    },
    {
     "name": "stdout",
     "output_type": "stream",
     "text": [
      "Epoch 2 / 40 \n",
      " Training loss: 0.6757604188472033 - Other training metrics: \n",
      "{'accuracy_score': 0.5734375, 'f1_score': 0.5734173373038335}\n",
      " \n",
      " Validation loss : 0.6455614725127816 - Other validation metrics:\n",
      "{'accuracy_score': 0.626875, 'f1_score': 0.6265247210371915}\n",
      "\n",
      "\n",
      "Validation accuracy= 0.626875===> No saving\n",
      "Epoch 3 / 40 \n",
      " Training loss: 0.6191553930193185 - Other training metrics: \n",
      "{'accuracy_score': 0.665, 'f1_score': 0.6648659463785513}\n",
      " \n",
      " Validation loss : 0.5651370705245062 - Other validation metrics:\n",
      "{'accuracy_score': 0.716875, 'f1_score': 0.7099629410430051}\n",
      "\n",
      "\n",
      "Validation accuracy= 0.716875===> Save best epoch\n"
     ]
    },
    {
     "name": "stderr",
     "output_type": "stream",
     "text": [
      "  8%|▊         | 3/40 [41:20<8:29:23, 826.04s/it]"
     ]
    },
    {
     "name": "stdout",
     "output_type": "stream",
     "text": [
      "Epoch 4 / 40 \n",
      " Training loss: 0.4823444702103734 - Other training metrics: \n",
      "{'accuracy_score': 0.773125, 'f1_score': 0.7730912960802088}\n",
      " \n",
      " Validation loss : 0.45500225161056734 - Other validation metrics:\n",
      "{'accuracy_score': 0.794375, 'f1_score': 0.7934162415491585}\n",
      "\n",
      "\n",
      "Validation accuracy= 0.794375===> Save best epoch\n"
     ]
    },
    {
     "name": "stderr",
     "output_type": "stream",
     "text": [
      " 10%|█         | 4/40 [55:06<8:15:23, 825.66s/it]"
     ]
    },
    {
     "name": "stdout",
     "output_type": "stream",
     "text": [
      "Epoch 5 / 40 \n",
      " Training loss: 0.3991981299966574 - Other training metrics: \n",
      "{'accuracy_score': 0.8215625, 'f1_score': 0.8215478439196031}\n",
      " \n",
      " Validation loss : 0.41752856851118847 - Other validation metrics:\n",
      "{'accuracy_score': 0.815625, 'f1_score': 0.8154224694205477}\n",
      "\n",
      "\n",
      "Validation accuracy= 0.815625===> Save best epoch\n"
     ]
    },
    {
     "name": "stderr",
     "output_type": "stream",
     "text": [
      " 12%|█▎        | 5/40 [1:08:50<8:01:26, 825.32s/it]"
     ]
    },
    {
     "name": "stdout",
     "output_type": "stream",
     "text": [
      "Epoch 6 / 40 \n",
      " Training loss: 0.3279069636389613 - Other training metrics: \n",
      "{'accuracy_score': 0.86203125, 'f1_score': 0.862030842425096}\n",
      " \n",
      " Validation loss : 0.40720698085133333 - Other validation metrics:\n",
      "{'accuracy_score': 0.831875, 'f1_score': 0.8317945110453244}\n",
      "\n",
      "\n",
      "Validation accuracy= 0.831875===> Save best epoch\n"
     ]
    },
    {
     "name": "stderr",
     "output_type": "stream",
     "text": [
      " 18%|█▊        | 7/40 [1:36:19<7:33:38, 824.81s/it]"
     ]
    },
    {
     "name": "stdout",
     "output_type": "stream",
     "text": [
      "Epoch 7 / 40 \n",
      " Training loss: 0.27222274417290465 - Other training metrics: \n",
      "{'accuracy_score': 0.88640625, 'f1_score': 0.8864059144315343}\n",
      " \n",
      " Validation loss : 0.5016032136975446 - Other validation metrics:\n",
      "{'accuracy_score': 0.810625, 'f1_score': 0.8091848675098271}\n",
      "\n",
      "\n",
      "Validation accuracy= 0.810625===> No saving\n"
     ]
    },
    {
     "name": "stderr",
     "output_type": "stream",
     "text": [
      " 20%|██        | 8/40 [1:50:04<7:19:58, 824.95s/it]"
     ]
    },
    {
     "name": "stdout",
     "output_type": "stream",
     "text": [
      "Epoch 8 / 40 \n",
      " Training loss: 0.21132369633531198 - Other training metrics: \n",
      "{'accuracy_score': 0.91671875, 'f1_score': 0.9167184063820966}\n",
      " \n",
      " Validation loss : 0.48271025725283834 - Other validation metrics:\n",
      "{'accuracy_score': 0.8125, 'f1_score': 0.8096434622047095}\n",
      "\n",
      "\n",
      "Validation accuracy= 0.8125===> No saving\n",
      "Epoch 9 / 40 \n",
      " Training loss: 0.16507758589694277 - Other training metrics: \n",
      "{'accuracy_score': 0.9371875, 'f1_score': 0.9371873466487954}\n",
      " \n",
      " Validation loss : 0.40265942909551083 - Other validation metrics:\n",
      "{'accuracy_score': 0.8375, 'f1_score': 0.8358585858585859}\n",
      "\n",
      "\n",
      "Validation accuracy= 0.8375===> Save best epoch\n"
     ]
    },
    {
     "name": "stderr",
     "output_type": "stream",
     "text": [
      " 25%|██▌       | 10/40 [2:17:37<6:52:50, 825.67s/it]"
     ]
    },
    {
     "name": "stdout",
     "output_type": "stream",
     "text": [
      "Epoch 10 / 40 \n",
      " Training loss: 0.1318504587514326 - Other training metrics: \n",
      "{'accuracy_score': 0.9496875, 'f1_score': 0.9496874803466719}\n",
      " \n",
      " Validation loss : 0.4643308312960491 - Other validation metrics:\n",
      "{'accuracy_score': 0.83375, 'f1_score': 0.8337240193780278}\n",
      "\n",
      "\n",
      "Validation accuracy= 0.83375===> No saving\n",
      "Epoch 11 / 40 \n",
      " Training loss: 0.1102575135108782 - Other training metrics: \n",
      "{'accuracy_score': 0.95859375, 'f1_score': 0.9585936276813709}\n",
      " \n",
      " Validation loss : 0.4590548535005746 - Other validation metrics:\n",
      "{'accuracy_score': 0.846875, 'f1_score': 0.846212693337518}\n",
      "\n",
      "\n",
      "Validation accuracy= 0.846875===> Save best epoch\n"
     ]
    },
    {
     "name": "stderr",
     "output_type": "stream",
     "text": [
      " 30%|███       | 12/40 [2:45:10<6:25:24, 825.86s/it]"
     ]
    },
    {
     "name": "stdout",
     "output_type": "stream",
     "text": [
      "Epoch 12 / 40 \n",
      " Training loss: 0.08541139937660773 - Other training metrics: \n",
      "{'accuracy_score': 0.9690625, 'f1_score': 0.9690622552776053}\n",
      " \n",
      " Validation loss : 0.4785296786737797 - Other validation metrics:\n",
      "{'accuracy_score': 0.846875, 'f1_score': 0.846831382843005}\n",
      "\n",
      "\n",
      "Validation accuracy= 0.846875===> No saving\n"
     ]
    },
    {
     "name": "stderr",
     "output_type": "stream",
     "text": [
      " 32%|███▎      | 13/40 [2:58:55<6:11:32, 825.66s/it]"
     ]
    },
    {
     "name": "stdout",
     "output_type": "stream",
     "text": [
      "Epoch 13 / 40 \n",
      " Training loss: 0.07384746746225573 - Other training metrics: \n",
      "{'accuracy_score': 0.9725, 'f1_score': 0.9724999892578083}\n",
      " \n",
      " Validation loss : 0.7774556481206971 - Other validation metrics:\n",
      "{'accuracy_score': 0.81875, 'f1_score': 0.8171428571428572}\n",
      "\n",
      "\n",
      "Validation accuracy= 0.81875===> No saving\n",
      "Epoch 14 / 40 \n",
      " Training loss: 0.08079455911058175 - Other training metrics: \n",
      "{'accuracy_score': 0.96890625, 'f1_score': 0.9689062310218696}\n",
      " \n",
      " Validation loss : 0.4437282994170164 - Other validation metrics:\n",
      "{'accuracy_score': 0.851875, 'f1_score': 0.8518193743823366}\n",
      "\n",
      "\n",
      "Validation accuracy= 0.851875===> Save best epoch\n"
     ]
    },
    {
     "name": "stderr",
     "output_type": "stream",
     "text": [
      " 35%|███▌      | 14/40 [3:12:42<5:57:57, 826.07s/it]"
     ]
    },
    {
     "name": "stdout",
     "output_type": "stream",
     "text": [
      "Epoch 15 / 40 \n",
      " Training loss: 0.06448221432932769 - Other training metrics: \n",
      "{'accuracy_score': 0.97515625, 'f1_score': 0.9751561135284557}\n",
      " \n",
      " Validation loss : 0.43571654665194276 - Other validation metrics:\n",
      "{'accuracy_score': 0.853125, 'f1_score': 0.8530546843704507}\n",
      "\n",
      "\n",
      "Validation accuracy= 0.853125===> Save best epoch\n"
     ]
    },
    {
     "name": "stderr",
     "output_type": "stream",
     "text": [
      " 40%|████      | 16/40 [3:40:11<5:30:07, 825.31s/it]"
     ]
    },
    {
     "name": "stdout",
     "output_type": "stream",
     "text": [
      "Epoch 16 / 40 \n",
      " Training loss: 0.059615596050098245 - Other training metrics: \n",
      "{'accuracy_score': 0.97953125, 'f1_score': 0.9795311055783572}\n",
      " \n",
      " Validation loss : 0.44868692865537013 - Other validation metrics:\n",
      "{'accuracy_score': 0.8475, 'f1_score': 0.8474463678637022}\n",
      "\n",
      "\n",
      "Validation accuracy= 0.8475===> No saving\n"
     ]
    },
    {
     "name": "stderr",
     "output_type": "stream",
     "text": [
      " 42%|████▎     | 17/40 [3:53:55<5:16:13, 824.94s/it]"
     ]
    },
    {
     "name": "stdout",
     "output_type": "stream",
     "text": [
      "Epoch 17 / 40 \n",
      " Training loss: 0.06282590425513263 - Other training metrics: \n",
      "{'accuracy_score': 0.97890625, 'f1_score': 0.978906208286203}\n",
      " \n",
      " Validation loss : 0.48092671723201474 - Other validation metrics:\n",
      "{'accuracy_score': 0.8525, 'f1_score': 0.8521664505540626}\n",
      "\n",
      "\n",
      "Validation accuracy= 0.8525===> No saving\n"
     ]
    },
    {
     "name": "stderr",
     "output_type": "stream",
     "text": [
      " 45%|████▌     | 18/40 [4:07:39<5:02:23, 824.69s/it]"
     ]
    },
    {
     "name": "stdout",
     "output_type": "stream",
     "text": [
      "Epoch 18 / 40 \n",
      " Training loss: 0.058294208489978704 - Other training metrics: \n",
      "{'accuracy_score': 0.9790625, 'f1_score': 0.9790624815978842}\n",
      " \n",
      " Validation loss : 0.561759789999235 - Other validation metrics:\n",
      "{'accuracy_score': 0.839375, 'f1_score': 0.8385981907453803}\n",
      "\n",
      "\n",
      "Validation accuracy= 0.839375===> No saving\n"
     ]
    },
    {
     "name": "stderr",
     "output_type": "stream",
     "text": [
      " 48%|████▊     | 19/40 [4:21:25<4:48:44, 824.99s/it]"
     ]
    },
    {
     "name": "stdout",
     "output_type": "stream",
     "text": [
      "Epoch 19 / 40 \n",
      " Training loss: 0.043629366750337795 - Other training metrics: \n",
      "{'accuracy_score': 0.985, 'f1_score': 0.9849999868163947}\n",
      " \n",
      " Validation loss : 0.691154830249755 - Other validation metrics:\n",
      "{'accuracy_score': 0.828125, 'f1_score': 0.826139114787303}\n",
      "\n",
      "\n",
      "Validation accuracy= 0.828125===> No saving\n"
     ]
    },
    {
     "name": "stderr",
     "output_type": "stream",
     "text": [
      " 50%|█████     | 20/40 [4:35:11<4:35:04, 825.25s/it]"
     ]
    },
    {
     "name": "stdout",
     "output_type": "stream",
     "text": [
      "Epoch 20 / 40 \n",
      " Training loss: 0.033787835762032044 - Other training metrics: \n",
      "{'accuracy_score': 0.98875, 'f1_score': 0.988749998901367}\n",
      " \n",
      " Validation loss : 0.7229381923317004 - Other validation metrics:\n",
      "{'accuracy_score': 0.86125, 'f1_score': 0.8611873173980125}\n",
      "\n",
      "\n"
     ]
    },
    {
     "name": "stderr",
     "output_type": "stream",
     "text": [
      " 52%|█████▎    | 21/40 [4:48:55<4:21:15, 825.02s/it]"
     ]
    },
    {
     "name": "stdout",
     "output_type": "stream",
     "text": [
      "Epoch 21 / 40 \n",
      " Training loss: 0.057470874050140994 - Other training metrics: \n",
      "{'accuracy_score': 0.97984375, 'f1_score': 0.9798437258872699}\n",
      " \n",
      " Validation loss : 0.640141394435911 - Other validation metrics:\n",
      "{'accuracy_score': 0.84, 'f1_score': 0.8399909994937215}\n",
      "\n",
      "\n",
      "Validation accuracy= 0.84===> No saving\n"
     ]
    },
    {
     "name": "stderr",
     "output_type": "stream",
     "text": [
      " 55%|█████▌    | 22/40 [5:02:40<4:07:28, 824.94s/it]"
     ]
    },
    {
     "name": "stdout",
     "output_type": "stream",
     "text": [
      "Epoch 22 / 40 \n",
      " Training loss: 0.03861102157430651 - Other training metrics: \n",
      "{'accuracy_score': 0.9875, 'f1_score': 0.9874999987792967}\n",
      " \n",
      " Validation loss : 0.6012866832686484 - Other validation metrics:\n",
      "{'accuracy_score': 0.83875, 'f1_score': 0.8382381754770956}\n",
      "\n",
      "\n",
      "Epoch 23 / 40 \n",
      " Training loss: 0.04263408375431027 - Other training metrics: \n",
      "{'accuracy_score': 0.984375, 'f1_score': 0.9843749862670776}\n",
      " \n",
      " Validation loss : 0.44665310619438514 - Other validation metrics:\n",
      "{'accuracy_score': 0.864375, 'f1_score': 0.8642145503964646}\n",
      "\n",
      "\n",
      "Validation accuracy= 0.864375===> Save best epoch\n"
     ]
    },
    {
     "name": "stderr",
     "output_type": "stream",
     "text": [
      " 60%|██████    | 24/40 [5:30:08<3:39:49, 824.32s/it]"
     ]
    },
    {
     "name": "stdout",
     "output_type": "stream",
     "text": [
      "Epoch 24 / 40 \n",
      " Training loss: 0.04031807381407816 - Other training metrics: \n",
      "{'accuracy_score': 0.985625, 'f1_score': 0.9856249985961912}\n",
      " \n",
      " Validation loss : 0.753433574791577 - Other validation metrics:\n",
      "{'accuracy_score': 0.85875, 'f1_score': 0.8582180963270017}\n",
      "\n",
      "\n",
      "Validation accuracy= 0.85875===> No saving\n"
     ]
    },
    {
     "name": "stderr",
     "output_type": "stream",
     "text": [
      " 62%|██████▎   | 25/40 [5:43:51<3:25:57, 823.87s/it]"
     ]
    },
    {
     "name": "stdout",
     "output_type": "stream",
     "text": [
      "Epoch 25 / 40 \n",
      " Training loss: 0.051277188745780224 - Other training metrics: \n",
      "{'accuracy_score': 0.9825, 'f1_score': 0.9824999931640597}\n",
      " \n",
      " Validation loss : 0.5492233259664293 - Other validation metrics:\n",
      "{'accuracy_score': 0.830625, 'f1_score': 0.8299740530052753}\n",
      "\n",
      "\n",
      "Validation accuracy= 0.830625===> No saving\n"
     ]
    },
    {
     "name": "stderr",
     "output_type": "stream",
     "text": [
      " 65%|██████▌   | 26/40 [5:57:32<3:12:04, 823.17s/it]"
     ]
    },
    {
     "name": "stdout",
     "output_type": "stream",
     "text": [
      "Epoch 26 / 40 \n",
      " Training loss: 0.0695606235651212 - Other training metrics: \n",
      "{'accuracy_score': 0.97546875, 'f1_score': 0.9754687494010925}\n",
      " \n",
      " Validation loss : 0.5541171280046063 - Other validation metrics:\n",
      "{'accuracy_score': 0.854375, 'f1_score': 0.8543749431152121}\n",
      "\n",
      "\n",
      "Validation accuracy= 0.854375===> No saving\n"
     ]
    },
    {
     "name": "stderr",
     "output_type": "stream",
     "text": [
      " 68%|██████▊   | 27/40 [6:11:14<2:58:16, 822.81s/it]"
     ]
    },
    {
     "name": "stdout",
     "output_type": "stream",
     "text": [
      "Epoch 27 / 40 \n",
      " Training loss: 0.035503031316304716 - Other training metrics: \n",
      "{'accuracy_score': 0.988125, 'f1_score': 0.988124998840332}\n",
      " \n",
      " Validation loss : 0.6152689980449152 - Other validation metrics:\n",
      "{'accuracy_score': 0.864375, 'f1_score': 0.8643749470214637}\n",
      "\n",
      "\n"
     ]
    },
    {
     "name": "stderr",
     "output_type": "stream",
     "text": [
      " 70%|███████   | 28/40 [6:24:58<2:44:36, 823.06s/it]"
     ]
    },
    {
     "name": "stdout",
     "output_type": "stream",
     "text": [
      "Epoch 28 / 40 \n",
      " Training loss: 0.038555516079159136 - Other training metrics: \n",
      "{'accuracy_score': 0.9859375, 'f1_score': 0.9859374986267089}\n",
      " \n",
      " Validation loss : 0.5492676180520648 - Other validation metrics:\n",
      "{'accuracy_score': 0.866875, 'f1_score': 0.8667175079928431}\n",
      "\n",
      "\n"
     ]
    },
    {
     "name": "stderr",
     "output_type": "stream",
     "text": [
      " 72%|███████▎  | 29/40 [6:38:43<2:31:01, 823.73s/it]"
     ]
    },
    {
     "name": "stdout",
     "output_type": "stream",
     "text": [
      "Epoch 29 / 40 \n",
      " Training loss: 0.02920226374343656 - Other training metrics: \n",
      "{'accuracy_score': 0.98984375, 'f1_score': 0.9898437477684017}\n",
      " \n",
      " Validation loss : 0.8026312459840546 - Other validation metrics:\n",
      "{'accuracy_score': 0.854375, 'f1_score': 0.8542697440456017}\n",
      "\n",
      "\n"
     ]
    },
    {
     "name": "stderr",
     "output_type": "stream",
     "text": [
      " 75%|███████▌  | 30/40 [6:52:27<2:17:18, 823.85s/it]"
     ]
    },
    {
     "name": "stdout",
     "output_type": "stream",
     "text": [
      "Epoch 30 / 40 \n",
      " Training loss: 0.035621979695280005 - Other training metrics: \n",
      "{'accuracy_score': 0.98734375, 'f1_score': 0.9873437348594485}\n",
      " \n",
      " Validation loss : 0.4758501398998078 - Other validation metrics:\n",
      "{'accuracy_score': 0.836875, 'f1_score': 0.8359366989096627}\n",
      "\n",
      "\n"
     ]
    },
    {
     "name": "stderr",
     "output_type": "stream",
     "text": [
      " 78%|███████▊  | 31/40 [7:06:12<2:03:36, 824.05s/it]"
     ]
    },
    {
     "name": "stdout",
     "output_type": "stream",
     "text": [
      "Epoch 31 / 40 \n",
      " Training loss: 0.03888076053272016 - Other training metrics: \n",
      "{'accuracy_score': 0.98515625, 'f1_score': 0.9851562061499254}\n",
      " \n",
      " Validation loss : 0.5188235022858012 - Other validation metrics:\n",
      "{'accuracy_score': 0.859375, 'f1_score': 0.8592205275241467}\n",
      "\n",
      "\n"
     ]
    },
    {
     "name": "stderr",
     "output_type": "stream",
     "text": [
      " 80%|████████  | 32/40 [7:19:56<1:49:53, 824.22s/it]"
     ]
    },
    {
     "name": "stdout",
     "output_type": "stream",
     "text": [
      "Epoch 32 / 40 \n",
      " Training loss: 0.029410013527846102 - Other training metrics: \n",
      "{'accuracy_score': 0.9890625, 'f1_score': 0.9890624989318847}\n",
      " \n",
      " Validation loss : 0.873931704532688 - Other validation metrics:\n",
      "{'accuracy_score': 0.858125, 'f1_score': 0.8581205108442884}\n",
      "\n",
      "\n"
     ]
    },
    {
     "name": "stderr",
     "output_type": "stream",
     "text": [
      " 82%|████████▎ | 33/40 [7:33:41<1:36:11, 824.48s/it]"
     ]
    },
    {
     "name": "stdout",
     "output_type": "stream",
     "text": [
      "Epoch 33 / 40 \n",
      " Training loss: 0.04360853078875834 - Other training metrics: \n",
      "{'accuracy_score': 0.98328125, 'f1_score': 0.9832812299995184}\n",
      " \n",
      " Validation loss : 0.9854279606328694 - Other validation metrics:\n",
      "{'accuracy_score': 0.858125, 'f1_score': 0.857579741816227}\n",
      "\n",
      "\n",
      "Validation accuracy= 0.858125===> No saving\n"
     ]
    },
    {
     "name": "stderr",
     "output_type": "stream",
     "text": [
      " 85%|████████▌ | 34/40 [7:47:27<1:22:28, 824.70s/it]"
     ]
    },
    {
     "name": "stdout",
     "output_type": "stream",
     "text": [
      "Epoch 34 / 40 \n",
      " Training loss: 0.03858222555008297 - Other training metrics: \n",
      "{'accuracy_score': 0.98640625, 'f1_score': 0.9864062470130914}\n",
      " \n",
      " Validation loss : 0.541886429468703 - Other validation metrics:\n",
      "{'accuracy_score': 0.84625, 'f1_score': 0.8462382276143017}\n",
      "\n",
      "\n"
     ]
    },
    {
     "name": "stderr",
     "output_type": "stream",
     "text": [
      " 88%|████████▊ | 35/40 [8:01:11<1:08:43, 824.73s/it]"
     ]
    },
    {
     "name": "stdout",
     "output_type": "stream",
     "text": [
      "Epoch 35 / 40 \n",
      " Training loss: 0.03579010420361499 - Other training metrics: \n",
      "{'accuracy_score': 0.988125, 'f1_score': 0.988124998840332}\n",
      " \n",
      " Validation loss : 0.5774017304532053 - Other validation metrics:\n",
      "{'accuracy_score': 0.85, 'f1_score': 0.8499990624941406}\n",
      "\n",
      "\n"
     ]
    },
    {
     "name": "stderr",
     "output_type": "stream",
     "text": [
      " 90%|█████████ | 36/40 [8:14:57<54:59, 824.93s/it]  "
     ]
    },
    {
     "name": "stdout",
     "output_type": "stream",
     "text": [
      "Epoch 36 / 40 \n",
      " Training loss: 0.0336815363366054 - Other training metrics: \n",
      "{'accuracy_score': 0.98890625, 'f1_score': 0.9889062367286523}\n",
      " \n",
      " Validation loss : 0.5169540706454955 - Other validation metrics:\n",
      "{'accuracy_score': 0.863125, 'f1_score': 0.8631245187971364}\n",
      "\n",
      "\n"
     ]
    },
    {
     "name": "stderr",
     "output_type": "stream",
     "text": [
      " 92%|█████████▎| 37/40 [8:28:43<41:15, 825.30s/it]"
     ]
    },
    {
     "name": "stdout",
     "output_type": "stream",
     "text": [
      "Epoch 37 / 40 \n",
      " Training loss: 0.020685812010297015 - Other training metrics: \n",
      "{'accuracy_score': 0.99359375, 'f1_score': 0.9935937485923764}\n",
      " \n",
      " Validation loss : 0.89334544894551 - Other validation metrics:\n",
      "{'accuracy_score': 0.83375, 'f1_score': 0.8322359292615857}\n",
      "\n",
      "\n"
     ]
    },
    {
     "name": "stderr",
     "output_type": "stream",
     "text": [
      " 95%|█████████▌| 38/40 [8:42:25<27:28, 824.46s/it]"
     ]
    },
    {
     "name": "stdout",
     "output_type": "stream",
     "text": [
      "Epoch 38 / 40 \n",
      " Training loss: 0.02161041952282801 - Other training metrics: \n",
      "{'accuracy_score': 0.9934375, 'f1_score': 0.9934374993591307}\n",
      " \n",
      " Validation loss : 0.8643716365635143 - Other validation metrics:\n",
      "{'accuracy_score': 0.855, 'f1_score': 0.8546891710549597}\n",
      "\n",
      "\n"
     ]
    },
    {
     "name": "stderr",
     "output_type": "stream",
     "text": [
      " 98%|█████████▊| 39/40 [8:56:07<13:43, 823.72s/it]"
     ]
    },
    {
     "name": "stdout",
     "output_type": "stream",
     "text": [
      "Epoch 39 / 40 \n",
      " Training loss: 0.031123703075224968 - Other training metrics: \n",
      "{'accuracy_score': 0.989375, 'f1_score': 0.989375}\n",
      " \n",
      " Validation loss : 0.7654194685675858 - Other validation metrics:\n",
      "{'accuracy_score': 0.828125, 'f1_score': 0.8275672203718356}\n",
      "\n",
      "\n"
     ]
    },
    {
     "name": "stderr",
     "output_type": "stream",
     "text": [
      "100%|██████████| 40/40 [9:09:50<00:00, 824.76s/it]"
     ]
    },
    {
     "name": "stdout",
     "output_type": "stream",
     "text": [
      "Epoch 40 / 40 \n",
      " Training loss: 0.03281386224391099 - Other training metrics: \n",
      "{'accuracy_score': 0.98890625, 'f1_score': 0.9889061717256745}\n",
      " \n",
      " Validation loss : 0.7826607781495032 - Other validation metrics:\n",
      "{'accuracy_score': 0.858125, 'f1_score': 0.8581156334148621}\n",
      "\n",
      "\n"
     ]
    },
    {
     "name": "stderr",
     "output_type": "stream",
     "text": [
      "\n"
     ]
    }
   ],
   "source": [
    "print(\"begin training process\")\n",
    "for i in tqdm(range(0, num_epoch)):\n",
    "    loss, val_loss, train_result, val_result = train_one_epoch(\n",
    "        model,\n",
    "        train_loader,\n",
    "        val_loader,\n",
    "        device,\n",
    "        optimizer,\n",
    "        criterion,\n",
    "        train_metrics,\n",
    "        val_metrics,\n",
    "    )\n",
    "    wandb.log({\n",
    "        \"Epoch\": i + 1,\n",
    "        \"Training Loss\": loss,\n",
    "        \"Validation Loss\": val_loss,\n",
    "        \"Training Accuracy\": train_result[\"accuracy_score\"],\n",
    "        \"Validation Accuracy\": val_result[\"accuracy_score\"],\n",
    "        \"Training F1 Score\": train_result[\"f1_score\"],\n",
    "        \"Validation F1 Score\": val_result[\"f1_score\"]\n",
    "    })\n",
    "    scheduler.step(val_loss)\n",
    "    print(\n",
    "        \"Epoch {} / {} \\n Training loss: {} - Other training metrics: \".format(\n",
    "            i + 1, num_epoch, loss\n",
    "        )\n",
    "    )\n",
    "    print(train_result)\n",
    "    print(\n",
    "        \" \\n Validation loss : {} - Other validation metrics:\".format(val_loss)\n",
    "    )\n",
    "    print(val_result)\n",
    "    print(\"\\n\")\n",
    "    # saving epoch with best validation accuracy\n",
    "    if (loss<0.04):\n",
    "        # no saving\n",
    "        continue\n",
    "    if best_val_acc < float(val_result[\"accuracy_score\"]):\n",
    "        print(\n",
    "            \"Validation accuracy= \"+\n",
    "            str(val_result[\"accuracy_score\"])+\n",
    "            \"===> Save best epoch\"\n",
    "        )\n",
    "        best_val_acc = val_result[\"accuracy_score\"]\n",
    "        torch.save(\n",
    "            model,\n",
    "            \"./\" +  \"best.pt\"\n",
    "        )\n",
    "    else:\n",
    "        print(\n",
    "            \"Validation accuracy= \"+ str(val_result[\"accuracy_score\"])+ \"===> No saving\"\n",
    "        )\n",
    "        continue"
   ]
  },
  {
   "cell_type": "code",
   "execution_count": 29,
   "id": "d37246ec",
   "metadata": {
    "execution": {
     "iopub.execute_input": "2024-06-24T13:47:56.760042Z",
     "iopub.status.busy": "2024-06-24T13:47:56.759723Z",
     "iopub.status.idle": "2024-06-24T13:48:09.136480Z",
     "shell.execute_reply": "2024-06-24T13:48:09.135504Z"
    },
    "papermill": {
     "duration": 12.441028,
     "end_time": "2024-06-24T13:48:09.138812",
     "exception": false,
     "start_time": "2024-06-24T13:47:56.697784",
     "status": "completed"
    },
    "tags": []
   },
   "outputs": [
    {
     "name": "stdout",
     "output_type": "stream",
     "text": [
      "Collecting lion-pytorch\r\n",
      "  Downloading lion_pytorch-0.2.2-py3-none-any.whl.metadata (618 bytes)\r\n",
      "Requirement already satisfied: torch>=1.6 in /opt/conda/lib/python3.10/site-packages (from lion-pytorch) (2.1.2)\r\n",
      "Requirement already satisfied: filelock in /opt/conda/lib/python3.10/site-packages (from torch>=1.6->lion-pytorch) (3.13.1)\r\n",
      "Requirement already satisfied: typing-extensions in /opt/conda/lib/python3.10/site-packages (from torch>=1.6->lion-pytorch) (4.9.0)\r\n",
      "Requirement already satisfied: sympy in /opt/conda/lib/python3.10/site-packages (from torch>=1.6->lion-pytorch) (1.12.1)\r\n",
      "Requirement already satisfied: networkx in /opt/conda/lib/python3.10/site-packages (from torch>=1.6->lion-pytorch) (3.2.1)\r\n",
      "Requirement already satisfied: jinja2 in /opt/conda/lib/python3.10/site-packages (from torch>=1.6->lion-pytorch) (3.1.2)\r\n",
      "Requirement already satisfied: fsspec in /opt/conda/lib/python3.10/site-packages (from torch>=1.6->lion-pytorch) (2024.3.1)\r\n",
      "Requirement already satisfied: MarkupSafe>=2.0 in /opt/conda/lib/python3.10/site-packages (from jinja2->torch>=1.6->lion-pytorch) (2.1.3)\r\n",
      "Requirement already satisfied: mpmath<1.4.0,>=1.1.0 in /opt/conda/lib/python3.10/site-packages (from sympy->torch>=1.6->lion-pytorch) (1.3.0)\r\n",
      "Downloading lion_pytorch-0.2.2-py3-none-any.whl (5.4 kB)\r\n",
      "Installing collected packages: lion-pytorch\r\n",
      "Successfully installed lion-pytorch-0.2.2\r\n"
     ]
    }
   ],
   "source": [
    "!pip install lion-pytorch\n",
    "from lion_pytorch import Lion\n",
    "optimizer = Lion(model.parameters(), lr=1e-4, weight_decay=1e-2)"
   ]
  },
  {
   "cell_type": "code",
   "execution_count": 30,
   "id": "8ec11d96",
   "metadata": {
    "execution": {
     "iopub.execute_input": "2024-06-24T13:48:09.266527Z",
     "iopub.status.busy": "2024-06-24T13:48:09.266176Z",
     "iopub.status.idle": "2024-06-24T13:48:09.676665Z",
     "shell.execute_reply": "2024-06-24T13:48:09.675831Z"
    },
    "papermill": {
     "duration": 0.476571,
     "end_time": "2024-06-24T13:48:09.678950",
     "exception": false,
     "start_time": "2024-06-24T13:48:09.202379",
     "status": "completed"
    },
    "tags": []
   },
   "outputs": [],
   "source": [
    "import copy\n",
    "val_model = torch.load(\"/kaggle/working/best.pt\")\n",
    "val_model = val_model.to(device)"
   ]
  },
  {
   "cell_type": "code",
   "execution_count": 31,
   "id": "5ed1d766",
   "metadata": {
    "execution": {
     "iopub.execute_input": "2024-06-24T13:48:09.805535Z",
     "iopub.status.busy": "2024-06-24T13:48:09.805194Z",
     "iopub.status.idle": "2024-06-24T13:48:09.811881Z",
     "shell.execute_reply": "2024-06-24T13:48:09.811001Z"
    },
    "papermill": {
     "duration": 0.071975,
     "end_time": "2024-06-24T13:48:09.813806",
     "exception": false,
     "start_time": "2024-06-24T13:48:09.741831",
     "status": "completed"
    },
    "tags": []
   },
   "outputs": [],
   "source": [
    "def val_result(model, val_loader, device):\n",
    "    # testing the model by turning model \"Eval\" mode\n",
    "    model.eval()\n",
    "    preds = []\n",
    "    labels = []\n",
    "    with torch.no_grad():\n",
    "        for data, target in val_loader:\n",
    "            # move-tensors-to-GPU\n",
    "            data = data.to(device)\n",
    "            target = target.to(device)\n",
    "            # forward-pass: compute-predicted-outputs-by-passing-inputs-to-the-model\n",
    "            output = model(data)\n",
    "            # applying Softmax to results\n",
    "            prob = nn.Softmax(dim=1)\n",
    "            probs = prob(output)\n",
    "            labels.extend(target.tolist())\n",
    "            preds.extend(torch.argmax(probs, axis=1).tolist())\n",
    "    return preds, labels"
   ]
  },
  {
   "cell_type": "code",
   "execution_count": 32,
   "id": "9fe8171d",
   "metadata": {
    "execution": {
     "iopub.execute_input": "2024-06-24T13:48:09.941336Z",
     "iopub.status.busy": "2024-06-24T13:48:09.941053Z",
     "iopub.status.idle": "2024-06-24T13:49:08.969263Z",
     "shell.execute_reply": "2024-06-24T13:49:08.968490Z"
    },
    "papermill": {
     "duration": 59.095683,
     "end_time": "2024-06-24T13:49:08.971650",
     "exception": false,
     "start_time": "2024-06-24T13:48:09.875967",
     "status": "completed"
    },
    "tags": []
   },
   "outputs": [],
   "source": [
    "preds, grd_truth = val_result(val_model, val_loader, device)"
   ]
  },
  {
   "cell_type": "code",
   "execution_count": 33,
   "id": "4b1fbe6f",
   "metadata": {
    "execution": {
     "iopub.execute_input": "2024-06-24T13:49:09.097483Z",
     "iopub.status.busy": "2024-06-24T13:49:09.097133Z",
     "iopub.status.idle": "2024-06-24T13:49:09.101332Z",
     "shell.execute_reply": "2024-06-24T13:49:09.100595Z"
    },
    "papermill": {
     "duration": 0.068828,
     "end_time": "2024-06-24T13:49:09.103179",
     "exception": false,
     "start_time": "2024-06-24T13:49:09.034351",
     "status": "completed"
    },
    "tags": []
   },
   "outputs": [],
   "source": [
    "from sklearn.metrics import classification_report\n",
    "from sklearn.metrics import confusion_matrix, ConfusionMatrixDisplay"
   ]
  },
  {
   "cell_type": "code",
   "execution_count": 34,
   "id": "f2a8f9f2",
   "metadata": {
    "execution": {
     "iopub.execute_input": "2024-06-24T13:49:09.229598Z",
     "iopub.status.busy": "2024-06-24T13:49:09.229284Z",
     "iopub.status.idle": "2024-06-24T13:49:09.243002Z",
     "shell.execute_reply": "2024-06-24T13:49:09.242110Z"
    },
    "papermill": {
     "duration": 0.078409,
     "end_time": "2024-06-24T13:49:09.244819",
     "exception": false,
     "start_time": "2024-06-24T13:49:09.166410",
     "status": "completed"
    },
    "tags": []
   },
   "outputs": [
    {
     "name": "stdout",
     "output_type": "stream",
     "text": [
      "              precision    recall  f1-score   support\n",
      "\n",
      "           0   0.840936  0.898750  0.868882       800\n",
      "           1   0.891275  0.830000  0.859547       800\n",
      "\n",
      "    accuracy                       0.864375      1600\n",
      "   macro avg   0.866105  0.864375  0.864215      1600\n",
      "weighted avg   0.866105  0.864375  0.864215      1600\n",
      "\n"
     ]
    }
   ],
   "source": [
    "report = classification_report(grd_truth, preds, digits=6)\n",
    "print(report)"
   ]
  },
  {
   "cell_type": "code",
   "execution_count": 35,
   "id": "801f5c1f",
   "metadata": {
    "execution": {
     "iopub.execute_input": "2024-06-24T13:49:09.372385Z",
     "iopub.status.busy": "2024-06-24T13:49:09.372091Z",
     "iopub.status.idle": "2024-06-24T13:49:09.689277Z",
     "shell.execute_reply": "2024-06-24T13:49:09.688331Z"
    },
    "papermill": {
     "duration": 0.384449,
     "end_time": "2024-06-24T13:49:09.691400",
     "exception": false,
     "start_time": "2024-06-24T13:49:09.306951",
     "status": "completed"
    },
    "tags": []
   },
   "outputs": [
    {
     "data": {
      "text/plain": [
       "<sklearn.metrics._plot.confusion_matrix.ConfusionMatrixDisplay at 0x7b5ba6fc0460>"
      ]
     },
     "execution_count": 35,
     "metadata": {},
     "output_type": "execute_result"
    },
    {
     "data": {
      "image/png": "[encoded data removed]",
      "text/plain": [
       "<Figure size 640x480 with 2 Axes>"
      ]
     },
     "metadata": {},
     "output_type": "display_data"
    }
   ],
   "source": [
    "cm = confusion_matrix(grd_truth, preds)\n",
    "disp = ConfusionMatrixDisplay(confusion_matrix=cm)\n",
    "disp.plot()"
   ]
  },
  {
   "cell_type": "code",
   "execution_count": 36,
   "id": "e9f78b81",
   "metadata": {
    "execution": {
     "iopub.execute_input": "2024-06-24T13:49:09.824965Z",
     "iopub.status.busy": "2024-06-24T13:49:09.824664Z",
     "iopub.status.idle": "2024-06-24T13:49:10.106514Z",
     "shell.execute_reply": "2024-06-24T13:49:10.105499Z"
    },
    "papermill": {
     "duration": 0.352009,
     "end_time": "2024-06-24T13:49:10.110174",
     "exception": false,
     "start_time": "2024-06-24T13:49:09.758165",
     "status": "completed"
    },
    "tags": []
   },
   "outputs": [
    {
     "name": "stderr",
     "output_type": "stream",
     "text": [
      "\u001b[34m\u001b[1mwandb\u001b[0m: \u001b[33mWARNING\u001b[0m Saving files without folders. If you want to preserve subdirectories pass base_path to wandb.save, i.e. wandb.save(\"/mnt/folder/file.h5\", base_path=\"/mnt\")\n"
     ]
    }
   ],
   "source": [
    "import copy\n",
    "\n",
    "# save model to wandb\n",
    "wandb.save(\"/kaggle/working/best.pt\")\n",
    "test_model = torch.load(\"/kaggle/working/best.pt\")\n",
    "test_model = test_model.to(device)"
   ]
  },
  {
   "cell_type": "code",
   "execution_count": 37,
   "id": "ef6e0e6d",
   "metadata": {
    "execution": {
     "iopub.execute_input": "2024-06-24T13:49:10.259802Z",
     "iopub.status.busy": "2024-06-24T13:49:10.259427Z",
     "iopub.status.idle": "2024-06-24T13:49:10.993969Z",
     "shell.execute_reply": "2024-06-24T13:49:10.993011Z"
    },
    "papermill": {
     "duration": 0.801473,
     "end_time": "2024-06-24T13:49:10.995864",
     "exception": false,
     "start_time": "2024-06-24T13:49:10.194391",
     "status": "completed"
    },
    "tags": []
   },
   "outputs": [
    {
     "data": {
      "image/png": "[encoded data removed]",
      "text/plain": [
       "<Figure size 640x480 with 2 Axes>"
      ]
     },
     "metadata": {},
     "output_type": "display_data"
    }
   ],
   "source": [
    "cm = confusion_matrix(grd_truth, preds)\n",
    "disp = ConfusionMatrixDisplay(confusion_matrix=cm)\n",
    "disp.plot()\n",
    "\n",
    "# save confusion matrix plot to wandb\n",
    "\n",
    "wandb.log({\"confusion_matrix\": disp.figure_})"
   ]
  }
 ],
 "metadata": {
  "kaggle": {
   "accelerator": "gpu",
   "dataSources": [
    {
     "datasetId": 4154884,
     "sourceId": 7802508,
     "sourceType": "datasetVersion"
    }
   ],
   "dockerImageVersionId": 30733,
   "isGpuEnabled": true,
   "isInternetEnabled": true,
   "language": "python",
   "sourceType": "notebook"
  },
  "kernelspec": {
   "display_name": "Python 3",
   "language": "python",
   "name": "python3"
  },
  "language_info": {
   "codemirror_mode": {
    "name": "ipython",
    "version": 3
   },
   "file_extension": ".py",
   "mimetype": "text/x-python",
   "name": "python",
   "nbconvert_exporter": "python",
   "pygments_lexer": "ipython3",
   "version": "3.10.13"
  },
  "papermill": {
   "default_parameters": {},
   "duration": 33261.081997,
   "end_time": "2024-06-24T13:49:13.851200",
   "environment_variables": {},
   "exception": null,
   "input_path": "__notebook__.ipynb",
   "output_path": "__notebook__.ipynb",
   "parameters": {},
   "start_time": "2024-06-24T04:34:52.769203",
   "version": "2.4.0"
  },
  "widgets": {
   "application/vnd.jupyter.widget-state+json": {
    "state": {
     "703f71af3a974bb19dea0d8b219739e8": {
      "model_module": "@jupyter-widgets/controls",
      "model_module_version": "1.5.0",
      "model_name": "FloatProgressModel",
      "state": {
       "_dom_classes": [],
       "_model_module": "@jupyter-widgets/controls",
       "_model_module_version": "1.5.0",
       "_model_name": "FloatProgressModel",
       "_view_count": null,
       "_view_module": "@jupyter-widgets/controls",
       "_view_module_version": "1.5.0",
       "_view_name": "ProgressView",
       "bar_style": "success",
       "description": "",
       "description_tooltip": null,
       "layout": "IPY_MODEL_9e30b7b7ec6f429bb19553af28eea01f",
       "max": 346321582.0,
       "min": 0.0,
       "orientation": "horizontal",
       "style": "IPY_MODEL_79736265ba3a4ad6a99ad7ee8e861f0b",
       "value": 346321582.0
      }
     },
     "74de9aced11747128c21ea8c82c34d4f": {
      "model_module": "@jupyter-widgets/controls",
      "model_module_version": "1.5.0",
      "model_name": "HTMLModel",
      "state": {
       "_dom_classes": [],
       "_model_module": "@jupyter-widgets/controls",
       "_model_module_version": "1.5.0",
       "_model_name": "HTMLModel",
       "_view_count": null,
       "_view_module": "@jupyter-widgets/controls",
       "_view_module_version": "1.5.0",
       "_view_name": "HTMLView",
       "description": "",
       "description_tooltip": null,
       "layout": "IPY_MODEL_a02089a912554381b6270b107e4c8fbc",
       "placeholder": "​",
       "style": "IPY_MODEL_d1ae1ef146994cadb85d644c1a4b384f",
       "value": "model.safetensors: 100%"
      }
     },
     "79736265ba3a4ad6a99ad7ee8e861f0b": {
      "model_module": "@jupyter-widgets/controls",
      "model_module_version": "1.5.0",
      "model_name": "ProgressStyleModel",
      "state": {
       "_model_module": "@jupyter-widgets/controls",
       "_model_module_version": "1.5.0",
       "_model_name": "ProgressStyleModel",
       "_view_count": null,
       "_view_module": "@jupyter-widgets/base",
       "_view_module_version": "1.2.0",
       "_view_name": "StyleView",
       "bar_color": null,
       "description_width": ""
      }
     },
     "7cfb390f04d54fc9b4eab3a27ee5dfb6": {
      "model_module": "@jupyter-widgets/base",
      "model_module_version": "1.2.0",
      "model_name": "LayoutModel",
      "state": {
       "_model_module": "@jupyter-widgets/base",
       "_model_module_version": "1.2.0",
       "_model_name": "LayoutModel",
       "_view_count": null,
       "_view_module": "@jupyter-widgets/base",
       "_view_module_version": "1.2.0",
       "_view_name": "LayoutView",
       "align_content": null,
       "align_items": null,
       "align_self": null,
       "border": null,
       "bottom": null,
       "display": null,
       "flex": null,
       "flex_flow": null,
       "grid_area": null,
       "grid_auto_columns": null,
       "grid_auto_flow": null,
       "grid_auto_rows": null,
       "grid_column": null,
       "grid_gap": null,
       "grid_row": null,
       "grid_template_areas": null,
       "grid_template_columns": null,
       "grid_template_rows": null,
       "height": null,
       "justify_content": null,
       "justify_items": null,
       "left": null,
       "margin": null,
       "max_height": null,
       "max_width": null,
       "min_height": null,
       "min_width": null,
       "object_fit": null,
       "object_position": null,
       "order": null,
       "overflow": null,
       "overflow_x": null,
       "overflow_y": null,
       "padding": null,
       "right": null,
       "top": null,
       "visibility": null,
       "width": null
      }
     },
     "9e30b7b7ec6f429bb19553af28eea01f": {
      "model_module": "@jupyter-widgets/base",
      "model_module_version": "1.2.0",
      "model_name": "LayoutModel",
      "state": {
       "_model_module": "@jupyter-widgets/base",
       "_model_module_version": "1.2.0",
       "_model_name": "LayoutModel",
       "_view_count": null,
       "_view_module": "@jupyter-widgets/base",
       "_view_module_version": "1.2.0",
       "_view_name": "LayoutView",
       "align_content": null,
       "align_items": null,
       "align_self": null,
       "border": null,
       "bottom": null,
       "display": null,
       "flex": null,
       "flex_flow": null,
       "grid_area": null,
       "grid_auto_columns": null,
       "grid_auto_flow": null,
       "grid_auto_rows": null,
       "grid_column": null,
       "grid_gap": null,
       "grid_row": null,
       "grid_template_areas": null,
       "grid_template_columns": null,
       "grid_template_rows": null,
       "height": null,
       "justify_content": null,
       "justify_items": null,
       "left": null,
       "margin": null,
       "max_height": null,
       "max_width": null,
       "min_height": null,
       "min_width": null,
       "object_fit": null,
       "object_position": null,
       "order": null,
       "overflow": null,
       "overflow_x": null,
       "overflow_y": null,
       "padding": null,
       "right": null,
       "top": null,
       "visibility": null,
       "width": null
      }
     },
     "a02089a912554381b6270b107e4c8fbc": {
      "model_module": "@jupyter-widgets/base",
      "model_module_version": "1.2.0",
      "model_name": "LayoutModel",
      "state": {
       "_model_module": "@jupyter-widgets/base",
       "_model_module_version": "1.2.0",
       "_model_name": "LayoutModel",
       "_view_count": null,
       "_view_module": "@jupyter-widgets/base",
       "_view_module_version": "1.2.0",
       "_view_name": "LayoutView",
       "align_content": null,
       "align_items": null,
       "align_self": null,
       "border": null,
       "bottom": null,
       "display": null,
       "flex": null,
       "flex_flow": null,
       "grid_area": null,
       "grid_auto_columns": null,
       "grid_auto_flow": null,
       "grid_auto_rows": null,
       "grid_column": null,
       "grid_gap": null,
       "grid_row": null,
       "grid_template_areas": null,
       "grid_template_columns": null,
       "grid_template_rows": null,
       "height": null,
       "justify_content": null,
       "justify_items": null,
       "left": null,
       "margin": null,
       "max_height": null,
       "max_width": null,
       "min_height": null,
       "min_width": null,
       "object_fit": null,
       "object_position": null,
       "order": null,
       "overflow": null,
       "overflow_x": null,
       "overflow_y": null,
       "padding": null,
       "right": null,
       "top": null,
       "visibility": null,
       "width": null
      }
     },
     "ad321b8b84d64206b7a2132d3f79c343": {
      "model_module": "@jupyter-widgets/base",
      "model_module_version": "1.2.0",
      "model_name": "LayoutModel",
      "state": {
       "_model_module": "@jupyter-widgets/base",
       "_model_module_version": "1.2.0",
       "_model_name": "LayoutModel",
       "_view_count": null,
       "_view_module": "@jupyter-widgets/base",
       "_view_module_version": "1.2.0",
       "_view_name": "LayoutView",
       "align_content": null,
       "align_items": null,
       "align_self": null,
       "border": null,
       "bottom": null,
       "display": null,
       "flex": null,
       "flex_flow": null,
       "grid_area": null,
       "grid_auto_columns": null,
       "grid_auto_flow": null,
       "grid_auto_rows": null,
       "grid_column": null,
       "grid_gap": null,
       "grid_row": null,
       "grid_template_areas": null,
       "grid_template_columns": null,
       "grid_template_rows": null,
       "height": null,
       "justify_content": null,
       "justify_items": null,
       "left": null,
       "margin": null,
       "max_height": null,
       "max_width": null,
       "min_height": null,
       "min_width": null,
       "object_fit": null,
       "object_position": null,
       "order": null,
       "overflow": null,
       "overflow_x": null,
       "overflow_y": null,
       "padding": null,
       "right": null,
       "top": null,
       "visibility": null,
       "width": null
      }
     },
     "d1ae1ef146994cadb85d644c1a4b384f": {
      "model_module": "@jupyter-widgets/controls",
      "model_module_version": "1.5.0",
      "model_name": "DescriptionStyleModel",
      "state": {
       "_model_module": "@jupyter-widgets/controls",
       "_model_module_version": "1.5.0",
       "_model_name": "DescriptionStyleModel",
       "_view_count": null,
       "_view_module": "@jupyter-widgets/base",
       "_view_module_version": "1.2.0",
       "_view_name": "StyleView",
       "description_width": ""
      }
     },
     "d1b3e9919dda43f793dd5f954f71933a": {
      "model_module": "@jupyter-widgets/controls",
      "model_module_version": "1.5.0",
      "model_name": "HBoxModel",
      "state": {
       "_dom_classes": [],
       "_model_module": "@jupyter-widgets/controls",
       "_model_module_version": "1.5.0",
       "_model_name": "HBoxModel",
       "_view_count": null,
       "_view_module": "@jupyter-widgets/controls",
       "_view_module_version": "1.5.0",
       "_view_name": "HBoxView",
       "box_style": "",
       "children": [
        "IPY_MODEL_74de9aced11747128c21ea8c82c34d4f",
        "IPY_MODEL_703f71af3a974bb19dea0d8b219739e8",
        "IPY_MODEL_ecbf3bd22de24a328001ec6746bd6a36"
       ],
       "layout": "IPY_MODEL_ad321b8b84d64206b7a2132d3f79c343"
      }
     },
     "ecbf3bd22de24a328001ec6746bd6a36": {
      "model_module": "@jupyter-widgets/controls",
      "model_module_version": "1.5.0",
      "model_name": "HTMLModel",
      "state": {
       "_dom_classes": [],
       "_model_module": "@jupyter-widgets/controls",
       "_model_module_version": "1.5.0",
       "_model_name": "HTMLModel",
       "_view_count": null,
       "_view_module": "@jupyter-widgets/controls",
       "_view_module_version": "1.5.0",
       "_view_name": "HTMLView",
       "description": "",
       "description_tooltip": null,
       "layout": "IPY_MODEL_7cfb390f04d54fc9b4eab3a27ee5dfb6",
       "placeholder": "​",
       "style": "IPY_MODEL_ef0685d039f84536af0f98c8dbfd2fb2",
       "value": " 346M/346M [00:28&lt;00:00, 21.6MB/s]"
      }
     },
     "ef0685d039f84536af0f98c8dbfd2fb2": {
      "model_module": "@jupyter-widgets/controls",
      "model_module_version": "1.5.0",
      "model_name": "DescriptionStyleModel",
      "state": {
       "_model_module": "@jupyter-widgets/controls",
       "_model_module_version": "1.5.0",
       "_model_name": "DescriptionStyleModel",
       "_view_count": null,
       "_view_module": "@jupyter-widgets/base",
       "_view_module_version": "1.2.0",
       "_view_name": "StyleView",
       "description_width": ""
      }
     }
    },
    "version_major": 2,
    "version_minor": 0
   }
  }
 },
 "nbformat": 4,
 "nbformat_minor": 5
}
